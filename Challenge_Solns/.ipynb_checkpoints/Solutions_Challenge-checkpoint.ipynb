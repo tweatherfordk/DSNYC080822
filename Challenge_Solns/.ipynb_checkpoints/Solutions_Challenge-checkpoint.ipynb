{
 "cells": [
  {
   "cell_type": "markdown",
   "metadata": {},
   "source": [
    "### First approach straing counting using permutation formulas"
   ]
  },
  {
   "cell_type": "markdown",
   "metadata": {
    "slideshow": {
     "slide_type": "slide"
    }
   },
   "source": [
    "#### Step 1: Enumerate the total number of ways I can select two trashcans"
   ]
  },
  {
   "cell_type": "markdown",
   "metadata": {
    "slideshow": {
     "slide_type": "fragment"
    }
   },
   "source": [
    "The total number of ways that I can pick $r$ out of $N$ is:\n",
    "$$ \\frac{N!}{(N - r)!} $$"
   ]
  },
  {
   "cell_type": "markdown",
   "metadata": {},
   "source": [
    "In our case $N = 40$ and $ r = 2 $:"
   ]
  },
  {
   "cell_type": "code",
   "execution_count": 2,
   "metadata": {
    "cell_style": "center"
   },
   "outputs": [
    {
     "data": {
      "text/plain": [
       "1560.0"
      ]
     },
     "execution_count": 2,
     "metadata": {},
     "output_type": "execute_result"
    }
   ],
   "source": [
    "from math import factorial\n",
    "\n",
    "N = 40 # of trashbins\n",
    "r = 2 # I am selecting\n",
    "num_in_each_color = 10\n",
    "\n",
    "total_num_poss = factorial(N)/factorial(N - r)\n",
    "total_num_poss"
   ]
  },
  {
   "cell_type": "markdown",
   "metadata": {
    "cell_style": "center"
   },
   "source": [
    "Now number of ways that I can select two trashbins with different colors and different colors.\n",
    "\n",
    "- First selection is trivial: I can select any of the 40 trashbins\n",
    "\n",
    "After this is where our thinking must come in."
   ]
  },
  {
   "cell_type": "code",
   "execution_count": 3,
   "metadata": {},
   "outputs": [],
   "source": [
    "num_choices_first = 40"
   ]
  },
  {
   "cell_type": "markdown",
   "metadata": {
    "cell_style": "center",
    "slideshow": {
     "slide_type": "subslide"
    }
   },
   "source": [
    "#### The second trash bin "
   ]
  },
  {
   "cell_type": "markdown",
   "metadata": {
    "cell_style": "split"
   },
   "source": [
    "We have picked one of the four colors:\n",
    "- This means there are three colors left. \n",
    "\n",
    "Each color has 10 bins."
   ]
  },
  {
   "cell_type": "code",
   "execution_count": 4,
   "metadata": {
    "cell_style": "split"
   },
   "outputs": [],
   "source": [
    "colors_left = (4 - 1)"
   ]
  },
  {
   "cell_type": "markdown",
   "metadata": {
    "cell_style": "split"
   },
   "source": [
    "Number bins that are not of the color we already chose:"
   ]
  },
  {
   "cell_type": "code",
   "execution_count": 5,
   "metadata": {
    "cell_style": "center"
   },
   "outputs": [],
   "source": [
    "bins_not_first_color = colors_left*num_in_each_color"
   ]
  },
  {
   "cell_type": "markdown",
   "metadata": {
    "slideshow": {
     "slide_type": "slide"
    }
   },
   "source": [
    "#### But we are not done yet"
   ]
  },
  {
   "cell_type": "markdown",
   "metadata": {
    "cell_style": "split",
    "slideshow": {
     "slide_type": "fragment"
    }
   },
   "source": [
    "Also needed a bin that is not the same number:\n",
    "- Imagine that we selected (blue, 2) initially"
   ]
  },
  {
   "cell_type": "markdown",
   "metadata": {
    "cell_style": "split",
    "slideshow": {
     "slide_type": "fragment"
    }
   },
   "source": [
    "Then **within** the bins that are not the first color:\n",
    "- There are 3 that have the same number as our initial pick.\n",
    "\n",
    "**Need to subtract these three**"
   ]
  },
  {
   "cell_type": "code",
   "execution_count": 6,
   "metadata": {
    "cell_style": "split",
    "slideshow": {
     "slide_type": "slide"
    }
   },
   "outputs": [
    {
     "data": {
      "text/plain": [
       "27"
      ]
     },
     "execution_count": 6,
     "metadata": {},
     "output_type": "execute_result"
    }
   ],
   "source": [
    "num_choices_2nd = bins_not_first_color - 3\n",
    "num_choices_2nd"
   ]
  },
  {
   "cell_type": "markdown",
   "metadata": {
    "cell_style": "split",
    "slideshow": {
     "slide_type": "fragment"
    }
   },
   "source": [
    "Total number of choices with color different than first and with different number."
   ]
  },
  {
   "cell_type": "markdown",
   "metadata": {},
   "source": [
    "Thus the total number of ways of picking two garbage cans with different color and number is:"
   ]
  },
  {
   "cell_type": "code",
   "execution_count": 7,
   "metadata": {},
   "outputs": [
    {
     "data": {
      "text/plain": [
       "1080"
      ]
     },
     "execution_count": 7,
     "metadata": {},
     "output_type": "execute_result"
    }
   ],
   "source": [
    "N_diffcolornum = num_choices_first*num_choices_2nd\n",
    "N_diffcolornum"
   ]
  },
  {
   "cell_type": "markdown",
   "metadata": {},
   "source": [
    "Normalizing by the total number of ways of picking two bins:"
   ]
  },
  {
   "cell_type": "code",
   "execution_count": 8,
   "metadata": {},
   "outputs": [
    {
     "data": {
      "text/plain": [
       "0.6923076923076923"
      ]
     },
     "execution_count": 8,
     "metadata": {},
     "output_type": "execute_result"
    }
   ],
   "source": [
    "N_diffcolornum/total_num_poss"
   ]
  },
  {
   "cell_type": "markdown",
   "metadata": {
    "slideshow": {
     "slide_type": "slide"
    }
   },
   "source": [
    "### Second approach -- counting: but with sample spaces, events, and itertools"
   ]
  },
  {
   "cell_type": "markdown",
   "metadata": {},
   "source": [
    "#### Itertools: construct sample space"
   ]
  },
  {
   "cell_type": "code",
   "execution_count": 10,
   "metadata": {
    "slideshow": {
     "slide_type": "fragment"
    }
   },
   "outputs": [
    {
     "name": "stdout",
     "output_type": "stream",
     "text": [
      "{('G', 4), ('G', 1), ('G', 7), ('Y', 2), ('B', 1), ('Y', 5), ('B', 4), ('Y', 8), ('B', 7), ('R', 1), ('R', 7), ('R', 4), ('G', 0), ('G', 3), ('G', 9), ('Y', 4), ('B', 3), ('G', 6), ('Y', 1), ('B', 0), ('B', 6), ('Y', 7), ('B', 9), ('R', 0), ('R', 3), ('R', 6), ('R', 9), ('G', 2), ('Y', 0), ('G', 5), ('Y', 6), ('B', 5), ('G', 8), ('Y', 3), ('B', 2), ('B', 8), ('Y', 9), ('R', 5), ('R', 2), ('R', 8)}\n"
     ]
    }
   ],
   "source": [
    "from itertools import product\n",
    "\n",
    "color_list = ['R', 'G', 'B', 'Y']\n",
    "num_list = list(range(10))\n",
    "\n",
    "orig_sample_space = set(product(color_list, num_list))\n",
    "print(orig_sample_space)"
   ]
  },
  {
   "cell_type": "markdown",
   "metadata": {},
   "source": [
    "#### Number of ways to take 2 from sample space. "
   ]
  },
  {
   "cell_type": "code",
   "execution_count": 11,
   "metadata": {},
   "outputs": [
    {
     "data": {
      "text/plain": [
       "1560"
      ]
     },
     "execution_count": 11,
     "metadata": {},
     "output_type": "execute_result"
    }
   ],
   "source": [
    "from itertools import permutations\n",
    "\n",
    "N_tot = len(list(permutations(orig_sample_space, 2)))\n",
    "N_tot"
   ]
  },
  {
   "cell_type": "markdown",
   "metadata": {},
   "source": [
    "#### The first selection"
   ]
  },
  {
   "cell_type": "markdown",
   "metadata": {},
   "source": [
    "The number of possibilities in first selection:"
   ]
  },
  {
   "cell_type": "code",
   "execution_count": 12,
   "metadata": {},
   "outputs": [
    {
     "data": {
      "text/plain": [
       "40"
      ]
     },
     "execution_count": 12,
     "metadata": {},
     "output_type": "execute_result"
    }
   ],
   "source": [
    "N_first = len(orig_sample_space)\n",
    "N_first"
   ]
  },
  {
   "cell_type": "markdown",
   "metadata": {},
   "source": [
    "#### After the first selection"
   ]
  },
  {
   "cell_type": "markdown",
   "metadata": {
    "slideshow": {
     "slide_type": "slide"
    }
   },
   "source": [
    "Selecting an element alters our sample space:"
   ]
  },
  {
   "cell_type": "code",
   "execution_count": 16,
   "metadata": {
    "cell_style": "split"
   },
   "outputs": [
    {
     "name": "stdout",
     "output_type": "stream",
     "text": [
      "{('G', 4), ('Y', 2), ('G', 7), ('G', 1), ('B', 1), ('Y', 5), ('B', 4), ('Y', 8), ('B', 7), ('R', 1), ('R', 7), ('R', 4), ('G', 0), ('G', 3), ('G', 9), ('Y', 4), ('B', 3), ('G', 6), ('Y', 1), ('B', 0), ('B', 6), ('Y', 7), ('B', 9), ('R', 0), ('R', 3), ('R', 6), ('R', 9), ('G', 2), ('Y', 0), ('G', 5), ('Y', 6), ('B', 5), ('G', 8), ('Y', 3), ('B', 8), ('Y', 9), ('R', 5), ('R', 2), ('R', 8)}\n"
     ]
    }
   ],
   "source": [
    "from copy import deepcopy\n",
    "new_sample_space = deepcopy(orig_sample_space)\n",
    "\n",
    "new_sample_space.remove(('B', 2))\n",
    "print(new_sample_space)"
   ]
  },
  {
   "cell_type": "code",
   "execution_count": 17,
   "metadata": {
    "cell_style": "split"
   },
   "outputs": [
    {
     "data": {
      "text/plain": [
       "False"
      ]
     },
     "execution_count": 17,
     "metadata": {},
     "output_type": "execute_result"
    }
   ],
   "source": [
    "('B', 2) in new_sample_space"
   ]
  },
  {
   "cell_type": "markdown",
   "metadata": {
    "cell_style": "split"
   },
   "source": [
    "Of this we want to construct event:\n",
    "- Event where color is not 'B'\n",
    "- and where number is not 2"
   ]
  },
  {
   "cell_type": "markdown",
   "metadata": {},
   "source": [
    "#### The second selection"
   ]
  },
  {
   "cell_type": "code",
   "execution_count": 20,
   "metadata": {},
   "outputs": [
    {
     "name": "stdout",
     "output_type": "stream",
     "text": [
      "{('G', 4), ('G', 1), ('G', 7), ('Y', 5), ('Y', 8), ('R', 1), ('R', 7), ('R', 4), ('G', 0), ('G', 3), ('G', 9), ('Y', 4), ('Y', 1), ('G', 6), ('Y', 7), ('R', 0), ('R', 3), ('R', 6), ('R', 9), ('Y', 0), ('G', 5), ('Y', 6), ('Y', 3), ('G', 8), ('Y', 9), ('R', 5), ('R', 8)}\n"
     ]
    }
   ],
   "source": [
    "event = {elem for elem in new_sample_space if ((elem[0] !='B') & (elem[1] != 2))}\n",
    "print(event)"
   ]
  },
  {
   "cell_type": "code",
   "execution_count": 22,
   "metadata": {},
   "outputs": [
    {
     "name": "stdout",
     "output_type": "stream",
     "text": [
      "27\n"
     ]
    }
   ],
   "source": [
    "N_second = len(event)\n",
    "print(N_second)"
   ]
  },
  {
   "cell_type": "markdown",
   "metadata": {},
   "source": [
    "#### Putting it altogether\n",
    "\n",
    "Total probability is then:"
   ]
  },
  {
   "cell_type": "code",
   "execution_count": 23,
   "metadata": {},
   "outputs": [
    {
     "data": {
      "text/plain": [
       "0.6923076923076923"
      ]
     },
     "execution_count": 23,
     "metadata": {},
     "output_type": "execute_result"
    }
   ],
   "source": [
    "N_first*N_second/N_tot"
   ]
  },
  {
   "cell_type": "markdown",
   "metadata": {
    "slideshow": {
     "slide_type": "slide"
    }
   },
   "source": [
    "### Third way: Formally using conditionals and the property of complementarity"
   ]
  },
  {
   "cell_type": "markdown",
   "metadata": {
    "cell_style": "split"
   },
   "source": [
    "Brendan thought that it might be easier to think about this in terms of probabilities:\n",
    " - Get the probability for making the first choice\n",
    " - Get the probability for making the second choice:\n",
    "     - **but** here we subset on the remaining colors different from our first choice\n",
    "     - with the same number\n",
    "    "
   ]
  },
  {
   "cell_type": "markdown",
   "metadata": {
    "cell_style": "split"
   },
   "source": [
    "Probability of making a choice:"
   ]
  },
  {
   "cell_type": "code",
   "execution_count": 24,
   "metadata": {
    "cell_style": "split"
   },
   "outputs": [
    {
     "data": {
      "text/plain": [
       "1.0"
      ]
     },
     "execution_count": 24,
     "metadata": {},
     "output_type": "execute_result"
    }
   ],
   "source": [
    "proba1 = N/N\n",
    "proba1"
   ]
  },
  {
   "cell_type": "markdown",
   "metadata": {
    "cell_style": "split"
   },
   "source": [
    "Now I pick blue and 2."
   ]
  },
  {
   "cell_type": "markdown",
   "metadata": {
    "cell_style": "split"
   },
   "source": [
    "For the second choice we have a different sample space:\n",
    "\n",
    "- There are 39 total possibilities left.\n",
    "\n",
    "Of these 30 bins left: different colors."
   ]
  },
  {
   "cell_type": "markdown",
   "metadata": {
    "cell_style": "split"
   },
   "source": [
    "P(different color) = $ \\frac{30}{39}$"
   ]
  },
  {
   "cell_type": "markdown",
   "metadata": {
    "cell_style": "center"
   },
   "source": [
    "Within the space of colors different to blue:"
   ]
  },
  {
   "cell_type": "markdown",
   "metadata": {
    "slideshow": {
     "slide_type": "slide"
    }
   },
   "source": [
    "Probability I get *same* number out of possibilities with different color: $3/30$\n",
    "\n",
    "This is the conditional:\n",
    "\n",
    "P(same number | different color)"
   ]
  },
  {
   "cell_type": "markdown",
   "metadata": {},
   "source": [
    "The joint probability then is:"
   ]
  },
  {
   "cell_type": "markdown",
   "metadata": {},
   "source": [
    "P(same number, different color) = P(same number | different color)P(different color) =\n",
    "\n",
    "$$ \\frac{30}{39}\\cdot \\frac{3}{30} $$"
   ]
  },
  {
   "cell_type": "markdown",
   "metadata": {},
   "source": [
    "And using complementarity:"
   ]
  },
  {
   "cell_type": "markdown",
   "metadata": {},
   "source": [
    "P(different number, different color) = (1 - P(same number | different color)) P(different color)"
   ]
  },
  {
   "cell_type": "markdown",
   "metadata": {
    "cell_style": "center"
   },
   "source": [
    " $\\frac{40}{40}\\cdot \\frac{30}{39}\\cdot(1 - \\frac{3}{30})$"
   ]
  },
  {
   "cell_type": "code",
   "execution_count": 25,
   "metadata": {},
   "outputs": [
    {
     "data": {
      "text/plain": [
       "0.6923076923076924"
      ]
     },
     "execution_count": 25,
     "metadata": {},
     "output_type": "execute_result"
    }
   ],
   "source": [
    "(30/39)*(1 - 3/30)"
   ]
  }
 ],
 "metadata": {
  "celltoolbar": "Slideshow",
  "kernelspec": {
   "display_name": "Python 3",
   "language": "python",
   "name": "python3"
  },
  "language_info": {
   "codemirror_mode": {
    "name": "ipython",
    "version": 3
   },
   "file_extension": ".py",
   "mimetype": "text/x-python",
   "name": "python",
   "nbconvert_exporter": "python",
   "pygments_lexer": "ipython3",
   "version": "3.8.5"
  }
 },
 "nbformat": 4,
 "nbformat_minor": 5
}
