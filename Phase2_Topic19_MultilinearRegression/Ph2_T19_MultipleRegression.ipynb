{
 "cells": [
  {
   "cell_type": "markdown",
   "metadata": {
    "slideshow": {
     "slide_type": "slide"
    }
   },
   "source": [
    "<div style=\"color:white;\n",
    "           display:fill;\n",
    "           border-radius:5px;\n",
    "           background-color:#5642C5;\n",
    "           font-size:200%;\n",
    "           font-family:Arial;letter-spacing:0.5px\">\n",
    "\n",
    "<p width = 20%, style=\"padding: 10px;\n",
    "              color:white;\">\n",
    "Multivariate Linear Regression\n",
    "              \n",
    "</p>\n",
    "</div>\n",
    "\n",
    "Data Science Cohort Live NYC Feb 2022\n",
    "<p>Phase 2: Topic 19</p>\n",
    "<br>\n",
    "<br>\n",
    "\n",
    "<div align = \"right\">\n",
    "<img src=\"Images/flatiron-school-logo.png\" align = \"right\" width=\"200\"/>\n",
    "</div>\n",
    "    \n",
    "    "
   ]
  },
  {
   "cell_type": "markdown",
   "metadata": {
    "slideshow": {
     "slide_type": "slide"
    }
   },
   "source": [
    "\n",
    "The king wants you to:\n",
    "- estimate the average life expectancy of his subjects. \n",
    "- speculate on what factors might be at play in determining the average life of his subject. \n",
    "\n"
   ]
  },
  {
   "cell_type": "markdown",
   "metadata": {
    "slideshow": {
     "slide_type": "slide"
    }
   },
   "source": [
    "WHO: compiled data across many countries\n",
    "- socioeconomic data\n",
    "- health data \n",
    "- average life expectancy. "
   ]
  },
  {
   "cell_type": "markdown",
   "metadata": {
    "cell_style": "split",
    "slideshow": {
     "slide_type": "slide"
    }
   },
   "source": [
    "First task:\n",
    "\n",
    "- Understand factors affecting life expectancy throughout the world\n",
    "- Do this with multivariate linear regression."
   ]
  },
  {
   "cell_type": "markdown",
   "metadata": {
    "cell_style": "split",
    "slideshow": {
     "slide_type": "fragment"
    }
   },
   "source": [
    "Later task:\n",
    "\n",
    "*Can we use this to help us with our problem in Zamunda?*"
   ]
  },
  {
   "cell_type": "code",
   "execution_count": 1,
<<<<<<< HEAD
=======
   "id": "bc9b5169",
>>>>>>> 7d614c9528e641d82efe154eef67e6fd1426fe42
   "metadata": {
    "slideshow": {
     "slide_type": "skip"
    }
   },
   "outputs": [],
   "source": [
    "import numpy as np\n",
    "import pandas as pd\n",
    "\n",
    "import seaborn as sns\n",
    "import statsmodels.api as sm\n",
    "\n",
    "\n",
    "import matplotlib.pyplot as plt\n",
    "\n",
    "\n",
    "sns.set_context(\"notebook\")\n",
    "sns.set_palette(\"tab10\")\n",
    "\n"
   ]
  },
  {
   "cell_type": "markdown",
   "metadata": {
    "slideshow": {
     "slide_type": "slide"
    }
   },
   "source": [
    "WHO dataset contains data from 2000-2015 on average life expectancy and the prevalance of certain diseases (HIV, alcoholism, polio, etc.) and socioeconomic factors (GDP, schooling) across many different countries."
   ]
  },
  {
   "cell_type": "code",
<<<<<<< HEAD
   "execution_count": 9,
=======
   "execution_count": 38,
   "id": "5626ee33",
>>>>>>> 7d614c9528e641d82efe154eef67e6fd1426fe42
   "metadata": {
    "slideshow": {
     "slide_type": "fragment"
    }
   },
   "outputs": [],
   "source": [
    "# load data\n",
    "file_path = \"Data/WHO_life.csv\"\n",
    "df = pd.read_csv(file_path)"
   ]
  },
  {
   "cell_type": "code",
<<<<<<< HEAD
   "execution_count": 22,
=======
   "execution_count": 39,
   "id": "656839b9",
>>>>>>> 7d614c9528e641d82efe154eef67e6fd1426fe42
   "metadata": {
    "scrolled": true,
    "slideshow": {
     "slide_type": "fragment"
    }
   },
   "outputs": [
    {
     "data": {
      "text/html": [
       "<div>\n",
       "<style scoped>\n",
       "    .dataframe tbody tr th:only-of-type {\n",
       "        vertical-align: middle;\n",
       "    }\n",
       "\n",
       "    .dataframe tbody tr th {\n",
       "        vertical-align: top;\n",
       "    }\n",
       "\n",
       "    .dataframe thead th {\n",
       "        text-align: right;\n",
       "    }\n",
       "</style>\n",
       "<table border=\"1\" class=\"dataframe\">\n",
       "  <thead>\n",
       "    <tr style=\"text-align: right;\">\n",
       "      <th></th>\n",
       "      <th>Life expectancy</th>\n",
       "      <th>Alcohol</th>\n",
       "      <th>percentage expenditure</th>\n",
       "      <th>Hepatitis B</th>\n",
       "      <th>Measles</th>\n",
       "      <th>BMI</th>\n",
       "      <th>under-five deaths</th>\n",
       "      <th>Polio</th>\n",
       "      <th>Total expenditure</th>\n",
       "      <th>Diphtheria</th>\n",
       "      <th>HIV/AIDS</th>\n",
       "      <th>GDP</th>\n",
       "      <th>Population</th>\n",
       "      <th>thinness  1-19 years</th>\n",
       "      <th>thinness 5-9 years</th>\n",
       "      <th>Income composition of resources</th>\n",
       "      <th>Schooling</th>\n",
       "    </tr>\n",
       "  </thead>\n",
       "  <tbody>\n",
       "    <tr>\n",
       "      <th>0</th>\n",
       "      <td>65.0</td>\n",
       "      <td>0.01</td>\n",
       "      <td>71.279624</td>\n",
       "      <td>65.0</td>\n",
       "      <td>1154</td>\n",
       "      <td>19.1</td>\n",
       "      <td>83</td>\n",
       "      <td>6.0</td>\n",
       "      <td>8.16</td>\n",
       "      <td>65.0</td>\n",
       "      <td>0.1</td>\n",
       "      <td>584.259210</td>\n",
       "      <td>33736494.0</td>\n",
       "      <td>17.2</td>\n",
       "      <td>17.3</td>\n",
       "      <td>0.479</td>\n",
       "      <td>10.1</td>\n",
       "    </tr>\n",
       "    <tr>\n",
       "      <th>1</th>\n",
       "      <td>59.9</td>\n",
       "      <td>0.01</td>\n",
       "      <td>73.523582</td>\n",
       "      <td>62.0</td>\n",
       "      <td>492</td>\n",
       "      <td>18.6</td>\n",
       "      <td>86</td>\n",
       "      <td>58.0</td>\n",
       "      <td>8.18</td>\n",
       "      <td>62.0</td>\n",
       "      <td>0.1</td>\n",
       "      <td>612.696514</td>\n",
       "      <td>327582.0</td>\n",
       "      <td>17.5</td>\n",
       "      <td>17.5</td>\n",
       "      <td>0.476</td>\n",
       "      <td>10.0</td>\n",
       "    </tr>\n",
       "    <tr>\n",
       "      <th>2</th>\n",
       "      <td>59.9</td>\n",
       "      <td>0.01</td>\n",
       "      <td>73.219243</td>\n",
       "      <td>64.0</td>\n",
       "      <td>430</td>\n",
       "      <td>18.1</td>\n",
       "      <td>89</td>\n",
       "      <td>62.0</td>\n",
       "      <td>8.13</td>\n",
       "      <td>64.0</td>\n",
       "      <td>0.1</td>\n",
       "      <td>631.744976</td>\n",
       "      <td>31731688.0</td>\n",
       "      <td>17.7</td>\n",
       "      <td>17.7</td>\n",
       "      <td>0.470</td>\n",
       "      <td>9.9</td>\n",
       "    </tr>\n",
       "    <tr>\n",
       "      <th>3</th>\n",
       "      <td>59.5</td>\n",
       "      <td>0.01</td>\n",
       "      <td>78.184215</td>\n",
       "      <td>67.0</td>\n",
       "      <td>2787</td>\n",
       "      <td>17.6</td>\n",
       "      <td>93</td>\n",
       "      <td>67.0</td>\n",
       "      <td>8.52</td>\n",
       "      <td>67.0</td>\n",
       "      <td>0.1</td>\n",
       "      <td>669.959000</td>\n",
       "      <td>3696958.0</td>\n",
       "      <td>17.9</td>\n",
       "      <td>18.0</td>\n",
       "      <td>0.463</td>\n",
       "      <td>9.8</td>\n",
       "    </tr>\n",
       "    <tr>\n",
       "      <th>4</th>\n",
       "      <td>59.2</td>\n",
       "      <td>0.01</td>\n",
       "      <td>7.097109</td>\n",
       "      <td>68.0</td>\n",
       "      <td>3013</td>\n",
       "      <td>17.2</td>\n",
       "      <td>97</td>\n",
       "      <td>68.0</td>\n",
       "      <td>7.87</td>\n",
       "      <td>68.0</td>\n",
       "      <td>0.1</td>\n",
       "      <td>63.537231</td>\n",
       "      <td>2978599.0</td>\n",
       "      <td>18.2</td>\n",
       "      <td>18.2</td>\n",
       "      <td>0.454</td>\n",
       "      <td>9.5</td>\n",
       "    </tr>\n",
       "  </tbody>\n",
       "</table>\n",
       "</div>"
      ],
      "text/plain": [
       "   Life expectancy   Alcohol  percentage expenditure  Hepatitis B  Measles   \\\n",
       "0              65.0     0.01               71.279624         65.0      1154   \n",
       "1              59.9     0.01               73.523582         62.0       492   \n",
       "2              59.9     0.01               73.219243         64.0       430   \n",
       "3              59.5     0.01               78.184215         67.0      2787   \n",
       "4              59.2     0.01                7.097109         68.0      3013   \n",
       "\n",
       "    BMI   under-five deaths   Polio  Total expenditure  Diphtheria   \\\n",
       "0   19.1                  83    6.0               8.16         65.0   \n",
       "1   18.6                  86   58.0               8.18         62.0   \n",
       "2   18.1                  89   62.0               8.13         64.0   \n",
       "3   17.6                  93   67.0               8.52         67.0   \n",
       "4   17.2                  97   68.0               7.87         68.0   \n",
       "\n",
       "    HIV/AIDS         GDP  Population   thinness  1-19 years  \\\n",
       "0        0.1  584.259210  33736494.0                   17.2   \n",
       "1        0.1  612.696514    327582.0                   17.5   \n",
       "2        0.1  631.744976  31731688.0                   17.7   \n",
       "3        0.1  669.959000   3696958.0                   17.9   \n",
       "4        0.1   63.537231   2978599.0                   18.2   \n",
       "\n",
       "    thinness 5-9 years  Income composition of resources  Schooling  \n",
       "0                 17.3                            0.479       10.1  \n",
       "1                 17.5                            0.476       10.0  \n",
       "2                 17.7                            0.470        9.9  \n",
       "3                 18.0                            0.463        9.8  \n",
       "4                 18.2                            0.454        9.5  "
      ]
     },
<<<<<<< HEAD
     "execution_count": 22,
=======
     "execution_count": 39,
>>>>>>> 7d614c9528e641d82efe154eef67e6fd1426fe42
     "metadata": {},
     "output_type": "execute_result"
    }
   ],
   "source": [
    "df.head()"
   ]
  },
  {
   "cell_type": "code",
<<<<<<< HEAD
   "execution_count": 20,
=======
   "execution_count": 40,
   "id": "33146ddd",
>>>>>>> 7d614c9528e641d82efe154eef67e6fd1426fe42
   "metadata": {
    "slideshow": {
     "slide_type": "slide"
    }
   },
   "outputs": [
    {
     "data": {
      "text/plain": [
       "Index(['Country', 'Year', 'Status', 'Life expectancy ', 'Adult Mortality',\n",
       "       'infant deaths', 'Alcohol', 'percentage expenditure', 'Hepatitis B',\n",
       "       'Measles ', ' BMI ', 'under-five deaths ', 'Polio', 'Total expenditure',\n",
       "       'Diphtheria ', ' HIV/AIDS', 'GDP', 'Population',\n",
       "       ' thinness  1-19 years', ' thinness 5-9 years',\n",
       "       'Income composition of resources', 'Schooling'],\n",
       "      dtype='object')"
      ]
     },
<<<<<<< HEAD
     "execution_count": 20,
=======
     "execution_count": 40,
>>>>>>> 7d614c9528e641d82efe154eef67e6fd1426fe42
     "metadata": {},
     "output_type": "execute_result"
    }
   ],
   "source": [
    "df.columns"
   ]
  },
  {
   "cell_type": "markdown",
   "metadata": {
    "slideshow": {
     "slide_type": "fragment"
    }
   },
   "source": [
    "Let's drop some columns that are too obviously correlated with the life expectancy (e.g., adult mortality, as an example). Also let's try and see if we can develop a robust relationship that is applicable  across country or country status. Let's also remove the year as a variable (data is over the past 15 years."
   ]
  },
  {
   "cell_type": "code",
<<<<<<< HEAD
   "execution_count": 21,
=======
   "execution_count": 42,
   "id": "5e29449f",
>>>>>>> 7d614c9528e641d82efe154eef67e6fd1426fe42
   "metadata": {
    "slideshow": {
     "slide_type": "fragment"
    }
   },
   "outputs": [],
   "source": [
    "df = df.drop(columns = ['Adult Mortality', 'infant deaths', 'Year', 'Status', 'under-five deaths ', 'Country'])"
   ]
  },
  {
   "cell_type": "code",
<<<<<<< HEAD
   "execution_count": 7,
=======
   "execution_count": 43,
   "id": "3ba5bb08",
>>>>>>> 7d614c9528e641d82efe154eef67e6fd1426fe42
   "metadata": {
    "slideshow": {
     "slide_type": "slide"
    }
   },
   "outputs": [
    {
     "name": "stdout",
     "output_type": "stream",
     "text": [
      "<class 'pandas.core.frame.DataFrame'>\n",
      "RangeIndex: 2938 entries, 0 to 2937\n",
      "Data columns (total 16 columns):\n",
      " #   Column                           Non-Null Count  Dtype  \n",
      "---  ------                           --------------  -----  \n",
      " 0   Life expectancy                  2928 non-null   float64\n",
      " 1   Alcohol                          2744 non-null   float64\n",
      " 2   percentage expenditure           2938 non-null   float64\n",
      " 3   Hepatitis B                      2385 non-null   float64\n",
      " 4   Measles                          2938 non-null   int64  \n",
      " 5    BMI                             2904 non-null   float64\n",
      " 6   Polio                            2919 non-null   float64\n",
      " 7   Total expenditure                2712 non-null   float64\n",
      " 8   Diphtheria                       2919 non-null   float64\n",
      " 9    HIV/AIDS                        2938 non-null   float64\n",
      " 10  GDP                              2490 non-null   float64\n",
      " 11  Population                       2286 non-null   float64\n",
      " 12   thinness  1-19 years            2904 non-null   float64\n",
      " 13   thinness 5-9 years              2904 non-null   float64\n",
      " 14  Income composition of resources  2771 non-null   float64\n",
      " 15  Schooling                        2775 non-null   float64\n",
      "dtypes: float64(15), int64(1)\n",
      "memory usage: 367.4 KB\n"
     ]
    }
   ],
   "source": [
    "df.info()"
   ]
  },
  {
   "cell_type": "markdown",
   "metadata": {
    "slideshow": {
     "slide_type": "fragment"
    }
   },
   "source": [
    "I'm going to \"clean\" this by just dropping all nans"
   ]
  },
  {
   "cell_type": "code",
<<<<<<< HEAD
   "execution_count": 23,
=======
   "execution_count": 44,
   "id": "16065eb0",
>>>>>>> 7d614c9528e641d82efe154eef67e6fd1426fe42
   "metadata": {
    "cell_style": "split",
    "slideshow": {
     "slide_type": "slide"
    }
   },
   "outputs": [],
   "source": [
    "df = df.dropna()"
   ]
  },
  {
   "cell_type": "markdown",
   "metadata": {
    "cell_style": "split",
    "slideshow": {
     "slide_type": "fragment"
    }
   },
   "source": [
    "Let's check it out. Should be no more NaNs."
   ]
  },
  {
   "cell_type": "code",
<<<<<<< HEAD
   "execution_count": 24,
=======
   "execution_count": 45,
   "id": "cf77a3c4",
>>>>>>> 7d614c9528e641d82efe154eef67e6fd1426fe42
   "metadata": {
    "cell_style": "center",
    "scrolled": true,
    "slideshow": {
     "slide_type": "fragment"
    }
   },
   "outputs": [
    {
     "name": "stdout",
     "output_type": "stream",
     "text": [
      "<class 'pandas.core.frame.DataFrame'>\n",
      "Int64Index: 1649 entries, 0 to 2937\n",
      "Data columns (total 16 columns):\n",
      " #   Column                           Non-Null Count  Dtype  \n",
      "---  ------                           --------------  -----  \n",
      " 0   Life expectancy                  1649 non-null   float64\n",
      " 1   Alcohol                          1649 non-null   float64\n",
      " 2   percentage expenditure           1649 non-null   float64\n",
      " 3   Hepatitis B                      1649 non-null   float64\n",
      " 4   Measles                          1649 non-null   int64  \n",
      " 5    BMI                             1649 non-null   float64\n",
      " 6   Polio                            1649 non-null   float64\n",
      " 7   Total expenditure                1649 non-null   float64\n",
      " 8   Diphtheria                       1649 non-null   float64\n",
      " 9    HIV/AIDS                        1649 non-null   float64\n",
      " 10  GDP                              1649 non-null   float64\n",
      " 11  Population                       1649 non-null   float64\n",
      " 12   thinness  1-19 years            1649 non-null   float64\n",
      " 13   thinness 5-9 years              1649 non-null   float64\n",
      " 14  Income composition of resources  1649 non-null   float64\n",
      " 15  Schooling                        1649 non-null   float64\n",
      "dtypes: float64(15), int64(1)\n",
      "memory usage: 219.0 KB\n"
     ]
    }
   ],
   "source": [
    "df.info()"
   ]
  },
  {
   "cell_type": "markdown",
   "metadata": {
    "cell_style": "split",
    "slideshow": {
     "slide_type": "slide"
    }
   },
   "source": [
    "Now we are trying to model life expectancy linearly based on the other dependent factors:\n",
    "- Life expectancy is our **target** (dependent variable).\n",
    "- The rest are our:\n",
    "    - predictors\n",
    "    - features\n",
    "    - covariates\n",
    "    - independent variables."
   ]
  },
  {
   "cell_type": "markdown",
   "metadata": {
    "cell_style": "split",
    "slideshow": {
     "slide_type": "fragment"
    }
   },
   "source": [
    "Separate these and label them appropriately:\n",
    "- X is now our **feature matrix**\n",
    "- y is a vector of targets our outcomes."
   ]
  },
  {
   "cell_type": "code",
<<<<<<< HEAD
   "execution_count": 28,
=======
   "execution_count": 46,
   "id": "64754f76",
>>>>>>> 7d614c9528e641d82efe154eef67e6fd1426fe42
   "metadata": {
    "slideshow": {
     "slide_type": "fragment"
    }
   },
   "outputs": [],
   "source": [
    "X = df.drop(columns = ['Life expectancy '])\n",
    "y = df['Life expectancy ']"
   ]
  },
  {
   "cell_type": "code",
<<<<<<< HEAD
   "execution_count": 29,
=======
   "execution_count": 49,
   "id": "1b492f32",
>>>>>>> 7d614c9528e641d82efe154eef67e6fd1426fe42
   "metadata": {
    "slideshow": {
     "slide_type": "slide"
    }
   },
   "outputs": [
    {
     "data": {
      "text/html": [
       "<div>\n",
       "<style scoped>\n",
       "    .dataframe tbody tr th:only-of-type {\n",
       "        vertical-align: middle;\n",
       "    }\n",
       "\n",
       "    .dataframe tbody tr th {\n",
       "        vertical-align: top;\n",
       "    }\n",
       "\n",
       "    .dataframe thead th {\n",
       "        text-align: right;\n",
       "    }\n",
       "</style>\n",
       "<table border=\"1\" class=\"dataframe\">\n",
       "  <thead>\n",
       "    <tr style=\"text-align: right;\">\n",
       "      <th></th>\n",
       "      <th>Alcohol</th>\n",
       "      <th>percentage expenditure</th>\n",
       "      <th>Hepatitis B</th>\n",
       "      <th>Measles</th>\n",
       "      <th>BMI</th>\n",
       "      <th>Polio</th>\n",
       "      <th>Total expenditure</th>\n",
       "      <th>Diphtheria</th>\n",
       "      <th>HIV/AIDS</th>\n",
       "      <th>GDP</th>\n",
       "      <th>Population</th>\n",
       "      <th>thinness  1-19 years</th>\n",
       "      <th>thinness 5-9 years</th>\n",
       "      <th>Income composition of resources</th>\n",
       "      <th>Schooling</th>\n",
       "    </tr>\n",
       "  </thead>\n",
       "  <tbody>\n",
       "    <tr>\n",
       "      <th>0</th>\n",
       "      <td>0.01</td>\n",
       "      <td>71.279624</td>\n",
       "      <td>65.0</td>\n",
       "      <td>1154</td>\n",
       "      <td>19.1</td>\n",
       "      <td>6.0</td>\n",
       "      <td>8.16</td>\n",
       "      <td>65.0</td>\n",
       "      <td>0.1</td>\n",
       "      <td>584.259210</td>\n",
       "      <td>33736494.0</td>\n",
       "      <td>17.2</td>\n",
       "      <td>17.3</td>\n",
       "      <td>0.479</td>\n",
       "      <td>10.1</td>\n",
       "    </tr>\n",
       "    <tr>\n",
       "      <th>1</th>\n",
       "      <td>0.01</td>\n",
       "      <td>73.523582</td>\n",
       "      <td>62.0</td>\n",
       "      <td>492</td>\n",
       "      <td>18.6</td>\n",
       "      <td>58.0</td>\n",
       "      <td>8.18</td>\n",
       "      <td>62.0</td>\n",
       "      <td>0.1</td>\n",
       "      <td>612.696514</td>\n",
       "      <td>327582.0</td>\n",
       "      <td>17.5</td>\n",
       "      <td>17.5</td>\n",
       "      <td>0.476</td>\n",
       "      <td>10.0</td>\n",
       "    </tr>\n",
       "    <tr>\n",
       "      <th>2</th>\n",
       "      <td>0.01</td>\n",
       "      <td>73.219243</td>\n",
       "      <td>64.0</td>\n",
       "      <td>430</td>\n",
       "      <td>18.1</td>\n",
       "      <td>62.0</td>\n",
       "      <td>8.13</td>\n",
       "      <td>64.0</td>\n",
       "      <td>0.1</td>\n",
       "      <td>631.744976</td>\n",
       "      <td>31731688.0</td>\n",
       "      <td>17.7</td>\n",
       "      <td>17.7</td>\n",
       "      <td>0.470</td>\n",
       "      <td>9.9</td>\n",
       "    </tr>\n",
       "    <tr>\n",
       "      <th>3</th>\n",
       "      <td>0.01</td>\n",
       "      <td>78.184215</td>\n",
       "      <td>67.0</td>\n",
       "      <td>2787</td>\n",
       "      <td>17.6</td>\n",
       "      <td>67.0</td>\n",
       "      <td>8.52</td>\n",
       "      <td>67.0</td>\n",
       "      <td>0.1</td>\n",
       "      <td>669.959000</td>\n",
       "      <td>3696958.0</td>\n",
       "      <td>17.9</td>\n",
       "      <td>18.0</td>\n",
       "      <td>0.463</td>\n",
       "      <td>9.8</td>\n",
       "    </tr>\n",
       "    <tr>\n",
       "      <th>4</th>\n",
       "      <td>0.01</td>\n",
       "      <td>7.097109</td>\n",
       "      <td>68.0</td>\n",
       "      <td>3013</td>\n",
       "      <td>17.2</td>\n",
       "      <td>68.0</td>\n",
       "      <td>7.87</td>\n",
       "      <td>68.0</td>\n",
       "      <td>0.1</td>\n",
       "      <td>63.537231</td>\n",
       "      <td>2978599.0</td>\n",
       "      <td>18.2</td>\n",
       "      <td>18.2</td>\n",
       "      <td>0.454</td>\n",
       "      <td>9.5</td>\n",
       "    </tr>\n",
       "    <tr>\n",
       "      <th>...</th>\n",
       "      <td>...</td>\n",
       "      <td>...</td>\n",
       "      <td>...</td>\n",
       "      <td>...</td>\n",
       "      <td>...</td>\n",
       "      <td>...</td>\n",
       "      <td>...</td>\n",
       "      <td>...</td>\n",
       "      <td>...</td>\n",
       "      <td>...</td>\n",
       "      <td>...</td>\n",
       "      <td>...</td>\n",
       "      <td>...</td>\n",
       "      <td>...</td>\n",
       "      <td>...</td>\n",
       "    </tr>\n",
       "    <tr>\n",
       "      <th>2933</th>\n",
       "      <td>4.36</td>\n",
       "      <td>0.000000</td>\n",
       "      <td>68.0</td>\n",
       "      <td>31</td>\n",
       "      <td>27.1</td>\n",
       "      <td>67.0</td>\n",
       "      <td>7.13</td>\n",
       "      <td>65.0</td>\n",
       "      <td>33.6</td>\n",
       "      <td>454.366654</td>\n",
       "      <td>12777511.0</td>\n",
       "      <td>9.4</td>\n",
       "      <td>9.4</td>\n",
       "      <td>0.407</td>\n",
       "      <td>9.2</td>\n",
       "    </tr>\n",
       "    <tr>\n",
       "      <th>2934</th>\n",
       "      <td>4.06</td>\n",
       "      <td>0.000000</td>\n",
       "      <td>7.0</td>\n",
       "      <td>998</td>\n",
       "      <td>26.7</td>\n",
       "      <td>7.0</td>\n",
       "      <td>6.52</td>\n",
       "      <td>68.0</td>\n",
       "      <td>36.7</td>\n",
       "      <td>453.351155</td>\n",
       "      <td>12633897.0</td>\n",
       "      <td>9.8</td>\n",
       "      <td>9.9</td>\n",
       "      <td>0.418</td>\n",
       "      <td>9.5</td>\n",
       "    </tr>\n",
       "    <tr>\n",
       "      <th>2935</th>\n",
       "      <td>4.43</td>\n",
       "      <td>0.000000</td>\n",
       "      <td>73.0</td>\n",
       "      <td>304</td>\n",
       "      <td>26.3</td>\n",
       "      <td>73.0</td>\n",
       "      <td>6.53</td>\n",
       "      <td>71.0</td>\n",
       "      <td>39.8</td>\n",
       "      <td>57.348340</td>\n",
       "      <td>125525.0</td>\n",
       "      <td>1.2</td>\n",
       "      <td>1.3</td>\n",
       "      <td>0.427</td>\n",
       "      <td>10.0</td>\n",
       "    </tr>\n",
       "    <tr>\n",
       "      <th>2936</th>\n",
       "      <td>1.72</td>\n",
       "      <td>0.000000</td>\n",
       "      <td>76.0</td>\n",
       "      <td>529</td>\n",
       "      <td>25.9</td>\n",
       "      <td>76.0</td>\n",
       "      <td>6.16</td>\n",
       "      <td>75.0</td>\n",
       "      <td>42.1</td>\n",
       "      <td>548.587312</td>\n",
       "      <td>12366165.0</td>\n",
       "      <td>1.6</td>\n",
       "      <td>1.7</td>\n",
       "      <td>0.427</td>\n",
       "      <td>9.8</td>\n",
       "    </tr>\n",
       "    <tr>\n",
       "      <th>2937</th>\n",
       "      <td>1.68</td>\n",
       "      <td>0.000000</td>\n",
       "      <td>79.0</td>\n",
       "      <td>1483</td>\n",
       "      <td>25.5</td>\n",
       "      <td>78.0</td>\n",
       "      <td>7.10</td>\n",
       "      <td>78.0</td>\n",
       "      <td>43.5</td>\n",
       "      <td>547.358879</td>\n",
       "      <td>12222251.0</td>\n",
       "      <td>11.0</td>\n",
       "      <td>11.2</td>\n",
       "      <td>0.434</td>\n",
       "      <td>9.8</td>\n",
       "    </tr>\n",
       "  </tbody>\n",
       "</table>\n",
       "<p>1649 rows × 15 columns</p>\n",
       "</div>"
      ],
      "text/plain": [
       "      Alcohol  percentage expenditure  Hepatitis B  Measles    BMI   Polio  \\\n",
       "0        0.01               71.279624         65.0      1154   19.1    6.0   \n",
       "1        0.01               73.523582         62.0       492   18.6   58.0   \n",
       "2        0.01               73.219243         64.0       430   18.1   62.0   \n",
       "3        0.01               78.184215         67.0      2787   17.6   67.0   \n",
       "4        0.01                7.097109         68.0      3013   17.2   68.0   \n",
       "...       ...                     ...          ...       ...    ...    ...   \n",
       "2933     4.36                0.000000         68.0        31   27.1   67.0   \n",
       "2934     4.06                0.000000          7.0       998   26.7    7.0   \n",
       "2935     4.43                0.000000         73.0       304   26.3   73.0   \n",
       "2936     1.72                0.000000         76.0       529   25.9   76.0   \n",
       "2937     1.68                0.000000         79.0      1483   25.5   78.0   \n",
       "\n",
       "      Total expenditure  Diphtheria    HIV/AIDS         GDP  Population  \\\n",
       "0                  8.16         65.0        0.1  584.259210  33736494.0   \n",
       "1                  8.18         62.0        0.1  612.696514    327582.0   \n",
       "2                  8.13         64.0        0.1  631.744976  31731688.0   \n",
       "3                  8.52         67.0        0.1  669.959000   3696958.0   \n",
       "4                  7.87         68.0        0.1   63.537231   2978599.0   \n",
       "...                 ...          ...        ...         ...         ...   \n",
       "2933               7.13         65.0       33.6  454.366654  12777511.0   \n",
       "2934               6.52         68.0       36.7  453.351155  12633897.0   \n",
       "2935               6.53         71.0       39.8   57.348340    125525.0   \n",
       "2936               6.16         75.0       42.1  548.587312  12366165.0   \n",
       "2937               7.10         78.0       43.5  547.358878  12222251.0   \n",
       "\n",
<<<<<<< HEAD
       "             GDP  Population   thinness  1-19 years   thinness 5-9 years  \\\n",
       "0     584.259210  33736494.0                   17.2                 17.3   \n",
       "1     612.696514    327582.0                   17.5                 17.5   \n",
       "2     631.744976  31731688.0                   17.7                 17.7   \n",
       "3     669.959000   3696958.0                   17.9                 18.0   \n",
       "4      63.537231   2978599.0                   18.2                 18.2   \n",
       "...          ...         ...                    ...                  ...   \n",
       "2933  454.366654  12777511.0                    9.4                  9.4   \n",
       "2934  453.351155  12633897.0                    9.8                  9.9   \n",
       "2935   57.348340    125525.0                    1.2                  1.3   \n",
       "2936  548.587312  12366165.0                    1.6                  1.7   \n",
       "2937  547.358879  12222251.0                   11.0                 11.2   \n",
=======
       "       thinness  1-19 years   thinness 5-9 years  \\\n",
       "0                      17.2                 17.3   \n",
       "1                      17.5                 17.5   \n",
       "2                      17.7                 17.7   \n",
       "3                      17.9                 18.0   \n",
       "4                      18.2                 18.2   \n",
       "...                     ...                  ...   \n",
       "2933                    9.4                  9.4   \n",
       "2934                    9.8                  9.9   \n",
       "2935                    1.2                  1.3   \n",
       "2936                    1.6                  1.7   \n",
       "2937                   11.0                 11.2   \n",
>>>>>>> 7d614c9528e641d82efe154eef67e6fd1426fe42
       "\n",
       "      Income composition of resources  Schooling  \n",
       "0                               0.479       10.1  \n",
       "1                               0.476       10.0  \n",
       "2                               0.470        9.9  \n",
       "3                               0.463        9.8  \n",
       "4                               0.454        9.5  \n",
       "...                               ...        ...  \n",
       "2933                            0.407        9.2  \n",
       "2934                            0.418        9.5  \n",
       "2935                            0.427       10.0  \n",
       "2936                            0.427        9.8  \n",
       "2937                            0.434        9.8  \n",
       "\n",
       "[1649 rows x 15 columns]"
      ]
     },
<<<<<<< HEAD
     "execution_count": 29,
=======
     "execution_count": 49,
>>>>>>> 7d614c9528e641d82efe154eef67e6fd1426fe42
     "metadata": {},
     "output_type": "execute_result"
    }
   ],
   "source": [
    "X"
   ]
  },
  {
   "cell_type": "code",
   "execution_count": 30,
   "metadata": {},
   "outputs": [
    {
     "data": {
      "text/plain": [
       "0       65.0\n",
       "1       59.9\n",
       "2       59.9\n",
       "3       59.5\n",
       "4       59.2\n",
       "        ... \n",
       "2933    44.3\n",
       "2934    44.5\n",
       "2935    44.8\n",
       "2936    45.3\n",
       "2937    46.0\n",
       "Name: Life expectancy , Length: 1649, dtype: float64"
      ]
     },
     "execution_count": 30,
     "metadata": {},
     "output_type": "execute_result"
    }
   ],
   "source": [
    "y"
   ]
  },
  {
   "cell_type": "markdown",
   "metadata": {
    "slideshow": {
     "slide_type": "slide"
    }
   },
   "source": [
    "Checking for collinearity through the correlation matrix"
   ]
  },
  {
   "cell_type": "code",
<<<<<<< HEAD
   "execution_count": 31,
=======
   "execution_count": 11,
   "id": "5b2fc824",
>>>>>>> 7d614c9528e641d82efe154eef67e6fd1426fe42
   "metadata": {
    "slideshow": {
     "slide_type": "fragment"
    }
   },
   "outputs": [
    {
     "data": {
      "text/html": [
       "<div>\n",
       "<style scoped>\n",
       "    .dataframe tbody tr th:only-of-type {\n",
       "        vertical-align: middle;\n",
       "    }\n",
       "\n",
       "    .dataframe tbody tr th {\n",
       "        vertical-align: top;\n",
       "    }\n",
       "\n",
       "    .dataframe thead th {\n",
       "        text-align: right;\n",
       "    }\n",
       "</style>\n",
       "<table border=\"1\" class=\"dataframe\">\n",
       "  <thead>\n",
       "    <tr style=\"text-align: right;\">\n",
       "      <th></th>\n",
       "      <th>Alcohol</th>\n",
       "      <th>percentage expenditure</th>\n",
       "      <th>Hepatitis B</th>\n",
       "      <th>Measles</th>\n",
       "      <th>BMI</th>\n",
       "      <th>under-five deaths</th>\n",
       "      <th>Polio</th>\n",
       "      <th>Total expenditure</th>\n",
       "      <th>Diphtheria</th>\n",
       "      <th>HIV/AIDS</th>\n",
       "      <th>GDP</th>\n",
       "      <th>Population</th>\n",
       "      <th>thinness  1-19 years</th>\n",
       "      <th>thinness 5-9 years</th>\n",
       "      <th>Income composition of resources</th>\n",
       "      <th>Schooling</th>\n",
       "    </tr>\n",
       "  </thead>\n",
       "  <tbody>\n",
       "    <tr>\n",
       "      <th>Alcohol</th>\n",
       "      <td>1.000000</td>\n",
       "      <td>0.417047</td>\n",
       "      <td>0.109889</td>\n",
       "      <td>-0.050110</td>\n",
       "      <td>0.353396</td>\n",
       "      <td>-0.101082</td>\n",
       "      <td>0.240315</td>\n",
       "      <td>0.214885</td>\n",
       "      <td>0.242951</td>\n",
       "      <td>-0.027113</td>\n",
       "      <td>0.443433</td>\n",
       "      <td>-0.028880</td>\n",
       "      <td>-0.403755</td>\n",
       "      <td>-0.386208</td>\n",
       "      <td>0.561074</td>\n",
       "      <td>0.616975</td>\n",
       "    </tr>\n",
       "    <tr>\n",
       "      <th>percentage expenditure</th>\n",
       "      <td>0.417047</td>\n",
       "      <td>1.000000</td>\n",
       "      <td>0.016760</td>\n",
       "      <td>-0.063071</td>\n",
       "      <td>0.242738</td>\n",
       "      <td>-0.092158</td>\n",
       "      <td>0.128626</td>\n",
       "      <td>0.183872</td>\n",
       "      <td>0.134813</td>\n",
       "      <td>-0.095085</td>\n",
       "      <td>0.959299</td>\n",
       "      <td>-0.016792</td>\n",
       "      <td>-0.255035</td>\n",
       "      <td>-0.255635</td>\n",
       "      <td>0.402170</td>\n",
       "      <td>0.422088</td>\n",
       "    </tr>\n",
       "    <tr>\n",
       "      <th>Hepatitis B</th>\n",
       "      <td>0.109889</td>\n",
       "      <td>0.016760</td>\n",
       "      <td>1.000000</td>\n",
       "      <td>-0.124800</td>\n",
       "      <td>0.143302</td>\n",
       "      <td>-0.240766</td>\n",
       "      <td>0.463331</td>\n",
       "      <td>0.113327</td>\n",
       "      <td>0.588990</td>\n",
       "      <td>-0.094802</td>\n",
       "      <td>0.041850</td>\n",
       "      <td>-0.129723</td>\n",
       "      <td>-0.129406</td>\n",
       "      <td>-0.133251</td>\n",
       "      <td>0.184921</td>\n",
       "      <td>0.215182</td>\n",
       "    </tr>\n",
       "    <tr>\n",
       "      <th>Measles</th>\n",
       "      <td>-0.050110</td>\n",
       "      <td>-0.063071</td>\n",
       "      <td>-0.124800</td>\n",
       "      <td>1.000000</td>\n",
       "      <td>-0.153245</td>\n",
       "      <td>0.517506</td>\n",
       "      <td>-0.057850</td>\n",
       "      <td>-0.113583</td>\n",
       "      <td>-0.058606</td>\n",
       "      <td>-0.003522</td>\n",
       "      <td>-0.064768</td>\n",
       "      <td>0.321946</td>\n",
       "      <td>0.180642</td>\n",
       "      <td>0.174946</td>\n",
       "      <td>-0.058277</td>\n",
       "      <td>-0.115660</td>\n",
       "    </tr>\n",
       "    <tr>\n",
       "      <th>BMI</th>\n",
       "      <td>0.353396</td>\n",
       "      <td>0.242738</td>\n",
       "      <td>0.143302</td>\n",
       "      <td>-0.153245</td>\n",
       "      <td>1.000000</td>\n",
       "      <td>-0.242137</td>\n",
       "      <td>0.186268</td>\n",
       "      <td>0.189469</td>\n",
       "      <td>0.176295</td>\n",
       "      <td>-0.210897</td>\n",
       "      <td>0.266114</td>\n",
       "      <td>-0.081416</td>\n",
       "      <td>-0.547018</td>\n",
       "      <td>-0.554094</td>\n",
       "      <td>0.510505</td>\n",
       "      <td>0.554844</td>\n",
       "    </tr>\n",
       "    <tr>\n",
       "      <th>under-five deaths</th>\n",
       "      <td>-0.101082</td>\n",
       "      <td>-0.092158</td>\n",
       "      <td>-0.240766</td>\n",
       "      <td>0.517506</td>\n",
       "      <td>-0.242137</td>\n",
       "      <td>1.000000</td>\n",
       "      <td>-0.171164</td>\n",
       "      <td>-0.145803</td>\n",
       "      <td>-0.178448</td>\n",
       "      <td>0.019476</td>\n",
       "      <td>-0.100331</td>\n",
       "      <td>0.658680</td>\n",
       "      <td>0.464785</td>\n",
       "      <td>0.462289</td>\n",
       "      <td>-0.148097</td>\n",
       "      <td>-0.226013</td>\n",
       "    </tr>\n",
       "    <tr>\n",
       "      <th>Polio</th>\n",
       "      <td>0.240315</td>\n",
       "      <td>0.128626</td>\n",
       "      <td>0.463331</td>\n",
       "      <td>-0.057850</td>\n",
       "      <td>0.186268</td>\n",
       "      <td>-0.171164</td>\n",
       "      <td>1.000000</td>\n",
       "      <td>0.119768</td>\n",
       "      <td>0.609245</td>\n",
       "      <td>-0.107885</td>\n",
       "      <td>0.156809</td>\n",
       "      <td>-0.045387</td>\n",
       "      <td>-0.164070</td>\n",
       "      <td>-0.174489</td>\n",
       "      <td>0.314682</td>\n",
       "      <td>0.350147</td>\n",
       "    </tr>\n",
       "    <tr>\n",
       "      <th>Total expenditure</th>\n",
       "      <td>0.214885</td>\n",
       "      <td>0.183872</td>\n",
       "      <td>0.113327</td>\n",
       "      <td>-0.113583</td>\n",
       "      <td>0.189469</td>\n",
       "      <td>-0.145803</td>\n",
       "      <td>0.119768</td>\n",
       "      <td>1.000000</td>\n",
       "      <td>0.129915</td>\n",
       "      <td>0.043101</td>\n",
       "      <td>0.180373</td>\n",
       "      <td>-0.079962</td>\n",
       "      <td>-0.209872</td>\n",
       "      <td>-0.217865</td>\n",
       "      <td>0.183653</td>\n",
       "      <td>0.243783</td>\n",
       "    </tr>\n",
       "    <tr>\n",
       "      <th>Diphtheria</th>\n",
       "      <td>0.242951</td>\n",
       "      <td>0.134813</td>\n",
       "      <td>0.588990</td>\n",
       "      <td>-0.058606</td>\n",
       "      <td>0.176295</td>\n",
       "      <td>-0.178448</td>\n",
       "      <td>0.609245</td>\n",
       "      <td>0.129915</td>\n",
       "      <td>1.000000</td>\n",
       "      <td>-0.117601</td>\n",
       "      <td>0.158438</td>\n",
       "      <td>-0.039898</td>\n",
       "      <td>-0.187242</td>\n",
       "      <td>-0.180952</td>\n",
       "      <td>0.343262</td>\n",
       "      <td>0.350398</td>\n",
       "    </tr>\n",
       "    <tr>\n",
       "      <th>HIV/AIDS</th>\n",
       "      <td>-0.027113</td>\n",
       "      <td>-0.095085</td>\n",
       "      <td>-0.094802</td>\n",
       "      <td>-0.003522</td>\n",
       "      <td>-0.210897</td>\n",
       "      <td>0.019476</td>\n",
       "      <td>-0.107885</td>\n",
       "      <td>0.043101</td>\n",
       "      <td>-0.117601</td>\n",
       "      <td>1.000000</td>\n",
       "      <td>-0.108081</td>\n",
       "      <td>-0.027801</td>\n",
       "      <td>0.172592</td>\n",
       "      <td>0.183147</td>\n",
       "      <td>-0.248590</td>\n",
       "      <td>-0.211840</td>\n",
       "    </tr>\n",
       "    <tr>\n",
       "      <th>GDP</th>\n",
       "      <td>0.443433</td>\n",
       "      <td>0.959299</td>\n",
       "      <td>0.041850</td>\n",
       "      <td>-0.064768</td>\n",
       "      <td>0.266114</td>\n",
       "      <td>-0.100331</td>\n",
       "      <td>0.156809</td>\n",
       "      <td>0.180373</td>\n",
       "      <td>0.158438</td>\n",
       "      <td>-0.108081</td>\n",
       "      <td>1.000000</td>\n",
       "      <td>-0.020369</td>\n",
       "      <td>-0.277498</td>\n",
       "      <td>-0.277959</td>\n",
       "      <td>0.446856</td>\n",
       "      <td>0.467947</td>\n",
       "    </tr>\n",
       "    <tr>\n",
       "      <th>Population</th>\n",
       "      <td>-0.028880</td>\n",
       "      <td>-0.016792</td>\n",
       "      <td>-0.129723</td>\n",
       "      <td>0.321946</td>\n",
       "      <td>-0.081416</td>\n",
       "      <td>0.658680</td>\n",
       "      <td>-0.045387</td>\n",
       "      <td>-0.079962</td>\n",
       "      <td>-0.039898</td>\n",
       "      <td>-0.027801</td>\n",
       "      <td>-0.020369</td>\n",
       "      <td>1.000000</td>\n",
       "      <td>0.282529</td>\n",
       "      <td>0.277913</td>\n",
       "      <td>-0.008132</td>\n",
       "      <td>-0.040312</td>\n",
       "    </tr>\n",
       "    <tr>\n",
       "      <th>thinness  1-19 years</th>\n",
       "      <td>-0.403755</td>\n",
       "      <td>-0.255035</td>\n",
       "      <td>-0.129406</td>\n",
       "      <td>0.180642</td>\n",
       "      <td>-0.547018</td>\n",
       "      <td>0.464785</td>\n",
       "      <td>-0.164070</td>\n",
       "      <td>-0.209872</td>\n",
       "      <td>-0.187242</td>\n",
       "      <td>0.172592</td>\n",
       "      <td>-0.277498</td>\n",
       "      <td>0.282529</td>\n",
       "      <td>1.000000</td>\n",
       "      <td>0.927913</td>\n",
       "      <td>-0.453679</td>\n",
       "      <td>-0.491199</td>\n",
       "    </tr>\n",
       "    <tr>\n",
       "      <th>thinness 5-9 years</th>\n",
       "      <td>-0.386208</td>\n",
       "      <td>-0.255635</td>\n",
       "      <td>-0.133251</td>\n",
       "      <td>0.174946</td>\n",
       "      <td>-0.554094</td>\n",
       "      <td>0.462289</td>\n",
       "      <td>-0.174489</td>\n",
       "      <td>-0.217865</td>\n",
       "      <td>-0.180952</td>\n",
       "      <td>0.183147</td>\n",
       "      <td>-0.277959</td>\n",
       "      <td>0.277913</td>\n",
       "      <td>0.927913</td>\n",
       "      <td>1.000000</td>\n",
       "      <td>-0.438484</td>\n",
       "      <td>-0.472482</td>\n",
       "    </tr>\n",
       "    <tr>\n",
       "      <th>Income composition of resources</th>\n",
       "      <td>0.561074</td>\n",
       "      <td>0.402170</td>\n",
       "      <td>0.184921</td>\n",
       "      <td>-0.058277</td>\n",
       "      <td>0.510505</td>\n",
       "      <td>-0.148097</td>\n",
       "      <td>0.314682</td>\n",
       "      <td>0.183653</td>\n",
       "      <td>0.343262</td>\n",
       "      <td>-0.248590</td>\n",
       "      <td>0.446856</td>\n",
       "      <td>-0.008132</td>\n",
       "      <td>-0.453679</td>\n",
       "      <td>-0.438484</td>\n",
       "      <td>1.000000</td>\n",
       "      <td>0.784741</td>\n",
       "    </tr>\n",
       "    <tr>\n",
       "      <th>Schooling</th>\n",
       "      <td>0.616975</td>\n",
       "      <td>0.422088</td>\n",
       "      <td>0.215182</td>\n",
       "      <td>-0.115660</td>\n",
       "      <td>0.554844</td>\n",
       "      <td>-0.226013</td>\n",
       "      <td>0.350147</td>\n",
       "      <td>0.243783</td>\n",
       "      <td>0.350398</td>\n",
       "      <td>-0.211840</td>\n",
       "      <td>0.467947</td>\n",
       "      <td>-0.040312</td>\n",
       "      <td>-0.491199</td>\n",
       "      <td>-0.472482</td>\n",
       "      <td>0.784741</td>\n",
       "      <td>1.000000</td>\n",
       "    </tr>\n",
       "  </tbody>\n",
       "</table>\n",
       "</div>"
      ],
      "text/plain": [
       "                                  Alcohol  percentage expenditure  \\\n",
       "Alcohol                          1.000000                0.417047   \n",
       "percentage expenditure           0.417047                1.000000   \n",
       "Hepatitis B                      0.109889                0.016760   \n",
       "Measles                         -0.050110               -0.063071   \n",
       " BMI                             0.353396                0.242738   \n",
       "under-five deaths               -0.101082               -0.092158   \n",
       "Polio                            0.240315                0.128626   \n",
       "Total expenditure                0.214885                0.183872   \n",
       "Diphtheria                       0.242951                0.134813   \n",
       " HIV/AIDS                       -0.027113               -0.095085   \n",
       "GDP                              0.443433                0.959299   \n",
       "Population                      -0.028880               -0.016792   \n",
       " thinness  1-19 years           -0.403755               -0.255035   \n",
       " thinness 5-9 years             -0.386208               -0.255635   \n",
       "Income composition of resources  0.561074                0.402170   \n",
       "Schooling                        0.616975                0.422088   \n",
       "\n",
       "                                 Hepatitis B  Measles       BMI   \\\n",
       "Alcohol                             0.109889 -0.050110  0.353396   \n",
       "percentage expenditure              0.016760 -0.063071  0.242738   \n",
       "Hepatitis B                         1.000000 -0.124800  0.143302   \n",
       "Measles                            -0.124800  1.000000 -0.153245   \n",
       " BMI                                0.143302 -0.153245  1.000000   \n",
       "under-five deaths                  -0.240766  0.517506 -0.242137   \n",
       "Polio                               0.463331 -0.057850  0.186268   \n",
       "Total expenditure                   0.113327 -0.113583  0.189469   \n",
       "Diphtheria                          0.588990 -0.058606  0.176295   \n",
       " HIV/AIDS                          -0.094802 -0.003522 -0.210897   \n",
       "GDP                                 0.041850 -0.064768  0.266114   \n",
       "Population                         -0.129723  0.321946 -0.081416   \n",
       " thinness  1-19 years              -0.129406  0.180642 -0.547018   \n",
       " thinness 5-9 years                -0.133251  0.174946 -0.554094   \n",
       "Income composition of resources     0.184921 -0.058277  0.510505   \n",
       "Schooling                           0.215182 -0.115660  0.554844   \n",
       "\n",
       "                                 under-five deaths      Polio  \\\n",
       "Alcohol                                   -0.101082  0.240315   \n",
       "percentage expenditure                    -0.092158  0.128626   \n",
       "Hepatitis B                               -0.240766  0.463331   \n",
       "Measles                                    0.517506 -0.057850   \n",
       " BMI                                      -0.242137  0.186268   \n",
       "under-five deaths                          1.000000 -0.171164   \n",
       "Polio                                     -0.171164  1.000000   \n",
       "Total expenditure                         -0.145803  0.119768   \n",
       "Diphtheria                                -0.178448  0.609245   \n",
       " HIV/AIDS                                  0.019476 -0.107885   \n",
       "GDP                                       -0.100331  0.156809   \n",
       "Population                                 0.658680 -0.045387   \n",
       " thinness  1-19 years                      0.464785 -0.164070   \n",
       " thinness 5-9 years                        0.462289 -0.174489   \n",
       "Income composition of resources           -0.148097  0.314682   \n",
       "Schooling                                 -0.226013  0.350147   \n",
       "\n",
       "                                 Total expenditure  Diphtheria    HIV/AIDS  \\\n",
       "Alcohol                                   0.214885     0.242951  -0.027113   \n",
       "percentage expenditure                    0.183872     0.134813  -0.095085   \n",
       "Hepatitis B                               0.113327     0.588990  -0.094802   \n",
       "Measles                                  -0.113583    -0.058606  -0.003522   \n",
       " BMI                                      0.189469     0.176295  -0.210897   \n",
       "under-five deaths                        -0.145803    -0.178448   0.019476   \n",
       "Polio                                     0.119768     0.609245  -0.107885   \n",
       "Total expenditure                         1.000000     0.129915   0.043101   \n",
       "Diphtheria                                0.129915     1.000000  -0.117601   \n",
       " HIV/AIDS                                 0.043101    -0.117601   1.000000   \n",
       "GDP                                       0.180373     0.158438  -0.108081   \n",
       "Population                               -0.079962    -0.039898  -0.027801   \n",
       " thinness  1-19 years                    -0.209872    -0.187242   0.172592   \n",
       " thinness 5-9 years                      -0.217865    -0.180952   0.183147   \n",
       "Income composition of resources           0.183653     0.343262  -0.248590   \n",
       "Schooling                                 0.243783     0.350398  -0.211840   \n",
       "\n",
       "                                      GDP  Population   thinness  1-19 years  \\\n",
       "Alcohol                          0.443433   -0.028880              -0.403755   \n",
       "percentage expenditure           0.959299   -0.016792              -0.255035   \n",
       "Hepatitis B                      0.041850   -0.129723              -0.129406   \n",
       "Measles                         -0.064768    0.321946               0.180642   \n",
       " BMI                             0.266114   -0.081416              -0.547018   \n",
       "under-five deaths               -0.100331    0.658680               0.464785   \n",
       "Polio                            0.156809   -0.045387              -0.164070   \n",
       "Total expenditure                0.180373   -0.079962              -0.209872   \n",
       "Diphtheria                       0.158438   -0.039898              -0.187242   \n",
       " HIV/AIDS                       -0.108081   -0.027801               0.172592   \n",
       "GDP                              1.000000   -0.020369              -0.277498   \n",
       "Population                      -0.020369    1.000000               0.282529   \n",
       " thinness  1-19 years           -0.277498    0.282529               1.000000   \n",
       " thinness 5-9 years             -0.277959    0.277913               0.927913   \n",
       "Income composition of resources  0.446856   -0.008132              -0.453679   \n",
       "Schooling                        0.467947   -0.040312              -0.491199   \n",
       "\n",
       "                                  thinness 5-9 years  \\\n",
       "Alcohol                                    -0.386208   \n",
       "percentage expenditure                     -0.255635   \n",
       "Hepatitis B                                -0.133251   \n",
       "Measles                                     0.174946   \n",
       " BMI                                       -0.554094   \n",
       "under-five deaths                           0.462289   \n",
       "Polio                                      -0.174489   \n",
       "Total expenditure                          -0.217865   \n",
       "Diphtheria                                 -0.180952   \n",
       " HIV/AIDS                                   0.183147   \n",
       "GDP                                        -0.277959   \n",
       "Population                                  0.277913   \n",
       " thinness  1-19 years                       0.927913   \n",
       " thinness 5-9 years                         1.000000   \n",
       "Income composition of resources            -0.438484   \n",
       "Schooling                                  -0.472482   \n",
       "\n",
       "                                 Income composition of resources  Schooling  \n",
       "Alcohol                                                 0.561074   0.616975  \n",
       "percentage expenditure                                  0.402170   0.422088  \n",
       "Hepatitis B                                             0.184921   0.215182  \n",
       "Measles                                                -0.058277  -0.115660  \n",
       " BMI                                                    0.510505   0.554844  \n",
       "under-five deaths                                      -0.148097  -0.226013  \n",
       "Polio                                                   0.314682   0.350147  \n",
       "Total expenditure                                       0.183653   0.243783  \n",
       "Diphtheria                                              0.343262   0.350398  \n",
       " HIV/AIDS                                              -0.248590  -0.211840  \n",
       "GDP                                                     0.446856   0.467947  \n",
       "Population                                             -0.008132  -0.040312  \n",
       " thinness  1-19 years                                  -0.453679  -0.491199  \n",
       " thinness 5-9 years                                    -0.438484  -0.472482  \n",
       "Income composition of resources                         1.000000   0.784741  \n",
       "Schooling                                               0.784741   1.000000  "
      ]
     },
<<<<<<< HEAD
     "execution_count": 31,
=======
     "execution_count": 11,
>>>>>>> 7d614c9528e641d82efe154eef67e6fd1426fe42
     "metadata": {},
     "output_type": "execute_result"
    }
   ],
   "source": [
    "X.corr()"
   ]
  },
  {
   "cell_type": "markdown",
   "metadata": {
    "slideshow": {
     "slide_type": "slide"
    }
   },
   "source": [
    "Hard to parse. Seaborn can help:"
   ]
  },
  {
   "cell_type": "code",
<<<<<<< HEAD
   "execution_count": 32,
=======
   "execution_count": 12,
   "id": "e616b38a",
>>>>>>> 7d614c9528e641d82efe154eef67e6fd1426fe42
   "metadata": {
    "cell_style": "center",
    "slideshow": {
     "slide_type": "fragment"
    }
   },
   "outputs": [
    {
     "data": {
      "image/png": "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\n",
      "text/plain": [
       "<Figure size 1008x432 with 2 Axes>"
      ]
     },
     "metadata": {
      "needs_background": "light"
     },
     "output_type": "display_data"
    }
   ],
   "source": [
    "plt.figure(figsize=(14, 6))\n",
    "sns.heatmap(X.corr(), annot=True)\n",
    "\n",
    "plt.title('Correlation Matrix for Features')\n",
    "plt.savefig(\"corrmat.jpg\", dpi = 300)\n",
    "plt.show()"
   ]
  },
  {
   "cell_type": "markdown",
   "metadata": {
    "slideshow": {
     "slide_type": "slide"
    }
   },
   "source": [
    "Highly correlated variables:\n",
    "\n",
    "- GDP vs percentage expenditure\n",
    "- under five deaths vs population,\n",
    "- income composition vs resources and schooling, \n",
    "- thinness 1-19 years vs thinness 5-9 years\n",
    "- diptheria vs polio \n"
   ]
  },
  {
   "cell_type": "markdown",
   "metadata": {
    "slideshow": {
     "slide_type": "subslide"
    }
   },
   "source": [
    "Getting rid of:\n",
    "- percentage expenditure\n",
    "- income composition of resources\n",
    "- thinness 5-9 years\n",
    "- diptheria. \n",
    "\n",
    "This can potentially help with issues of overfitting associated with multicollinearity that we addressed before."
   ]
  },
  {
   "cell_type": "code",
<<<<<<< HEAD
   "execution_count": 33,
=======
   "execution_count": 51,
   "id": "66775e6b",
>>>>>>> 7d614c9528e641d82efe154eef67e6fd1426fe42
   "metadata": {
    "slideshow": {
     "slide_type": "subslide"
    }
   },
   "outputs": [
    {
     "data": {
      "text/html": [
       "<div>\n",
       "<style scoped>\n",
       "    .dataframe tbody tr th:only-of-type {\n",
       "        vertical-align: middle;\n",
       "    }\n",
       "\n",
       "    .dataframe tbody tr th {\n",
       "        vertical-align: top;\n",
       "    }\n",
       "\n",
       "    .dataframe thead th {\n",
       "        text-align: right;\n",
       "    }\n",
       "</style>\n",
       "<table border=\"1\" class=\"dataframe\">\n",
       "  <thead>\n",
       "    <tr style=\"text-align: right;\">\n",
       "      <th></th>\n",
       "      <th>Alcohol</th>\n",
       "      <th>Hepatitis B</th>\n",
       "      <th>Measles</th>\n",
       "      <th>BMI</th>\n",
       "      <th>Polio</th>\n",
       "      <th>Total expenditure</th>\n",
       "      <th>HIV/AIDS</th>\n",
       "      <th>GDP</th>\n",
       "      <th>Population</th>\n",
       "      <th>thinness  1-19 years</th>\n",
       "      <th>Schooling</th>\n",
       "    </tr>\n",
       "  </thead>\n",
       "  <tbody>\n",
       "    <tr>\n",
       "      <th>0</th>\n",
       "      <td>0.01</td>\n",
       "      <td>65.0</td>\n",
       "      <td>1154</td>\n",
       "      <td>19.1</td>\n",
       "      <td>6.0</td>\n",
       "      <td>8.16</td>\n",
       "      <td>0.1</td>\n",
       "      <td>584.259210</td>\n",
       "      <td>33736494.0</td>\n",
       "      <td>17.2</td>\n",
       "      <td>10.1</td>\n",
       "    </tr>\n",
       "    <tr>\n",
       "      <th>1</th>\n",
       "      <td>0.01</td>\n",
       "      <td>62.0</td>\n",
       "      <td>492</td>\n",
       "      <td>18.6</td>\n",
       "      <td>58.0</td>\n",
       "      <td>8.18</td>\n",
       "      <td>0.1</td>\n",
       "      <td>612.696514</td>\n",
       "      <td>327582.0</td>\n",
       "      <td>17.5</td>\n",
       "      <td>10.0</td>\n",
       "    </tr>\n",
       "    <tr>\n",
       "      <th>2</th>\n",
       "      <td>0.01</td>\n",
       "      <td>64.0</td>\n",
       "      <td>430</td>\n",
       "      <td>18.1</td>\n",
       "      <td>62.0</td>\n",
       "      <td>8.13</td>\n",
       "      <td>0.1</td>\n",
       "      <td>631.744976</td>\n",
       "      <td>31731688.0</td>\n",
       "      <td>17.7</td>\n",
       "      <td>9.9</td>\n",
       "    </tr>\n",
       "    <tr>\n",
       "      <th>3</th>\n",
       "      <td>0.01</td>\n",
       "      <td>67.0</td>\n",
       "      <td>2787</td>\n",
       "      <td>17.6</td>\n",
       "      <td>67.0</td>\n",
       "      <td>8.52</td>\n",
       "      <td>0.1</td>\n",
       "      <td>669.959000</td>\n",
       "      <td>3696958.0</td>\n",
       "      <td>17.9</td>\n",
       "      <td>9.8</td>\n",
       "    </tr>\n",
       "    <tr>\n",
       "      <th>4</th>\n",
       "      <td>0.01</td>\n",
       "      <td>68.0</td>\n",
       "      <td>3013</td>\n",
       "      <td>17.2</td>\n",
       "      <td>68.0</td>\n",
       "      <td>7.87</td>\n",
       "      <td>0.1</td>\n",
       "      <td>63.537231</td>\n",
       "      <td>2978599.0</td>\n",
       "      <td>18.2</td>\n",
       "      <td>9.5</td>\n",
       "    </tr>\n",
       "  </tbody>\n",
       "</table>\n",
       "</div>"
      ],
      "text/plain": [
       "   Alcohol  Hepatitis B  Measles    BMI   Polio  Total expenditure   HIV/AIDS  \\\n",
       "0     0.01         65.0      1154   19.1    6.0               8.16        0.1   \n",
       "1     0.01         62.0       492   18.6   58.0               8.18        0.1   \n",
       "2     0.01         64.0       430   18.1   62.0               8.13        0.1   \n",
       "3     0.01         67.0      2787   17.6   67.0               8.52        0.1   \n",
       "4     0.01         68.0      3013   17.2   68.0               7.87        0.1   \n",
       "\n",
       "          GDP  Population   thinness  1-19 years  Schooling  \n",
       "0  584.259210  33736494.0                   17.2       10.1  \n",
       "1  612.696514    327582.0                   17.5       10.0  \n",
       "2  631.744976  31731688.0                   17.7        9.9  \n",
       "3  669.959000   3696958.0                   17.9        9.8  \n",
       "4   63.537231   2978599.0                   18.2        9.5  "
      ]
     },
<<<<<<< HEAD
     "execution_count": 33,
=======
     "execution_count": 51,
>>>>>>> 7d614c9528e641d82efe154eef67e6fd1426fe42
     "metadata": {},
     "output_type": "execute_result"
    }
   ],
   "source": [
    "X = X.drop(columns = ['percentage expenditure', 'Income composition of resources', ' thinness 5-9 years', 'Diphtheria ' ])\n",
    "X.head()"
   ]
  },
  {
   "cell_type": "markdown",
   "metadata": {
    "slideshow": {
     "slide_type": "slide"
    }
   },
   "source": [
    "Let's look at the correlation matrix now:"
   ]
  },
  {
   "cell_type": "code",
<<<<<<< HEAD
   "execution_count": 37,
=======
   "execution_count": 14,
   "id": "aeed4403",
>>>>>>> 7d614c9528e641d82efe154eef67e6fd1426fe42
   "metadata": {
    "slideshow": {
     "slide_type": "fragment"
    }
   },
   "outputs": [
    {
     "data": {
      "image/png": "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\n",
      "text/plain": [
       "<Figure size 864x432 with 2 Axes>"
      ]
     },
     "metadata": {
      "needs_background": "light"
     },
     "output_type": "display_data"
    }
   ],
   "source": [
    "plt.figure(figsize=(12, 6))\n",
    "sns.heatmap(X.corr(), annot=True)\n",
    "\n",
    "plt.title('Correlation Matrix for Features')\n",
    "plt.savefig(\"corrmat_2.jpg\", dpi = 300)\n",
    "plt.show()"
   ]
  },
  {
   "cell_type": "markdown",
   "metadata": {
    "cell_style": "center",
    "slideshow": {
     "slide_type": "slide"
    }
   },
   "source": [
    "Since, the correlation heatmap is symmetric:\n",
    "- Often useful to make a triangular mask and filter."
   ]
  },
  {
   "cell_type": "code",
<<<<<<< HEAD
   "execution_count": 70,
=======
   "execution_count": 15,
   "id": "adfc6d25",
>>>>>>> 7d614c9528e641d82efe154eef67e6fd1426fe42
   "metadata": {
    "slideshow": {
     "slide_type": "subslide"
    }
   },
   "outputs": [
    {
     "data": {
      "image/png": "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\n",
      "text/plain": [
       "<Figure size 864x432 with 2 Axes>"
      ]
     },
     "metadata": {
      "needs_background": "light"
     },
     "output_type": "display_data"
    }
   ],
   "source": [
    "plt.figure(figsize=(12, 6))\n",
    "# define the mask to set the values in the upper triangle to True\n",
    "mask = np.triu(np.ones_like(X.corr(), dtype=bool))\n",
    "heatmap = sns.heatmap(X.corr(), mask=mask, vmin=-1, vmax=1, annot=True)\n",
    "heatmap.set_title('Triangle Correlation Heatmap', fontdict={'fontsize':18}, pad=16);"
   ]
  },
  {
   "cell_type": "code",
<<<<<<< HEAD
   "execution_count": 47,
=======
   "execution_count": 16,
   "id": "0e810746",
>>>>>>> 7d614c9528e641d82efe154eef67e6fd1426fe42
   "metadata": {
    "slideshow": {
     "slide_type": "slide"
    }
   },
   "outputs": [
    {
     "name": "stdout",
     "output_type": "stream",
     "text": [
      "<class 'pandas.core.frame.DataFrame'>\n",
      "Int64Index: 1649 entries, 0 to 2937\n",
      "Data columns (total 11 columns):\n",
      " #   Column                 Non-Null Count  Dtype  \n",
      "---  ------                 --------------  -----  \n",
      " 0   Alcohol                1649 non-null   float64\n",
      " 1   Hepatitis B            1649 non-null   float64\n",
      " 2   Measles                1649 non-null   int64  \n",
      " 3    BMI                   1649 non-null   float64\n",
      " 4   Polio                  1649 non-null   float64\n",
      " 5   Total expenditure      1649 non-null   float64\n",
      " 6    HIV/AIDS              1649 non-null   float64\n",
      " 7   GDP                    1649 non-null   float64\n",
      " 8   Population             1649 non-null   float64\n",
      " 9    thinness  1-19 years  1649 non-null   float64\n",
      " 10  Schooling              1649 non-null   float64\n",
      "dtypes: float64(10), int64(1)\n",
      "memory usage: 154.6 KB\n"
     ]
    }
   ],
   "source": [
    "X.info()"
   ]
  },
  {
   "cell_type": "markdown",
   "metadata": {
    "slideshow": {
     "slide_type": "slide"
    }
   },
   "source": [
    "Let's model this using statsmodels:\n",
    "\n",
    "- Code is the exact same as simple linear regression"
   ]
  },
  {
   "cell_type": "code",
<<<<<<< HEAD
   "execution_count": 42,
=======
   "execution_count": 52,
   "id": "3a8134c9",
>>>>>>> 7d614c9528e641d82efe154eef67e6fd1426fe42
   "metadata": {
    "slideshow": {
     "slide_type": "slide"
    }
   },
   "outputs": [
    {
     "data": {
      "text/html": [
       "<div>\n",
       "<style scoped>\n",
       "    .dataframe tbody tr th:only-of-type {\n",
       "        vertical-align: middle;\n",
       "    }\n",
       "\n",
       "    .dataframe tbody tr th {\n",
       "        vertical-align: top;\n",
       "    }\n",
       "\n",
       "    .dataframe thead th {\n",
       "        text-align: right;\n",
       "    }\n",
       "</style>\n",
       "<table border=\"1\" class=\"dataframe\">\n",
       "  <thead>\n",
       "    <tr style=\"text-align: right;\">\n",
       "      <th></th>\n",
       "      <th>const</th>\n",
       "      <th>Alcohol</th>\n",
       "      <th>Hepatitis B</th>\n",
       "      <th>Measles</th>\n",
       "      <th>BMI</th>\n",
       "      <th>Polio</th>\n",
       "      <th>Total expenditure</th>\n",
       "      <th>HIV/AIDS</th>\n",
       "      <th>GDP</th>\n",
       "      <th>Population</th>\n",
       "      <th>thinness  1-19 years</th>\n",
       "      <th>Schooling</th>\n",
       "    </tr>\n",
       "  </thead>\n",
       "  <tbody>\n",
       "    <tr>\n",
       "      <th>0</th>\n",
       "      <td>1.0</td>\n",
       "      <td>0.01</td>\n",
       "      <td>65.0</td>\n",
       "      <td>1154</td>\n",
       "      <td>19.1</td>\n",
       "      <td>6.0</td>\n",
       "      <td>8.16</td>\n",
       "      <td>0.1</td>\n",
       "      <td>584.259210</td>\n",
       "      <td>33736494.0</td>\n",
       "      <td>17.2</td>\n",
       "      <td>10.1</td>\n",
       "    </tr>\n",
       "    <tr>\n",
       "      <th>1</th>\n",
       "      <td>1.0</td>\n",
       "      <td>0.01</td>\n",
       "      <td>62.0</td>\n",
       "      <td>492</td>\n",
       "      <td>18.6</td>\n",
       "      <td>58.0</td>\n",
       "      <td>8.18</td>\n",
       "      <td>0.1</td>\n",
       "      <td>612.696514</td>\n",
       "      <td>327582.0</td>\n",
       "      <td>17.5</td>\n",
       "      <td>10.0</td>\n",
       "    </tr>\n",
       "    <tr>\n",
       "      <th>2</th>\n",
       "      <td>1.0</td>\n",
       "      <td>0.01</td>\n",
       "      <td>64.0</td>\n",
       "      <td>430</td>\n",
       "      <td>18.1</td>\n",
       "      <td>62.0</td>\n",
       "      <td>8.13</td>\n",
       "      <td>0.1</td>\n",
       "      <td>631.744976</td>\n",
       "      <td>31731688.0</td>\n",
       "      <td>17.7</td>\n",
       "      <td>9.9</td>\n",
       "    </tr>\n",
       "    <tr>\n",
       "      <th>3</th>\n",
       "      <td>1.0</td>\n",
       "      <td>0.01</td>\n",
       "      <td>67.0</td>\n",
       "      <td>2787</td>\n",
       "      <td>17.6</td>\n",
       "      <td>67.0</td>\n",
       "      <td>8.52</td>\n",
       "      <td>0.1</td>\n",
       "      <td>669.959000</td>\n",
       "      <td>3696958.0</td>\n",
       "      <td>17.9</td>\n",
       "      <td>9.8</td>\n",
       "    </tr>\n",
       "    <tr>\n",
       "      <th>4</th>\n",
       "      <td>1.0</td>\n",
       "      <td>0.01</td>\n",
       "      <td>68.0</td>\n",
       "      <td>3013</td>\n",
       "      <td>17.2</td>\n",
       "      <td>68.0</td>\n",
       "      <td>7.87</td>\n",
       "      <td>0.1</td>\n",
       "      <td>63.537231</td>\n",
       "      <td>2978599.0</td>\n",
       "      <td>18.2</td>\n",
       "      <td>9.5</td>\n",
       "    </tr>\n",
       "    <tr>\n",
       "      <th>...</th>\n",
       "      <td>...</td>\n",
       "      <td>...</td>\n",
       "      <td>...</td>\n",
       "      <td>...</td>\n",
       "      <td>...</td>\n",
       "      <td>...</td>\n",
       "      <td>...</td>\n",
       "      <td>...</td>\n",
       "      <td>...</td>\n",
       "      <td>...</td>\n",
       "      <td>...</td>\n",
       "      <td>...</td>\n",
       "    </tr>\n",
       "    <tr>\n",
       "      <th>2933</th>\n",
       "      <td>1.0</td>\n",
       "      <td>4.36</td>\n",
       "      <td>68.0</td>\n",
       "      <td>31</td>\n",
       "      <td>27.1</td>\n",
       "      <td>67.0</td>\n",
       "      <td>7.13</td>\n",
       "      <td>33.6</td>\n",
       "      <td>454.366654</td>\n",
       "      <td>12777511.0</td>\n",
       "      <td>9.4</td>\n",
       "      <td>9.2</td>\n",
       "    </tr>\n",
       "    <tr>\n",
       "      <th>2934</th>\n",
       "      <td>1.0</td>\n",
       "      <td>4.06</td>\n",
       "      <td>7.0</td>\n",
       "      <td>998</td>\n",
       "      <td>26.7</td>\n",
       "      <td>7.0</td>\n",
       "      <td>6.52</td>\n",
       "      <td>36.7</td>\n",
       "      <td>453.351155</td>\n",
       "      <td>12633897.0</td>\n",
       "      <td>9.8</td>\n",
       "      <td>9.5</td>\n",
       "    </tr>\n",
       "    <tr>\n",
       "      <th>2935</th>\n",
       "      <td>1.0</td>\n",
       "      <td>4.43</td>\n",
       "      <td>73.0</td>\n",
       "      <td>304</td>\n",
       "      <td>26.3</td>\n",
       "      <td>73.0</td>\n",
       "      <td>6.53</td>\n",
       "      <td>39.8</td>\n",
       "      <td>57.348340</td>\n",
       "      <td>125525.0</td>\n",
       "      <td>1.2</td>\n",
       "      <td>10.0</td>\n",
       "    </tr>\n",
       "    <tr>\n",
       "      <th>2936</th>\n",
       "      <td>1.0</td>\n",
       "      <td>1.72</td>\n",
       "      <td>76.0</td>\n",
       "      <td>529</td>\n",
       "      <td>25.9</td>\n",
       "      <td>76.0</td>\n",
       "      <td>6.16</td>\n",
       "      <td>42.1</td>\n",
       "      <td>548.587312</td>\n",
       "      <td>12366165.0</td>\n",
       "      <td>1.6</td>\n",
       "      <td>9.8</td>\n",
       "    </tr>\n",
       "    <tr>\n",
       "      <th>2937</th>\n",
       "      <td>1.0</td>\n",
       "      <td>1.68</td>\n",
       "      <td>79.0</td>\n",
       "      <td>1483</td>\n",
       "      <td>25.5</td>\n",
       "      <td>78.0</td>\n",
       "      <td>7.10</td>\n",
       "      <td>43.5</td>\n",
       "      <td>547.358879</td>\n",
       "      <td>12222251.0</td>\n",
       "      <td>11.0</td>\n",
       "      <td>9.8</td>\n",
       "    </tr>\n",
       "  </tbody>\n",
       "</table>\n",
       "<p>1649 rows × 12 columns</p>\n",
       "</div>"
      ],
      "text/plain": [
       "      const  Alcohol  Hepatitis B  Measles    BMI   Polio  Total expenditure  \\\n",
       "0       1.0     0.01         65.0      1154   19.1    6.0               8.16   \n",
       "1       1.0     0.01         62.0       492   18.6   58.0               8.18   \n",
       "2       1.0     0.01         64.0       430   18.1   62.0               8.13   \n",
       "3       1.0     0.01         67.0      2787   17.6   67.0               8.52   \n",
       "4       1.0     0.01         68.0      3013   17.2   68.0               7.87   \n",
       "...     ...      ...          ...       ...    ...    ...                ...   \n",
       "2933    1.0     4.36         68.0        31   27.1   67.0               7.13   \n",
       "2934    1.0     4.06          7.0       998   26.7    7.0               6.52   \n",
       "2935    1.0     4.43         73.0       304   26.3   73.0               6.53   \n",
       "2936    1.0     1.72         76.0       529   25.9   76.0               6.16   \n",
       "2937    1.0     1.68         79.0      1483   25.5   78.0               7.10   \n",
       "\n",
       "       HIV/AIDS         GDP  Population   thinness  1-19 years  Schooling  \n",
       "0           0.1  584.259210  33736494.0                   17.2       10.1  \n",
       "1           0.1  612.696514    327582.0                   17.5       10.0  \n",
       "2           0.1  631.744976  31731688.0                   17.7        9.9  \n",
       "3           0.1  669.959000   3696958.0                   17.9        9.8  \n",
       "4           0.1   63.537231   2978599.0                   18.2        9.5  \n",
       "...         ...         ...         ...                    ...        ...  \n",
       "2933       33.6  454.366654  12777511.0                    9.4        9.2  \n",
       "2934       36.7  453.351155  12633897.0                    9.8        9.5  \n",
       "2935       39.8   57.348340    125525.0                    1.2       10.0  \n",
       "2936       42.1  548.587312  12366165.0                    1.6        9.8  \n",
       "2937       43.5  547.358879  12222251.0                   11.0        9.8  \n",
       "\n",
       "[1649 rows x 12 columns]"
      ]
     },
<<<<<<< HEAD
     "execution_count": 42,
=======
     "execution_count": 52,
>>>>>>> 7d614c9528e641d82efe154eef67e6fd1426fe42
     "metadata": {},
     "output_type": "execute_result"
    }
   ],
   "source": [
    "# need this for the bias term (the constant)\n",
    "X_augmented = sm.add_constant(X)\n",
    "X_augmented"
   ]
  },
  {
   "cell_type": "code",
<<<<<<< HEAD
   "execution_count": 43,
=======
   "execution_count": 53,
   "id": "44050392",
>>>>>>> 7d614c9528e641d82efe154eef67e6fd1426fe42
   "metadata": {
    "slideshow": {
     "slide_type": "subslide"
    }
   },
   "outputs": [],
   "source": [
    "results = sm.OLS(y, X_augmented).fit()"
   ]
  },
  {
   "cell_type": "markdown",
   "metadata": {
    "slideshow": {
     "slide_type": "subslide"
    }
   },
   "source": [
    "Get the slopes for each variable and the constant term:"
   ]
  },
  {
   "cell_type": "code",
<<<<<<< HEAD
   "execution_count": 44,
=======
   "execution_count": 54,
   "id": "e45dcad5",
>>>>>>> 7d614c9528e641d82efe154eef67e6fd1426fe42
   "metadata": {
    "scrolled": true,
    "slideshow": {
     "slide_type": "fragment"
    }
   },
   "outputs": [
    {
     "data": {
      "text/plain": [
       "const                    4.751520e+01\n",
       "Alcohol                 -1.106528e-01\n",
       "Hepatitis B             -4.152893e-04\n",
       "Measles                  2.067782e-05\n",
       " BMI                     5.474011e-02\n",
       "Polio                    2.755880e-02\n",
       "Total expenditure        9.030953e-02\n",
       " HIV/AIDS               -6.345569e-01\n",
       "GDP                      9.876450e-05\n",
       "Population               1.037370e-09\n",
       " thinness  1-19 years   -9.933873e-02\n",
       "Schooling                1.528351e+00\n",
       "dtype: float64"
      ]
     },
<<<<<<< HEAD
     "execution_count": 44,
=======
     "execution_count": 54,
>>>>>>> 7d614c9528e641d82efe154eef67e6fd1426fe42
     "metadata": {},
     "output_type": "execute_result"
    }
   ],
   "source": [
    "results.params"
   ]
  },
  {
   "cell_type": "markdown",
   "metadata": {
    "slideshow": {
     "slide_type": "slide"
    }
   },
   "source": [
    "Get the $R^2$ value."
   ]
  },
  {
   "cell_type": "code",
<<<<<<< HEAD
   "execution_count": 45,
=======
   "execution_count": 20,
   "id": "4ae2c8e7",
>>>>>>> 7d614c9528e641d82efe154eef67e6fd1426fe42
   "metadata": {
    "slideshow": {
     "slide_type": "fragment"
    }
   },
   "outputs": [
    {
     "data": {
      "text/plain": [
       "0.7630369259261873"
      ]
     },
<<<<<<< HEAD
     "execution_count": 45,
=======
     "execution_count": 20,
>>>>>>> 7d614c9528e641d82efe154eef67e6fd1426fe42
     "metadata": {},
     "output_type": "execute_result"
    }
   ],
   "source": [
    "results.rsquared"
   ]
  },
  {
   "cell_type": "markdown",
   "metadata": {
    "slideshow": {
     "slide_type": "fragment"
    }
   },
   "source": [
    "Is this good or bad?"
   ]
  },
  {
   "cell_type": "markdown",
   "metadata": {
    "cell_style": "split",
    "slideshow": {
     "slide_type": "slide"
    }
   },
   "source": [
    "In multiple linear regression,  **adjusted** $R^2$ can be useful:\n",
    "\n",
    "- Clearly penalizes you for using more variables.\n",
    "- Consequence of adding a useless feature:\n",
    "    - $R^2$ the same\n",
    "    - **adjusted** $R^2$ drops."
   ]
  },
  {
   "cell_type": "markdown",
   "metadata": {
    "cell_style": "split",
    "slideshow": {
     "slide_type": "fragment"
    }
   },
   "source": [
    "$$ R^2 = 1 - \\frac{ \\sum_i (y_i - \\hat{y}_i)^2/(n-1)}{Var(Y)} $$ \n",
    "\n",
    "$$ R^2_{adj}  = 1 - \\frac{\\frac{\\sum_i (y_i - \\hat{y}_i)^2}{(n - K - 1)}}{Var(Y)} $$"
   ]
  },
  {
   "cell_type": "markdown",
   "metadata": {
    "cell_style": "split",
    "slideshow": {
     "slide_type": "-"
    }
   },
   "source": [
    "where $K$ is the number of features in the model."
   ]
  },
  {
   "cell_type": "code",
<<<<<<< HEAD
   "execution_count": 47,
=======
   "execution_count": 55,
   "id": "67e1ea6c",
>>>>>>> 7d614c9528e641d82efe154eef67e6fd1426fe42
   "metadata": {
    "slideshow": {
     "slide_type": "subslide"
    }
   },
   "outputs": [
    {
     "data": {
      "text/plain": [
       "0.7614446267112747"
      ]
     },
<<<<<<< HEAD
     "execution_count": 47,
=======
     "execution_count": 55,
>>>>>>> 7d614c9528e641d82efe154eef67e6fd1426fe42
     "metadata": {},
     "output_type": "execute_result"
    }
   ],
   "source": [
    "results.rsquared_adj"
   ]
  },
  {
   "cell_type": "markdown",
   "metadata": {
    "slideshow": {
     "slide_type": "subslide"
    }
   },
   "source": [
    "Using this adjusted $R^2$ metric only helps when:\n",
    "- your sample size N is small.\n",
    "- OR when number of features K comparable to N."
   ]
  },
  {
   "cell_type": "markdown",
   "metadata": {
    "slideshow": {
     "slide_type": "slide"
    }
   },
   "source": [
    "#### Problem of dependent variable scale"
   ]
  },
  {
   "cell_type": "code",
<<<<<<< HEAD
   "execution_count": 48,
=======
   "execution_count": 22,
   "id": "70b1aaa8",
>>>>>>> 7d614c9528e641d82efe154eef67e6fd1426fe42
   "metadata": {
    "slideshow": {
     "slide_type": "fragment"
    }
   },
   "outputs": [
    {
     "data": {
      "text/html": [
       "<div>\n",
       "<style scoped>\n",
       "    .dataframe tbody tr th:only-of-type {\n",
       "        vertical-align: middle;\n",
       "    }\n",
       "\n",
       "    .dataframe tbody tr th {\n",
       "        vertical-align: top;\n",
       "    }\n",
       "\n",
       "    .dataframe thead th {\n",
       "        text-align: right;\n",
       "    }\n",
       "</style>\n",
       "<table border=\"1\" class=\"dataframe\">\n",
       "  <thead>\n",
       "    <tr style=\"text-align: right;\">\n",
       "      <th></th>\n",
       "      <th>Alcohol</th>\n",
       "      <th>Hepatitis B</th>\n",
       "      <th>Measles</th>\n",
       "      <th>BMI</th>\n",
       "      <th>Polio</th>\n",
       "      <th>Total expenditure</th>\n",
       "      <th>HIV/AIDS</th>\n",
       "      <th>GDP</th>\n",
       "      <th>Population</th>\n",
       "      <th>thinness  1-19 years</th>\n",
       "      <th>Schooling</th>\n",
       "    </tr>\n",
       "  </thead>\n",
       "  <tbody>\n",
       "    <tr>\n",
       "      <th>count</th>\n",
       "      <td>1649.000000</td>\n",
       "      <td>1649.000000</td>\n",
       "      <td>1649.000000</td>\n",
       "      <td>1649.000000</td>\n",
       "      <td>1649.000000</td>\n",
       "      <td>1649.000000</td>\n",
       "      <td>1649.000000</td>\n",
       "      <td>1649.000000</td>\n",
       "      <td>1.649000e+03</td>\n",
       "      <td>1649.000000</td>\n",
       "      <td>1649.000000</td>\n",
       "    </tr>\n",
       "    <tr>\n",
       "      <th>mean</th>\n",
       "      <td>4.533196</td>\n",
       "      <td>79.217708</td>\n",
       "      <td>2224.494239</td>\n",
       "      <td>38.128623</td>\n",
       "      <td>83.564585</td>\n",
       "      <td>5.955925</td>\n",
       "      <td>1.983869</td>\n",
       "      <td>5566.031887</td>\n",
       "      <td>1.465363e+07</td>\n",
       "      <td>4.850637</td>\n",
       "      <td>12.119891</td>\n",
       "    </tr>\n",
       "    <tr>\n",
       "      <th>std</th>\n",
       "      <td>4.029189</td>\n",
       "      <td>25.604664</td>\n",
       "      <td>10085.802019</td>\n",
       "      <td>19.754249</td>\n",
       "      <td>22.450557</td>\n",
       "      <td>2.299385</td>\n",
       "      <td>6.032360</td>\n",
       "      <td>11475.900117</td>\n",
       "      <td>7.046039e+07</td>\n",
       "      <td>4.599228</td>\n",
       "      <td>2.795388</td>\n",
       "    </tr>\n",
       "    <tr>\n",
       "      <th>min</th>\n",
       "      <td>0.010000</td>\n",
       "      <td>2.000000</td>\n",
       "      <td>0.000000</td>\n",
       "      <td>2.000000</td>\n",
       "      <td>3.000000</td>\n",
       "      <td>0.740000</td>\n",
       "      <td>0.100000</td>\n",
       "      <td>1.681350</td>\n",
       "      <td>3.400000e+01</td>\n",
       "      <td>0.100000</td>\n",
       "      <td>4.200000</td>\n",
       "    </tr>\n",
       "    <tr>\n",
       "      <th>25%</th>\n",
       "      <td>0.810000</td>\n",
       "      <td>74.000000</td>\n",
       "      <td>0.000000</td>\n",
       "      <td>19.500000</td>\n",
       "      <td>81.000000</td>\n",
       "      <td>4.410000</td>\n",
       "      <td>0.100000</td>\n",
       "      <td>462.149650</td>\n",
       "      <td>1.918970e+05</td>\n",
       "      <td>1.600000</td>\n",
       "      <td>10.300000</td>\n",
       "    </tr>\n",
       "    <tr>\n",
       "      <th>50%</th>\n",
       "      <td>3.790000</td>\n",
       "      <td>89.000000</td>\n",
       "      <td>15.000000</td>\n",
       "      <td>43.700000</td>\n",
       "      <td>93.000000</td>\n",
       "      <td>5.840000</td>\n",
       "      <td>0.100000</td>\n",
       "      <td>1592.572182</td>\n",
       "      <td>1.419631e+06</td>\n",
       "      <td>3.000000</td>\n",
       "      <td>12.300000</td>\n",
       "    </tr>\n",
       "    <tr>\n",
       "      <th>75%</th>\n",
       "      <td>7.340000</td>\n",
       "      <td>96.000000</td>\n",
       "      <td>373.000000</td>\n",
       "      <td>55.800000</td>\n",
       "      <td>97.000000</td>\n",
       "      <td>7.470000</td>\n",
       "      <td>0.700000</td>\n",
       "      <td>4718.512910</td>\n",
       "      <td>7.658972e+06</td>\n",
       "      <td>7.100000</td>\n",
       "      <td>14.000000</td>\n",
       "    </tr>\n",
       "    <tr>\n",
       "      <th>max</th>\n",
       "      <td>17.870000</td>\n",
       "      <td>99.000000</td>\n",
       "      <td>131441.000000</td>\n",
       "      <td>77.100000</td>\n",
       "      <td>99.000000</td>\n",
       "      <td>14.390000</td>\n",
       "      <td>50.600000</td>\n",
       "      <td>119172.741800</td>\n",
       "      <td>1.293859e+09</td>\n",
       "      <td>27.200000</td>\n",
       "      <td>20.700000</td>\n",
       "    </tr>\n",
       "  </tbody>\n",
       "</table>\n",
       "</div>"
      ],
      "text/plain": [
       "           Alcohol  Hepatitis B       Measles          BMI         Polio  \\\n",
       "count  1649.000000  1649.000000    1649.000000  1649.000000  1649.000000   \n",
       "mean      4.533196    79.217708    2224.494239    38.128623    83.564585   \n",
       "std       4.029189    25.604664   10085.802019    19.754249    22.450557   \n",
       "min       0.010000     2.000000       0.000000     2.000000     3.000000   \n",
       "25%       0.810000    74.000000       0.000000    19.500000    81.000000   \n",
       "50%       3.790000    89.000000      15.000000    43.700000    93.000000   \n",
       "75%       7.340000    96.000000     373.000000    55.800000    97.000000   \n",
       "max      17.870000    99.000000  131441.000000    77.100000    99.000000   \n",
       "\n",
       "       Total expenditure     HIV/AIDS            GDP    Population  \\\n",
       "count        1649.000000  1649.000000    1649.000000  1.649000e+03   \n",
       "mean            5.955925     1.983869    5566.031887  1.465363e+07   \n",
       "std             2.299385     6.032360   11475.900117  7.046039e+07   \n",
       "min             0.740000     0.100000       1.681350  3.400000e+01   \n",
       "25%             4.410000     0.100000     462.149650  1.918970e+05   \n",
       "50%             5.840000     0.100000    1592.572182  1.419631e+06   \n",
       "75%             7.470000     0.700000    4718.512910  7.658972e+06   \n",
       "max            14.390000    50.600000  119172.741800  1.293859e+09   \n",
       "\n",
       "        thinness  1-19 years    Schooling  \n",
       "count            1649.000000  1649.000000  \n",
       "mean                4.850637    12.119891  \n",
       "std                 4.599228     2.795388  \n",
       "min                 0.100000     4.200000  \n",
       "25%                 1.600000    10.300000  \n",
       "50%                 3.000000    12.300000  \n",
       "75%                 7.100000    14.000000  \n",
       "max                27.200000    20.700000  "
      ]
     },
<<<<<<< HEAD
     "execution_count": 48,
=======
     "execution_count": 22,
>>>>>>> 7d614c9528e641d82efe154eef67e6fd1426fe42
     "metadata": {},
     "output_type": "execute_result"
    }
   ],
   "source": [
    "X.describe()"
   ]
  },
  {
   "cell_type": "markdown",
   "metadata": {
    "slideshow": {
     "slide_type": "fragment"
    }
   },
   "source": [
    "All these variables are on totally different numerical scales."
   ]
  },
  {
   "cell_type": "code",
<<<<<<< HEAD
   "execution_count": 49,
=======
   "execution_count": 23,
   "id": "fac05a44",
>>>>>>> 7d614c9528e641d82efe154eef67e6fd1426fe42
   "metadata": {
    "cell_style": "split",
    "slideshow": {
     "slide_type": "slide"
    }
   },
   "outputs": [
    {
     "data": {
      "text/plain": [
       "const                    4.751520e+01\n",
       "Alcohol                 -1.106528e-01\n",
       "Hepatitis B             -4.152893e-04\n",
       "Measles                  2.067782e-05\n",
       " BMI                     5.474011e-02\n",
       "Polio                    2.755880e-02\n",
       "Total expenditure        9.030953e-02\n",
       " HIV/AIDS               -6.345569e-01\n",
       "GDP                      9.876450e-05\n",
       "Population               1.037370e-09\n",
       " thinness  1-19 years   -9.933873e-02\n",
       "Schooling                1.528351e+00\n",
       "dtype: float64"
      ]
     },
<<<<<<< HEAD
     "execution_count": 49,
=======
     "execution_count": 23,
>>>>>>> 7d614c9528e641d82efe154eef67e6fd1426fe42
     "metadata": {},
     "output_type": "execute_result"
    }
   ],
   "source": [
    "results.params"
   ]
  },
  {
   "cell_type": "markdown",
   "metadata": {
    "cell_style": "split",
    "slideshow": {
     "slide_type": "fragment"
    }
   },
   "source": [
    "**The problem**\n",
    "\n",
    "- The coefficients we fit to are the true slope, yes.\n",
    "- But totally different scales.\n",
    "- May want weights on comparable scale to compare influence of features on target."
   ]
  },
  {
   "cell_type": "markdown",
   "metadata": {
    "slideshow": {
     "slide_type": "slide"
    }
   },
   "source": [
    "Standardize the features:\n",
    "\n",
    "$$ x_j \\rightarrow \\frac{x_j -\\mu_j}{\\sigma_j} $$\n",
    "\n",
    "Centers the jth feature about the feature's mean and rescales by the standard deviation for observations.\n",
    "- Now permissible to compare weights (regression coefficients) that our models spit out to each other."
   ]
  },
  {
   "cell_type": "code",
<<<<<<< HEAD
   "execution_count": 58,
=======
   "execution_count": 56,
   "id": "01fdce31",
>>>>>>> 7d614c9528e641d82efe154eef67e6fd1426fe42
   "metadata": {
    "slideshow": {
     "slide_type": "fragment"
    }
   },
   "outputs": [],
   "source": [
    "def standardizer(col):\n",
    "    col_standardized = (col - col.mean())/col.std()\n",
    "    return col_standardized"
   ]
  },
  {
   "cell_type": "markdown",
   "metadata": {
    "slideshow": {
     "slide_type": "slide"
    }
   },
   "source": [
    "What pandas method can we use on X to standardized the columns?"
   ]
  },
  {
   "cell_type": "code",
<<<<<<< HEAD
   "execution_count": 59,
   "metadata": {},
   "outputs": [],
   "source": [
    "X_standard = X.apply(standardizer)"
   ]
  },
  {
   "cell_type": "code",
   "execution_count": 51,
=======
   "execution_count": 58,
   "id": "c695b618",
>>>>>>> 7d614c9528e641d82efe154eef67e6fd1426fe42
   "metadata": {
    "cell_style": "center",
    "slideshow": {
     "slide_type": "fragment"
    }
   },
   "outputs": [],
   "source": [
    "X_standard = X.apply(lambda x: (x-x.mean())/ x.std())"
   ]
  },
  {
   "cell_type": "code",
<<<<<<< HEAD
   "execution_count": 60,
=======
   "execution_count": 59,
   "id": "db7336a6",
>>>>>>> 7d614c9528e641d82efe154eef67e6fd1426fe42
   "metadata": {
    "scrolled": true,
    "slideshow": {
     "slide_type": "fragment"
    }
   },
   "outputs": [
    {
     "data": {
      "text/html": [
       "<div>\n",
       "<style scoped>\n",
       "    .dataframe tbody tr th:only-of-type {\n",
       "        vertical-align: middle;\n",
       "    }\n",
       "\n",
       "    .dataframe tbody tr th {\n",
       "        vertical-align: top;\n",
       "    }\n",
       "\n",
       "    .dataframe thead th {\n",
       "        text-align: right;\n",
       "    }\n",
       "</style>\n",
       "<table border=\"1\" class=\"dataframe\">\n",
       "  <thead>\n",
       "    <tr style=\"text-align: right;\">\n",
       "      <th></th>\n",
       "      <th>Alcohol</th>\n",
       "      <th>Hepatitis B</th>\n",
       "      <th>Measles</th>\n",
       "      <th>BMI</th>\n",
       "      <th>Polio</th>\n",
       "      <th>Total expenditure</th>\n",
       "      <th>HIV/AIDS</th>\n",
       "      <th>GDP</th>\n",
       "      <th>Population</th>\n",
       "      <th>thinness  1-19 years</th>\n",
       "      <th>Schooling</th>\n",
       "    </tr>\n",
       "  </thead>\n",
       "  <tbody>\n",
       "    <tr>\n",
       "      <th>count</th>\n",
       "      <td>1.649000e+03</td>\n",
       "      <td>1.649000e+03</td>\n",
       "      <td>1.649000e+03</td>\n",
       "      <td>1.649000e+03</td>\n",
       "      <td>1.649000e+03</td>\n",
       "      <td>1.649000e+03</td>\n",
       "      <td>1.649000e+03</td>\n",
       "      <td>1.649000e+03</td>\n",
       "      <td>1.649000e+03</td>\n",
       "      <td>1.649000e+03</td>\n",
       "      <td>1.649000e+03</td>\n",
       "    </tr>\n",
       "    <tr>\n",
       "      <th>mean</th>\n",
       "      <td>7.756076e-17</td>\n",
       "      <td>1.755889e-16</td>\n",
       "      <td>-8.617862e-18</td>\n",
       "      <td>-6.894290e-17</td>\n",
       "      <td>2.316050e-16</td>\n",
       "      <td>1.637394e-16</td>\n",
       "      <td>3.447145e-17</td>\n",
       "      <td>9.479648e-17</td>\n",
       "      <td>-2.154466e-17</td>\n",
       "      <td>1.206501e-16</td>\n",
       "      <td>7.928433e-16</td>\n",
       "    </tr>\n",
       "    <tr>\n",
       "      <th>std</th>\n",
       "      <td>1.000000e+00</td>\n",
       "      <td>1.000000e+00</td>\n",
       "      <td>1.000000e+00</td>\n",
       "      <td>1.000000e+00</td>\n",
       "      <td>1.000000e+00</td>\n",
       "      <td>1.000000e+00</td>\n",
       "      <td>1.000000e+00</td>\n",
       "      <td>1.000000e+00</td>\n",
       "      <td>1.000000e+00</td>\n",
       "      <td>1.000000e+00</td>\n",
       "      <td>1.000000e+00</td>\n",
       "    </tr>\n",
       "    <tr>\n",
       "      <th>min</th>\n",
       "      <td>-1.122607e+00</td>\n",
       "      <td>-3.015767e+00</td>\n",
       "      <td>-2.205570e-01</td>\n",
       "      <td>-1.828904e+00</td>\n",
       "      <td>-3.588534e+00</td>\n",
       "      <td>-2.268400e+00</td>\n",
       "      <td>-3.122939e-01</td>\n",
       "      <td>-4.848727e-01</td>\n",
       "      <td>-2.079692e-01</td>\n",
       "      <td>-1.032920e+00</td>\n",
       "      <td>-2.833200e+00</td>\n",
       "    </tr>\n",
       "    <tr>\n",
       "      <th>25%</th>\n",
       "      <td>-9.240559e-01</td>\n",
       "      <td>-2.037796e-01</td>\n",
       "      <td>-2.205570e-01</td>\n",
       "      <td>-9.430185e-01</td>\n",
       "      <td>-1.142326e-01</td>\n",
       "      <td>-6.723209e-01</td>\n",
       "      <td>-3.122939e-01</td>\n",
       "      <td>-4.447479e-01</td>\n",
       "      <td>-2.052462e-01</td>\n",
       "      <td>-7.067787e-01</td>\n",
       "      <td>-6.510335e-01</td>\n",
       "    </tr>\n",
       "    <tr>\n",
       "      <th>50%</th>\n",
       "      <td>-1.844530e-01</td>\n",
       "      <td>3.820512e-01</td>\n",
       "      <td>-2.190698e-01</td>\n",
       "      <td>2.820343e-01</td>\n",
       "      <td>4.202753e-01</td>\n",
       "      <td>-5.041556e-02</td>\n",
       "      <td>-3.122939e-01</td>\n",
       "      <td>-3.462438e-01</td>\n",
       "      <td>-1.878218e-01</td>\n",
       "      <td>-4.023798e-01</td>\n",
       "      <td>6.443084e-02</td>\n",
       "    </tr>\n",
       "    <tr>\n",
       "      <th>75%</th>\n",
       "      <td>6.966176e-01</td>\n",
       "      <td>6.554389e-01</td>\n",
       "      <td>-1.835743e-01</td>\n",
       "      <td>8.945608e-01</td>\n",
       "      <td>5.984446e-01</td>\n",
       "      <td>6.584695e-01</td>\n",
       "      <td>-2.128303e-01</td>\n",
       "      <td>-7.385207e-02</td>\n",
       "      <td>-9.927072e-02</td>\n",
       "      <td>4.890741e-01</td>\n",
       "      <td>6.725755e-01</td>\n",
       "    </tr>\n",
       "    <tr>\n",
       "      <th>max</th>\n",
       "      <td>3.310047e+00</td>\n",
       "      <td>7.726050e-01</td>\n",
       "      <td>1.281172e+01</td>\n",
       "      <td>1.972810e+00</td>\n",
       "      <td>6.875293e-01</td>\n",
       "      <td>3.667969e+00</td>\n",
       "      <td>8.059223e+00</td>\n",
       "      <td>9.899590e+00</td>\n",
       "      <td>1.815496e+01</td>\n",
       "      <td>4.859372e+00</td>\n",
       "      <td>3.069381e+00</td>\n",
       "    </tr>\n",
       "  </tbody>\n",
       "</table>\n",
       "</div>"
      ],
      "text/plain": [
       "            Alcohol   Hepatitis B      Measles           BMI          Polio  \\\n",
       "count  1.649000e+03  1.649000e+03  1.649000e+03  1.649000e+03  1.649000e+03   \n",
       "mean   7.756076e-17  1.755889e-16 -8.617862e-18 -6.894290e-17  2.316050e-16   \n",
       "std    1.000000e+00  1.000000e+00  1.000000e+00  1.000000e+00  1.000000e+00   \n",
       "min   -1.122607e+00 -3.015767e+00 -2.205570e-01 -1.828904e+00 -3.588534e+00   \n",
       "25%   -9.240559e-01 -2.037796e-01 -2.205570e-01 -9.430185e-01 -1.142326e-01   \n",
       "50%   -1.844530e-01  3.820512e-01 -2.190698e-01  2.820343e-01  4.202753e-01   \n",
       "75%    6.966176e-01  6.554389e-01 -1.835743e-01  8.945608e-01  5.984446e-01   \n",
       "max    3.310047e+00  7.726050e-01  1.281172e+01  1.972810e+00  6.875293e-01   \n",
       "\n",
       "       Total expenditure      HIV/AIDS           GDP    Population  \\\n",
       "count       1.649000e+03  1.649000e+03  1.649000e+03  1.649000e+03   \n",
       "mean        1.637394e-16  3.447145e-17  9.479648e-17 -2.154466e-17   \n",
       "std         1.000000e+00  1.000000e+00  1.000000e+00  1.000000e+00   \n",
       "min        -2.268400e+00 -3.122939e-01 -4.848727e-01 -2.079692e-01   \n",
       "25%        -6.723209e-01 -3.122939e-01 -4.447479e-01 -2.052462e-01   \n",
       "50%        -5.041556e-02 -3.122939e-01 -3.462438e-01 -1.878218e-01   \n",
       "75%         6.584695e-01 -2.128303e-01 -7.385207e-02 -9.927072e-02   \n",
       "max         3.667969e+00  8.059223e+00  9.899590e+00  1.815496e+01   \n",
       "\n",
       "        thinness  1-19 years     Schooling  \n",
       "count           1.649000e+03  1.649000e+03  \n",
       "mean            1.206501e-16  7.928433e-16  \n",
       "std             1.000000e+00  1.000000e+00  \n",
       "min            -1.032920e+00 -2.833200e+00  \n",
       "25%            -7.067787e-01 -6.510335e-01  \n",
       "50%            -4.023798e-01  6.443084e-02  \n",
       "75%             4.890741e-01  6.725755e-01  \n",
       "max             4.859372e+00  3.069381e+00  "
      ]
     },
<<<<<<< HEAD
     "execution_count": 60,
=======
     "execution_count": 59,
>>>>>>> 7d614c9528e641d82efe154eef67e6fd1426fe42
     "metadata": {},
     "output_type": "execute_result"
    }
   ],
   "source": [
    "X_standard.describe()"
   ]
  },
  {
   "cell_type": "markdown",
   "metadata": {
    "slideshow": {
     "slide_type": "slide"
    }
   },
   "source": [
    "Let's create that row of ones for the constant value."
   ]
  },
  {
   "cell_type": "code",
<<<<<<< HEAD
   "execution_count": 62,
=======
   "execution_count": 60,
   "id": "a52a9f73",
>>>>>>> 7d614c9528e641d82efe154eef67e6fd1426fe42
   "metadata": {
    "slideshow": {
     "slide_type": "fragment"
    }
   },
   "outputs": [],
   "source": [
    "X_standard_aug = sm.add_constant(X_standard)"
   ]
  },
  {
   "cell_type": "markdown",
   "metadata": {
    "slideshow": {
     "slide_type": "slide"
    }
   },
   "source": [
    "Fit the model"
   ]
  },
  {
   "cell_type": "code",
   "execution_count": 63,
   "metadata": {
    "slideshow": {
     "slide_type": "fragment"
    }
   },
   "outputs": [],
   "source": [
    "# define/fit statsmodel ordinary least squares model\n",
    "results_standardized = sm.OLS(y, X_standard_aug).fit()"
   ]
  },
  {
   "cell_type": "markdown",
   "metadata": {
    "slideshow": {
     "slide_type": "slide"
    }
   },
   "source": [
    "Now calculate the parameters"
   ]
  },
  {
   "cell_type": "code",
   "execution_count": 66,
   "metadata": {
    "slideshow": {
     "slide_type": "fragment"
    }
   },
   "outputs": [
    {
     "data": {
      "text/plain": [
       "const                    69.302304\n",
       "Alcohol                  -0.445841\n",
       "Hepatitis B              -0.010633\n",
       "Measles                   0.208552\n",
       " BMI                      1.081350\n",
       "Polio                     0.618710\n",
       "Total expenditure         0.207656\n",
       " HIV/AIDS                -3.827876\n",
       "GDP                       1.133412\n",
       "Population                0.073093\n",
       " thinness  1-19 years    -0.456881\n",
       "Schooling                 4.272332\n",
       "dtype: float64"
      ]
     },
     "execution_count": 66,
     "metadata": {},
     "output_type": "execute_result"
    }
   ],
   "source": [
    "weights = results_standardized.params\n",
    "weights"
   ]
  },
  {
   "cell_type": "markdown",
   "metadata": {
    "slideshow": {
     "slide_type": "slide"
    }
   },
   "source": [
    "Visualizing the weights"
   ]
  },
  {
   "cell_type": "code",
<<<<<<< HEAD
   "execution_count": 67,
=======
   "execution_count": 30,
   "id": "9a21491e",
>>>>>>> 7d614c9528e641d82efe154eef67e6fd1426fe42
   "metadata": {
    "slideshow": {
     "slide_type": "fragment"
    }
   },
   "outputs": [
    {
     "data": {
      "image/png": "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\n",
      "text/plain": [
       "<Figure size 720x360 with 1 Axes>"
      ]
     },
     "metadata": {
      "needs_background": "light"
     },
     "output_type": "display_data"
    }
   ],
   "source": [
    "plt.figure(figsize=(10,5))\n",
    "sns.barplot(y = weights[1::].index, x = weights[1::].values)\n",
    "plt.title(\"Weights for factors correlating with life expectancy\")\n",
    "plt.ylabel('Weight')\n",
    "plt.show()"
   ]
  },
  {
   "cell_type": "markdown",
   "metadata": {
    "slideshow": {
     "slide_type": "fragment"
    }
   },
   "source": [
    "Does this make sense?"
   ]
  },
  {
   "cell_type": "markdown",
   "metadata": {
    "slideshow": {
     "slide_type": "slide"
    }
   },
   "source": [
    "Evaluate $ R^2 $:"
   ]
  },
  {
   "cell_type": "code",
<<<<<<< HEAD
   "execution_count": 68,
=======
   "execution_count": 31,
   "id": "0b04546b",
>>>>>>> 7d614c9528e641d82efe154eef67e6fd1426fe42
   "metadata": {
    "slideshow": {
     "slide_type": "fragment"
    }
   },
   "outputs": [
    {
     "data": {
      "text/plain": [
       "0.7630369259261873"
      ]
     },
<<<<<<< HEAD
     "execution_count": 68,
=======
     "execution_count": 31,
>>>>>>> 7d614c9528e641d82efe154eef67e6fd1426fe42
     "metadata": {},
     "output_type": "execute_result"
    }
   ],
   "source": [
    "results_standardized.rsquared"
   ]
  },
  {
   "cell_type": "markdown",
   "metadata": {
    "slideshow": {
     "slide_type": "slide"
    }
   },
   "source": [
    "Now let's take a look at the summary:"
   ]
  },
  {
   "cell_type": "code",
<<<<<<< HEAD
   "execution_count": 69,
=======
   "execution_count": 32,
   "id": "5b1e0c37",
>>>>>>> 7d614c9528e641d82efe154eef67e6fd1426fe42
   "metadata": {
    "slideshow": {
     "slide_type": "subslide"
    }
   },
   "outputs": [
    {
     "data": {
      "text/html": [
       "<table class=\"simpletable\">\n",
       "<caption>OLS Regression Results</caption>\n",
       "<tr>\n",
       "  <th>Dep. Variable:</th>    <td>Life expectancy </td> <th>  R-squared:         </th> <td>   0.763</td>\n",
       "</tr>\n",
       "<tr>\n",
       "  <th>Model:</th>                   <td>OLS</td>       <th>  Adj. R-squared:    </th> <td>   0.761</td>\n",
       "</tr>\n",
       "<tr>\n",
       "  <th>Method:</th>             <td>Least Squares</td>  <th>  F-statistic:       </th> <td>   479.2</td>\n",
       "</tr>\n",
       "<tr>\n",
       "  <th>Date:</th>             <td>Thu, 08 Sep 2022</td> <th>  Prob (F-statistic):</th>  <td>  0.00</td> \n",
       "</tr>\n",
       "<tr>\n",
<<<<<<< HEAD
       "  <th>Time:</th>                 <td>11:55:06</td>     <th>  Log-Likelihood:    </th> <td> -4737.7</td>\n",
=======
       "  <th>Time:</th>                 <td>11:07:35</td>     <th>  Log-Likelihood:    </th> <td> -4737.7</td>\n",
>>>>>>> 7d614c9528e641d82efe154eef67e6fd1426fe42
       "</tr>\n",
       "<tr>\n",
       "  <th>No. Observations:</th>      <td>  1649</td>      <th>  AIC:               </th> <td>   9499.</td>\n",
       "</tr>\n",
       "<tr>\n",
       "  <th>Df Residuals:</th>          <td>  1637</td>      <th>  BIC:               </th> <td>   9564.</td>\n",
       "</tr>\n",
       "<tr>\n",
       "  <th>Df Model:</th>              <td>    11</td>      <th>                     </th>     <td> </td>   \n",
       "</tr>\n",
       "<tr>\n",
       "  <th>Covariance Type:</th>      <td>nonrobust</td>    <th>                     </th>     <td> </td>   \n",
       "</tr>\n",
       "</table>\n",
       "<table class=\"simpletable\">\n",
       "<tr>\n",
       "            <td></td>               <th>coef</th>     <th>std err</th>      <th>t</th>      <th>P>|t|</th>  <th>[0.025</th>    <th>0.975]</th>  \n",
       "</tr>\n",
       "<tr>\n",
       "  <th>const</th>                 <td>   69.3023</td> <td>    0.106</td> <td>  654.994</td> <td> 0.000</td> <td>   69.095</td> <td>   69.510</td>\n",
       "</tr>\n",
       "<tr>\n",
       "  <th>Alcohol</th>               <td>   -0.4458</td> <td>    0.142</td> <td>   -3.148</td> <td> 0.002</td> <td>   -0.724</td> <td>   -0.168</td>\n",
       "</tr>\n",
       "<tr>\n",
       "  <th>Hepatitis B</th>           <td>   -0.0106</td> <td>    0.122</td> <td>   -0.087</td> <td> 0.930</td> <td>   -0.249</td> <td>    0.228</td>\n",
       "</tr>\n",
       "<tr>\n",
       "  <th>Measles </th>              <td>    0.2086</td> <td>    0.114</td> <td>    1.836</td> <td> 0.066</td> <td>   -0.014</td> <td>    0.431</td>\n",
       "</tr>\n",
       "<tr>\n",
       "  <th> BMI </th>                 <td>    1.0813</td> <td>    0.139</td> <td>    7.791</td> <td> 0.000</td> <td>    0.809</td> <td>    1.354</td>\n",
       "</tr>\n",
       "<tr>\n",
       "  <th>Polio</th>                 <td>    0.6187</td> <td>    0.125</td> <td>    4.946</td> <td> 0.000</td> <td>    0.373</td> <td>    0.864</td>\n",
       "</tr>\n",
       "<tr>\n",
       "  <th>Total expenditure</th>     <td>    0.2077</td> <td>    0.111</td> <td>    1.863</td> <td> 0.063</td> <td>   -0.011</td> <td>    0.426</td>\n",
       "</tr>\n",
       "<tr>\n",
       "  <th> HIV/AIDS</th>             <td>   -3.8279</td> <td>    0.112</td> <td>  -34.321</td> <td> 0.000</td> <td>   -4.047</td> <td>   -3.609</td>\n",
       "</tr>\n",
       "<tr>\n",
       "  <th>GDP</th>                   <td>    1.1334</td> <td>    0.124</td> <td>    9.172</td> <td> 0.000</td> <td>    0.891</td> <td>    1.376</td>\n",
       "</tr>\n",
       "<tr>\n",
       "  <th>Population</th>            <td>    0.0731</td> <td>    0.117</td> <td>    0.623</td> <td> 0.533</td> <td>   -0.157</td> <td>    0.303</td>\n",
       "</tr>\n",
       "<tr>\n",
       "  <th> thinness  1-19 years</th> <td>   -0.4569</td> <td>    0.140</td> <td>   -3.259</td> <td> 0.001</td> <td>   -0.732</td> <td>   -0.182</td>\n",
       "</tr>\n",
       "<tr>\n",
       "  <th>Schooling</th>             <td>    4.2723</td> <td>    0.165</td> <td>   25.933</td> <td> 0.000</td> <td>    3.949</td> <td>    4.595</td>\n",
       "</tr>\n",
       "</table>\n",
       "<table class=\"simpletable\">\n",
       "<tr>\n",
       "  <th>Omnibus:</th>       <td>19.735</td> <th>  Durbin-Watson:     </th> <td>   0.437</td>\n",
       "</tr>\n",
       "<tr>\n",
       "  <th>Prob(Omnibus):</th> <td> 0.000</td> <th>  Jarque-Bera (JB):  </th> <td>  23.292</td>\n",
       "</tr>\n",
       "<tr>\n",
       "  <th>Skew:</th>          <td>-0.193</td> <th>  Prob(JB):          </th> <td>8.76e-06</td>\n",
       "</tr>\n",
       "<tr>\n",
       "  <th>Kurtosis:</th>      <td> 3.436</td> <th>  Cond. No.          </th> <td>    3.28</td>\n",
       "</tr>\n",
       "</table><br/><br/>Notes:<br/>[1] Standard Errors assume that the covariance matrix of the errors is correctly specified."
      ],
      "text/plain": [
       "<class 'statsmodels.iolib.summary.Summary'>\n",
       "\"\"\"\n",
       "                            OLS Regression Results                            \n",
       "==============================================================================\n",
       "Dep. Variable:       Life expectancy    R-squared:                       0.763\n",
       "Model:                            OLS   Adj. R-squared:                  0.761\n",
       "Method:                 Least Squares   F-statistic:                     479.2\n",
       "Date:                Thu, 08 Sep 2022   Prob (F-statistic):               0.00\n",
<<<<<<< HEAD
       "Time:                        11:55:06   Log-Likelihood:                -4737.7\n",
=======
       "Time:                        11:07:35   Log-Likelihood:                -4737.7\n",
>>>>>>> 7d614c9528e641d82efe154eef67e6fd1426fe42
       "No. Observations:                1649   AIC:                             9499.\n",
       "Df Residuals:                    1637   BIC:                             9564.\n",
       "Df Model:                          11                                         \n",
       "Covariance Type:            nonrobust                                         \n",
       "=========================================================================================\n",
       "                            coef    std err          t      P>|t|      [0.025      0.975]\n",
       "-----------------------------------------------------------------------------------------\n",
       "const                    69.3023      0.106    654.994      0.000      69.095      69.510\n",
       "Alcohol                  -0.4458      0.142     -3.148      0.002      -0.724      -0.168\n",
       "Hepatitis B              -0.0106      0.122     -0.087      0.930      -0.249       0.228\n",
       "Measles                   0.2086      0.114      1.836      0.066      -0.014       0.431\n",
       " BMI                      1.0813      0.139      7.791      0.000       0.809       1.354\n",
       "Polio                     0.6187      0.125      4.946      0.000       0.373       0.864\n",
       "Total expenditure         0.2077      0.111      1.863      0.063      -0.011       0.426\n",
       " HIV/AIDS                -3.8279      0.112    -34.321      0.000      -4.047      -3.609\n",
       "GDP                       1.1334      0.124      9.172      0.000       0.891       1.376\n",
       "Population                0.0731      0.117      0.623      0.533      -0.157       0.303\n",
       " thinness  1-19 years    -0.4569      0.140     -3.259      0.001      -0.732      -0.182\n",
       "Schooling                 4.2723      0.165     25.933      0.000       3.949       4.595\n",
       "==============================================================================\n",
       "Omnibus:                       19.735   Durbin-Watson:                   0.437\n",
       "Prob(Omnibus):                  0.000   Jarque-Bera (JB):               23.292\n",
       "Skew:                          -0.193   Prob(JB):                     8.76e-06\n",
       "Kurtosis:                       3.436   Cond. No.                         3.28\n",
       "==============================================================================\n",
       "\n",
       "Notes:\n",
       "[1] Standard Errors assume that the covariance matrix of the errors is correctly specified.\n",
       "\"\"\""
      ]
     },
<<<<<<< HEAD
     "execution_count": 69,
=======
     "execution_count": 32,
>>>>>>> 7d614c9528e641d82efe154eef67e6fd1426fe42
     "metadata": {},
     "output_type": "execute_result"
    }
   ],
   "source": [
    "results_standardized.summary()"
   ]
  },
  {
   "cell_type": "markdown",
   "metadata": {
    "slideshow": {
     "slide_type": "slide"
    }
   },
   "source": [
    "What should we tell the King are likely some areas that generally affect life expectancy throughout the world?"
   ]
  },
  {
   "cell_type": "markdown",
   "metadata": {
    "slideshow": {
     "slide_type": "slide"
    }
   },
   "source": [
    "In future lectures: \n",
    "- inference vs prediction.\n",
    "- building regression models that perform well in prediction.\n",
    "- using categorical variables as features in a regression.\n",
    "    \n"
   ]
  }
 ],
 "metadata": {
  "celltoolbar": "Slideshow",
  "interpreter": {
   "hash": "95508d1f9e276930ee7bf977622471e4c9572bc985693ed5ef89eacdfe75f4af"
  },
  "kernelspec": {
   "display_name": "Python 3",
   "language": "python",
   "name": "python3"
  },
  "language_info": {
   "codemirror_mode": {
    "name": "ipython",
    "version": 3
   },
   "file_extension": ".py",
   "mimetype": "text/x-python",
   "name": "python",
   "nbconvert_exporter": "python",
   "pygments_lexer": "ipython3",
   "version": "3.8.5"
  }
 },
 "nbformat": 4,
 "nbformat_minor": 5
}
