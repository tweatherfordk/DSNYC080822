{
 "cells": [
  {
   "cell_type": "markdown",
   "metadata": {
    "slideshow": {
     "slide_type": "slide"
    }
   },
   "source": [
    "<div style=\"color:white;\n",
    "           display:fill;\n",
    "           border-radius:5px;\n",
    "           background-color:#5642C5;\n",
    "           font-size:200%;\n",
    "           font-family:Arial;letter-spacing:0.5px\">\n",
    "\n",
    "<p width = 20%, style=\"padding: 10px;\n",
    "              color:white;\">\n",
    "Inference and Prediction\n",
    "              \n",
    "</p>\n",
    "</div>\n",
    "\n",
    "Data Science Cohort Live NYC Aug 2022\n",
    "<p>Phase 2: Topic 19</p>\n",
    "<br>\n",
    "<br>\n",
    "\n",
    "<div align = \"right\">\n",
    "<img src=\"Images/flatiron-school-logo.png\" align = \"right\" width=\"200\"/>\n",
    "</div>\n",
    "    \n",
    "    "
   ]
  },
  {
   "cell_type": "markdown",
   "metadata": {
    "cell_style": "center",
    "slideshow": {
     "slide_type": "slide"
    }
   },
   "source": [
    "**Inference**\n",
    "\n",
    "- Hypothesis testing based on limited information."
   ]
  },
  {
   "cell_type": "markdown",
   "metadata": {
    "cell_style": "center",
    "slideshow": {
     "slide_type": "slide"
    }
   },
   "source": [
    "**In the context of t-testing on means**:"
   ]
  },
  {
   "cell_type": "markdown",
   "metadata": {
    "cell_style": "split",
    "slideshow": {
     "slide_type": "fragment"
    }
   },
   "source": [
    "The **sample mean** of the Gabonese elephants vs. the mean of the savannah population.\n",
    "\n",
    "Is there a significant difference between the Gabonese and general Savannah population?"
   ]
  },
  {
   "cell_type": "markdown",
   "metadata": {
    "cell_style": "split",
    "slideshow": {
     "slide_type": "fragment"
    }
   },
   "source": [
    "<center><img src = \"Images/elephants.jpg\" align = center width = 400></center>\n",
    "<center>Forest vs. Savannah elephants</center>"
   ]
  },
  {
   "cell_type": "markdown",
   "metadata": {
    "slideshow": {
     "slide_type": "slide"
    }
   },
   "source": [
    "**In the context of chi-squared testing**:"
   ]
  },
  {
   "cell_type": "markdown",
   "metadata": {
    "cell_style": "split",
    "slideshow": {
     "slide_type": "fragment"
    }
   },
   "source": [
    "Character classes preferences for MMORPG players:\n",
    "- UK **sample count distribution**.\n",
    "- Expected from US population.\n",
    "\n",
    "Is there a significant difference in class preferences between UK and US users?"
   ]
  },
  {
   "cell_type": "markdown",
   "metadata": {
    "cell_style": "split",
    "slideshow": {
     "slide_type": "fragment"
    }
   },
   "source": [
    "<center><img src = \"Images/mmorpg.png\" align = \"center\" width = 800 /></center>\n",
    "<center>Bombergirl looks like some fun.</center>"
   ]
  },
  {
   "cell_type": "markdown",
   "metadata": {
    "slideshow": {
     "slide_type": "slide"
    }
   },
   "source": [
    "**In the context of linear regression**:"
   ]
  },
  {
   "cell_type": "markdown",
   "metadata": {
    "cell_style": "split",
    "slideshow": {
     "slide_type": "fragment"
    }
   },
   "source": [
    "\n",
    "\n",
    "- Does the total population in a country have any correlation with its average life expectancy?\n",
    "- Which factors can be said to have **statistically significant** effects on explaining the variance in life expectancy?\n",
    "- What is the weight of each factor? What is our uncertainty in this weight?"
   ]
  },
  {
   "cell_type": "markdown",
   "metadata": {
    "cell_style": "split",
    "slideshow": {
     "slide_type": "fragment"
    }
   },
   "source": [
    "<center><img src = \"Images/jaffer.png\" width = 400></center>\n",
    "<center>You are keeping him waiting for answers...</center>"
   ]
  },
  {
   "cell_type": "markdown",
   "metadata": {
    "cell_style": "center",
    "slideshow": {
     "slide_type": "slide"
    }
   },
   "source": [
    "- Get data.\n",
    "- Make inference from a statistic/estimator based off the data (sample):\n",
    "    - sample mean $\\bar{X}$\n",
    "    - sample median\n",
    "    - $\\hat{\\beta}_1$, $\\hat{\\beta}_0$ from linear regression on dataset."
   ]
  },
  {
   "cell_type": "code",
   "execution_count": 1,
   "metadata": {
    "cell_style": "center",
    "slideshow": {
     "slide_type": "fragment"
    }
   },
   "outputs": [],
   "source": [
    "import pandas as pd\n",
    "import numpy as np\n",
    "#load WHO dataset: all countries health data 2001-2015\n",
    "WHO_df = pd.read_csv('Data/WHO_life.csv').dropna()\n",
    "\n",
    "# stripping white space on column names\n",
    "WHO_df.columns = WHO_df.columns.str.strip()"
   ]
  },
  {
   "cell_type": "code",
   "execution_count": 2,
   "metadata": {
    "cell_style": "center",
    "scrolled": false,
    "slideshow": {
     "slide_type": "subslide"
    }
   },
   "outputs": [
    {
     "name": "stdout",
     "output_type": "stream",
     "text": [
      "<class 'pandas.core.frame.DataFrame'>\n",
      "Int64Index: 1649 entries, 0 to 2937\n",
      "Data columns (total 22 columns):\n",
      " #   Column                           Non-Null Count  Dtype  \n",
      "---  ------                           --------------  -----  \n",
      " 0   Country                          1649 non-null   object \n",
      " 1   Year                             1649 non-null   int64  \n",
      " 2   Status                           1649 non-null   object \n",
      " 3   Life expectancy                  1649 non-null   float64\n",
      " 4   Adult Mortality                  1649 non-null   float64\n",
      " 5   infant deaths                    1649 non-null   int64  \n",
      " 6   Alcohol                          1649 non-null   float64\n",
      " 7   percentage expenditure           1649 non-null   float64\n",
      " 8   Hepatitis B                      1649 non-null   float64\n",
      " 9   Measles                          1649 non-null   int64  \n",
      " 10  BMI                              1649 non-null   float64\n",
      " 11  under-five deaths                1649 non-null   int64  \n",
      " 12  Polio                            1649 non-null   float64\n",
      " 13  Total expenditure                1649 non-null   float64\n",
      " 14  Diphtheria                       1649 non-null   float64\n",
      " 15  HIV/AIDS                         1649 non-null   float64\n",
      " 16  GDP                              1649 non-null   float64\n",
      " 17  Population                       1649 non-null   float64\n",
      " 18  thinness  1-19 years             1649 non-null   float64\n",
      " 19  thinness 5-9 years               1649 non-null   float64\n",
      " 20  Income composition of resources  1649 non-null   float64\n",
      " 21  Schooling                        1649 non-null   float64\n",
      "dtypes: float64(16), int64(4), object(2)\n",
      "memory usage: 296.3+ KB\n"
     ]
    }
   ],
   "source": [
    "WHO_df.info()"
   ]
  },
  {
   "cell_type": "code",
   "execution_count": 3,
<<<<<<< HEAD
=======
   "id": "f7548105",
>>>>>>> 7d614c9528e641d82efe154eef67e6fd1426fe42
   "metadata": {
    "cell_style": "center"
   },
   "outputs": [],
   "source": [
    "feature_cols = ['HIV/AIDS', 'BMI', 'Population', 'Polio', 'Population', 'Alcohol', 'GDP']\n",
    "X = WHO_df[feature_cols]\n",
    "# standardize features\n",
    "X_standard = X.apply(lambda x: (x - x.mean())/x.std() )\n",
    "y = WHO_df['Life expectancy']\n",
    "y_standard = (y - y.mean())/y.std()"
   ]
  },
  {
   "cell_type": "markdown",
   "metadata": {
    "slideshow": {
     "slide_type": "slide"
    }
   },
   "source": [
    "Which of these factors affect life expectancy? Their relative weights?\n",
    "\n",
    "- Confidence intervals of weights\n",
    "- Key here is *understanding* of relationships between dependent and independent variables.\n",
    "- Minimal model explaining variance.\n",
    "\n",
    "We did this kind of statistical inference with statsmodels."
   ]
  },
  {
   "cell_type": "code",
   "execution_count": 4,
   "metadata": {},
   "outputs": [
    {
     "name": "stderr",
     "output_type": "stream",
     "text": [
      "C:\\ProgramData\\Anaconda3\\lib\\site-packages\\statsmodels\\tsa\\tsatools.py:142: FutureWarning: In a future version of pandas all arguments of concat except for the argument 'objs' will be keyword-only\n",
      "  x = pd.concat(x[::order], 1)\n"
     ]
    }
   ],
   "source": [
    "import statsmodels.api as sm\n",
    "X_aug = sm.add_constant(X_standard)\n",
    "res = sm.OLS(y_standard, X_aug).fit()"
   ]
  },
  {
   "cell_type": "code",
   "execution_count": 5,
<<<<<<< HEAD
=======
   "id": "14be3476",
>>>>>>> 7d614c9528e641d82efe154eef67e6fd1426fe42
   "metadata": {
    "slideshow": {
     "slide_type": "subslide"
    }
   },
   "outputs": [
    {
     "data": {
      "text/html": [
       "<table class=\"simpletable\">\n",
       "<caption>OLS Regression Results</caption>\n",
       "<tr>\n",
       "  <th>Dep. Variable:</th>     <td>Life expectancy</td> <th>  R-squared:         </th> <td>   0.656</td>\n",
       "</tr>\n",
       "<tr>\n",
       "  <th>Model:</th>                   <td>OLS</td>       <th>  Adj. R-squared:    </th> <td>   0.655</td>\n",
       "</tr>\n",
       "<tr>\n",
       "  <th>Method:</th>             <td>Least Squares</td>  <th>  F-statistic:       </th> <td>   522.0</td>\n",
       "</tr>\n",
       "<tr>\n",
       "  <th>Date:</th>             <td>Thu, 08 Sep 2022</td> <th>  Prob (F-statistic):</th>  <td>  0.00</td> \n",
       "</tr>\n",
       "<tr>\n",
<<<<<<< HEAD
       "  <th>Time:</th>                 <td>14:25:03</td>     <th>  Log-Likelihood:    </th> <td> -1459.3</td>\n",
=======
       "  <th>Time:</th>                 <td>14:02:36</td>     <th>  Log-Likelihood:    </th> <td> -1459.3</td>\n",
>>>>>>> 7d614c9528e641d82efe154eef67e6fd1426fe42
       "</tr>\n",
       "<tr>\n",
       "  <th>No. Observations:</th>      <td>  1649</td>      <th>  AIC:               </th> <td>   2933.</td>\n",
       "</tr>\n",
       "<tr>\n",
       "  <th>Df Residuals:</th>          <td>  1642</td>      <th>  BIC:               </th> <td>   2971.</td>\n",
       "</tr>\n",
       "<tr>\n",
       "  <th>Df Model:</th>              <td>     6</td>      <th>                     </th>     <td> </td>   \n",
       "</tr>\n",
       "<tr>\n",
       "  <th>Covariance Type:</th>      <td>nonrobust</td>    <th>                     </th>     <td> </td>   \n",
       "</tr>\n",
       "</table>\n",
       "<table class=\"simpletable\">\n",
       "<tr>\n",
       "       <td></td>         <th>coef</th>     <th>std err</th>      <th>t</th>      <th>P>|t|</th>  <th>[0.025</th>    <th>0.975]</th>  \n",
       "</tr>\n",
       "<tr>\n",
<<<<<<< HEAD
       "  <th>const</th>      <td> 7.223e-16</td> <td>    0.014</td> <td> 4.99e-14</td> <td> 1.000</td> <td>   -0.028</td> <td>    0.028</td>\n",
=======
       "  <th>const</th>      <td>-2.503e-15</td> <td>    0.014</td> <td>-1.73e-13</td> <td> 1.000</td> <td>   -0.028</td> <td>    0.028</td>\n",
>>>>>>> 7d614c9528e641d82efe154eef67e6fd1426fe42
       "</tr>\n",
       "<tr>\n",
       "  <th>HIV/AIDS</th>   <td>   -0.4849</td> <td>    0.015</td> <td>  -32.453</td> <td> 0.000</td> <td>   -0.514</td> <td>   -0.456</td>\n",
       "</tr>\n",
       "<tr>\n",
       "  <th>BMI</th>        <td>    0.3010</td> <td>    0.016</td> <td>   18.751</td> <td> 0.000</td> <td>    0.270</td> <td>    0.332</td>\n",
       "</tr>\n",
       "<tr>\n",
       "  <th>Population</th> <td>    0.0021</td> <td>    0.007</td> <td>    0.294</td> <td> 0.769</td> <td>   -0.012</td> <td>    0.016</td>\n",
       "</tr>\n",
       "<tr>\n",
       "  <th>Polio</th>      <td>    0.1486</td> <td>    0.015</td> <td>    9.858</td> <td> 0.000</td> <td>    0.119</td> <td>    0.178</td>\n",
       "</tr>\n",
       "<tr>\n",
       "  <th>Population</th> <td>    0.0021</td> <td>    0.007</td> <td>    0.294</td> <td> 0.769</td> <td>   -0.012</td> <td>    0.016</td>\n",
       "</tr>\n",
       "<tr>\n",
       "  <th>Alcohol</th>    <td>    0.1506</td> <td>    0.017</td> <td>    8.820</td> <td> 0.000</td> <td>    0.117</td> <td>    0.184</td>\n",
       "</tr>\n",
       "<tr>\n",
       "  <th>GDP</th>        <td>    0.2188</td> <td>    0.016</td> <td>   13.382</td> <td> 0.000</td> <td>    0.187</td> <td>    0.251</td>\n",
       "</tr>\n",
       "</table>\n",
       "<table class=\"simpletable\">\n",
       "<tr>\n",
       "  <th>Omnibus:</th>       <td>19.852</td> <th>  Durbin-Watson:     </th> <td>   0.588</td>\n",
       "</tr>\n",
       "<tr>\n",
       "  <th>Prob(Omnibus):</th> <td> 0.000</td> <th>  Jarque-Bera (JB):  </th> <td>  26.909</td>\n",
       "</tr>\n",
       "<tr>\n",
       "  <th>Skew:</th>          <td>-0.145</td> <th>  Prob(JB):          </th> <td>1.43e-06</td>\n",
       "</tr>\n",
       "<tr>\n",
<<<<<<< HEAD
       "  <th>Kurtosis:</th>      <td> 3.555</td> <th>  Cond. No.          </th> <td>7.65e+15</td>\n",
       "</tr>\n",
       "</table><br/><br/>Notes:<br/>[1] Standard Errors assume that the covariance matrix of the errors is correctly specified.<br/>[2] The smallest eigenvalue is 5.84e-29. This might indicate that there are<br/>strong multicollinearity problems or that the design matrix is singular."
=======
       "  <th>Kurtosis:</th>      <td> 3.555</td> <th>  Cond. No.          </th> <td>3.29e+16</td>\n",
       "</tr>\n",
       "</table><br/><br/>Notes:<br/>[1] Standard Errors assume that the covariance matrix of the errors is correctly specified.<br/>[2] The smallest eigenvalue is 3.16e-30. This might indicate that there are<br/>strong multicollinearity problems or that the design matrix is singular."
>>>>>>> 7d614c9528e641d82efe154eef67e6fd1426fe42
      ],
      "text/plain": [
       "<class 'statsmodels.iolib.summary.Summary'>\n",
       "\"\"\"\n",
       "                            OLS Regression Results                            \n",
       "==============================================================================\n",
       "Dep. Variable:        Life expectancy   R-squared:                       0.656\n",
       "Model:                            OLS   Adj. R-squared:                  0.655\n",
       "Method:                 Least Squares   F-statistic:                     522.0\n",
       "Date:                Thu, 08 Sep 2022   Prob (F-statistic):               0.00\n",
<<<<<<< HEAD
       "Time:                        14:25:03   Log-Likelihood:                -1459.3\n",
=======
       "Time:                        14:02:36   Log-Likelihood:                -1459.3\n",
>>>>>>> 7d614c9528e641d82efe154eef67e6fd1426fe42
       "No. Observations:                1649   AIC:                             2933.\n",
       "Df Residuals:                    1642   BIC:                             2971.\n",
       "Df Model:                           6                                         \n",
       "Covariance Type:            nonrobust                                         \n",
       "==============================================================================\n",
       "                 coef    std err          t      P>|t|      [0.025      0.975]\n",
       "------------------------------------------------------------------------------\n",
<<<<<<< HEAD
       "const       7.223e-16      0.014   4.99e-14      1.000      -0.028       0.028\n",
=======
       "const      -2.503e-15      0.014  -1.73e-13      1.000      -0.028       0.028\n",
>>>>>>> 7d614c9528e641d82efe154eef67e6fd1426fe42
       "HIV/AIDS      -0.4849      0.015    -32.453      0.000      -0.514      -0.456\n",
       "BMI            0.3010      0.016     18.751      0.000       0.270       0.332\n",
       "Population     0.0021      0.007      0.294      0.769      -0.012       0.016\n",
       "Polio          0.1486      0.015      9.858      0.000       0.119       0.178\n",
       "Population     0.0021      0.007      0.294      0.769      -0.012       0.016\n",
       "Alcohol        0.1506      0.017      8.820      0.000       0.117       0.184\n",
       "GDP            0.2188      0.016     13.382      0.000       0.187       0.251\n",
       "==============================================================================\n",
       "Omnibus:                       19.852   Durbin-Watson:                   0.588\n",
       "Prob(Omnibus):                  0.000   Jarque-Bera (JB):               26.909\n",
       "Skew:                          -0.145   Prob(JB):                     1.43e-06\n",
<<<<<<< HEAD
       "Kurtosis:                       3.555   Cond. No.                     7.65e+15\n",
=======
       "Kurtosis:                       3.555   Cond. No.                     3.29e+16\n",
>>>>>>> 7d614c9528e641d82efe154eef67e6fd1426fe42
       "==============================================================================\n",
       "\n",
       "Notes:\n",
       "[1] Standard Errors assume that the covariance matrix of the errors is correctly specified.\n",
<<<<<<< HEAD
       "[2] The smallest eigenvalue is 5.84e-29. This might indicate that there are\n",
=======
       "[2] The smallest eigenvalue is 3.16e-30. This might indicate that there are\n",
>>>>>>> 7d614c9528e641d82efe154eef67e6fd1426fe42
       "strong multicollinearity problems or that the design matrix is singular.\n",
       "\"\"\""
      ]
     },
     "execution_count": 5,
     "metadata": {},
     "output_type": "execute_result"
    }
   ],
   "source": [
    "res.summary()"
   ]
  },
  {
   "cell_type": "markdown",
   "metadata": {
    "slideshow": {
     "slide_type": "slide"
    }
   },
   "source": [
    "#### Prediction"
   ]
  },
  {
   "cell_type": "markdown",
   "metadata": {
    "slideshow": {
     "slide_type": "subslide"
    }
   },
   "source": [
    "Emphasis is different:\n",
    "- Want to build a little machine:"
   ]
  },
  {
   "cell_type": "markdown",
   "metadata": {
    "slideshow": {
     "slide_type": "fragment"
    }
   },
   "source": [
    "<center><img src = \"Images/machine-learning-prediction.png\" /></center>"
   ]
  },
  {
   "cell_type": "markdown",
   "metadata": {
    "slideshow": {
     "slide_type": "subslide"
    }
   },
   "source": [
    "E.g.,\n",
    "\n",
    "- Input: Features reflecting socioeconomic factors of Zamunda  \n",
    "    \n",
    "- Output: Life expectancy of Zamunda\n",
    "\n",
    "<center><img src = \"Images/machine-learning-prediction.png\" /></center>"
   ]
  },
  {
   "cell_type": "markdown",
   "metadata": {
    "cell_style": "center",
    "slideshow": {
     "slide_type": "fragment"
    }
   },
   "source": [
    "- Getting good estimates of feature weights, their confidence intervals matter less here.\n",
    "- Less emphasis on building minimal explanatory model.\n",
    "- As long as it improves performance of machine, add more predictors\n"
   ]
  },
  {
   "cell_type": "markdown",
   "metadata": {
    "cell_style": "center",
    "slideshow": {
     "slide_type": "slide"
    }
   },
   "source": [
    "**Prediction Mode**\n",
    "1. Use data (sample) to train model.\n",
    "2. How well, on the average, does model **simulate** process (population) that generated sample? Evaluate/test model.\n",
    "3. Use model to make prediction on new data."
   ]
  },
  {
   "cell_type": "markdown",
   "metadata": {
    "cell_style": "split",
    "slideshow": {
     "slide_type": "subslide"
    }
   },
   "source": [
    "Statsmodels good for statistical inference.\n",
    "- Scikit-learn good for training/testing/prediction.\n",
    "- Designed as general machine-learning framework"
   ]
  },
  {
   "cell_type": "markdown",
   "metadata": {
    "cell_style": "split",
    "slideshow": {
     "slide_type": "fragment"
    }
   },
   "source": [
    "<img src = \"Images/sklearn.png\" width = 600/>"
   ]
  },
  {
   "cell_type": "markdown",
   "metadata": {
    "slideshow": {
     "slide_type": "fragment"
    }
   },
   "source": [
    "Let's use linear regression in scikit-learn."
   ]
  },
  {
   "cell_type": "code",
   "execution_count": 6,
<<<<<<< HEAD
=======
   "id": "d1e1bd9c",
>>>>>>> 7d614c9528e641d82efe154eef67e6fd1426fe42
   "metadata": {
    "slideshow": {
     "slide_type": "slide"
    }
   },
   "outputs": [],
   "source": [
    "from sklearn.linear_model import LinearRegression\n",
    "from sklearn.model_selection import train_test_split\n",
    "\n",
    "from sklearn.metrics import mean_absolute_error\n",
    "from sklearn.metrics import mean_squared_error"
   ]
  },
  {
   "cell_type": "markdown",
   "metadata": {
    "slideshow": {
     "slide_type": "subslide"
    }
   },
   "source": [
    "Define the linear regression model"
   ]
  },
  {
   "cell_type": "code",
   "execution_count": 7,
   "metadata": {
    "slideshow": {
     "slide_type": "fragment"
    }
   },
   "outputs": [
    {
     "data": {
      "text/plain": [
       "LinearRegression()"
      ]
     },
     "execution_count": 7,
     "metadata": {},
     "output_type": "execute_result"
    }
   ],
   "source": [
    "lr = LinearRegression()\n",
    "lr"
   ]
  },
  {
   "cell_type": "markdown",
   "metadata": {
    "cell_style": "split",
    "slideshow": {
     "slide_type": "slide"
    }
   },
   "source": [
    "Training a model\n",
    "- Training: model optimizes parameters to best fit the training data.\n",
    "- In this case: fit regression coefficients minimizing least squared error.\n",
    "- Essentially creates your prediction machine."
   ]
  },
  {
   "cell_type": "markdown",
   "metadata": {
    "cell_style": "split",
    "slideshow": {
     "slide_type": "fragment"
    }
   },
   "source": [
    "Testing a model\n",
    "- Take data model has never seen.\n",
    "- How well does modeling predict (generalize) on data it hasn't optimized to?"
   ]
  },
  {
   "cell_type": "markdown",
   "metadata": {
    "cell_style": "split",
    "slideshow": {
     "slide_type": "slide"
    }
   },
   "source": [
    "Need to do both.\n",
    "- In practice: split dataset into train and test sets.\n",
    "- Training set: optimize model on.\n",
    "- Test set: evaluate model performance."
   ]
  },
  {
   "cell_type": "markdown",
   "metadata": {
    "cell_style": "split",
    "slideshow": {
     "slide_type": "fragment"
    }
   },
   "source": [
    "Scikit-learn:\n",
    "\n",
    "Has function to do this.\n",
    "\n",
    "train_test_split(X, y, test_size = ...)\n",
    "- Shuffles data\n",
    "- Leaves some fraction for testing and the rest for training."
   ]
  },
  {
   "cell_type": "code",
<<<<<<< HEAD
   "execution_count": 30,
=======
   "execution_count": 35,
   "id": "f54f626c",
>>>>>>> 7d614c9528e641d82efe154eef67e6fd1426fe42
   "metadata": {
    "scrolled": true,
    "slideshow": {
     "slide_type": "subslide"
    }
   },
   "outputs": [],
   "source": [
    "# For this, I haven't standardized. Want the actual life expectancy.\n",
    "# Take all the relevant columns \n",
    "col_selector = ['HIV/AIDS', 'Hepatitis B', 'BMI', 'Population', 'Polio',\n",
    "                'Alcohol', 'GDP', 'Measles','Total expenditure', 'Schooling', 'thinness  1-19 years']\n",
    "X = WHO_df[col_selector]\n",
    "X_train, X_test, y_train, y_test = train_test_split(X, y, test_size=0.3)"
   ]
  },
  {
   "cell_type": "code",
<<<<<<< HEAD
   "execution_count": 31,
=======
   "execution_count": 37,
   "id": "dc6ca5e0",
>>>>>>> 7d614c9528e641d82efe154eef67e6fd1426fe42
   "metadata": {
    "slideshow": {
     "slide_type": "fragment"
    }
   },
   "outputs": [
    {
     "name": "stdout",
     "output_type": "stream",
     "text": [
      "1154\n",
      "495\n"
     ]
    }
   ],
   "source": [
    "print(len(X_train))\n",
    "print(len(X_test))"
   ]
  },
  {
   "cell_type": "markdown",
   "metadata": {
    "slideshow": {
     "slide_type": "slide"
    }
   },
   "source": [
    "#### Creating our prediction machine\n",
    "- Train the model\n",
    "- .fit(X,y) method trains the model"
   ]
  },
  {
   "cell_type": "code",
<<<<<<< HEAD
   "execution_count": 32,
=======
   "execution_count": 36,
   "id": "2e3442fe",
>>>>>>> 7d614c9528e641d82efe154eef67e6fd1426fe42
   "metadata": {
    "slideshow": {
     "slide_type": "fragment"
    }
   },
   "outputs": [
    {
     "data": {
      "text/plain": [
       "LinearRegression()"
      ]
     },
<<<<<<< HEAD
     "execution_count": 32,
=======
     "execution_count": 36,
>>>>>>> 7d614c9528e641d82efe154eef67e6fd1426fe42
     "metadata": {},
     "output_type": "execute_result"
    }
   ],
   "source": [
    "lr.fit(X_train, y_train)"
   ]
  },
  {
   "cell_type": "markdown",
   "metadata": {
    "slideshow": {
     "slide_type": "slide"
    }
   },
   "source": [
    "Get the \"learned\" weights:\n",
    "- Minimizing least squares objective function on training data.\n",
    "- i.e. fit coefficients using training data."
   ]
  },
  {
   "cell_type": "code",
<<<<<<< HEAD
   "execution_count": 33,
=======
   "execution_count": 11,
   "id": "c099f6cc",
>>>>>>> 7d614c9528e641d82efe154eef67e6fd1426fe42
   "metadata": {
    "slideshow": {
     "slide_type": "fragment"
    }
   },
   "outputs": [
    {
     "data": {
      "text/plain": [
<<<<<<< HEAD
       "array([-6.34093134e-01, -3.18655083e-03,  4.99740976e-02,  1.59701967e-10,\n",
       "        2.78016828e-02, -8.19679463e-02,  1.00918431e-04,  4.21922854e-05,\n",
       "        9.76959867e-02,  1.50542930e+00, -9.55285050e-02])"
      ]
     },
     "execution_count": 33,
=======
       "array([-6.14497128e-01,  1.90653550e-03,  5.59505450e-02,  2.12112223e-09,\n",
       "        2.22813270e-02, -7.49070247e-02,  1.03166301e-04, -3.46454204e-06,\n",
       "        4.70732316e-02,  1.51926230e+00, -7.89201904e-02])"
      ]
     },
     "execution_count": 11,
>>>>>>> 7d614c9528e641d82efe154eef67e6fd1426fe42
     "metadata": {},
     "output_type": "execute_result"
    }
   ],
   "source": [
    "lr.coef_"
   ]
  },
  {
   "cell_type": "code",
<<<<<<< HEAD
   "execution_count": 34,
=======
   "execution_count": 12,
   "id": "6feb21f4",
>>>>>>> 7d614c9528e641d82efe154eef67e6fd1426fe42
   "metadata": {
    "slideshow": {
     "slide_type": "fragment"
    }
   },
   "outputs": [
    {
     "data": {
      "text/plain": [
<<<<<<< HEAD
       "47.96707411765779"
      ]
     },
     "execution_count": 34,
=======
       "47.922343231656114"
      ]
     },
     "execution_count": 12,
>>>>>>> 7d614c9528e641d82efe154eef67e6fd1426fe42
     "metadata": {},
     "output_type": "execute_result"
    }
   ],
   "source": [
    "lr.intercept_"
   ]
  },
  {
   "cell_type": "code",
<<<<<<< HEAD
   "execution_count": 38,
=======
   "execution_count": 39,
   "id": "e07ae2e4",
>>>>>>> 7d614c9528e641d82efe154eef67e6fd1426fe42
   "metadata": {
    "slideshow": {
     "slide_type": "fragment"
    }
   },
   "outputs": [
    {
     "data": {
      "text/plain": [
       "Index(['HIV/AIDS', 'Hepatitis B', 'BMI', 'Population', 'Polio', 'Alcohol',\n",
       "       'GDP', 'Measles', 'Total expenditure', 'Schooling',\n",
       "       'thinness  1-19 years'],\n",
       "      dtype='object')"
      ]
     },
<<<<<<< HEAD
     "execution_count": 38,
=======
     "execution_count": 39,
>>>>>>> 7d614c9528e641d82efe154eef67e6fd1426fe42
     "metadata": {},
     "output_type": "execute_result"
    }
   ],
   "source": [
    "X_train.columns"
   ]
  },
  {
   "cell_type": "markdown",
   "metadata": {
    "slideshow": {
     "slide_type": "slide"
    }
   },
   "source": [
    "Now, can also get $R^2$ on fit."
   ]
  },
  {
   "cell_type": "code",
<<<<<<< HEAD
   "execution_count": 39,
=======
   "execution_count": 40,
   "id": "b8bcafab",
>>>>>>> 7d614c9528e641d82efe154eef67e6fd1426fe42
   "metadata": {
    "slideshow": {
     "slide_type": "fragment"
    }
   },
   "outputs": [
    {
     "data": {
      "text/plain": [
<<<<<<< HEAD
       "0.7658885366959256"
      ]
     },
     "execution_count": 39,
=======
       "0.7729430004080758"
      ]
     },
     "execution_count": 40,
>>>>>>> 7d614c9528e641d82efe154eef67e6fd1426fe42
     "metadata": {},
     "output_type": "execute_result"
    }
   ],
   "source": [
    "lr.score(X_train, y_train)"
   ]
  },
  {
   "cell_type": "markdown",
   "metadata": {
    "cell_style": "split",
    "slideshow": {
     "slide_type": "slide"
    }
   },
   "source": [
    "Evaluating our model on the test data:\n",
    "- Get predictions of model.\n",
    "- Compare predictions of model to actual y (life expectancy)."
   ]
  },
  {
   "cell_type": "markdown",
   "metadata": {
    "cell_style": "split",
    "slideshow": {
     "slide_type": "fragment"
    }
   },
   "source": [
    ".predict(X_test) method on trained model"
   ]
  },
  {
   "cell_type": "code",
<<<<<<< HEAD
   "execution_count": 40,
=======
   "execution_count": 15,
   "id": "a569dc7a",
>>>>>>> 7d614c9528e641d82efe154eef67e6fd1426fe42
   "metadata": {
    "slideshow": {
     "slide_type": "fragment"
    }
   },
   "outputs": [
    {
     "data": {
      "text/plain": [
<<<<<<< HEAD
       "array([67.21853292, 68.09441022, 65.75089055, 68.13949556, 60.74092604,\n",
       "       81.9500575 , 54.77490174, 71.45998824, 57.69593364, 75.82603152])"
      ]
     },
     "execution_count": 40,
=======
       "array([75.92975447, 74.94414212, 67.17863837, 69.48879323, 69.37493565,\n",
       "       68.44774095, 45.90938409, 81.28648841, 87.30319575, 52.66024373])"
      ]
     },
     "execution_count": 15,
>>>>>>> 7d614c9528e641d82efe154eef67e6fd1426fe42
     "metadata": {},
     "output_type": "execute_result"
    }
   ],
   "source": [
    "# This gets the predictions of model on test set.\n",
    "y_pred = lr.predict(X_test)\n",
    "#get first ten elements of prediction.\n",
    "y_pred[0:10]"
   ]
  },
  {
   "cell_type": "markdown",
   "metadata": {
    "slideshow": {
     "slide_type": "slide"
    }
   },
   "source": [
    "Evaluating the model:\n",
    "- We care about how good prediction on life expectancy is given X (features).\n",
    "- Compare $y_{pred}$ made on $X_{test}$ to actual $y_{test}$.\n",
    "- Some metrics for comparison: the mean absolute error, the root mean squared error."
   ]
  },
  {
   "cell_type": "markdown",
   "metadata": {
    "cell_style": "split",
    "slideshow": {
     "slide_type": "slide"
    }
   },
   "source": [
    "Mean absolute error:\n",
    "$$ MAE = \\frac{1}{N}\\sum_i^N |y_{i}- \\hat{y}_i|$$\n",
    "\n",
    "where $\\hat{y}_i$ is our prediction."
   ]
  },
  {
   "cell_type": "markdown",
   "metadata": {
    "cell_style": "split",
    "slideshow": {
     "slide_type": "fragment"
    }
   },
   "source": [
    "Root means squared error:\n",
    "- More sensitive to outliers.\n",
    "\n",
    "$$ RMSE = \\sqrt{\\frac{1}{N}\\sum_i^N (y_{i}- \\hat{y}_i)^2} $$"
   ]
  },
  {
   "cell_type": "markdown",
   "metadata": {
    "slideshow": {
     "slide_type": "slide"
    }
   },
   "source": [
    "Evaluate model prediction on test set:"
   ]
  },
  {
   "cell_type": "code",
<<<<<<< HEAD
   "execution_count": 45,
=======
   "execution_count": 16,
   "id": "adfb69d8",
>>>>>>> 7d614c9528e641d82efe154eef67e6fd1426fe42
   "metadata": {
    "cell_style": "split",
    "slideshow": {
     "slide_type": "fragment"
    }
   },
   "outputs": [
    {
     "data": {
      "text/plain": [
<<<<<<< HEAD
       "3.39563888801242"
      ]
     },
     "execution_count": 45,
=======
       "3.4328566557960336"
      ]
     },
     "execution_count": 16,
>>>>>>> 7d614c9528e641d82efe154eef67e6fd1426fe42
     "metadata": {},
     "output_type": "execute_result"
    }
   ],
   "source": [
    "MAE = mean_absolute_error(y_pred, y_test)\n",
    "MAE"
   ]
  },
  {
   "cell_type": "code",
<<<<<<< HEAD
   "execution_count": 44,
=======
   "execution_count": 17,
   "id": "606c92b5",
>>>>>>> 7d614c9528e641d82efe154eef67e6fd1426fe42
   "metadata": {
    "cell_style": "split",
    "slideshow": {
     "slide_type": "fragment"
    }
   },
   "outputs": [
    {
     "data": {
      "text/plain": [
<<<<<<< HEAD
       "4.4604507445149135"
      ]
     },
     "execution_count": 44,
=======
       "4.381802705383215"
      ]
     },
     "execution_count": 17,
>>>>>>> 7d614c9528e641d82efe154eef67e6fd1426fe42
     "metadata": {},
     "output_type": "execute_result"
    }
   ],
   "source": [
    "RMSE = np.sqrt(mean_squared_error(y_pred, y_test))\n",
    "RMSE"
   ]
  },
  {
   "cell_type": "code",
<<<<<<< HEAD
   "execution_count": 46,
=======
   "execution_count": 18,
   "id": "73cc63bc",
>>>>>>> 7d614c9528e641d82efe154eef67e6fd1426fe42
   "metadata": {},
   "outputs": [],
   "source": [
    "import matplotlib.pyplot as plt"
   ]
  },
  {
   "cell_type": "code",
<<<<<<< HEAD
   "execution_count": 57,
=======
   "execution_count": 19,
   "id": "4d5f33e4",
>>>>>>> 7d614c9528e641d82efe154eef67e6fd1426fe42
   "metadata": {
    "scrolled": true,
    "slideshow": {
     "slide_type": "skip"
    }
   },
   "outputs": [],
   "source": [
    "%%capture life_test\n",
    "fig, ax = plt.subplots()\n",
    "y_test.hist(bins = 15, ax = ax)\n",
    "ax.set_xlabel('Life expectancy')\n",
    "ax.set_ylabel('Counts')\n",
    "ax.set_title('Life expectancy: test distribution')\n",
    "plt.show()"
   ]
  },
  {
   "cell_type": "code",
   "execution_count": 20,
<<<<<<< HEAD
=======
   "id": "d66b92f9",
>>>>>>> 7d614c9528e641d82efe154eef67e6fd1426fe42
   "metadata": {
    "slideshow": {
     "slide_type": "fragment"
    }
   },
   "outputs": [
    {
     "data": {
<<<<<<< HEAD
      "image/png": "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\n",
=======
      "image/png": "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\n",
>>>>>>> 7d614c9528e641d82efe154eef67e6fd1426fe42
      "text/plain": [
       "<Figure size 432x288 with 1 Axes>"
      ]
     },
     "metadata": {
      "needs_background": "light"
     },
     "output_type": "display_data"
    }
   ],
   "source": [
    "life_test()"
   ]
  },
  {
   "cell_type": "markdown",
   "metadata": {
    "slideshow": {
     "slide_type": "slide"
    }
   },
   "source": [
    "From the perspective of prediction and our tolerance: this is not shabby.\n",
    "- Seeing a few individual examples."
   ]
  },
  {
   "cell_type": "code",
<<<<<<< HEAD
   "execution_count": 48,
=======
   "execution_count": 44,
   "id": "eaae02be",
>>>>>>> 7d614c9528e641d82efe154eef67e6fd1426fe42
   "metadata": {
    "cell_style": "center",
    "slideshow": {
     "slide_type": "fragment"
    }
   },
   "outputs": [
    {
     "data": {
      "text/plain": [
<<<<<<< HEAD
       "HIV/AIDS                     0.1000\n",
       "Hepatitis B                 94.0000\n",
       "BMI                         62.9000\n",
       "Population              212492.0000\n",
       "Polio                       92.0000\n",
       "Alcohol                     10.7600\n",
       "GDP                      49664.6854\n",
       "Measles                     65.0000\n",
       "Total expenditure            8.7800\n",
       "Schooling                   19.1000\n",
       "thinness  1-19 years         0.7000\n",
       "Name: 119, dtype: float64"
=======
       "HIV/AIDS                5.700000e+00\n",
       "Hepatitis B             8.600000e+01\n",
       "BMI                     2.370000e+01\n",
       "Population              1.596154e+06\n",
       "Polio                   8.500000e+01\n",
       "Alcohol                 3.570000e+00\n",
       "GDP                     6.926999e+02\n",
       "Measles                 0.000000e+00\n",
       "Total expenditure       5.460000e+00\n",
       "Schooling               9.000000e+00\n",
       "thinness  1-19 years    7.800000e+00\n",
       "Name: 1094, dtype: float64"
>>>>>>> 7d614c9528e641d82efe154eef67e6fd1426fe42
      ]
     },
     "execution_count": 44,
     "metadata": {},
     "output_type": "execute_result"
    }
   ],
   "source": [
    "examp_idx = 18\n",
    "single_examp = X_test.iloc[examp_idx].values\n",
    "X_test.iloc[examp_idx]"
   ]
  },
  {
   "cell_type": "code",
<<<<<<< HEAD
   "execution_count": 50,
=======
   "execution_count": 45,
   "id": "59a9a275",
>>>>>>> 7d614c9528e641d82efe154eef67e6fd1426fe42
   "metadata": {
    "cell_style": "split",
    "scrolled": false,
    "slideshow": {
     "slide_type": "slide"
    }
   },
   "outputs": [
    {
     "data": {
      "text/plain": [
<<<<<<< HEAD
       "array([86.98273853])"
      ]
     },
     "execution_count": 50,
=======
       "array([60.45881749])"
      ]
     },
     "execution_count": 45,
>>>>>>> 7d614c9528e641d82efe154eef67e6fd1426fe42
     "metadata": {},
     "output_type": "execute_result"
    }
   ],
   "source": [
    "lr.predict(single_examp.reshape(1,-1))"
   ]
  },
  {
   "cell_type": "code",
<<<<<<< HEAD
   "execution_count": 51,
=======
   "execution_count": 46,
   "id": "2e1056ea",
>>>>>>> 7d614c9528e641d82efe154eef67e6fd1426fe42
   "metadata": {
    "cell_style": "split",
    "slideshow": {
     "slide_type": "fragment"
    }
   },
   "outputs": [
    {
     "data": {
      "text/plain": [
<<<<<<< HEAD
       "81.3"
      ]
     },
     "execution_count": 51,
=======
       "57.1"
      ]
     },
     "execution_count": 46,
>>>>>>> 7d614c9528e641d82efe154eef67e6fd1426fe42
     "metadata": {},
     "output_type": "execute_result"
    }
   ],
   "source": [
    "y_test.iloc[examp_idx]"
   ]
  },
  {
   "cell_type": "markdown",
   "metadata": {
    "slideshow": {
     "slide_type": "slide"
    }
   },
   "source": [
    "#### Determinants of prediction error\n",
    "- Will talk about this in detail in a future lecture.\n",
    "\n",
    "Much of machine learning focuses on understanding sources of error.\n",
    "- Tuning model to get better prediction performance in test phase.\n",
    "- Balancing tradeoffs between various sources of error."
   ]
  },
  {
   "cell_type": "markdown",
   "metadata": {
    "slideshow": {
     "slide_type": "slide"
    }
   },
   "source": [
    "\n",
    "The king wants you to:\n",
    "- estimate the average life expectancy of his subjects. \n",
    "- speculate on what factors might be at play in determining the average life of his subject. \n",
    "\n"
   ]
  },
  {
   "cell_type": "markdown",
   "metadata": {
    "slideshow": {
     "slide_type": "slide"
    }
   },
   "source": [
    "#### Answering the king's first question:"
   ]
  },
  {
   "cell_type": "code",
<<<<<<< HEAD
   "execution_count": 52,
=======
   "execution_count": 47,
   "id": "c32c7f11",
>>>>>>> 7d614c9528e641d82efe154eef67e6fd1426fe42
   "metadata": {
    "scrolled": true,
    "slideshow": {
     "slide_type": "fragment"
    }
   },
   "outputs": [
    {
     "data": {
      "text/plain": [
       "HIV/AIDS                     14.40\n",
       "Hepatitis B                  93.00\n",
       "BMI                          33.20\n",
       "Population              1884238.00\n",
       "Polio                        96.00\n",
       "Alcohol                       6.45\n",
       "GDP                        5374.00\n",
       "Measles                       6.00\n",
       "Total expenditure             4.93\n",
       "Schooling                    11.90\n",
       "thinness  1-19 years          9.60\n",
       "dtype: float64"
      ]
     },
<<<<<<< HEAD
     "execution_count": 52,
=======
     "execution_count": 47,
>>>>>>> 7d614c9528e641d82efe154eef67e6fd1426fe42
     "metadata": {},
     "output_type": "execute_result"
    }
   ],
   "source": [
    "zamunda_dict = {'HIV/AIDS': 14.4, 'Hepatitis B': 93, 'BMI': 33.2, 'Population': 1884238, 'Polio': 96, 'Alcohol': 6.45,\n",
    "       'GDP': 5374, 'Measles': 6, 'Total expenditure': 4.93, 'Schooling': 11.9, 'thinness  1-19 years': 9.6}\n",
    "\n",
    "X_zamunda = pd.Series(zamunda_dict)\n",
    "X_zamunda"
   ]
  },
  {
   "cell_type": "markdown",
   "metadata": {
    "slideshow": {
     "slide_type": "slide"
    }
   },
   "source": [
    "Let's put this into the model and get our prediction. For a single example need to:\n",
    "- convert to numpy array\n",
    "- do a reshape to get into form scikit learn likes."
   ]
  },
  {
   "cell_type": "code",
<<<<<<< HEAD
   "execution_count": 53,
=======
   "execution_count": 48,
   "id": "03de2bd0",
>>>>>>> 7d614c9528e641d82efe154eef67e6fd1426fe42
   "metadata": {
    "cell_style": "split",
    "slideshow": {
     "slide_type": "fragment"
    }
   },
   "outputs": [
    {
     "data": {
      "text/plain": [
       "array([1.440000e+01, 9.300000e+01, 3.320000e+01, 1.884238e+06,\n",
       "       9.600000e+01, 6.450000e+00, 5.374000e+03, 6.000000e+00,\n",
       "       4.930000e+00, 1.190000e+01, 9.600000e+00])"
      ]
     },
<<<<<<< HEAD
     "execution_count": 53,
=======
     "execution_count": 48,
>>>>>>> 7d614c9528e641d82efe154eef67e6fd1426fe42
     "metadata": {},
     "output_type": "execute_result"
    }
   ],
   "source": [
    "X_zam_np = X_zamunda.values\n",
    "X_zam_np"
   ]
  },
  {
   "cell_type": "code",
<<<<<<< HEAD
   "execution_count": 54,
=======
   "execution_count": 49,
   "id": "0c1f106e",
>>>>>>> 7d614c9528e641d82efe154eef67e6fd1426fe42
   "metadata": {
    "cell_style": "split",
    "slideshow": {
     "slide_type": "fragment"
    }
   },
   "outputs": [
    {
     "data": {
      "text/plain": [
       "array([[1.440000e+01, 9.300000e+01, 3.320000e+01, 1.884238e+06,\n",
       "        9.600000e+01, 6.450000e+00, 5.374000e+03, 6.000000e+00,\n",
       "        4.930000e+00, 1.190000e+01, 9.600000e+00]])"
      ]
     },
<<<<<<< HEAD
     "execution_count": 54,
=======
     "execution_count": 49,
>>>>>>> 7d614c9528e641d82efe154eef67e6fd1426fe42
     "metadata": {},
     "output_type": "execute_result"
    }
   ],
   "source": [
    "# predict() needs to take a 2D array\n",
    "X_zam_input = X_zam_np.reshape(1,-1)\n",
    "X_zam_input"
   ]
  },
  {
   "cell_type": "markdown",
   "metadata": {
    "slideshow": {
     "slide_type": "slide"
    }
   },
   "source": [
    "The model predicts a life expectancy for Zamunda of:"
   ]
  },
  {
   "cell_type": "code",
<<<<<<< HEAD
   "execution_count": 55,
=======
   "execution_count": 50,
   "id": "b73da13c",
>>>>>>> 7d614c9528e641d82efe154eef67e6fd1426fe42
   "metadata": {
    "cell_style": "split",
    "slideshow": {
     "slide_type": "fragment"
    }
   },
   "outputs": [
    {
     "data": {
      "text/plain": [
<<<<<<< HEAD
       "array([60.36125809])"
      ]
     },
     "execution_count": 55,
=======
       "array([60.06197508])"
      ]
     },
     "execution_count": 50,
>>>>>>> 7d614c9528e641d82efe154eef67e6fd1426fe42
     "metadata": {},
     "output_type": "execute_result"
    }
   ],
   "source": [
    "lr.predict(X_zam_input)"
   ]
  },
  {
   "cell_type": "markdown",
   "metadata": {
    "cell_style": "split",
    "slideshow": {
     "slide_type": "fragment"
    }
   },
   "source": [
    "Is this good? Is this bad? Compare to:"
   ]
  },
  {
   "cell_type": "code",
<<<<<<< HEAD
   "execution_count": 56,
=======
   "execution_count": 28,
   "id": "8d547b28",
>>>>>>> 7d614c9528e641d82efe154eef67e6fd1426fe42
   "metadata": {
    "cell_style": "split",
    "slideshow": {
     "slide_type": "fragment"
    }
   },
   "outputs": [
    {
     "data": {
<<<<<<< HEAD
      "image/png": "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\n",
=======
      "image/png": "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\n",
>>>>>>> 7d614c9528e641d82efe154eef67e6fd1426fe42
      "text/plain": [
       "<Figure size 432x288 with 1 Axes>"
      ]
     },
     "metadata": {
      "needs_background": "light"
     },
     "output_type": "display_data"
    }
   ],
   "source": [
    "life_test()"
   ]
  },
  {
   "cell_type": "markdown",
   "metadata": {
    "cell_style": "split",
    "slideshow": {
     "slide_type": "slide"
    }
   },
   "source": [
    "**Prediction**\n",
    "- What is the average life expectancy of his subjects?\n",
    "    - ~60 years.\n"
   ]
  },
  {
   "cell_type": "markdown",
   "metadata": {
    "cell_style": "split",
    "slideshow": {
     "slide_type": "fragment"
    }
   },
   "source": [
    "**Inference**\n",
    "- HIV/AIDS prevalence and Schooling\n",
    "- High correlation with life expectancy"
   ]
  },
  {
   "cell_type": "markdown",
   "metadata": {
    "slideshow": {
     "slide_type": "slide"
    }
   },
   "source": [
    "#### Next up\n",
    "\n",
    "- Improving model performance by:\n",
    "    - transforming features\n",
    "    - systematically understanding/correcting for sources of prediction error.\n"
   ]
  }
 ],
 "metadata": {
  "celltoolbar": "Slideshow",
  "kernelspec": {
   "display_name": "Python 3",
   "language": "python",
   "name": "python3"
  },
  "language_info": {
   "codemirror_mode": {
    "name": "ipython",
    "version": 3
   },
   "file_extension": ".py",
   "mimetype": "text/x-python",
   "name": "python",
   "nbconvert_exporter": "python",
   "pygments_lexer": "ipython3",
   "version": "3.8.5"
  }
 },
 "nbformat": 4,
 "nbformat_minor": 5
}
