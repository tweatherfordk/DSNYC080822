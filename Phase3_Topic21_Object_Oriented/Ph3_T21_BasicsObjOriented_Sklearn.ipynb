{
 "cells": [
  {
   "cell_type": "markdown",
   "metadata": {
    "slideshow": {
     "slide_type": "slide"
    }
   },
   "source": [
    "<div style=\"color:white;\n",
    "           display:fill;\n",
    "           border-radius:5px;\n",
    "           background-color:#5642C5;\n",
    "           font-size:200%;\n",
    "           font-\\amily:Arial;letter-spacing:0.5px\">\n",
    "\n",
    "<p width = 20%, style=\"padding: 10px;\n",
    "              color:white;\">\n",
    "Object Oriented Programming\n",
    "              \n",
    "</p>\n",
    "</div>\n",
    "\n",
    "Data Science Cohort Live NYC Feb 2022\n",
    "<p>Phase 3: Topic 21</p>\n",
    "<br>\n",
    "<br>\n",
    "\n",
    "<div align = \"right\">\n",
    "<img src=\"Images/flatiron-school-logo.png\" align = \"right\" width=\"200\"/>\n",
    "</div>"
   ]
  },
  {
   "cell_type": "markdown",
   "metadata": {
    "cell_style": "split",
    "slideshow": {
     "slide_type": "slide"
    }
   },
   "source": [
    "#### Objected Oriented Programming\n",
    "\n",
    "- We've actually been using this without realizing it.\n"
   ]
  },
  {
   "cell_type": "markdown",
   "metadata": {
    "cell_style": "split",
    "slideshow": {
     "slide_type": "fragment"
    }
   },
   "source": [
    "#### Examples\n",
    "\n",
    "- results object in statsmodels OLS fit\n",
    "- requests object or BeautifulSoup objects in web scraping\n",
    "- sklearn LinearRegression models\n",
    "- fig and ax objects in Matplotlib"
   ]
  },
  {
   "cell_type": "markdown",
   "metadata": {
    "slideshow": {
     "slide_type": "slide"
    }
   },
   "source": [
    "#### Object Oriented Program in a Nutshell"
   ]
  },
  {
   "cell_type": "markdown",
   "metadata": {
    "cell_style": "center",
    "slideshow": {
     "slide_type": "subslide"
    }
   },
   "source": [
    "<center><img src = \"Images/pikachu.png\" width = 800 /></center>"
   ]
  },
  {
   "cell_type": "markdown",
   "metadata": {
    "cell_style": "split",
    "slideshow": {
     "slide_type": "fragment"
    }
   },
   "source": [
    "- Class: Pokemon\n",
    "- object instance of Pokemon class"
   ]
  },
  {
   "cell_type": "markdown",
   "metadata": {
    "cell_style": "split"
   },
   "source": [
    "- Attributes = Fields. Properties of object instance.\n",
    "- Methods: an action. Can change state of object instance."
   ]
  },
  {
   "cell_type": "markdown",
   "metadata": {
    "cell_style": "center",
    "slideshow": {
     "slide_type": "subslide"
    }
   },
   "source": [
    "<center><img src = \"Images/pikachu.png\" width = 800 /></center>"
   ]
  },
  {
   "cell_type": "markdown",
   "metadata": {
    "hidden": true,
    "slideshow": {
     "slide_type": "fragment"
    }
   },
   "source": [
    "-  **Class**: general class of similar objects\n",
    "- Want common attributes/methods for each instantiated object\n",
    "\n",
    "**Pokemon is general class. Pikachu is an object of class Pokemon.**"
   ]
  },
  {
   "cell_type": "markdown",
   "metadata": {
    "slideshow": {
     "slide_type": "subslide"
    }
   },
   "source": [
    "<center><img src = \"Images/pikachu.png\" width = 800 /></center>"
   ]
  },
  {
   "cell_type": "markdown",
   "metadata": {
    "cell_style": "split"
   },
   "source": [
    "**Fields/Attributes**:\n",
    "- objects of same class share same attributes\n",
    "- each attribute takes on different values for different instantiations.\n",
    "    \n",
    "e.g., Name, Type, Health attributes common to all pokemons\n"
   ]
  },
  {
   "cell_type": "markdown",
   "metadata": {
    "cell_style": "split",
    "slideshow": {
     "slide_type": "fragment"
    }
   },
   "source": [
    "But Pikachu and Bulbasaur:\n",
    "- different values of attributes."
   ]
  },
  {
   "cell_type": "markdown",
   "metadata": {
    "slideshow": {
     "slide_type": "subslide"
    }
   },
   "source": [
    "<center><img src = \"Images/pikachu.png\" width = 800 /></center>"
   ]
  },
  {
   "cell_type": "markdown",
   "metadata": {
    "slideshow": {
     "slide_type": "fragment"
    }
   },
   "source": [
    "**Methods**:\n",
    "- Objects in given Class can execute common set of functions\n",
    "- Functions can change internal state of object\n",
    "    - i.e. change attributes: .evolve() can change health, name, etc."
   ]
  },
  {
   "cell_type": "markdown",
   "metadata": {
    "slideshow": {
     "slide_type": "slide"
    }
   },
   "source": [
    "#### Creating a class in Python"
   ]
  },
  {
   "cell_type": "markdown",
   "metadata": {},
   "source": [
    "Create simple class using class constructor and initialization:"
   ]
  },
  {
   "cell_type": "code",
   "execution_count": 2,
   "metadata": {
    "slideshow": {
     "slide_type": "fragment"
    }
   },
   "outputs": [],
   "source": [
    "class Pokemon:\n",
    "\n",
    "    def __init__(self, name, lvl, health, attack_points, defense_points):\n",
    "        \n",
    "        self.name = name\n",
    "        self.level = lvl\n",
    "        self.life = health\n",
    "        self.attack_power = attack_points\n",
    "        self.defense_points = defense_points\n",
    "        "
   ]
  },
  {
   "cell_type": "markdown",
   "metadata": {
    "slideshow": {
     "slide_type": "subslide"
    }
   },
   "source": [
    "the __init__ method is a special function:\n",
    "\n",
    "- the first argument is always: *self*\n",
    "- *self* refers to specific instance of class. \n",
    "- the other arguments: initalization arguments \n",
    "    - user specified inputs in initializing instance.\n",
    "    - can have default arguments\n"
   ]
  },
  {
   "cell_type": "code",
   "execution_count": 2,
   "metadata": {
    "slideshow": {
     "slide_type": "fragment"
    }
   },
   "outputs": [],
   "source": [
    "class Pokemon:\n",
    "    \n",
    "    def __init__(self, name, lvl, health, attack_points, defense_points):\n",
    "        \n",
    "        self.name = name\n",
    "        self.level = lvl\n",
    "        self.life = health\n",
    "        self.attack_power = attack_points\n",
    "        self.defense_points = defense_points\n",
    "        "
   ]
  },
  {
   "cell_type": "markdown",
   "metadata": {
    "slideshow": {
     "slide_type": "slide"
    }
   },
   "source": [
    "#### Let's see this in action "
   ]
  },
  {
   "cell_type": "markdown",
   "metadata": {
    "slideshow": {
     "slide_type": "fragment"
    }
   },
   "source": [
    "Create an instance of a Pokemon:\n",
    "- Create and instantiate a Pikachu."
   ]
  },
  {
   "cell_type": "code",
   "execution_count": 4,
   "metadata": {
    "slideshow": {
     "slide_type": "fragment"
    }
   },
   "outputs": [],
   "source": [
    "pikachu = Pokemon('Pikachu', 2, 70, 7, 4)"
   ]
  },
  {
   "cell_type": "markdown",
   "metadata": {
    "cell_style": "split",
    "slideshow": {
     "slide_type": "fragment"
    }
   },
   "source": [
    "Let's check out some of the attributes"
   ]
  },
  {
   "cell_type": "code",
   "execution_count": 5,
   "metadata": {
    "cell_style": "split",
    "slideshow": {
     "slide_type": "fragment"
    }
   },
   "outputs": [
    {
     "data": {
      "text/plain": [
       "7"
      ]
     },
     "execution_count": 5,
     "metadata": {},
     "output_type": "execute_result"
    }
   ],
   "source": [
    "pikachu.attack_power"
   ]
  },
  {
   "cell_type": "code",
   "execution_count": 6,
   "metadata": {
    "slideshow": {
     "slide_type": "slide"
    }
   },
   "outputs": [],
   "source": [
    "class Pokemon:\n",
    "    \n",
    "    def __init__(self, name, lvl, health, attack_points, defense_points):\n",
    "        \n",
    "        self.name = name\n",
    "        self.level = lvl\n",
    "        self.life = health\n",
    "        self.attack_power = attack_points\n",
    "        self.defense_points = defense_points"
   ]
  },
  {
   "cell_type": "markdown",
   "metadata": {
    "cell_style": "center",
    "slideshow": {
     "slide_type": "fragment"
    }
   },
   "source": [
    "- So far the class object is like a grouping of variables (like a dict). \n",
    "- Adding methods give class objects a richer structure"
   ]
  },
  {
   "cell_type": "markdown",
   "metadata": {
    "cell_style": "center",
    "slideshow": {
     "slide_type": "subslide"
    }
   },
   "source": [
    "#### Methods\n",
    "\n",
    "- Create functions that:\n",
    "    - return object state\n",
    "    - update object state (i.e. change internal attributes)\n",
    "    - do it based on information external to object.\n"
   ]
  },
  {
   "cell_type": "code",
<<<<<<< HEAD
   "execution_count": 17,
=======
   "execution_count": 7,
>>>>>>> a688369457e4afa95cac88eae401a4a1fdb91a80
   "metadata": {
    "cell_style": "center",
    "code_folding": [
     12
    ],
    "slideshow": {
     "slide_type": "subslide"
    }
   },
   "outputs": [],
   "source": [
    "class Pokemon:\n",
    "    \n",
    "    def __init__(self, name, lvl, health, attack_points, defense_points):\n",
    "        \n",
    "        self.name = name\n",
    "        self.level = lvl\n",
    "        self.life = health\n",
    "        self.attack_power = attack_points\n",
    "        self.defense_points = defense_points\n",
    "    \n",
    "    def get_state(self):\n",
    "        \n",
    "        state_dict = {'name': self.name, 'level': self.level, 'life': self.life,\n",
    "                     'attack': self.attack_power, 'defense': self.defense_points}\n",
    "        return state_dict\n",
    "        \n",
    "    def evolve(self, evolved_name):\n",
    "        #Change Pokemon name to given evolved name state\n",
    "        self.name = evolved_name\n",
    "        \n",
    "        #level up the stats\n",
    "        self.level += 1\n",
    "        self.life += 30\n",
    "        self.attack_power += 4\n",
    "        self.defense_points += 3"
   ]
  },
  {
   "cell_type": "code",
<<<<<<< HEAD
   "execution_count": 18,
=======
   "execution_count": 8,
>>>>>>> a688369457e4afa95cac88eae401a4a1fdb91a80
   "metadata": {
    "cell_style": "split",
    "slideshow": {
     "slide_type": "slide"
    }
   },
   "outputs": [],
   "source": [
    "pikachu = Pokemon('Pikachu', 2, 70, 7, 4)"
   ]
  },
  {
   "cell_type": "code",
<<<<<<< HEAD
   "execution_count": 19,
=======
   "execution_count": 9,
>>>>>>> a688369457e4afa95cac88eae401a4a1fdb91a80
   "metadata": {
    "cell_style": "split",
    "slideshow": {
     "slide_type": "fragment"
    }
   },
   "outputs": [
    {
     "data": {
      "text/plain": [
       "{'name': 'Pikachu', 'level': 2, 'life': 70, 'attack': 7, 'defense': 4}"
      ]
     },
<<<<<<< HEAD
     "execution_count": 19,
=======
     "execution_count": 9,
>>>>>>> a688369457e4afa95cac88eae401a4a1fdb91a80
     "metadata": {},
     "output_type": "execute_result"
    }
   ],
   "source": [
    "pikachu.get_state()"
   ]
  },
  {
   "cell_type": "markdown",
   "metadata": {
    "cell_style": "split",
    "slideshow": {
     "slide_type": "subslide"
    }
   },
   "source": [
    "<img src = \"Images/evolution_phases.jpeg\" width = 700 />"
   ]
  },
  {
   "cell_type": "code",
<<<<<<< HEAD
   "execution_count": 20,
=======
   "execution_count": 10,
>>>>>>> a688369457e4afa95cac88eae401a4a1fdb91a80
   "metadata": {
    "cell_style": "split",
    "slideshow": {
     "slide_type": "fragment"
    }
   },
   "outputs": [],
   "source": [
    "pikachu.evolve('Raichu')"
   ]
  },
  {
   "cell_type": "code",
<<<<<<< HEAD
   "execution_count": 21,
=======
   "execution_count": 11,
>>>>>>> a688369457e4afa95cac88eae401a4a1fdb91a80
   "metadata": {
    "cell_style": "split",
    "slideshow": {
     "slide_type": "fragment"
    }
   },
   "outputs": [
    {
     "data": {
      "text/plain": [
       "{'name': 'Raichu', 'level': 3, 'life': 100, 'attack': 11, 'defense': 7}"
      ]
     },
<<<<<<< HEAD
     "execution_count": 21,
     "metadata": {},
     "output_type": "execute_result"
    }
   ],
   "source": [
    "pikachu.get_state()"
   ]
  },
  {
   "cell_type": "code",
   "execution_count": 15,
   "metadata": {},
   "outputs": [],
   "source": [
    "pikachu.evolve('Alolan Raichu')"
   ]
  },
  {
   "cell_type": "code",
   "execution_count": 16,
   "metadata": {},
   "outputs": [
    {
     "data": {
      "text/plain": [
       "{'name': 'Alolan Raichu', 'level': 4, 'life': 130, 'attack': 15, 'defense': 10}"
      ]
     },
     "execution_count": 16,
=======
     "execution_count": 11,
>>>>>>> a688369457e4afa95cac88eae401a4a1fdb91a80
     "metadata": {},
     "output_type": "execute_result"
    }
   ],
   "source": [
    "pikachu.get_state()"
   ]
  },
  {
   "cell_type": "markdown",
   "metadata": {
    "cell_style": "split",
    "slideshow": {
     "slide_type": "slide"
    }
   },
   "source": [
    "Let's have fun with another class:\n",
    "- Create a koala class with each instance a koala that eats bunches of eucalyptus and poops.\n",
    "- Each bunch of eucalyptus weighs a pound.\n",
    "- Pooping gets rid of half a pound.\n",
    "- If the load in the koala's belly goes past 6 pounds:\n",
    "    - the koala dies by belly explosion."
   ]
  },
  {
   "cell_type": "markdown",
   "metadata": {
    "cell_style": "split",
    "slideshow": {
     "slide_type": "fragment"
    }
   },
   "source": [
    "<center><img src = \"Images/gastro.jpg\" width = 1000/></center>"
   ]
  },
  {
   "cell_type": "markdown",
   "metadata": {
    "slideshow": {
     "slide_type": "subslide"
    }
   },
   "source": [
    "Your data science instructor really doesn't get this objected oriented programming stuff! Help him out."
   ]
  },
  {
   "cell_type": "code",
<<<<<<< HEAD
   "execution_count": 24,
=======
   "execution_count": 13,
>>>>>>> a688369457e4afa95cac88eae401a4a1fdb91a80
   "metadata": {
    "cell_style": "center",
    "slideshow": {
     "slide_type": "fragment"
    }
   },
   "outputs": [],
   "source": [
    "class Koala:\n",
    "    \n",
    "    # first need to initialize. \n",
    "    #define relevant variables.\n",
    "    def __init__(self, belly_weight, name, alive = 'Alive'):\n",
    "        self.weight = belly_weight\n",
    "        self.name = name\n",
    "        self.status = alive\n",
    "    # create eat_eucalyptus() method\n",
    "    def alive_status(self):\n",
    "        if self.weight > 6:\n",
    "            self.status = 'Dead'\n",
    "        else:\n",
    "            pass\n",
    "        return self.status\n",
    "            \n",
    "    def eat_eucalyptus(self, num_bunches = 1):\n",
    "        if self.status == 'Alive':\n",
    "            self.weight += num_bunches\n",
    "        else:\n",
    "            print(\"Dead koalas dont eat\")\n",
    "        \n",
    "    # create poop() method\n",
    "    def poop(self, poop_weight = 0.5):\n",
    "        if self.status == 'Alive':\n",
    "            self.weight -= poop_weight\n",
    "        else:\n",
    "            print(\"Dead koalas don't poop.\")"
   ]
  },
  {
   "cell_type": "code",
<<<<<<< HEAD
   "execution_count": 29,
=======
   "execution_count": 19,
>>>>>>> a688369457e4afa95cac88eae401a4a1fdb91a80
   "metadata": {
    "slideshow": {
     "slide_type": "slide"
    }
   },
   "outputs": [],
   "source": [
    "koala1 = Koala(2, 'Randy')"
   ]
  },
  {
   "cell_type": "code",
   "execution_count": 21,
   "metadata": {},
   "outputs": [
    {
     "data": {
      "text/plain": [
       "2"
      ]
     },
     "execution_count": 21,
     "metadata": {},
     "output_type": "execute_result"
    }
   ],
   "source": [
    "koala1.weight"
   ]
  },
  {
   "cell_type": "code",
   "execution_count": 16,
   "metadata": {},
   "outputs": [
    {
     "data": {
      "text/plain": [
       "'Alive'"
      ]
     },
     "execution_count": 16,
     "metadata": {},
     "output_type": "execute_result"
    }
   ],
   "source": [
    "koala1.alive_status()"
   ]
  },
  {
   "cell_type": "code",
   "execution_count": 22,
   "metadata": {},
   "outputs": [],
   "source": [
    "koala1.eat_eucalyptus()"
   ]
  },
  {
   "cell_type": "code",
<<<<<<< HEAD
   "execution_count": 46,
=======
   "execution_count": 24,
   "metadata": {},
   "outputs": [
    {
     "data": {
      "text/plain": [
       "3"
      ]
     },
     "execution_count": 24,
     "metadata": {},
     "output_type": "execute_result"
    }
   ],
   "source": [
    "koala1.weight"
   ]
  },
  {
   "cell_type": "code",
   "execution_count": 25,
>>>>>>> a688369457e4afa95cac88eae401a4a1fdb91a80
   "metadata": {},
   "outputs": [],
   "source": [
    "koala1.poop()"
   ]
  },
  {
   "cell_type": "code",
<<<<<<< HEAD
   "execution_count": 47,
=======
   "execution_count": 26,
>>>>>>> a688369457e4afa95cac88eae401a4a1fdb91a80
   "metadata": {},
   "outputs": [
    {
     "data": {
      "text/plain": [
<<<<<<< HEAD
       "'Alive'"
      ]
     },
     "execution_count": 47,
=======
       "2.5"
      ]
     },
     "execution_count": 26,
     "metadata": {},
     "output_type": "execute_result"
    }
   ],
   "source": [
    "koala1.weight"
   ]
  },
  {
   "cell_type": "code",
   "execution_count": 27,
   "metadata": {},
   "outputs": [
    {
     "data": {
      "text/plain": [
       "'Alive'"
      ]
     },
     "execution_count": 27,
>>>>>>> a688369457e4afa95cac88eae401a4a1fdb91a80
     "metadata": {},
     "output_type": "execute_result"
    }
   ],
   "source": [
    "koala1.alive_status()"
   ]
  },
  {
   "cell_type": "code",
<<<<<<< HEAD
   "execution_count": 48,
=======
   "execution_count": 31,
   "metadata": {},
   "outputs": [],
   "source": [
    "koala1.eat_eucalyptus(8)"
   ]
  },
  {
   "cell_type": "code",
   "execution_count": 33,
>>>>>>> a688369457e4afa95cac88eae401a4a1fdb91a80
   "metadata": {},
   "outputs": [
    {
     "data": {
      "text/plain": [
<<<<<<< HEAD
       "5.5"
      ]
     },
     "execution_count": 48,
=======
       "'Dead'"
      ]
     },
     "execution_count": 33,
>>>>>>> a688369457e4afa95cac88eae401a4a1fdb91a80
     "metadata": {},
     "output_type": "execute_result"
    }
   ],
   "source": [
<<<<<<< HEAD
    "koala1.weight"
=======
    "koala1.alive_status()"
>>>>>>> a688369457e4afa95cac88eae401a4a1fdb91a80
   ]
  },
  {
   "cell_type": "code",
<<<<<<< HEAD
   "execution_count": 42,
=======
   "execution_count": 29,
>>>>>>> a688369457e4afa95cac88eae401a4a1fdb91a80
   "metadata": {},
   "outputs": [],
   "source": [
    "koala1.poop()"
   ]
  },
  {
   "cell_type": "markdown",
   "metadata": {
    "cell_style": "center",
    "slideshow": {
     "slide_type": "fragment"
    }
   },
   "source": [
    "\n",
    "- Each bunch of eucalyptus weighs a pound.\n",
    "- Pooping gets rid of half a pound.\n",
    "- If the load in the koala's belly goes past 6 pounds:\n",
    "    - the koala dies by belly explosion."
   ]
  },
  {
   "cell_type": "markdown",
   "metadata": {
    "slideshow": {
     "slide_type": "slide"
    }
   },
   "source": [
    "Now for why all this is relevant to our work in data science."
   ]
  },
  {
   "cell_type": "code",
<<<<<<< HEAD
   "execution_count": 49,
=======
   "execution_count": 37,
>>>>>>> a688369457e4afa95cac88eae401a4a1fdb91a80
   "metadata": {
    "cell_style": "center",
    "slideshow": {
     "slide_type": "slide"
    }
   },
   "outputs": [],
   "source": [
    "class Standardizer:\n",
    "    \n",
    "    def __init__(self):\n",
    "        self.mean_series = None\n",
    "        self.stdev_series = None\n",
    "    \n",
    "    def fit(self, data):\n",
    "        self.mean_series = data.mean()\n",
    "        self.stdev_series = data.std(ddof = 1)\n",
    "        \n",
    "    def transform(self, X):\n",
    "        X_standard = (X - self.mean_series)/self.stdev_series \n",
    "        return X_standard\n",
    "    \n",
    "    def fit_transform(self, X):\n",
    "        #fit with X\n",
    "        self.fit(X)\n",
    "        #apply transformation to X\n",
    "        transformed = self.transform(X)\n",
    "        return transformed      "
   ]
  },
  {
   "cell_type": "code",
<<<<<<< HEAD
   "execution_count": 50,
=======
   "execution_count": 34,
>>>>>>> a688369457e4afa95cac88eae401a4a1fdb91a80
   "metadata": {
    "cell_style": "center",
    "slideshow": {
     "slide_type": "slide"
    }
   },
   "outputs": [
    {
     "data": {
      "text/html": [
       "<div>\n",
       "<style scoped>\n",
       "    .dataframe tbody tr th:only-of-type {\n",
       "        vertical-align: middle;\n",
       "    }\n",
       "\n",
       "    .dataframe tbody tr th {\n",
       "        vertical-align: top;\n",
       "    }\n",
       "\n",
       "    .dataframe thead th {\n",
       "        text-align: right;\n",
       "    }\n",
       "</style>\n",
       "<table border=\"1\" class=\"dataframe\">\n",
       "  <thead>\n",
       "    <tr style=\"text-align: right;\">\n",
       "      <th></th>\n",
       "      <th>age</th>\n",
       "      <th>chol</th>\n",
       "      <th>thalach</th>\n",
       "      <th>target</th>\n",
       "    </tr>\n",
       "  </thead>\n",
       "  <tbody>\n",
       "    <tr>\n",
       "      <th>0</th>\n",
       "      <td>63</td>\n",
       "      <td>233</td>\n",
       "      <td>150</td>\n",
       "      <td>1</td>\n",
       "    </tr>\n",
       "    <tr>\n",
       "      <th>1</th>\n",
       "      <td>37</td>\n",
       "      <td>250</td>\n",
       "      <td>187</td>\n",
       "      <td>1</td>\n",
       "    </tr>\n",
       "    <tr>\n",
       "      <th>2</th>\n",
       "      <td>41</td>\n",
       "      <td>204</td>\n",
       "      <td>172</td>\n",
       "      <td>1</td>\n",
       "    </tr>\n",
       "    <tr>\n",
       "      <th>3</th>\n",
       "      <td>56</td>\n",
       "      <td>236</td>\n",
       "      <td>178</td>\n",
       "      <td>1</td>\n",
       "    </tr>\n",
       "    <tr>\n",
       "      <th>4</th>\n",
       "      <td>57</td>\n",
       "      <td>354</td>\n",
       "      <td>163</td>\n",
       "      <td>1</td>\n",
       "    </tr>\n",
       "  </tbody>\n",
       "</table>\n",
       "</div>"
      ],
      "text/plain": [
       "   age  chol  thalach  target\n",
       "0   63   233      150       1\n",
       "1   37   250      187       1\n",
       "2   41   204      172       1\n",
       "3   56   236      178       1\n",
       "4   57   354      163       1"
      ]
     },
<<<<<<< HEAD
     "execution_count": 50,
=======
     "execution_count": 34,
>>>>>>> a688369457e4afa95cac88eae401a4a1fdb91a80
     "metadata": {},
     "output_type": "execute_result"
    }
   ],
   "source": [
    "import pandas as pd\n",
    "heart_df = pd.read_csv('Data/heart.csv', usecols = ['age', 'chol', 'thalach', 'target'])\n",
    "heart_df.head()"
   ]
  },
  {
   "cell_type": "markdown",
   "metadata": {
    "slideshow": {
     "slide_type": "slide"
    }
   },
   "source": [
    "Split into train and test sets."
   ]
  },
  {
   "cell_type": "code",
<<<<<<< HEAD
   "execution_count": 51,
=======
   "execution_count": 35,
>>>>>>> a688369457e4afa95cac88eae401a4a1fdb91a80
   "metadata": {
    "cell_style": "center",
    "slideshow": {
     "slide_type": "fragment"
    }
   },
   "outputs": [],
   "source": [
    "from sklearn.model_selection import train_test_split\n",
    "X = heart_df.drop(columns = ['target'])\n",
    "y = heart_df['target']\n",
    "\n",
    "X_train, X_test, y_train, y_test = train_test_split(X, y, test_size = 0.2)"
   ]
  },
  {
   "cell_type": "markdown",
   "metadata": {
    "slideshow": {
     "slide_type": "slide"
    }
   },
   "source": [
    "Let's use our standardizer class! \n",
    "- Instantiate transformer object.\n",
    "- Fit our standardizer object to the training set."
   ]
  },
  {
   "cell_type": "code",
<<<<<<< HEAD
   "execution_count": 52,
=======
   "execution_count": 38,
>>>>>>> a688369457e4afa95cac88eae401a4a1fdb91a80
   "metadata": {
    "slideshow": {
     "slide_type": "fragment"
    }
   },
   "outputs": [],
   "source": [
    "sd = Standardizer()"
   ]
  },
  {
   "cell_type": "code",
<<<<<<< HEAD
   "execution_count": 53,
=======
   "execution_count": 39,
>>>>>>> a688369457e4afa95cac88eae401a4a1fdb91a80
   "metadata": {
    "cell_style": "split",
    "slideshow": {
     "slide_type": "fragment"
    }
   },
   "outputs": [],
   "source": [
    "sd.mean_series"
   ]
  },
  {
   "cell_type": "code",
<<<<<<< HEAD
   "execution_count": 54,
=======
   "execution_count": 41,
>>>>>>> a688369457e4afa95cac88eae401a4a1fdb91a80
   "metadata": {
    "cell_style": "split",
    "slideshow": {
     "slide_type": "fragment"
    }
   },
   "outputs": [],
   "source": [
    "sd.stdev_series"
   ]
  },
  {
   "cell_type": "markdown",
   "metadata": {
    "slideshow": {
     "slide_type": "slide"
    }
   },
   "source": [
    "Fit the transformer."
   ]
  },
  {
   "cell_type": "code",
<<<<<<< HEAD
   "execution_count": 55,
=======
   "execution_count": 42,
>>>>>>> a688369457e4afa95cac88eae401a4a1fdb91a80
   "metadata": {
    "scrolled": true,
    "slideshow": {
     "slide_type": "fragment"
    }
   },
   "outputs": [],
   "source": [
    "sd.fit(X_train)"
   ]
  },
  {
   "cell_type": "code",
<<<<<<< HEAD
   "execution_count": 56,
=======
   "execution_count": 43,
>>>>>>> a688369457e4afa95cac88eae401a4a1fdb91a80
   "metadata": {
    "cell_style": "split",
    "slideshow": {
     "slide_type": "fragment"
    }
   },
   "outputs": [
    {
     "data": {
      "text/plain": [
<<<<<<< HEAD
       "age         54.268595\n",
       "chol       242.628099\n",
       "thalach    149.136364\n",
       "dtype: float64"
      ]
     },
     "execution_count": 56,
=======
       "age         54.376033\n",
       "chol       246.834711\n",
       "thalach    150.276860\n",
       "dtype: float64"
      ]
     },
     "execution_count": 43,
>>>>>>> a688369457e4afa95cac88eae401a4a1fdb91a80
     "metadata": {},
     "output_type": "execute_result"
    }
   ],
   "source": [
    "sd.mean_series"
   ]
  },
  {
   "cell_type": "code",
<<<<<<< HEAD
   "execution_count": 57,
=======
   "execution_count": 44,
>>>>>>> a688369457e4afa95cac88eae401a4a1fdb91a80
   "metadata": {
    "cell_style": "split"
   },
   "outputs": [
    {
     "data": {
      "text/plain": [
<<<<<<< HEAD
       "age         8.695289\n",
       "chol       47.947003\n",
       "thalach    23.395969\n",
       "dtype: float64"
      ]
     },
     "execution_count": 57,
=======
       "age         9.088039\n",
       "chol       52.520669\n",
       "thalach    22.934912\n",
       "dtype: float64"
      ]
     },
     "execution_count": 44,
>>>>>>> a688369457e4afa95cac88eae401a4a1fdb91a80
     "metadata": {},
     "output_type": "execute_result"
    }
   ],
   "source": [
    "sd.stdev_series"
   ]
  },
  {
   "cell_type": "markdown",
   "metadata": {
    "slideshow": {
     "slide_type": "subslide"
    }
   },
   "source": [
    "Means and standard deviations for each column:\n",
    "- extracted (fit) from training set.\n",
    "- use these parameters to transform both train and test"
   ]
  },
  {
   "cell_type": "markdown",
   "metadata": {
    "slideshow": {
     "slide_type": "slide"
    }
   },
   "source": [
    "#### Transform train set"
   ]
  },
  {
   "cell_type": "code",
<<<<<<< HEAD
   "execution_count": 60,
=======
   "execution_count": 45,
>>>>>>> a688369457e4afa95cac88eae401a4a1fdb91a80
   "metadata": {
    "cell_style": "center",
    "scrolled": true,
    "slideshow": {
     "slide_type": "slide"
    }
   },
   "outputs": [
    {
     "data": {
      "text/html": [
       "<div>\n",
       "<style scoped>\n",
       "    .dataframe tbody tr th:only-of-type {\n",
       "        vertical-align: middle;\n",
       "    }\n",
       "\n",
       "    .dataframe tbody tr th {\n",
       "        vertical-align: top;\n",
       "    }\n",
       "\n",
       "    .dataframe thead th {\n",
       "        text-align: right;\n",
       "    }\n",
       "</style>\n",
       "<table border=\"1\" class=\"dataframe\">\n",
       "  <thead>\n",
       "    <tr style=\"text-align: right;\">\n",
       "      <th></th>\n",
       "      <th>age</th>\n",
       "      <th>chol</th>\n",
       "      <th>thalach</th>\n",
       "    </tr>\n",
       "  </thead>\n",
       "  <tbody>\n",
       "    <tr>\n",
<<<<<<< HEAD
       "      <th>154</th>\n",
       "      <td>-1.755962</td>\n",
       "      <td>-0.471940</td>\n",
       "      <td>0.122399</td>\n",
       "    </tr>\n",
       "    <tr>\n",
       "      <th>28</th>\n",
       "      <td>1.234163</td>\n",
       "      <td>3.636763</td>\n",
       "      <td>0.336111</td>\n",
       "    </tr>\n",
       "    <tr>\n",
       "      <th>282</th>\n",
       "      <td>0.544134</td>\n",
       "      <td>-0.513653</td>\n",
       "      <td>-0.646965</td>\n",
       "    </tr>\n",
       "    <tr>\n",
       "      <th>35</th>\n",
       "      <td>-0.950928</td>\n",
       "      <td>-1.368763</td>\n",
       "      <td>0.464338</td>\n",
       "    </tr>\n",
       "    <tr>\n",
       "      <th>65</th>\n",
       "      <td>-2.215981</td>\n",
       "      <td>-1.243625</td>\n",
       "      <td>1.404671</td>\n",
=======
       "      <th>35</th>\n",
       "      <td>-0.921655</td>\n",
       "      <td>-1.329661</td>\n",
       "      <td>0.423945</td>\n",
       "    </tr>\n",
       "    <tr>\n",
       "      <th>134</th>\n",
       "      <td>-1.471828</td>\n",
       "      <td>1.126514</td>\n",
       "      <td>0.554750</td>\n",
       "    </tr>\n",
       "    <tr>\n",
       "      <th>78</th>\n",
       "      <td>-0.261446</td>\n",
       "      <td>-0.796538</td>\n",
       "      <td>1.470385</td>\n",
       "    </tr>\n",
       "    <tr>\n",
       "      <th>217</th>\n",
       "      <td>0.948936</td>\n",
       "      <td>1.583477</td>\n",
       "      <td>-0.796901</td>\n",
       "    </tr>\n",
       "    <tr>\n",
       "      <th>89</th>\n",
       "      <td>0.398762</td>\n",
       "      <td>0.022187</td>\n",
       "      <td>-1.232918</td>\n",
>>>>>>> a688369457e4afa95cac88eae401a4a1fdb91a80
       "    </tr>\n",
       "  </tbody>\n",
       "</table>\n",
       "</div>"
      ],
      "text/plain": [
       "          age      chol   thalach\n",
<<<<<<< HEAD
       "154 -1.755962 -0.471940  0.122399\n",
       "28   1.234163  3.636763  0.336111\n",
       "282  0.544134 -0.513653 -0.646965\n",
       "35  -0.950928 -1.368763  0.464338\n",
       "65  -2.215981 -1.243625  1.404671"
      ]
     },
     "execution_count": 60,
=======
       "35  -0.921655 -1.329661  0.423945\n",
       "134 -1.471828  1.126514  0.554750\n",
       "78  -0.261446 -0.796538  1.470385\n",
       "217  0.948936  1.583477 -0.796901\n",
       "89   0.398762  0.022187 -1.232918"
      ]
     },
     "execution_count": 45,
>>>>>>> a688369457e4afa95cac88eae401a4a1fdb91a80
     "metadata": {},
     "output_type": "execute_result"
    }
   ],
   "source": [
    "X_train_standard = sd.transform(X_train)\n",
    "X_train_standard.head()"
   ]
  },
  {
   "cell_type": "code",
<<<<<<< HEAD
   "execution_count": 59,
=======
   "execution_count": 46,
>>>>>>> a688369457e4afa95cac88eae401a4a1fdb91a80
   "metadata": {
    "cell_style": "split",
    "slideshow": {
     "slide_type": "fragment"
    }
   },
   "outputs": [
    {
     "name": "stdout",
     "output_type": "stream",
     "text": [
      "<class 'pandas.core.frame.DataFrame'>\n",
<<<<<<< HEAD
      "Int64Index: 242 entries, 154 to 252\n",
=======
      "Int64Index: 242 entries, 35 to 15\n",
>>>>>>> a688369457e4afa95cac88eae401a4a1fdb91a80
      "Data columns (total 3 columns):\n",
      " #   Column   Non-Null Count  Dtype  \n",
      "---  ------   --------------  -----  \n",
      " 0   age      242 non-null    float64\n",
      " 1   chol     242 non-null    float64\n",
      " 2   thalach  242 non-null    float64\n",
      "dtypes: float64(3)\n",
      "memory usage: 7.6 KB\n"
     ]
    }
   ],
   "source": [
    "X_train_standard.info()"
   ]
  },
  {
   "cell_type": "code",
<<<<<<< HEAD
   "execution_count": 66,
=======
   "execution_count": 48,
>>>>>>> a688369457e4afa95cac88eae401a4a1fdb91a80
   "metadata": {
    "cell_style": "split",
    "slideshow": {
     "slide_type": "fragment"
    }
   },
   "outputs": [
    {
     "data": {
      "text/plain": [
       "age        1.853430e-16\n",
       "chol       3.073758e-17\n",
       "thalach   -5.436423e-17\n",
       "dtype: float64"
      ]
     },
<<<<<<< HEAD
     "execution_count": 66,
=======
     "execution_count": 48,
>>>>>>> a688369457e4afa95cac88eae401a4a1fdb91a80
     "metadata": {},
     "output_type": "execute_result"
    }
   ],
   "source": [
    "X_train_standard.mean()"
   ]
  },
  {
   "cell_type": "markdown",
   "metadata": {
    "slideshow": {
     "slide_type": "slide"
    }
   },
   "source": [
    "#### Transform test set\n",
    "- Use fitted parameters to transform test set."
   ]
  },
  {
   "cell_type": "code",
<<<<<<< HEAD
   "execution_count": 69,
=======
   "execution_count": 49,
>>>>>>> a688369457e4afa95cac88eae401a4a1fdb91a80
   "metadata": {
    "cell_style": "split",
    "scrolled": true,
    "slideshow": {
     "slide_type": "fragment"
    }
   },
   "outputs": [
    {
     "data": {
      "text/html": [
       "<div>\n",
       "<style scoped>\n",
       "    .dataframe tbody tr th:only-of-type {\n",
       "        vertical-align: middle;\n",
       "    }\n",
       "\n",
       "    .dataframe tbody tr th {\n",
       "        vertical-align: top;\n",
       "    }\n",
       "\n",
       "    .dataframe thead th {\n",
       "        text-align: right;\n",
       "    }\n",
       "</style>\n",
       "<table border=\"1\" class=\"dataframe\">\n",
       "  <thead>\n",
       "    <tr style=\"text-align: right;\">\n",
       "      <th></th>\n",
       "      <th>age</th>\n",
       "      <th>chol</th>\n",
       "      <th>thalach</th>\n",
       "    </tr>\n",
       "  </thead>\n",
       "  <tbody>\n",
       "    <tr>\n",
<<<<<<< HEAD
       "      <th>172</th>\n",
       "      <td>0.429129</td>\n",
       "      <td>0.862867</td>\n",
       "      <td>0.464338</td>\n",
       "    </tr>\n",
       "    <tr>\n",
       "      <th>40</th>\n",
       "      <td>-0.375904</td>\n",
       "      <td>1.363420</td>\n",
       "      <td>-0.305025</td>\n",
       "    </tr>\n",
       "    <tr>\n",
       "      <th>95</th>\n",
       "      <td>-0.145895</td>\n",
       "      <td>-0.346802</td>\n",
       "      <td>-1.630040</td>\n",
       "    </tr>\n",
       "    <tr>\n",
       "      <th>285</th>\n",
       "      <td>-0.950928</td>\n",
       "      <td>1.425989</td>\n",
       "      <td>-1.245358</td>\n",
       "    </tr>\n",
       "    <tr>\n",
       "      <th>129</th>\n",
       "      <td>2.269206</td>\n",
       "      <td>0.550022</td>\n",
       "      <td>-1.202616</td>\n",
=======
       "      <th>130</th>\n",
       "      <td>-0.041377</td>\n",
       "      <td>-0.872699</td>\n",
       "      <td>0.554750</td>\n",
       "    </tr>\n",
       "    <tr>\n",
       "      <th>218</th>\n",
       "      <td>1.169005</td>\n",
       "      <td>0.136428</td>\n",
       "      <td>-1.014909</td>\n",
       "    </tr>\n",
       "    <tr>\n",
       "      <th>81</th>\n",
       "      <td>-1.031689</td>\n",
       "      <td>1.164595</td>\n",
       "      <td>0.859961</td>\n",
       "    </tr>\n",
       "    <tr>\n",
       "      <th>5</th>\n",
       "      <td>0.288728</td>\n",
       "      <td>-1.044060</td>\n",
       "      <td>-0.099275</td>\n",
       "    </tr>\n",
       "    <tr>\n",
       "      <th>12</th>\n",
       "      <td>-0.591550</td>\n",
       "      <td>0.364909</td>\n",
       "      <td>0.903563</td>\n",
>>>>>>> a688369457e4afa95cac88eae401a4a1fdb91a80
       "    </tr>\n",
       "  </tbody>\n",
       "</table>\n",
       "</div>"
      ],
      "text/plain": [
       "          age      chol   thalach\n",
<<<<<<< HEAD
       "172  0.429129  0.862867  0.464338\n",
       "40  -0.375904  1.363420 -0.305025\n",
       "95  -0.145895 -0.346802 -1.630040\n",
       "285 -0.950928  1.425989 -1.245358\n",
       "129  2.269206  0.550022 -1.202616"
      ]
     },
     "execution_count": 69,
=======
       "130 -0.041377 -0.872699  0.554750\n",
       "218  1.169005  0.136428 -1.014909\n",
       "81  -1.031689  1.164595  0.859961\n",
       "5    0.288728 -1.044060 -0.099275\n",
       "12  -0.591550  0.364909  0.903563"
      ]
     },
     "execution_count": 49,
>>>>>>> a688369457e4afa95cac88eae401a4a1fdb91a80
     "metadata": {},
     "output_type": "execute_result"
    }
   ],
   "source": [
    "X_test_standard = sd.transform(X_test)\n",
    "X_test_standard.head()"
   ]
  },
  {
   "cell_type": "code",
<<<<<<< HEAD
   "execution_count": 70,
=======
   "execution_count": 50,
>>>>>>> a688369457e4afa95cac88eae401a4a1fdb91a80
   "metadata": {
    "cell_style": "split",
    "slideshow": {
     "slide_type": "fragment"
    }
   },
   "outputs": [
    {
     "data": {
      "text/plain": [
<<<<<<< HEAD
       "age        1.213224\n",
       "chol       1.322835\n",
       "thalach    0.893399\n",
       "dtype: float64"
      ]
     },
     "execution_count": 70,
=======
       "age        1.005022\n",
       "chol       0.939645\n",
       "thalach    0.994234\n",
       "dtype: float64"
      ]
     },
     "execution_count": 50,
>>>>>>> a688369457e4afa95cac88eae401a4a1fdb91a80
     "metadata": {},
     "output_type": "execute_result"
    }
   ],
   "source": [
    "X_test_standard.std()"
   ]
  },
  {
   "cell_type": "markdown",
   "metadata": {
    "slideshow": {
     "slide_type": "slide"
    }
   },
   "source": [
    "Scikit-learn transformers are instances of class objects."
   ]
  },
  {
   "cell_type": "code",
<<<<<<< HEAD
   "execution_count": 71,
=======
   "execution_count": 51,
>>>>>>> a688369457e4afa95cac88eae401a4a1fdb91a80
   "metadata": {
    "cell_style": "split",
    "slideshow": {
     "slide_type": "fragment"
    }
   },
   "outputs": [],
   "source": [
    "from sklearn.preprocessing import StandardScaler\n",
    "sklearn_sd = StandardScaler()\n",
    "\n",
    "X_train_sklearn = sklearn_sd.fit_transform(X_train)"
   ]
  },
  {
   "cell_type": "code",
<<<<<<< HEAD
   "execution_count": 73,
=======
   "execution_count": 52,
>>>>>>> a688369457e4afa95cac88eae401a4a1fdb91a80
   "metadata": {
    "cell_style": "split",
    "slideshow": {
     "slide_type": "fragment"
    }
   },
   "outputs": [
    {
     "data": {
      "text/plain": [
<<<<<<< HEAD
       "array([ 54.26859504, 242.62809917, 149.13636364])"
      ]
     },
     "execution_count": 73,
=======
       "array([ 54.37603306, 246.83471074, 150.2768595 ])"
      ]
     },
     "execution_count": 52,
>>>>>>> a688369457e4afa95cac88eae401a4a1fdb91a80
     "metadata": {},
     "output_type": "execute_result"
    }
   ],
   "source": [
    "sklearn_sd.mean_"
   ]
  },
  {
   "cell_type": "code",
<<<<<<< HEAD
   "execution_count": 74,
=======
   "execution_count": 53,
>>>>>>> a688369457e4afa95cac88eae401a4a1fdb91a80
   "metadata": {
    "cell_style": "split",
    "slideshow": {
     "slide_type": "fragment"
    }
   },
   "outputs": [
    {
     "data": {
      "text/plain": [
<<<<<<< HEAD
       "array([ 8.67730519, 47.84783599, 23.34758026])"
      ]
     },
     "execution_count": 74,
=======
       "array([ 9.06924259, 52.41204314, 22.88747631])"
      ]
     },
     "execution_count": 53,
>>>>>>> a688369457e4afa95cac88eae401a4a1fdb91a80
     "metadata": {},
     "output_type": "execute_result"
    }
   ],
   "source": [
    "sklearn_sd.scale_"
   ]
  },
  {
   "cell_type": "markdown",
   "metadata": {
    "slideshow": {
     "slide_type": "slide"
    }
   },
   "source": [
    "Looking at the desciptive statistics of the transformed $X_{train}$:"
   ]
  },
  {
   "cell_type": "code",
<<<<<<< HEAD
   "execution_count": 75,
=======
   "execution_count": 54,
>>>>>>> a688369457e4afa95cac88eae401a4a1fdb91a80
   "metadata": {},
   "outputs": [
    {
     "name": "stdout",
     "output_type": "stream",
     "text": [
<<<<<<< HEAD
      "[ 4.58769845e-17 -5.13822226e-17  4.40419051e-16]\n"
=======
      "[ 1.46806350e-16  3.11963495e-17 -7.17974807e-17]\n"
>>>>>>> a688369457e4afa95cac88eae401a4a1fdb91a80
     ]
    }
   ],
   "source": [
    "print(X_train_sklearn.mean(axis = 0))"
   ]
  },
  {
   "cell_type": "code",
<<<<<<< HEAD
   "execution_count": 76,
=======
   "execution_count": 55,
>>>>>>> a688369457e4afa95cac88eae401a4a1fdb91a80
   "metadata": {},
   "outputs": [
    {
     "name": "stdout",
     "output_type": "stream",
     "text": [
      "[1. 1. 1.]\n"
     ]
    }
   ],
   "source": [
    "print(X_train_sklearn.std(axis = 0))"
   ]
  },
  {
   "cell_type": "markdown",
   "metadata": {
    "slideshow": {
     "slide_type": "subslide"
    }
   },
   "source": [
    "Yeah, its doing the same thing as our hard-coded class."
   ]
  },
  {
   "cell_type": "markdown",
   "metadata": {
    "slideshow": {
     "slide_type": "slide"
    }
   },
   "source": [
    "#### Models in scikit-learn\n",
    "- Also classes with different methods.\n",
    "- .fit()\n",
    "- .predict()\n",
    "- .fit_predict()\n",
    "- .score(X,y)\n",
    "\n",
    "LinearRegression() was an example."
   ]
  },
  {
   "cell_type": "code",
<<<<<<< HEAD
   "execution_count": 77,
=======
   "execution_count": 56,
>>>>>>> a688369457e4afa95cac88eae401a4a1fdb91a80
   "metadata": {
    "slideshow": {
     "slide_type": "subslide"
    }
   },
   "outputs": [],
   "source": [
    "from numpy import linalg # linear algebra subpackage\n",
    "import numpy as np"
   ]
  },
  {
   "cell_type": "markdown",
   "metadata": {
    "slideshow": {
     "slide_type": "slide"
    }
   },
   "source": [
    "Implementing custom OLS linear regression class:\n",
    "- sklearn model doing similar things under hood of\n",
    "    - .fit(X,y) method\n",
    "    - .predict(X) method\n",
    "    - etc."
   ]
  },
  {
   "cell_type": "code",
<<<<<<< HEAD
   "execution_count": 80,
=======
   "execution_count": 59,
>>>>>>> a688369457e4afa95cac88eae401a4a1fdb91a80
   "metadata": {
    "cell_style": "center",
    "slideshow": {
     "slide_type": "slide"
    }
   },
   "outputs": [],
   "source": [
    "class CustomLinearRegression:\n",
    "    \n",
    "    def __init__(self):\n",
    "        self.intercept = None\n",
    "        self.coeff = None\n",
    "        \n",
    "    def fit(self, X_in, y):\n",
    "        \n",
    "        #create a column of 1s for offset fitting\n",
    "        bias_col = np.ones(X_in.shape[0]).reshape(-1,1) \n",
    "    \n",
    "        #augmented data matrix with column of ones\n",
    "        X = np.hstack((bias_col, X_in))\n",
    "        \n",
    "        # weights: result of least squares minimization\n",
    "        w = linalg.inv(X.T@X)@(X.T@y)\n",
    "        # its a formula\n",
    "        \n",
    "        self.intercept = w[0]\n",
    "        self.coeff = w[1::]\n",
    "        \n",
    "    # same as y = beta_0 + beta_1*x_1 + beta_2*x_2 + ... + beta_n*x_n\n",
    "    #just more compact. we'll see later.\n",
    "    def predict(self, X):\n",
    "        y_pred = X@self.coeff + self.intercept\n",
    "        return y_pred\n",
    "    "
   ]
  },
  {
   "cell_type": "markdown",
   "metadata": {
    "slideshow": {
     "slide_type": "slide"
    }
   },
   "source": [
    "Create instances of our custom model and scikit-learn linear regression model"
   ]
  },
  {
   "cell_type": "code",
<<<<<<< HEAD
   "execution_count": 91,
=======
   "execution_count": 60,
>>>>>>> a688369457e4afa95cac88eae401a4a1fdb91a80
   "metadata": {
    "slideshow": {
     "slide_type": "fragment"
    }
   },
   "outputs": [],
   "source": [
    "from sklearn.linear_model import LinearRegression\n",
    "clr = CustomLinearRegression()\n",
    "sklearn_lr = LinearRegression()"
   ]
  },
  {
   "cell_type": "markdown",
   "metadata": {
    "slideshow": {
     "slide_type": "slide"
    }
   },
   "source": [
    "Scikit-learn linear regression .fit() method:\n",
    "- find weights/model parameters"
   ]
  },
  {
   "cell_type": "code",
<<<<<<< HEAD
   "execution_count": 92,
=======
   "execution_count": 61,
>>>>>>> a688369457e4afa95cac88eae401a4a1fdb91a80
   "metadata": {
    "cell_style": "split",
    "slideshow": {
     "slide_type": "fragment"
    }
   },
   "outputs": [
    {
     "data": {
      "text/plain": [
       "LinearRegression()"
      ]
     },
<<<<<<< HEAD
     "execution_count": 92,
=======
     "execution_count": 61,
>>>>>>> a688369457e4afa95cac88eae401a4a1fdb91a80
     "metadata": {},
     "output_type": "execute_result"
    }
   ],
   "source": [
    "clr.fit(X_train, y_train)\n",
    "sklearn_lr.fit(X_train, y_train)"
   ]
  },
  {
   "cell_type": "code",
<<<<<<< HEAD
   "execution_count": 93,
=======
   "execution_count": 64,
>>>>>>> a688369457e4afa95cac88eae401a4a1fdb91a80
   "metadata": {
    "cell_style": "split",
    "slideshow": {
     "slide_type": "fragment"
    }
   },
   "outputs": [
    {
     "data": {
      "text/plain": [
<<<<<<< HEAD
       "array([-0.00380191, -0.00104433,  0.00942596])"
      ]
     },
     "execution_count": 93,
=======
       "-0.2253674453286436"
      ]
     },
     "execution_count": 64,
>>>>>>> a688369457e4afa95cac88eae401a4a1fdb91a80
     "metadata": {},
     "output_type": "execute_result"
    }
   ],
   "source": [
    "clr.intercept"
   ]
  },
  {
   "cell_type": "code",
<<<<<<< HEAD
   "execution_count": 94,
=======
   "execution_count": 65,
>>>>>>> a688369457e4afa95cac88eae401a4a1fdb91a80
   "metadata": {
    "cell_style": "split",
    "slideshow": {
     "slide_type": "fragment"
    }
   },
   "outputs": [
    {
     "data": {
      "text/plain": [
<<<<<<< HEAD
       "array([-0.00380191, -0.00104433,  0.00942596])"
      ]
     },
     "execution_count": 94,
=======
       "-0.22536744532866648"
      ]
     },
     "execution_count": 65,
>>>>>>> a688369457e4afa95cac88eae401a4a1fdb91a80
     "metadata": {},
     "output_type": "execute_result"
    }
   ],
   "source": [
    "sklearn_lr.intercept_"
   ]
  },
  {
   "cell_type": "markdown",
   "metadata": {
    "slideshow": {
     "slide_type": "subslide"
    }
   },
   "source": [
    "\n",
    "Under the hood, sklearn model is:\n",
    "\n",
    "Class object with model parameters as attributes.\n",
    "\n",
    "- .fit(X,y) method uses formula or algorithm to find model parameters (weights)\n",
    "- used X, y as training data"
   ]
  },
  {
   "cell_type": "markdown",
   "metadata": {
    "slideshow": {
     "slide_type": "slide"
    }
   },
   "source": [
    "- .predict(X) \n",
    "    - learned parameters + X into model\n",
    "    - get prediction"
   ]
  },
  {
   "cell_type": "code",
<<<<<<< HEAD
   "execution_count": 95,
=======
   "execution_count": 66,
>>>>>>> a688369457e4afa95cac88eae401a4a1fdb91a80
   "metadata": {
    "cell_style": "split",
    "slideshow": {
     "slide_type": "fragment"
    }
   },
   "outputs": [
    {
     "data": {
      "text/plain": [
<<<<<<< HEAD
       "172    0.553272\n",
       "40     0.385155\n",
       "95     0.170981\n",
       "285    0.193660\n",
       "129    0.140494\n",
       "dtype: float64"
      ]
     },
     "execution_count": 95,
=======
       "130    0.688640\n",
       "218    0.314484\n",
       "81     0.726018\n",
       "5      0.559099\n",
       "12     0.738971\n",
       "dtype: float64"
      ]
     },
     "execution_count": 66,
>>>>>>> a688369457e4afa95cac88eae401a4a1fdb91a80
     "metadata": {},
     "output_type": "execute_result"
    }
   ],
   "source": [
    "clr.predict(X_test)[0:5]"
   ]
  },
  {
   "cell_type": "code",
<<<<<<< HEAD
   "execution_count": 96,
=======
   "execution_count": 67,
>>>>>>> a688369457e4afa95cac88eae401a4a1fdb91a80
   "metadata": {
    "cell_style": "split",
    "slideshow": {
     "slide_type": "fragment"
    }
   },
   "outputs": [
    {
     "data": {
      "text/plain": [
<<<<<<< HEAD
       "array([0.55327231, 0.38515452, 0.17098091, 0.19365998, 0.14049418])"
      ]
     },
     "execution_count": 96,
=======
       "array([0.68864047, 0.31448418, 0.72601841, 0.5590993 , 0.73897075])"
      ]
     },
     "execution_count": 67,
>>>>>>> a688369457e4afa95cac88eae401a4a1fdb91a80
     "metadata": {},
     "output_type": "execute_result"
    }
   ],
   "source": [
    "sklearn_lr.predict(X_test)[0:5]"
   ]
  },
  {
   "cell_type": "code",
   "execution_count": 98,
   "metadata": {},
   "outputs": [
    {
     "data": {
      "text/plain": [
       "-0.4377808886139576"
      ]
     },
     "execution_count": 98,
     "metadata": {},
     "output_type": "execute_result"
    }
   ],
   "source": [
    "clr.intercept"
   ]
  },
  {
   "cell_type": "code",
   "execution_count": 101,
   "metadata": {},
   "outputs": [
    {
     "data": {
      "text/plain": [
       "-0.4377808886139338"
      ]
     },
     "execution_count": 101,
     "metadata": {},
     "output_type": "execute_result"
    }
   ],
   "source": [
    "sklearn_lr.intercept_"
   ]
  },
  {
   "cell_type": "markdown",
   "metadata": {
    "slideshow": {
     "slide_type": "slide"
    }
   },
   "source": [
    "We showed:\n",
    "- Clearly how sklearn works under the hood via class objects   \n",
    "- But not integrated into the scikit-learn library\n",
    "    \n"
   ]
  },
  {
   "cell_type": "markdown",
   "metadata": {
    "slideshow": {
     "slide_type": "slide"
    }
   },
   "source": [
    "Next: \n",
    "- Learn about parent/child classes\n",
    "- Inheritance and class hierarchy\n",
    "- Integrate our models/transformers into scikit-learn class hierarchy."
   ]
  }
 ],
 "metadata": {
  "celltoolbar": "Slideshow",
  "kernelspec": {
   "display_name": "Python 3",
   "language": "python",
   "name": "python3"
  },
  "language_info": {
   "codemirror_mode": {
    "name": "ipython",
    "version": 3
   },
   "file_extension": ".py",
   "mimetype": "text/x-python",
   "name": "python",
   "nbconvert_exporter": "python",
   "pygments_lexer": "ipython3",
   "version": "3.8.5"
  },
  "toc": {
   "base_numbering": 1,
   "nav_menu": {},
   "number_sections": true,
   "sideBar": true,
   "skip_h1_title": false,
   "title_cell": "Table of Contents",
   "title_sidebar": "TOC",
   "toc_cell": true,
   "toc_position": {
    "height": "439px",
    "left": "10px",
    "top": "150px",
    "width": "363px"
   },
   "toc_section_display": true,
   "toc_window_display": true
  }
 },
 "nbformat": 4,
 "nbformat_minor": 4
}
