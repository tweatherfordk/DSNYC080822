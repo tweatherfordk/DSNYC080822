{
 "cells": [
  {
   "cell_type": "markdown",
   "metadata": {
    "cell_style": "center",
    "slideshow": {
     "slide_type": "slide"
    }
   },
   "source": [
    "<div style=\"color:white;\n",
    "           display:fill;\n",
    "           border-radius:5px;\n",
    "           background-color:#5642C5;\n",
    "           font-size:200%;\n",
    "           font-family:Arial;letter-spacing:0.5px\">\n",
    "\n",
    "<p width = 20%, style=\"padding: 10px;\n",
    "              color:white;\">\n",
    "Hypothesis Testing and Z-tests (Part I)\n",
    "              \n",
    "</p>\n",
    "</div>\n",
    "\n",
    "Data Science Cohort Live NYC Feb 2022\n",
    "<p>Phase 2: Topic 13</p>\n",
    "<br>\n",
    "<br>\n",
    "\n",
    "<div align = \"right\">\n",
    "<img src=\"Images/flatiron-school-logo.png\" align = \"right\" width=\"200\"/>\n",
    "</div>\n",
    "    \n",
    "    "
   ]
  },
  {
   "cell_type": "markdown",
   "metadata": {
    "slideshow": {
     "slide_type": "slide"
    }
   },
   "source": [
    "#### Statistical hypothesis Testing: general framework\n",
    "- Make a proposition about the world.\n",
    "    - That proposition or *hypothesis* must make a claim about the parameters of a population or a set of populations.\n",
    "    \n"
   ]
  },
  {
   "cell_type": "markdown",
   "metadata": {
    "slideshow": {
     "slide_type": "fragment"
    }
   },
   "source": [
    "If above not satisfied: \n",
    "- not really a question that can be answered with data acquisition/experimentation."
   ]
  },
  {
   "cell_type": "markdown",
   "metadata": {
    "slideshow": {
     "slide_type": "slide"
    }
   },
   "source": [
    "#### Example\n",
    "\n",
    "- Hypothesis: the average mass of the southern Koalas is larger than that of the northern Koala. Yes or no?\n",
    "\n",
    "<center><img src = \"Images/southnorthkoala.jpg\" width = 400 /></center>\n",
    "<center>Freak coincidence or example of real difference?</center>\n",
    "\n",
    "**Average mass**: population parameter of the different subspecies"
   ]
  },
  {
   "cell_type": "markdown",
   "metadata": {
    "slideshow": {
     "slide_type": "slide"
    }
   },
   "source": [
    "- CBD helps reduce anxiety. Yes or no?\n",
    "<br><br>\n",
    "    <center><img src = \"Images/hemp.jpg\" width = 400 /></center>\n"
   ]
  },
  {
   "cell_type": "markdown",
   "metadata": {
    "slideshow": {
     "slide_type": "fragment"
    }
   },
   "source": [
    "How do I make this statement more precise?\n"
   ]
  },
  {
   "cell_type": "markdown",
   "metadata": {
    "slideshow": {
     "slide_type": "slide"
    }
   },
   "source": [
    "- What do I measure?\n",
    "    - Questionnaire/survey?\n",
    "    - Cortisol levels?\n",
    "- Whats the population(s)?\n",
    "\n",
    "**Experimental design**: We'll get into all this more during A/B testing. "
   ]
  },
  {
   "cell_type": "markdown",
   "metadata": {
    "slideshow": {
     "slide_type": "slide"
    }
   },
   "source": [
    "*More precise formulation*:\n",
    "\n",
    "The average level of cortisol levels in humans treated with CBD is, on average, lower than those who have not undergone the treatment. \n",
    "\n",
    "Yes or no?\n",
    "\n",
    "**The average cortisol level** as a population parameter for the two scenarios."
   ]
  },
  {
   "cell_type": "markdown",
   "metadata": {
    "slideshow": {
     "slide_type": "slide"
    }
   },
   "source": [
    "- This peak is not noise. True or false?\n",
    "\n",
    "<center><img src = \"Images/peakvsnoise.jpg\" width = 400 /></center>\n",
    "<center>Real peak or fluctuation associated with noise?</center>\n",
    "\n",
    "Compare the peak value with the statistics of the noise floor (our population)."
   ]
  },
  {
   "cell_type": "markdown",
   "metadata": {
    "slideshow": {
     "slide_type": "slide"
    }
   },
   "source": [
    "#### Role of Hypothesis in Data Science / Tech"
   ]
  },
  {
   "cell_type": "markdown",
   "metadata": {
    "slideshow": {
     "slide_type": "subslide"
    }
   },
   "source": [
    "\n",
    "\n",
    "- Conducting User Experience (UX) trials of websites/data products.\n",
    "\n",
    "<center><img src = \"Images/UX.jpg\" width = 500 /></center>\n"
   ]
  },
  {
   "cell_type": "markdown",
   "metadata": {
    "slideshow": {
     "slide_type": "subslide"
    }
   },
   "source": [
    "Two sets of users drawn randomly:\n",
    "\n",
    "- Give survey or measure engagement by click rate or site visits\n",
    "\n",
    "**Hypothesis**: (Metric for user engagement) is higher for users who used version B vs version A. \n",
    "\n",
    "- Yes or no?"
   ]
  },
  {
   "cell_type": "markdown",
   "metadata": {
    "slideshow": {
     "slide_type": "slide"
    }
   },
   "source": [
    "#### Other reasons for hypothesis testing in data science\n",
    "\n",
    "- We get data. Want to pump it into a predictive Machine Learning model.\n",
    "- But, may want to understand the *structure* of the data first."
   ]
  },
  {
   "cell_type": "markdown",
   "metadata": {
    "cell_style": "split",
    "slideshow": {
     "slide_type": "slide"
    }
   },
   "source": [
    "#### What does structure mean?\n",
    "\n",
    "- Are there meaningful groupings in the data?\n",
    "    - Difference in flipper length based on: \n",
    "    - sex and/or species?\n",
    "    "
   ]
  },
  {
   "cell_type": "markdown",
   "metadata": {
    "cell_style": "split",
    "slideshow": {
     "slide_type": "-"
    }
   },
   "source": [
    "<center><img src = \"Images/chinstrap.jpg\" width = 300 /></center>\n",
    "<center> <i>A chinstrap diving into the dangerous seas.</i> <center>"
   ]
  },
  {
   "cell_type": "markdown",
   "metadata": {
    "slideshow": {
     "slide_type": "subslide"
    }
   },
   "source": [
    "**A question:**\n",
    "\n",
    "Does the flipper length in the chinstrap depend on sex?"
   ]
  },
  {
   "cell_type": "code",
   "execution_count": 1,
   "metadata": {
    "slideshow": {
     "slide_type": "-"
    }
   },
   "outputs": [
    {
     "data": {
      "text/html": [
       "<div>\n",
       "<style scoped>\n",
       "    .dataframe tbody tr th:only-of-type {\n",
       "        vertical-align: middle;\n",
       "    }\n",
       "\n",
       "    .dataframe tbody tr th {\n",
       "        vertical-align: top;\n",
       "    }\n",
       "\n",
       "    .dataframe thead th {\n",
       "        text-align: right;\n",
       "    }\n",
       "</style>\n",
       "<table border=\"1\" class=\"dataframe\">\n",
       "  <thead>\n",
       "    <tr style=\"text-align: right;\">\n",
       "      <th></th>\n",
       "      <th>species</th>\n",
       "      <th>island</th>\n",
       "      <th>bill_length_mm</th>\n",
       "      <th>bill_depth_mm</th>\n",
       "      <th>flipper_length_mm</th>\n",
       "      <th>body_mass_g</th>\n",
       "      <th>sex</th>\n",
       "    </tr>\n",
       "  </thead>\n",
       "  <tbody>\n",
       "    <tr>\n",
       "      <th>0</th>\n",
       "      <td>Adelie</td>\n",
       "      <td>Torgersen</td>\n",
       "      <td>39.1</td>\n",
       "      <td>18.7</td>\n",
       "      <td>181.0</td>\n",
       "      <td>3750.0</td>\n",
       "      <td>Male</td>\n",
       "    </tr>\n",
       "    <tr>\n",
       "      <th>1</th>\n",
       "      <td>Adelie</td>\n",
       "      <td>Torgersen</td>\n",
       "      <td>39.5</td>\n",
       "      <td>17.4</td>\n",
       "      <td>186.0</td>\n",
       "      <td>3800.0</td>\n",
       "      <td>Female</td>\n",
       "    </tr>\n",
       "    <tr>\n",
       "      <th>2</th>\n",
       "      <td>Adelie</td>\n",
       "      <td>Torgersen</td>\n",
       "      <td>40.3</td>\n",
       "      <td>18.0</td>\n",
       "      <td>195.0</td>\n",
       "      <td>3250.0</td>\n",
       "      <td>Female</td>\n",
       "    </tr>\n",
       "    <tr>\n",
       "      <th>4</th>\n",
       "      <td>Adelie</td>\n",
       "      <td>Torgersen</td>\n",
       "      <td>36.7</td>\n",
       "      <td>19.3</td>\n",
       "      <td>193.0</td>\n",
       "      <td>3450.0</td>\n",
       "      <td>Female</td>\n",
       "    </tr>\n",
       "    <tr>\n",
       "      <th>5</th>\n",
       "      <td>Adelie</td>\n",
       "      <td>Torgersen</td>\n",
       "      <td>39.3</td>\n",
       "      <td>20.6</td>\n",
       "      <td>190.0</td>\n",
       "      <td>3650.0</td>\n",
       "      <td>Male</td>\n",
       "    </tr>\n",
       "  </tbody>\n",
       "</table>\n",
       "</div>"
      ],
      "text/plain": [
       "  species     island  bill_length_mm  bill_depth_mm  flipper_length_mm  \\\n",
       "0  Adelie  Torgersen            39.1           18.7              181.0   \n",
       "1  Adelie  Torgersen            39.5           17.4              186.0   \n",
       "2  Adelie  Torgersen            40.3           18.0              195.0   \n",
       "4  Adelie  Torgersen            36.7           19.3              193.0   \n",
       "5  Adelie  Torgersen            39.3           20.6              190.0   \n",
       "\n",
       "   body_mass_g     sex  \n",
       "0       3750.0    Male  \n",
       "1       3800.0  Female  \n",
       "2       3250.0  Female  \n",
       "4       3450.0  Female  \n",
       "5       3650.0    Male  "
      ]
     },
     "execution_count": 1,
     "metadata": {},
     "output_type": "execute_result"
    }
   ],
   "source": [
    "import seaborn as sns\n",
    "import matplotlib.pyplot as plt\n",
    "pg_df = sns.load_dataset('penguins').dropna()\n",
    "pg_df.head()"
   ]
  },
  {
   "cell_type": "markdown",
   "metadata": {
    "slideshow": {
     "slide_type": "slide"
    }
   },
   "source": [
    "Let's subset on the chinstrap population and look at flipper length by sex:"
   ]
  },
  {
   "cell_type": "code",
   "execution_count": 2,
   "metadata": {
    "cell_style": "split",
    "slideshow": {
     "slide_type": "fragment"
    }
   },
   "outputs": [
    {
     "name": "stdout",
     "output_type": "stream",
     "text": [
      "<class 'pandas.core.frame.DataFrame'>\n",
      "Int64Index: 68 entries, 152 to 219\n",
      "Data columns (total 2 columns):\n",
      " #   Column             Non-Null Count  Dtype  \n",
      "---  ------             --------------  -----  \n",
      " 0   flipper_length_mm  68 non-null     float64\n",
      " 1   sex                68 non-null     object \n",
      "dtypes: float64(1), object(1)\n",
      "memory usage: 1.6+ KB\n",
      "None\n"
     ]
    }
   ],
   "source": [
    "chinstrap_df = pg_df[pg_df['species'] == 'Chinstrap'].loc[\n",
    "    :,['flipper_length_mm', 'sex']]\n",
    "print(chinstrap_df.info())"
   ]
  },
  {
   "cell_type": "code",
   "execution_count": 3,
   "metadata": {
    "cell_style": "split"
   },
   "outputs": [
    {
     "data": {
      "text/html": [
       "<div>\n",
       "<style scoped>\n",
       "    .dataframe tbody tr th:only-of-type {\n",
       "        vertical-align: middle;\n",
       "    }\n",
       "\n",
       "    .dataframe tbody tr th {\n",
       "        vertical-align: top;\n",
       "    }\n",
       "\n",
       "    .dataframe thead th {\n",
       "        text-align: right;\n",
       "    }\n",
       "</style>\n",
       "<table border=\"1\" class=\"dataframe\">\n",
       "  <thead>\n",
       "    <tr style=\"text-align: right;\">\n",
       "      <th></th>\n",
       "      <th>flipper_length_mm</th>\n",
       "      <th>sex</th>\n",
       "    </tr>\n",
       "  </thead>\n",
       "  <tbody>\n",
       "    <tr>\n",
       "      <th>152</th>\n",
       "      <td>192.0</td>\n",
       "      <td>Female</td>\n",
       "    </tr>\n",
       "    <tr>\n",
       "      <th>153</th>\n",
       "      <td>196.0</td>\n",
       "      <td>Male</td>\n",
       "    </tr>\n",
       "    <tr>\n",
       "      <th>154</th>\n",
       "      <td>193.0</td>\n",
       "      <td>Male</td>\n",
       "    </tr>\n",
       "    <tr>\n",
       "      <th>155</th>\n",
       "      <td>188.0</td>\n",
       "      <td>Female</td>\n",
       "    </tr>\n",
       "    <tr>\n",
       "      <th>156</th>\n",
       "      <td>197.0</td>\n",
       "      <td>Male</td>\n",
       "    </tr>\n",
       "  </tbody>\n",
       "</table>\n",
       "</div>"
      ],
      "text/plain": [
       "     flipper_length_mm     sex\n",
       "152              192.0  Female\n",
       "153              196.0    Male\n",
       "154              193.0    Male\n",
       "155              188.0  Female\n",
       "156              197.0    Male"
      ]
     },
     "execution_count": 3,
     "metadata": {},
     "output_type": "execute_result"
    }
   ],
   "source": [
    "chinstrap_df.head()"
   ]
  },
  {
   "cell_type": "markdown",
   "metadata": {
    "slideshow": {
     "slide_type": "subslide"
    }
   },
   "source": [
    "Can groupby sex: aggregate and compare sample means:"
   ]
  },
  {
   "cell_type": "code",
   "execution_count": 4,
   "metadata": {
    "cell_style": "split",
    "slideshow": {
     "slide_type": "fragment"
    }
   },
   "outputs": [
    {
     "data": {
      "text/html": [
       "<div>\n",
       "<style scoped>\n",
       "    .dataframe tbody tr th:only-of-type {\n",
       "        vertical-align: middle;\n",
       "    }\n",
       "\n",
       "    .dataframe tbody tr th {\n",
       "        vertical-align: top;\n",
       "    }\n",
       "\n",
       "    .dataframe thead th {\n",
       "        text-align: right;\n",
       "    }\n",
       "</style>\n",
       "<table border=\"1\" class=\"dataframe\">\n",
       "  <thead>\n",
       "    <tr style=\"text-align: right;\">\n",
       "      <th></th>\n",
       "      <th>flipper_length_mm</th>\n",
       "    </tr>\n",
       "    <tr>\n",
       "      <th>sex</th>\n",
       "      <th></th>\n",
       "    </tr>\n",
       "  </thead>\n",
       "  <tbody>\n",
       "    <tr>\n",
       "      <th>Female</th>\n",
       "      <td>191.735294</td>\n",
       "    </tr>\n",
       "    <tr>\n",
       "      <th>Male</th>\n",
       "      <td>199.911765</td>\n",
       "    </tr>\n",
       "  </tbody>\n",
       "</table>\n",
       "</div>"
      ],
      "text/plain": [
       "        flipper_length_mm\n",
       "sex                      \n",
       "Female         191.735294\n",
       "Male           199.911765"
      ]
     },
     "execution_count": 4,
     "metadata": {},
     "output_type": "execute_result"
    }
   ],
   "source": [
    "chinstrap_means = \\\n",
    "chinstrap_df.groupby('sex').mean()\n",
    "\n",
    "chinstrap_means"
   ]
  },
  {
   "cell_type": "markdown",
   "metadata": {
    "cell_style": "split",
    "slideshow": {
     "slide_type": "fragment"
    }
   },
   "source": [
    "Could just compare the value of the sample means. Right?\n",
    "\n",
    "- But don't really know sample spread."
   ]
  },
  {
   "cell_type": "code",
   "execution_count": 5,
   "metadata": {
    "cell_style": "split"
   },
   "outputs": [
    {
     "data": {
      "text/html": [
       "<div>\n",
       "<style scoped>\n",
       "    .dataframe tbody tr th:only-of-type {\n",
       "        vertical-align: middle;\n",
       "    }\n",
       "\n",
       "    .dataframe tbody tr th {\n",
       "        vertical-align: top;\n",
       "    }\n",
       "\n",
       "    .dataframe thead th {\n",
       "        text-align: right;\n",
       "    }\n",
       "</style>\n",
       "<table border=\"1\" class=\"dataframe\">\n",
       "  <thead>\n",
       "    <tr style=\"text-align: right;\">\n",
       "      <th></th>\n",
       "      <th>flipper_length_mm</th>\n",
       "    </tr>\n",
       "    <tr>\n",
       "      <th>sex</th>\n",
       "      <th></th>\n",
       "    </tr>\n",
       "  </thead>\n",
       "  <tbody>\n",
       "    <tr>\n",
       "      <th>Female</th>\n",
       "      <td>5.754096</td>\n",
       "    </tr>\n",
       "    <tr>\n",
       "      <th>Male</th>\n",
       "      <td>5.976558</td>\n",
       "    </tr>\n",
       "  </tbody>\n",
       "</table>\n",
       "</div>"
      ],
      "text/plain": [
       "        flipper_length_mm\n",
       "sex                      \n",
       "Female           5.754096\n",
       "Male             5.976558"
      ]
     },
     "execution_count": 5,
     "metadata": {},
     "output_type": "execute_result"
    }
   ],
   "source": [
    "chinstrap_stds = \\\n",
    "chinstrap_df.groupby('sex').std()\n",
    "chinstrap_stds"
   ]
  },
  {
   "cell_type": "markdown",
   "metadata": {
    "slideshow": {
     "slide_type": "slide"
    }
   },
   "source": [
    "Could certainly use visual exploratory data sample:"
   ]
  },
  {
   "cell_type": "code",
   "execution_count": 6,
   "metadata": {
    "cell_style": "split",
    "slideshow": {
     "slide_type": "fragment"
    }
   },
   "outputs": [
    {
     "data": {
      "image/png": "[encoded data removed]",
      "text/plain": [
       "<Figure size 432x288 with 1 Axes>"
      ]
     },
     "metadata": {
      "needs_background": "light"
     },
     "output_type": "display_data"
    }
   ],
   "source": [
    "fig, ax = plt.subplots()\n",
    "sns.violinplot(x = 'sex', y = 'flipper_length_mm', \n",
    "               data = chinstrap_df, ax = ax)\n",
    "ax.axhline(y =chinstrap_means.loc['Female'].values,\n",
    "          c = 'blue', linestyle = '--')\n",
    "ax.axhline(y =chinstrap_means.loc['Male'].values,\n",
    "          c = 'orange', linestyle = '--')\n",
    "plt.show()"
   ]
  },
  {
   "cell_type": "markdown",
   "metadata": {
    "cell_style": "split",
    "slideshow": {
     "slide_type": "fragment"
    }
   },
   "source": [
    "Sample values look like they are distributed differently between sexes."
   ]
  },
  {
   "cell_type": "markdown",
   "metadata": {
    "cell_style": "split",
    "slideshow": {
     "slide_type": "fragment"
    }
   },
   "source": [
    "But these sample means/ distributions close enough that:\n",
    "- may need to construct a rigorous hypothesis test."
   ]
  },
  {
   "cell_type": "markdown",
   "metadata": {
    "cell_style": "split",
    "slideshow": {
     "slide_type": "slide"
    }
   },
   "source": [
    "**What is the issue here?**\n",
    "- Small finite size sample for:\n",
    "    - female Chinstraps.\n",
    "    - male Chinstraps."
   ]
  },
  {
   "cell_type": "code",
   "execution_count": 7,
   "metadata": {
    "cell_style": "split",
    "slideshow": {
     "slide_type": "fragment"
    }
   },
   "outputs": [
    {
     "data": {
      "text/html": [
       "<div>\n",
       "<style scoped>\n",
       "    .dataframe tbody tr th:only-of-type {\n",
       "        vertical-align: middle;\n",
       "    }\n",
       "\n",
       "    .dataframe tbody tr th {\n",
       "        vertical-align: top;\n",
       "    }\n",
       "\n",
       "    .dataframe thead th {\n",
       "        text-align: right;\n",
       "    }\n",
       "</style>\n",
       "<table border=\"1\" class=\"dataframe\">\n",
       "  <thead>\n",
       "    <tr style=\"text-align: right;\">\n",
       "      <th></th>\n",
       "      <th>flipper_length_mm</th>\n",
       "    </tr>\n",
       "    <tr>\n",
       "      <th>sex</th>\n",
       "      <th></th>\n",
       "    </tr>\n",
       "  </thead>\n",
       "  <tbody>\n",
       "    <tr>\n",
       "      <th>Female</th>\n",
       "      <td>34</td>\n",
       "    </tr>\n",
       "    <tr>\n",
       "      <th>Male</th>\n",
       "      <td>34</td>\n",
       "    </tr>\n",
       "  </tbody>\n",
       "</table>\n",
       "</div>"
      ],
      "text/plain": [
       "        flipper_length_mm\n",
       "sex                      \n",
       "Female                 34\n",
       "Male                   34"
      ]
     },
     "execution_count": 7,
     "metadata": {},
     "output_type": "execute_result"
    }
   ],
   "source": [
    "N_sex = chinstrap_df.groupby('sex').count()\n",
    "N_sex"
   ]
  },
  {
   "cell_type": "markdown",
   "metadata": {
    "slideshow": {
     "slide_type": "slide"
    }
   },
   "source": [
    "Is this good or bad?\n",
    "- Let's do another possible realization of chinstrap penguin body masses:\n",
    "    - assuming normally distributed "
   ]
  },
  {
   "cell_type": "code",
   "execution_count": 8,
   "metadata": {
    "cell_style": "split",
    "slideshow": {
     "slide_type": "subslide"
    }
   },
   "outputs": [],
   "source": [
    "from scipy.stats import norm \n",
    "import pandas as pd\n",
    "\n",
    "new_fem_sample = \\\n",
    "norm.rvs(loc = chinstrap_means.loc['Female'], \n",
    "         scale = chinstrap_stds.loc['Female'], size = N_sex.loc['Female'])\n",
    "fem_mean = new_fem_sample.mean()\n",
    "new_m_sample = \\\n",
    "norm.rvs(loc = chinstrap_means.loc['Male'], \n",
    "         scale = chinstrap_stds.loc['Male'], size = N_sex.loc['Male'])\n",
    "\n",
    "m_mean = new_m_sample.mean()\n",
    "new_sample_df = pd.DataFrame()\n",
    "new_sample_df['Female'] = new_fem_sample\n",
    "new_sample_df['Male'] = new_m_sample\n",
    "new_sample_df = pd.melt(new_sample_df,  value_vars = ['Female', 'Male'], var_name = 'sex', value_name = 'body_mass_g'  )"
   ]
  },
  {
   "cell_type": "code",
   "execution_count": 9,
   "metadata": {
    "cell_style": "split",
    "slideshow": {
     "slide_type": "fragment"
    }
   },
   "outputs": [
    {
     "data": {
      "image/png": "[encoded data removed]",
      "text/plain": [
       "<Figure size 432x288 with 1 Axes>"
      ]
     },
     "metadata": {
      "needs_background": "light"
     },
     "output_type": "display_data"
    }
   ],
   "source": [
    "fig, ax = plt.subplots()\n",
    "sns.violinplot(x = 'sex', y = 'body_mass_g', \n",
    "               data = new_sample_df)\n",
    "\n",
    "plt.show()"
   ]
  },
  {
   "cell_type": "markdown",
   "metadata": {
    "slideshow": {
     "slide_type": "subslide"
    }
   },
   "source": [
    "Simulated sample of flipper lengths (based off same statistics as data): looks very close now.\n",
    "\n",
    "- Unsure whether sample tells us that:\n",
    "    - the population mean of flipper lengths are greater for males than for females\n",
    "- **Or:** just a sample fluctuation drawn from distributions where the population means for male/female are same."
   ]
  },
  {
   "cell_type": "markdown",
   "metadata": {
    "slideshow": {
     "slide_type": "subslide"
    }
   },
   "source": [
    "**The why of statistical testing**: \n",
    "\n",
    "- for discovering meaningful/robust groupings inferred from samples\n",
    "\n",
    "Want to have a rigorous test in the face of ambiguity."
   ]
  },
  {
   "cell_type": "code",
   "execution_count": 10,
   "metadata": {
    "slideshow": {
     "slide_type": "skip"
    }
   },
   "outputs": [],
   "source": [
    "import numpy as np\n",
    "from scipy.stats import norm\n",
    "import pandas as pd\n",
    "import matplotlib.pyplot as plt\n",
    "from numpy.random import choice\n",
    "height_list = norm.rvs(loc = 80, scale = 30, size = 150)\n"
   ]
  },
  {
   "cell_type": "markdown",
   "metadata": {
    "slideshow": {
     "slide_type": "slide"
    }
   },
   "source": [
    "#### The actual flow of hypothesis testing\n",
    "\n",
    "1. Frame question in terms of a population parameter. Define test statistic.\n",
    "1. State null and alternative hypothesis.\n",
    "3. Specify significance level ($\\alpha$) under distribution of test statistic.\n",
    "5. Calculate test-statistic / p-value\n",
    "6. Interpret: reject or fail to reject the null hypothesis\n"
   ]
  },
  {
   "cell_type": "markdown",
   "metadata": {
    "cell_style": "split",
    "slideshow": {
     "slide_type": "subslide"
    }
   },
   "source": [
    "We'll go through this step-by-step for a tech-related example.\n",
    "\n",
    "- Defer the penguin case for later"
   ]
  },
  {
   "cell_type": "markdown",
   "metadata": {
    "cell_style": "split",
    "slideshow": {
     "slide_type": "-"
    }
   },
   "source": [
    "Work through flow for specific hypothesis test: \n",
    "- one-sided right-tail Z-test.\n",
    "- Z-tests are a very important class of hypothesis tests."
   ]
  },
  {
   "cell_type": "markdown",
   "metadata": {
    "cell_style": "center",
    "slideshow": {
     "slide_type": "slide"
    }
   },
   "source": [
    "UX/UI at Soundcloud decide to run an experiment:\n",
    "- button redesign on pages:\n",
    "    - make buttons pop more. change color and shape.\n",
    "- hope to drive increased user engagement"
   ]
  },
  {
   "cell_type": "markdown",
   "metadata": {
    "slideshow": {
     "slide_type": "subslide"
    }
   },
   "source": [
    "Some lackluster buttons..."
   ]
  },
  {
   "cell_type": "markdown",
   "metadata": {
    "cell_style": "center",
    "slideshow": {
     "slide_type": "subslide"
    }
   },
   "source": [
    "<img src = \"images/soundcloud.png\" >"
   ]
  },
  {
   "cell_type": "markdown",
   "metadata": {
    "cell_style": "split",
    "slideshow": {
     "slide_type": "slide"
    }
   },
   "source": [
    "UX/UI, product, and engineering roll out new version: website B\n",
    "\n",
    "Those buttons are really popping now!"
   ]
  },
  {
   "cell_type": "markdown",
   "metadata": {
    "cell_style": "split"
   },
   "source": [
    "Users, at random, chosen to experience site B and its fancy buttons.\n",
    "\n",
    "- Build up a sample from interactions with site B.\n",
    "\n",
    "- Also have population level data for site A."
   ]
  },
  {
   "cell_type": "markdown",
   "metadata": {
    "slideshow": {
     "slide_type": "slide"
    }
   },
   "source": [
    "#### Step 1: Frame question in terms of a population parameter. Define test statistic."
   ]
  },
  {
   "cell_type": "markdown",
   "metadata": {
    "cell_style": "split",
    "slideshow": {
     "slide_type": "slide"
    }
   },
   "source": [
    "\n",
    "- Site visit frequency/day higher averaged across users who used site B higher than for those who use site A? "
   ]
  },
  {
   "cell_type": "markdown",
   "metadata": {
    "cell_style": "split",
    "slideshow": {
     "slide_type": "fragment"
    }
   },
   "source": [
    "Test statistic:\n",
    "- mean of site frequency visit/per day in our sample"
   ]
  },
  {
   "cell_type": "markdown",
   "metadata": {
    "cell_style": "split",
    "slideshow": {
     "slide_type": "fragment"
    }
   },
   "source": [
    "- **Null hypothesis** = No: $H_0$\n",
    "    - $\\mu_B = \\mu_A$\n",
    "    \n",
    "- **Alternative hypothesis** = Yes: $H_a$\n",
    "    - $\\mu_B > \\mu_A $"
   ]
  },
  {
   "cell_type": "markdown",
   "metadata": {
    "slideshow": {
     "slide_type": "slide"
    }
   },
   "source": [
    "#### Step 2: Be clear about test statistic and distribution it follows"
   ]
  },
  {
   "cell_type": "markdown",
   "metadata": {
    "cell_style": "split",
    "slideshow": {
     "slide_type": "fragment"
    }
   },
   "source": [
    "Test statistic:\n",
    "- Average of site visit frequency/day higher across sample of users: $$ \\bar{X}_B $$"
   ]
  },
  {
   "cell_type": "markdown",
   "metadata": {
    "cell_style": "split",
    "slideshow": {
     "slide_type": "fragment"
    }
   },
   "source": [
    "By CLT: \n",
    "\n",
    "- test statistic $\\bar{X}_B $ (sample mean) follows normal distribution\n",
    "- if N is large enough. \n",
    "- no matter the underlying distribution."
   ]
  },
  {
   "cell_type": "markdown",
   "metadata": {
    "slideshow": {
     "slide_type": "slide"
    }
   },
   "source": [
    "**Now we assume for *hypothesis test* that the null is true.**\n",
    "\n",
    "- Ask how probable is the average visit frequency on B if the null were true?"
   ]
  },
  {
   "cell_type": "markdown",
   "metadata": {
    "slideshow": {
     "slide_type": "subslide"
    }
   },
   "source": [
    "That is: the change makes no difference.\n",
    "- Users from sample B are still governed by:\n",
    "    - population distribution and parameters of user using version A"
   ]
  },
  {
   "cell_type": "markdown",
   "metadata": {
    "slideshow": {
     "slide_type": "subslide"
    }
   },
   "source": [
    "Or more precisely we treat test statistic $\\bar{X}_B$ on our size $N$ sample:\n",
    "- under assumption $\\bar{X}_B$ is drawn from a distribution of means of sample size $N$:\n",
    "- with underlying population mean $\\mu_A$ and standard deviation $\\sigma_A$"
   ]
  },
  {
   "cell_type": "markdown",
   "metadata": {
    "slideshow": {
     "slide_type": "slide"
    }
   },
   "source": [
    "Now we want to assess:\n",
    "\n",
    "- Probability of sample test statistic under assumption null is true."
   ]
  },
  {
   "cell_type": "markdown",
   "metadata": {
    "cell_style": "split",
    "slideshow": {
     "slide_type": "slide"
    }
   },
   "source": [
    "For our case (means of visit frequency are continuous):\n",
    "- how *probable* is mean site visit frequency **or greater** for site B users\n",
    "- i.e. how likely could sample mean greater than or equal to this value occur\n",
    "- **under assumption version A is still in comission**\n",
    "\n"
   ]
  },
  {
   "cell_type": "markdown",
   "metadata": {
    "slideshow": {
     "slide_type": "subslide"
    }
   },
   "source": [
    "This probability is known as the p-value."
   ]
  },
  {
   "cell_type": "markdown",
   "metadata": {
    "slideshow": {
     "slide_type": "slide"
    }
   },
   "source": [
    "#### Step 3. Specify significance level ($\\alpha$)"
   ]
  },
  {
   "cell_type": "markdown",
   "metadata": {
    "slideshow": {
     "slide_type": "subslide"
    }
   },
   "source": [
    "Set a threshold for rejecting $H_0$:\n",
    "- *Probability* new mean site visit frequency (or greater than this) **under assumption version A is still in comission**\n",
    "- Less than $\\alpha$\n",
    "\n",
    "I.e.:\n",
    "\n",
    "p-value < $\\alpha$:\n",
    "- Then reject the null."
   ]
  },
  {
   "cell_type": "markdown",
   "metadata": {
    "slideshow": {
     "slide_type": "subslide"
    }
   },
   "source": [
    "For sampling distribution of mean (normal):\n",
    "\n",
    "<center><img src = \"Images/siglevel.png\" width = 500 /></center>\n",
    "<center> <i>Significance level</i> <center>"
   ]
  },
  {
   "cell_type": "markdown",
   "metadata": {
    "slideshow": {
     "slide_type": "subslide"
    }
   },
   "source": [
    "#### Our case:\n",
    "\n",
    "$ \\alpha = 0.05 $ arbitrary but standard in many communities.\n",
    "\n",
    "So $ p \\leq 0.05 $ reject the null."
   ]
  },
  {
   "cell_type": "markdown",
   "metadata": {
    "slideshow": {
     "slide_type": "slide"
    }
   },
   "source": [
    "#### Step 3. Calculate test statistic\n",
    "\n",
    "- The test statistic here would be:\n",
    "    - the mean of our sample OR\n",
    "    - mean shifted/rescaled to population mean/standard deviation (Z-statistic)"
   ]
  },
  {
   "cell_type": "code",
   "execution_count": 11,
   "metadata": {
    "slideshow": {
     "slide_type": "skip"
    }
   },
   "outputs": [],
   "source": [
    "from scipy.stats import poisson\n",
    "populationA_visits_per_day = poisson.rvs(mu = 2, size = 500000)\n",
    "populationB_visits_per_day = poisson.rvs(mu = 2.2, size = 200)\n",
    "\n",
    "popA = pd.DataFrame({'visits/day': populationA_visits_per_day })\n",
    "popB = pd.DataFrame({'visits/day': populationB_visits_per_day })"
   ]
  },
  {
   "cell_type": "markdown",
   "metadata": {
    "slideshow": {
     "slide_type": "slide"
    }
   },
   "source": [
    "#### Have a lot of data for visits per day before site change:"
   ]
  },
  {
   "cell_type": "code",
   "execution_count": 12,
   "metadata": {
    "cell_style": "split",
    "slideshow": {
     "slide_type": "-"
    }
   },
   "outputs": [
    {
     "data": {
      "text/html": [
       "<div>\n",
       "<style scoped>\n",
       "    .dataframe tbody tr th:only-of-type {\n",
       "        vertical-align: middle;\n",
       "    }\n",
       "\n",
       "    .dataframe tbody tr th {\n",
       "        vertical-align: top;\n",
       "    }\n",
       "\n",
       "    .dataframe thead th {\n",
       "        text-align: right;\n",
       "    }\n",
       "</style>\n",
       "<table border=\"1\" class=\"dataframe\">\n",
       "  <thead>\n",
       "    <tr style=\"text-align: right;\">\n",
       "      <th></th>\n",
       "      <th>visits/day</th>\n",
       "    </tr>\n",
       "  </thead>\n",
       "  <tbody>\n",
       "    <tr>\n",
       "      <th>0</th>\n",
       "      <td>1</td>\n",
       "    </tr>\n",
       "    <tr>\n",
       "      <th>1</th>\n",
       "      <td>2</td>\n",
       "    </tr>\n",
       "    <tr>\n",
       "      <th>2</th>\n",
       "      <td>2</td>\n",
       "    </tr>\n",
       "    <tr>\n",
       "      <th>3</th>\n",
       "      <td>2</td>\n",
       "    </tr>\n",
       "    <tr>\n",
       "      <th>4</th>\n",
       "      <td>0</td>\n",
       "    </tr>\n",
       "  </tbody>\n",
       "</table>\n",
       "</div>"
      ],
      "text/plain": [
       "   visits/day\n",
       "0           1\n",
       "1           2\n",
       "2           2\n",
       "3           2\n",
       "4           0"
      ]
     },
     "execution_count": 12,
     "metadata": {},
     "output_type": "execute_result"
    }
   ],
   "source": [
    "popA.head()"
   ]
  },
  {
   "cell_type": "code",
   "execution_count": 13,
   "metadata": {
    "cell_style": "split",
    "slideshow": {
     "slide_type": "-"
    }
   },
   "outputs": [
    {
     "name": "stdout",
     "output_type": "stream",
     "text": [
      "<class 'pandas.core.frame.DataFrame'>\n",
      "RangeIndex: 500000 entries, 0 to 499999\n",
      "Data columns (total 1 columns):\n",
      " #   Column      Non-Null Count   Dtype\n",
      "---  ------      --------------   -----\n",
      " 0   visits/day  500000 non-null  int64\n",
      "dtypes: int64(1)\n",
      "memory usage: 3.8 MB\n"
     ]
    }
   ],
   "source": [
    "popA.info()"
   ]
  },
  {
   "cell_type": "markdown",
   "metadata": {
    "slideshow": {
     "slide_type": "slide"
    }
   },
   "source": [
    "#### Plot histogram of population data:\n"
   ]
  },
  {
   "cell_type": "code",
   "execution_count": 14,
   "metadata": {
    "cell_style": "center",
    "slideshow": {
     "slide_type": "fragment"
    }
   },
   "outputs": [
    {
     "data": {
      "image/png": "[encoded data removed]",
      "text/plain": [
       "<Figure size 432x288 with 1 Axes>"
      ]
     },
     "metadata": {
      "needs_background": "light"
     },
     "output_type": "display_data"
    }
   ],
   "source": [
    "plt.hist(popA['visits/day'])\n",
    "plt.ylabel('Count')\n",
    "plt.xlabel('Visits/day')\n",
    "plt.title('Site Version A: Daily visit count instances')\n",
    "plt.show()"
   ]
  },
  {
   "cell_type": "markdown",
   "metadata": {
    "slideshow": {
     "slide_type": "slide"
    }
   },
   "source": [
    "Clearly, not normally distributed:"
   ]
  },
  {
   "cell_type": "code",
   "execution_count": 15,
   "metadata": {
    "cell_style": "split",
    "slideshow": {
     "slide_type": "fragment"
    }
   },
   "outputs": [
    {
     "data": {
      "text/plain": [
       "visits/day    2.00121\n",
       "dtype: float64"
      ]
     },
     "execution_count": 15,
     "metadata": {},
     "output_type": "execute_result"
    }
   ],
   "source": [
    "# Have mean:\n",
    "popA.mean()"
   ]
  },
  {
   "cell_type": "code",
   "execution_count": 16,
   "metadata": {
    "cell_style": "split",
    "slideshow": {
     "slide_type": "fragment"
    }
   },
   "outputs": [
    {
     "data": {
      "text/plain": [
       "visits/day    1.413719\n",
       "dtype: float64"
      ]
     },
     "execution_count": 16,
     "metadata": {},
     "output_type": "execute_result"
    }
   ],
   "source": [
    "# Has standard deviation:\n",
    "popA.std()"
   ]
  },
  {
   "cell_type": "markdown",
   "metadata": {
    "slideshow": {
     "slide_type": "slide"
    }
   },
   "source": [
    "Now we have our sample of site visits after rollout of site B:\n",
    "- N = 200 size sample"
   ]
  },
  {
   "cell_type": "code",
   "execution_count": 17,
   "metadata": {
    "cell_style": "split",
    "scrolled": true,
    "slideshow": {
     "slide_type": "slide"
    }
   },
   "outputs": [
    {
     "name": "stdout",
     "output_type": "stream",
     "text": [
      "<class 'pandas.core.frame.DataFrame'>\n",
      "RangeIndex: 200 entries, 0 to 199\n",
      "Data columns (total 1 columns):\n",
      " #   Column      Non-Null Count  Dtype\n",
      "---  ------      --------------  -----\n",
      " 0   visits/day  200 non-null    int64\n",
      "dtypes: int64(1)\n",
      "memory usage: 1.7 KB\n"
     ]
    }
   ],
   "source": [
    "popB.info()"
   ]
  },
  {
   "cell_type": "code",
   "execution_count": 18,
   "metadata": {
    "cell_style": "split",
    "slideshow": {
     "slide_type": "subslide"
    }
   },
   "outputs": [
    {
     "data": {
      "text/plain": [
       "visits/day    2.065\n",
       "dtype: float64"
      ]
     },
     "execution_count": 18,
     "metadata": {},
     "output_type": "execute_result"
    }
   ],
   "source": [
    "popB.mean()"
   ]
  },
  {
   "cell_type": "markdown",
   "metadata": {
    "slideshow": {
     "slide_type": "slide"
    }
   },
   "source": [
    "Probability of mean of sample B (or greater) if:\n",
    "- **Null hypothesis**:\n",
    "    - drawn from distribution of means of samples of size N = 200 \n",
    "    - with underlying distribution and population parameters being for site A "
   ]
  },
  {
   "cell_type": "markdown",
   "metadata": {
    "slideshow": {
     "slide_type": "slide"
    }
   },
   "source": [
    "Construct distribution of sample means with N = 200 assuming null:\n",
    "- that is drawn from population with $\\mu_A$, $\\sigma_A$"
   ]
  },
  {
   "cell_type": "markdown",
   "metadata": {
    "slideshow": {
     "slide_type": "slide"
    }
   },
   "source": [
    "First let's simulate the histogram. Convert to density function:"
   ]
  },
  {
   "cell_type": "code",
   "execution_count": 19,
   "metadata": {
    "slideshow": {
     "slide_type": "fragment"
    }
   },
   "outputs": [],
   "source": [
    "num_trials = 100000\n",
    "\n",
    "Nsample_trial_list =  [choice(popA['visits/day'], size = 200 ).mean() for trials in range(num_trials)]    "
   ]
  },
  {
   "cell_type": "code",
   "execution_count": 20,
   "metadata": {
    "cell_style": "center",
    "slideshow": {
     "slide_type": "fragment"
    }
   },
   "outputs": [
    {
     "data": {
      "image/png": "[encoded data removed]",
      "text/plain": [
       "<Figure size 432x288 with 1 Axes>"
      ]
     },
     "metadata": {
      "needs_background": "light"
     },
     "output_type": "display_data"
    }
   ],
   "source": [
    "plt.hist(Nsample_trial_list, bins = 28, density = True)\n",
    "plt.xlabel('Site visits/day for user: means')\n",
    "plt.ylabel('Normalized count')\n",
    "plt.title('Mean of samples: N=200')\n",
    "plt.show()"
   ]
  },
  {
   "cell_type": "markdown",
   "metadata": {
    "slideshow": {
     "slide_type": "slide"
    }
   },
   "source": [
    "By CLT:\n",
    "- Just use mathematical form of distribution for sampling means off of population A\n",
    "- The normal distribution:\n",
    "    - with mean $\\mu_A$ (assuming the null)\n",
    "    - standard deviation $\\frac{\\sigma_A}{\\sqrt{N}}$\n",
    "    "
   ]
  },
  {
   "cell_type": "code",
   "execution_count": 21,
   "metadata": {
    "cell_style": "center",
    "slideshow": {
     "slide_type": "fragment"
    }
   },
   "outputs": [],
   "source": [
    "x_range = np.linspace(1.5,2.5, 100)\n",
    "\n",
    "# parameters of distribtion of sampling mean under the null\n",
    "mu = popA['visits/day'].mean()\n",
    "samplemean_std = popA['visits/day'].std() / np.sqrt(200)\n",
    "\n",
    "# plotting the normal pdf with these parameters\n",
    "Y_n = norm.pdf(x_range, loc = popA['visits/day'].mean(), scale = samplemean_std)"
   ]
  },
  {
   "cell_type": "code",
   "execution_count": 22,
   "metadata": {
    "cell_style": "center",
    "scrolled": true,
    "slideshow": {
     "slide_type": "subslide"
    }
   },
   "outputs": [
    {
     "data": {
      "image/png": "[encoded data removed]",
      "text/plain": [
       "<Figure size 432x288 with 1 Axes>"
      ]
     },
     "metadata": {
      "needs_background": "light"
     },
     "output_type": "display_data"
    }
   ],
   "source": [
    "plt.hist(Nsample_trial_list, bins = 28, density = True)\n",
    "plt.plot(x_range, Y_n, c ='r', linewidth = 3)\n",
    "plt.axvline(popA['visits/day'].mean(), c = 'orange' )\n",
    "plt.title('Mean of samples: N=200')\n",
    "plt.xlabel('Site visits/day for user: means')\n",
    "plt.ylabel('Normalized count')\n",
    "plt.annotate('$\\mu_A$', xy = (2.02, .75), c ='orange', fontsize = 16)\n",
    "plt.annotate('Normal pdf', xy = (2.1, 3.5), c ='red', fontsize = 12)\n",
    "plt.show()"
   ]
  },
  {
   "cell_type": "markdown",
   "metadata": {
    "slideshow": {
     "slide_type": "subslide"
    }
   },
   "source": [
    "Or we rescale this entire distribution:\n",
    "\n",
    "$$ \\frac{(\\bar{X} - \\mu_A)}{\\sigma_A/\\sqrt{n}} $$"
   ]
  },
  {
   "cell_type": "code",
   "execution_count": 23,
   "metadata": {
    "cell_style": "split",
    "slideshow": {
     "slide_type": "subslide"
    }
   },
   "outputs": [
    {
     "data": {
      "image/png": "[encoded data removed]",
      "text/plain": [
       "<Figure size 432x288 with 1 Axes>"
      ]
     },
     "metadata": {
      "needs_background": "light"
     },
     "output_type": "display_data"
    }
   ],
   "source": [
    "x_scaled = np.linspace(-5,5,100)\n",
    "Y_scaled = norm.pdf(x_scaled)\n",
    "plt.plot(x_scaled, Y_scaled, c ='r', linewidth = 3)\n",
    "plt.xlabel('Rescaled Site visits/day for user')\n",
    "plt.ylabel('Normalized count')\n",
    "plt.show()"
   ]
  },
  {
   "cell_type": "markdown",
   "metadata": {
    "cell_style": "split",
    "slideshow": {
     "slide_type": "fragment"
    }
   },
   "source": [
    "And use Z-statistic for our sample:\n",
    " $$Z = \\frac{\\bar{X}_B - \\mu_A}{\\sigma_A/\\sqrt{N}} $$\n",
    " \n",
    "Puts on same scale as this standardized normal representing distribution of scaled sampling means. \n",
    "- Under assumption population mean $\\mu_A$ and  $\\sigma_A$ drawn from population A (null).\n",
    "\n"
   ]
  },
  {
   "cell_type": "code",
   "execution_count": 24,
   "metadata": {
    "cell_style": "split",
    "slideshow": {
     "slide_type": "fragment"
    }
   },
   "outputs": [
    {
     "data": {
      "text/plain": [
       "2.00121"
      ]
     },
     "execution_count": 24,
     "metadata": {},
     "output_type": "execute_result"
    }
   ],
   "source": [
    "popA['visits/day'].mean()"
   ]
  },
  {
   "cell_type": "code",
   "execution_count": 25,
   "metadata": {
    "cell_style": "split",
    "slideshow": {
     "slide_type": "fragment"
    }
   },
   "outputs": [
    {
     "data": {
      "text/plain": [
       "1.413718689521033"
      ]
     },
     "execution_count": 25,
     "metadata": {},
     "output_type": "execute_result"
    }
   ],
   "source": [
    "popA['visits/day'].std()"
   ]
  },
  {
   "cell_type": "markdown",
   "metadata": {
    "slideshow": {
     "slide_type": "subslide"
    }
   },
   "source": [
    "In general, testing statistic\n",
    "\n",
    "could be any aggregation built from our sample:\n",
    "\n",
    "- variance\n",
    "- some function of the mean, etc.\n",
    "\n",
    "May follow different test distribution than normal:\n",
    "- Corresponds to a different type of test."
   ]
  },
  {
   "cell_type": "markdown",
   "metadata": {
    "cell_style": "split",
    "slideshow": {
     "slide_type": "slide"
    }
   },
   "source": [
    "Compute our Z-score for our sample mean for users of site B"
   ]
  },
  {
   "cell_type": "markdown",
   "metadata": {
    "cell_style": "split",
    "slideshow": {
     "slide_type": "-"
    }
   },
   "source": [
    " $$Z = \\frac{\\bar{X}_B - \\mu_A}{\\sigma_A/\\sqrt{N}} $$"
   ]
  },
  {
   "cell_type": "code",
   "execution_count": 26,
   "metadata": {
    "cell_style": "center",
    "slideshow": {
     "slide_type": "fragment"
    }
   },
   "outputs": [
    {
     "data": {
      "text/plain": [
       "array([0.6381233])"
      ]
     },
     "execution_count": 26,
     "metadata": {},
     "output_type": "execute_result"
    }
   ],
   "source": [
    "N = 200\n",
    "Z_score = ( (popB.mean() - popA.mean())/(popA.std()/np.sqrt(N)) ).values\n",
    "Z_score"
   ]
  },
  {
   "cell_type": "code",
   "execution_count": 27,
   "metadata": {
    "slideshow": {
     "slide_type": "slide"
    }
   },
   "outputs": [
    {
     "data": {
      "image/png": "[encoded data removed]",
      "text/plain": [
       "<Figure size 432x288 with 1 Axes>"
      ]
     },
     "metadata": {
      "needs_background": "light"
     },
     "output_type": "display_data"
    }
   ],
   "source": [
    "x_scaled = np.linspace(-5,5,100)\n",
    "Y_scaled = norm.pdf(x_scaled, loc = 0, scale = 1)\n",
    "plt.plot(x_scaled, Y_scaled, c ='r', linewidth = 3)\n",
    "plt.axvline(Z_score, c = 'b')\n",
    "plt.annotate('Z Score', xy = (1.8,.3), fontsize=12, c ='b' )\n",
    "plt.xlabel('Rescaled Site visits/day for user')\n",
    "plt.ylabel('Normalized count')\n",
    "plt.show()"
   ]
  },
  {
   "cell_type": "markdown",
   "metadata": {
    "slideshow": {
     "slide_type": "slide"
    }
   },
   "source": [
    "#### Step 4. Calculate p-value"
   ]
  },
  {
   "cell_type": "markdown",
   "metadata": {
    "cell_style": "center",
    "slideshow": {
     "slide_type": "fragment"
    }
   },
   "source": [
    "How probable is the test statistic of sample or greater:\n",
    "- given distribution of statistic assuming null is true?\n",
    "\n",
    "- Calculate it:\n",
    "    - This is p-value.\n"
   ]
  },
  {
   "cell_type": "code",
   "execution_count": 28,
   "metadata": {
    "cell_style": "center",
    "slideshow": {
     "slide_type": "subslide"
    }
   },
   "outputs": [
    {
     "data": {
      "image/png": "[encoded data removed]",
      "text/plain": [
       "<Figure size 432x288 with 1 Axes>"
      ]
     },
     "metadata": {
      "needs_background": "light"
     },
     "output_type": "display_data"
    }
   ],
   "source": [
    "x_scaled = np.linspace(-5,5,500)\n",
    "Y_scaled = norm.pdf(x_scaled, loc = 0, scale = 1)\n",
    "plt.plot(x_scaled, Y_scaled, c ='r', linewidth = 3)\n",
    "plt.axvline(Z_score[0], c = 'b')\n",
    "plt.fill_between(x_scaled, Y_scaled, where = (Z_score[0] <= x_scaled), alpha = 0.5, color='b')\n",
    "plt.annotate('Z Score', xy = (1.8,.3), fontsize=12, c ='b' )\n",
    "plt.xlabel('Rescaled Site visits/day for user')\n",
    "plt.ylabel('Normalized count')\n",
    "plt.show()"
   ]
  },
  {
   "cell_type": "markdown",
   "metadata": {
    "slideshow": {
     "slide_type": "fragment"
    }
   },
   "source": [
    "The p-value is the shaded area under the pdf"
   ]
  },
  {
   "cell_type": "markdown",
   "metadata": {
    "slideshow": {
     "slide_type": "slide"
    }
   },
   "source": [
    "Can calculate using survival function on standardized normal with mean 0 and std 1:"
   ]
  },
  {
   "cell_type": "code",
   "execution_count": 29,
   "metadata": {
    "slideshow": {
     "slide_type": "fragment"
    }
   },
   "outputs": [
    {
     "data": {
      "text/plain": [
       "array([0.26169671])"
      ]
     },
     "execution_count": 29,
     "metadata": {},
     "output_type": "execute_result"
    }
   ],
   "source": [
    "p_value = norm.sf(Z_score, loc = 0, scale = 1)\n",
    "p_value"
   ]
  },
  {
   "cell_type": "markdown",
   "metadata": {
    "slideshow": {
     "slide_type": "slide"
    }
   },
   "source": [
    "#### 5. Interpret p-value and Z-statistic (reject or fail to reject the null hypothesis):"
   ]
  },
  {
   "cell_type": "markdown",
   "metadata": {
    "cell_style": "split",
    "slideshow": {
     "slide_type": "fragment"
    }
   },
   "source": [
    "Is $ p \\leq \\alpha $ ?\n",
    "\n",
    "- If so, reject the null.\n",
    "- If not, cannot reject the null.\n",
    "\n",
    "Here we stated that $ \\alpha = 0.05 $."
   ]
  },
  {
   "cell_type": "markdown",
   "metadata": {
    "cell_style": "split",
    "slideshow": {
     "slide_type": "fragment"
    }
   },
   "source": [
    "P value for our Z-score:"
   ]
  },
  {
   "cell_type": "code",
   "execution_count": 30,
   "metadata": {
    "cell_style": "split",
    "slideshow": {
     "slide_type": "-"
    }
   },
   "outputs": [
    {
     "data": {
      "text/plain": [
       "array([0.26169671])"
      ]
     },
     "execution_count": 30,
     "metadata": {},
     "output_type": "execute_result"
    }
   ],
   "source": [
    "p_value = norm.sf(Z_score)\n",
    "p_value"
   ]
  },
  {
   "cell_type": "markdown",
   "metadata": {
    "slideshow": {
     "slide_type": "slide"
    }
   },
   "source": [
    "Can reformulate problem in terms of $Z$-statistic and the critical Z-value:"
   ]
  },
  {
   "cell_type": "markdown",
   "metadata": {
    "cell_style": "split",
    "slideshow": {
     "slide_type": "subslide"
    }
   },
   "source": [
    "-  $Z_{crit}$ corresponds to $P(Z \\geq Z_{crit} ) = \\alpha$\n",
    "\n",
    "- probability of getting $Z > Z_{crit}$ is our significance level."
   ]
  },
  {
   "cell_type": "code",
   "execution_count": 31,
   "metadata": {
    "cell_style": "split",
    "slideshow": {
     "slide_type": "fragment"
    }
   },
   "outputs": [
    {
     "ename": "NameError",
     "evalue": "name 'Z_crit' is not defined",
     "output_type": "error",
     "traceback": [
      "\u001b[0;31m---------------------------------------------------------------------------\u001b[0m",
      "\u001b[0;31mNameError\u001b[0m                                 Traceback (most recent call last)",
      "\u001b[0;32m<ipython-input-31-894260c259a6>\u001b[0m in \u001b[0;36m<module>\u001b[0;34m\u001b[0m\n\u001b[1;32m      2\u001b[0m \u001b[0mY_scaled\u001b[0m \u001b[0;34m=\u001b[0m \u001b[0mnorm\u001b[0m\u001b[0;34m.\u001b[0m\u001b[0mpdf\u001b[0m\u001b[0;34m(\u001b[0m\u001b[0mx_scaled\u001b[0m\u001b[0;34m,\u001b[0m \u001b[0mloc\u001b[0m \u001b[0;34m=\u001b[0m \u001b[0;36m0\u001b[0m\u001b[0;34m,\u001b[0m \u001b[0mscale\u001b[0m \u001b[0;34m=\u001b[0m \u001b[0;36m1\u001b[0m\u001b[0;34m)\u001b[0m\u001b[0;34m\u001b[0m\u001b[0;34m\u001b[0m\u001b[0m\n\u001b[1;32m      3\u001b[0m \u001b[0mplt\u001b[0m\u001b[0;34m.\u001b[0m\u001b[0mplot\u001b[0m\u001b[0;34m(\u001b[0m\u001b[0mx_scaled\u001b[0m\u001b[0;34m,\u001b[0m \u001b[0mY_scaled\u001b[0m\u001b[0;34m,\u001b[0m \u001b[0mc\u001b[0m \u001b[0;34m=\u001b[0m\u001b[0;34m'r'\u001b[0m\u001b[0;34m,\u001b[0m \u001b[0mlinewidth\u001b[0m \u001b[0;34m=\u001b[0m \u001b[0;36m3\u001b[0m\u001b[0;34m)\u001b[0m\u001b[0;34m\u001b[0m\u001b[0;34m\u001b[0m\u001b[0m\n\u001b[0;32m----> 4\u001b[0;31m \u001b[0mplt\u001b[0m\u001b[0;34m.\u001b[0m\u001b[0maxvline\u001b[0m\u001b[0;34m(\u001b[0m\u001b[0mZ_crit\u001b[0m\u001b[0;34m,\u001b[0m \u001b[0mc\u001b[0m \u001b[0;34m=\u001b[0m \u001b[0;34m'green'\u001b[0m\u001b[0;34m)\u001b[0m\u001b[0;34m\u001b[0m\u001b[0;34m\u001b[0m\u001b[0m\n\u001b[0m\u001b[1;32m      5\u001b[0m \u001b[0mZ_crit\u001b[0m \u001b[0;34m=\u001b[0m \u001b[0mnorm\u001b[0m\u001b[0;34m.\u001b[0m\u001b[0misf\u001b[0m\u001b[0;34m(\u001b[0m\u001b[0;36m0.05\u001b[0m\u001b[0;34m)\u001b[0m\u001b[0;34m\u001b[0m\u001b[0;34m\u001b[0m\u001b[0m\n\u001b[1;32m      6\u001b[0m \u001b[0mplt\u001b[0m\u001b[0;34m.\u001b[0m\u001b[0mfill_between\u001b[0m\u001b[0;34m(\u001b[0m\u001b[0mx_scaled\u001b[0m\u001b[0;34m,\u001b[0m \u001b[0mY_scaled\u001b[0m\u001b[0;34m,\u001b[0m \u001b[0mwhere\u001b[0m \u001b[0;34m=\u001b[0m \u001b[0;34m(\u001b[0m\u001b[0mZ_crit\u001b[0m \u001b[0;34m<=\u001b[0m \u001b[0mx_scaled\u001b[0m\u001b[0;34m)\u001b[0m\u001b[0;34m,\u001b[0m \u001b[0malpha\u001b[0m \u001b[0;34m=\u001b[0m \u001b[0;36m0.5\u001b[0m\u001b[0;34m,\u001b[0m \u001b[0mcolor\u001b[0m\u001b[0;34m=\u001b[0m\u001b[0;34m'green'\u001b[0m\u001b[0;34m)\u001b[0m\u001b[0;34m\u001b[0m\u001b[0;34m\u001b[0m\u001b[0m\n",
      "\u001b[0;31mNameError\u001b[0m: name 'Z_crit' is not defined"
     ]
    },
    {
     "data": {
      "image/png": "[encoded data removed]",
      "text/plain": [
       "<Figure size 432x288 with 1 Axes>"
      ]
     },
     "metadata": {
      "needs_background": "light"
     },
     "output_type": "display_data"
    }
   ],
   "source": [
    "x_scaled = np.linspace(-5,5,500)\n",
    "Y_scaled = norm.pdf(x_scaled, loc = 0, scale = 1)\n",
    "plt.plot(x_scaled, Y_scaled, c ='r', linewidth = 3)\n",
    "plt.axvline(Z_crit, c = 'green')\n",
    "Z_crit = norm.isf(0.05)\n",
    "plt.fill_between(x_scaled, Y_scaled, where = (Z_crit <= x_scaled), alpha = 0.5, color='green')\n",
    "plt.annotate('$Z_{crit}$', xy = (1.8,.3), fontsize=12, c ='green' )\n",
    "plt.annotate(r'$\\alpha$', xy = (1.8, 0.025), xytext = (2.6, 0.05), fontsize=16, arrowprops = {'arrowstyle':'->', 'color': 'g'}, c ='green' )\n",
    "\n",
    "plt.xlabel('Rescaled Site visits/day for user')\n",
    "plt.ylabel('Normalized count')\n",
    "plt.show()"
   ]
  },
  {
   "cell_type": "markdown",
   "metadata": {
    "cell_style": "split",
    "slideshow": {
     "slide_type": "slide"
    }
   },
   "source": [
    "- This $Z_{crit}$ is the dividing line for our hypothesis test:\n",
    "\n",
    "To calculate it for this test:\n",
    "- want the inverse of survival function\n",
    "\n",
    "-  $Z_{crit}$ corresponds to $P(Z \\geq Z_{crit} ) = \\alpha$\n",
    "- $Z_{crit}$= inverse_sf($\\alpha$)"
   ]
  },
  {
   "cell_type": "markdown",
   "metadata": {
    "cell_style": "split",
    "slideshow": {
     "slide_type": "fragment"
    }
   },
   "source": [
    "Scipy comes to rescue:"
   ]
  },
  {
   "cell_type": "code",
   "execution_count": null,
   "metadata": {
    "cell_style": "split",
    "slideshow": {
     "slide_type": "fragment"
    }
   },
   "outputs": [],
   "source": [
    "alpha = 0.05\n",
    "Z_crit = norm.isf(alpha)\n",
    "Z_crit"
   ]
  },
  {
   "cell_type": "markdown",
   "metadata": {
    "cell_style": "center",
    "slideshow": {
     "slide_type": "slide"
    }
   },
   "source": [
    "If our $Z > Z_{crit}$:\n",
    "- p-value will definitely be less than $\\alpha$\n",
    "\n",
    "i.e. our $Z$-score for our sample would lie within **the rejection region**."
   ]
  },
  {
   "cell_type": "code",
   "execution_count": null,
   "metadata": {
    "slideshow": {
     "slide_type": "subslide"
    }
   },
   "outputs": [],
   "source": [
    "x_scaled = np.linspace(-5,5,500)\n",
    "Y_scaled = norm.pdf(x_scaled, loc = 0, scale = 1)\n",
    "plt.plot(x_scaled, Y_scaled, c ='r', linewidth = 3)\n",
    "plt.axvline(Z_crit, c = 'green')\n",
    "plt.axvline(Z_score, c = 'blue', alpha = 0.5, linestyle = '--')\n",
    "Z_crit = norm.isf(0.05)\n",
    "plt.fill_between(x_scaled, Y_scaled, where = (Z_crit <= x_scaled), alpha = 0.5, color='green')\n",
    "plt.fill_between(x_scaled, Y_scaled, where = (Z_score <= x_scaled), alpha = 0.3, color='blue')\n",
    "plt.annotate('$Z_{crit}$', xy = (1.8,.3), fontsize=12, c ='green' )\n",
    "plt.annotate('$Z$', xy = (2.5,.375), fontsize=12, c ='b' )\n",
    "\n",
    "plt.annotate(r'$\\alpha$', xy = (1.8, 0.025), xytext = (2.6, 0.05), fontsize=16, arrowprops = {'arrowstyle':'->', 'color': 'g'}, c ='green' )\n",
    "plt.annotate(r'$p$', xy = (2.5, 0.002), xytext = (3.25, 0.05), fontsize=16, arrowprops = {'arrowstyle':'->', 'color': 'b'}, c ='blue' )\n",
    "\n",
    "plt.xlabel('Rescaled Site visits/day for user')\n",
    "plt.ylabel('Normalized count')\n",
    "plt.show()"
   ]
  },
  {
   "cell_type": "markdown",
   "metadata": {
    "cell_style": "center",
    "slideshow": {
     "slide_type": "subslide"
    }
   },
   "source": [
    "Do we accept or reject $H_0$?"
   ]
  },
  {
   "cell_type": "markdown",
   "metadata": {
    "slideshow": {
     "slide_type": "subslide"
    }
   },
   "source": [
    "We reject $H_0$: \n",
    "- our sample mean from site B is larger in a way not consistent with population sampling from site A."
   ]
  },
  {
   "cell_type": "markdown",
   "metadata": {
    "slideshow": {
     "slide_type": "slide"
    }
   },
   "source": [
    "### Effect of sampling size:\n",
    "- Now N = 25 for user sample using Site B.\n",
    "    "
   ]
  },
  {
   "cell_type": "code",
   "execution_count": null,
   "metadata": {
    "slideshow": {
     "slide_type": "skip"
    }
   },
   "outputs": [],
   "source": [
    "smaller_sample = poisson.rvs(mu = 2.2, size = 25)"
   ]
  },
  {
   "cell_type": "code",
   "execution_count": null,
   "metadata": {
    "slideshow": {
     "slide_type": "fragment"
    }
   },
   "outputs": [],
   "source": [
    "smaller_sample"
   ]
  },
  {
   "cell_type": "code",
   "execution_count": null,
   "metadata": {},
   "outputs": [],
   "source": [
    "smaller_sample.mean()"
   ]
  },
  {
   "cell_type": "markdown",
   "metadata": {
    "slideshow": {
     "slide_type": "slide"
    }
   },
   "source": [
    "Compute Z statistic for smaller sample:"
   ]
  },
  {
   "cell_type": "code",
   "execution_count": null,
   "metadata": {
    "scrolled": true,
    "slideshow": {
     "slide_type": "fragment"
    }
   },
   "outputs": [],
   "source": [
    "N = 32\n",
    "Z_score_smaller_sample = ( (smaller_sample.mean() - popA.mean())/(popA.std()/np.sqrt(N)) ).values\n",
    "Z_score_smaller_sample "
   ]
  },
  {
   "cell_type": "markdown",
   "metadata": {
    "slideshow": {
     "slide_type": "slide"
    }
   },
   "source": [
    "Compute p-value:"
   ]
  },
  {
   "cell_type": "code",
   "execution_count": null,
   "metadata": {
    "scrolled": true,
    "slideshow": {
     "slide_type": "fragment"
    }
   },
   "outputs": [],
   "source": [
    "p_value = norm.sf(Z_score_smaller_sample)\n",
    "p_value"
   ]
  },
  {
   "cell_type": "markdown",
   "metadata": {
    "slideshow": {
     "slide_type": "slide"
    }
   },
   "source": [
    "Compute Z-score to critical Z at threshold of $\\alpha$ = 0.05:"
   ]
  },
  {
   "cell_type": "code",
   "execution_count": null,
   "metadata": {
    "cell_style": "split",
    "slideshow": {
     "slide_type": "fragment"
    }
   },
   "outputs": [],
   "source": [
    "Z_score_smaller_sample"
   ]
  },
  {
   "cell_type": "code",
   "execution_count": null,
   "metadata": {
    "cell_style": "split",
    "slideshow": {
     "slide_type": "fragment"
    }
   },
   "outputs": [],
   "source": [
    "Z_crit"
   ]
  },
  {
   "cell_type": "markdown",
   "metadata": {
    "slideshow": {
     "slide_type": "slide"
    }
   },
   "source": [
    "Do we reject the null at significance level $\\alpha$ = 0.05?"
   ]
  },
  {
   "cell_type": "markdown",
   "metadata": {
    "slideshow": {
     "slide_type": "fragment"
    }
   },
   "source": [
    "Sample size matters when testing hypotheses on statistics!"
   ]
  },
  {
   "cell_type": "markdown",
   "metadata": {
    "slideshow": {
     "slide_type": "slide"
    }
   },
   "source": [
    "**Next up**\n",
    "\n",
    "Talk about the different types of Z-tests:\n",
    "- When to use them\n",
    "- Statsmodels and scipy commands\n",
    "\n",
    "Similar logic will extend to t-tests."
   ]
  }
 ],
 "metadata": {
  "celltoolbar": "Slideshow",
  "kernelspec": {
   "display_name": "Python 3",
   "language": "python",
   "name": "python3"
  },
  "language_info": {
   "codemirror_mode": {
    "name": "ipython",
    "version": 3
   },
   "file_extension": ".py",
   "mimetype": "text/x-python",
   "name": "python",
   "nbconvert_exporter": "python",
   "pygments_lexer": "ipython3",
   "version": "3.8.5"
  }
 },
 "nbformat": 4,
 "nbformat_minor": 4
}
