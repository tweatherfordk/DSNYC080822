{
 "cells": [
  {
   "cell_type": "markdown",
   "metadata": {
    "cell_style": "center",
    "slideshow": {
     "slide_type": "slide"
    }
   },
   "source": [
    "<div style=\"color:white;\n",
    "           display:fill;\n",
    "           border-radius:5px;\n",
    "           background-color:#5642C5;\n",
    "           font-size:200%;\n",
    "           font-family:Arial;letter-spacing:0.5px\">\n",
    "\n",
    "<p width = 20%, style=\"padding: 10px;\n",
    "              color:white;\">\n",
    "Distributions: Part II\n",
    "              \n",
    "</p>\n",
    "</div>\n",
    "\n",
    "Data Science Cohort Live NYC Feb 2022\n",
    "<p>Phase 2: Topic 12</p>\n",
    "<br>\n",
    "<br>\n",
    "\n",
    "<div align = \"right\">\n",
    "<img src=\"Images/flatiron-school-logo.png\" align = \"right\" width=\"200\"/>\n",
    "</div>\n",
    "    \n",
    "    "
   ]
  },
  {
   "cell_type": "markdown",
   "metadata": {
    "slideshow": {
     "slide_type": "slide"
    }
   },
   "source": [
    "#### The normal distribution\n",
    "- Why do people care so much about this distribution?"
   ]
  },
  {
   "cell_type": "markdown",
   "metadata": {
    "slideshow": {
     "slide_type": "fragment"
    }
   },
   "source": [
    "Sum of N independent, random variables each following same distribution:\n",
    "\n",
    "$$ S = X_1 + X_2 + ... + X_N $$\n",
    "\n",
    "- Each having same mean, variance, etc.\n",
    "- **S** is a composite variable."
   ]
  },
  {
   "cell_type": "markdown",
   "metadata": {
    "cell_style": "split",
    "slideshow": {
     "slide_type": "slide"
    }
   },
   "source": [
    "Let each $X_i$ be the result of a Bernoulli trial:\n",
    "\n",
    "<img src = \"Images/simple_bernoulli.png\" width = 500>"
   ]
  },
  {
   "cell_type": "markdown",
   "metadata": {
    "cell_style": "split",
    "slideshow": {
     "slide_type": "-"
    }
   },
   "source": [
    "- $S$ would be how many steps right under $N$ trials.\n",
    "- What kind of distribution?"
   ]
  },
  {
   "cell_type": "markdown",
   "metadata": {
    "slideshow": {
     "slide_type": "slide"
    }
   },
   "source": [
    "Binomial!\n",
    "3 trials."
   ]
  },
  {
   "cell_type": "code",
<<<<<<< HEAD
   "execution_count": 1,
=======
   "execution_count": 59,
>>>>>>> 6cfcfafa8f829c2ddfd8128bd8c9f3d02c707c68
   "metadata": {
    "cell_style": "split",
    "slideshow": {
     "slide_type": "fragment"
    }
   },
   "outputs": [],
   "source": [
    "from scipy.stats import binom\n",
    "import matplotlib.pyplot as plt\n",
    "N = 3\n",
    "p = 0.5\n",
    "\n",
    "pmf_binomial = [(x, binom.pmf(x, n = N, p = p)) \n",
    "                for x in range(0,10)]"
   ]
  },
  {
   "cell_type": "code",
<<<<<<< HEAD
   "execution_count": 2,
=======
   "execution_count": 60,
>>>>>>> 6cfcfafa8f829c2ddfd8128bd8c9f3d02c707c68
   "metadata": {
    "cell_style": "split",
    "slideshow": {
     "slide_type": "fragment"
    }
   },
   "outputs": [
    {
     "data": {
<<<<<<< HEAD
      "image/png": "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\n",
=======
      "image/png": "iVBORw0KGgoAAAANSUhEUgAAAYgAAAEWCAYAAAB8LwAVAAAAOXRFWHRTb2Z0d2FyZQBNYXRwbG90bGliIHZlcnNpb24zLjQuMywgaHR0cHM6Ly9tYXRwbG90bGliLm9yZy/MnkTPAAAACXBIWXMAAAsTAAALEwEAmpwYAAAf3UlEQVR4nO3de5wddX3/8debYNAAikK0JVeEKFIVxBWo8BOwlYKiwVsFUeqFplFR8Fd/Fts+rNVSxao/tMWmkYtagkiV2FSi4E+JKNdsMAYCBGMMsEZKuMhFFEh5//6YWZiczO6es9nJOey+n4/HPs6Z72Xmc87uzufMd+Z8R7aJiIhotV23A4iIiN6UBBEREbWSICIiolYSRERE1EqCiIiIWkkQERFRKwkixpSkT0o6pYP2D0p6boMhbdV2Jc2WZEnbl8sXSTqy+QhHr4x3ry5t+/mSfiLpAUkfaLPPdyT9WZttl0k6ceuijHYlQYxjktZL+m25M/xvSedK2qmsW1buSPZt6fOtsvywcvljkh4t1zH48+EhtjcVOAH4t3L5MEmPVfr9UtLfV/vY3sn2urF/9cPbiu1+Cjit3cble2BJZ7aU/1jSO0ax/V73YWCZ7Z1tf6GdDraPsv2Vrd1wazKPrZcEMf691vZOwP7Ay4C/rdTdQrFDB0DSrsBBwMaWdXy93KEO/nx6iG29A1hq+7eVsg2D/YBDgHdLOmarXlEX2b4WeLqkvg66/QY4QdLsZqJqxih3tLOA1W2uX5KyD+ph+eVMELZ/CXwHeGGleBHwFkmTyuXjgMXAI6PczFHAD4eJ4RfAlcA+g2XV4RBJX5Z0pqSLyyGKayTtWWn7cknLJd1XPr68UrdM0j9IurI8WvkvSbtKWiTp/rL97CG2+5pyWOR+SbdL+tgIr3MZ8JoO3pdfA18G/q6usjxKO6+y3Dqs1dFrK71a0jpJd0n6p+qOWNK7JN0k6V5Jl0iaVamzpPdJ+hnwsyHifZ2k1ZJ+Xcb2grL8B8DhwL+UcT6vpu8ySadJugJ4CHhuddhI0iRJny3j/oWkk2qOCmZJuqL8G7lU0m5l+eWD73e5/T+UtJekH5Z/M3dJ+nrda4p6SRAThKQZwKuBn1SKNwA3AkeUyycAX92KzbwIWDNMDHOAg4Grh1nHccDfA88E1lIO50h6FnAx8AVgV+BzwMXlUc+gY4G3A9OAPYGrgHOBZwE3McQOmvITPrALxY7/PSMc5dwEPD40J2mVpLcO057ydbxR0vNHaDeUTl/b64E+iiPHucC7yliPAf4aeAMwFfgR8LWWvscAB1JJ5IPKnf7XgFPK/kuB/5I02fYry/WdVB413jLEa3k7MA/YGbi1pe7PKT5o7FfGfkxN/7cC7wSeDUwGPlSWv6J83KXc/lXAJ4BLKf6epgP/PERMUSMJYvz7lqRfAz+m+HT/jy31X6UY/ng+xT/WVTXr+NPy0+Lgz+5DbGsX4IGWst3LPvdTDGldU8YylItsX2t7E8URzn5l+WuAn9n+d9ubbH8NuBl4baXvubZ/bvs+iqOln9v+f+W6/gN4Sd0GbS+zfb3tx2yvotgBHjpMjA+Ur3Ww/4ttnz9Me2zfASwAPj5cu2F0+tpOt32P7duAMygSL8BfAJ+0fVPZ9x+B/apHEWX9PS1DhYPeAlxs+3u2HwU+AzwNeHlN26F82fbq8vf4aEvdnwKftz1g+16Kcz6tzrV9SxnfhTzxN1LnUYphr91t/872cH970SIJYvw7xvYutmfZfm/NP/1FwCuB9wP/PsQ6LizXMfizYYh291J8KqzaUPZ5OsVO9bfAcCck76g8fwjYqXy+O1t+2ryV4hP1oP+uPP9tzfJO1JB0oKTLJG2UdB8wH9itrm1pZ4pho06dDvyJWi4MaFOnr+32yvNbKd4/KHaWnx9M9sA9gNj8faz2bbXZ78H2Y2X7aUP22NJI66/W17Ud6m+kzocpXt+15bDYu9qOMpIgJjrbD1F8In0PQyeIdq0Cthh3rmzrPuB8Nv/U364NFDu3qpnAL0exrlbnA0uAGbafQfFJX8O0fwHw0043Yvtuik/zn2ip+g0wpbL8e52uu8aMyvOZFO8fFDvcv2hJ+E+zfWU11GHWu9nvQZLKbXXyexhu/b+iGAoaNGOohu2s1/Ydtv/c9u4UR09fVJcuAX4ySoIIKMakD7W9fivXs5RhhmZUXGJ7LG1e5VKz7udJequk7SW9hWKM/NujinRzOwP32P6dpAMoxriHcyhFUh2Nz1EMx7ygUrYSeIWkmZKeAXxklOuu+j+SnlmeezoZGDw5uwD4iKQ/AJD0DElv7mC9FwKvkfRHkp4C/CXwMMXFB2PhQuBkSdMk7QL8VQd9NwKPAY9/v0XSmyUNJpx7KZLI/4xRrONeEkRge8MYjc1+leLqmadVynYvryh5kGJo4lnA8aOI8W7gaIod0t0UQwdH275r68PmvcDHJT0AfJRiJ1VL0suA35SXuw6WrZbU1muyfT/waYr3YbDsexQ78FXACsYm6f1nua6VFCf3zy63tZhiqOuC8rzQDRQnhdtiew3wNoqTvXdRHA2+1vZor3xr9SWKk8qrKC6oWApsoo2denk0fBpwRTmEdhDFpd3XlH9/S4CTy6vpog3KDYNiLEn6R+BO22d0O5YmSPomcLbtpd2OZSKQdBSwwHbr8GJsA0kQEdEzyqPPwymOIp4DfBO42vYp3YxrokqCiIieIWkKxeXYe1NcnXUxxbDQ/V0NbIJKgoiIiFo5SR0REbXG1ayHu+22m2fPnt3tMCIinjRWrFhxl+2pdXXjKkHMnj2b/v7+bocREfGkIal1hoLHZYgpIiJqJUFEREStJIiIiKiVBBEREbWSICIiolYSRI9YtAhmz4bttiseFy2amDFERO8YV5e5PlktWgTz5sFDDxXLt95aLAMc3/G8p0/eGCKit4yrqTb6+vr8ZPwexOzZxQ651axZsH79xIkhIrY9SSts99XVZYipB9x2W2fl4zWGiOgtSRA9YObMzsrHawwR0VuSIHrAaafBlCmbl02ZUpRPpBgiorckQfSA44+HhQthhx2K5VmziuVteXK4F2KIiN6Sk9Q95LDDisdlyyZ2DBGx7eQkdUREdCwJIiIiaiVBRERErSSIiIiolQQRERG1Gk0Qko6UtEbSWkmn1tTPlbRK0kpJ/ZIOqdStl3T9YF2TcUZExJYam6xP0iTgTOBVwACwXNIS2zdWmn0fWGLbkl4MXAjsXak/3PZdTcUYERFDa/II4gBgre11th8BLgDmVhvYftBPfBFjR2D8fCkjIuJJrskEMQ24vbI8UJZtRtLrJd0MXAy8q1Jl4FJJKyTNG2ojkuaVw1P9GzduHKPQIyKiyQShmrItjhBsL7a9N3AM8IlK1cG29weOAt4n6RV1G7G90Haf7b6pU6eOQdgREQHNJogBYEZleTqwYajGti8H9pS0W7m8oXy8E1hMMWQVERHbSJMJYjkwR9IekiYDxwJLqg0k7SVJ5fP9gcnA3ZJ2lLRzWb4jcARwQ4OxRkREi8auYrK9SdJJwCXAJOAc26slzS/rFwBvBE6Q9CjwW+At5RVNzwEWl7lje+B8299tKtaIiNhSo/ektr0UWNpStqDy/HTg9Jp+64B9m4wtIiKGl29SR0RErSSIiIiolQQRERG1kiAiIqJWEkRERNRKgoiIiFpJEBERUSsJIiIiaiVBRERErSSIiIiolQQRERG1kiAiIqJWEkRERNRKgoiIiFpJEBERUSsJIiIiaiVBRERErSSIiIio1WiCkHSkpDWS1ko6taZ+rqRVklZK6pd0SLt9IyKiWY0lCEmTgDOBo4B9gOMk7dPS7PvAvrb3A94FnNVB34iIaFCTRxAHAGttr7P9CHABMLfawPaDtl0u7gi43b4REdGsJhPENOD2yvJAWbYZSa+XdDNwMcVRRNt9y/7zyuGp/o0bN45J4BER0WyCUE2ZtyiwF9veGzgG+EQnfcv+C2332e6bOnXqaGONiIgWTSaIAWBGZXk6sGGoxrYvB/aUtFunfSMiYuw1mSCWA3Mk7SFpMnAssKTaQNJeklQ+3x+YDNzdTt+IiGjW9k2t2PYmSScBlwCTgHNsr5Y0v6xfALwROEHSo8BvgbeUJ61r+zYVa0REbKmxBAFgeymwtKVsQeX56cDp7faNiIhtJ9+kjoiIWkkQERFRKwkiIiJqJUFEREStJIiIiKiVBBEREbWSICIiolYSRERE1EqCiIiIWkkQERFRKwkiIiJqJUFEREStJIiIiKiVBBEREbWSICIiolYSRERE1EqCiIiIWo0mCElHSlojaa2kU2vqj5e0qvy5UtK+lbr1kq6XtFJSf5NxRkTElhq75aikScCZwKuAAWC5pCW2b6w0+wVwqO17JR0FLAQOrNQfbvuupmKMiIihNXkEcQCw1vY6248AFwBzqw1sX2n73nLxamB6g/FEREQHmkwQ04DbK8sDZdlQ3g18p7Js4FJJKyTNG6qTpHmS+iX1b9y4casCjoiIJzQ2xASopsy1DaXDKRLEIZXig21vkPRs4HuSbrZ9+RYrtBdSDE3R19dXu/6IiOhck0cQA8CMyvJ0YENrI0kvBs4C5tq+e7Dc9oby8U5gMcWQVUREbCNNJojlwBxJe0iaDBwLLKk2kDQTuAh4u+1bKuU7Stp58DlwBHBDg7FGRESLxoaYbG+SdBJwCTAJOMf2aknzy/oFwEeBXYEvSgLYZLsPeA6wuCzbHjjf9nebijUiIrbU5DkIbC8FlraULag8PxE4sabfOmDf1vKIiNh28k3qiIiolQQRERG1kiAiIqJWWwlC0tGSkkwiIiaQdnf6xwI/k/RpSS9oMqCIiOgNbSUI228DXgL8HDhX0lXlFBc7NxpdRER0TdvDRrbvB75JMene7wOvB66T9P6GYouIiC5q9xzE6yQtBn4APAU4wPZRFN9V+FCD8UVERJe0+0W5NwH/t3WyPNsPSXrX2IcVERHd1u4Q069ak4Ok0wFsf3/Mo4qIiK5rN0G8qqbsqLEMJCIiesuwQ0yS3gO8F9hT0qpK1c7AFU0GFhER3TXSOYjzKe7y9kng1Er5A7bvaSyqiIjoupEShG2vl/S+1gpJz0qSiIgYv9o5gjgaWEFxu9DqbUQNPLehuCIiosuGTRC2jy4f99g24URERK8Y6ST1/sPV275ubMOJiIheMdIQ02eHqTPwyuE6SzoS+DzFLUfPsv2plvrjgb8qFx8E3mP7p+30jYiIZo00xHT4aFcsaRJwJsV3KAaA5ZKW2L6x0uwXwKG275V0FLAQOLDNvhER0aCRhpheafsHkt5QV2/7omG6HwCsLe8vjaQLgLnA4zt521dW2l8NTG+3b0RENGukIaZDKSboe21NnYHhEsQ04PbK8gBw4DDt303xnYuO+kqaB8wDmDlz5jCrj4iITow0xPR35eM7R7Fu1ZS5tqF0OEWCOKTTvrYXUgxN0dfXV9smIiI61+5037tK+oKk6yStkPR5SbuO0G0AmFFZng5sqFn3i4GzgLm27+6kb0RENKfdyfouADYCb6SY+nsj8PUR+iwH5kjaQ9JkituWLqk2kDSTYpjq7bZv6aRvREQ0q937QTzL9icqy/8g6ZjhOtjeJOkk4BKKS1XPsb1a0vyyfgHwUWBX4IuSADbZ7huqbycvLCIitk67CeIySccCF5bLbwIuHqmT7aXA0payBZXnJwIntts3IiK2nZEuc32AJ+Zg+t/AeWXVdhRfbPu7RqOLiIiuGekqpp23VSAREdFb2h1iQtIzgTnAUwfLWm9DGhER40dbCULSicDJFJebrgQOAq5ihLmYIiLiyavdy1xPBl4G3FrOz/QSiktdIyJinGo3QfzO9u8AJO1g+2bg+c2FFRER3dbuOYgBSbsA3wK+J+le8s3miIhxra0EYfv15dOPSboMeAbw3caiioiIruvkKqb9KSbTM3CF7UcaiyoiIrqu3cn6Pgp8hWJajN2AcyX9bZOBRUREd7V7BHEc8JLKiepPAdcB/9BUYBER0V3tXsW0nsoX5IAdgJ+PeTQREdEzRpqL6Z8pzjk8DKyW9L1y+VXAj5sPLyIiumWkIab+8nEFsLhSvqyRaCIiomeMNFnfVwaflzfueV65uMb2o00GFhER3dXuXEyHUVzFtJ5i6u8Zkv4sk/VFRIxf7V7F9FngCNtrACQ9D/ga8NKmAouIiO5q9yqmpwwmB4Dy/tFPaSakiIjoBe0miBWSzpZ0WPnzJYoT18OSdKSkNZLWSjq1pn5vSVdJeljSh1rq1ku6XtJKSf2tfSMiolntDjHNB94HfIDiHMTlwBeH6yBpEnAmxSWxA8BySUts31hpdk+5zmOGWM3htu9qM8aIiBhDIyYISdsBK2y/EPhcB+s+AFhre125nguAucDjCcL2ncCdkl7TUdQREdG4EYeYbD8G/FTSzA7XPQ24vbI8UJa1y8ClklZImjdUI0nzJPVL6t+4MfcwiogYK+0OMf0+xTeprwV+M1ho+3XD9FFNmTuI7WDbGyQ9m+IeFDfXXVZreyGwEKCvr6+T9UdExDDaTRB/P4p1DwAzKsvT6eAmQ7Y3lI93SlpMMWSV711ERGwjI83F9FSKE9R7AdcDZ9ve1Oa6lwNzJO0B/BI4FnhrOx0l7QhsZ/uB8vkRwMfb3G5ERIyBkY4gvgI8CvwIOArYBzi5nRXb3iTpJOASYBJwju3VkuaX9Qsk/R7FfE9PBx6TdEq5jd2AxZIGYzzfdu5gFxGxDY2UIPax/SIASWcD13aycttLgaUtZQsqz++gGHpqdT+wbyfbioiIsTXSVUyPT8jXwdBSRESMAyMdQewr6f7yuYCnlcsCbPvpjUYXERFdM9J035O2VSAREdFb2p2LKSIiJpgJnyAWLYLZs2G77YrHRYu6HVHkdxLRG9r9oty4tGgRzJsHDz1ULN96a7EMcPzx3YtrIsvvJKJ3TOgjiL/5myd2RIMeeqgoj+7I7ySid0zoBHHbbZ2VR/PyO4noHRM6QcwcYn7aocqjefmdRPSOCZ0gTjsNpkzZvGzKlKI8uiO/k4jeMaETxPHHw8KFsMMOxfKsWcVyToZ2T34nEb1jQl/FBMWO50tfKp4vW9bVUKKU30lEb5jQRxARETG0JIiIiKiVBBEREbWSICIiolYSRERE1Go0QUg6UtIaSWslnVpTv7ekqyQ9LOlDnfSNiIhmNZYgJE0CzuSJe1kfJ2mflmb3AB8APjOKvhER0aAmjyAOANbaXmf7EeACYG61ge07bS+ncmvTdvtGRESzmkwQ04DbK8sDZdmY9pU0T1K/pP6NGzeOKtCIiNhSkwlCNWUe6762F9rus903derUtoOLiIjhNZkgBoAZleXpwIZt0DciIsZAkwliOTBH0h6SJgPHAku2Qd+IiBgDjU3WZ3uTpJOAS4BJwDm2V0uaX9YvkPR7QD/wdOAxSacA+9i+v65vU7FGRMSWGp3N1fZSYGlL2YLK8zsoho/a6hsREdtOvkkdERG1kiAiIqJWEkRERNRKgoiIiFpJEBERUSsJIiIiaiVBRERErSSIiIiolQQRERG1kiAiIqJWEkRERNRKgoiIiFpJEBERUSsJIiIiaiVBRERErSSIiIiolQQRERG1Gk0Qko6UtEbSWkmn1tRL0hfK+lWS9q/UrZd0vaSVkvqbjDMiIrbU2C1HJU0CzgReBQwAyyUtsX1jpdlRwJzy50DgX8vHQYfbvqupGCMiYmhNHkEcAKy1vc72I8AFwNyWNnOBr7pwNbCLpN9vMKaIiGhTkwliGnB7ZXmgLGu3jYFLJa2QNK+xKCMiolZjQ0yAasrcQZuDbW+Q9Gzge5Jutn35Fhspksc8gJkzZ25NvBERUdHkEcQAMKOyPB3Y0G4b24OPdwKLKYastmB7oe0+231Tp04do9AjIqLJBLEcmCNpD0mTgWOBJS1tlgAnlFczHQTcZ/tXknaUtDOApB2BI4AbGow1IiJaNDbEZHuTpJOAS4BJwDm2V0uaX9YvAJYCrwbWAg8B7yy7PwdYLGkwxvNtf7epWCMiYktNnoPA9lKKJFAtW1B5buB9Nf3WAfs2GVtERAwv36SOiIhaSRAREVErCSIiImolQURERK0kiIiIqJUEERERtZIgIiKiVhJERETUSoKIiIhaSRAREVErCSIiImolQURERK0kiIiIqJUEERERtZIgIiKiVhJERETUSoKIiIhaSRAREVGr0QQh6UhJayStlXRqTb0kfaGsXyVp/3b7RjRt0SKYPRu22654XLQocSSO3olhm8Rhu5EfYBLwc+C5wGTgp8A+LW1eDXwHEHAQcE27fet+XvrSl3o0Dj20+Om2XoijF2Kwux/HeefZU6bY8MTPlClFeeKY2HH0QgxjGQfQ7yH2qSrqx56kPwQ+ZvtPyuWPlAnpk5U2/wYss/21cnkNcBgwe6S+dfr6+tzf399xrN+Yfgp7PbiS/fbruOuYWrmyeOxmHL0QA3Q/jquvht89vGX5U3eAgw5KHBM5jl6IoTWOlezHBzkDgFmzYP369tcjaYXtvrq67bcyxuFMA26vLA8AB7bRZlqbfQGQNA+YBzBz5sxRBfqmNwErR9V1THV7pwy9EQN0P466HcBw5Ylj4sTRCzEMt73bbhu7bTSZIFRT1nq4MlSbdvoWhfZCYCEURxCdBPi4M84YVbcYv94xG269dcvyWbNg/bLEMZHj6IUYhotjlJ+TazV5knoAmFFZng5saLNNO30jGnPaaTBlyuZlU6YU5YljYsfRCzFssziGOjmxtT8URyfrgD144kTzH7S0eQ2bn6S+tt2+dT+jPUkdUee88+xZs2ypeNzWJyETR+/G0QsxjFUcdOMkNYCkVwNnUFyVdI7t0yTNLxPTAkkC/gU4EngIeKft/qH6jrS90Z6kjoiYqIY7Sd1ogtjWkiAiIjozXILIN6kjIqJWEkRERNRKgoiIiFpJEBERUWtcnaSWtBGo+epIW3YD7hrDcJ7M8l5sLu/H5vJ+PGE8vBezbE+tqxhXCWJrSOof6kz+RJP3YnN5PzaX9+MJ4/29yBBTRETUSoKIiIhaSRBPWNjtAHpI3ovN5f3YXN6PJ4zr9yLnICIiolaOICIiolYSRERE1JrwCULSkZLWSFor6dRux9NNkmZIukzSTZJWSzq52zF1m6RJkn4i6dvdjqXbJO0i6RuSbi7/Rv6w2zF1k6QPlv8nN0j6mqSndjumsTahE4SkScCZwFHAPsBxkvbpblRdtQn4S9svoLg/x/sm+PsBcDJwU7eD6BGfB75re29gXybw+yJpGvABoM/2CyluS3Bsd6MaexM6QQAHAGttr7P9CHABMLfLMXWN7V/Zvq58/gDFDmBad6PqHknTKW5qdVa3Y+k2SU8HXgGcDWD7Edu/7mpQ3bc98DRJ2wNTGId3vZzoCWIacHtleYAJvEOskjQbeAlwTZdD6aYzgA8Dj3U5jl7wXGAjcG455HaWpB27HVS32P4l8BngNuBXwH22L+1uVGNvoicI1ZRN+Ot+Je0EfBM4xfb93Y6nGyQdDdxpe0W3Y+kR2wP7A/9q+yXAb4AJe85O0jMpRhv2AHYHdpT0tu5GNfYmeoIYAGZUlqczDg8TOyHpKRTJYZHti7odTxcdDLxO0nqKocdXSjqvuyF11QAwYHvwiPIbFAljovpj4Be2N9p+FLgIeHmXYxpzEz1BLAfmSNpD0mSKk0xLuhxT15T3CD8buMn257odTzfZ/ojt6bZnU/xd/MD2uPuE2C7bdwC3S3p+WfRHwI1dDKnbbgMOkjSl/L/5I8bhSfvtux1AN9neJOkk4BKKqxDOsb26y2F108HA24HrJa0sy/7a9tLuhRQ95P3AovLD1DrgnV2Op2tsXyPpG8B1FFf//YRxOO1GptqIiIhaE32IKSIihpAEERERtZIgIiKiVhJERETUSoKIiIhaSRDxpCfJkj5bWf6QpI+N0bq/LOlNY7GuEbbz5nKG1MvaaHtlG23WS9qtpvwwSePuC13RjCSIGA8eBt5Qt0PspnK24Ha9G3iv7cNHWp/trdnBH8Y4/MZvNCMJIsaDTRRfUvpga0XrEYCkB8vHwyT9UNKFkm6R9ClJx0u6VtL1kvasrOaPJf2obHd02X+SpH+StFzSKkl/UVnvZZLOB66viee4cv03SDq9LPsocAiwQNI/tbTfYn2V17CdpC+W9yT4tqSlLUc775d0Xbm9vcsJGOcDH5S0UtL/Ko9cbpD0U0mXd/i+xzg3ob9JHePKmcAqSZ/uoM++wAuAeyi+GXyW7QPKGyW9HzilbDcbOBTYE7hM0l7ACRQzeL5M0g7AFZIGZ/M8AHih7V9UNyZpd+B04KXAvcClko6x/XFJrwQ+ZLu/Js7a9QFvKGN7EfBsiqkezqnU32V7f0nvLdd9oqQFwIO2P1PGdD3wJ7Z/KWmX9t62mChyBBHjQjnr7FcpbuLSruXlPTAeBn4ODO7gr6fY8Q660PZjtn9GkUj2Bo4ATiinJLkG2BWYU7a/tmZnDvAyYFk5wdsmYBHFPRZGMtT6DgH+o4ztDqD1/MXgZIsrWl5P1RXAlyX9OcV0MxGPyxFEjCdnUMyNc26lbBPlB6FyUrXJlbqHK88fqyw/xub/G63z0Zhiqvj3276kWiHpMIqpsOvUTS/fjtGub/D1/A9D/K/bni/pQIobI62UtJ/tu0cXZow3OYKIccP2PcCFFCd8B62nGNKBYv7+p4xi1W8ux/v3pLhxzhqKCR7fU06PjqTntXEDnWuAQyXtVp5wPg744SjiGfRj4I1lbM+hOAE9kgeAnQcXJO1p+xrbHwXuYvPp72OCyxFEjDefBU6qLH8J+E9J1wLfZ+hP48NZQ7Ejfw4w3/bvJJ1FMWxzXXlkshE4ZriV2P6VpI9QDAUJWGr7P0cRz6BvUkwzfQNwC0UCum+EPv8FfEPSXIrzLB+UNKeM5/vAT7cinhhnMptrxJOYpJ1sPyhpV+Ba4ODyfETEVssRRMST27fLq48mA59IcoixlCOIiIiolZPUERFRKwkiIiJqJUFEREStJIiIiKiVBBEREbX+Pyn2lYv5TEWYAAAAAElFTkSuQmCC\n",
>>>>>>> 6cfcfafa8f829c2ddfd8128bd8c9f3d02c707c68
      "text/plain": [
       "<Figure size 432x288 with 1 Axes>"
      ]
     },
     "metadata": {
      "needs_background": "light"
     },
     "output_type": "display_data"
    }
   ],
   "source": [
    "x,y = list(zip(*pmf_binomial))\n",
    "plt.stem(x, y, linefmt='b-', markerfmt='bo', basefmt='r-')\n",
    "plt.xlabel('Number of rights')\n",
    "plt.ylabel('Probability')\n",
    "plt.title('PMF (Binomial): Number of rights')\n",
    "plt.show()"
   ]
  },
  {
   "cell_type": "markdown",
   "metadata": {
    "slideshow": {
     "slide_type": "slide"
    }
   },
   "source": [
    "Plot it for actual distance deviation:\n",
    "\n",
    "$$ d = n_R - n_L = n_R - (N-n_r)$$"
   ]
  },
  {
   "cell_type": "code",
<<<<<<< HEAD
   "execution_count": 3,
=======
   "execution_count": 33,
>>>>>>> 6cfcfafa8f829c2ddfd8128bd8c9f3d02c707c68
   "metadata": {
    "cell_style": "split",
    "slideshow": {
     "slide_type": "fragment"
    }
   },
   "outputs": [],
   "source": [
    "import numpy as np\n",
    "N = 3\n",
    "p = 0.5\n",
    "\n",
    "pmf_deviation = [(x - (N - x), binom.pmf(x, n = N, p = p)) \n",
    "                for x in np.arange(-5,5,1)]"
   ]
  },
  {
   "cell_type": "code",
<<<<<<< HEAD
   "execution_count": 4,
=======
   "execution_count": 34,
>>>>>>> 6cfcfafa8f829c2ddfd8128bd8c9f3d02c707c68
   "metadata": {
    "cell_style": "split",
    "slideshow": {
     "slide_type": "fragment"
    }
   },
   "outputs": [
    {
     "data": {
      "image/png": "iVBORw0KGgoAAAANSUhEUgAAAYsAAAEWCAYAAACXGLsWAAAAOXRFWHRTb2Z0d2FyZQBNYXRwbG90bGliIHZlcnNpb24zLjMuMSwgaHR0cHM6Ly9tYXRwbG90bGliLm9yZy/d3fzzAAAACXBIWXMAAAsTAAALEwEAmpwYAAAfTklEQVR4nO3dfZgdZZnn8e8vDQkGgigJKHnrCEFEBYQmwYWRoMAkyJA4OmswiopsJiios7IaXwYZlRUcHdQxTjZAUJdGZGeIk10jBJGIqEA6GF6ChIkhkDYo4UUBA4QM9/5RT0PRnNNVnZzq033y+1zXuU7V81J1V+ek7lNP1alSRGBmZtaXYc0OwMzMBj8nCzMzK+RkYWZmhZwszMyskJOFmZkVcrIwM7NCThZmFZM0R9LyBiwnJB3QiJjM+svJwhpC0gZJT0l6UtIfJF0maY9UtyLt6A7t1eeHqXxamj9P0rNpGT2vT5ZY9+slLZf0mKQ/Slol6aRUN01Sd+O3+Pl1f0fSVklPpNddkr4s6eU9bSKiMyJOrCqGoSj9W1/e7DisPCcLa6S/iog9gMOBI4HP5eruBU7rmZG0N3AUsLnXMn4QEXvkXl8psd7/C1wH7AvsA3wUeHz7N6PfvhIRo4AxwAfJtusXknYfwBjMKuVkYQ0XEb8Dfgy8IVfcCbxbUluaPxVYAmzdkXVJGg1MAi6OiK3p9YuIuCntrH8M7Jc7UtlP0jBJ8yX9VtIjkq6S9Mq0vPZ0tDNX0iZJD0r6RMntfjoiVgKnAHuTJQ4kfUDSTWlaki6S9JCkP0m6Q9IbUt13JC2UdF06SvmZpIl1tvvtkn4t6XFJGyWd16v+GEm/TEdaGyV9IJWPkPRVSQ+kI8CFkl6W6qZJ6pb0yRTfg5JmSTpJ0r2SHpX0mdw6yvwd35/W9bCkz6a66cBnyD4PT0q6vczf15rLycIaTtJ44CTg17niTcDdQM9wzGnA90ou7z2S7qhT/QiwDrg87dj27amIiD8DM4BNuSOVTWRHHrOAY4H9gMeABb2WexwwOcU7X9LxZWJN632C7EjnL2pUnwi8BTgQ2At4d9qGHnOALwKjgdVkSbaWP5P9DfcC3g6cKWkWgKQJZEnyn8mOdg5LywK4MK37MOAAYCxwbm65rwJ2y5VfDLwXOCJtz7mSXpPalvk7HgO8Fnhb6vu6iLgG+J+8cBR5KDb4RYRffu3wC9gAPAn8Ebgf+DbwslS3AjiDbKfzfbKdx72prhuYlqbPIzvS+GPutV+JdY8DvgX8FngOuBGYnOqmAd292v8GeFtu/tXAs8AuQDsQwEG5+q8Al9ZZ93eAL9UovwC4Lk1/ALgpTb+VbEjuKGBYjWVdmZvfA/hPYHyaD+CAOnF8HbgoTX8aWFKjjciSzP65sjcD9+X+Vk8BbWl+VFrn1Fz7VcCsfvwdx+XqbwVm5/6tL2/259av8q9dMGucWRHxkz7qrwa+RvZN+n/XaXNVRLy3PyuNiG7gLHj+qGYR2VHLm+t0mQgskfRcruw/yc559NiYm74feGN/YiL7Zv5ojVh/KulbZN/AJ0haApwTET3nWDbm2j4p6VGyb+35eJA0lSwhvQEYDowA/k+qHk+WOHsbA4wEVkl6flFAW67NIxHxn2n6qfT+h1z9U2RJDMr9HX+fm96S62tDjIehbMBExBay4ZEzqZ8sdnQdG8l2xD3nS2rdVnkjMCMi9sq9dovsXEuP8bnpCWTDaKWkq8COB35eJ8ZvRsQRwOvJhoT+R631puW8ss66rwCWkh11vBxYSLbj79m+/Wv0eZhsZ//63Ha/PLKLErZHmb9jPb7d9RDjZGED7TPAsRGxoRELk/QKSf8g6YB0wnU0cDpwc2ryB2Dv/KWsZDvW83tOHksaI2lmr0X/vaSRkl5PdqL6ByViGSHpCOCHZOP3l9Voc6SkqZJ2JRsSeprs23iPk9LJ6eFk5y5uSQmwt1HAoxHxtKQpwHtydZ3A8ZL+q6RdJO0t6bCIeI7sHMRFkvZJ8YyV9JdF21ZHmb9jPX8A2iV5HzRE+B/KBlREbIqIm/rTR9mP2tbUqd5KNj7+E7LLZe8CniE7T0BE3EN2nmR9ujJoP+AbZN/Kl0t6giyxTO213J+RnTi/HvhqRPT1o7pPpuU8Sjb8tQr4L5GdYO9tT7Id9mNkw1uPAF/N1V8BfD4t6wiyE961fBj4QlrvucBVPRUR8QDZBQafSMtZDfScRP5U2q6bJT1O9nd7bR/b1pcyf8d6eobMHpF023au3waQInw0aNZDUjtwH7BrRGwb4HV/h+xk/OeK2poNNB9ZmJlZIScLMzMr5GEoMzMr5CMLMzMr1FI/yhs9enS0t7c3OwwzsyFj1apVD0fEmKJ2LZUs2tvb6erqanYYZmZDhqT7y7TzMJSZmRVysjAzs0JOFmZmVsjJwszMCjlZmJlZIScL26l0dkJ7Owwblr131nsO3RDV6ttnzdNSl86a9aWzE+bOhS1bsvn778/mAebUu7frENLq22fN1VK3++jo6Aj/zsLqaW/PdqC9TZwIGzYMdDSN1+rbZ9WQtCoiOoraeRjKdhoPPNC/8qGm1bfPmsvJwnYaEyb0r3yoafXts+ZysrCdxvnnw8iRLy4bOTIrbwWtvn3WXE4WttOYMwcWLYIRI7L5iROz+VY5+dvq22fN5RPcttOZNi17X7GimVFUp9W3zxrLJ7jNzKxhnCzMzKyQk4WZmRVysjAzs0JOFmZmVqjSZCFpuqS1ktZJml+jfqakOyStltQl6Zhc3QZJd/bUVRmnmZn1rbIbCUpqAxYAJwDdwEpJSyPi7lyz64GlERGSDgGuAg7K1R8XEQ9XFaOZmZVT5ZHFFGBdRKyPiK3AlcDMfIOIeDJe+KHH7kDr/OjDzKyFVJksxgIbc/PdqexFJL1D0j3Aj4DTc1UBLJe0StLceiuRNDcNYXVt3ry5QaGbmVlelclCNcpecuQQEUsi4iBgFvDFXNXREXE4MAP4iKS31FpJRCyKiI6I6BgzZkwDwjYzs96qTBbdwPjc/DhgU73GEXEjsL+k0Wl+U3p/CFhCNqxlZmZNUGWyWAlMljRJ0nBgNrA030DSAZKUpg8HhgOPSNpd0qhUvjtwInBXhbGamVkfKrsaKiK2SToLuBZoAxZHxBpJ81L9QuCdwGmSngWeAt6drozaF1iS8sguwBURcU1VsZqZWd8qfQZ3RCwDlvUqW5ibvhC4sEa/9cChVcZmZmbl+RfcZmZWyMnCzMwKOVmYmVkhJwszMyvkZGFmZoWcLMzMrJCThZmZFXKyMDOzQk4WZmZWyMnCzMwKOVmYmVkhJwszMyvkZGFmZoWcLMzMrJCThZmZFXKyMDOzQk4WZmZWyMnCzMwKVZosJE2XtFbSOknza9TPlHSHpNWSuiQdU7avmZkNnMqShaQ2YAEwAzgYOFXSwb2aXQ8cGhGHAacDl/Sjr5mZDZAqjyymAOsiYn1EbAWuBGbmG0TEkxERaXZ3IMr2NTOzgVNlshgLbMzNd6eyF5H0Dkn3AD8iO7oo3Tf1n5uGsLo2b97ckMDNzOzFqkwWqlEWLymIWBIRBwGzgC/2p2/qvygiOiKiY8yYMdsbq5mZ9aHKZNENjM/NjwM21WscETcC+0sa3d++ZmZWrSqTxUpgsqRJkoYDs4Gl+QaSDpCkNH04MBx4pExfMzMbOLtUteCI2CbpLOBaoA1YHBFrJM1L9QuBdwKnSXoWeAp4dzrhXbNvVbGamVnfKksWABGxDFjWq2xhbvpC4MKyfc3MrDn8C24zMyvkZGFmZoWcLMzMrJCThZmZFXKyMDOzQk4WZmZWyMnCzMwKOVmYmVkhJwszMyvkZGFmZoWcLMzMrJCThZmZFXKyMDOzQk4WZmZWyMnCzMwKOVmYmVkhJwszMytUabKQNF3SWknrJM2vUT9H0h3p9UtJh+bqNki6U9JqSV1VxmlmZn2r7LGqktqABcAJQDewUtLSiLg71+w+4NiIeEzSDGARMDVXf1xEPFxVjGZmVk6VRxZTgHURsT4itgJXAjPzDSLilxHxWJq9GRhXYTxmZradqkwWY4GNufnuVFbPh4Af5+YDWC5plaS59TpJmiupS1LX5s2bdyhgMzOrrbJhKEA1yqJmQ+k4smRxTK746IjYJGkf4DpJ90TEjS9ZYMQisuErOjo6ai7fzMx2TJVHFt3A+Nz8OGBT70aSDgEuAWZGxCM95RGxKb0/BCwhG9YyM7MmqDJZrAQmS5okaTgwG1iabyBpAnA18L6IuDdXvrukUT3TwInAXRXGamZmfahsGCoitkk6C7gWaAMWR8QaSfNS/ULgXGBv4NuSALZFRAewL7Akle0CXBER11QVq5mZ9a3KcxZExDJgWa+yhbnpM4AzavRbDxzau9zMzJrDv+A2M7NCThZmZlbIycLMzAqVShaSTpbkxGJmtpMqmwBmA/8h6SuSXldlQGZmNviUShYR8V7gTcBvgcsk/SrdZmNUpdGZmdmgUHpoKSIeB/6N7IaArwbeAdwm6eyKYjMzs0Gi7DmLUyQtAX4K7ApMiYgZZL+FOKfC+MzMbBAo+6O8dwEX9b6RX0RskXR648MyM7PBpOww1IO9E4WkCwEi4vqGR2VmZoNK2WRxQo2yGY0MxMzMBq8+h6EknQl8GNhf0h25qlHAL6oMzMzMBo+icxZXkD297svA/Fz5ExHxaGVRmZnZoFKULCIiNkj6SO8KSa90wjAz2zmUObI4GVhF9kjU/KNSA3hNRXGZmdkg0meyiIiT0/ukgQnHzMwGo6IT3If3VR8RtzU2HDMzG4yKhqG+1kddAG/tq7Ok6cA3yB6reklEXNCrfg7wqTT7JHBmRNxepq+ZmQ2comGo47Z3wZLagAVkv9HoBlZKWhoRd+ea3QccGxGPSZoBLAKmluxrZmYDpGgY6q0R8VNJf12rPiKu7qP7FGBdep42kq4EZgLP7/Aj4pe59jcD48r2NTOzgVM0DHUs2c0D/6pGXQB9JYuxwMbcfDcwtY/2HyL7TUe/+kqaC8wFmDBhQh+LNzOz7VU0DPX59P7B7Vi2apRFzYbScWTJ4pj+9o2IRWTDV3R0dNRsY2ZmO6bsLcr3lvRNSbdJWiXpG5L2LujWDYzPzY8DNtVY9iHAJcDMiHikP33NzGxglL2R4JXAZuCdZLcr3wz8oKDPSmCypEmShpM9mnVpvoGkCWRDWe+LiHv709fMzAZO2edZvDIivpib/5KkWX11iIhtks4CriW7/HVxRKyRNC/VLwTOBfYGvi0JYFtEdNTr258NMzOzximbLG6QNBu4Ks2/C/hRUaeIWAYs61W2MDd9BnBG2b5mZtYcRZfOPsEL94T678DlqWoY2Y/oPl9pdGZmNigUXQ01aqACMTOzwavsMBSSXgFMBnbrKev9qFUzM2tNpZKFpDOAj5FdwroaOAr4FQX3hjIzs9ZQ9tLZjwFHAven+0W9iezyWTMz2wmUTRZPR8TTAJJGRMQ9wGurC8vMzAaTsucsuiXtBfwQuE7SY/gX1WZmO41SySIi3pEmz5N0A/By4JrKojIzs0GlP1dDHU52o78AfhERWyuLyszMBpWyNxI8F/gu2a05RgOXSfpclYGZmdngUfbI4lTgTbmT3BcAtwFfqiowMzMbPMpeDbWB3I/xgBHAbxsejZmZDUpF94b6Z7JzFM8AayRdl+ZPAG6qPjwzMxsMioahutL7KmBJrnxFJdGYmdmgVHQjwe/2TKeHEB2YZtdGxLNVBmZmZoNH2XtDTSO7GmoD2e3Kx0t6v28kaGa2cyh7NdTXgBMjYi2ApAOB7wNHVBWYmZkNHmWvhtq1J1EApOdl71pNSGZmNtiUTRarJF0qaVp6XUx20rtPkqZLWitpnaT5NeoPkvQrSc9IOqdX3QZJd0paLamrd18zMxs4ZYeh5gEfAT5Kds7iRuDbfXWQ1AYsILvMthtYKWlpRNyda/ZoWuasOos5LiIeLhmjmZlVpDBZSBoGrIqINwD/1I9lTwHWRcT6tJwrgZnA88kiIh4CHpL09n5FbWZmA6pwGCoingNulzShn8seC2zMzXensrICWC5plaS59RpJmiupS1LX5s1+HpOZWRXKDkO9muwX3LcCf+4pjIhT+uijGmXRj9iOjohNkvYhe4bGPbUu1Y2IRcAigI6Ojv4s38zMSiqbLP5hO5bdDYzPzY+jHw9MiohN6f0hSUvIhrX8uw4zsyYoujfUbmQntw8A7gQujYhtJZe9EpgsaRLwO2A28J4yHSXtDgyLiCfS9InAF0qu18zMGqzoyOK7wLPAz4EZwMHAx8osOCK2SToLuBZoAxZHxBpJ81L9QkmvIrv/1J7Ac5I+ntYxGlgiqSfGKyLCT+YzM2uSomRxcES8EUDSpcCt/Vl4RCwDlvUqW5ib/j3Z8FRvjwOH9mddZmZWnaKroZ6/WWA/hp/MzKzFFB1ZHCrp8TQt4GVpXkBExJ6VRmdmZoNC0S3K2wYqEDMzG7zK3hvKzMx2Yk4W9iKdndDeDsOGZe+dnc2OyOwF/nw2T9kf5dlOoLMT5s6FLVuy+fvvz+YB5sxpXlxm4M9ns/nIwp732c++8B+xx5YtWblZs/nz2VxOFva8Bx7oX7nZQPLns7mcLOx5E+rcV7heudlA8uezuZws7Hnnnw8jR764bOTIrNys2fz5bC4nC3venDmwaBGMGJHNT5yYzfvkoQ0G/nw2l6+GsheZMwcuvjibXrGiqaGYvYQ/n83jIwszMyvkZGFmZoWcLMzMrJCThZmZFXKyMDOzQpUmC0nTJa2VtE7S/Br1B0n6laRnJJ3Tn75mZjZwKksWktqABbzw7O5TJR3cq9mjwEeBr25HXzMzGyBVHllMAdZFxPqI2ApcCczMN4iIhyJiJbnHt5bta2ZmA6fKZDEW2Jib705lDe0raa6kLkldmzdv3q5Azcysb1UmC9Uoi0b3jYhFEdERER1jxowpHZyZmZVXZbLoBsbn5scBmwagr5mZNViVyWIlMFnSJEnDgdnA0gHoa2ZmDVbZjQQjYpuks4BrgTZgcUSskTQv1S+U9CqgC9gTeE7Sx4GDI+LxWn2ritXMzPpW6V1nI2IZsKxX2cLc9O/JhphK9TUzs+bwL7jNzKyQk4WZmRVysjAzs0JOFmZmVsjJwszMCjlZmJlZIScLMzMr5GRhZmaFnCzMzKyQk4WZmRVysjAzs0JOFmZmVsjJwszMCjlZmJlZIScLMzMr5GRhZmaFnCzMzKxQpclC0nRJayWtkzS/Rr0kfTPV3yHp8FzdBkl3SlotqavKOM3MrG+VPVZVUhuwADgB6AZWSloaEXfnms0AJqfXVOBf0nuP4yLi4apiNDOzcqo8spgCrIuI9RGxFbgSmNmrzUzge5G5GdhL0qsrjMnMzLZDlcliLLAxN9+dysq2CWC5pFWS5lYWpZmZFapsGApQjbLoR5ujI2KTpH2A6yTdExE3vmQlWSKZCzBhwoQdidfMzOqo8siiGxifmx8HbCrbJiJ63h8ClpANa71ERCyKiI6I6BgzZkyDQjczs7wqk8VKYLKkSZKGA7OBpb3aLAVOS1dFHQX8KSIelLS7pFEAknYHTgTuqjBWMzPrQ2XDUBGxTdJZwLVAG7A4ItZImpfqFwLLgJOAdcAW4IOp+77AEkk9MV4REddUFauZmfWtynMWRMQysoSQL1uYmw7gIzX6rQcOrTI2MzMrz7/gNjOzQk4WZmZWyMnCzMwKOVmYmVkhJwszMyvkZGFmZoWcLMzMrJCThZmZFXKyMDOzQk4WZmZWyMnCzMwKOVmYmVkhJwszMyvkZGFmZoWcLMzMrJCThZmZFXKyMDOzQk4WZmZWqNJkIWm6pLWS1kmaX6Nekr6Z6u+QdHjZvs3S2Qnt7TBsWPbe2dnsiMysFQz2fUtlz+CW1AYsAE4AuoGVkpZGxN25ZjOAyek1FfgXYGrJvgOusxPmzoUtW7L5++/P5gHmzGleXGY2tA2FfYsiopoFS28GzouIv0zznwaIiC/n2vwvYEVEfD/NrwWmAe1FfWvpGDUquo44ouHb0uPmm+HpZ15avtsIOOqoylY74Favzt4PO6yZUVTH2ze0teL25fctqzmMv+PrAEycCBs2VLtuSasioqOoXWVHFsBYYGNuvpvs6KGozdiSfQGQNBeYC3DIiBE7FnGBWomir/KhqpX+E9bi7RvaWnH76u1DHnhgYOPoS5XJQjXKeh/G1GtTpm9WGLEIWATQ0dERrFjRjxD75wPt2eFhbxMnwobqVmtmLa7evmXChAEPpa4qT3B3A+Nz8+OATSXblOk74M4/H0aOfHHZyJFZuZnZ9hoK+5Yqk8VKYLKkSZKGA7OBpb3aLAVOS1dFHQX8KSIeLNl3wM2ZA4sWZUcSUva+aNHgOQFlZkPTUNi3VHaCG0DSScDXgTZgcUScL2keQEQslCTgW8B0YAvwwYjoqte3aH0dHR3R1dVVxaaYmbWksie4K00WA83Jwsysf8omC/+C28zMCjlZmJlZIScLMzMr5GRhZmaFWuoEt6QngLXNjqMio4GHmx1Ehbx9Q5u3b+h6bUSMKmpU5S+4m2FtmbP6Q5GkrlbdNvD2DXXevqFLUqlLSD0MZWZmhZwszMysUKsli0XNDqBCrbxt4O0b6rx9Q1epbWupE9xmZlaNVjuyMDOzCjhZmJlZoZZLFpLOlrRW0hpJX2l2PFWQdI6kkDS62bE0kqR/lHSPpDskLZG0V7Nj2lGSpqfP4zpJ85sdTyNJGi/pBkm/Sf/fPtbsmKogqU3SryX9v2bH0miS9pL0r+n/3W/S47BraqlkIek4YCZwSES8Hvhqk0NqOEnjgROAQfTAxYa5DnhDRBwC3At8usnx7BBJbcACYAZwMHCqpIObG1VDbQM+ERGvA44CPtJi29fjY8Bvmh1ERb4BXBMRBwGH0sd2tlSyAM4ELoiIZwAi4qEmx1OFi4BPUucxs0NZRCyPiG1p9mayJyQOZVOAdRGxPiK2AleSfZlpCRHxYETclqafINvRjG1uVI0laRzwduCSZsfSaJL2BN4CXAoQEVsj4o/12rdasjgQ+AtJt0j6maQjmx1QI0k6BfhdRNze7FgGwOnAj5sdxA4aC2zMzXfTYjvTHpLagTcBtzQ5lEb7OtmXs+eaHEcVXgNsBi5Lw2yXSNq9XuMhd7sPST8BXlWj6rNk2/MKskPiI4GrJL0mhtD1wQXb9xngxIGNqLH62r6I+PfU5rNkQxydAxlbBVSjbMh8FsuStAfwb8DHI+LxZsfTKJJOBh6KiFWSpjU5nCrsAhwOnB0Rt0j6BjAf+Pt6jYeUiDi+Xp2kM4GrU3K4VdJzZDcA2zxQ8e2oetsn6Y3AJOD27Gm0jANukzQlIn4/gCHukL7+/QAkvR84GXjbUErydXQD43Pz44BNTYqlEpJ2JUsUnRFxdbPjabCjgVPSI553A/aUdHlEvLfJcTVKN9AdET1Hg/9KlixqarVhqB8CbwWQdCAwnBa5U2RE3BkR+0REe0S0k/1DHz6UEkURSdOBTwGnRMSWZsfTACuByZImSRoOzAaWNjmmhlH2reVS4DcR8U/NjqfRIuLTETEu/X+bDfy0hRIFad+xUdJrU9HbgLvrtR9yRxYFFgOLJd0FbAXe3wLfTncm3wJGANelo6ebI2Jec0PafhGxTdJZwLVAG7A4ItY0OaxGOhp4H3CnpNWp7DMRsax5IVk/nQ10pi8z64EP1mvo232YmVmhVhuGMjOzCjhZmJlZIScLMzMr5GRhZmaFnCzMzKyQk4UNeekOvF/LzZ8j6bwGLfs7kt7ViGUVrOdv0l0/b+hvXOk2DXVv4CfpPEnnNCpW2zk5WVgreAb468F2y/Z019myPgR8OCKO6+96IuKMiKj7YyqzRnCysFawjew5wn/Xu6L3kYGkJ9P7tHSzyask3SvpAklzJN0q6U5J++cWc7ykn6d2J6f+ben5GyvT8zf+NrfcGyRdAdxZI55T0/LvknRhKjsXOAZYKOkfa/T5ZOpzu6QLatSvkNSRpqdLui21vb5G2/8m6ceSXibpo5LuTvFf2fef2HZ2rfYLbtt5LQDuUP8eeHUo8DrgUbJfr14SEVPSQ3zOBj6e2rUDxwL7AzdIOgA4DfhTRBwpaQTwC0nLU/spZM/luC+/Mkn7ARcCRwCPAcslzYqIL0h6K3BORHT16jMDmAVMjYgtkl5Zb2MkjQEuBt4SEff1bpt+TX4iMCsinlH2MKZJaXqvkn8z20n5yMJaQrrb6feAj/aj28r0TIZngN8CPTv7O8kSRI+rIuK5iPgPsqRyENlO97R0m4tbgL2Byan9rb0TRXIksCIiNqfndnSSPU+gL8cDl/XcKysiHu2j7VHAjT3r7tX2fWQPYXpnz/NegDvIbvXwXrKjM7O6nCyslXydbOw/f0/+baTPebrx3fBc3TO56edy88/x4qPu3vfECbLbj58dEYel16SI6Ek2f64TX61blhdRjfVvT9u7yBJg/oFSbyc7IjsCWCXJIw1Wl5OFtYz0TfoqsoTRYwPZzhCyp9Ttuh2L/htJw9J5jNcAa8luDnhmukU3kg7s68ExyS3AsZJGp5PfpwI/K+izHDhd0si0nrrDUMCv0vIn1Wj7a+BvgaWS9pM0DBgfETeQPdxnL2CPglhsJ+ZvEtZqvgaclZu/GPh3SbcC11P/W39f1pLt1PcF5kXE05IuIfumfls6YtlMdm6hroh4UNKngRvIjgKW9TzwqY8+10g6DOiStBVYRvYQrFptN0uaC1ydksFDZM9r76m/KV1C+yOyYbTLJb08xXJRX4/UNPNdZ83MrJCHoczMrJCThZmZFXKyMDOzQk4WZmZWyMnCzMwKOVmYmVkhJwszMyv0/wFhiMLixb2KDQAAAABJRU5ErkJggg==\n",
      "text/plain": [
       "<Figure size 432x288 with 1 Axes>"
      ]
     },
     "metadata": {
      "needs_background": "light"
     },
     "output_type": "display_data"
    }
   ],
   "source": [
    "x,y = list(zip(*pmf_deviation))\n",
    "plt.stem(x, y, linefmt='b-', markerfmt='bo', basefmt='r-')\n",
    "plt.xlabel('Number of clicks')\n",
    "plt.ylabel('Probability')\n",
    "plt.title('PMF: Step Displacement')\n",
    "plt.xlim(-6,6)\n",
    "plt.show()"
   ]
  },
  {
   "cell_type": "markdown",
   "metadata": {
    "slideshow": {
     "slide_type": "slide"
    }
   },
   "source": [
    "When $N$ gets sufficiently big:"
   ]
  },
  {
   "cell_type": "code",
<<<<<<< HEAD
   "execution_count": 5,
=======
   "execution_count": 61,
>>>>>>> 6cfcfafa8f829c2ddfd8128bd8c9f3d02c707c68
   "metadata": {
    "cell_style": "center",
    "slideshow": {
     "slide_type": "subslide"
    }
   },
   "outputs": [],
   "source": [
    "from IPython.display import YouTubeVideo\n",
    "\n",
    "galton_video = YouTubeVideo('Vo9Esp1yaC8', width = 800, height = 600)"
   ]
  },
  {
   "cell_type": "code",
<<<<<<< HEAD
   "execution_count": 6,
=======
   "execution_count": 62,
>>>>>>> 6cfcfafa8f829c2ddfd8128bd8c9f3d02c707c68
   "metadata": {
    "slideshow": {
     "slide_type": "subslide"
    }
   },
   "outputs": [
    {
     "data": {
      "image/jpeg": "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\n",
      "text/html": [
       "\n",
       "        <iframe\n",
       "            width=\"800\"\n",
       "            height=\"600\"\n",
       "            src=\"https://www.youtube.com/embed/Vo9Esp1yaC8\"\n",
       "            frameborder=\"0\"\n",
       "            allowfullscreen\n",
       "        ></iframe>\n",
       "        "
      ],
      "text/plain": [
<<<<<<< HEAD
       "<IPython.lib.display.YouTubeVideo at 0x7f84f556ee80>"
=======
       "<IPython.lib.display.YouTubeVideo at 0x1d354cdab20>"
>>>>>>> 6cfcfafa8f829c2ddfd8128bd8c9f3d02c707c68
      ]
     },
     "metadata": {},
     "output_type": "display_data"
    }
   ],
   "source": [
    "display(galton_video)"
   ]
  },
  {
   "cell_type": "markdown",
   "metadata": {
    "cell_style": "center",
    "slideshow": {
     "slide_type": "slide"
    }
   },
   "source": [
    "- If make slits finer, and $N \\rightarrow \\infty$ :\n",
    "- Becomes the continuous normal pdf."
   ]
  },
  {
   "cell_type": "markdown",
   "metadata": {
    "slideshow": {
     "slide_type": "slide"
    }
   },
   "source": [
    "$$ S = X_1 + X_2 + ... + X_N $$ \n",
    "\n",
    "follows normal distribution provided that each $X_i$:\n",
    "- follows a population distribution:\n",
    "    - Finite variance.\n",
    "    - Defined mean.\n",
    "\n"
   ]
  },
  {
   "cell_type": "markdown",
   "metadata": {
    "slideshow": {
     "slide_type": "subslide"
    }
   },
   "source": [
    "**Most distributions satisfying weak requirements**:\n",
    "\n",
    "Bernoulli was an underlying distribution that satisfied this.\n",
    "\n",
    "Sum of random variables drawn from these distribution follows normal distribution as N goes large."
   ]
  },
  {
   "cell_type": "markdown",
   "metadata": {
    "slideshow": {
     "slide_type": "slide"
    }
   },
   "source": [
    "This is underneath why binomial approaches normal as $ N $ gets large:"
   ]
  },
  {
   "cell_type": "code",
   "execution_count": 63,
   "metadata": {
    "slideshow": {
     "slide_type": "subslide"
    }
   },
   "outputs": [
    {
     "data": {
      "image/png": "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\n",
      "text/plain": [
       "<Figure size 432x288 with 1 Axes>"
      ]
     },
     "metadata": {
      "needs_background": "light"
     },
     "output_type": "display_data"
    }
   ],
   "source": [
    "import numpy as np\n",
    "N = 400\n",
    "p = 0.5\n",
    "\n",
    "pmf_largeN = [(x, binom.pmf(x, n = N, p = p)) \n",
    "                for x in np.arange(0, N)]\n",
    "\n",
    "x,y = list(zip(*pmf_largeN))\n",
    "plt.stem(x, y, linefmt='b-', markerfmt='bo', basefmt='r-')\n",
    "plt.xlabel('Number of rights')\n",
    "plt.ylabel('Probability')\n",
    "plt.title('PMF (Binomial): Number of rights')\n",
    "plt.show()\n"
   ]
  },
  {
   "cell_type": "markdown",
   "metadata": {
    "slideshow": {
     "slide_type": "subslide"
    }
   },
   "source": [
    "#### Known as: The central limit theorem"
   ]
  },
  {
   "cell_type": "markdown",
   "metadata": {
    "slideshow": {
     "slide_type": "slide"
    }
   },
   "source": [
    "Take N = 200 samples of waiting times of drivers at a toll:\n",
    "\n",
    "- Follows exponential distribution with average wait time $\\tau$\n",
    "- Has finite variance $\\tau^2$."
   ]
  },
  {
   "cell_type": "code",
<<<<<<< HEAD
   "execution_count": 19,
=======
   "execution_count": 71,
>>>>>>> 6cfcfafa8f829c2ddfd8128bd8c9f3d02c707c68
   "metadata": {
    "scrolled": true,
    "slideshow": {
     "slide_type": "subslide"
    }
   },
   "outputs": [],
   "source": [
    "from scipy.stats import expon\n",
    "\n",
    "#assume population mean 3 minutes\n",
    "pop_mean = 3\n",
    "\n",
    "wait_time_sample = expon.rvs(scale = pop_mean, size = 50)"
   ]
  },
  {
   "cell_type": "code",
<<<<<<< HEAD
   "execution_count": 20,
=======
   "execution_count": 72,
>>>>>>> 6cfcfafa8f829c2ddfd8128bd8c9f3d02c707c68
   "metadata": {
    "cell_style": "center",
    "scrolled": true,
    "slideshow": {
     "slide_type": "fragment"
    }
   },
   "outputs": [
    {
     "data": {
<<<<<<< HEAD
      "image/png": "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\n",
=======
      "image/png": "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\n",
>>>>>>> 6cfcfafa8f829c2ddfd8128bd8c9f3d02c707c68
      "text/plain": [
       "<Figure size 432x288 with 1 Axes>"
      ]
     },
     "metadata": {
      "needs_background": "light"
     },
     "output_type": "display_data"
    }
   ],
   "source": [
    "plt.hist(wait_time_sample)\n",
    "plt.xlabel('Count')\n",
    "plt.xlabel('Toll wait time (min.)')\n",
    "plt.title('N = 50 sample histogram')\n",
    "plt.show()\n"
   ]
  },
  {
   "cell_type": "markdown",
   "metadata": {
    "slideshow": {
     "slide_type": "subslide"
    }
   },
   "source": [
    "Obviously, not normal distributed."
   ]
  },
  {
   "cell_type": "markdown",
   "metadata": {
    "slideshow": {
     "slide_type": "slide"
    }
   },
   "source": [
    "- Want statistics/uncertainty of the **sample mean** as we repeat for many trials of samples with N = 50."
   ]
  },
  {
   "cell_type": "markdown",
   "metadata": {
    "slideshow": {
     "slide_type": "fragment"
    }
   },
   "source": [
    "$$ \\bar{T} = \\frac{1}{N}\\sum_{i=1}^{N}T_i $$\n",
    "\n",
    "- Here N = 50\n",
    "- Apart from factor of (1/N), this is a sum of random variables!"
   ]
  },
  {
   "cell_type": "markdown",
   "metadata": {
    "slideshow": {
     "slide_type": "slide"
    }
   },
   "source": [
    "##### Create a list of 10,000 trials of these N = 50 samples from exponential distribution:\n",
    "- get $N = 50$ sample\n",
    "- get mean of times in small sample (this is a statistic $\\bar{T}$)\n",
    "- Do this 10,0000 times"
   ]
  },
  {
   "cell_type": "code",
<<<<<<< HEAD
   "execution_count": 21,
=======
   "execution_count": 73,
>>>>>>> 6cfcfafa8f829c2ddfd8128bd8c9f3d02c707c68
   "metadata": {
    "scrolled": false,
    "slideshow": {
     "slide_type": "subslide"
    }
   },
   "outputs": [
    {
     "data": {
      "text/plain": [
<<<<<<< HEAD
       "[array([2.53906666, 3.21990922, 1.57153355, 1.99233102, 1.77091973,\n",
       "        1.80182443, 2.15542139, 1.95654784, 3.60871032, 3.36364673,\n",
       "        4.79766903, 2.69437366, 3.86407932, 1.56150358, 2.87047545,\n",
       "        3.82289688, 2.93322265, 3.62164865, 2.20197715, 1.53811462,\n",
       "        3.77581448, 5.30761895, 4.91432236, 3.00027147, 1.52075181,\n",
       "        3.43661388, 1.66416581, 1.86760995, 5.0195149 , 8.27366983,\n",
       "        2.28623199, 1.97650806, 5.69605069, 2.17999936, 3.14884628,\n",
       "        2.29693744, 1.8626246 , 1.90429585, 3.39287948, 3.2074407 ,\n",
       "        2.13375352, 2.87453326, 1.50612247, 4.06845582, 1.59183005,\n",
       "        1.70230813, 2.20538978, 2.88485203, 5.1295713 , 2.95465585]),\n",
       " array([ 1.78356422,  2.52031789,  2.99208687,  2.341879  ,  2.49579179,\n",
       "         4.55779502,  2.70969414,  2.12533226,  1.94029544,  1.55125747,\n",
       "         2.66945662,  2.97312215,  5.43636021, 10.85260966,  1.81952389,\n",
       "         2.13810456,  5.27511944,  4.49659417,  2.39566195,  2.16169478,\n",
       "         1.97607478,  3.48628885,  2.27310866,  1.51606021,  2.23081841,\n",
       "         5.08697872,  2.6891002 ,  4.43919459,  4.01824551,  2.68312301,\n",
       "         1.58277541,  6.64065376,  1.59243487,  2.28956572,  1.64649295,\n",
       "         1.54491805,  5.43511232,  4.91048975,  2.41547306,  2.09722566,\n",
       "         2.3095851 ,  1.94779266,  1.69434256,  1.89820873,  2.66121884,\n",
       "         3.74885787,  2.53567078,  2.50852601,  3.25502147,  2.48026062])]"
      ]
     },
     "execution_count": 21,
=======
       "[array([2.98732598, 2.13362626, 2.75558341, 1.94918994, 1.65365304,\n",
       "        2.05855431, 7.4353908 , 2.25934828, 3.17079038, 3.000161  ,\n",
       "        1.65872301, 1.6466048 , 3.61486846, 2.13878863, 2.03772098,\n",
       "        4.63414926, 1.96198023, 2.7273505 , 5.96706437, 3.85026486,\n",
       "        6.75467814, 2.19759468, 3.5588041 , 4.61072082, 2.42435556,\n",
       "        3.02466653, 2.11818316, 2.98730028, 2.92544715, 3.30695333,\n",
       "        3.04205685, 3.03416382, 2.59264536, 6.6021911 , 6.32308266,\n",
       "        1.88099121, 6.18764602, 5.78281575, 2.2485276 , 3.12275271,\n",
       "        9.00765986, 2.72434749, 2.00303053, 2.33641259, 3.94903739,\n",
       "        3.00836252, 2.46062844, 1.96728377, 3.83170193, 2.80312245]),\n",
       " array([2.05614803, 1.58903015, 4.25923207, 7.85107052, 1.53697275,\n",
       "        1.86550358, 1.7966724 , 1.64869737, 1.66301944, 1.74963071,\n",
       "        2.29397601, 1.96390439, 3.45292443, 3.78367899, 1.73479102,\n",
       "        2.0881718 , 1.88616967, 1.52906949, 2.17782069, 1.52626526,\n",
       "        3.94713998, 2.29169945, 1.6546266 , 2.5076663 , 1.84935244,\n",
       "        4.39721636, 2.35659859, 1.75738827, 1.64682965, 2.13962303,\n",
       "        3.39941643, 1.66092486, 2.552473  , 2.9217831 , 2.93569133,\n",
       "        1.56489679, 3.38135286, 2.07111573, 8.66117103, 1.79138294,\n",
       "        5.29908769, 1.72422929, 3.12545617, 2.14485191, 2.63150187,\n",
       "        2.1713918 , 2.63183614, 1.77092661, 1.95942743, 1.59836535])]"
      ]
     },
     "execution_count": 73,
>>>>>>> 6cfcfafa8f829c2ddfd8128bd8c9f3d02c707c68
     "metadata": {},
     "output_type": "execute_result"
    }
   ],
   "source": [
    "pop_mean = 3\n",
    "many_sample_trials = [expon.rvs(loc = pop_mean/2, scale = pop_mean/2, size = 50) for trial in range(10000)]\n",
    "many_sample_trials[0:2]"
   ]
  },
  {
   "cell_type": "markdown",
   "metadata": {
    "slideshow": {
     "slide_type": "slide"
    }
   },
   "source": [
    "Return list of 10,000 sample means:"
   ]
  },
  {
   "cell_type": "code",
<<<<<<< HEAD
   "execution_count": 22,
   "metadata": {},
=======
   "execution_count": 75,
   "metadata": {
    "slideshow": {
     "slide_type": "-"
    }
   },
>>>>>>> 6cfcfafa8f829c2ddfd8128bd8c9f3d02c707c68
   "outputs": [
    {
     "data": {
      "text/plain": [
       "[3.3691660459098607,\n",
       " 2.5799634358572474,\n",
       " 3.196452028200891,\n",
       " 2.9693166761928143,\n",
       " 2.797580390017855,\n",
       " 2.9937314744262107,\n",
       " 2.6837335362341475,\n",
       " 2.826927038763929,\n",
       " 3.3069420181242153,\n",
       " 3.1641190404142447,\n",
       " 3.1858859265760566,\n",
       " 3.289541024677825,\n",
       " 2.6639428041271533,\n",
       " 3.183546210887708,\n",
       " 3.0175923569070577,\n",
       " 2.834244300397711,\n",
       " 2.9497395674036992,\n",
       " 2.808938852728195,\n",
       " 2.9132078538562554,\n",
       " 2.6838154701436285,\n",
       " 2.9524169349381766,\n",
       " 3.3034653027654404,\n",
       " 3.105426500212771,\n",
       " 2.663743403359995,\n",
       " 2.9057687004815365,\n",
       " 3.028001635976512,\n",
       " 2.771850873536406,\n",
       " 2.994951679661043,\n",
       " 3.3119048749019844,\n",
       " 2.607493552956658,\n",
       " 2.446365166888625,\n",
       " 2.8794158565051937,\n",
       " 2.9326676245538232,\n",
       " 2.8761041667597453,\n",
       " 3.3089091276875577,\n",
       " 3.1386024373478643,\n",
       " 2.7677891058985757,\n",
       " 2.9821917914828773,\n",
       " 3.137756219567825,\n",
       " 2.926863566276096,\n",
       " 2.7242203385078367,\n",
       " 3.157162995709247,\n",
       " 2.623848395273504,\n",
       " 2.7404221236092745,\n",
       " 3.3719431423727797,\n",
       " 3.1095531094381026,\n",
       " 3.1142172927617393,\n",
       " 2.851756033779023,\n",
       " 3.198131575134064,\n",
       " 3.2409003053324006,\n",
       " 3.0078757988759355,\n",
       " 3.0441135017291363,\n",
       " 3.205351441272667,\n",
       " 3.2546753345648343,\n",
       " 3.1806345841028385,\n",
       " 2.9872136842469956,\n",
       " 2.550727807750837,\n",
       " 3.1427434318545413,\n",
       " 2.8231285737777023,\n",
       " 2.545316661339924,\n",
       " 2.9826082167438583,\n",
       " 2.6682532760281594,\n",
       " 3.4684851953262648,\n",
       " 2.779451533825606,\n",
       " 3.0496261941494667,\n",
       " 2.812427434917428,\n",
       " 3.1435001035941585,\n",
       " 3.2239768662113786,\n",
       " 2.767390879947038,\n",
       " 3.1964646671172376,\n",
       " 3.119303993623096,\n",
       " 2.9021926642233136,\n",
       " 2.91264381400853,\n",
       " 3.351570302377762,\n",
       " 3.191674734548083,\n",
       " 2.8316463304721036,\n",
       " 3.0970524296776683,\n",
       " 3.195792752227606,\n",
       " 3.155460632127935,\n",
       " 3.1298646733577478,\n",
       " 2.8594643230838055,\n",
       " 2.8674597243067224,\n",
       " 2.88319345128568,\n",
       " 3.245059881911887,\n",
       " 3.0978691092079083,\n",
       " 2.9669829013094575,\n",
       " 2.979562110923479,\n",
       " 2.617878556718472,\n",
       " 2.971528589924239,\n",
       " 3.0395507105176653,\n",
       " 2.810162701619867,\n",
       " 3.0049104360895234,\n",
       " 2.95655418207838,\n",
       " 2.816834054295274,\n",
       " 2.873185752513468,\n",
       " 3.271376267373429,\n",
       " 3.0536976235192355,\n",
       " 2.970445755028134,\n",
       " 2.7662049493889005,\n",
       " 2.9877209901995156,\n",
       " 3.2446551597217757,\n",
       " 2.8868012563438605,\n",
       " 3.457623212780488,\n",
       " 2.9123451328528653,\n",
       " 3.158887965819636,\n",
       " 3.1381359422453348,\n",
       " 2.6535341294753074,\n",
       " 2.9765776043486163,\n",
       " 3.0691206599658183,\n",
       " 2.7919814939371315,\n",
       " 2.904332593234461,\n",
       " 2.9411624390899043,\n",
       " 3.419475170623021,\n",
       " 3.267926147688054,\n",
       " 3.1933590133057623,\n",
       " 2.891492439515767,\n",
       " 2.712637286987734,\n",
       " 2.914995822209304,\n",
       " 3.1127200797257917,\n",
       " 2.9458718023998824,\n",
       " 2.782562135296777,\n",
       " 2.8381713918264397,\n",
       " 3.2178375410333477,\n",
       " 3.074554264079544,\n",
       " 2.720524160243952,\n",
       " 3.122374508622349,\n",
       " 3.08075932445785,\n",
       " 2.7068104731398743,\n",
       " 2.7436336704139803,\n",
       " 3.2207058269549123,\n",
       " 2.9248863210705593,\n",
       " 3.2063532333607236,\n",
       " 2.7561411950283143,\n",
       " 2.759236937459101,\n",
       " 2.554057951825874,\n",
       " 2.675188296848882,\n",
       " 3.03253078583409,\n",
       " 3.153166878805136,\n",
       " 3.0979949642538935,\n",
       " 2.9551408186781214,\n",
       " 3.6700598426751627,\n",
       " 2.8583218948622737,\n",
       " 3.0623174020231763,\n",
       " 2.7837611909900217,\n",
       " 2.8016690913500035,\n",
       " 2.836432001493269,\n",
       " 3.017381152954432,\n",
       " 3.422834143923843,\n",
       " 2.9828771437199038,\n",
       " 2.9703659632656265,\n",
       " 3.102408935406994,\n",
       " 3.1292721975698274,\n",
       " 3.1596941253210855,\n",
       " 3.280261664559339,\n",
       " 2.9880899762918274,\n",
       " 2.88694705919975,\n",
       " 2.9388156485148134,\n",
       " 3.062377208202986,\n",
       " 2.7394708211800185,\n",
       " 2.8392159938522967,\n",
       " 3.245890603183776,\n",
       " 2.779895476528822,\n",
       " 3.303035920387783,\n",
       " 2.9298748700623465,\n",
       " 3.1421255473407625,\n",
       " 2.8651672321204025,\n",
       " 3.1209568472829092,\n",
       " 2.5718020639575014,\n",
       " 3.076135976999293,\n",
       " 2.8522585854635194,\n",
       " 2.868310007394312,\n",
       " 2.756005524412558,\n",
       " 2.970138367352163,\n",
       " 3.0654958965890646,\n",
       " 3.418830174557884,\n",
       " 3.0396866175731536,\n",
       " 3.0335180219538675,\n",
       " 3.4643915226685436,\n",
       " 3.038270499292212,\n",
       " 3.1281351698029187,\n",
       " 3.4277511908299743,\n",
       " 2.9857586883617278,\n",
       " 2.7323935060889193,\n",
       " 3.0049218409041565,\n",
       " 2.842543768107112,\n",
       " 2.723991135569252,\n",
       " 3.3172888391290614,\n",
       " 3.00208130305507,\n",
       " 2.786510669565907,\n",
       " 2.644246717498445,\n",
       " 3.0109525405766053,\n",
       " 2.6981416406996397,\n",
       " 2.9458351427973537,\n",
       " 3.370899951794088,\n",
       " 3.1595004704184184,\n",
       " 2.821502004506066,\n",
       " 2.701096810073801,\n",
       " 3.559691636594978,\n",
       " 3.20536245784793,\n",
       " 3.045408308568554,\n",
       " 2.893727427935983,\n",
       " 2.8066591053898384,\n",
       " 2.9043853980542065,\n",
       " 3.010416800415656,\n",
       " 2.8875942805297505,\n",
       " 3.0228897138714332,\n",
       " 2.9633294963913306,\n",
       " 2.838978435985265,\n",
       " 3.403462685253621,\n",
       " 2.753496255953049,\n",
       " 2.850673152497096,\n",
       " 3.024049044050315,\n",
       " 3.084406449098418,\n",
       " 2.6808805125450808,\n",
       " 3.00634833091229,\n",
       " 3.49213103588306,\n",
       " 2.846696579475433,\n",
       " 2.943584291150163,\n",
       " 3.0200817941381812,\n",
       " 2.985170087793275,\n",
       " 3.2789210038659276,\n",
       " 2.7327406459089754,\n",
       " 2.9763950249216173,\n",
       " 3.1207736156029697,\n",
       " 2.7455394602607326,\n",
       " 2.6050612046778094,\n",
       " 2.758846980463628,\n",
       " 2.8958970255501457,\n",
       " 3.3004389841615076,\n",
       " 3.1976729502603916,\n",
       " 3.18452617033065,\n",
       " 2.8897547138345896,\n",
       " 3.370053369397811,\n",
       " 2.719293374320626,\n",
       " 2.7908115657278434,\n",
       " 3.375906195401868,\n",
       " 3.15684408051179,\n",
       " 2.7460681117973924,\n",
       " 2.7233802655889856,\n",
       " 2.8648623619435476,\n",
       " 3.076460057570185,\n",
       " 3.0642925545118502,\n",
       " 3.3088520646083306,\n",
       " 3.1071186176861105,\n",
       " 2.872446171143953,\n",
       " 3.0982687191922107,\n",
       " 2.9409416656926264,\n",
       " 2.7140396689276396,\n",
       " 2.7479096982825975,\n",
       " 3.3081342238621123,\n",
       " 3.401463216367993,\n",
       " 2.9341162645483845,\n",
       " 2.9602964718117373,\n",
       " 2.7120240330459717,\n",
       " 2.8472791311441714,\n",
       " 2.8578336870793044,\n",
       " 2.840056007370717,\n",
       " 2.80818871236575,\n",
       " 3.5342705525948697,\n",
       " 3.2526713103987084,\n",
       " 2.875909945876223,\n",
       " 3.205774872704603,\n",
       " 3.074040557757146,\n",
       " 3.181577312088171,\n",
       " 3.1250207333909374,\n",
       " 2.934282318471061,\n",
       " 2.9096246023109504,\n",
       " 3.114305264263553,\n",
       " 3.0832083492197024,\n",
       " 3.262601449933567,\n",
       " 3.3042254344939943,\n",
       " 2.8293981675444133,\n",
       " 2.7527556631044474,\n",
       " 3.2709391933145127,\n",
       " 3.108220097434918,\n",
       " 2.859669013090737,\n",
       " 3.1491394990633994,\n",
       " 3.1159658150421654,\n",
       " 3.173806990059918,\n",
       " 2.952468379677039,\n",
       " 2.7497431183122854,\n",
       " 3.120888147985955,\n",
       " 3.2945585811211653,\n",
       " 2.786088142536919,\n",
       " 2.876741942990954,\n",
       " 3.125946747001833,\n",
       " 2.9423072125091796,\n",
       " 2.9344704028504185,\n",
       " 2.6631209728400576,\n",
       " 2.8360663049381936,\n",
       " 3.1817142881850717,\n",
       " 2.7592371868710917,\n",
       " 2.7712456777202523,\n",
       " 2.632127233401554,\n",
       " 3.0092456270556376,\n",
       " 2.672272961455375,\n",
       " 2.7220550545634326,\n",
       " 2.9709414430391066,\n",
       " 2.8679504703927448,\n",
       " 2.669952969142076,\n",
       " 2.839704982346137,\n",
       " 2.920750526031452,\n",
       " 2.9793787206286435,\n",
       " 3.2078470016754674,\n",
       " 2.5607186202981866,\n",
       " 3.1900241891697103,\n",
       " 2.8406007070994317,\n",
       " 3.190175831803094,\n",
       " 3.0417953825403607,\n",
       " 2.976973285953438,\n",
       " 2.9380719412505125,\n",
       " 3.123376659235154,\n",
       " 3.090137118294373,\n",
       " 3.1828622887895768,\n",
       " 2.81288116483997,\n",
       " 3.0324938284172345,\n",
       " 3.1145724592255415,\n",
       " 2.4713635394062816,\n",
       " 3.4348703574943396,\n",
       " 3.297361436217414,\n",
       " 3.142486998111733,\n",
       " 2.860696310569301,\n",
       " 3.187698804383788,\n",
       " 3.0008813264624945,\n",
       " 2.5313262494676763,\n",
       " 3.024989445710977,\n",
       " 3.1544585167117107,\n",
       " 3.037930070456468,\n",
       " 3.2486857606075636,\n",
       " 3.019927126536195,\n",
       " 2.719124036540757,\n",
       " 2.888777190524398,\n",
       " 2.960945876213998,\n",
       " 3.070338301164262,\n",
       " 2.6396795944182285,\n",
       " 3.158319738400587,\n",
       " 3.0668546472865383,\n",
       " 2.9733848837434804,\n",
       " 2.9110990358202025,\n",
       " 3.060385915955817,\n",
       " 2.8724400638685883,\n",
       " 3.292478834933691,\n",
       " 2.84026884777009,\n",
       " 3.316811792168364,\n",
       " 2.998559988522589,\n",
       " 3.2950785050060194,\n",
       " 3.1914106916879446,\n",
       " 3.0989063586133194,\n",
       " 2.8147219478740415,\n",
       " 3.0675056782209107,\n",
       " 3.0603400221906556,\n",
       " 2.83604595677162,\n",
       " 3.119778944567153,\n",
       " 2.903321705259277,\n",
       " 2.7700753984181374,\n",
       " 3.2813596484574172,\n",
       " 3.124315088850951,\n",
       " 2.811394311789629,\n",
       " 2.941188548637899,\n",
       " 2.9081441764197358,\n",
       " 3.205666776825207,\n",
       " 2.832679888388301,\n",
       " 2.9157791375619384,\n",
       " 3.0369577336136717,\n",
       " 2.8635934560636556,\n",
       " 3.2449501047578786,\n",
       " 3.0839098751492897,\n",
       " 2.674134169349428,\n",
       " 2.6110781906020373,\n",
       " 3.0260458634210186,\n",
       " 2.8167153129569162,\n",
       " 2.956574847390463,\n",
       " 2.8909478344006585,\n",
       " 2.935634964289517,\n",
       " 3.0857659159756254,\n",
       " 3.113687288431163,\n",
       " 3.4066742077942074,\n",
       " 2.982026011463101,\n",
       " 3.1211744860372703,\n",
       " 2.9330402130933844,\n",
       " 2.9158565307837683,\n",
       " 2.59814329409712,\n",
       " 2.905579011436195,\n",
       " 3.0221344335013125,\n",
       " 2.8199964561507618,\n",
       " 2.585939736666779,\n",
       " 2.6574802238536046,\n",
       " 2.4928130512030546,\n",
       " 3.052647671069646,\n",
       " 3.0853990247427565,\n",
       " 3.047286274407354,\n",
       " 3.3357300559214957,\n",
       " 2.7035700578352544,\n",
       " 2.9305055016545096,\n",
       " 3.404628242177075,\n",
       " 2.9405152846851523,\n",
       " 3.1528949484983833,\n",
       " 2.5488764266109554,\n",
       " 3.1299790183643235,\n",
       " 2.916091376362309,\n",
       " 3.0881649175291597,\n",
       " 2.642431117977489,\n",
       " 3.1284950239659133,\n",
       " 3.097098992307002,\n",
       " 2.577165627587558,\n",
       " 2.5733690463038608,\n",
       " 3.1527792336321196,\n",
       " 3.159590246564041,\n",
       " 2.968129904644597,\n",
       " 2.894275569663948,\n",
       " 2.8426900251474816,\n",
       " 2.938238956030818,\n",
       " 3.0448937427524543,\n",
       " 3.088987675470096,\n",
       " 3.032058832894844,\n",
       " 3.0556206721000603,\n",
       " 3.008287099460314,\n",
       " 2.876150894175706,\n",
       " 3.0292630725796936,\n",
       " 3.1084583767014875,\n",
       " 2.9689907624766634,\n",
       " 2.8233611895861164,\n",
       " 2.944247377897713,\n",
       " 3.007212740919925,\n",
       " 2.871940548200434,\n",
       " 3.0314674446311756,\n",
       " 3.0338018010950982,\n",
       " 2.9783816935442307,\n",
       " 2.9614210913346666,\n",
       " 3.084886999551792,\n",
       " 2.9630754584640666,\n",
       " 3.4105815166676665,\n",
       " 3.0487923197016107,\n",
       " 2.8924930882745876,\n",
       " 2.860620748803059,\n",
       " 2.6427079408275342,\n",
       " 2.747008452463622,\n",
       " 2.677396471206531,\n",
       " 3.3203456777954803,\n",
       " 2.6418936788080054,\n",
       " 3.1179422848856335,\n",
       " 3.049796705031076,\n",
       " 3.1149917549006836,\n",
       " 2.5207744496083286,\n",
       " 2.876639619889255,\n",
       " 3.0114595979857213,\n",
       " 2.941569091865205,\n",
       " 2.7830222817549126,\n",
       " 2.8739232115817326,\n",
       " 2.734779032897087,\n",
       " 3.107092478826618,\n",
       " 3.407994113177497,\n",
       " 3.2271487097461162,\n",
       " 3.078388984812286,\n",
       " 2.7748094278293656,\n",
       " 3.0314935047522567,\n",
       " 2.748603068510008,\n",
       " 2.747274583551211,\n",
       " 2.952930372641648,\n",
       " 2.850267752990837,\n",
       " 2.7498172068965845,\n",
       " 3.152913301443294,\n",
       " 3.235439149448482,\n",
       " 3.0365235535612634,\n",
       " 2.8824961585337525,\n",
       " 2.7402355071781077,\n",
       " 2.925966533295455,\n",
       " 2.993217826908031,\n",
       " 3.0192366754067597,\n",
       " 3.1002235030169443,\n",
       " 3.2793053663737033,\n",
       " 3.283953618617064,\n",
       " 3.06210701386881,\n",
       " 2.9753206530186715,\n",
       " 2.6768295955873675,\n",
       " 3.070424945636055,\n",
       " 3.059861886105489,\n",
       " 3.2654217958555085,\n",
       " 2.994716197793902,\n",
       " 2.835643980061682,\n",
       " 3.184899296282887,\n",
       " 2.9561467525222804,\n",
       " 3.0147646382554125,\n",
       " 2.8485140740202453,\n",
       " 3.080104081978497,\n",
       " 2.947315897079367,\n",
       " 3.0988301016145243,\n",
       " 2.739706725975195,\n",
       " 2.915919887001211,\n",
       " 3.2208001539951154,\n",
       " 3.0714670327646005,\n",
       " 2.921739663970774,\n",
       " 3.2738630305786205,\n",
       " 3.179525919752486,\n",
       " 2.9826440764481466,\n",
       " 2.813733748969658,\n",
       " 3.0965063223304115,\n",
       " 2.953219790049352,\n",
       " 2.77467154454682,\n",
       " 2.810864386462331,\n",
       " 3.051734703329526,\n",
       " 3.043810797548934,\n",
       " 2.915975942864669,\n",
       " 3.1648692763368684,\n",
       " 3.2237625395222063,\n",
       " 2.9164415672356165,\n",
       " 3.485763857825848,\n",
       " 3.178817858739119,\n",
       " 3.2293245605229557,\n",
       " 2.8185322780715243,\n",
       " 2.813545791853024,\n",
       " 2.6953417943105116,\n",
       " 2.9392351691270453,\n",
       " 2.9215161717963083,\n",
       " 2.933457253707597,\n",
       " 2.987524815481485,\n",
       " 2.862959880503448,\n",
       " 2.798527982062381,\n",
       " 2.91298035535887,\n",
       " 2.7480081565782495,\n",
       " 2.9317293139890386,\n",
       " 3.1373548076589675,\n",
       " 2.6059583005830977,\n",
       " 3.175831813751972,\n",
       " 2.9632566721564224,\n",
       " 3.4638140054041355,\n",
       " 3.0496283029865805,\n",
       " 3.0615264831458036,\n",
       " 3.155754048829804,\n",
       " 2.740278112000965,\n",
       " 3.103089697759937,\n",
       " 2.9610026422770073,\n",
       " 2.837441358872679,\n",
       " 2.831031375904397,\n",
       " 3.0011988488118497,\n",
       " 2.842566498480923,\n",
       " 3.149358476963006,\n",
       " 2.972057998151245,\n",
       " 2.9417713414328177,\n",
       " 2.8892189726209523,\n",
       " 3.204602714469687,\n",
       " 3.1590589289036486,\n",
       " 3.3916256885111626,\n",
       " 2.841754877679365,\n",
       " 3.36978804567132,\n",
       " 2.693118923988073,\n",
       " 2.8384719174425883,\n",
       " 3.0382515914071826,\n",
       " 2.712190210953123,\n",
       " 3.0726644627568955,\n",
       " 3.0469032582497175,\n",
       " 2.8467327741851847,\n",
       " 3.2525729771630383,\n",
       " 3.2031068266624576,\n",
       " 3.01724542727414,\n",
       " 3.0606263764614567,\n",
       " 2.879545653113484,\n",
       " 2.9037264259205444,\n",
       " 2.9488181971423923,\n",
       " 3.2119877790751237,\n",
       " 3.2607281119419116,\n",
       " 3.2474773593144963,\n",
       " 3.1598569805934034,\n",
       " 2.97200500504325,\n",
       " 2.785406171750115,\n",
       " 2.8484543657674117,\n",
       " 2.914174718236875,\n",
       " 2.926265485806092,\n",
       " 3.007630608197564,\n",
       " 2.7609351387123553,\n",
       " 3.143063054741698,\n",
       " 3.1070624653358188,\n",
       " 3.2030221658959435,\n",
       " 3.1246014935046964,\n",
       " 3.207912383231628,\n",
       " 2.5618669542836834,\n",
       " 2.955118044363599,\n",
       " 2.6910292389207693,\n",
       " 3.0149387574422493,\n",
       " 2.9073518099464426,\n",
       " 2.670700940847247,\n",
       " 2.976387234126558,\n",
       " 2.88557973523309,\n",
       " 2.888522809100394,\n",
       " 3.042762226684932,\n",
       " 2.990045412121342,\n",
       " 3.141781726539942,\n",
       " 2.9750284725818785,\n",
       " 2.900085405736649,\n",
       " 2.8213098381954613,\n",
       " 3.329434904677728,\n",
       " 3.132166899441674,\n",
       " 2.7559597655065,\n",
       " 2.765732564138295,\n",
       " 2.9624925245832587,\n",
       " 2.997752291647377,\n",
       " 2.8316521610587717,\n",
       " 2.830336644459669,\n",
       " 3.2107515655677106,\n",
       " 3.2197321907959364,\n",
       " 2.9812250957225843,\n",
       " 2.781577775546717,\n",
       " 3.0469886905581496,\n",
       " 2.9123225114778393,\n",
       " 3.0173935541250603,\n",
       " 3.121498477412186,\n",
       " 2.8794625009442667,\n",
       " 2.887485693464119,\n",
       " 2.7531480012785665,\n",
       " 3.0390860584597434,\n",
       " 3.1889111693612118,\n",
       " 2.9251662047678337,\n",
       " 3.3878232045102146,\n",
       " 2.872942723437072,\n",
       " 2.9746446744164325,\n",
       " 3.2794577764093242,\n",
       " 3.1483628371511685,\n",
       " 3.4196654765416485,\n",
       " 2.7309436264910945,\n",
       " 2.5343656272948745,\n",
       " 2.708728125863463,\n",
       " 3.0379465848708067,\n",
       " 2.56146390486035,\n",
       " 3.007518374827092,\n",
       " 2.8431938615231935,\n",
       " 2.7355211592928237,\n",
       " 2.7012248663293184,\n",
       " 3.12431253327003,\n",
       " 2.988343012190439,\n",
       " 2.5318914389827687,\n",
       " 2.9290728981489935,\n",
       " 2.8427066614442396,\n",
       " 2.9079102690731817,\n",
       " 3.0471296735416944,\n",
       " 3.053589110298189,\n",
       " 3.3091319791782157,\n",
       " 3.0039683866664917,\n",
       " 2.817395119079951,\n",
       " 2.752237869653389,\n",
       " 2.9190401637214944,\n",
       " 3.1309954369640165,\n",
       " 2.909777686816582,\n",
       " 2.623053264209578,\n",
       " 3.0072328634195475,\n",
       " 2.702677540290551,\n",
       " 2.729033002252737,\n",
       " 3.140497181073333,\n",
       " 2.8242750695513545,\n",
       " 3.3764929116681053,\n",
       " 2.8663444296489153,\n",
       " 2.9059661328832993,\n",
       " 2.9540838761954222,\n",
       " 2.9450271636103493,\n",
       " 3.024871632267745,\n",
       " 3.1161875678953197,\n",
       " 2.934518268613057,\n",
       " 3.038261584168987,\n",
       " 2.9441287517032366,\n",
       " 3.1988592639479707,\n",
       " 2.791001882507021,\n",
       " 2.825847694707611,\n",
       " 3.0276885398441182,\n",
       " 2.965599346946099,\n",
       " 2.712291978803565,\n",
       " 2.8507855215423343,\n",
       " 3.061922472369289,\n",
       " 2.8680632541794284,\n",
       " 2.7152830137972006,\n",
       " 3.037857849562124,\n",
       " 2.914395473908286,\n",
       " 2.8113973390697664,\n",
       " 3.1924251878652354,\n",
       " 3.4153248023836564,\n",
       " 3.1141704203875857,\n",
       " 2.771226546063242,\n",
       " 3.1868664887662312,\n",
       " 2.7869408888889535,\n",
       " 3.2565290462157765,\n",
       " 3.009106500364028,\n",
       " 3.2975861956458106,\n",
       " 2.94926887344765,\n",
       " 2.6861584809660934,\n",
       " 3.187290499101101,\n",
       " 2.9495058073347753,\n",
       " 3.117496235845827,\n",
       " 3.5449713309204953,\n",
       " 2.9427797661789517,\n",
       " 3.080719400027033,\n",
       " 2.8678583164829377,\n",
       " 3.620082461322901,\n",
       " 2.911342115996756,\n",
       " 2.8174741510861314,\n",
       " 2.924766862868603,\n",
       " 3.004835543736895,\n",
       " 3.379347203633086,\n",
       " 3.3494189495822195,\n",
       " 2.9150687938243744,\n",
       " 2.8560992688354876,\n",
       " 2.908007738239157,\n",
       " 2.9262879504002495,\n",
       " 2.904354618943661,\n",
       " 3.1570629210322347,\n",
       " 2.793307949295408,\n",
       " 2.588470007052445,\n",
       " 2.803066939054921,\n",
       " 2.968523336561999,\n",
       " 2.571536541681266,\n",
       " 2.7503702517484667,\n",
       " 3.128198890979019,\n",
       " 3.26216589923653,\n",
       " 3.0706275190350487,\n",
       " 3.0213929516564018,\n",
       " 2.8521364791878314,\n",
       " 2.96478790163788,\n",
       " 3.157963221898501,\n",
       " 2.992646166591405,\n",
       " 3.1228287630336355,\n",
       " 2.636174109155616,\n",
       " 2.82742007338761,\n",
       " 3.215889120398079,\n",
       " 3.005928301276421,\n",
       " 2.5059263347517877,\n",
       " 3.666029079998246,\n",
       " 3.1144087728944596,\n",
       " 3.020516246906504,\n",
       " 3.1144239142392847,\n",
       " 3.116935334168616,\n",
       " 3.4958929256326057,\n",
       " 3.277294185780345,\n",
       " 3.45582035331831,\n",
       " 3.0770931852691734,\n",
       " 2.9455621705702115,\n",
       " 3.8334665053808736,\n",
       " 2.986615234515163,\n",
       " 2.800989998090716,\n",
       " 2.9238554539327777,\n",
       " 3.311444913921629,\n",
       " 3.058937317795771,\n",
       " 2.9224451639678257,\n",
       " 3.094035844021687,\n",
       " 2.538741182722463,\n",
       " 2.7324892447055165,\n",
       " 2.8666017641451504,\n",
       " 3.1973099804559473,\n",
       " 3.0969221905669473,\n",
       " 2.85971003131949,\n",
       " 2.7198430286372615,\n",
       " 3.275854161728575,\n",
       " 2.897159711498209,\n",
       " 3.240896350969989,\n",
       " 3.1936209005083485,\n",
       " 3.3190488008369683,\n",
       " 2.9951299911629166,\n",
       " 3.175699269335332,\n",
       " 2.8757157933822226,\n",
       " 2.7727818095851378,\n",
       " 3.2804116947774826,\n",
       " 3.0829542138032067,\n",
       " 2.887324323052765,\n",
       " 2.871318275684543,\n",
       " 2.8341015427085186,\n",
       " 3.1960973178057746,\n",
       " 3.0888736107470227,\n",
       " 2.7913004358104754,\n",
       " 2.8477644379255134,\n",
       " 3.137470008006913,\n",
       " 2.7322856658969426,\n",
       " 2.7795220668447116,\n",
       " 3.1126124275826323,\n",
       " 2.8860706956207047,\n",
       " 2.8102178312819865,\n",
       " 3.2648558713610445,\n",
       " 2.831504533582585,\n",
       " 2.893135082949077,\n",
       " 2.6549837522290805,\n",
       " 2.9199914468214727,\n",
       " 3.035260678895187,\n",
       " 2.9458830177586113,\n",
       " 3.1580891693598545,\n",
       " 3.18713490302233,\n",
       " 2.800224429377813,\n",
       " 2.9758690238075216,\n",
       " 3.0563182320839264,\n",
       " 2.958721601982128,\n",
       " 3.198273078263439,\n",
       " 3.1333225004959364,\n",
       " 3.255973944537563,\n",
       " 3.396784524635761,\n",
       " 3.2913857110531324,\n",
       " 2.9993859460085006,\n",
       " 2.7922895603156737,\n",
       " 2.893407233260847,\n",
       " 3.140614077236626,\n",
       " 3.132513623622917,\n",
       " 2.9397381119986297,\n",
       " 2.8023456918465155,\n",
       " 2.6356080592382716,\n",
       " 3.1853698570028137,\n",
       " 2.4749947707388085,\n",
       " 2.7359300585809563,\n",
       " 2.9499978677834697,\n",
       " 2.9003217275903537,\n",
       " 2.95099298268996,\n",
       " 2.980602581082756,\n",
       " 2.595553575943388,\n",
       " 2.6255256468240447,\n",
       " 3.0976761723743373,\n",
       " 3.105874829998673,\n",
       " 3.5111537188163506,\n",
       " 2.8245540092786503,\n",
       " 2.8370163876615044,\n",
       " 2.954257229451024,\n",
       " 3.0181564299027497,\n",
       " 2.94773934774397,\n",
       " 3.3016178609623354,\n",
       " 2.747740091032448,\n",
       " 2.913098008571456,\n",
       " 3.1730215557151404,\n",
       " 3.1999482346508397,\n",
       " 2.901045451451484,\n",
       " 3.0081148109531797,\n",
       " 3.044852039445696,\n",
       " 2.9492524864915577,\n",
       " 3.044492071262827,\n",
       " 2.8245655747418357,\n",
       " 3.0603582423223994,\n",
       " 2.9433039749685745,\n",
       " 2.851091213956812,\n",
       " 2.7167986207294694,\n",
       " 3.1622433809839148,\n",
       " 2.6979568053251177,\n",
       " 2.931902357337576,\n",
       " 2.967750463068896,\n",
       " 3.0668521953345986,\n",
       " 3.293837714914062,\n",
       " 3.107546068323405,\n",
       " 2.9537485566759,\n",
       " 2.9818742659596493,\n",
       " 2.886582623395711,\n",
       " 2.7587860408040554,\n",
       " 3.2349624513778394,\n",
       " 2.8540478188412015,\n",
       " 2.694741299300307,\n",
       " 3.306137220883839,\n",
       " 2.793297892525735,\n",
       " 2.788170313953845,\n",
       " 3.32629071550848,\n",
       " 3.053931101851173,\n",
       " 2.840329370956116,\n",
       " 2.93041322989737,\n",
       " 2.6608538863544577,\n",
       " 3.3349464836160005,\n",
       " 2.8539970028272665,\n",
       " 2.639752419358278,\n",
       " 3.205488458048202,\n",
       " 2.786886425164083,\n",
       " 3.2001761787401493,\n",
       " 3.019633602567389,\n",
       " 2.7260449411267906,\n",
       " 2.733534404197145,\n",
       " 2.842451961700139,\n",
       " 3.160095917555958,\n",
       " 2.788936120071433,\n",
       " 2.8896759478858876,\n",
       " 2.9382887074037707,\n",
       " 2.990036955373377,\n",
       " 2.9331293612306735,\n",
       " 2.999558058059759,\n",
       " 3.043380387535911,\n",
       " 3.032485056955912,\n",
       " 3.303789895639036,\n",
       " 3.1988179038349807,\n",
       " 2.9823007946722866,\n",
       " 2.9257569347916466,\n",
       " 2.958350473051096,\n",
       " 3.0106547367882595,\n",
       " 3.141936059694673,\n",
       " 2.845027115650357,\n",
       " 2.792943257991011,\n",
       " 3.143640918674377,\n",
       " 2.740433403844571,\n",
       " 2.816022145734592,\n",
       " 3.015297900822424,\n",
       " 2.7864732399110808,\n",
       " 3.1107412435391546,\n",
       " 3.076132346358569,\n",
       " 3.073119580581017,\n",
       " 2.722675046303454,\n",
       " 2.546202381285115,\n",
       " 2.7693091813357262,\n",
       " 2.996991702977941,\n",
       " 3.0660731082813215,\n",
       " 2.672448592788413,\n",
       " 3.3764700619036505,\n",
       " 2.6251247961979916,\n",
       " 2.927812973665066,\n",
       " 2.989161459346556,\n",
       " 3.2079845411776513,\n",
       " 2.8294736775450873,\n",
       " 3.209180198144115,\n",
       " 2.987564709085644,\n",
       " 2.805035151718773,\n",
       " 2.8455500613025944,\n",
       " 2.8818908478737186,\n",
       " 2.6401269590168455,\n",
       " 2.8996278631808377,\n",
       " 2.814095396587257,\n",
       " 3.007594047142037,\n",
       " 2.871360892497787,\n",
       " 2.80133353191121,\n",
       " 2.7787626006028407,\n",
       " 3.0685412883585808,\n",
       " 3.1570795547848127,\n",
       " 2.7391088475824223,\n",
       " 2.8649154010486297,\n",
       " 3.1393546650039807,\n",
       " 3.0936507643391606,\n",
       " 3.0153858393865507,\n",
       " 2.959374143616365,\n",
       " 2.9463117048464316,\n",
       " 3.2532303694517797,\n",
       " 2.777894842276097,\n",
       " 2.9807350623256186,\n",
       " 2.7591870978278994,\n",
       " 3.1160993255008425,\n",
       " 3.26798976282576,\n",
       " 2.7071765995377914,\n",
       " 3.016687212724434,\n",
       " 2.7154788422544676,\n",
       " 2.928891052359496,\n",
       " 2.7529544353579634,\n",
       " 2.904412660911918,\n",
       " 2.9820738528101707,\n",
       " 3.2096876766365323,\n",
       " 3.179421304380812,\n",
       " 2.7528772682972136,\n",
       " 3.238798146566196,\n",
       " 3.1531108182359473,\n",
       " 3.112155062669936,\n",
       " 2.9066394770561494,\n",
       " 3.2188989497919724,\n",
       " 2.6791174659786,\n",
       " 3.044308276925312,\n",
       " 3.4322233138003297,\n",
       " 3.0036484699153045,\n",
       " 2.9863772934777093,\n",
       " 2.925256369179788,\n",
       " 2.722394523492599,\n",
       " 2.7840636353517088,\n",
       " 3.1926291616599927,\n",
       " 3.1354523061404445,\n",
       " 3.307461543566484,\n",
       " 2.7730231922753945,\n",
       " 3.1462850607818167,\n",
       " 3.1232434621284004,\n",
       " 2.6084978193308928,\n",
       " 3.136658647066588,\n",
       " 2.674509891855895,\n",
       " 3.2765346663244963,\n",
       " 3.0351742816464404,\n",
       " 3.086558546627257,\n",
       " 2.8877576768401876,\n",
       " 2.6882864103415574,\n",
       " 3.402343163775955,\n",
       " 3.0207948979239916,\n",
       " 2.968953792672954,\n",
       " 2.970768039871736,\n",
       " 2.8618183149295917,\n",
       " 3.0389813423690084,\n",
       " 3.1936286547735024,\n",
       " 3.0244274567755616,\n",
       " 2.5472174689293383,\n",
       " 2.7092513486121277,\n",
       " 3.000076513888979,\n",
       " 3.425147259857375,\n",
       " 3.280035339697,\n",
       " 2.507232324840464,\n",
       " 3.01751961107444,\n",
       " 3.1846334754373284,\n",
       " 3.3393643704359848,\n",
       " 3.6412497562059682,\n",
       " 2.860522265440789,\n",
       " 2.692500835206377,\n",
       " 3.0053932841111815,\n",
       " 2.7357820727113187,\n",
       " 3.054385252339015,\n",
       " 2.873134799065895,\n",
       " 3.450269224583227,\n",
       " 2.5585837730271184,\n",
       " 2.8100497237189486,\n",
       " 3.401262852851951,\n",
       " 2.987376239824093,\n",
       " 3.043764414489873,\n",
       " 2.9336756810161044,\n",
       " 3.0806869415433478,\n",
       " 2.935995084140694,\n",
       " 3.120671844637498,\n",
       " 3.0963105291961557,\n",
       " 2.817446443105384,\n",
       " 3.0030935324860257,\n",
       " ...]"
      ]
     },
<<<<<<< HEAD
     "execution_count": 22,
=======
     "execution_count": 75,
>>>>>>> 6cfcfafa8f829c2ddfd8128bd8c9f3d02c707c68
     "metadata": {},
     "output_type": "execute_result"
    }
   ],
   "source": [
    "sample_mean_list = [sample.mean() for sample in many_sample_trials]\n",
    "len(sample_mean_list)\n",
    "sample_mean_list"
   ]
  },
  {
   "cell_type": "markdown",
   "metadata": {
    "cell_style": "split",
    "slideshow": {
     "slide_type": "slide"
    }
   },
   "source": [
    "What does the distribution of means look like?\n",
    "\n",
    "$$ \\bar{T} = \\frac{1}{N}\\sum_{i=1}^{N}T_i $$"
   ]
  },
  {
   "cell_type": "markdown",
   "metadata": {
    "cell_style": "split",
    "slideshow": {
     "slide_type": "fragment"
    }
   },
   "source": [
    "Note: mean is sum of random variables drawn from exponential distribution up to a factor"
   ]
  },
  {
   "cell_type": "markdown",
   "metadata": {
    "slideshow": {
     "slide_type": "fragment"
    }
   },
   "source": [
    "Construct histogram of $\\bar{T}$:"
   ]
  },
  {
   "cell_type": "code",
<<<<<<< HEAD
   "execution_count": 23,
=======
   "execution_count": 42,
>>>>>>> 6cfcfafa8f829c2ddfd8128bd8c9f3d02c707c68
   "metadata": {
    "slideshow": {
     "slide_type": "fragment"
    }
   },
   "outputs": [
    {
     "data": {
<<<<<<< HEAD
      "image/png": "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\n",
=======
      "image/png": "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\n",
>>>>>>> 6cfcfafa8f829c2ddfd8128bd8c9f3d02c707c68
      "text/plain": [
       "<Figure size 432x288 with 1 Axes>"
      ]
     },
     "metadata": {
      "needs_background": "light"
     },
     "output_type": "display_data"
    }
   ],
   "source": [
    "plt.hist(sample_mean_list, bins = \"auto\")\n",
    "plt.show()"
   ]
  },
  {
   "cell_type": "markdown",
   "metadata": {
    "slideshow": {
     "slide_type": "slide"
    }
   },
   "source": [
    "**The distribution of mean of a sample follow normal distribution**\n",
    "\n",
    "- Regardless of underlying population distribution.\n",
    "\n",
    "This is a very large reason why normal distribution is so important!"
   ]
  },
  {
   "cell_type": "markdown",
   "metadata": {
    "cell_style": "center",
    "slideshow": {
     "slide_type": "slide"
    }
   },
   "source": [
    "#### Standard Normal Distribution"
   ]
  },
  {
   "cell_type": "markdown",
   "metadata": {
    "cell_style": "split",
    "slideshow": {
     "slide_type": "fragment"
    }
   },
   "source": [
    "- Often useful to rescale normal by mean/std.\n",
    "- New rescaled normal has mean of 0 and variance of 1.\n",
    "- Z-distribution."
   ]
  },
  {
   "cell_type": "markdown",
   "metadata": {
    "cell_style": "split",
    "hidden": true,
    "slideshow": {
     "slide_type": "fragment"
    }
   },
   "source": [
    "We simply subtract the mean $\\mu$ from each value and then divide by the standard deviation $\\sigma$:\n",
    "\n",
    "$$z = \\frac{x - \\mu}{\\sigma}$$\n",
    "\n",
    "We call this process **standardization**."
   ]
  },
  {
   "cell_type": "markdown",
   "metadata": {
    "cell_style": "split",
    "slideshow": {
     "slide_type": "subslide"
    }
   },
   "source": [
    "Mathematical form for pdf:\n",
    "$$ N(x | \\mu, \\sigma^2) = \\frac{1}{\\sqrt{2\\pi\\sigma^2}} e^{-\\frac{(x-\\mu)^2}{2\\sigma^2}} $$\n",
    "\n",
    "- $\\mu$ is mean.\n",
    "- $\\sigma$ is standard deviation."
   ]
  },
  {
   "cell_type": "markdown",
   "metadata": {
    "cell_style": "split",
    "slideshow": {
     "slide_type": "fragment"
    }
   },
   "source": [
    "Scaled transformation:\n",
    "$$ \\frac{1}{\\sqrt{2\\pi}}e^{-\\frac{z^2}{2}} $$"
   ]
  },
  {
   "cell_type": "markdown",
   "metadata": {
    "slideshow": {
     "slide_type": "subslide"
    }
   },
   "source": [
    "<center><img src = \"Images/rescale_normal.png\" width = 500></center>"
   ]
  },
  {
   "cell_type": "markdown",
   "metadata": {
    "heading_collapsed": true,
    "hidden": true,
    "slideshow": {
     "slide_type": "slide"
    }
   },
   "source": [
    "#### $z$-Score: why this transformation is useful"
   ]
  },
  {
   "cell_type": "markdown",
   "metadata": {
    "cell_style": "split",
    "hidden": true,
    "slideshow": {
     "slide_type": "slide"
    }
   },
   "source": [
    "A **$z$-score** for a data point $x$ (in a normal distribution) is simply the distance to the mean in units of standard deviations\n",
    "\n",
    "$$\\large z = \\frac{x - \\mu}{\\sigma}$$\n",
    "\n",
    "Transforming observations on original scale to z-score:\n",
    "- we can see how unlikely a value is. \n",
    "- i.e. how many stds away from center of normal"
   ]
  },
  {
   "cell_type": "markdown",
   "metadata": {
    "cell_style": "split",
    "slideshow": {
     "slide_type": "fragment"
    }
   },
   "source": [
    "<center><img src = \"Images/rescale_normal.png\" width = 500></center>"
   ]
  },
  {
   "cell_type": "markdown",
   "metadata": {
    "heading_collapsed": true,
    "hidden": true,
    "slideshow": {
     "slide_type": "slide"
    }
   },
   "source": [
    "#### The Empirical Rule"
   ]
  },
  {
   "cell_type": "markdown",
   "metadata": {
    "hidden": true,
    "slideshow": {
     "slide_type": "fragment"
    }
   },
   "source": [
    "- $68\\%$ of the values of a normal distribution: lie within 1 standard deviation ($\\sigma$) of the mean.\n",
    "- $95\\%$ within $2\\sigma$.\n",
    "- $99.7\\%$ within $3\\sigma$.  "
   ]
  },
  {
<<<<<<< HEAD
   "cell_type": "code",
   "execution_count": 40,
   "metadata": {},
   "outputs": [],
   "source": [
    "from scipy.stats import norm\n",
    "z_score = (11.2-5)/2"
=======
   "cell_type": "markdown",
   "metadata": {
    "slideshow": {
     "slide_type": "slide"
    }
   },
   "source": [
    "#### Using .cdf to get empirical rule:\n",
    "\n",
    "Instead of looking at empirical rule, get probability given z-score:"
   ]
  },
  {
   "cell_type": "markdown",
   "metadata": {
    "slideshow": {
     "slide_type": "subslide"
    }
   },
   "source": [
    "I have $X$ distributed normally with mean 5 and standard deviation 2:\n",
    "- How many standard deviations from center of distribution is $X = 9$?\n",
    "- What percentage of the values lie within a range $X = \\pm 9$?\n"
   ]
  },
  {
   "cell_type": "code",
   "execution_count": 76,
   "metadata": {
    "cell_style": "split",
    "slideshow": {
     "slide_type": "subslide"
    }
   },
   "outputs": [
    {
     "data": {
      "text/plain": [
       "2.0"
      ]
     },
     "execution_count": 76,
     "metadata": {},
     "output_type": "execute_result"
    }
   ],
   "source": [
    "# calculate z-score:\n",
    "z_score = (9 - 5)/2\n",
    "z_score"
   ]
  },
  {
   "cell_type": "markdown",
   "metadata": {
    "cell_style": "split",
    "slideshow": {
     "slide_type": "fragment"
    }
   },
   "source": [
    "Now want $$ P(- Z^* <= z <= Z^* ) $$"
   ]
  },
  {
   "cell_type": "markdown",
   "metadata": {
    "cell_style": "split",
    "slideshow": {
     "slide_type": "fragment"
    }
   },
   "source": [
    "which will compute empirical rule"
   ]
  },
  {
   "cell_type": "markdown",
   "metadata": {
    "slideshow": {
     "slide_type": "subslide"
    }
   },
   "source": [
    "Using the cdf:"
>>>>>>> 6cfcfafa8f829c2ddfd8128bd8c9f3d02c707c68
   ]
  },
  {
   "cell_type": "code",
<<<<<<< HEAD
   "execution_count": 41,
   "metadata": {},
=======
   "execution_count": 82,
   "metadata": {
    "cell_style": "center",
    "slideshow": {
     "slide_type": "fragment"
    }
   },
>>>>>>> 6cfcfafa8f829c2ddfd8128bd8c9f3d02c707c68
   "outputs": [
    {
     "data": {
      "text/plain": [
<<<<<<< HEAD
       "0.9980647935735634"
      ]
     },
     "execution_count": 41,
=======
       "0.9544997361036416"
      ]
     },
     "execution_count": 82,
>>>>>>> 6cfcfafa8f829c2ddfd8128bd8c9f3d02c707c68
     "metadata": {},
     "output_type": "execute_result"
    }
   ],
   "source": [
<<<<<<< HEAD
    "norm.cdf(z_score)- norm.cdf(-z_score)"
=======
    "from scipy.stats import norm\n",
    "# using cdf: probability in an interval\n",
    "empirical_rule = norm.cdf(z_score) - norm.cdf(- z_score) \n",
    "# with z-score we can use standardized normal form\n",
    "\n",
    "empirical_rule"
   ]
  },
  {
   "cell_type": "markdown",
   "metadata": {
    "slideshow": {
     "slide_type": "slide"
    }
   },
   "source": [
    "I have $X$ distributed normally with mean 5 and standard deviation 2:\n",
    "- What percentage of the values lie within a range $X = \\pm 11.2$?"
>>>>>>> 6cfcfafa8f829c2ddfd8128bd8c9f3d02c707c68
   ]
  },
  {
   "cell_type": "code",
<<<<<<< HEAD
   "execution_count": 51,
   "metadata": {},
   "outputs": [
    {
     "name": "stdout",
     "output_type": "stream",
     "text": [
      "0.0\n",
      "0.0\n",
      "0.0\n"
     ]
    }
   ],
   "source": [
    "z_score_std_1 = (11.2-5)/1\n",
    "z_score_std_3 = (11.2-5)/3\n",
    "z_score_std_5 = (11.2-5)/5\n",
    "\n",
    "print(norm.cdf(z_score_std_1)- norm.cdf(z_score_std_1))\n",
    "print(norm.cdf(z_score_std_3)- norm.cdf(z_score_std_3))\n",
    "print(norm.cdf(z_score_std_5)- norm.cdf(z_score_std_5))"
=======
   "execution_count": 86,
   "metadata": {
    "slideshow": {
     "slide_type": "slide"
    }
   },
   "outputs": [
    {
     "data": {
      "text/plain": [
       "0.9980647935735634"
      ]
     },
     "execution_count": 86,
     "metadata": {},
     "output_type": "execute_result"
    }
   ],
   "source": [
    "# calculate z-scores, use cdf\n",
    "\n",
    "z_score = (11.2 - 5)/2\n",
    "\n",
    "norm.cdf(z_score) - norm.cdf(-z_score)"
   ]
  },
  {
   "cell_type": "markdown",
   "metadata": {
    "slideshow": {
     "slide_type": "slide"
    }
   },
   "source": [
    "I have $X$ distributed normally with mean 5. Standard deviations take on 1, 3 and 5:\n",
    "- What percentage of the values lie within a range $X = \\pm 11.2$ for each standard deviation?"
>>>>>>> 6cfcfafa8f829c2ddfd8128bd8c9f3d02c707c68
   ]
  },
  {
   "cell_type": "code",
<<<<<<< HEAD
   "execution_count": 63,
   "metadata": {},
=======
   "execution_count": 90,
   "metadata": {
    "slideshow": {
     "slide_type": "fragment"
    }
   },
>>>>>>> 6cfcfafa8f829c2ddfd8128bd8c9f3d02c707c68
   "outputs": [
    {
     "name": "stdout",
     "output_type": "stream",
     "text": [
<<<<<<< HEAD
      " Percentage of values of std deviation 1 is\n",
      " Percentage of values of std deviation 6.199999999999999\n",
      "0.9999999994353683\n",
      " Percentage of values of std deviation 3 is\n",
      " Percentage of values of std deviation 2.0666666666666664\n",
      "0.9612344258223628\n",
      " Percentage of values of std deviation 5 is\n",
      " Percentage of values of std deviation 1.2399999999999998\n",
=======
      "Percentage of values of std deviation 1 is\n",
      "Percentage of values of std deviation 6.199999999999999\n",
      "0.9999999994353683\n",
      "Percentage of values of std deviation 3 is\n",
      "Percentage of values of std deviation 2.0666666666666664\n",
      "0.9612344258223628\n",
      "Percentage of values of std deviation 5 is\n",
      "Percentage of values of std deviation 1.2399999999999998\n",
>>>>>>> 6cfcfafa8f829c2ddfd8128bd8c9f3d02c707c68
      "0.7850246058508261\n"
     ]
    }
   ],
   "source": [
<<<<<<< HEAD
    "for i in range(1,6,2):\n",
    "    z_score = (11.2 - 5)/i\n",
    "    print(f\" Percentage of values of std deviation {i} is\")\n",
    "    print(f\" Percentage of values of std deviation {z_score}\")\n",
=======
    "# calculate list of z-scores, use cdf to calculate list of percentages.\n",
    "for i in range(1,6,2):\n",
    "    z_score  = (11.2 - 5)/i\n",
    "    print('Percentage of values of std deviation '+str(i)+' is')\n",
    "    # print(f\"Percentage of values of std deviation {z_score}\") (f string)\n",
>>>>>>> 6cfcfafa8f829c2ddfd8128bd8c9f3d02c707c68
    "    print(norm.cdf(z_score)-norm.cdf(-z_score))"
   ]
  }
 ],
 "metadata": {
  "celltoolbar": "Slideshow",
  "kernelspec": {
   "display_name": "Python 3",
   "language": "python",
   "name": "python3"
  },
  "language_info": {
   "codemirror_mode": {
    "name": "ipython",
    "version": 3
   },
   "file_extension": ".py",
   "mimetype": "text/x-python",
   "name": "python",
   "nbconvert_exporter": "python",
   "pygments_lexer": "ipython3",
   "version": "3.8.5"
  }
 },
 "nbformat": 4,
 "nbformat_minor": 4
}
