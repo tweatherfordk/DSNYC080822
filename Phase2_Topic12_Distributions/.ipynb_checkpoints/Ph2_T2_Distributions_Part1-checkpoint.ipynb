{
 "cells": [
  {
   "cell_type": "markdown",
   "metadata": {
    "cell_style": "center",
    "slideshow": {
     "slide_type": "slide"
    }
   },
   "source": [
    "<div style=\"color:white;\n",
    "           display:fill;\n",
    "           border-radius:5px;\n",
    "           background-color:#5642C5;\n",
    "           font-size:200%;\n",
    "           font-family:Arial;letter-spacing:0.5px\">\n",
    "\n",
    "<p width = 20%, style=\"padding: 10px;\n",
    "              color:white;\">\n",
    "Distributions: Part I\n",
    "              \n",
    "</p>\n",
    "</div>\n",
    "\n",
    "Data Science Cohort Live NYC Feb 2022\n",
    "<p>Phase 2: Topic 12</p>\n",
    "<br>\n",
    "<br>\n",
    "\n",
    "<div align = \"right\">\n",
    "<img src=\"Images/flatiron-school-logo.png\" align = \"right\" width=\"200\"/>\n",
    "</div>\n",
    "    \n",
    "    "
   ]
  },
  {
   "cell_type": "markdown",
   "metadata": {
    "hidden": true,
    "slideshow": {
     "slide_type": "subslide"
    }
   },
   "source": [
    "#### Probability distribution\n",
    "\n",
    "Representation of the frequencies of potential outcomes of experiment."
   ]
  },
  {
   "cell_type": "markdown",
   "metadata": {
    "slideshow": {
     "slide_type": "subslide"
    }
   },
   "source": [
    "#### Example case:\n",
    "    \n",
    "What is probability is that a given student at Flatiron has:\n",
    "- Age < 25.\n",
    "- 25 <= Age < 30.\n",
    "- 30 <= Age < 35.\n",
    "- 35 <= Age < 40.\n",
    "- Age >= 40"
   ]
  },
  {
   "cell_type": "markdown",
   "metadata": {
    "slideshow": {
     "slide_type": "slide"
    }
   },
   "source": [
    "#### Sample vs population\n",
    "\n",
    "<center><img src=\"Images/population_sample.png\" width=\"500\"/></center>\n",
    "\n",
    "    "
   ]
  },
  {
   "cell_type": "markdown",
   "metadata": {
    "slideshow": {
     "slide_type": "subslide"
    }
   },
   "source": [
    "\n",
    "**Population**: whole group we're interested in. Population being the whole set of possible outcomes.\n",
    "\n",
    "**Sample**: random subset picked over the population. "
   ]
  },
  {
   "cell_type": "markdown",
   "metadata": {
    "slideshow": {
     "slide_type": "slide"
    }
   },
   "source": [
    "#### One way to build probability distribution:"
   ]
  },
  {
   "cell_type": "markdown",
   "metadata": {
    "slideshow": {
     "slide_type": "fragment"
    }
   },
   "source": [
    "- Get ages of all students at Flatiron (population)\n",
    "- Bin accordingly to build probability distribution."
   ]
  },
  {
   "cell_type": "markdown",
   "metadata": {
    "slideshow": {
     "slide_type": "slide"
    }
   },
   "source": [
    "We find:"
   ]
  },
  {
   "cell_type": "markdown",
   "metadata": {
    "cell_style": "split",
    "slideshow": {
     "slide_type": "fragment"
    }
   },
   "source": [
    "\n",
    "\n",
    "Discrete example\n",
    "(binned distribution of student ages ):\n",
    "\n",
    "- $15\\%$ are under the age of $25$\n",
    "- $30\\%$ are between $25$ & $30$\n",
    "- $25\\%$ are between $30$ & $35$\n",
    "- $20\\%$ are between $35$ & $40$\n",
    "- $10\\%$ are over the age of $40$\n",
    "\n",
    "**Build probability distribution from population percentages**"
   ]
  },
  {
   "cell_type": "markdown",
   "metadata": {
    "cell_style": "split",
    "slideshow": {
     "slide_type": "fragment"
    }
   },
   "source": [
    "#### Sampling\n",
    "\n",
    "- Picking a person randomly: \n",
    "\n",
    "What is the probability that person is older than 40?"
   ]
  },
  {
   "cell_type": "markdown",
   "metadata": {
    "cell_style": "split",
    "slideshow": {
     "slide_type": "fragment"
    }
   },
   "source": [
    "$$ P = 0.1 $$"
   ]
  },
  {
   "cell_type": "markdown",
   "metadata": {
    "slideshow": {
     "slide_type": "slide"
    }
   },
   "source": [
    "#### Probability Mass Function (PMF)\n",
    "\n",
    "Probability distribution over finite outcomes. Nothing fancy."
   ]
  },
  {
   "cell_type": "code",
<<<<<<< HEAD
<<<<<<< HEAD
   "execution_count": 1,
=======
   "execution_count": 16,
>>>>>>> 2e01b332b31580e154a3b864356cdd221f7d2c62
   "metadata": {
    "slideshow": {
     "slide_type": "fragment"
    }
   },
   "outputs": [
    {
     "data": {
      "text/plain": [
       "0.0045000000000000005"
      ]
     },
     "execution_count": 16,
     "metadata": {},
     "output_type": "execute_result"
    }
   ],
   "source": [
    "from math import factorial\n",
    "\n",
    "combination_prefactor = factorial(3)/(factorial(2)*factorial(1))\n",
    "combination_prefactor*(.15)*(0.1)**2"
   ]
  },
  {
   "cell_type": "markdown",
=======
   "execution_count": 2,
>>>>>>> parent of 2e01b33... Update distribution lectures
   "metadata": {
    "slideshow": {
     "slide_type": "subslide"
    }
   },
   "outputs": [],
   "source": [
    "import pandas as pd\n",
    "import numpy as np\n",
    "outcome_df = pd.DataFrame([('<25', 0.15),('25-30', 0.3,),('30-35', 0.2,),('35-40', .25,),('>40', .1,)], columns=['Age Range', 'PMF'])"
   ]
  },
  {
   "cell_type": "markdown",
   "metadata": {
    "slideshow": {
     "slide_type": "subslide"
    }
   },
   "source": [
    "Probability mass function in table form"
   ]
  },
  {
   "cell_type": "code",
<<<<<<< HEAD
<<<<<<< HEAD
   "execution_count": 2,
=======
   "execution_count": 80,
>>>>>>> 2e01b332b31580e154a3b864356cdd221f7d2c62
=======
   "execution_count": 3,
>>>>>>> parent of 2e01b33... Update distribution lectures
   "metadata": {
    "cell_style": "center",
    "scrolled": false,
    "slideshow": {
     "slide_type": "fragment"
    }
   },
   "outputs": [
    {
     "data": {
      "text/html": [
       "<div>\n",
       "<style scoped>\n",
       "    .dataframe tbody tr th:only-of-type {\n",
       "        vertical-align: middle;\n",
       "    }\n",
       "\n",
       "    .dataframe tbody tr th {\n",
       "        vertical-align: top;\n",
       "    }\n",
       "\n",
       "    .dataframe thead th {\n",
       "        text-align: right;\n",
       "    }\n",
       "</style>\n",
       "<table border=\"1\" class=\"dataframe\">\n",
       "  <thead>\n",
       "    <tr style=\"text-align: right;\">\n",
       "      <th></th>\n",
       "      <th>Age Range</th>\n",
       "      <th>PMF</th>\n",
       "    </tr>\n",
       "  </thead>\n",
       "  <tbody>\n",
       "    <tr>\n",
       "      <th>0</th>\n",
       "      <td>&lt;25</td>\n",
       "      <td>0.15</td>\n",
       "    </tr>\n",
       "    <tr>\n",
       "      <th>1</th>\n",
       "      <td>25-30</td>\n",
       "      <td>0.30</td>\n",
       "    </tr>\n",
       "    <tr>\n",
       "      <th>2</th>\n",
       "      <td>30-35</td>\n",
       "      <td>0.20</td>\n",
       "    </tr>\n",
       "    <tr>\n",
       "      <th>3</th>\n",
       "      <td>35-40</td>\n",
       "      <td>0.25</td>\n",
       "    </tr>\n",
       "    <tr>\n",
       "      <th>4</th>\n",
       "      <td>&gt;40</td>\n",
       "      <td>0.10</td>\n",
       "    </tr>\n",
       "  </tbody>\n",
       "</table>\n",
       "</div>"
      ],
      "text/plain": [
       "  Age Range   PMF\n",
       "0       <25  0.15\n",
       "1     25-30  0.30\n",
       "2     30-35  0.20\n",
       "3     35-40  0.25\n",
       "4       >40  0.10"
      ]
     },
<<<<<<< HEAD
<<<<<<< HEAD
     "execution_count": 2,
=======
     "execution_count": 80,
>>>>>>> 2e01b332b31580e154a3b864356cdd221f7d2c62
=======
     "execution_count": 3,
>>>>>>> parent of 2e01b33... Update distribution lectures
     "metadata": {},
     "output_type": "execute_result"
    }
   ],
   "source": [
    "outcome_df"
   ]
  },
  {
   "cell_type": "markdown",
   "metadata": {
    "cell_style": "center",
    "slideshow": {
     "slide_type": "subslide"
    }
   },
   "source": [
    "#### Plot PMF"
   ]
  },
  {
   "cell_type": "code",
<<<<<<< HEAD
<<<<<<< HEAD
   "execution_count": 38,
=======
   "execution_count": 18,
>>>>>>> 2e01b332b31580e154a3b864356cdd221f7d2c62
=======
   "execution_count": 4,
>>>>>>> parent of 2e01b33... Update distribution lectures
   "metadata": {
    "cell_style": "center",
    "scrolled": true,
    "slideshow": {
     "slide_type": "subslide"
    }
   },
   "outputs": [
    {
     "data": {
      "image/png": "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\n",
      "text/plain": [
       "<Figure size 432x288 with 1 Axes>"
      ]
     },
     "metadata": {
      "needs_background": "light"
     },
     "output_type": "display_data"
    }
   ],
   "source": [
    "import matplotlib.pyplot as plt\n",
    "from matplotlib.pyplot import stem\n",
    "\n",
    "\n",
    "plt.stem(outcome_df['Age Range'], outcome_df['PMF'], linefmt='b-', markerfmt='bo', basefmt='r-')\n",
    "plt.xlabel('Age groups')\n",
    "plt.ylabel('Probability')\n",
    "plt.title('Probability Mass Function (PMF)')\n",
    "plt.show()"
   ]
  },
  {
   "cell_type": "markdown",
   "metadata": {
    "hidden": true,
    "slideshow": {
     "slide_type": "slide"
    }
   },
   "source": [
    "An actual use of using population data to build probability distributions:\n",
    "- US Census data\n",
    "- Reef base: Global coral reef database\n",
    "- Large training sets: Ad-tech click rate data"
   ]
  },
  {
   "cell_type": "markdown",
   "metadata": {
    "slideshow": {
     "slide_type": "slide"
    }
   },
   "source": [
    "#### Mathematical models of distribution"
   ]
  },
  {
   "cell_type": "markdown",
   "metadata": {
    "heading_collapsed": true,
    "hidden": true,
    "slideshow": {
     "slide_type": "slide"
    }
   },
   "source": [
    "#### Common types of distributions: Discrete "
   ]
  },
  {
   "cell_type": "markdown",
   "metadata": {
    "cell_style": "split",
    "slideshow": {
     "slide_type": "fragment"
    }
   },
   "source": [
    "- In many cases: know what a population distribution _should_ be.\n",
    "- Can model uncertainty: mathematically define a model governing statistics or population level data.\n",
    "\n"
   ]
  },
  {
   "cell_type": "markdown",
   "metadata": {
    "cell_style": "split",
    "slideshow": {
     "slide_type": "fragment"
    }
   },
   "source": [
    "Mathematical distribution of random variables $X$:\n",
    "- governed by specific functional form\n",
    "- parameters of distribution"
   ]
  },
  {
   "cell_type": "markdown",
   "metadata": {
    "slideshow": {
     "slide_type": "subslide"
    }
   },
   "source": [
    "- **Bernoulli Distribution**\n",
    "    - Represents the probability of success for a certain experiment (binary outcome).\n",
    "    - Did someone click on an ad banner or not?"
   ]
  },
  {
   "cell_type": "markdown",
   "metadata": {
    "cell_style": "split",
    "slideshow": {
     "slide_type": "slide"
    }
   },
   "source": [
    "$$ B(X| p) = p^X(1-p)^{1-X} $$\n",
    "\n",
    "Yes: X = 1 <br>\n",
    "No: X = 0 <br>\n",
    "$p$: probability of banner clicked. A parameter."
   ]
  },
  {
   "cell_type": "markdown",
   "metadata": {
    "cell_style": "split",
    "slideshow": {
     "slide_type": "fragment"
    }
   },
   "source": [
    "Probability of clicked:\n",
    "$$ B(X = 1| p) = p $$ <br>\n",
    "\n",
    "Probability of not clicked:\n",
    "$$ B(X = 0| p) = 1 - p $$"
   ]
  },
  {
   "cell_type": "markdown",
   "metadata": {
    "slideshow": {
     "slide_type": "slide"
    }
   },
   "source": [
    "Scipy stats can help us with sampling distribution/plotting PMF, etc\n",
    "\n",
    "Probability is 4% of ad being clicked."
   ]
  },
  {
   "cell_type": "code",
<<<<<<< HEAD
<<<<<<< HEAD
   "execution_count": 39,
=======
   "execution_count": 19,
>>>>>>> 2e01b332b31580e154a3b864356cdd221f7d2c62
=======
   "execution_count": 16,
>>>>>>> parent of 2e01b33... Update distribution lectures
   "metadata": {
    "cell_style": "center",
    "slideshow": {
     "slide_type": "fragment"
    }
   },
   "outputs": [
    {
     "data": {
      "text/plain": [
       "[(0, 0.96), (1, 0.04000000000000001)]"
      ]
     },
<<<<<<< HEAD
<<<<<<< HEAD
     "execution_count": 39,
=======
     "execution_count": 19,
>>>>>>> 2e01b332b31580e154a3b864356cdd221f7d2c62
=======
     "execution_count": 16,
>>>>>>> parent of 2e01b33... Update distribution lectures
     "metadata": {},
     "output_type": "execute_result"
    }
   ],
   "source": [
    "# import bernoulli\n",
    "from scipy.stats import bernoulli\n",
    "\n",
    "bernoulli_pmf = [(x, bernoulli.pmf(x, p = .04)) for x in [0,1]]\n",
    "bernoulli_pmf"
   ]
  },
  {
   "cell_type": "markdown",
   "metadata": {
    "slideshow": {
     "slide_type": "slide"
    }
   },
   "source": [
    "The pmf can be visualized with a stem plot:"
   ]
  },
  {
   "cell_type": "code",
<<<<<<< HEAD
<<<<<<< HEAD
   "execution_count": 57,
=======
   "execution_count": 81,
>>>>>>> 2e01b332b31580e154a3b864356cdd221f7d2c62
=======
   "execution_count": 17,
>>>>>>> parent of 2e01b33... Update distribution lectures
   "metadata": {
    "slideshow": {
     "slide_type": "fragment"
    }
   },
   "outputs": [
    {
     "data": {
      "image/png": "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\n",
      "text/plain": [
       "<Figure size 432x288 with 1 Axes>"
      ]
     },
     "metadata": {
      "needs_background": "light"
     },
     "output_type": "display_data"
    }
   ],
   "source": [
    "# create list of x values and a list of y values for matplotlib\n",
    "unzipped_bernoulli = list(zip(*bernoulli_pmf))\n",
    "\n",
    "plt.stem(unzipped_bernoulli[0], unzipped_bernoulli[1], linefmt='b-', markerfmt='bo', basefmt='r-')\n",
    "plt.xlabel('X')\n",
    "plt.ylabel('Probability')\n",
    "plt.title('Bernoulli PMF')\n",
    "plt.show()"
   ]
  },
  {
   "cell_type": "markdown",
   "metadata": {
    "slideshow": {
     "slide_type": "slide"
    }
   },
   "source": [
    "#### Expectation values: mean and variance of a distribution"
   ]
  },
  {
   "cell_type": "markdown",
   "metadata": {
    "cell_style": "split",
    "slideshow": {
     "slide_type": "fragment"
    }
   },
   "source": [
    "The mean is the a sum of:\n",
    "- possible values of the random variable $X$\n",
    "- weighted by the probability distribution of $X$ at these values."
   ]
  },
  {
   "cell_type": "markdown",
   "metadata": {
    "cell_style": "split",
    "slideshow": {
     "slide_type": "-"
    }
   },
   "source": [
    "$$ E[X] = \\sum_i X_i P(X_i|\\theta) $$\n",
    "\n",
    "where $\\theta$ is possible parameters of the distribution."
   ]
  },
  {
   "cell_type": "markdown",
   "metadata": {
    "cell_style": "split",
    "slideshow": {
     "slide_type": "fragment"
    }
   },
   "source": [
    "First calculate for a uniform distribution:"
   ]
  },
  {
   "cell_type": "markdown",
   "metadata": {
    "slideshow": {
     "slide_type": "subslide"
    }
   },
   "source": [
    "If we have three possible values for a each equally likely:\n",
    "    \n",
    "$$E[X] = X_1\\cdot\\frac{1}{3} + X_2\\cdot\\frac{1}{3} + X_3\\cdot\\frac{1}{3} $$\n",
    "\n",
    "\n",
    "$$ E[X] = \\frac{X_1 + X_2 + X_3}{3} $$"
   ]
  },
  {
   "cell_type": "markdown",
   "metadata": {
    "cell_style": "center",
    "slideshow": {
     "slide_type": "slide"
    }
   },
   "source": [
    "Let' do this for the Bernoulli distribution:\n",
    "\n",
    "$$ E[X] = 1\\cdot B(X =1 | p) + 0 \\cdot B(X = 0 | p) = p $$\n",
    "\n",
    "as  $ B(X =1 | p) = p $"
   ]
  },
  {
   "cell_type": "markdown",
   "metadata": {
    "slideshow": {
     "slide_type": "fragment"
    }
   },
   "source": [
    "The variance on the other hand is:\n",
    "\n",
    "$$ E[(X - E[X])^2] =  \\sum_i (X_i - E[X])^2 P(X_i|\\theta)$$\n",
    "\n",
    "which for the Bernulli distribution is:\n",
    "\n",
    "$$  (1 - p)^2 B(X = 1| p) + (0 - p)^2 B(X = 0| p) $$"
   ]
  },
  {
   "cell_type": "markdown",
   "metadata": {
    "slideshow": {
     "slide_type": "subslide"
    }
   },
   "source": [
    "implies that:\n",
    "    \n",
    "$$ Var[X] = (1 - p)^2p + (0 - p)^2(1 - p) $$\n",
    "\n",
    "and fully simplified:\n",
    "$$ Var[X] = p(1 - p) $$"
   ]
  },
  {
   "cell_type": "markdown",
   "metadata": {
    "slideshow": {
     "slide_type": "slide"
    }
   },
   "source": [
    "Mean and variance of $X$  for our ad clicking example?"
   ]
  },
  {
   "cell_type": "code",
<<<<<<< HEAD
<<<<<<< HEAD
   "execution_count": 49,
=======
   "execution_count": 83,
>>>>>>> 2e01b332b31580e154a3b864356cdd221f7d2c62
=======
   "execution_count": 18,
>>>>>>> parent of 2e01b33... Update distribution lectures
   "metadata": {
    "slideshow": {
     "slide_type": "fragment"
    }
   },
   "outputs": [],
   "source": [
    "# calculate it for me \n",
    "\n",
    "p = 0.4\n",
    "\n",
<<<<<<< HEAD
<<<<<<< HEAD
    "mean = 0.4\n",
    "var = mean*(1-0.4)"
=======
    "mean = p\n",
    "var = p*(1-p)\n",
    "print(mean, var)"
>>>>>>> 2e01b332b31580e154a3b864356cdd221f7d2c62
=======
    "mean = None\n",
    "var = None"
>>>>>>> parent of 2e01b33... Update distribution lectures
   ]
  },
  {
   "cell_type": "markdown",
   "metadata": {
    "slideshow": {
     "slide_type": "slide"
    }
   },
   "source": [
    "Scipy also has a useful method for getting mean, variance of the distribution:\n",
    "- .stats(parameters, ...)"
   ]
  },
  {
   "cell_type": "code",
<<<<<<< HEAD
<<<<<<< HEAD
   "execution_count": 50,
=======
   "execution_count": 84,
>>>>>>> 2e01b332b31580e154a3b864356cdd221f7d2c62
=======
   "execution_count": 23,
>>>>>>> parent of 2e01b33... Update distribution lectures
   "metadata": {
    "slideshow": {
     "slide_type": "-"
    }
   },
   "outputs": [
    {
     "data": {
      "text/plain": [
       "(array(0.04), array(0.0384))"
      ]
     },
<<<<<<< HEAD
<<<<<<< HEAD
     "execution_count": 50,
=======
     "execution_count": 84,
>>>>>>> 2e01b332b31580e154a3b864356cdd221f7d2c62
=======
     "execution_count": 23,
>>>>>>> parent of 2e01b33... Update distribution lectures
     "metadata": {},
     "output_type": "execute_result"
    }
   ],
   "source": [
    "# gives mean and variance in a tuple\n",
    "bernoulli.stats(p = 0.04)"
   ]
  },
  {
   "cell_type": "markdown",
   "metadata": {
    "slideshow": {
     "slide_type": "slide"
    }
   },
   "source": [
    "#### Sampling\n",
    "- More often than not we use the Bernoulli distribution in simulations:\n",
    "    - create a finite size sample modeled from distribution.\n",
    "    "
   ]
  },
  {
   "cell_type": "markdown",
   "metadata": {
    "slideshow": {
     "slide_type": "subslide"
    }
   },
   "source": [
    "Let's random sample this distribution 100 times."
   ]
  },
  {
   "cell_type": "code",
<<<<<<< HEAD
<<<<<<< HEAD
   "execution_count": 51,
=======
   "execution_count": 87,
>>>>>>> 2e01b332b31580e154a3b864356cdd221f7d2c62
=======
   "execution_count": 29,
>>>>>>> parent of 2e01b33... Update distribution lectures
   "metadata": {
    "slideshow": {
     "slide_type": "fragment"
    }
   },
   "outputs": [
    {
     "data": {
      "text/plain": [
<<<<<<< HEAD
       "array([0, 0, 0, 0, 0, 0, 0, 0, 0, 0, 0, 0, 0, 0, 0, 0, 0, 0, 0, 0, 0, 0,\n",
<<<<<<< HEAD
       "       0, 0, 0, 0, 0, 0, 0, 0, 1, 0, 0, 0, 0, 0, 0, 0, 0, 0, 0, 0, 0, 0,\n",
       "       0, 0, 0, 0, 1, 0, 0, 0, 0, 0, 0, 0, 0, 1, 0, 0, 0, 0, 0, 0, 1, 0,\n",
       "       0, 0, 0, 0, 0, 0, 0, 0, 0, 0, 0, 0, 0, 1, 0, 0, 0, 0, 0, 0, 0, 0,\n",
       "       1, 0, 0, 0, 0, 0, 0, 0, 0, 0, 0, 0])"
      ]
     },
     "execution_count": 51,
=======
       "       0, 0, 1, 0, 0, 0, 0, 0, 0, 0, 0, 0, 0, 0, 0, 0, 0, 0, 0, 0, 0, 0,\n",
=======
       "array([0, 0, 0, 0, 0, 0, 0, 0, 0, 0, 0, 0, 0, 0, 1, 0, 1, 0, 0, 0, 0, 0,\n",
>>>>>>> parent of 2e01b33... Update distribution lectures
       "       0, 0, 0, 0, 0, 0, 0, 0, 0, 0, 0, 0, 0, 0, 0, 0, 0, 0, 0, 0, 0, 0,\n",
       "       0, 0, 0, 0, 0, 0, 1, 0, 0, 0, 0, 0, 0, 0, 0, 0, 0, 0, 0, 0, 0, 0,\n",
       "       0, 0, 0, 0, 1, 0, 0, 1, 0, 0, 1, 0, 0, 0, 0, 0, 0, 0, 0, 0, 0, 1,\n",
       "       0, 0, 0, 1, 1, 1, 0, 0, 0, 0, 0, 0])"
      ]
     },
<<<<<<< HEAD
     "execution_count": 87,
>>>>>>> 2e01b332b31580e154a3b864356cdd221f7d2c62
=======
     "execution_count": 29,
>>>>>>> parent of 2e01b33... Update distribution lectures
     "metadata": {},
     "output_type": "execute_result"
    }
   ],
   "source": [
    "bernoulli.rvs(p = 0.04, size = 100)"
   ]
  },
  {
   "cell_type": "markdown",
   "metadata": {
    "slideshow": {
     "slide_type": "subslide"
    }
   },
   "source": [
    "A very useful program:"
   ]
  },
  {
   "cell_type": "code",
<<<<<<< HEAD
<<<<<<< HEAD
   "execution_count": 52,
=======
   "execution_count": 98,
>>>>>>> 2e01b332b31580e154a3b864356cdd221f7d2c62
=======
   "execution_count": 28,
>>>>>>> parent of 2e01b33... Update distribution lectures
   "metadata": {
    "slideshow": {
     "slide_type": "fragment"
    }
   },
   "outputs": [
    {
     "name": "stdout",
     "output_type": "stream",
     "text": [
      "She loves me not.\n",
<<<<<<< HEAD
      "She loves me.\n",
      "She loves me not.\n",
      "She loves me.\n",
<<<<<<< HEAD
=======
>>>>>>> 2e01b332b31580e154a3b864356cdd221f7d2c62
      "She loves me not.\n",
=======
>>>>>>> parent of 2e01b33... Update distribution lectures
      "She loves me.\n",
      "She loves me not.\n",
      "She loves me.\n",
      "She loves me.\n",
<<<<<<< HEAD
      "She loves me not.\n",
<<<<<<< HEAD
=======
      "She loves me.\n",
>>>>>>> 2e01b332b31580e154a3b864356cdd221f7d2c62
      "She loves me not.\n"
=======
      "She loves me.\n",
      "She loves me not.\n",
      "She loves me.\n"
>>>>>>> parent of 2e01b33... Update distribution lectures
     ]
    }
   ],
   "source": [
    "for x in bernoulli.rvs(p = 0.5, size = 10):\n",
    "    if x == 1:\n",
    "        print('She loves me.')\n",
    "    else:\n",
    "        print('She loves me not.')"
   ]
  },
  {
   "cell_type": "markdown",
   "metadata": {
    "hidden": true,
    "slideshow": {
     "slide_type": "slide"
    }
   },
   "source": [
    "- **Binomial Distribution**\n",
    "    - Generalizes Bernoulli to fixed number of trials.\n",
    "    - Probability of observing some number of successes $k$ for $N$ Bernoulli trials.\n",
    "    "
   ]
  },
  {
   "cell_type": "markdown",
   "metadata": {
    "slideshow": {
     "slide_type": "fragment"
    }
   },
   "source": [
    "- success probability of single Bernoulli trial: $p$\n",
    "- N trials\n",
    "- Probability of k sucesses?\n",
    "\n",
    "$$ Binomial(k | N, p) = \\frac{N!}{(N-k)!k!}p^k(1-p)^{N-k} $$"
   ]
  },
  {
   "cell_type": "markdown",
   "metadata": {
    "slideshow": {
     "slide_type": "subslide"
    }
   },
   "source": [
    "Parsing\n",
    "\n",
    "$$ Binomial(k | N, p) = \\frac{N!}{(N-k)!k!}p^k(1-p)^{N-k} $$"
   ]
  },
  {
   "cell_type": "markdown",
   "metadata": {
    "cell_style": "split",
    "slideshow": {
     "slide_type": "fragment"
    }
   },
   "source": [
    "Since each trial is statistically independent:\n",
    "\n",
    "$$ p^k(1-p)^{N-k} $$\n",
    "\n",
    "Product of individual Bernoulli failure/success probabilities."
   ]
  },
  {
   "cell_type": "markdown",
   "metadata": {
    "cell_style": "split",
    "slideshow": {
     "slide_type": "fragment"
    }
   },
   "source": [
    "Prefactor because need to count numbers of ways to get $k$ successful trials:\n",
    "\n",
    "$$ \\frac{N!}{(N-k)!k!} $$\n",
    "\n",
    "- Order within successful/unsuccessful trials does not matter.\n",
    "\n",
    "e.g. SFFSF is same as SFFSF\n",
    "\n"
   ]
  },
  {
   "cell_type": "markdown",
   "metadata": {
    "slideshow": {
     "slide_type": "slide"
    }
   },
   "source": [
    "#### Example\n",
    "\n",
    "-  Estimate number of successful free throw shots in 10 tries.\n",
    "- For Shaquille O'Neale: Career free throw pct = 52.7%"
   ]
  },
  {
   "cell_type": "markdown",
   "metadata": {
    "slideshow": {
     "slide_type": "fragment"
    }
   },
   "source": [
    "<img src = \"images/shaw.webp\" >\n",
    "<center> Shaq throwin free throw bricks. </center>"
   ]
  },
  {
   "cell_type": "markdown",
   "metadata": {
    "cell_style": "split",
    "slideshow": {
     "slide_type": "subslide"
    }
   },
   "source": [
    "scipy has functionality for binomial:\n",
    "- .binom class"
   ]
  },
  {
   "cell_type": "markdown",
   "metadata": {
    "cell_style": "split",
    "slideshow": {
     "slide_type": "fragment"
    }
   },
   "source": [
    "Define binomial:\n",
    "- distribution parameters:\n",
    "    - N = 8 trials\n",
    "    - Bernoulli success/failure p = .527"
   ]
  },
  {
   "cell_type": "code",
<<<<<<< HEAD
<<<<<<< HEAD
   "execution_count": 58,
=======
   "execution_count": 99,
>>>>>>> 2e01b332b31580e154a3b864356cdd221f7d2c62
=======
   "execution_count": 69,
>>>>>>> parent of 2e01b33... Update distribution lectures
   "metadata": {
    "cell_style": "split",
    "slideshow": {
     "slide_type": "fragment"
    }
   },
   "outputs": [],
   "source": [
    "from scipy.stats import binom\n",
    "N = 8\n",
    "p = 0.527\n",
    "\n",
    "pmf_binomial = [(x, binom.pmf(x, n = N, p = p)) \n",
    "                for x in range(9)]"
   ]
  },
  {
   "cell_type": "markdown",
   "metadata": {
    "slideshow": {
     "slide_type": "fragment"
    }
   },
   "source": [
    "Generates probability of $k$ sucesses in 8 trials:  $k$ ranging from 0 to 8."
   ]
  },
  {
   "cell_type": "code",
<<<<<<< HEAD
<<<<<<< HEAD
   "execution_count": 54,
=======
   "execution_count": 100,
>>>>>>> 2e01b332b31580e154a3b864356cdd221f7d2c62
=======
   "execution_count": 70,
>>>>>>> parent of 2e01b33... Update distribution lectures
   "metadata": {
    "slideshow": {
     "slide_type": "subslide"
    }
   },
   "outputs": [
    {
     "name": "stdout",
     "output_type": "stream",
     "text": [
      "[(0, 0.0025054695324104397), (1, 0.02233204978571335), (2, 0.08708555143709996), (3, 0.1940553302636435), (4, 0.27026204822658595), (5, 0.24089319140027196), (6, 0.13419736983926356), (7, 0.04271942851422039), (8, 0.005949561000791266)]\n"
     ]
    }
   ],
   "source": [
    "print(pmf_binomial)"
   ]
  },
  {
   "cell_type": "markdown",
   "metadata": {
    "slideshow": {
     "slide_type": "slide"
    }
   },
   "source": [
    "Plot the pmf:"
   ]
  },
  {
   "cell_type": "code",
<<<<<<< HEAD
<<<<<<< HEAD
   "execution_count": 56,
=======
   "execution_count": 101,
   "metadata": {
    "cell_style": "center",
    "slideshow": {
     "slide_type": "fragment"
    }
   },
   "outputs": [],
   "source": [
    "%%capture binom_plot\n",
    "x,y = list(zip(*pmf_binomial))\n",
    "plt.stem(x, y, linefmt='b-', markerfmt='bo', basefmt='r-')\n",
    "plt.title('Binomial PMF: Shaq FTs made out of 8 shots')\n",
    "plt.ylabel('Probability')\n",
    "plt.xlabel('Number of shots made')\n",
    "plt.title\n",
    "plt.show()"
   ]
  },
  {
   "cell_type": "code",
   "execution_count": 102,
>>>>>>> 2e01b332b31580e154a3b864356cdd221f7d2c62
=======
   "execution_count": 71,
>>>>>>> parent of 2e01b33... Update distribution lectures
   "metadata": {
    "cell_style": "split",
    "slideshow": {
     "slide_type": "subslide"
    }
   },
   "outputs": [
    {
     "data": {
<<<<<<< HEAD
<<<<<<< HEAD
      "image/png": "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\n",
=======
      "image/png": "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\n",
>>>>>>> 2e01b332b31580e154a3b864356cdd221f7d2c62
=======
      "image/png": "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\n",
>>>>>>> parent of 2e01b33... Update distribution lectures
      "text/plain": [
       "<Figure size 432x288 with 1 Axes>"
      ]
     },
     "metadata": {
      "needs_background": "light"
     },
     "output_type": "display_data"
    }
   ],
   "source": [
<<<<<<< HEAD
<<<<<<< HEAD
    "x,y = list(zip(*pmf_binomial))\n",
    "plt.stem(x, y, linefmt='b-', markerfmt='bo', basefmt='r-')\n",
    "plt.title('Binomial PMF: Shaq FTs made out of 8 shots')\n",
    "plt.ylabel('Probability')\n",
    "plt.xlabel('Number of shots made')\n",
    "plt.title\n",
    "plt.show()"
=======
    "binom_plot()"
>>>>>>> 2e01b332b31580e154a3b864356cdd221f7d2c62
=======
    "x,y = list(zip(*pmf_binomial))\n",
    "plt.stem(x, y, linefmt='b-', markerfmt='bo', basefmt='r-')\n",
    "plt.ylabel('Probability')\n",
    "plt.xlabel('Number of clicks')\n",
    "plt.xlabel('Number of clicks ')\n",
    "plt.show()"
>>>>>>> parent of 2e01b33... Update distribution lectures
   ]
  },
  {
   "cell_type": "markdown",
   "metadata": {
    "slideshow": {
     "slide_type": "slide"
    }
   },
   "source": [
    "Can sample this binomial distribution:\n",
    "- Get a list of number of successes for each trial\n",
    "- 200 trials"
   ]
  },
  {
<<<<<<< HEAD
=======
   "cell_type": "code",
   "execution_count": null,
   "metadata": {},
   "outputs": [],
   "source": []
  },
  {
   "cell_type": "markdown",
   "metadata": {
    "hidden": true,
    "slideshow": {
     "slide_type": "slide"
    }
   },
   "source": [
    "- **Binomial Distribution**\n",
    "    - Represents the probability of observing a specific number of successes (Bernoulli trials) in a specific number of trials.\n",
    "    "
   ]
  },
  {
   "cell_type": "markdown",
   "metadata": {
    "slideshow": {
     "slide_type": "fragment"
    }
   },
   "source": [
    "- success probability of single Bernoulli trial: $p$\n",
    "- N trials\n",
    "- Probability of k sucesses?\n",
    "\n",
    "$$ Binomial(k | N, p) = \\frac{N!}{(N-k)!k!}p^k(1-p)^{N-k} $$"
   ]
  },
  {
   "cell_type": "markdown",
   "metadata": {
    "slideshow": {
     "slide_type": "slide"
    }
   },
   "source": [
    "-  Estimate number of ad clicks in 50 random samples of our user-site interactions."
   ]
  },
  {
   "cell_type": "code",
   "execution_count": 72,
   "metadata": {
    "cell_style": "split",
    "slideshow": {
     "slide_type": "fragment"
    }
   },
   "outputs": [],
   "source": [
    "from scipy.stats import binom\n",
    "N = 50\n",
    "p = 0.04 \n",
    "\n",
    "pmf_binomial = [(x, binom.pmf(x, n = N, p = p)) \n",
    "                for x in range(10)]"
   ]
  },
  {
   "cell_type": "code",
   "execution_count": 77,
   "metadata": {
    "cell_style": "split",
    "slideshow": {
     "slide_type": "subslide"
    }
   },
   "outputs": [
    {
     "data": {
      "image/png": "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\n",
      "text/plain": [
       "<Figure size 432x288 with 1 Axes>"
      ]
     },
     "metadata": {
      "needs_background": "light"
     },
     "output_type": "display_data"
    }
   ],
   "source": [
    "x,y = list(zip(*pmf_binomial))\n",
    "plt.stem(x, y, linefmt='b-', markerfmt='bo', basefmt='r-')\n",
    "plt.xlabel('Free throws made')\n",
    "plt.ylabel('Probability')\n",
    "plt.title('PMF (Binomial): Shaq free throws made for 10 shots')\n",
    "plt.show()"
   ]
  },
  {
>>>>>>> 2e01b332b31580e154a3b864356cdd221f7d2c62
   "cell_type": "markdown",
   "metadata": {
    "slideshow": {
     "slide_type": "slide"
    }
   },
   "source": [
    "Can sample this binomial distribution:"
   ]
  },
  {
   "cell_type": "code",
<<<<<<< HEAD
<<<<<<< HEAD
   "execution_count": 13,
=======
   "execution_count": 104,
>>>>>>> 2e01b332b31580e154a3b864356cdd221f7d2c62
=======
   "execution_count": 74,
>>>>>>> parent of 2e01b33... Update distribution lectures
   "metadata": {
    "ExecuteTime": {
     "end_time": "2021-10-08T21:00:02.025541Z",
     "start_time": "2021-10-08T21:00:02.022231Z"
    },
    "slideshow": {
     "slide_type": "fragment"
    }
   },
   "outputs": [
    {
     "name": "stdout",
     "output_type": "stream",
     "text": [
<<<<<<< HEAD
<<<<<<< HEAD
      "Number of ad clicks in each trial of 50 samples: \n",
      " [4 4 6 4 4 5 4 3 3 1 4 1 4 5 3 6 4 5 4 2 5 7 3 5 3 6 4 4 4 3 4 6 3 4 3 5 5\n",
      " 3 6 2 5 4 5 5 6 4 5 4 5 5 5 3 4 5 6 2 2 4 4 7 5 5 4 6 2 6 4 4 4 3 6 4 4 2\n",
      " 4 6 3 2 5 4 5 4 4 5 4 2 4 3 6 3 5 5 3 7 4 5 5 5 5 7 5 3 5 8 5 5 5 4 4 1 6\n",
      " 5 4 2 3 6 4 6 3 5 4 4 2 5 3 3 6 3 4 4 4 3 7 3 4 5 4 2 4 4 6 5 4 3 5 3 5 3\n",
      " 5 4 3 4 4 4 3 3 6 4 4 5 6 5 6 4 5 3 4 1 3 1 5 6 3 5 4 3 5 5 4 3 4 3 5 5 5\n",
      " 5 5 5 5 3 3 2 6 3 5 4 5 4 6 6] \n",
=======
      "Number of shots Shaq made in games where he took 8 free throws: \n",
      " [3 6 5 5 5 6 3 5 5 5 4 5 7 3 4 3 3 5 3 5 3 6 3 2 8 5 6 3 5 6 5 3 5 2 4 3 4\n",
      " 7 6 1 4 7 6 3 5 6 7 4 5 3 2 4 4 4 7 6 5 6 6 0 6 5 6 4 1 6 5 7 5 4 4 4 2 4\n",
      " 6 4 6 3 7 3 5 5 6 2 4 6 5 4 6 4 3 5 5 5 4 4 6 5 6 6 5 6 5 6 4 4 5 3 5 2 6\n",
      " 6 3 1 5 2 7 5 5 3 4 6 6 7 5 4 7 4 2 4 4 3 5 3 7 3 3 3 3 5 5 7 3 3 3 5 3 7\n",
      " 4 5 4 4 5 5 3 7 4 5 4 6 4 6 5 5 6 3 5 6 4 5 4 3 6 3 5 4 2 5 3 3 2 3 3 5 3\n",
      " 3 6 3 6 4 5 5 5 2 4 2 3 5 4 5] \n",
>>>>>>> 2e01b332b31580e154a3b864356cdd221f7d2c62
=======
      "Number of ad clicks in each trial of 50 samples: \n",
      " [3 2 4 3 5 3 3 3 6 5 2 3 5 3 5 5 6 3 5 4 3 3 6 5 1 4 7 6 6 4 4 4 5 2 7 4 2\n",
      " 6 7 3 7 1 2 4 5 4 5 5 4 5 3 2 3 3 3 3 5 2 5 5 5 5 4 2 6 2 6 5 5 3 6 2 3 5\n",
      " 5 4 3 6 2 5 1 4 5 1 2 5 4 4 4 5 5 4 4 5 4 5 3 3 4 3 5 5 4 2 4 4 3 4 4 2 4\n",
      " 5 1 2 5 1 4 2 5 5 5 4 5 3 6 4 6 6 4 5 5 5 4 6 5 2 4 3 3 3 2 7 5 7 3 4 5 5\n",
      " 5 5 4 3 3 3 6 4 6 7 6 2 4 3 4 4 2 6 7 2 2 3 3 1 4 5 4 5 3 4 5 6 5 6 3 6 5\n",
      " 4 1 4 6 3 3 5 6 4 6 5 6 4 5 4] \n",
>>>>>>> parent of 2e01b33... Update distribution lectures
      "\n"
     ]
    }
   ],
   "source": [
    "\n",
    "N = 8  # number of samples for user-site interaction trial\n",
    "p = 0.527  # probability of success\n",
    "size = 200  # number of trials\n",
    "\n",
    "# Create a discrete distribution with the given parameter values\n",
    "binomial = binom.rvs(n = N, p=p, size=size)\n",
    "\n",
    "print(f'Number of ad clicks in each trial of 50 samples: \\n {binomial} \\n')"
   ]
  },
  {
   "cell_type": "code",
   "execution_count": null,
   "metadata": {},
   "outputs": [],
   "source": []
  },
  {
   "cell_type": "markdown",
   "metadata": {
    "cell_style": "split",
    "slideshow": {
     "slide_type": "slide"
    }
   },
   "source": [
    "Example: number of calls per minute at a call center.\n",
    "\n",
    "- Observe average rate of 3 calls/min.\n",
    "- Know that calls are independent of each other.\n",
    "\n",
    "Can show this situation modeled by Poisson distribution."
   ]
  },
  {
   "cell_type": "markdown",
   "metadata": {
    "cell_style": "split",
    "slideshow": {
     "slide_type": "fragment"
    }
   },
   "source": [
    "PMF of Poisson counting process:\n",
    "$$ P(n|\\lambda) = \\frac {\\lambda ^{n}e^{-\\lambda }}{n!} $$\n",
    "\n",
    "- $\\lambda$ is observed average rate.\n",
    "- Parameter of distribution: observed from data."
   ]
  },
  {
   "cell_type": "markdown",
   "metadata": {
    "slideshow": {
     "slide_type": "subslide"
    }
   },
   "source": [
    "scipy.stats can really help us model/visualize this.\n",
    "- poisson.pmf(n, lambda)"
   ]
  },
  {
   "cell_type": "code",
<<<<<<< HEAD
<<<<<<< HEAD
   "execution_count": 59,
=======
   "execution_count": 114,
>>>>>>> 2e01b332b31580e154a3b864356cdd221f7d2c62
=======
   "execution_count": 64,
>>>>>>> parent of 2e01b33... Update distribution lectures
   "metadata": {
    "cell_style": "split",
    "slideshow": {
     "slide_type": "subslide"
    }
   },
   "outputs": [],
   "source": [
    "from scipy.stats import poisson\n",
    "\n",
    "call_pmf =[(x, poisson.pmf(x, 3)) \n",
    "           for x in range(10)]\n",
    "\n",
    "x,y = list(zip(*call_pmf))"
   ]
  },
  {
   "cell_type": "code",
<<<<<<< HEAD
<<<<<<< HEAD
   "execution_count": 60,
=======
   "execution_count": 116,
>>>>>>> 2e01b332b31580e154a3b864356cdd221f7d2c62
=======
   "execution_count": 65,
>>>>>>> parent of 2e01b33... Update distribution lectures
   "metadata": {
    "cell_style": "split",
    "slideshow": {
     "slide_type": "fragment"
    }
   },
   "outputs": [
    {
     "data": {
<<<<<<< HEAD
<<<<<<< HEAD
      "image/png": "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\n",
=======
      "image/png": "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\n",
>>>>>>> 2e01b332b31580e154a3b864356cdd221f7d2c62
=======
      "image/png": "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\n",
>>>>>>> parent of 2e01b33... Update distribution lectures
      "text/plain": [
       "<Figure size 432x288 with 1 Axes>"
      ]
     },
     "metadata": {
      "needs_background": "light"
     },
     "output_type": "display_data"
    }
   ],
   "source": [
    "plt.stem(x, y, linefmt='b-', markerfmt='bo', basefmt='r-')\n",
    "plt.xlabel('n')\n",
    "plt.ylabel('P(n)')\n",
    "plt.title('PMF (Poisson): Calls/min')\n",
    "plt.show()"
   ]
  },
  {
   "cell_type": "markdown",
   "metadata": {
    "slideshow": {
     "slide_type": "slide"
    }
   },
   "source": [
    "Sometime parameter determined from laws of physics, domain knowledge, etc.:\n",
    "\n",
    "- Mean nuclear decay rate of Iodine-131 is 31.5 decay events/year.\n",
    "- Decay events independent."
   ]
  },
  {
   "cell_type": "code",
<<<<<<< HEAD
<<<<<<< HEAD
   "execution_count": 16,
=======
   "execution_count": 51,
>>>>>>> 2e01b332b31580e154a3b864356cdd221f7d2c62
=======
   "execution_count": 67,
>>>>>>> parent of 2e01b33... Update distribution lectures
   "metadata": {
    "scrolled": true,
    "slideshow": {
     "slide_type": "subslide"
    }
   },
   "outputs": [
    {
     "data": {
      "image/png": "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\n",
      "text/plain": [
       "<Figure size 432x288 with 1 Axes>"
      ]
     },
     "metadata": {
      "needs_background": "light"
     },
     "output_type": "display_data"
    }
   ],
   "source": [
    "nuclear_pmf =[(x, poisson.pmf(x, 31.5)) for x in range(70)]\n",
    "x,y = list(zip(*nuclear_pmf))\n",
    "plt.stem(x, y, linefmt='b-', markerfmt='bo', basefmt='r-')\n",
    "plt.xlabel('n')\n",
    "plt.ylabel('P(n)')\n",
    "plt.title('PMF (Poisson): Calls/min')\n",
    "plt.show()\n"
   ]
  },
  {
   "cell_type": "markdown",
   "metadata": {
    "slideshow": {
     "slide_type": "fragment"
    }
   },
   "source": [
    "- **Uniform Distribution**\n",
    "    - Occurs when all possible outcomes are equally likely.\n",
    "    - e.g. rolling a six-sided far die"
   ]
  },
  {
   "cell_type": "markdown",
   "metadata": {
    "slideshow": {
     "slide_type": "slide"
    }
   },
   "source": [
    "#### Common types of distributions: Continuous "
   ]
  },
  {
   "cell_type": "markdown",
   "metadata": {
    "hidden": true,
    "slideshow": {
     "slide_type": "subslide"
    }
   },
   "source": [
    "- **Continuous Uniform**\n",
    "    - A continuous distribution that takes values within a specified range *a* to *b*, when each value within the range is equally likely.\n",
    "    - e.g. time take an elevator arrive at your floor."
   ]
  },
  {
   "cell_type": "markdown",
   "metadata": {
    "slideshow": {
     "slide_type": "subslide"
    }
   },
   "source": [
    "- **Normal (Gaussian)**\n",
    "    - The bell curve. Governs many continuous variables.\n",
    "    - Particularly: variables made up of many random subfactors.\n",
    "    - height in a population.\n",
    "    - average number of ad clicks in 50 random samples of user-site interactions."
   ]
  },
  {
   "cell_type": "markdown",
   "metadata": {
    "slideshow": {
     "slide_type": "subslide"
    }
   },
   "source": [
    "- **Exponential**\n",
    "    - Uses to model the time elapsed between events.\n",
    "    - e.g. amount of time a postal clerk spends with a customer"
   ]
  },
  {
   "cell_type": "markdown",
   "metadata": {
    "heading_collapsed": true,
    "slideshow": {
     "slide_type": "slide"
    }
   },
   "source": [
    "#### PDF: Probability Density Function\n",
    "- Continuous limit of the histogram."
   ]
  },
  {
   "cell_type": "markdown",
   "metadata": {
    "cell_style": "split",
    "hidden": true,
    "slideshow": {
     "slide_type": "fragment"
    }
   },
   "source": [
    "**Probability density functions (PDF)** similar to PMFs but:\n",
    "\n",
    "- continuous variable\n",
    "- probability of **exactly** having a given value of continuous not defined. \n",
    "- probability of a result within a range of values. \n",
    "\n",
    "![](images/pdf_temp.png)"
   ]
  },
  {
   "cell_type": "markdown",
   "metadata": {
    "cell_style": "split",
    "slideshow": {
     "slide_type": "fragment"
    }
   },
   "source": [
    "- PDFs give us probability density.\n",
    "- Area under PDF in given range yields probability.  \n",
    "\n",
    "<center><img src=\"Images/pdf_proba.gif\" width=\"450\"/></center>"
   ]
  },
  {
   "cell_type": "markdown",
   "metadata": {
    "heading_collapsed": true,
    "hidden": true,
    "slideshow": {
     "slide_type": "slide"
    }
   },
   "source": [
    "#### Sampling and the PDF with the normal distribution"
   ]
  },
  {
   "cell_type": "markdown",
   "metadata": {
    "slideshow": {
     "slide_type": "subslide"
    }
   },
   "source": [
    "Mathematical form for pdf:\n",
    "$$ N(x | \\mu, \\sigma^2) = \\frac{1}{\\sqrt{2\\pi\\sigma^2}} e^{-\\frac{(x-\\mu)^2}{2\\sigma^2}} $$\n",
    "\n",
    "- $\\mu$ is mean.\n",
    "- $\\sigma$ is standard deviation."
   ]
  },
  {
   "cell_type": "markdown",
   "metadata": {
    "slideshow": {
     "slide_type": "slide"
    }
   },
   "source": [
    "With scipy.stats:\n",
    "\n",
    "- norm.pdf(loc = mean, scale = std)"
   ]
  },
  {
<<<<<<< HEAD
<<<<<<< HEAD
   "cell_type": "code",
   "execution_count": 17,
=======
   "cell_type": "markdown",
>>>>>>> 2e01b332b31580e154a3b864356cdd221f7d2c62
=======
   "cell_type": "code",
   "execution_count": 74,
>>>>>>> parent of 2e01b33... Update distribution lectures
   "metadata": {
    "slideshow": {
     "slide_type": "slide"
    }
   },
   "outputs": [],
   "source": [
    "from scipy.stats import norm"
   ]
  },
  {
   "cell_type": "code",
<<<<<<< HEAD
<<<<<<< HEAD
   "execution_count": 18,
=======
   "execution_count": 160,
>>>>>>> 2e01b332b31580e154a3b864356cdd221f7d2c62
=======
   "execution_count": 75,
>>>>>>> parent of 2e01b33... Update distribution lectures
   "metadata": {
    "cell_style": "center",
    "slideshow": {
     "slide_type": "subslide"
    }
   },
   "outputs": [],
   "source": [
    "# Moving mean around\n",
    "mu_list = [-2,0,2]\n",
    "sigma = 1\n",
    "\n",
    "x = np.linspace(-7,7)\n",
    "y_list = [norm.pdf(x, loc = mu, scale = sigma)\n",
    "          for mu in mu_list]"
   ]
  },
  {
   "cell_type": "code",
<<<<<<< HEAD
<<<<<<< HEAD
   "execution_count": 19,
=======
   "execution_count": 161,
>>>>>>> 2e01b332b31580e154a3b864356cdd221f7d2c62
=======
   "execution_count": 76,
>>>>>>> parent of 2e01b33... Update distribution lectures
   "metadata": {
    "cell_style": "center",
    "slideshow": {
     "slide_type": "fragment"
    }
   },
   "outputs": [
    {
     "data": {
      "image/png": "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\n",
      "text/plain": [
       "<Figure size 432x288 with 1 Axes>"
      ]
     },
     "metadata": {
      "needs_background": "light"
     },
     "output_type": "display_data"
    }
   ],
   "source": [
    "fig,ax = plt.subplots()\n",
    "[ax.plot(x,y) for y in y_list]\n",
    "plt.show()"
   ]
  },
  {
   "cell_type": "code",
   "execution_count": 20,
   "metadata": {
    "cell_style": "center",
    "slideshow": {
     "slide_type": "subslide"
    }
   },
   "outputs": [],
   "source": [
    "# mess with std/variance\n",
    "mu = 0\n",
    "sigma_list = [1,2,4]\n",
    "\n",
    "x = np.linspace(-8,8)\n",
    "y_list = [norm.pdf(x, loc = mu, scale = sigma)\n",
    "          for sigma in sigma_list]"
   ]
  },
  {
   "cell_type": "code",
   "execution_count": 21,
   "metadata": {
    "cell_style": "center",
    "slideshow": {
     "slide_type": "fragment"
    }
   },
   "outputs": [
    {
     "data": {
      "image/png": "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\n",
      "text/plain": [
       "<Figure size 432x288 with 1 Axes>"
      ]
     },
     "metadata": {
      "needs_background": "light"
     },
     "output_type": "display_data"
    }
   ],
   "source": [
    "fig,ax = plt.subplots()\n",
    "[ax.plot(x,y) for y in y_list]\n",
    "plt.show()"
   ]
  },
  {
   "cell_type": "markdown",
   "metadata": {
    "hidden": true,
    "slideshow": {
     "slide_type": "subslide"
    }
   },
   "source": [
    "The variance/std describes how closely the points gathered around the mean.  \n",
    "- Low variance means tight and skinny, high variance short and wide."
   ]
  },
  {
   "cell_type": "markdown",
   "metadata": {
    "slideshow": {
     "slide_type": "slide"
    }
   },
   "source": [
    "#### Sampling from normal distribution\n",
    "\n",
    "- rvs method:"
   ]
  },
  {
   "cell_type": "code",
   "execution_count": 22,
   "metadata": {
    "scrolled": true,
    "slideshow": {
     "slide_type": "subslide"
    }
   },
   "outputs": [
    {
     "data": {
      "text/plain": [
       "array([-0.32756802, -1.52079879,  0.89714124, -0.62170608, -0.7708182 ,\n",
       "        0.30826629, -0.19437493,  0.77038719, -1.80901921,  1.29908767,\n",
       "       -0.9253698 ,  0.18309461, -0.85273012, -0.49184428, -0.93282606,\n",
       "       -0.48941273, -1.15317279,  0.96757202, -0.09364389,  0.34615282,\n",
       "       -0.91753145, -1.14408592, -2.33440542, -1.3514136 , -0.98337254,\n",
       "        0.71208831,  0.43331658,  0.59083487,  1.03343006,  0.92385897,\n",
       "       -0.01931322, -0.4034433 , -0.28391769, -0.24506463, -0.8158534 ,\n",
       "       -1.20546385,  0.03853212,  0.05530648,  0.87718227,  1.21413271,\n",
       "        1.88116065,  1.86035748,  1.81220684, -0.15697779, -0.99564926,\n",
       "        1.28242372, -2.37050943, -0.71028583, -0.16333272,  0.71333785,\n",
       "        0.67444374, -1.65118505,  0.3713856 ,  0.76627251, -0.8139413 ,\n",
       "        0.92746526,  0.69333132,  0.78137541,  0.62569657, -0.30684571,\n",
       "        0.65468147,  0.53210416,  2.38500036, -0.06644241, -0.27114825,\n",
       "        0.19770666, -0.40554607, -1.09572178, -1.64925934, -1.81064626,\n",
       "        0.34040307, -0.93851337, -0.52311072,  0.25416118, -0.24512763,\n",
       "        0.74262343,  0.27676809, -1.93234524, -1.06866889, -0.92905622,\n",
       "        0.6698614 ,  0.1277985 , -0.86283141, -1.06033199,  0.48957053,\n",
       "        1.97987594, -0.60154921, -0.86397719,  1.19028272, -0.90861594,\n",
       "       -1.27119256,  1.37234465, -0.12621313,  1.15183016, -0.73466897,\n",
       "       -1.83086803,  0.51048232,  0.77020558, -0.94831589,  0.73362862])"
      ]
     },
     "execution_count": 22,
     "metadata": {},
     "output_type": "execute_result"
    }
   ],
   "source": [
    "# 20 random samples from normal with mean 0 and std 1.\n",
    "norm_sample = norm.rvs(loc = 0, scale = 1, size = 100)\n",
    "norm_sample"
   ]
  },
  {
   "cell_type": "markdown",
   "metadata": {
    "slideshow": {
     "slide_type": "subslide"
    }
   },
   "source": [
    "Looking at a histogram of sample:"
   ]
  },
  {
   "cell_type": "code",
   "execution_count": 23,
   "metadata": {
    "scrolled": true,
    "slideshow": {
     "slide_type": "fragment"
    }
   },
   "outputs": [
    {
     "data": {
      "image/png": "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\n",
      "text/plain": [
       "<Figure size 432x288 with 1 Axes>"
      ]
     },
     "metadata": {
      "needs_background": "light"
     },
     "output_type": "display_data"
    }
   ],
   "source": [
    "plt.hist(norm_sample)\n",
    "plt.title('Histogram of normal distribution sample')\n",
    "plt.xlabel('X')\n",
    "plt.ylabel('Count')\n",
    "plt.show()"
   ]
  },
  {
   "cell_type": "markdown",
   "metadata": {
    "cell_style": "split",
    "heading_collapsed": true,
    "slideshow": {
     "slide_type": "slide"
    }
   },
   "source": [
    "#### CDF: Cumulative Distribution Function\n",
    "Probability random variable <= a certain value. "
   ]
  },
  {
   "cell_type": "markdown",
   "metadata": {
    "cell_style": "split",
    "slideshow": {
     "slide_type": "fragment"
    }
   },
   "source": [
    "\n",
    "Mathematically, CDF is:\n",
    "\n",
    "$$F(x) = P(X\\leq x)$$"
   ]
  },
  {
   "cell_type": "markdown",
   "metadata": {
    "cell_style": "split",
    "slideshow": {
     "slide_type": "slide"
    }
   },
   "source": [
    "CDF exists for all probability distributions (discrete/continuous):\n",
    "\n",
    "For continuous variable:\n",
    "    \n",
    "- while PDF at given X = x is a probability *density*\n",
    "- CDF F(x) is actually a *probability*"
   ]
  },
  {
   "cell_type": "markdown",
   "metadata": {
    "cell_style": "split",
    "slideshow": {
     "slide_type": "fragment"
    }
   },
   "source": [
    "Mathematically, CDF is:\n",
    "\n",
    "$$F(x) = P(X\\leq x)$$"
   ]
  },
  {
   "cell_type": "markdown",
   "metadata": {
    "cell_style": "split",
    "slideshow": {
     "slide_type": "slide"
    }
   },
   "source": [
    "Why use the CDF?\n",
    "- Continuous variables:\n",
    "- Actually reports probability\n",
    "- Simple arithmetic operations to calculate probability of given range."
   ]
  },
  {
   "cell_type": "markdown",
   "metadata": {
    "cell_style": "split",
    "slideshow": {
     "slide_type": "fragment"
    }
   },
   "source": [
    "Implicitly used in most hypothesis tests:\n",
    "- Calculate probability of a measured value or values more extreme\n",
    "- CDF yields whether measured value is likely under a given distribution."
   ]
  },
  {
   "cell_type": "markdown",
   "metadata": {
    "cell_style": "split",
    "slideshow": {
     "slide_type": "slide"
    }
   },
   "source": [
    "####  Discrete case:\n",
    "\n",
    "Back to our ad click bait example: \n",
    "\n",
    "- Use CDF to calculate probability of having <= 2 clicks in 50 random samples.\n",
    "- Recall $p = 0.04$ for a click.\n",
    "\n",
    "$$P(x \\leq 2)$$"
   ]
  },
  {
   "cell_type": "markdown",
   "metadata": {
    "cell_style": "split",
    "slideshow": {
     "slide_type": "fragment"
    }
   },
   "source": [
    "#### CDF in scipy.stats\n",
    "\n",
    "- scipy.stats.binom.cdf()\n",
    "\n",
    "- Generally, scipy.stats.distribution.cdf(arguments)\n"
   ]
  },
  {
   "cell_type": "code",
<<<<<<< HEAD
<<<<<<< HEAD
   "execution_count": 24,
=======
   "execution_count": 239,
>>>>>>> 2e01b332b31580e154a3b864356cdd221f7d2c62
=======
   "execution_count": 81,
>>>>>>> parent of 2e01b33... Update distribution lectures
   "metadata": {
    "ExecuteTime": {
     "end_time": "2021-10-08T21:00:07.840276Z",
     "start_time": "2021-10-08T21:00:07.836086Z"
    },
    "slideshow": {
     "slide_type": "slide"
    }
   },
   "outputs": [
    {
     "data": {
      "text/plain": [
<<<<<<< HEAD
<<<<<<< HEAD
       "0.6767140040965929"
      ]
     },
     "execution_count": 24,
=======
       "0.1117287563463473"
      ]
     },
     "execution_count": 239,
>>>>>>> 2e01b332b31580e154a3b864356cdd221f7d2c62
=======
       "0.6767140040965933"
      ]
     },
     "execution_count": 81,
>>>>>>> parent of 2e01b33... Update distribution lectures
     "metadata": {},
     "output_type": "execute_result"
    }
   ],
   "source": [
    "# Create the random discrete value for the number of success\n",
    "x = 2\n",
    "n = 50\n",
    "p = 0.04\n",
    "\n",
    "# Calculate the probability for x equal or less than 8\n",
    "binom.cdf(k = x, n=n, p=p)"
   ]
  },
  {
   "cell_type": "markdown",
   "metadata": {
    "slideshow": {
     "slide_type": "slide"
    }
   },
   "source": [
    "Visualize pmf and cdf side by side"
   ]
  },
  {
   "cell_type": "code",
<<<<<<< HEAD
<<<<<<< HEAD
   "execution_count": 25,
=======
   "execution_count": 240,
>>>>>>> 2e01b332b31580e154a3b864356cdd221f7d2c62
=======
   "execution_count": 82,
>>>>>>> parent of 2e01b33... Update distribution lectures
   "metadata": {
    "cell_style": "split",
    "slideshow": {
     "slide_type": "fragment"
    }
   },
   "outputs": [
    {
     "data": {
<<<<<<< HEAD
<<<<<<< HEAD
      "image/png": "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\n",
=======
      "image/png": "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\n",
>>>>>>> 2e01b332b31580e154a3b864356cdd221f7d2c62
=======
      "image/png": "iVBORw0KGgoAAAANSUhEUgAAAYgAAAEWCAYAAAB8LwAVAAAAOXRFWHRTb2Z0d2FyZQBNYXRwbG90bGliIHZlcnNpb24zLjQuMywgaHR0cHM6Ly9tYXRwbG90bGliLm9yZy/MnkTPAAAACXBIWXMAAAsTAAALEwEAmpwYAAAgTklEQVR4nO3deZwdVZ338c83AQINQWRxIVsHDCI6stgEFJRFZBIWwWUUbGV0YNqIqDjyOAw4ikvcZnR4dNDYQVC0ERkFjRIBF6KPrEkwBgIEA2RpApOwyNYSjPk9f5y65Oamuvt2p6vrpu/3/Xr16946dU7V71Z316/OqbpVigjMzMxqjSo7ADMza0xOEGZmlssJwszMcjlBmJlZLicIMzPL5QRhZma5nCCsV5K+IOnsAdR/WtJeBYa0ReuV1CopJG2TTV8ladoQx7Jc0jHZ+/MkXVxHm+9I+twQrPtzkh6R9PCWLmskGqrt3EycILYS2Y7nL9nO8H8lXSppp2zevGzHt39Nm59k5Udm0xdI+mu2jMrPx3tZ3x7AacC3sukjJW2oavegpE9Xt4mInSLi/qH/9H3bgvV+EZg5kAaSdpZ0oaSV2XZYlk3vnhPX5yPijEHENWCSJgAfA/aLiJcM0TKr/+aelnR9zfx3SVoh6Znsb23XoVivNQ4niK3LiRGxE3AQcDDwiap595J26ABI2g04FFhbs4wfZjvUys+Xe1nXe4G5EfGXqrLVlXbA4cDpkk7eok9Uooi4DdhZUls99SVtB/waeCUwDdgZeB3wKDC1qDjrNAl4NCLWDLRhpUfVixOr/laOrWrzStLBw3uAFwM9wDcGum5rbE4QW6GIeBD4BfCqquIu4J2SRmfTpwJXA88NcjXTgd/2EcMDwE3AfpWyrLfysuz9dyRdJOkaSU9JulXS3lV1XydpvqQnstfXVc2blw2X3JQduf5M0m6SuiQ9mdVv7WW9x0v6Q1ZvlaQL+vmc84Dj69wmpwETgbdExF0RsSEi1kTEZyNibm3lrMf2/arpw7PP9OcstvfmtBkr6QZJX1NynKS7sm34oKRzctocA/wS2DPbXt/Jyt8saUm2vnmSXlHVZrmkf5W0GHimnySRpx34WUT8LiKeBv4deKuksXmVs3U9mH2OpZLemJVPlXRzFuNDkv47S8SVdiHpTEl/ytp+VtLeWZsnJV1ZqZ/1cruVhvYeyT5je28fQNIJkhZl675J0qv7i7fZOEFshbLhhOOAP1QVrwbuAipHeacBl23Bav4OWNpHDFOAw4Bb+ljGqcCngRcCy8iGc7KhiGuArwG7AV8Frsl6PRWnkI5OxwF7AzcDlwK7AncDn+plnc+QPvsupB3/B/rp5dwNPD80J2mxpHf1UvcY4NpshzggkiaSkvrXgT2AA4BFNXV2I/VQboyID0e6D863gfdHxFjSAcFvapcdEb8iJfRKD++9kvYBfgCcna1vLvCz6p0v6fdzPLBLRKzvJfQuSWslXa9NhzBfCfyxKob7SAcj++R89pcDZwEHZ5/j74Hl2ey/AR8FdgdeC7wROLNmEdOA15B6xB8HOkkJakK2TU6tqvuSbFnjgH8EOrP118Z0EHAJ8H7S3+C3gDmSxvQTb1Nxgti6/ETSn4Hfk47uP18z/zLgtOwPfJeIuDlnGe/IjpgqP3v2sq5dgKdqyvbM2jxJGtK6NYulN1dFxG3ZzqeLtFOEtFP6U0R8LyLWR8QPgHuAE6vaXhoR90XEE6Qd630R8atsWf8DHJi3woiYFxF3ZEf3i0k7ySP6iPGp7LNW2r86Ii7vpe5uwEN9LKsv7cCvIuIHEfHXiHg0IhZVzd+T9Dv9n4ioHjr8K7CfpJ0j4vGIuL3O9b0TuCYifhkRfwX+E9iBNCRW8bWIWFUzjFgbcytp+OoG4DpJu2TzdgKeqKn/BJDXg/gbMCb7HNtGxPIsoRARCyPiluzvYDlpR137+/pSRDwZEUuAO4HrI+L+qr+N2r+Ff4+IdRHxW9KByDtyYvpn4FsRcWtE/C0ivgusIyWhXuNtNk4QW5eTI2KXiJgUEWfm/GNfBRwNfAj4Xi/LuDJbRuVndS/1Hmfzf/bVWZudSTvVvwDf7SPe6qtpekg7FUg7wxU1dVeQjvoq/rfq/V9ypncih6RDsiGatZKeAGaQjih7Mxb4cx/zqz0KvLTOurUmAH3tZI4n7cBn1ZS/jdRbXCHpt5JeW+f6NtnGEbEBWMWm23hVXwuIiBsj4i8R0RMRXyBtp9dns58mnYOptjObH1QQEctIPZkLgDWSrqgcmEjaR9LPJT2cHXh8ns1/XwP5W3g8Ip6pml5B2ha1JgEfqz5YIv2O9uwr3mbjBDGCREQP6YjqA/SeIOq1mJzhgqp1PQFczqZH/fVaTfoHrTYReHAQy6p1OTAHmBARLyDtcNVH/VdQNVTSj18Bfy9px0HEtYo0VNab2cC1wNzq5UfE/Ig4CXgR8BPgyjrXt8k2liTSDrB6Gw/0Vs7Bxm25hE2H5vYiHXXfm9sw4vKIODyLKYAvZbO+Seo9TskOPM6j799Xf15Y8/uZSNoWtVYBM2sOllqy3mxf8TYVJ4iR5zzgiKy7viXm0sfQjNIltqeQdhSDWfY+SpdJbiPpnaST3T8fVKSbGgs8FhHPSpoK9HY+oeIIUlKtx/dIO5YfS9pX0iilk+fnSTqun7ZdwDGS3pF95t0kHVBT5yzSeZ+fS9pB0naS2iW9IBsmepI0/FGPK4HjJb1R0rakS2DXkS4s6JekiZIOy2LYXtL/IR3Z31j1eU6U9Ppsh/wZ0pDiZj0ISS+XdLSkMcCzpKP+yucYm32upyXtSzq42VKfzuJ+PXACaUiy1mxgRtbjlKQdlS5wGNtPvE3FCWKEiYjVEdHXeYF6XQYcJ2mHqrLKVTJPk7ruu5LGqQca46Okf9yPkYZtPg6cEBGPbHnYnAl8RtJTwCfp44hb0sHAM9nlrpWyJb1d+RIR60gnqu8hXTX0JHAbacd5a19BRcRK0lDRx4DHSCeo96+pE0AHKQn9FNiedKJ+eTb8MgN4d1/rqVrW0qzu14FHSD29EyOi3qvaxpKO7h8n9TqmAdOz3x3Z+YAZpESxJqtfe3K5YgzpOyePkIYdX0Q6kAE4h5TEnyLttH9YZ3y9eTiLeXUW24yIuKe2UkQsIJ2H+O+s/jLSpd39xdtUFH5gkPVC0ueBNRFxYdmxFEHSj4Fv512ialsfpS+Efj8ixpccyojhBGFmI4ITxNDzEJOZmeVyD8LMzHK5B2FmZrkGev+Vhrb77rtHa2tr2WGYmW01Fi5c+EhE7JE3b0QliNbWVhYsWFB2GGZmWw1JtXc1eJ6HmMzMLJcThJmZ5XKCMDOzXE4QZmaWywnCzMxyOUHY87q6oLUVRo1Kr11dZUdkZmUaUZe52uB1dUFHB/T0pOkVK9I0QPuA79dqZiOBexAGwPnnb0wOFT09qdzMmpMThAGwcuXAys1s5HOCaBBlj/9PnDiwcjMb+ZwgGkBl/H/FCojYOP4/nEli5kxoadm0rKUllZtZc3KCaACNMP7f3g6dnTBmTJqeNClN+wS1WfPyVUwNoFHG/9vbYfbs9H7evOFdt5k1HvcgGoDH/82sETlBNACP/5tZI3KCaAAe/zezRuRzEA3C4/9m1mjcgzAzs1xOEGZmlssJwszMcjlBmJlZLicIMzPL5QRhZma5nCDMzCxXoQlC0jRJSyUtk3Ruzvx2SYuzn5sk7V81b7mkOyQtkrSgyDjNzGxzhX1RTtJo4CLgTUA3MF/SnIi4q6raA8AREfG4pOlAJ3BI1fyjIuKRomI0M7PeFdmDmAosi4j7I+I54ArgpOoKEXFTRDyeTd4CjC8wHjMzG4AiE8Q4YFXVdHdW1pvTgV9UTQdwvaSFkjp6aySpQ9ICSQvWrl27RQGbmdlGRd6LSTllkVtROoqUIA6vKj4sIlZLehHwS0n3RMTvNltgRCdpaIq2trbc5ZuZ2cAV2YPoBiZUTY8HVtdWkvRq4GLgpIh4tFIeEauz1zXA1aQhKzMzGyZFJoj5wBRJkyVtB5wCzKmuIGkicBXwnoi4t6p8R0ljK++BY4E7C4zVzMxqFDbEFBHrJZ0FXAeMBi6JiCWSZmTzZwGfBHYDviEJYH1EtAEvBq7OyrYBLo+Ia4uK1czMNlfo8yAiYi4wt6ZsVtX7M4AzctrdD+xfW25mZsPH36Q2M7NcThBmZpbLCcLMzHI5QZiZWS4nCDMzy+UEYWZmuZwgzMwslxOEmZnlcoIwM7NcThBmZpbLCcLMzHI5QZiZWS4nCDMzy+UEYWZmuZwgzMwslxOEmZnlcoIwM7NcThBmZpbLCcLMzHI5QZiZWS4nCDMzy+UEYWZmuZwgzMwslxOEmZnlcoIwM7NcThBmZpbLCcLMzHIVmiAkTZO0VNIySefmzG+XtDj7uUnS/vW2NTOzYhWWICSNBi4CpgP7AadK2q+m2gPAERHxauCzQOcA2pqZWYGK7EFMBZZFxP0R8RxwBXBSdYWIuCkiHs8mbwHG19vWzMyKVWSCGAesqpruzsp6czrwi4G2ldQhaYGkBWvXrt2CcM3MrFqRCUI5ZZFbUTqKlCD+daBtI6IzItoiom2PPfYYVKBmZra5bQpcdjcwoWp6PLC6tpKkVwMXA9Mj4tGBtDUzs+IU2YOYD0yRNFnSdsApwJzqCpImAlcB74mIewfS1szMilVYDyIi1ks6C7gOGA1cEhFLJM3I5s8CPgnsBnxDEsD6bLgot21RsZqZ2eaKHGIiIuYCc2vKZlW9PwM4o962ZmY2fPxNajMzy+UEYWZmuZwgrOF0dUFrK4walV67usqOyKw5FXoOwmygurqgowN6etL0ihVpGqC9vby4zJqRexDWUM4/f2NyqOjpSeVmNrycIKyhrFw5sHIzK44ThDWUiRMHVm5mxXGCsIYycya0tGxa1tKSys1seDlBWENpb4fOThgzJk1PmpSmfYLabPj5KiZrOO3tMHt2ej9vXqmhmDU19yDMzCyXE4SZmeVygjAzs1xOEGZmlquuBCHpBElOJmZmTaTenf4pwJ8kfVnSK4oMyMzMGkNdCSIi3g0cCNwHXCrpZkkdksYWGp2ZmZWm7mGjiHgS+DFwBfBS4C3A7ZI+VFBsZmZWonrPQbxZ0tXAb4BtgakRMR3YHzinwPjMzKwk9X6T+u3Af0XE76oLI6JH0j8NfVhmZla2eoeYHqpNDpK+BBARvx7yqMzMrHT1Jog35ZRNH8pAzMyssfQ5xCTpA8CZwN6SFlfNGgvcWGRgZmZWrv7OQVwO/AL4AnBuVflTEfFYYVGZmVnp+ksQERHLJX2wdoakXZ0kzMxGrnp6ECcAC4EAVDUvgL0KisvMzErW50nqiDghe50cEXtlr5WffpODpGmSlkpaJuncnPn7Zt/KXifpnJp5yyXdIWmRpAUD/WBmZrZl+jtJfVBf8yPi9j7ajgYuIl0B1Q3MlzQnIu6qqvYY8GHg5F4Wc1REPNJXDGZmVoz+hpi+0se8AI7uY/5UYFlE3A8g6QrgJOD5BBERa4A1ko6vL1wzMxsufSaIiDhqC5Y9DlhVNd0NHDKA9gFcLymAb0VE5xbEYmZmA9TfENPREfEbSW/Nmx8RV/XVPK/JAGI7LCJWS3oR8EtJ99R+mzuLsQPoAJg4ceIAFm9mZn3pb4jpCNIN+k7MmRdAXwmiG5hQNT0eWF1vYBGxOntdk90ocCqwWYLIehadAG1tbQNJQGZm1of+hpg+lb2+bxDLng9MkTQZeJD00KF31dNQ0o7AqIh4Knt/LPCZQcRgZmaDVNfdXCXtBnwKOJzUc/g98JmIeLS3NhGxXtJZwHXAaOCSiFgiaUY2f5aklwALgJ2BDZLOBvYDdgeullSJ8fKIuHZwH9HMzAaj3tt9X0Ea3nlbNt0O/BA4pq9GETEXmFtTNqvq/cOkoadaT5KeNWFmZiWpN0HsGhGfrZr+nKSTC4jHzMwaRL23+75B0imSRmU/7wCuKTIwMzMrV3+XuT7Fxnsw/Qvw/WzWKOBp0nkJMzMbgfq7imnscAViZmaNpd5zEEh6ITAF2L5SlvfFNTMzGxnqvcz1DOAjpCuOFgGHAjfT972YzMxsK1bvSeqPAAcDK7L7Mx0IrC0sqmHU1QWtrTBqVHrt6io7IjOzxlDvENOzEfGsJCSNiYh7JL280MiGQVcXdHRAT0+aXrEiTQO0t5cXl5lZI6i3B9EtaRfgJ6Qb5/2UAdxXqVGdf/7G5FDR05PKzcyaXV09iIh4S/b2Akk3AC8AtvpbX6xcObByM7NmMpCrmA5i472YboyI5wqLaphMnJiGlfLKzcyaXV1DTJI+CXwX2I10I71LJX2iyMCGw8yZ0NKyaVlLSyo3M2t29fYgTgUOjIhnASR9Ebgd+FxRgQ2Hyono00+Hdetg0qSUHHyC2sys/gSxnPQFuWez6THAfUUENNza22H27PR+3rxSQzEzayj93Yvp66RzDuuAJZJ+mU2/ifRMCDMzG6H660EsyF4XAldXlc8rJBozM2sY/d2s77uV95K2A/bJJpdGxF+LDMzMzMpV772YjiRdxbScdOvvCZL+0TfrMzMbueo9Sf0V4NiIWAogaR/gB8BrigrMzMzKVe+tNratJAeAiLgX2LaYkMzMrBHU24NYKOnbwPey6XbSiWszMxuh6k0QM4APAh8mnYP4HfCNooIyM7Py9ZsgJI0CFkbEq4CvFh+SmZk1gn7PQUTEBuCPknwLOzOzJlLvENNLSd+kvg14plIYEW8uJCozMytdvQni04VGYWZmDae/ezFtTzpB/TLgDuDbEbF+OAIzM7Ny9XcO4rtAGyk5TCd9Ya5ukqZJWippmaRzc+bvK+lmSesknTOQtmZmVqz+hpj2i4i/A8i+B3FbvQuWNBq4iHTn125gvqQ5EXFXVbXHSJfOnjyItmZmVqD+ehDP35BvEENLU4FlEXF/9njSK4CTqitExJqImF+9nnrbmplZsfrrQewv6cnsvYAdsmkBERE799F2HLCqarobOKTOuOpuK6kD6ACY6IdJm5kNmf5u9z16C5atvEUOdduI6AQ6Adra2updvpmZ9aPem/UNRjcwoWp6PLB6GNqamdkQKDJBzAemSJqcPWzoFGDOMLQ1M7MhUFiCyE5qnwVcB9wNXBkRSyTNkDQDQNJLJHUD/wJ8QlK3pJ17a1tUrGZ5urqgtRVGjUqvXV1lR2Q2vOr9JvWgRMRcYG5N2ayq9w+Tho/qams2XLq6oKMDenrS9IoVaRqgvb28uMyGU5FDTGZbrfPP35gcKnp6UrlZs3CCMMuxcuXAys1GIicIsxy9faXGX7WxZuIEYZZj5kxoadm0rKUllZs1CycIsxzt7dDZCWPGpOlJk9K0T1BbMyn0KiazrVl7O8yend7Pm1dqKGalcA/CzMxyOUGYmVkuJwgzM8vlBGFmZrmcIMzMLJcThJmZ5XKCMDOzXE4QZmaWywnCzMxyOUGYmVkuJwgzM8vlBGFmZrmcIMzMLJcThJmZ5XKCMDOzXE4QZmaWywnCzMxyOUGYmVkuJwgzM8vlBGFmZrmcIMzMLFehCULSNElLJS2TdG7OfEn6WjZ/saSDquYtl3SHpEWSFhQZp5mZbW6bohYsaTRwEfAmoBuYL2lORNxVVW06MCX7OQT4ZvZacVREPFJUjGZm1rsiexBTgWURcX9EPAdcAZxUU+ck4LJIbgF2kfTSAmMyM7M6FZkgxgGrqqa7s7J66wRwvaSFkjp6W4mkDkkLJC1Yu3btEIRtZmZQbIJQTlkMoM5hEXEQaRjqg5LekLeSiOiMiLaIaNtjjz0GH62ZmW2iyATRDUyomh4PrK63TkRUXtcAV5OGrMzMbJgUmSDmA1MkTZa0HXAKMKemzhzgtOxqpkOBJyLiIUk7ShoLIGlH4FjgzgJjNTOzGoVdxRQR6yWdBVwHjAYuiYglkmZk82cBc4HjgGVAD/C+rPmLgaslVWK8PCKuLSpWMzPbXGEJAiAi5pKSQHXZrKr3AXwwp939wP5FxmZmZn3zN6nNzCyXE4SZmeVygjBrcF1d0NoKo0al166usiOyZlHoOQgz2zJdXdDRAT09aXrFijQN0N5eXlzWHNyDMGtg55+/MTlU9PSkcrOiOUGYNbCVKwdWbjaUnCDMGtjEiQMrNxtKThBmDWzmTGhp2bSspSWVmxXNCcKsgbW3Q2cnjBmTpidNStM+QW3DwVcxmTW49naYPTu9nzev1FCsybgHYWZmuZwgzMwslxOEmZnlcoIwM7NcThBmZpbLCcLMzHI5QZiZWS4nCDMzy+UEYWZmuZwgzKwufnBR8/GtNsysX35wUXNyD8LM+uUHFzUnJwgz65cfXNScnCDMrF9+cFFzcoIws375wUXNyQnCzPrVSA8u8tVUw8cJwszq0t4Ohx4KRxwBy5eXlxw6OtJVVBEbr6Ya7iTRLEmq0AQhaZqkpZKWSTo3Z74kfS2bv1jSQfW2NbPm0whXUzVKkqrEUmSiKixBSBoNXARMB/YDTpW0X0216cCU7KcD+OYA2ppZk2mEq6kaIUnB8CSqIr8oNxVYFhH3A0i6AjgJuKuqzknAZRERwC2SdpH0UqC1jrZD5qxlZ/OypxfBkUUsvX4XLsreHNncMYDjqOU4kpu2g2fXbV6+/XYMW0zfWdHLjBXDFwPA3rfANdm2WMQBfJQLn09UQzX8V2SCGAesqpruBg6po864OtsCIKmD1Ptg4iCvuXv724FFg2o6pA44oOwIGiMGcBy1HEcyeTIsvRc2bNhYNmpUKh8u24/pJUmNGb4YID8GGNreVJEJQjllUWedetqmwohOoBOgra0tt06/LrxwUM3MbHi9GPhVVzpKXrkyfQ9j5kx4wzCeML+v5rYjkC757eyEQ4cxjve2pmGlWkP53ZQiT1J3AxOqpscDq+usU09bM2tC7e3pKqoNG8q5mqpyye+kSSCVd8nvcHw3pcgEMR+YImmypO2AU4A5NXXmAKdlVzMdCjwREQ/V2dbMrBRlJ6lKDEUnqsKGmCJivaSzgOuA0cAlEbFE0oxs/ixgLnAcsAzoAd7XV9uiYjUz2xq1txebnJQuIBoZ2traYsGCBWWHYWa21ZC0MCLa8ub5m9RmZpbLCcLMzHI5QZiZWS4nCDMzyzWiTlJLWkv6wvtg7A48MoThbM28LTbl7bEpb4+NRsK2mBQRe+TNGFEJYktIWtDbmfxm422xKW+PTXl7bDTSt4WHmMzMLJcThJmZ5XKC2Kiz7AAaiLfFprw9NuXtsdGI3hY+B2FmZrncgzAzs1xOEGZmlqvpE4SkaZKWSlom6dyy4ymTpAmSbpB0t6Qlkj5SdkxlkzRa0h8k/bzsWMqWPRL4R5Luyf5GXlt2TGWS9NHs/+ROST+QtH3ZMQ21pk4QkkYDFwHTgf2AUyXtV25UpVoPfCwiXgEcCnywybcHwEeAu8sOokH8X+DaiNgX2J8m3i6SxgEfBtoi4lWkxxKcUm5UQ6+pEwQwFVgWEfdHxHPAFcBJJcdUmoh4KCJuz94/RdoBjCs3qvJIGg8cD1xcdixlk7Qz8Abg2wAR8VxE/LnUoMq3DbCDpG2AFkbgUy+bPUGMA1ZVTXfTxDvEapJagQOBW0sOpUwXAh8HNpQcRyPYC1gLXJoNuV0saceygypLRDwI/CewEniI9DTM68uNaug1e4JQTlnTX/craSfgx8DZEfFk2fGUQdIJwJqIWFh2LA1iG+Ag4JsRcSDwDNC05+wkvZA02jAZ2BPYUdK7y41q6DV7gugGJlRNj2cEdhMHQtK2pOTQFRFXlR1PiQ4D3ixpOWno8WhJ3y83pFJ1A90RUelR/oiUMJrVMcADEbE2Iv4KXAW8ruSYhlyzJ4j5wBRJkyVtRzrJNKfkmEojSaQx5rsj4qtlx1OmiPi3iBgfEa2kv4vfRMSIO0KsV0Q8DKyS9PKs6I3AXSWGVLaVwKGSWrL/mzcyAk/ab1N2AGWKiPWSzgKuI12FcElELCk5rDIdBrwHuEPSoqzsvIiYW15I1kA+BHRlB1P3A+8rOZ7SRMStkn4E3E66+u8PjMDbbvhWG2ZmlqvZh5jMzKwXThBmZpbLCcLMzHI5QZiZWS4nCDMzy+UEYVs9SSHpK1XT50i6YIiW/R1Jbx+KZfWznn/I7pB6w0Djym570etNFSVdIOmcoYrVmocThI0E64C3Stq97ECqZXcLrtfpwJkRcdRA1xMRZ0REM39pzQriBGEjwXrSl5Q+Wjujtgcg6ens9UhJv5V0paR7JX1RUruk2yTdIWnvqsUcI+n/ZfVOyNqPlvQfkuZLWizp/VXLvUHS5cAdOfGcmi3/Tklfyso+CRwOzJL0HzltPp61+aOkL+bMnyepLXs/TdLtWd1f59T9Z0m/kLSDpA9LuiuL/4q+N7E1o6b+JrWNKBcBiyV9eQBt9gdeATxG+mbwxRExNXtQ0oeAs7N6rcARwN7ADZJeBpxGuoPnwZLGADdKqtzNcyrwqoh4oHplkvYEvgS8BngcuF7SyRHxGUlHA+dExIKaNtOBk4FDIqJH0q69fRhJewCzgTdExAO1dbO7BhwLnBwR65QekDU5e79LndvMmoh7EDYiZHedvYz0EJd6zc+egbEOuA+o7ODvICWFiisjYkNE/ImUSPYl7WhPy25JciuwGzAlq39bbXLIHAzMy27wth7oIj1joS/HAJdGRE/2OR/ro+6hwO8q666p+x7Sg7Heln1egMWkW2e8m9QLM9uEE4SNJBeSxvKrn1OwnuzvPLup2nZV89ZVvd9QNb2BTXvXtfejCdKt4j8UEQdkP5OrngfwTC/x5d1evj/KWf9g6t5JSnrjq8qOJ/W8XgMszB58Y/Y8JwgbMbIj5itJSaJiOWkHCOn+/dsOYtH/IGlUdl5iL2Ap6QaPH8huj46kfep4gM6twBGSds9OYJ8K/LafNtcD/ySpJVtPr0NMwM3Z8ifn1P0D8H5gjqQ9JY0CJkTEDaSHIu0C7NRPLNZkfMRgI81XgLOqpmcDP5V0G/Brej+678tS0o78xcCMiHhW0sWkI/Lbs57JWtK5gl5FxEOS/g24gXS0PzciftpPm2slHQAskPQcMBc4r5e6ayV1AFdlCWAN8Kaq+b/PLne9hjRE9n1JL8hi+S8/QtRq+W6uZmaWy0NMZmaWywnCzMxyOUGYmVkuJwgzM8vlBGFmZrmcIMzMLJcThJmZ5fr/seDM3SfennsAAAAASUVORK5CYII=\n",
>>>>>>> parent of 2e01b33... Update distribution lectures
      "text/plain": [
       "<Figure size 432x288 with 1 Axes>"
      ]
     },
     "metadata": {
      "needs_background": "light"
     },
     "output_type": "display_data"
    }
   ],
   "source": [
    "x,y = list(zip(*pmf_binomial))\n",
    "plt.stem(x, y, linefmt='b-', markerfmt='bo', basefmt='r-')\n",
    "plt.xlabel('Number of clicks')\n",
    "plt.ylabel('Probability')\n",
    "plt.title('PMF (Binomial): Clicks for 50 samples')\n",
    "plt.show()"
   ]
  },
  {
   "cell_type": "code",
<<<<<<< HEAD
<<<<<<< HEAD
   "execution_count": 26,
=======
   "execution_count": 241,
>>>>>>> 2e01b332b31580e154a3b864356cdd221f7d2c62
=======
   "execution_count": 49,
>>>>>>> parent of 2e01b33... Update distribution lectures
   "metadata": {
    "cell_style": "split",
    "slideshow": {
     "slide_type": "fragment"
    }
   },
   "outputs": [
    {
     "data": {
<<<<<<< HEAD
<<<<<<< HEAD
      "image/png": "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\n",
=======
      "image/png": "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\n",
>>>>>>> 2e01b332b31580e154a3b864356cdd221f7d2c62
=======
      "image/png": "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\n",
>>>>>>> parent of 2e01b33... Update distribution lectures
      "text/plain": [
       "<Figure size 432x288 with 1 Axes>"
      ]
     },
     "metadata": {
      "needs_background": "light"
     },
     "output_type": "display_data"
    }
   ],
   "source": [
    "cdf_y = binom.cdf(k = x, n=n, p=p)\n",
    "plt.plot(x, cdf_y, c = 'b', linestyle = '--')\n",
    "plt.xlabel('Number of clicks')\n",
    "plt.ylabel('Probability')\n",
    "plt.title('CDF of binomial: Ad click rate')\n",
    "plt.show()"
   ]
  },
  {
   "cell_type": "markdown",
   "metadata": {
    "cell_style": "center",
    "slideshow": {
     "slide_type": "subslide"
    }
   },
   "source": [
    "- What is the probability of getting less than 8 clicks?"
   ]
  },
  {
   "cell_type": "code",
<<<<<<< HEAD
<<<<<<< HEAD
   "execution_count": 27,
=======
   "execution_count": 242,
>>>>>>> 2e01b332b31580e154a3b864356cdd221f7d2c62
=======
   "execution_count": 83,
>>>>>>> parent of 2e01b33... Update distribution lectures
   "metadata": {
    "slideshow": {
     "slide_type": "fragment"
    }
   },
   "outputs": [
    {
     "data": {
      "text/plain": [
       "0.9998520965199652"
      ]
     },
<<<<<<< HEAD
<<<<<<< HEAD
     "execution_count": 27,
=======
     "execution_count": 242,
>>>>>>> 2e01b332b31580e154a3b864356cdd221f7d2c62
=======
     "execution_count": 83,
>>>>>>> parent of 2e01b33... Update distribution lectures
     "metadata": {},
     "output_type": "execute_result"
    }
   ],
   "source": [
    "binom.cdf(8, n = n, p = p)"
   ]
  },
  {
   "cell_type": "markdown",
   "metadata": {
    "slideshow": {
     "slide_type": "fragment"
    }
   },
   "source": [
    "- Probability of getting less than infinity?\n",
    "(this is all possible values)"
   ]
  },
  {
   "cell_type": "code",
<<<<<<< HEAD
<<<<<<< HEAD
   "execution_count": 28,
=======
   "execution_count": 243,
>>>>>>> 2e01b332b31580e154a3b864356cdd221f7d2c62
=======
   "execution_count": 84,
>>>>>>> parent of 2e01b33... Update distribution lectures
   "metadata": {
    "slideshow": {
     "slide_type": "fragment"
    }
   },
   "outputs": [
    {
     "data": {
      "text/plain": [
       "1.0"
      ]
     },
<<<<<<< HEAD
<<<<<<< HEAD
     "execution_count": 28,
=======
     "execution_count": 243,
>>>>>>> 2e01b332b31580e154a3b864356cdd221f7d2c62
=======
     "execution_count": 84,
>>>>>>> parent of 2e01b33... Update distribution lectures
     "metadata": {},
     "output_type": "execute_result"
    }
   ],
   "source": [
    "binom.cdf(np.inf, n = n, p = p)"
   ]
  },
  {
   "cell_type": "code",
<<<<<<< HEAD
<<<<<<< HEAD
   "execution_count": 29,
=======
   "execution_count": 227,
>>>>>>> 2e01b332b31580e154a3b864356cdd221f7d2c62
=======
   "execution_count": 52,
>>>>>>> parent of 2e01b33... Update distribution lectures
   "metadata": {
    "cell_style": "split",
    "slideshow": {
     "slide_type": "slide"
    }
   },
   "outputs": [
    {
     "data": {
<<<<<<< HEAD
<<<<<<< HEAD
      "image/png": "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\n",
=======
      "image/png": "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\n",
>>>>>>> 2e01b332b31580e154a3b864356cdd221f7d2c62
=======
      "image/png": "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\n",
>>>>>>> parent of 2e01b33... Update distribution lectures
      "text/plain": [
       "<Figure size 432x288 with 1 Axes>"
      ]
     },
     "metadata": {
      "needs_background": "light"
     },
     "output_type": "display_data"
    }
   ],
   "source": [
    "cdf_y = binom.cdf(k = x, n=n, p=p)\n",
    "plt.plot(x, cdf_y, c = 'b', linestyle = '--')\n",
    "plt.xlabel('Number of clicks')\n",
    "plt.ylabel('Probability')\n",
    "plt.title('CDF of binomial: Ad click rate')\n",
    "plt.axvline(2, c = 'r', linestyle = '--')\n",
    "plt.axvline(4, c = 'r', linestyle = '--')\n",
    "plt.show()"
   ]
  },
  {
   "cell_type": "markdown",
   "metadata": {
    "cell_style": "split",
    "slideshow": {
     "slide_type": "slide"
    }
   },
   "source": [
    "What is probability of getting between 2 and 4?\n",
    "- $ P(x <= 4) - P(x<=2)$"
   ]
  },
  {
   "cell_type": "code",
<<<<<<< HEAD
<<<<<<< HEAD
   "execution_count": 30,
=======
   "execution_count": 228,
>>>>>>> 2e01b332b31580e154a3b864356cdd221f7d2c62
=======
   "execution_count": 85,
>>>>>>> parent of 2e01b33... Update distribution lectures
   "metadata": {
    "cell_style": "split",
    "slideshow": {
     "slide_type": "fragment"
    }
   },
   "outputs": [
    {
     "data": {
      "text/plain": [
<<<<<<< HEAD
<<<<<<< HEAD
       "0.2743145240188942"
      ]
     },
     "execution_count": 30,
=======
       "0.31946965048271503"
      ]
     },
     "execution_count": 228,
>>>>>>> 2e01b332b31580e154a3b864356cdd221f7d2c62
=======
       "0.2743145240188939"
      ]
     },
     "execution_count": 85,
>>>>>>> parent of 2e01b33... Update distribution lectures
     "metadata": {},
     "output_type": "execute_result"
    }
   ],
   "source": [
    "Pless4 = binom.cdf(k = 4, n=n, p=p)  \n",
    "Pless2 = binom.cdf(k = 2, n=n, p=p)\n",
    "\n",
    "Pless4 - Pless2"
   ]
  },
  {
   "cell_type": "markdown",
   "metadata": {
    "slideshow": {
     "slide_type": "slide"
    }
   },
   "source": [
    "What is the probability that we have greater than 4 clicks?\n",
    "$$ P(x <= \\infty) - P(x<=4)$$"
   ]
  },
  {
   "cell_type": "markdown",
   "metadata": {
    "slideshow": {
     "slide_type": "fragment"
    }
   },
   "source": [
    "$$ 1 - P(x<=4) $$"
   ]
  },
  {
   "cell_type": "markdown",
   "metadata": {
    "slideshow": {
     "slide_type": "slide"
    }
   },
   "source": [
    "In python:"
   ]
  },
  {
   "cell_type": "code",
<<<<<<< HEAD
<<<<<<< HEAD
   "execution_count": 31,
=======
   "execution_count": 229,
>>>>>>> 2e01b332b31580e154a3b864356cdd221f7d2c62
=======
   "execution_count": 86,
>>>>>>> parent of 2e01b33... Update distribution lectures
   "metadata": {
    "slideshow": {
     "slide_type": "fragment"
    }
   },
   "outputs": [
    {
     "data": {
      "text/plain": [
<<<<<<< HEAD
<<<<<<< HEAD
       "0.048971471884512896"
      ]
     },
     "execution_count": 31,
=======
       "0.5688015931709377"
      ]
     },
     "execution_count": 229,
>>>>>>> 2e01b332b31580e154a3b864356cdd221f7d2c62
=======
       "0.048971471884512785"
      ]
     },
     "execution_count": 86,
>>>>>>> parent of 2e01b33... Update distribution lectures
     "metadata": {},
     "output_type": "execute_result"
    }
   ],
   "source": [
    "1 - binom.cdf(4, n, p)"
   ]
  },
  {
   "cell_type": "markdown",
   "metadata": {
    "slideshow": {
     "slide_type": "fragment"
    }
   },
   "source": [
    "And if you are really that lazy:\n",
    "- $P(X >x)$ as survival function: distribution.sf()"
   ]
  },
  {
   "cell_type": "code",
<<<<<<< HEAD
<<<<<<< HEAD
   "execution_count": 32,
=======
   "execution_count": 230,
>>>>>>> 2e01b332b31580e154a3b864356cdd221f7d2c62
=======
   "execution_count": 55,
>>>>>>> parent of 2e01b33... Update distribution lectures
   "metadata": {
    "scrolled": true,
    "slideshow": {
     "slide_type": "fragment"
    }
   },
   "outputs": [
    {
     "data": {
      "text/plain": [
<<<<<<< HEAD
<<<<<<< HEAD
       "0.04897147188451269"
      ]
     },
     "execution_count": 32,
=======
       "0.5688015931709377"
      ]
     },
     "execution_count": 230,
>>>>>>> 2e01b332b31580e154a3b864356cdd221f7d2c62
=======
       "0.04897147188451279"
      ]
     },
     "execution_count": 55,
>>>>>>> parent of 2e01b33... Update distribution lectures
     "metadata": {},
     "output_type": "execute_result"
    }
   ],
   "source": [
    "binom.sf(4, n , p)"
   ]
  },
  {
   "cell_type": "markdown",
   "metadata": {
    "slideshow": {
     "slide_type": "fragment"
    }
   },
   "source": [
    "5\\% chance of getting greater than 4 clicks in 50 randomized user-site interactions."
   ]
  },
  {
   "cell_type": "markdown",
   "metadata": {
    "slideshow": {
     "slide_type": "slide"
    }
   },
   "source": [
    "Generally:\n",
    "$$ P(X > x) = 1 - P(X <= x) $$\n",
    "\n",
    "<center>1 - distribution.cdf(x, parameters) </center>"
   ]
  },
  {
   "cell_type": "markdown",
   "metadata": {
    "cell_style": "split",
    "slideshow": {
     "slide_type": "slide"
    }
   },
   "source": [
    "#### Continuous Distribution\n",
    "- CDF of the normal distribution\n",
    "\n",
    "Example case: distribution of heights. \n",
    "\n",
    "We observe the mean is 5.5 ft with a standard deviation of 0.5 ft.\n",
    "\n",
    "Model with normal distribution."
   ]
  },
  {
   "cell_type": "code",
<<<<<<< HEAD
<<<<<<< HEAD
   "execution_count": 33,
=======
   "execution_count": 245,
>>>>>>> 2e01b332b31580e154a3b864356cdd221f7d2c62
=======
   "execution_count": 87,
>>>>>>> parent of 2e01b33... Update distribution lectures
   "metadata": {
    "cell_style": "split",
    "slideshow": {
     "slide_type": "fragment"
    }
   },
   "outputs": [
    {
     "data": {
      "image/png": "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\n",
      "text/plain": [
       "<Figure size 432x288 with 1 Axes>"
      ]
     },
     "metadata": {
      "needs_background": "light"
     },
     "output_type": "display_data"
    }
   ],
   "source": [
    "mu = 5.5 # mean\n",
    "sigma = 0.5 # standard deviation\n",
    "\n",
    "x = np.linspace(2,9)\n",
    "y_norm = norm.pdf(x, loc = mu, scale = sigma)\n",
    "plt.plot(x, y_norm)\n",
    "plt.xlabel('Height (ft.)')\n",
    "plt.ylabel('PDF')\n",
    "plt.title('PDF:  Normally distributed Heights')\n",
    "plt.show()\n"
   ]
  },
  {
   "cell_type": "markdown",
   "metadata": {
    "cell_style": "center",
    "slideshow": {
     "slide_type": "slide"
    }
   },
   "source": [
    "Probability that height <= 4.7:"
   ]
  },
  {
   "cell_type": "code",
<<<<<<< HEAD
<<<<<<< HEAD
   "execution_count": 34,
=======
   "execution_count": 246,
>>>>>>> 2e01b332b31580e154a3b864356cdd221f7d2c62
=======
   "execution_count": 57,
>>>>>>> parent of 2e01b33... Update distribution lectures
   "metadata": {
    "cell_style": "split",
    "scrolled": true,
    "slideshow": {
     "slide_type": "subslide"
    }
   },
   "outputs": [
    {
     "data": {
      "image/png": "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\n",
      "text/plain": [
       "<Figure size 432x288 with 1 Axes>"
      ]
     },
     "metadata": {
      "needs_background": "light"
     },
     "output_type": "display_data"
    }
   ],
   "source": [
    "mu = 5.5 # mean\n",
    "sigma = 0.5 # standard deviation\n",
    "\n",
    "x = np.linspace(2,9, num = 100)\n",
    "y_norm = norm.pdf(x, loc = mu, scale = sigma)\n",
    "plt.plot(x, y_norm)\n",
    "plt.fill_between(x,y_norm, where = (x <= 4.7), color='r')\n",
    "plt.axvline(x = 4.7, c = 'r', linestyle = '--')\n",
    "plt.xlabel('Height (ft.)')\n",
    "plt.ylabel('PDF')\n",
    "plt.title('PDF:  Normally distributed Heights')\n",
    "plt.show()"
   ]
  },
  {
   "cell_type": "code",
<<<<<<< HEAD
<<<<<<< HEAD
   "execution_count": 35,
=======
   "execution_count": 247,
>>>>>>> 2e01b332b31580e154a3b864356cdd221f7d2c62
=======
   "execution_count": 58,
>>>>>>> parent of 2e01b33... Update distribution lectures
   "metadata": {
    "cell_style": "split",
    "slideshow": {
     "slide_type": "fragment"
    }
   },
   "outputs": [
    {
     "data": {
      "image/png": "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\n",
      "text/plain": [
       "<Figure size 432x288 with 1 Axes>"
      ]
     },
     "metadata": {
      "needs_background": "light"
     },
     "output_type": "display_data"
    }
   ],
   "source": [
    "mu = 5.5 # mean\n",
    "sigma = 0.5 # standard deviation\n",
    "\n",
    "x = np.linspace(2,9, num = 100)\n",
    "y_norm_cdf = norm.cdf(x, loc = mu, scale = sigma)\n",
    "plt.plot(x, y_norm_cdf)\n",
    "plt.axvline(x = 4.7, c = 'r', linestyle = '--')\n",
    "plt.xlabel('Height (ft.)')\n",
    "plt.ylabel('CDF')\n",
    "plt.title('CDF:  Normally distributed Heights')\n",
    "plt.show()"
   ]
  },
  {
   "cell_type": "code",
   "execution_count": 36,
   "metadata": {
    "cell_style": "center",
    "slideshow": {
     "slide_type": "subslide"
    }
   },
   "outputs": [
    {
     "data": {
      "text/plain": [
       "0.05479929169955804"
      ]
     },
     "execution_count": 36,
     "metadata": {},
     "output_type": "execute_result"
    }
   ],
   "source": [
    "norm.cdf(4.7, loc = mu, scale = 0.5 )"
   ]
  },
  {
   "cell_type": "markdown",
   "metadata": {
    "slideshow": {
     "slide_type": "slide"
    }
   },
   "source": [
    "Probability that height is less than 4.5 ft and greater than 6.5 ft?\n",
    "- Help me out. Use cdf and sf."
   ]
  },
  {
   "cell_type": "code",
<<<<<<< HEAD
<<<<<<< HEAD
   "execution_count": 37,
=======
   "execution_count": 251,
>>>>>>> 2e01b332b31580e154a3b864356cdd221f7d2c62
=======
   "execution_count": 89,
>>>>>>> parent of 2e01b33... Update distribution lectures
   "metadata": {
    "cell_style": "center"
   },
   "outputs": [
    {
     "data": {
      "text/plain": [
       "0.04550026389635839"
      ]
     },
<<<<<<< HEAD
<<<<<<< HEAD
     "execution_count": 37,
     "metadata": {},
     "output_type": "execute_result"
=======
     "metadata": {
      "needs_background": "light"
     },
     "output_type": "display_data"
>>>>>>> 2e01b332b31580e154a3b864356cdd221f7d2c62
=======
     "execution_count": 89,
     "metadata": {},
     "output_type": "execute_result"
>>>>>>> parent of 2e01b33... Update distribution lectures
    }
   ],
   "source": [
    "# mu is defined as mean already, set scale to 0.5 (std)\n",
    "\n",
    "norm.cdf(4.5, loc = mu, scale =0.5) + norm.sf(6.5, loc = mu, scale =0.5)"
   ]
  }
 ],
 "metadata": {
  "celltoolbar": "Slideshow",
  "kernelspec": {
   "display_name": "Python 3",
   "language": "python",
   "name": "python3"
  },
  "language_info": {
   "codemirror_mode": {
    "name": "ipython",
    "version": 3
   },
   "file_extension": ".py",
   "mimetype": "text/x-python",
   "name": "python",
   "nbconvert_exporter": "python",
   "pygments_lexer": "ipython3",
   "version": "3.8.5"
  }
 },
 "nbformat": 4,
 "nbformat_minor": 4
}
