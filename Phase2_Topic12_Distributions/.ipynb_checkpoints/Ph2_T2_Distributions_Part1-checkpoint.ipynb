{
 "cells": [
  {
   "cell_type": "markdown",
   "metadata": {
    "cell_style": "center",
    "slideshow": {
     "slide_type": "slide"
    }
   },
   "source": [
    "<div style=\"color:white;\n",
    "           display:fill;\n",
    "           border-radius:5px;\n",
    "           background-color:#5642C5;\n",
    "           font-size:200%;\n",
    "           font-family:Arial;letter-spacing:0.5px\">\n",
    "\n",
    "<p width = 20%, style=\"padding: 10px;\n",
    "              color:white;\">\n",
    "Distributions: Part I\n",
    "              \n",
    "</p>\n",
    "</div>\n",
    "\n",
    "Data Science Cohort Live NYC Feb 2022\n",
    "<p>Phase 2: Topic 12</p>\n",
    "<br>\n",
    "<br>\n",
    "\n",
    "<div align = \"right\">\n",
    "<img src=\"Images/flatiron-school-logo.png\" align = \"right\" width=\"200\"/>\n",
    "</div>\n",
    "    \n",
    "    "
   ]
  },
  {
   "cell_type": "markdown",
   "metadata": {
    "hidden": true,
    "slideshow": {
     "slide_type": "subslide"
    }
   },
   "source": [
    "#### Probability distribution\n",
    "\n",
    "Representation of the frequencies of potential outcomes of experiment."
   ]
  },
  {
   "cell_type": "markdown",
   "metadata": {
    "slideshow": {
     "slide_type": "subslide"
    }
   },
   "source": [
    "#### Example case:\n",
    "    \n",
    "What is probability is that a given student at Flatiron has:\n",
    "- Age < 25.\n",
    "- 25 <= Age < 30.\n",
    "- 30 <= Age < 35.\n",
    "- 35 <= Age < 40.\n",
    "- Age >= 40"
   ]
  },
  {
   "cell_type": "markdown",
   "metadata": {
    "slideshow": {
     "slide_type": "slide"
    }
   },
   "source": [
    "#### Sample vs population\n",
    "\n",
    "<center><img src=\"Images/population_sample.png\" width=\"500\"/></center>\n",
    "\n",
    "    "
   ]
  },
  {
   "cell_type": "markdown",
   "metadata": {
    "slideshow": {
     "slide_type": "subslide"
    }
   },
   "source": [
    "\n",
    "**Population**: whole group we're interested in. Population being the whole set of possible outcomes.\n",
    "\n",
    "**Sample**: random subset picked over the population. "
   ]
  },
  {
   "cell_type": "markdown",
   "metadata": {
    "slideshow": {
     "slide_type": "slide"
    }
   },
   "source": [
    "#### One way to build probability distribution:"
   ]
  },
  {
   "cell_type": "markdown",
   "metadata": {
    "slideshow": {
     "slide_type": "fragment"
    }
   },
   "source": [
    "- Get ages of all students at Flatiron (population)\n",
    "- Bin accordingly to build probability distribution."
   ]
  },
  {
   "cell_type": "markdown",
   "metadata": {
    "slideshow": {
     "slide_type": "slide"
    }
   },
   "source": [
    "We find:"
   ]
  },
  {
   "cell_type": "markdown",
   "metadata": {
    "cell_style": "split",
    "slideshow": {
     "slide_type": "fragment"
    }
   },
   "source": [
    "\n",
    "\n",
    "Discrete example\n",
    "(binned distribution of student ages ):\n",
    "\n",
    "- $15\\%$ are under the age of $25$\n",
    "- $30\\%$ are between $25$ & $30$\n",
    "- $25\\%$ are between $30$ & $35$\n",
    "- $20\\%$ are between $35$ & $40$\n",
    "- $10\\%$ are over the age of $40$\n",
    "\n",
    "**Build probability distribution from population percentages**"
   ]
  },
  {
   "cell_type": "markdown",
   "metadata": {
    "cell_style": "split",
    "slideshow": {
     "slide_type": "fragment"
    }
   },
   "source": [
    "#### Sampling\n",
    "\n",
    "- Picking a person randomly: \n",
    "\n",
    "What is the probability that person is older than 40?"
   ]
  },
  {
   "cell_type": "markdown",
   "metadata": {
    "cell_style": "split",
    "slideshow": {
     "slide_type": "fragment"
    }
   },
   "source": [
    "$$ P = 0.1 $$"
   ]
  },
  {
   "cell_type": "markdown",
   "metadata": {
    "slideshow": {
     "slide_type": "slide"
    }
   },
   "source": [
    "#### Probability Mass Function (PMF)\n",
    "\n",
    "Probability distribution over finite outcomes. Nothing fancy."
   ]
  },
  {
   "cell_type": "code",
   "execution_count": 1,
   "metadata": {
    "slideshow": {
     "slide_type": "subslide"
    }
   },
   "outputs": [],
   "source": [
    "import pandas as pd\n",
    "import numpy as np\n",
    "outcome_df = pd.DataFrame([('<25', 0.15),('25-30', 0.3,),('30-35', 0.2,),('35-40', .25,),('>40', .1,)], columns=['Age Range', 'PMF'])"
   ]
  },
  {
   "cell_type": "markdown",
   "metadata": {
    "slideshow": {
     "slide_type": "subslide"
    }
   },
   "source": [
    "Probability mass function in table form"
   ]
  },
  {
   "cell_type": "code",
   "execution_count": 2,
   "metadata": {
    "cell_style": "center",
    "scrolled": false,
    "slideshow": {
     "slide_type": "fragment"
    }
   },
   "outputs": [
    {
     "data": {
      "text/html": [
       "<div>\n",
       "<style scoped>\n",
       "    .dataframe tbody tr th:only-of-type {\n",
       "        vertical-align: middle;\n",
       "    }\n",
       "\n",
       "    .dataframe tbody tr th {\n",
       "        vertical-align: top;\n",
       "    }\n",
       "\n",
       "    .dataframe thead th {\n",
       "        text-align: right;\n",
       "    }\n",
       "</style>\n",
       "<table border=\"1\" class=\"dataframe\">\n",
       "  <thead>\n",
       "    <tr style=\"text-align: right;\">\n",
       "      <th></th>\n",
       "      <th>Age Range</th>\n",
       "      <th>PMF</th>\n",
       "    </tr>\n",
       "  </thead>\n",
       "  <tbody>\n",
       "    <tr>\n",
       "      <th>0</th>\n",
       "      <td>&lt;25</td>\n",
       "      <td>0.15</td>\n",
       "    </tr>\n",
       "    <tr>\n",
       "      <th>1</th>\n",
       "      <td>25-30</td>\n",
       "      <td>0.30</td>\n",
       "    </tr>\n",
       "    <tr>\n",
       "      <th>2</th>\n",
       "      <td>30-35</td>\n",
       "      <td>0.20</td>\n",
       "    </tr>\n",
       "    <tr>\n",
       "      <th>3</th>\n",
       "      <td>35-40</td>\n",
       "      <td>0.25</td>\n",
       "    </tr>\n",
       "    <tr>\n",
       "      <th>4</th>\n",
       "      <td>&gt;40</td>\n",
       "      <td>0.10</td>\n",
       "    </tr>\n",
       "  </tbody>\n",
       "</table>\n",
       "</div>"
      ],
      "text/plain": [
       "  Age Range   PMF\n",
       "0       <25  0.15\n",
       "1     25-30  0.30\n",
       "2     30-35  0.20\n",
       "3     35-40  0.25\n",
       "4       >40  0.10"
      ]
     },
     "execution_count": 2,
     "metadata": {},
     "output_type": "execute_result"
    }
   ],
   "source": [
    "outcome_df"
   ]
  },
  {
   "cell_type": "markdown",
   "metadata": {
    "cell_style": "center",
    "slideshow": {
     "slide_type": "subslide"
    }
   },
   "source": [
    "#### Plot PMF"
   ]
  },
  {
   "cell_type": "code",
   "execution_count": 38,
   "metadata": {
    "cell_style": "center",
    "scrolled": true,
    "slideshow": {
     "slide_type": "subslide"
    }
   },
   "outputs": [
    {
     "data": {
      "image/png": "[encoded data removed]",
      "text/plain": [
       "<Figure size 432x288 with 1 Axes>"
      ]
     },
     "metadata": {
      "needs_background": "light"
     },
     "output_type": "display_data"
    }
   ],
   "source": [
    "import matplotlib.pyplot as plt\n",
    "from matplotlib.pyplot import stem\n",
    "\n",
    "\n",
    "plt.stem(outcome_df['Age Range'], outcome_df['PMF'], linefmt='b-', markerfmt='bo', basefmt='r-')\n",
    "plt.xlabel('Age groups')\n",
    "plt.ylabel('Probability')\n",
    "plt.title('Probability Mass Function (PMF)')\n",
    "plt.show()"
   ]
  },
  {
   "cell_type": "markdown",
   "metadata": {
    "hidden": true,
    "slideshow": {
     "slide_type": "slide"
    }
   },
   "source": [
    "An actual use of using population data to build probability distributions:\n",
    "- US Census data\n",
    "- Reef base: Global coral reef database\n",
    "- Large training sets: Ad-tech click rate data"
   ]
  },
  {
   "cell_type": "markdown",
   "metadata": {
    "slideshow": {
     "slide_type": "slide"
    }
   },
   "source": [
    "#### Mathematical models of distribution"
   ]
  },
  {
   "cell_type": "markdown",
   "metadata": {
    "heading_collapsed": true,
    "hidden": true,
    "slideshow": {
     "slide_type": "slide"
    }
   },
   "source": [
    "#### Common types of distributions: Discrete "
   ]
  },
  {
   "cell_type": "markdown",
   "metadata": {
    "cell_style": "split",
    "slideshow": {
     "slide_type": "fragment"
    }
   },
   "source": [
    "- In many cases: know what a population distribution _should_ be.\n",
    "- Can model uncertainty: mathematically define a model governing statistics or population level data.\n",
    "\n"
   ]
  },
  {
   "cell_type": "markdown",
   "metadata": {
    "cell_style": "split",
    "slideshow": {
     "slide_type": "fragment"
    }
   },
   "source": [
    "Mathematical distribution of random variables $X$:\n",
    "- governed by specific functional form\n",
    "- parameters of distribution"
   ]
  },
  {
   "cell_type": "markdown",
   "metadata": {
    "slideshow": {
     "slide_type": "subslide"
    }
   },
   "source": [
    "- **Bernoulli Distribution**\n",
    "    - Represents the probability of success for a certain experiment (binary outcome).\n",
    "    - Did someone click on an ad banner or not?"
   ]
  },
  {
   "cell_type": "markdown",
   "metadata": {
    "cell_style": "split",
    "slideshow": {
     "slide_type": "slide"
    }
   },
   "source": [
    "$$ B(X| p) = p^X(1-p)^{1-X} $$\n",
    "\n",
    "Yes: X = 1 <br>\n",
    "No: X = 0 <br>\n",
    "$p$: probability of banner clicked. A parameter."
   ]
  },
  {
   "cell_type": "markdown",
   "metadata": {
    "cell_style": "split",
    "slideshow": {
     "slide_type": "fragment"
    }
   },
   "source": [
    "Probability of clicked:\n",
    "$$ B(X = 1| p) = p $$ <br>\n",
    "\n",
    "Probability of not clicked:\n",
    "$$ B(X = 0| p) = 1 - p $$"
   ]
  },
  {
   "cell_type": "markdown",
   "metadata": {
    "slideshow": {
     "slide_type": "slide"
    }
   },
   "source": [
    "Scipy stats can help us with sampling distribution/plotting PMF, etc\n",
    "\n",
    "Probability is 4% of ad being clicked."
   ]
  },
  {
   "cell_type": "code",
   "execution_count": 39,
   "metadata": {
    "cell_style": "center",
    "slideshow": {
     "slide_type": "fragment"
    }
   },
   "outputs": [
    {
     "data": {
      "text/plain": [
       "[(0, 0.96), (1, 0.04000000000000001)]"
      ]
     },
     "execution_count": 39,
     "metadata": {},
     "output_type": "execute_result"
    }
   ],
   "source": [
    "# import bernoulli\n",
    "from scipy.stats import bernoulli\n",
    "\n",
    "bernoulli_pmf = [(x, bernoulli.pmf(x, p = .04)) for x in [0,1]]\n",
    "bernoulli_pmf"
   ]
  },
  {
   "cell_type": "markdown",
   "metadata": {
    "slideshow": {
     "slide_type": "slide"
    }
   },
   "source": [
    "The pmf can be visualized with a stem plot:"
   ]
  },
  {
   "cell_type": "code",
   "execution_count": 57,
   "metadata": {
    "slideshow": {
     "slide_type": "fragment"
    }
   },
   "outputs": [
    {
     "data": {
      "image/png": "[encoded data removed]",
      "text/plain": [
       "<Figure size 432x288 with 1 Axes>"
      ]
     },
     "metadata": {
      "needs_background": "light"
     },
     "output_type": "display_data"
    }
   ],
   "source": [
    "# create list of x values and a list of y values for matplotlib\n",
    "unzipped_bernoulli = list(zip(*bernoulli_pmf))\n",
    "\n",
    "plt.stem(unzipped_bernoulli[0], unzipped_bernoulli[1], linefmt='b-', markerfmt='bo', basefmt='r-')\n",
    "plt.xlabel('X')\n",
    "plt.ylabel('Probability')\n",
    "plt.title('Bernoulli PMF')\n",
    "plt.show()"
   ]
  },
  {
   "cell_type": "markdown",
   "metadata": {
    "slideshow": {
     "slide_type": "slide"
    }
   },
   "source": [
    "#### Expectation values: mean and variance of a distribution"
   ]
  },
  {
   "cell_type": "markdown",
   "metadata": {
    "cell_style": "split",
    "slideshow": {
     "slide_type": "fragment"
    }
   },
   "source": [
    "The mean is the a sum of:\n",
    "- possible values of the random variable $X$\n",
    "- weighted by the probability distribution of $X$ at these values."
   ]
  },
  {
   "cell_type": "markdown",
   "metadata": {
    "cell_style": "split",
    "slideshow": {
     "slide_type": "-"
    }
   },
   "source": [
    "$$ E[X] = \\sum_i X_i P(X_i|\\theta) $$\n",
    "\n",
    "where $\\theta$ is possible parameters of the distribution."
   ]
  },
  {
   "cell_type": "markdown",
   "metadata": {
    "cell_style": "split",
    "slideshow": {
     "slide_type": "fragment"
    }
   },
   "source": [
    "First calculate for a uniform distribution:"
   ]
  },
  {
   "cell_type": "markdown",
   "metadata": {
    "slideshow": {
     "slide_type": "subslide"
    }
   },
   "source": [
    "If we have three possible values for a each equally likely:\n",
    "    \n",
    "$$E[X] = X_1\\cdot\\frac{1}{3} + X_2\\cdot\\frac{1}{3} + X_3\\cdot\\frac{1}{3} $$\n",
    "\n",
    "\n",
    "$$ E[X] = \\frac{X_1 + X_2 + X_3}{3} $$"
   ]
  },
  {
   "cell_type": "markdown",
   "metadata": {
    "cell_style": "center",
    "slideshow": {
     "slide_type": "slide"
    }
   },
   "source": [
    "Let' do this for the Bernoulli distribution:\n",
    "\n",
    "$$ E[X] = 1\\cdot B(X =1 | p) + 0 \\cdot B(X = 0 | p) = p $$\n",
    "\n",
    "as  $ B(X =1 | p) = p $"
   ]
  },
  {
   "cell_type": "markdown",
   "metadata": {
    "slideshow": {
     "slide_type": "fragment"
    }
   },
   "source": [
    "The variance on the other hand is:\n",
    "\n",
    "$$ E[(X - E[X])^2] =  \\sum_i (X_i - E[X])^2 P(X_i|\\theta)$$\n",
    "\n",
    "which for the Bernulli distribution is:\n",
    "\n",
    "$$  (1 - p)^2 B(X = 1| p) + (0 - p)^2 B(X = 0| p) $$"
   ]
  },
  {
   "cell_type": "markdown",
   "metadata": {
    "slideshow": {
     "slide_type": "subslide"
    }
   },
   "source": [
    "implies that:\n",
    "    \n",
    "$$ Var[X] = (1 - p)^2p + (0 - p)^2(1 - p) $$\n",
    "\n",
    "and fully simplified:\n",
    "$$ Var[X] = p(1 - p) $$"
   ]
  },
  {
   "cell_type": "markdown",
   "metadata": {
    "slideshow": {
     "slide_type": "slide"
    }
   },
   "source": [
    "Mean and variance of $X$  for our ad clicking example?"
   ]
  },
  {
   "cell_type": "code",
   "execution_count": 49,
   "metadata": {
    "slideshow": {
     "slide_type": "fragment"
    }
   },
   "outputs": [],
   "source": [
    "# calculate it for me \n",
    "\n",
    "p = 0.4\n",
    "\n",
    "mean = 0.4\n",
    "var = mean*(1-0.4)"
   ]
  },
  {
   "cell_type": "markdown",
   "metadata": {
    "slideshow": {
     "slide_type": "slide"
    }
   },
   "source": [
    "Scipy also has a useful method for getting mean, variance of the distribution:\n",
    "- .stats(parameters, ...)"
   ]
  },
  {
   "cell_type": "code",
   "execution_count": 50,
   "metadata": {
    "slideshow": {
     "slide_type": "-"
    }
   },
   "outputs": [
    {
     "data": {
      "text/plain": [
       "(array(0.04), array(0.0384))"
      ]
     },
     "execution_count": 50,
     "metadata": {},
     "output_type": "execute_result"
    }
   ],
   "source": [
    "# gives mean and variance in a tuple\n",
    "bernoulli.stats(p = 0.04)"
   ]
  },
  {
   "cell_type": "markdown",
   "metadata": {
    "slideshow": {
     "slide_type": "slide"
    }
   },
   "source": [
    "#### Sampling\n",
    "- More often than not we use the Bernoulli distribution in simulations:\n",
    "    - create a finite size sample modeled from distribution.\n",
    "    "
   ]
  },
  {
   "cell_type": "markdown",
   "metadata": {
    "slideshow": {
     "slide_type": "subslide"
    }
   },
   "source": [
    "Let's random sample this distribution 100 times."
   ]
  },
  {
   "cell_type": "code",
   "execution_count": 51,
   "metadata": {
    "slideshow": {
     "slide_type": "fragment"
    }
   },
   "outputs": [
    {
     "data": {
      "text/plain": [
       "array([0, 0, 0, 0, 0, 0, 0, 0, 0, 0, 0, 0, 0, 0, 0, 0, 0, 0, 0, 0, 0, 0,\n",
       "       0, 0, 0, 0, 0, 0, 0, 0, 1, 0, 0, 0, 0, 0, 0, 0, 0, 0, 0, 0, 0, 0,\n",
       "       0, 0, 0, 0, 1, 0, 0, 0, 0, 0, 0, 0, 0, 1, 0, 0, 0, 0, 0, 0, 1, 0,\n",
       "       0, 0, 0, 0, 0, 0, 0, 0, 0, 0, 0, 0, 0, 1, 0, 0, 0, 0, 0, 0, 0, 0,\n",
       "       1, 0, 0, 0, 0, 0, 0, 0, 0, 0, 0, 0])"
      ]
     },
     "execution_count": 51,
     "metadata": {},
     "output_type": "execute_result"
    }
   ],
   "source": [
    "bernoulli.rvs(p = 0.04, size = 100)"
   ]
  },
  {
   "cell_type": "markdown",
   "metadata": {
    "slideshow": {
     "slide_type": "subslide"
    }
   },
   "source": [
    "A very useful program:"
   ]
  },
  {
   "cell_type": "code",
   "execution_count": 52,
   "metadata": {
    "slideshow": {
     "slide_type": "fragment"
    }
   },
   "outputs": [
    {
     "name": "stdout",
     "output_type": "stream",
     "text": [
      "She loves me not.\n",
      "She loves me.\n",
      "She loves me not.\n",
      "She loves me.\n",
      "She loves me not.\n",
      "She loves me.\n",
      "She loves me.\n",
      "She loves me.\n",
      "She loves me not.\n",
      "She loves me not.\n"
     ]
    }
   ],
   "source": [
    "for x in bernoulli.rvs(p = 0.5, size = 10):\n",
    "    if x == 1:\n",
    "        print('She loves me.')\n",
    "    else:\n",
    "        print('She loves me not.')"
   ]
  },
  {
   "cell_type": "markdown",
   "metadata": {
    "hidden": true,
    "slideshow": {
     "slide_type": "slide"
    }
   },
   "source": [
    "- **Binomial Distribution**\n",
    "    - Generalizes Bernoulli to fixed number of trials.\n",
    "    - Probability of observing some number of successes $k$ for $N$ Bernoulli trials.\n",
    "    "
   ]
  },
  {
   "cell_type": "markdown",
   "metadata": {
    "slideshow": {
     "slide_type": "fragment"
    }
   },
   "source": [
    "- success probability of single Bernoulli trial: $p$\n",
    "- N trials\n",
    "- Probability of k sucesses?\n",
    "\n",
    "$$ Binomial(k | N, p) = \\frac{N!}{(N-k)!k!}p^k(1-p)^{N-k} $$"
   ]
  },
  {
   "cell_type": "markdown",
   "metadata": {
    "slideshow": {
     "slide_type": "subslide"
    }
   },
   "source": [
    "Parsing\n",
    "\n",
    "$$ Binomial(k | N, p) = \\frac{N!}{(N-k)!k!}p^k(1-p)^{N-k} $$"
   ]
  },
  {
   "cell_type": "markdown",
   "metadata": {
    "cell_style": "split",
    "slideshow": {
     "slide_type": "fragment"
    }
   },
   "source": [
    "Since each trial is statistically independent:\n",
    "\n",
    "$$ p^k(1-p)^{N-k} $$\n",
    "\n",
    "Product of individual Bernoulli failure/success probabilities."
   ]
  },
  {
   "cell_type": "markdown",
   "metadata": {
    "cell_style": "split",
    "slideshow": {
     "slide_type": "fragment"
    }
   },
   "source": [
    "Prefactor because need to count numbers of ways to get $k$ successful trials:\n",
    "\n",
    "$$ \\frac{N!}{(N-k)!k!} $$\n",
    "\n",
    "- Order within successful/unsuccessful trials does not matter.\n",
    "\n",
    "e.g. SFFSF is same as SFFSF\n",
    "\n"
   ]
  },
  {
   "cell_type": "markdown",
   "metadata": {
    "slideshow": {
     "slide_type": "slide"
    }
   },
   "source": [
    "#### Example\n",
    "\n",
    "-  Estimate number of successful free throw shots in 10 tries.\n",
    "- For Shaquille O'Neale: Career free throw pct = 52.7%"
   ]
  },
  {
   "cell_type": "markdown",
   "metadata": {
    "slideshow": {
     "slide_type": "fragment"
    }
   },
   "source": [
    "<img src = \"images/shaw.webp\" >\n",
    "<center> Shaq throwin free throw bricks. </center>"
   ]
  },
  {
   "cell_type": "markdown",
   "metadata": {
    "cell_style": "split",
    "slideshow": {
     "slide_type": "subslide"
    }
   },
   "source": [
    "scipy has functionality for binomial:\n",
    "- .binom class"
   ]
  },
  {
   "cell_type": "markdown",
   "metadata": {
    "cell_style": "split",
    "slideshow": {
     "slide_type": "fragment"
    }
   },
   "source": [
    "Define binomial:\n",
    "- distribution parameters:\n",
    "    - N = 8 trials\n",
    "    - Bernoulli success/failure p = .527"
   ]
  },
  {
   "cell_type": "code",
   "execution_count": 58,
   "metadata": {
    "cell_style": "split",
    "slideshow": {
     "slide_type": "fragment"
    }
   },
   "outputs": [],
   "source": [
    "from scipy.stats import binom\n",
    "N = 8\n",
    "p = 0.527\n",
    "\n",
    "pmf_binomial = [(x, binom.pmf(x, n = N, p = p)) \n",
    "                for x in range(9)]"
   ]
  },
  {
   "cell_type": "markdown",
   "metadata": {
    "slideshow": {
     "slide_type": "fragment"
    }
   },
   "source": [
    "Generates probability of $k$ sucesses in 8 trials:  $k$ ranging from 0 to 8."
   ]
  },
  {
   "cell_type": "code",
   "execution_count": 54,
   "metadata": {
    "slideshow": {
     "slide_type": "subslide"
    }
   },
   "outputs": [
    {
     "name": "stdout",
     "output_type": "stream",
     "text": [
      "[(0, 0.0025054695324104397), (1, 0.02233204978571335), (2, 0.08708555143709996), (3, 0.1940553302636435), (4, 0.27026204822658595), (5, 0.24089319140027196), (6, 0.13419736983926356), (7, 0.04271942851422039), (8, 0.005949561000791266)]\n"
     ]
    }
   ],
   "source": [
    "print(pmf_binomial)"
   ]
  },
  {
   "cell_type": "markdown",
   "metadata": {
    "slideshow": {
     "slide_type": "slide"
    }
   },
   "source": [
    "Plot the pmf:"
   ]
  },
  {
   "cell_type": "code",
   "execution_count": 56,
   "metadata": {
    "cell_style": "split",
    "slideshow": {
     "slide_type": "subslide"
    }
   },
   "outputs": [
    {
     "data": {
      "image/png": "[encoded data removed]",
      "text/plain": [
       "<Figure size 432x288 with 1 Axes>"
      ]
     },
     "metadata": {
      "needs_background": "light"
     },
     "output_type": "display_data"
    }
   ],
   "source": [
    "x,y = list(zip(*pmf_binomial))\n",
    "plt.stem(x, y, linefmt='b-', markerfmt='bo', basefmt='r-')\n",
    "plt.title('Binomial PMF: Shaq FTs made out of 8 shots')\n",
    "plt.ylabel('Probability')\n",
    "plt.xlabel('Number of shots made')\n",
    "plt.title\n",
    "plt.show()"
   ]
  },
  {
   "cell_type": "markdown",
   "metadata": {
    "slideshow": {
     "slide_type": "slide"
    }
   },
   "source": [
    "Can sample this binomial distribution:\n",
    "- Get a list of number of successes for each trial\n",
    "- 200 trials"
   ]
  },
  {
   "cell_type": "markdown",
   "metadata": {
    "slideshow": {
     "slide_type": "slide"
    }
   },
   "source": [
    "Can sample this binomial distribution:"
   ]
  },
  {
   "cell_type": "code",
   "execution_count": 13,
   "metadata": {
    "ExecuteTime": {
     "end_time": "2021-10-08T21:00:02.025541Z",
     "start_time": "2021-10-08T21:00:02.022231Z"
    },
    "slideshow": {
     "slide_type": "fragment"
    }
   },
   "outputs": [
    {
     "name": "stdout",
     "output_type": "stream",
     "text": [
      "Number of ad clicks in each trial of 50 samples: \n",
      " [4 4 6 4 4 5 4 3 3 1 4 1 4 5 3 6 4 5 4 2 5 7 3 5 3 6 4 4 4 3 4 6 3 4 3 5 5\n",
      " 3 6 2 5 4 5 5 6 4 5 4 5 5 5 3 4 5 6 2 2 4 4 7 5 5 4 6 2 6 4 4 4 3 6 4 4 2\n",
      " 4 6 3 2 5 4 5 4 4 5 4 2 4 3 6 3 5 5 3 7 4 5 5 5 5 7 5 3 5 8 5 5 5 4 4 1 6\n",
      " 5 4 2 3 6 4 6 3 5 4 4 2 5 3 3 6 3 4 4 4 3 7 3 4 5 4 2 4 4 6 5 4 3 5 3 5 3\n",
      " 5 4 3 4 4 4 3 3 6 4 4 5 6 5 6 4 5 3 4 1 3 1 5 6 3 5 4 3 5 5 4 3 4 3 5 5 5\n",
      " 5 5 5 5 3 3 2 6 3 5 4 5 4 6 6] \n",
      "\n"
     ]
    }
   ],
   "source": [
    "\n",
    "N = 8  # number of samples for user-site interaction trial\n",
    "p = 0.527  # probability of success\n",
    "size = 200  # number of trials\n",
    "\n",
    "# Create a discrete distribution with the given parameter values\n",
    "binomial = binom.rvs(n = N, p=p, size=size)\n",
    "\n",
    "print(f'Number of ad clicks in each trial of 50 samples: \\n {binomial} \\n')"
   ]
  },
  {
   "cell_type": "code",
   "execution_count": null,
   "metadata": {},
   "outputs": [],
   "source": []
  },
  {
   "cell_type": "markdown",
   "metadata": {
    "cell_style": "split",
    "slideshow": {
     "slide_type": "slide"
    }
   },
   "source": [
    "Example: number of calls per minute at a call center.\n",
    "\n",
    "- Observe average rate of 3 calls/min.\n",
    "- Know that calls are independent of each other.\n",
    "\n",
    "Can show this situation modeled by Poisson distribution."
   ]
  },
  {
   "cell_type": "markdown",
   "metadata": {
    "cell_style": "split",
    "slideshow": {
     "slide_type": "fragment"
    }
   },
   "source": [
    "PMF of Poisson counting process:\n",
    "$$ P(n|\\lambda) = \\frac {\\lambda ^{n}e^{-\\lambda }}{n!} $$\n",
    "\n",
    "- $\\lambda$ is observed average rate.\n",
    "- Parameter of distribution: observed from data."
   ]
  },
  {
   "cell_type": "markdown",
   "metadata": {
    "slideshow": {
     "slide_type": "subslide"
    }
   },
   "source": [
    "scipy.stats can really help us model/visualize this.\n",
    "- poisson.pmf(n, lambda)"
   ]
  },
  {
   "cell_type": "code",
   "execution_count": 59,
   "metadata": {
    "cell_style": "split",
    "slideshow": {
     "slide_type": "subslide"
    }
   },
   "outputs": [],
   "source": [
    "from scipy.stats import poisson\n",
    "\n",
    "call_pmf =[(x, poisson.pmf(x, 3)) \n",
    "           for x in range(10)]\n",
    "\n",
    "x,y = list(zip(*call_pmf))"
   ]
  },
  {
   "cell_type": "code",
   "execution_count": 60,
   "metadata": {
    "cell_style": "split",
    "slideshow": {
     "slide_type": "fragment"
    }
   },
   "outputs": [
    {
     "data": {
      "image/png": "[encoded data removed]",
      "text/plain": [
       "<Figure size 432x288 with 1 Axes>"
      ]
     },
     "metadata": {
      "needs_background": "light"
     },
     "output_type": "display_data"
    }
   ],
   "source": [
    "plt.stem(x, y, linefmt='b-', markerfmt='bo', basefmt='r-')\n",
    "plt.xlabel('n')\n",
    "plt.ylabel('P(n)')\n",
    "plt.title('PMF (Poisson): Calls/min')\n",
    "plt.show()"
   ]
  },
  {
   "cell_type": "markdown",
   "metadata": {
    "slideshow": {
     "slide_type": "slide"
    }
   },
   "source": [
    "Sometime parameter determined from laws of physics, domain knowledge, etc.:\n",
    "\n",
    "- Mean nuclear decay rate of Iodine-131 is 31.5 decay events/year.\n",
    "- Decay events independent."
   ]
  },
  {
   "cell_type": "code",
   "execution_count": 16,
   "metadata": {
    "scrolled": true,
    "slideshow": {
     "slide_type": "subslide"
    }
   },
   "outputs": [
    {
     "data": {
      "image/png": "[encoded data removed]",
      "text/plain": [
       "<Figure size 432x288 with 1 Axes>"
      ]
     },
     "metadata": {
      "needs_background": "light"
     },
     "output_type": "display_data"
    }
   ],
   "source": [
    "nuclear_pmf =[(x, poisson.pmf(x, 31.5)) for x in range(70)]\n",
    "x,y = list(zip(*nuclear_pmf))\n",
    "plt.stem(x, y, linefmt='b-', markerfmt='bo', basefmt='r-')\n",
    "plt.xlabel('n')\n",
    "plt.ylabel('P(n)')\n",
    "plt.title('PMF (Poisson): Calls/min')\n",
    "plt.show()\n"
   ]
  },
  {
   "cell_type": "markdown",
   "metadata": {
    "slideshow": {
     "slide_type": "fragment"
    }
   },
   "source": [
    "- **Uniform Distribution**\n",
    "    - Occurs when all possible outcomes are equally likely.\n",
    "    - e.g. rolling a six-sided far die"
   ]
  },
  {
   "cell_type": "markdown",
   "metadata": {
    "slideshow": {
     "slide_type": "slide"
    }
   },
   "source": [
    "#### Common types of distributions: Continuous "
   ]
  },
  {
   "cell_type": "markdown",
   "metadata": {
    "hidden": true,
    "slideshow": {
     "slide_type": "subslide"
    }
   },
   "source": [
    "- **Continuous Uniform**\n",
    "    - A continuous distribution that takes values within a specified range *a* to *b*, when each value within the range is equally likely.\n",
    "    - e.g. time take an elevator arrive at your floor."
   ]
  },
  {
   "cell_type": "markdown",
   "metadata": {
    "slideshow": {
     "slide_type": "subslide"
    }
   },
   "source": [
    "- **Normal (Gaussian)**\n",
    "    - The bell curve. Governs many continuous variables.\n",
    "    - Particularly: variables made up of many random subfactors.\n",
    "    - height in a population.\n",
    "    - average number of ad clicks in 50 random samples of user-site interactions."
   ]
  },
  {
   "cell_type": "markdown",
   "metadata": {
    "slideshow": {
     "slide_type": "subslide"
    }
   },
   "source": [
    "- **Exponential**\n",
    "    - Uses to model the time elapsed between events.\n",
    "    - e.g. amount of time a postal clerk spends with a customer"
   ]
  },
  {
   "cell_type": "markdown",
   "metadata": {
    "heading_collapsed": true,
    "slideshow": {
     "slide_type": "slide"
    }
   },
   "source": [
    "#### PDF: Probability Density Function\n",
    "- Continuous limit of the histogram."
   ]
  },
  {
   "cell_type": "markdown",
   "metadata": {
    "cell_style": "split",
    "hidden": true,
    "slideshow": {
     "slide_type": "fragment"
    }
   },
   "source": [
    "**Probability density functions (PDF)** similar to PMFs but:\n",
    "\n",
    "- continuous variable\n",
    "- probability of **exactly** having a given value of continuous not defined. \n",
    "- probability of a result within a range of values. \n",
    "\n",
    "![](images/pdf_temp.png)"
   ]
  },
  {
   "cell_type": "markdown",
   "metadata": {
    "cell_style": "split",
    "slideshow": {
     "slide_type": "fragment"
    }
   },
   "source": [
    "- PDFs give us probability density.\n",
    "- Area under PDF in given range yields probability.  \n",
    "\n",
    "<center><img src=\"Images/pdf_proba.gif\" width=\"450\"/></center>"
   ]
  },
  {
   "cell_type": "markdown",
   "metadata": {
    "heading_collapsed": true,
    "hidden": true,
    "slideshow": {
     "slide_type": "slide"
    }
   },
   "source": [
    "#### Sampling and the PDF with the normal distribution"
   ]
  },
  {
   "cell_type": "markdown",
   "metadata": {
    "slideshow": {
     "slide_type": "subslide"
    }
   },
   "source": [
    "Mathematical form for pdf:\n",
    "$$ N(x | \\mu, \\sigma^2) = \\frac{1}{\\sqrt{2\\pi\\sigma^2}} e^{-\\frac{(x-\\mu)^2}{2\\sigma^2}} $$\n",
    "\n",
    "- $\\mu$ is mean.\n",
    "- $\\sigma$ is standard deviation."
   ]
  },
  {
   "cell_type": "markdown",
   "metadata": {
    "slideshow": {
     "slide_type": "slide"
    }
   },
   "source": [
    "With scipy.stats:\n",
    "\n",
    "- norm.pdf(loc = mean, scale = std)"
   ]
  },
  {
   "cell_type": "code",
   "execution_count": 17,
   "metadata": {
    "slideshow": {
     "slide_type": "slide"
    }
   },
   "outputs": [],
   "source": [
    "from scipy.stats import norm"
   ]
  },
  {
   "cell_type": "code",
   "execution_count": 18,
   "metadata": {
    "cell_style": "center",
    "slideshow": {
     "slide_type": "subslide"
    }
   },
   "outputs": [],
   "source": [
    "# Moving mean around\n",
    "mu_list = [-2,0,2]\n",
    "sigma = 1\n",
    "\n",
    "x = np.linspace(-7,7)\n",
    "y_list = [norm.pdf(x, loc = mu, scale = sigma)\n",
    "          for mu in mu_list]"
   ]
  },
  {
   "cell_type": "code",
   "execution_count": 19,
   "metadata": {
    "cell_style": "center",
    "slideshow": {
     "slide_type": "fragment"
    }
   },
   "outputs": [
    {
     "data": {
      "image/png": "[encoded data removed]",
      "text/plain": [
       "<Figure size 432x288 with 1 Axes>"
      ]
     },
     "metadata": {
      "needs_background": "light"
     },
     "output_type": "display_data"
    }
   ],
   "source": [
    "fig,ax = plt.subplots()\n",
    "[ax.plot(x,y) for y in y_list]\n",
    "plt.show()"
   ]
  },
  {
   "cell_type": "code",
   "execution_count": 20,
   "metadata": {
    "cell_style": "center",
    "slideshow": {
     "slide_type": "subslide"
    }
   },
   "outputs": [],
   "source": [
    "# mess with std/variance\n",
    "mu = 0\n",
    "sigma_list = [1,2,4]\n",
    "\n",
    "x = np.linspace(-8,8)\n",
    "y_list = [norm.pdf(x, loc = mu, scale = sigma)\n",
    "          for sigma in sigma_list]"
   ]
  },
  {
   "cell_type": "code",
   "execution_count": 21,
   "metadata": {
    "cell_style": "center",
    "slideshow": {
     "slide_type": "fragment"
    }
   },
   "outputs": [
    {
     "data": {
      "image/png": "[encoded data removed]",
      "text/plain": [
       "<Figure size 432x288 with 1 Axes>"
      ]
     },
     "metadata": {
      "needs_background": "light"
     },
     "output_type": "display_data"
    }
   ],
   "source": [
    "fig,ax = plt.subplots()\n",
    "[ax.plot(x,y) for y in y_list]\n",
    "plt.show()"
   ]
  },
  {
   "cell_type": "markdown",
   "metadata": {
    "hidden": true,
    "slideshow": {
     "slide_type": "subslide"
    }
   },
   "source": [
    "The variance/std describes how closely the points gathered around the mean.  \n",
    "- Low variance means tight and skinny, high variance short and wide."
   ]
  },
  {
   "cell_type": "markdown",
   "metadata": {
    "slideshow": {
     "slide_type": "slide"
    }
   },
   "source": [
    "#### Sampling from normal distribution\n",
    "\n",
    "- rvs method:"
   ]
  },
  {
   "cell_type": "code",
   "execution_count": 22,
   "metadata": {
    "scrolled": true,
    "slideshow": {
     "slide_type": "subslide"
    }
   },
   "outputs": [
    {
     "data": {
      "text/plain": [
       "array([-0.32756802, -1.52079879,  0.89714124, -0.62170608, -0.7708182 ,\n",
       "        0.30826629, -0.19437493,  0.77038719, -1.80901921,  1.29908767,\n",
       "       -0.9253698 ,  0.18309461, -0.85273012, -0.49184428, -0.93282606,\n",
       "       -0.48941273, -1.15317279,  0.96757202, -0.09364389,  0.34615282,\n",
       "       -0.91753145, -1.14408592, -2.33440542, -1.3514136 , -0.98337254,\n",
       "        0.71208831,  0.43331658,  0.59083487,  1.03343006,  0.92385897,\n",
       "       -0.01931322, -0.4034433 , -0.28391769, -0.24506463, -0.8158534 ,\n",
       "       -1.20546385,  0.03853212,  0.05530648,  0.87718227,  1.21413271,\n",
       "        1.88116065,  1.86035748,  1.81220684, -0.15697779, -0.99564926,\n",
       "        1.28242372, -2.37050943, -0.71028583, -0.16333272,  0.71333785,\n",
       "        0.67444374, -1.65118505,  0.3713856 ,  0.76627251, -0.8139413 ,\n",
       "        0.92746526,  0.69333132,  0.78137541,  0.62569657, -0.30684571,\n",
       "        0.65468147,  0.53210416,  2.38500036, -0.06644241, -0.27114825,\n",
       "        0.19770666, -0.40554607, -1.09572178, -1.64925934, -1.81064626,\n",
       "        0.34040307, -0.93851337, -0.52311072,  0.25416118, -0.24512763,\n",
       "        0.74262343,  0.27676809, -1.93234524, -1.06866889, -0.92905622,\n",
       "        0.6698614 ,  0.1277985 , -0.86283141, -1.06033199,  0.48957053,\n",
       "        1.97987594, -0.60154921, -0.86397719,  1.19028272, -0.90861594,\n",
       "       -1.27119256,  1.37234465, -0.12621313,  1.15183016, -0.73466897,\n",
       "       -1.83086803,  0.51048232,  0.77020558, -0.94831589,  0.73362862])"
      ]
     },
     "execution_count": 22,
     "metadata": {},
     "output_type": "execute_result"
    }
   ],
   "source": [
    "# 20 random samples from normal with mean 0 and std 1.\n",
    "norm_sample = norm.rvs(loc = 0, scale = 1, size = 100)\n",
    "norm_sample"
   ]
  },
  {
   "cell_type": "markdown",
   "metadata": {
    "slideshow": {
     "slide_type": "subslide"
    }
   },
   "source": [
    "Looking at a histogram of sample:"
   ]
  },
  {
   "cell_type": "code",
   "execution_count": 23,
   "metadata": {
    "scrolled": true,
    "slideshow": {
     "slide_type": "fragment"
    }
   },
   "outputs": [
    {
     "data": {
      "image/png": "[encoded data removed]",
      "text/plain": [
       "<Figure size 432x288 with 1 Axes>"
      ]
     },
     "metadata": {
      "needs_background": "light"
     },
     "output_type": "display_data"
    }
   ],
   "source": [
    "plt.hist(norm_sample)\n",
    "plt.title('Histogram of normal distribution sample')\n",
    "plt.xlabel('X')\n",
    "plt.ylabel('Count')\n",
    "plt.show()"
   ]
  },
  {
   "cell_type": "markdown",
   "metadata": {
    "cell_style": "split",
    "heading_collapsed": true,
    "slideshow": {
     "slide_type": "slide"
    }
   },
   "source": [
    "#### CDF: Cumulative Distribution Function\n",
    "Probability random variable <= a certain value. "
   ]
  },
  {
   "cell_type": "markdown",
   "metadata": {
    "cell_style": "split",
    "slideshow": {
     "slide_type": "fragment"
    }
   },
   "source": [
    "\n",
    "Mathematically, CDF is:\n",
    "\n",
    "$$F(x) = P(X\\leq x)$$"
   ]
  },
  {
   "cell_type": "markdown",
   "metadata": {
    "cell_style": "split",
    "slideshow": {
     "slide_type": "slide"
    }
   },
   "source": [
    "CDF exists for all probability distributions (discrete/continuous):\n",
    "\n",
    "For continuous variable:\n",
    "    \n",
    "- while PDF at given X = x is a probability *density*\n",
    "- CDF F(x) is actually a *probability*"
   ]
  },
  {
   "cell_type": "markdown",
   "metadata": {
    "cell_style": "split",
    "slideshow": {
     "slide_type": "fragment"
    }
   },
   "source": [
    "Mathematically, CDF is:\n",
    "\n",
    "$$F(x) = P(X\\leq x)$$"
   ]
  },
  {
   "cell_type": "markdown",
   "metadata": {
    "cell_style": "split",
    "slideshow": {
     "slide_type": "slide"
    }
   },
   "source": [
    "Why use the CDF?\n",
    "- Continuous variables:\n",
    "- Actually reports probability\n",
    "- Simple arithmetic operations to calculate probability of given range."
   ]
  },
  {
   "cell_type": "markdown",
   "metadata": {
    "cell_style": "split",
    "slideshow": {
     "slide_type": "fragment"
    }
   },
   "source": [
    "Implicitly used in most hypothesis tests:\n",
    "- Calculate probability of a measured value or values more extreme\n",
    "- CDF yields whether measured value is likely under a given distribution."
   ]
  },
  {
   "cell_type": "markdown",
   "metadata": {
    "cell_style": "split",
    "slideshow": {
     "slide_type": "slide"
    }
   },
   "source": [
    "####  Discrete case:\n",
    "\n",
    "Back to our ad click bait example: \n",
    "\n",
    "- Use CDF to calculate probability of having <= 2 clicks in 50 random samples.\n",
    "- Recall $p = 0.04$ for a click.\n",
    "\n",
    "$$P(x \\leq 2)$$"
   ]
  },
  {
   "cell_type": "markdown",
   "metadata": {
    "cell_style": "split",
    "slideshow": {
     "slide_type": "fragment"
    }
   },
   "source": [
    "#### CDF in scipy.stats\n",
    "\n",
    "- scipy.stats.binom.cdf()\n",
    "\n",
    "- Generally, scipy.stats.distribution.cdf(arguments)\n"
   ]
  },
  {
   "cell_type": "code",
   "execution_count": 24,
   "metadata": {
    "ExecuteTime": {
     "end_time": "2021-10-08T21:00:07.840276Z",
     "start_time": "2021-10-08T21:00:07.836086Z"
    },
    "slideshow": {
     "slide_type": "slide"
    }
   },
   "outputs": [
    {
     "data": {
      "text/plain": [
       "0.6767140040965929"
      ]
     },
     "execution_count": 24,
     "metadata": {},
     "output_type": "execute_result"
    }
   ],
   "source": [
    "# Create the random discrete value for the number of success\n",
    "x = 2\n",
    "n = 50\n",
    "p = 0.04\n",
    "\n",
    "# Calculate the probability for x equal or less than 8\n",
    "binom.cdf(k = x, n=n, p=p)"
   ]
  },
  {
   "cell_type": "markdown",
   "metadata": {
    "slideshow": {
     "slide_type": "slide"
    }
   },
   "source": [
    "Visualize pmf and cdf side by side"
   ]
  },
  {
   "cell_type": "code",
   "execution_count": 25,
   "metadata": {
    "cell_style": "split",
    "slideshow": {
     "slide_type": "fragment"
    }
   },
   "outputs": [
    {
     "data": {
      "image/png": "[encoded data removed]",
      "text/plain": [
       "<Figure size 432x288 with 1 Axes>"
      ]
     },
     "metadata": {
      "needs_background": "light"
     },
     "output_type": "display_data"
    }
   ],
   "source": [
    "x,y = list(zip(*pmf_binomial))\n",
    "plt.stem(x, y, linefmt='b-', markerfmt='bo', basefmt='r-')\n",
    "plt.xlabel('Number of clicks')\n",
    "plt.ylabel('Probability')\n",
    "plt.title('PMF (Binomial): Clicks for 50 samples')\n",
    "plt.show()"
   ]
  },
  {
   "cell_type": "code",
   "execution_count": 26,
   "metadata": {
    "cell_style": "split",
    "slideshow": {
     "slide_type": "fragment"
    }
   },
   "outputs": [
    {
     "data": {
      "image/png": "[encoded data removed]",
      "text/plain": [
       "<Figure size 432x288 with 1 Axes>"
      ]
     },
     "metadata": {
      "needs_background": "light"
     },
     "output_type": "display_data"
    }
   ],
   "source": [
    "cdf_y = binom.cdf(k = x, n=n, p=p)\n",
    "plt.plot(x, cdf_y, c = 'b', linestyle = '--')\n",
    "plt.xlabel('Number of clicks')\n",
    "plt.ylabel('Probability')\n",
    "plt.title('CDF of binomial: Ad click rate')\n",
    "plt.show()"
   ]
  },
  {
   "cell_type": "markdown",
   "metadata": {
    "cell_style": "center",
    "slideshow": {
     "slide_type": "subslide"
    }
   },
   "source": [
    "- What is the probability of getting less than 8 clicks?"
   ]
  },
  {
   "cell_type": "code",
   "execution_count": 27,
   "metadata": {
    "slideshow": {
     "slide_type": "fragment"
    }
   },
   "outputs": [
    {
     "data": {
      "text/plain": [
       "0.9998520965199652"
      ]
     },
     "execution_count": 27,
     "metadata": {},
     "output_type": "execute_result"
    }
   ],
   "source": [
    "binom.cdf(8, n = n, p = p)"
   ]
  },
  {
   "cell_type": "markdown",
   "metadata": {
    "slideshow": {
     "slide_type": "fragment"
    }
   },
   "source": [
    "- Probability of getting less than infinity?\n",
    "(this is all possible values)"
   ]
  },
  {
   "cell_type": "code",
   "execution_count": 28,
   "metadata": {
    "slideshow": {
     "slide_type": "fragment"
    }
   },
   "outputs": [
    {
     "data": {
      "text/plain": [
       "1.0"
      ]
     },
     "execution_count": 28,
     "metadata": {},
     "output_type": "execute_result"
    }
   ],
   "source": [
    "binom.cdf(np.inf, n = n, p = p)"
   ]
  },
  {
   "cell_type": "code",
   "execution_count": 29,
   "metadata": {
    "cell_style": "split",
    "slideshow": {
     "slide_type": "slide"
    }
   },
   "outputs": [
    {
     "data": {
      "image/png": "[encoded data removed]",
      "text/plain": [
       "<Figure size 432x288 with 1 Axes>"
      ]
     },
     "metadata": {
      "needs_background": "light"
     },
     "output_type": "display_data"
    }
   ],
   "source": [
    "cdf_y = binom.cdf(k = x, n=n, p=p)\n",
    "plt.plot(x, cdf_y, c = 'b', linestyle = '--')\n",
    "plt.xlabel('Number of clicks')\n",
    "plt.ylabel('Probability')\n",
    "plt.title('CDF of binomial: Ad click rate')\n",
    "plt.axvline(2, c = 'r', linestyle = '--')\n",
    "plt.axvline(4, c = 'r', linestyle = '--')\n",
    "plt.show()"
   ]
  },
  {
   "cell_type": "markdown",
   "metadata": {
    "cell_style": "split",
    "slideshow": {
     "slide_type": "slide"
    }
   },
   "source": [
    "What is probability of getting between 2 and 4?\n",
    "- $ P(x <= 4) - P(x<=2)$"
   ]
  },
  {
   "cell_type": "code",
   "execution_count": 30,
   "metadata": {
    "cell_style": "split",
    "slideshow": {
     "slide_type": "fragment"
    }
   },
   "outputs": [
    {
     "data": {
      "text/plain": [
       "0.2743145240188942"
      ]
     },
     "execution_count": 30,
     "metadata": {},
     "output_type": "execute_result"
    }
   ],
   "source": [
    "Pless4 = binom.cdf(k = 4, n=n, p=p)  \n",
    "Pless2 = binom.cdf(k = 2, n=n, p=p)\n",
    "\n",
    "Pless4 - Pless2"
   ]
  },
  {
   "cell_type": "markdown",
   "metadata": {
    "slideshow": {
     "slide_type": "slide"
    }
   },
   "source": [
    "What is the probability that we have greater than 4 clicks?\n",
    "$$ P(x <= \\infty) - P(x<=4)$$"
   ]
  },
  {
   "cell_type": "markdown",
   "metadata": {
    "slideshow": {
     "slide_type": "fragment"
    }
   },
   "source": [
    "$$ 1 - P(x<=4) $$"
   ]
  },
  {
   "cell_type": "markdown",
   "metadata": {
    "slideshow": {
     "slide_type": "slide"
    }
   },
   "source": [
    "In python:"
   ]
  },
  {
   "cell_type": "code",
   "execution_count": 31,
   "metadata": {
    "slideshow": {
     "slide_type": "fragment"
    }
   },
   "outputs": [
    {
     "data": {
      "text/plain": [
       "0.048971471884512896"
      ]
     },
     "execution_count": 31,
     "metadata": {},
     "output_type": "execute_result"
    }
   ],
   "source": [
    "1 - binom.cdf(4, n, p)"
   ]
  },
  {
   "cell_type": "markdown",
   "metadata": {
    "slideshow": {
     "slide_type": "fragment"
    }
   },
   "source": [
    "And if you are really that lazy:\n",
    "- $P(X >x)$ as survival function: distribution.sf()"
   ]
  },
  {
   "cell_type": "code",
   "execution_count": 32,
   "metadata": {
    "scrolled": true,
    "slideshow": {
     "slide_type": "fragment"
    }
   },
   "outputs": [
    {
     "data": {
      "text/plain": [
       "0.04897147188451269"
      ]
     },
     "execution_count": 32,
     "metadata": {},
     "output_type": "execute_result"
    }
   ],
   "source": [
    "binom.sf(4, n , p)"
   ]
  },
  {
   "cell_type": "markdown",
   "metadata": {
    "slideshow": {
     "slide_type": "fragment"
    }
   },
   "source": [
    "5\\% chance of getting greater than 4 clicks in 50 randomized user-site interactions."
   ]
  },
  {
   "cell_type": "markdown",
   "metadata": {
    "slideshow": {
     "slide_type": "slide"
    }
   },
   "source": [
    "Generally:\n",
    "$$ P(X > x) = 1 - P(X <= x) $$\n",
    "\n",
    "<center>1 - distribution.cdf(x, parameters) </center>"
   ]
  },
  {
   "cell_type": "markdown",
   "metadata": {
    "cell_style": "split",
    "slideshow": {
     "slide_type": "slide"
    }
   },
   "source": [
    "#### Continuous Distribution\n",
    "- CDF of the normal distribution\n",
    "\n",
    "Example case: distribution of heights. \n",
    "\n",
    "We observe the mean is 5.5 ft with a standard deviation of 0.5 ft.\n",
    "\n",
    "Model with normal distribution."
   ]
  },
  {
   "cell_type": "code",
   "execution_count": 33,
   "metadata": {
    "cell_style": "split",
    "slideshow": {
     "slide_type": "fragment"
    }
   },
   "outputs": [
    {
     "data": {
      "image/png": "[encoded data removed]",
      "text/plain": [
       "<Figure size 432x288 with 1 Axes>"
      ]
     },
     "metadata": {
      "needs_background": "light"
     },
     "output_type": "display_data"
    }
   ],
   "source": [
    "mu = 5.5 # mean\n",
    "sigma = 0.5 # standard deviation\n",
    "\n",
    "x = np.linspace(2,9)\n",
    "y_norm = norm.pdf(x, loc = mu, scale = sigma)\n",
    "plt.plot(x, y_norm)\n",
    "plt.xlabel('Height (ft.)')\n",
    "plt.ylabel('PDF')\n",
    "plt.title('PDF:  Normally distributed Heights')\n",
    "plt.show()\n"
   ]
  },
  {
   "cell_type": "markdown",
   "metadata": {
    "cell_style": "center",
    "slideshow": {
     "slide_type": "slide"
    }
   },
   "source": [
    "Probability that height <= 4.7:"
   ]
  },
  {
   "cell_type": "code",
   "execution_count": 34,
   "metadata": {
    "cell_style": "split",
    "scrolled": true,
    "slideshow": {
     "slide_type": "subslide"
    }
   },
   "outputs": [
    {
     "data": {
      "image/png": "[encoded data removed]",
      "text/plain": [
       "<Figure size 432x288 with 1 Axes>"
      ]
     },
     "metadata": {
      "needs_background": "light"
     },
     "output_type": "display_data"
    }
   ],
   "source": [
    "mu = 5.5 # mean\n",
    "sigma = 0.5 # standard deviation\n",
    "\n",
    "x = np.linspace(2,9, num = 100)\n",
    "y_norm = norm.pdf(x, loc = mu, scale = sigma)\n",
    "plt.plot(x, y_norm)\n",
    "plt.fill_between(x,y_norm, where = (x <= 4.7), color='r')\n",
    "plt.axvline(x = 4.7, c = 'r', linestyle = '--')\n",
    "plt.xlabel('Height (ft.)')\n",
    "plt.ylabel('PDF')\n",
    "plt.title('PDF:  Normally distributed Heights')\n",
    "plt.show()"
   ]
  },
  {
   "cell_type": "code",
   "execution_count": 35,
   "metadata": {
    "cell_style": "split",
    "slideshow": {
     "slide_type": "fragment"
    }
   },
   "outputs": [
    {
     "data": {
      "image/png": "[encoded data removed]",
      "text/plain": [
       "<Figure size 432x288 with 1 Axes>"
      ]
     },
     "metadata": {
      "needs_background": "light"
     },
     "output_type": "display_data"
    }
   ],
   "source": [
    "mu = 5.5 # mean\n",
    "sigma = 0.5 # standard deviation\n",
    "\n",
    "x = np.linspace(2,9, num = 100)\n",
    "y_norm_cdf = norm.cdf(x, loc = mu, scale = sigma)\n",
    "plt.plot(x, y_norm_cdf)\n",
    "plt.axvline(x = 4.7, c = 'r', linestyle = '--')\n",
    "plt.xlabel('Height (ft.)')\n",
    "plt.ylabel('CDF')\n",
    "plt.title('CDF:  Normally distributed Heights')\n",
    "plt.show()"
   ]
  },
  {
   "cell_type": "code",
   "execution_count": 36,
   "metadata": {
    "cell_style": "center",
    "slideshow": {
     "slide_type": "subslide"
    }
   },
   "outputs": [
    {
     "data": {
      "text/plain": [
       "0.05479929169955804"
      ]
     },
     "execution_count": 36,
     "metadata": {},
     "output_type": "execute_result"
    }
   ],
   "source": [
    "norm.cdf(4.7, loc = mu, scale = 0.5 )"
   ]
  },
  {
   "cell_type": "markdown",
   "metadata": {
    "slideshow": {
     "slide_type": "slide"
    }
   },
   "source": [
    "Probability that height is less than 4.5 ft and greater than 6.5 ft?\n",
    "- Help me out. Use cdf and sf."
   ]
  },
  {
   "cell_type": "code",
   "execution_count": 37,
   "metadata": {
    "cell_style": "center"
   },
   "outputs": [
    {
     "data": {
      "text/plain": [
       "0.04550026389635839"
      ]
     },
     "execution_count": 37,
     "metadata": {},
     "output_type": "execute_result"
    }
   ],
   "source": [
    "# mu is defined as mean already, set scale to 0.5 (std)\n",
    "\n",
    "norm.cdf(4.5, loc = mu, scale =0.5) + norm.sf(6.5, loc = mu, scale =0.5)"
   ]
  }
 ],
 "metadata": {
  "celltoolbar": "Slideshow",
  "kernelspec": {
   "display_name": "Python 3",
   "language": "python",
   "name": "python3"
  },
  "language_info": {
   "codemirror_mode": {
    "name": "ipython",
    "version": 3
   },
   "file_extension": ".py",
   "mimetype": "text/x-python",
   "name": "python",
   "nbconvert_exporter": "python",
   "pygments_lexer": "ipython3",
   "version": "3.8.5"
  }
 },
 "nbformat": 4,
 "nbformat_minor": 4
}
