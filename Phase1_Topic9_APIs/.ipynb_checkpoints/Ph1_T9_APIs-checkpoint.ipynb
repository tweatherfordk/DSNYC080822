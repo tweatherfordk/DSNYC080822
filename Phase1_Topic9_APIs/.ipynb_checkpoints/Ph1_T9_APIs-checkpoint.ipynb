{
 "cells": [
  {
   "cell_type": "markdown",
   "id": "27d3d4e3",
   "metadata": {
    "cell_style": "center",
    "slideshow": {
     "slide_type": "slide"
    }
   },
   "source": [
    "<div style=\"color:white;\n",
    "           display:fill;\n",
    "           border-radius:5px;\n",
    "           background-color:#5642C5;\n",
    "           font-size:200%;\n",
    "           font-family:Arial;letter-spacing:0.5px\">\n",
    "\n",
    "<p width = 20%, style=\"padding: 10px;\n",
    "              color:white;\">\n",
    "APIs\n",
    "              \n",
    "</p>\n",
    "</div>\n",
    "\n",
    "Data Science Cohort Live NYC Feb 2022\n",
    "<p>Phase 1: Topic 9</p>\n",
    "<br>\n",
    "<br>\n",
    "\n",
    "<div align = \"right\">\n",
    "<img src=\"Images/flatiron-school-logo.png\" align = \"right\" width=\"200\"/>\n",
    "</div>\n",
    "    \n",
    "   "
   ]
  },
  {
   "cell_type": "markdown",
   "id": "3d95ddf6",
   "metadata": {
    "slideshow": {
     "slide_type": "slide"
    }
   },
   "source": [
    "API, in this context:\n",
    "\n",
    "<div>\n",
    "<center><img src=\"Images/api.png\" width=\"700\"/></center>\n",
    "</div>"
   ]
  },
  {
   "cell_type": "markdown",
   "id": "95400439",
   "metadata": {
    "slideshow": {
     "slide_type": "slide"
    }
   },
   "source": [
    "Send request/recieve response (HTTP)\n",
    "\n",
    "<div>\n",
    "<center><img src=\"Images/http_method.png\" width=\"600\"/></center>\n",
    "</div>\n",
    "\n",
    "Can get response back and interpret in various forms:\n",
    "- JSON\n",
    "- XML\n",
    "- Raw text\n",
    "- etc"
   ]
  },
  {
   "cell_type": "markdown",
   "id": "47bfb4d3",
   "metadata": {
    "slideshow": {
     "slide_type": "slide"
    }
   },
   "source": [
    "A fictitious database accessed via HTTP:\n",
    "\n",
    "https://www.mypetfun.com/db/api\n",
    "\n",
    "<div>\n",
    "<center><img src=\"Images/http_methods.png\" width=\"500\"/></center>\n",
    "</div>\n",
    "\n"
   ]
  },
  {
   "cell_type": "markdown",
   "id": "bbaf6739",
   "metadata": {
    "slideshow": {
     "slide_type": "slide"
    }
   },
   "source": [
    "More technically:\n",
    "\n",
    "\n",
    "<div>\n",
    "<center><img src=\"Images/technical_HTTP_methods.jpeg\" width=\"500\"/></center>\n",
    "</div>\n"
   ]
  },
  {
   "cell_type": "markdown",
   "id": "03d99850",
   "metadata": {
    "slideshow": {
     "slide_type": "slide"
    }
   },
   "source": [
    "Requested data via HTTP might look like this:\n",
    "\n",
    "<br>\n",
    "<br>\n",
    "<div>\n",
    "<center><img src=\"Images/html_request.png\" width=\"500\"/></center>\n",
    "</div>"
   ]
  },
  {
   "cell_type": "markdown",
   "id": "0c4d51af",
   "metadata": {
    "slideshow": {
     "slide_type": "subslide"
    }
   },
   "source": [
    "This is HTML + CSS. Will see how to parse this next lecture."
   ]
  },
  {
   "cell_type": "markdown",
   "id": "0d4f8fcf",
   "metadata": {
    "slideshow": {
     "slide_type": "slide"
    }
   },
   "source": [
    "Requested data via HTTP might also look like this:\n",
    "\n",
    "<br>\n",
    "<br>\n",
    "<div>\n",
    "<center><img src=\"Images/request_json.png\" width=\"700\"/></center>\n",
    "</div>\n"
   ]
  },
  {
   "cell_type": "markdown",
   "id": "4b57bbfa",
   "metadata": {
    "slideshow": {
     "slide_type": "subslide"
    }
   },
   "source": [
    "Content looks like JSON!"
   ]
  },
  {
   "cell_type": "markdown",
   "id": "b0e907e9",
   "metadata": {
    "slideshow": {
     "slide_type": "subslide"
    }
   },
   "source": [
    "\n",
    "In general: \n",
    "- Want to submit HTTP commands.\n",
    "- Interact with API and HTTP server\n",
    "- Get request/data metadata\n",
    "- Fetch/parse data into Python data structures."
   ]
  },
  {
   "cell_type": "markdown",
   "id": "012b8547",
   "metadata": {
    "slideshow": {
     "slide_type": "slide"
    }
   },
   "source": [
    "The requests library:\n",
    "\n",
    "\n",
    "<br>\n",
    "<br>\n",
    "<div>\n",
    "<center><img src=\"Images/requests.png\" width=\"250\"/></center>\n",
    "</div>\n"
   ]
  },
  {
   "cell_type": "code",
   "execution_count": 2,
   "id": "75a538d5",
   "metadata": {
    "slideshow": {
     "slide_type": "slide"
    }
   },
   "outputs": [],
   "source": [
    "import pandas as pd\n",
    "\n",
    "# the requests package\n",
    "import requests"
   ]
  },
  {
   "cell_type": "markdown",
   "id": "3d6b5161",
   "metadata": {
    "slideshow": {
     "slide_type": "slide"
    }
   },
   "source": [
    "Let's use requests to access data from APIs with public access!\n",
    "<br>\n",
    "<br>\n",
    "<div>\n",
    "<center><img src=\"Images/public_api.png\" width=\"500\"/></center>\n",
    "</div>\n",
    "\n",
    "<center>https://github.com/public-apis/public-apis</center>"
   ]
  },
  {
   "cell_type": "markdown",
   "id": "0637884b",
   "metadata": {
    "slideshow": {
     "slide_type": "slide"
    }
   },
   "source": [
    "The Chuck Norris joke dataset!\n",
    "\n",
    "<center><img src=\"Images/chnorris_kick.png\" width=\"450\"/></center>\n",
    "\n"
   ]
  },
  {
   "cell_type": "markdown",
   "id": "b2e3feb3",
   "metadata": {
    "slideshow": {
     "slide_type": "subslide"
    }
   },
   "source": [
    "Or this:\n",
    "\n",
    "<center><img src=\"Images/chucknorris.jpg\" width=\"450\"/></center>"
   ]
  },
  {
   "cell_type": "markdown",
   "id": "5e4f3016",
   "metadata": {
    "slideshow": {
     "slide_type": "subslide"
    }
   },
   "source": [
    "<div>\n",
    "<center><img src=\"Images/chucknorris_recycling.jfif\" width=\"450\"/></center>\n",
    "</div>"
   ]
  },
  {
   "cell_type": "markdown",
   "id": "d8c01f90",
   "metadata": {
    "slideshow": {
     "slide_type": "slide"
    }
   },
   "source": [
    "Using the requests get method:\n",
    "\n",
    "- requests.get(url, header = __ , params = __ ) makes a get request on given url\n",
    "- An API may take in additional arguments for returning data in specific form.\n",
    "- Some require a header for authentication.\n",
    "\n",
    "\n",
    "Take a look at the documentation for the Chuck Norris API:\n",
    "\n",
    "https://api.chucknorris.io/"
   ]
  },
  {
   "cell_type": "code",
   "execution_count": 80,
   "id": "7a776161",
   "metadata": {
    "slideshow": {
     "slide_type": "slide"
    }
   },
   "outputs": [
    {
     "data": {
      "text/plain": [
       "<Response [200]>"
      ]
     },
     "execution_count": 80,
     "metadata": {},
     "output_type": "execute_result"
    }
   ],
   "source": [
    "# get a random joke\n",
    "random_chucknorris_url = \"https://api.chucknorris.io/jokes/random\"\n",
    "r = requests.get(random_chucknorris_url)\n",
    "r"
   ]
  },
  {
   "cell_type": "markdown",
   "id": "b620be40",
   "metadata": {
    "slideshow": {
     "slide_type": "fragment"
    }
   },
   "source": [
    "This is a response object:\n",
    "- Indicates the type of HTTP response.\n",
    "- 200 = OK.\n",
    "- 400 = Error.\n",
    "\n",
    "Many more types of codes. Look it up."
   ]
  },
  {
   "cell_type": "markdown",
   "id": "bcbe164f",
   "metadata": {
    "slideshow": {
     "slide_type": "slide"
    }
   },
   "source": [
    "Response object attributes and methods:\n",
    "- .status_code\n",
    "- .headers\n",
    "- .text\n",
    "- .json()"
   ]
  },
  {
   "cell_type": "markdown",
   "id": "523fac7d",
   "metadata": {
    "slideshow": {
     "slide_type": "slide"
    }
   },
   "source": [
    "#### .status_code\n",
    "\n",
    "Status code of HTTP response."
   ]
  },
  {
   "cell_type": "code",
   "execution_count": 81,
   "id": "83410ca5",
   "metadata": {
    "slideshow": {
     "slide_type": "fragment"
    }
   },
   "outputs": [
    {
     "data": {
      "text/plain": [
       "200"
      ]
     },
     "execution_count": 81,
     "metadata": {},
     "output_type": "execute_result"
    }
   ],
   "source": [
    "r.status_code"
   ]
  },
  {
   "cell_type": "markdown",
   "id": "023690bb",
   "metadata": {
    "slideshow": {
     "slide_type": "slide"
    }
   },
   "source": [
    "#### .headers\n",
    "\n",
    "- Information about the type of content\n",
    "- Metadata about the request"
   ]
  },
  {
   "cell_type": "code",
   "execution_count": 82,
   "id": "a5a58cc6",
   "metadata": {
    "slideshow": {
     "slide_type": "fragment"
    }
   },
   "outputs": [
    {
     "data": {
      "text/plain": [
       "{'Date': 'Mon, 07 Mar 2022 01:18:04 GMT', 'Content-Type': 'application/json;charset=UTF-8', 'Transfer-Encoding': 'chunked', 'Connection': 'keep-alive', 'Via': '1.1 vegur', 'CF-Cache-Status': 'DYNAMIC', 'Expect-CT': 'max-age=604800, report-uri=\"https://report-uri.cloudflare.com/cdn-cgi/beacon/expect-ct\"', 'Report-To': '{\"endpoints\":[{\"url\":\"https:\\\\/\\\\/a.nel.cloudflare.com\\\\/report\\\\/v3?s=%2BAcxiFiHCkcDCGehgVei%2F1%2BR7mVenAQckcFJJIHvheoeeUcZ2drCRueJ4pQCkt8XaO%2FHCNjpRacR0f1pHN9zngePIEgDzB8rX6c72bHBctPXoS8tS%2FK%2FuJAKF3KSwhDhBqXIbOE%3D\"}],\"group\":\"cf-nel\",\"max_age\":604800}', 'NEL': '{\"success_fraction\":0,\"report_to\":\"cf-nel\",\"max_age\":604800}', 'Server': 'cloudflare', 'CF-RAY': '6e7f7ebebd5f1791-EWR', 'Content-Encoding': 'gzip', 'alt-svc': 'h3=\":443\"; ma=86400, h3-29=\":443\"; ma=86400'}"
      ]
     },
     "execution_count": 82,
     "metadata": {},
     "output_type": "execute_result"
    }
   ],
   "source": [
    "r.headers"
   ]
  },
  {
   "cell_type": "markdown",
   "id": "8552c399",
   "metadata": {
    "slideshow": {
     "slide_type": "slide"
    }
   },
   "source": [
    "#### .text\n",
    "\n",
    "- Returns fetched information\n",
    "- In pure text format: Python string"
   ]
  },
  {
   "cell_type": "code",
   "execution_count": 83,
   "id": "c76abe88",
   "metadata": {
    "slideshow": {
     "slide_type": "fragment"
    }
   },
   "outputs": [
    {
     "data": {
      "text/plain": [
       "'{\"categories\":[],\"created_at\":\"2020-01-05 13:42:27.496799\",\"icon_url\":\"https://assets.chucknorris.host/img/avatar/chuck-norris.png\",\"id\":\"AC4eKCkKRZ-2fjS2JLdkJA\",\"updated_at\":\"2020-01-05 13:42:27.496799\",\"url\":\"https://api.chucknorris.io/jokes/AC4eKCkKRZ-2fjS2JLdkJA\",\"value\":\"if Chuck Norris wanted to recycle, he would recycle your face.\"}'"
      ]
     },
     "execution_count": 83,
     "metadata": {},
     "output_type": "execute_result"
    }
   ],
   "source": [
    "r.text"
   ]
  },
  {
   "cell_type": "markdown",
   "id": "8086de8f",
   "metadata": {
    "slideshow": {
     "slide_type": "slide"
    }
   },
   "source": [
    "#### .json()\n",
    "\n",
    "- Parses fetched info as json\n",
    "- Returns python dictionary"
   ]
  },
  {
   "cell_type": "code",
   "execution_count": 100,
   "id": "758532a3",
   "metadata": {
    "slideshow": {
     "slide_type": "fragment"
    }
   },
   "outputs": [
    {
     "data": {
      "text/plain": [
       "{'categories': [],\n",
       " 'created_at': '2020-01-05 13:42:27.496799',\n",
       " 'icon_url': 'https://assets.chucknorris.host/img/avatar/chuck-norris.png',\n",
       " 'id': 'AC4eKCkKRZ-2fjS2JLdkJA',\n",
       " 'updated_at': '2020-01-05 13:42:27.496799',\n",
       " 'url': 'https://api.chucknorris.io/jokes/AC4eKCkKRZ-2fjS2JLdkJA',\n",
       " 'value': 'if Chuck Norris wanted to recycle, he would recycle your face.'}"
      ]
     },
     "execution_count": 100,
     "metadata": {},
     "output_type": "execute_result"
    }
   ],
   "source": [
    "r.json()"
   ]
  },
  {
   "cell_type": "markdown",
   "id": "0d29962c",
   "metadata": {
    "slideshow": {
     "slide_type": "slide"
    }
   },
   "source": [
    "#### API parameters\n",
    "- API requests will often allow additional arguments.\n",
    "- I.e. get subset of data, search database by keyword, etc."
   ]
  },
  {
   "cell_type": "code",
   "execution_count": 89,
   "id": "a7aaf56f",
   "metadata": {
    "slideshow": {
     "slide_type": "subslide"
    }
   },
   "outputs": [],
   "source": [
    "new_req = \"https://api.chucknorris.io/jokes/search\"\n",
    "parameters = {'query': 'recycle'}\n",
    "r2 = requests.get(new_req, params = parameters)\n",
    "\n",
    "# same as just passing in \"https://api.chucknorris.io/jokes/search?query=recycle\"\n",
    "# using params dictionary much better form."
   ]
  },
  {
   "cell_type": "code",
   "execution_count": 90,
   "id": "c0fab984",
   "metadata": {
    "scrolled": false,
    "slideshow": {
     "slide_type": "fragment"
    }
   },
   "outputs": [],
   "source": [
    "query_data = r2.json()"
   ]
  },
  {
   "cell_type": "code",
   "execution_count": 93,
   "id": "db1136c1",
   "metadata": {
    "slideshow": {
     "slide_type": "fragment"
    }
   },
   "outputs": [
    {
     "data": {
      "text/plain": [
       "dict_keys(['total', 'result'])"
      ]
     },
     "execution_count": 93,
     "metadata": {},
     "output_type": "execute_result"
    }
   ],
   "source": [
    "query_data.keys()"
   ]
  },
  {
   "cell_type": "code",
   "execution_count": 94,
   "id": "a87ffb05",
   "metadata": {
    "slideshow": {
     "slide_type": "fragment"
    }
   },
   "outputs": [
    {
     "data": {
      "text/plain": [
       "5"
      ]
     },
     "execution_count": 94,
     "metadata": {},
     "output_type": "execute_result"
    }
   ],
   "source": [
    "query_data['total']"
   ]
  },
  {
   "cell_type": "code",
   "execution_count": 95,
   "id": "c052fb39",
   "metadata": {
    "slideshow": {
     "slide_type": "subslide"
    }
   },
   "outputs": [
    {
     "data": {
      "text/plain": [
       "[{'categories': [],\n",
       "  'created_at': '2020-01-05 13:42:19.324003',\n",
       "  'icon_url': 'https://assets.chucknorris.host/img/avatar/chuck-norris.png',\n",
       "  'id': 'KDNst_DLT321gRz8bBN1YQ',\n",
       "  'updated_at': '2020-01-05 13:42:19.324003',\n",
       "  'url': 'https://api.chucknorris.io/jokes/KDNst_DLT321gRz8bBN1YQ',\n",
       "  'value': 'Chuck Norris can recycle anything he wants,including his roundhouse kicks.'},\n",
       " {'categories': [],\n",
       "  'created_at': '2020-01-05 13:42:22.701402',\n",
       "  'icon_url': 'https://assets.chucknorris.host/img/avatar/chuck-norris.png',\n",
       "  'id': '8PF0ft1iQKuvVStbuGkwkg',\n",
       "  'updated_at': '2020-01-05 13:42:22.701402',\n",
       "  'url': 'https://api.chucknorris.io/jokes/8PF0ft1iQKuvVStbuGkwkg',\n",
       "  'value': 'Chuck Norris uses Wikileaks as a Recycle bin'},\n",
       " {'categories': [],\n",
       "  'created_at': '2020-01-05 13:42:27.496799',\n",
       "  'icon_url': 'https://assets.chucknorris.host/img/avatar/chuck-norris.png',\n",
       "  'id': 'bRrEaaLhQ1W1a6gBygYujA',\n",
       "  'updated_at': '2020-01-05 13:42:27.496799',\n",
       "  'url': 'https://api.chucknorris.io/jokes/bRrEaaLhQ1W1a6gBygYujA',\n",
       "  'value': 'When Chuck Norris recycles paper it turns right back into trees'},\n",
       " {'categories': [],\n",
       "  'created_at': '2020-01-05 13:42:27.496799',\n",
       "  'icon_url': 'https://assets.chucknorris.host/img/avatar/chuck-norris.png',\n",
       "  'id': 'AC4eKCkKRZ-2fjS2JLdkJA',\n",
       "  'updated_at': '2020-01-05 13:42:27.496799',\n",
       "  'url': 'https://api.chucknorris.io/jokes/AC4eKCkKRZ-2fjS2JLdkJA',\n",
       "  'value': 'if Chuck Norris wanted to recycle, he would recycle your face.'},\n",
       " {'categories': [],\n",
       "  'created_at': '2020-01-05 13:42:30.480041',\n",
       "  'icon_url': 'https://assets.chucknorris.host/img/avatar/chuck-norris.png',\n",
       "  'id': 'UenLgf3XTbaZHmA7ZPCMDA',\n",
       "  'updated_at': '2020-01-05 13:42:30.480041',\n",
       "  'url': 'https://api.chucknorris.io/jokes/UenLgf3XTbaZHmA7ZPCMDA',\n",
       "  'value': 'Chuck Norris can delete the recycle bin'}]"
      ]
     },
     "execution_count": 95,
     "metadata": {},
     "output_type": "execute_result"
    }
   ],
   "source": [
    "query_data['result']"
   ]
  },
  {
   "cell_type": "code",
   "execution_count": 99,
   "id": "44eaadc9",
   "metadata": {
    "slideshow": {
     "slide_type": "slide"
    }
   },
   "outputs": [],
   "source": [
    "# get me a list containing all the Chuck Norris jokes concerning roundhouse kicks."
   ]
  },
  {
   "cell_type": "code",
   "execution_count": 98,
   "id": "42d6bc67",
   "metadata": {
    "slideshow": {
     "slide_type": "slide"
    }
   },
   "outputs": [],
   "source": [
    "# get me a Chuck Norris joke in the sports category."
   ]
  },
  {
   "cell_type": "markdown",
   "id": "e79ee8e3",
   "metadata": {
    "slideshow": {
     "slide_type": "slide"
    }
   },
   "source": [
    "#### Secure APIs: Generating Access Tokens\n",
    "- Need to generate an access token for secure APIs.\n",
    "- Uses OAuth protocol for providing API access.\n",
    "    - Verify identity.\n",
    "    - Give access to resource.\n"
   ]
  },
  {
   "cell_type": "markdown",
   "id": "4cbc26d6",
   "metadata": {
    "slideshow": {
     "slide_type": "slide"
    }
   },
   "source": [
    "#### Acessing data via Yelp API\n",
    "\n",
    "<div>\n",
    "<center><img src=\"Images/yelp.png\" width=\"450\"/></center>\n",
    "</div>\n",
    "<center>https://www.yelp.com/developers/v3/manage_app </center>\n",
    "\n",
    "\n",
    "- Fill out your app info/details. \n",
    "- Afterwards, should be presented with an API key for making requests.\n"
   ]
  },
  {
   "cell_type": "markdown",
   "id": "e22e1690",
   "metadata": {
    "slideshow": {
     "slide_type": "slide"
    }
   },
   "source": [
    "#### Storing API key securely\n",
    "- Store key for easy access\n",
    "- Protect from exposure to unwanted parties.\n"
   ]
  },
  {
   "cell_type": "markdown",
   "id": "dc887b6a",
   "metadata": {
    "slideshow": {
     "slide_type": "slide"
    }
   },
   "source": [
    "#### Procedure outline:\n",
    "\n",
    "- Create a hidden .secrets folder in your repository\n",
    "- Put your credentials in a file in the .secrets folder\n",
    "- Add the .secrets/ folder to the .gitignore file\n",
    "    \n",
    "    \n",
    "    "
   ]
  },
  {
   "cell_type": "markdown",
   "id": "4735105b",
   "metadata": {
    "slideshow": {
     "slide_type": "slide"
    }
   },
   "source": [
    "#### Make secrets directory"
   ]
  },
  {
   "cell_type": "code",
   "execution_count": 101,
   "id": "4edc6986",
   "metadata": {
    "slideshow": {
     "slide_type": "fragment"
    }
   },
   "outputs": [],
   "source": [
    "%%bash\n",
    "mkdir .secrets"
   ]
  },
  {
   "cell_type": "markdown",
   "id": "d5593aac",
   "metadata": {
    "slideshow": {
     "slide_type": "slide"
    }
   },
   "source": [
    "#### Put credentials in authentication file."
   ]
  },
  {
   "cell_type": "code",
   "execution_count": 102,
   "id": "dceb2b6b",
   "metadata": {
    "slideshow": {
     "slide_type": "fragment"
    }
   },
   "outputs": [],
   "source": [
    "%%bash \n",
    "api_key = \n",
    "#echo '{ \"id\": \"<ID>\", \"key\": \"<KEY>\" }' > creds.json"
   ]
  },
  {
   "cell_type": "markdown",
   "id": "5c9608ff",
   "metadata": {
    "slideshow": {
     "slide_type": "slide"
    }
   },
   "source": [
    "####  Move to .secrets folder"
   ]
  },
  {
   "cell_type": "code",
   "execution_count": 103,
   "id": "972ebea9",
   "metadata": {
    "slideshow": {
     "slide_type": "fragment"
    }
   },
   "outputs": [],
   "source": [
    "%%bash \n",
    "#mv creds.json .secrets/"
   ]
  },
  {
   "cell_type": "markdown",
   "id": "de32b2a6",
   "metadata": {
    "slideshow": {
     "slide_type": "slide"
    }
   },
   "source": [
    "#### Add the .secrets/ folder to the .gitignore file\n"
   ]
  },
  {
   "cell_type": "code",
   "execution_count": 104,
   "id": "48f58b5d",
   "metadata": {
    "slideshow": {
     "slide_type": "fragment"
    }
   },
   "outputs": [],
   "source": [
    "%%bash \n",
    "#echo \".secrets/\" >> .gitignore"
   ]
  },
  {
   "cell_type": "markdown",
   "id": "fcbf0a63",
   "metadata": {
    "slideshow": {
     "slide_type": "slide"
    }
   },
   "source": [
    "#### Load API id + key"
   ]
  },
  {
   "cell_type": "code",
   "execution_count": null,
   "id": "7c0f67b8",
   "metadata": {
    "slideshow": {
     "slide_type": "fragment"
    }
   },
   "outputs": [],
   "source": [
    "with open('.secrets/creds.json') as f:\n",
    "    creds = json.load(f)"
   ]
  },
  {
   "cell_type": "markdown",
   "id": "cc2c02e5",
   "metadata": {
    "slideshow": {
     "slide_type": "slide"
    }
   },
   "source": [
    "#### Making our Request\n",
    "\n",
    "Yelp API Guide: https://www.yelp.com/developers/documentation/v3/get_started\n",
    "\n",
    "Get first 10 results of business search in Yelp:\n",
    "- Pertaining to 'Hamburgers'\n",
    "- In Seattle.\n",
    "\n",
    "Authenticate request with key."
   ]
  },
  {
   "cell_type": "code",
   "execution_count": null,
   "id": "057f0b1a",
   "metadata": {
    "slideshow": {
     "slide_type": "subslide"
    }
   },
   "outputs": [],
   "source": [
    "url = 'https://api.yelp.com/v3/businesses/search'\n",
    "term = 'Hamburgers'\n",
    "SEARCH_LIMIT = 10\n",
    "headers = {\n",
    "    'Authorization': 'Bearer ' + creds['key']\n",
    "}\n",
    "\n",
    "url_params = {\n",
    "    'term': term,\n",
    "    'location': 'Seattle+WA',\n",
    "    'limit': SEARCH_LIMIT,\n",
    "    'offset': 0\n",
    "}\n",
    "response = requests.get(url, headers=headers, params=url_params)\n",
    "print(response.status_code)"
   ]
  },
  {
   "cell_type": "markdown",
   "id": "151ac44f",
   "metadata": {
    "slideshow": {
     "slide_type": "slide"
    }
   },
   "source": [
    "Get the JSON data as dict!"
   ]
  },
  {
   "cell_type": "code",
   "execution_count": null,
   "id": "14d1f4aa",
   "metadata": {
    "slideshow": {
     "slide_type": "fragment"
    }
   },
   "outputs": [],
   "source": [
    "data_json = response.json()\n",
    "data_json"
   ]
  },
  {
   "cell_type": "markdown",
   "id": "3cae525c",
   "metadata": {
    "slideshow": {
     "slide_type": "slide"
    }
   },
   "source": [
    "#### Now the fun commences\n",
    "Make a pandas DataFrame called yelp_df:\n",
    "- Explore the business data from the Yelp response \n",
    "- Use your pandas ninja skills. "
   ]
  }
 ],
 "metadata": {
  "celltoolbar": "Slideshow",
  "kernelspec": {
   "display_name": "Python 3 (ipykernel)",
   "language": "python",
   "name": "python3"
  },
  "language_info": {
   "codemirror_mode": {
    "name": "ipython",
    "version": 3
   },
   "file_extension": ".py",
   "mimetype": "text/x-python",
   "name": "python",
   "nbconvert_exporter": "python",
   "pygments_lexer": "ipython3",
   "version": "3.9.7"
  }
 },
 "nbformat": 4,
 "nbformat_minor": 5
}
