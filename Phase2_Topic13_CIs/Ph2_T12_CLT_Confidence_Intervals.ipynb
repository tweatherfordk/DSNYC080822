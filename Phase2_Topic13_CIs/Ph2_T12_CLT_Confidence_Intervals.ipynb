{
 "cells": [
  {
   "cell_type": "markdown",
   "metadata": {
    "cell_style": "center",
    "slideshow": {
     "slide_type": "slide"
    }
   },
   "source": [
    "<div style=\"color:white;\n",
    "           display:fill;\n",
    "           border-radius:5px;\n",
    "           background-color:#5642C5;\n",
    "           font-size:200%;\n",
    "           font-family:Arial;letter-spacing:0.5px\">\n",
    "\n",
    "<p width = 20%, style=\"padding: 10px;\n",
    "              color:white;\">\n",
    "Normal Distributions, Sampling Means, Confidence Intervals\n",
    "              \n",
    "</p>\n",
    "</div>\n",
    "\n",
    "Data Science Cohort Live NYC Aug 2022\n",
    "<p>Phase 2: Topic 13</p>\n",
    "<br>\n",
    "<br>\n",
    "\n",
    "<div align = \"right\">\n",
    "<img src=\"Images/flatiron-school-logo.png\" align = \"right\" width=\"200\"/>\n",
    "</div>\n",
    "    \n",
    "    "
   ]
  },
  {
   "cell_type": "markdown",
   "metadata": {
    "slideshow": {
     "slide_type": "slide"
    }
   },
   "source": [
    "#### First a more thorough treatment of Central Limit Thorem\n",
    "- motivated it earlier\n",
    "- more precise statement will help us understand some important things about:\n",
    "    - measurements and sample size effects."
   ]
  },
  {
   "cell_type": "markdown",
   "metadata": {
    "cell_style": "split",
    "slideshow": {
     "slide_type": "slide"
    }
   },
   "source": [
    "- Measuring $X$ (e.g., calls per min at call center) in population:\n",
    "    - follows some population distribution (Poisson)\n",
    "    - population mean $\\mu$\n",
    "    - population variance $\\sigma^2$"
   ]
  },
  {
   "cell_type": "markdown",
   "metadata": {
    "cell_style": "split",
    "slideshow": {
     "slide_type": "fragment"
    }
   },
   "source": [
    "- $X$ is a random variable."
   ]
  },
  {
   "cell_type": "markdown",
   "metadata": {
    "cell_style": "split",
    "slideshow": {
     "slide_type": "fragment"
    }
   },
   "source": [
    "Can rescale/shift:\n",
    "\n",
    "$$ Y = \\frac{X - \\mu}{\\sigma} $$\n",
    "\n",
    "- measures how far individual is from population mean in unit of standard deviation of population "
   ]
  },
  {
   "cell_type": "markdown",
   "metadata": {
    "slideshow": {
     "slide_type": "slide"
    }
   },
   "source": [
    "Rescaled/shift:\n",
    "\n",
    "$$ Y =  \\frac{X - \\mu}{\\sigma} $$\n",
    "\n",
    "- Mean of $Y$ over population is 0.\n",
    "- Standard deviation of $Y$ is 1."
   ]
  },
  {
   "cell_type": "markdown",
   "metadata": {
    "slideshow": {
     "slide_type": "subslide"
    }
   },
   "source": [
    "Take a sample of size N : $X_1, X_2,...,X_N$\n",
    "\n",
    "After shifting by population mean and rescaling by population standard deviation:\n",
    "\n",
    "$$ Y_1,Y_2,...Y_N $$"
   ]
  },
  {
   "cell_type": "markdown",
   "metadata": {
    "slideshow": {
     "slide_type": "subslide"
    }
   },
   "source": [
    "#### A more precise statement of the central limit theorem:\n",
    "\n",
    "If a random variable $Y_i$ has mean 0 and variance 1, then for a sample with sufficiently large $N$:\n",
    "\n",
    "$$ S_N = \\frac{Y_1 + Y_2 + ... Y_N}{\\sqrt{N}} $$\n",
    "\n",
    "is normally distributed with mean 0 and standard deviation 1.\n",
    "\n",
    "E.g. $S_N$ follows the *standardized normal distribution*."
   ]
  },
  {
   "cell_type": "code",
<<<<<<< HEAD
   "execution_count": 1,
=======
   "execution_count": 59,
>>>>>>> 3217e13b7c2c03ffbe0bf6afae64c83bd0145e3c
   "metadata": {
    "slideshow": {
     "slide_type": "slide"
    }
   },
   "outputs": [],
   "source": [
    "from scipy.stats import poisson\n",
    "import numpy as np\n",
    "import matplotlib.pyplot as plt"
   ]
  },
  {
   "cell_type": "code",
<<<<<<< HEAD
   "execution_count": 2,
=======
   "execution_count": 78,
>>>>>>> 3217e13b7c2c03ffbe0bf6afae64c83bd0145e3c
   "metadata": {
    "scrolled": true,
    "slideshow": {
     "slide_type": "fragment"
    }
   },
   "outputs": [],
   "source": [
    "average_count_min = 2.5\n",
    "# for Poisson turns out variance is equal to mean\n",
    "var_count_min = average_count_min\n",
    "\n",
    "sample_trial = poisson.rvs(mu = average_count_min, size = 250)"
   ]
  },
  {
   "cell_type": "code",
<<<<<<< HEAD
   "execution_count": 3,
=======
   "execution_count": 79,
   "metadata": {},
   "outputs": [
    {
     "data": {
      "text/plain": [
       "array([1, 2, 1, 4, 3, 1, 1, 1, 1, 1, 2, 2, 2, 0, 2, 2, 2, 4, 2, 4, 1, 1,\n",
       "       3, 1, 0, 5, 2, 9, 2, 3, 2, 3, 2, 1, 1, 3, 3, 3, 3, 3, 2, 0, 0, 0,\n",
       "       1, 2, 1, 7, 2, 3, 1, 1, 3, 2, 5, 5, 4, 1, 5, 1, 5, 0, 2, 4, 2, 3,\n",
       "       3, 3, 2, 2, 0, 1, 5, 2, 2, 0, 3, 1, 0, 2, 2, 3, 2, 3, 1, 3, 5, 1,\n",
       "       6, 2, 0, 3, 4, 4, 5, 3, 2, 5, 3, 1, 2, 2, 4, 4, 6, 3, 2, 4, 1, 1,\n",
       "       0, 3, 1, 2, 0, 1, 3, 2, 3, 3, 1, 0, 3, 4, 2, 2, 2, 2, 2, 3, 3, 3,\n",
       "       5, 3, 6, 5, 2, 2, 3, 3, 1, 2, 2, 2, 5, 0, 2, 3, 0, 3, 2, 2, 4, 0,\n",
       "       5, 1, 3, 5, 1, 3, 4, 3, 1, 2, 2, 4, 2, 7, 6, 1, 4, 5, 1, 1, 3, 4,\n",
       "       3, 2, 0, 1, 4, 1, 1, 3, 0, 3, 3, 6, 4, 2, 4, 3, 1, 2, 2, 3, 4, 4,\n",
       "       0, 2, 2, 0, 1, 4, 7, 2, 0, 3, 0, 5, 4, 5, 2, 2, 6, 3, 2, 1, 1, 2,\n",
       "       2, 3, 0, 1, 3, 5, 3, 1, 1, 3, 1, 1, 1, 2, 3, 3, 0, 3, 2, 3, 1, 3,\n",
       "       4, 2, 0, 0, 1, 3, 1, 4])"
      ]
     },
     "execution_count": 79,
     "metadata": {},
     "output_type": "execute_result"
    }
   ],
   "source": [
    "sample_trial"
   ]
  },
  {
   "cell_type": "code",
   "execution_count": 80,
>>>>>>> 3217e13b7c2c03ffbe0bf6afae64c83bd0145e3c
   "metadata": {
    "cell_style": "split",
    "scrolled": true,
    "slideshow": {
     "slide_type": "slide"
    }
   },
   "outputs": [
    {
     "data": {
<<<<<<< HEAD
      "image/png": "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\n",
=======
      "image/png": "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\n",
>>>>>>> 3217e13b7c2c03ffbe0bf6afae64c83bd0145e3c
      "text/plain": [
       "<Figure size 432x288 with 1 Axes>"
      ]
     },
     "metadata": {
      "needs_background": "light"
     },
     "output_type": "display_data"
    }
   ],
   "source": [
    "plt.hist(sample_trial)\n",
    "plt.xlabel('Calls per min')\n",
    "plt.ylabel(' Histogram Count')\n",
    "plt.title('Poisson: N = 250 Sample')\n",
    "plt.show()"
   ]
  },
  {
   "cell_type": "code",
<<<<<<< HEAD
   "execution_count": 4,
=======
   "execution_count": 81,
>>>>>>> 3217e13b7c2c03ffbe0bf6afae64c83bd0145e3c
   "metadata": {
    "cell_style": "split",
    "slideshow": {
     "slide_type": "fragment"
    }
   },
   "outputs": [
    {
     "data": {
      "text/plain": [
<<<<<<< HEAD
       "2.352"
      ]
     },
     "execution_count": 4,
=======
       "2.416"
      ]
     },
     "execution_count": 81,
>>>>>>> 3217e13b7c2c03ffbe0bf6afae64c83bd0145e3c
     "metadata": {},
     "output_type": "execute_result"
    }
   ],
   "source": [
    "sample_trial.mean()"
   ]
  },
  {
   "cell_type": "code",
<<<<<<< HEAD
   "execution_count": 5,
=======
   "execution_count": 82,
>>>>>>> 3217e13b7c2c03ffbe0bf6afae64c83bd0145e3c
   "metadata": {
    "cell_style": "split",
    "slideshow": {
     "slide_type": "fragment"
    }
   },
   "outputs": [
    {
     "data": {
      "text/plain": [
<<<<<<< HEAD
       "2.100096"
      ]
     },
     "execution_count": 5,
=======
       "2.602944"
      ]
     },
     "execution_count": 82,
>>>>>>> 3217e13b7c2c03ffbe0bf6afae64c83bd0145e3c
     "metadata": {},
     "output_type": "execute_result"
    }
   ],
   "source": [
    "sample_trial.var()"
   ]
  },
  {
   "cell_type": "markdown",
   "metadata": {
    "slideshow": {
     "slide_type": "slide"
    }
   },
   "source": [
    "Now conduct rescaling/shifting of sample:\n",
    "\n",
    "$$ Y = \\frac{X - \\mu}{\\sigma} $$"
   ]
  },
  {
   "cell_type": "code",
<<<<<<< HEAD
   "execution_count": 6,
=======
   "execution_count": 83,
>>>>>>> 3217e13b7c2c03ffbe0bf6afae64c83bd0145e3c
   "metadata": {
    "slideshow": {
     "slide_type": "subslide"
    }
   },
   "outputs": [],
   "source": [
    "rescaled_sample = (sample_trial - average_count_min)/np.sqrt(var_count_min)"
   ]
  },
  {
   "cell_type": "code",
<<<<<<< HEAD
   "execution_count": 7,
=======
   "execution_count": 84,
>>>>>>> 3217e13b7c2c03ffbe0bf6afae64c83bd0145e3c
   "metadata": {
    "cell_style": "center",
    "scrolled": true,
    "slideshow": {
     "slide_type": "subslide"
    }
   },
   "outputs": [
    {
     "data": {
<<<<<<< HEAD
      "image/png": "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\n",
=======
      "image/png": "iVBORw0KGgoAAAANSUhEUgAAAX4AAAEICAYAAABYoZ8gAAAAOXRFWHRTb2Z0d2FyZQBNYXRwbG90bGliIHZlcnNpb24zLjQuMywgaHR0cHM6Ly9tYXRwbG90bGliLm9yZy/MnkTPAAAACXBIWXMAAAsTAAALEwEAmpwYAAAgEklEQVR4nO3de5xVZb3H8c8XRJlEQGX0KAhjJ0tNJbl4TJJEzBuEaGZp5pgalUfLygtUJtl5najjS+t4yrwUUGqhiBeUTLxleWUQFZUQsxFBEyQZQfEC/s4fa41th5lhD7PX3jOzvu/Xa7/2Xs+6/dYe+K1nP+tZz1JEYGZm+dGt0gGYmVl5OfGbmeWME7+ZWc448ZuZ5YwTv5lZzjjxm5nljBO/lZSkpyQdVOk4rLwkHSRpWaXjsOI48VuzJNVLWidpraSXJU2V1GtT60XERyPi3jKE2GaSQtJCSd0Kyv5L0rQS72eMpL9IWi3pH5KulLRNwfxpkt5Ov9vGV/eC+R+TNF/SG+n7x1rZ1wBJN0h6RVJDenwnl/J4rOtx4rfWfDoiegFDgOHA9yocTynsDHw+4330Af4r3dcewADgf5os85OI6FXw2gAgaUvgZuBqYFtgOnBzWt6c3wIvAIOA7YGTgJdLfDzWxTjx2yZFxHLgD8BeAJLGpU06qyXdK2mPxmXTXwqHpJ/3k1Qn6bX0V8PFaXlPSVdLWpVuY56kHdN5O0u6RdI/JT0r6csF254s6TpJv5G0Jo1hWBsP5yfADyRt0b5vpWURcW1E3B4Rb0TEq8CVwIgiVz8I2AL4aUS8FRH/Cwg4uIXlhwPTIuL1iFgfEQsi4g+NMyVdn/7qaJB0n6SPFsybJukXkv6Q/uq4X9K/SfqppFcl/VXSvgXL10uaJOnpdP5UST2bCyr9O94gaaWkv0v6epHHb2XgxG+bJGkX4EhggaQPA78DzgKqgTnA7BZqpD8DfhYRvYF/B65Ly2tJasW7kNRSvwqsS+f9DlhGUls+FvhvSaMLtjkO+D3QF7gF+L+COH8h6RebOJxZwGvAyZtYDkkD0xNTS68TNrWN1EjgqSZlp6cnt/mSPlNQ/lHgiXj/WCpPpOXNeQj4uaTPSxrYzPw/ALsBOwCPAtc0mX8cyS+5fsBbwIPpcv2AmcDFTZb/AnAYyd/zwzTzKzBtSpsNPA70B0YDZ0k6rIVjsHKLCL/82ugF1ANrgdXA88AvgCrgfOC6guW6AcuBgwrWOyT9fB/wA6Bfk22fAjwA7NOkfBdgA7BNQdmPSGq0AJOBOwvm7Qmsa8MxBfAhkpPYUmArkiaZaRl+j58CXgU+XFA2hOSEt0UayxpgRDrvfOD3TbZxDTC5he1vC0whObFsAB4DhrewbN/0O+iTTk8DriyYfyawqGB6b2B1k38TXy2YPhL4W/r5IGBZ+vk/gKVN9j0JmFrpf9d+JS/X+K014yOib0QMiojTI2IdSU38+cYFIuJdkjbm/s2sfypJrfCvaXPO2LT8t8Afgd9LelHSTyT1SLf9z4hYU7CN55ts+x8Fn98Aera12SYi5pAk/gltWa+tJO0PXAscGxHPFOz/0YhYFUnTzBySxH5MOnst0LvJpnqTnBw2EhGvRsTEiPgosCNJ4r9Jie6Spkj6m6TXSBI3JLX5RoXXA9Y1M930gv4LBZ+fJ/mbNTUI2Lnw1xHwnTQ+6wCc+K2tXiT5jw2AJJHU1Jc3XTAilkTE8STNDD8GZkraOiLeiYgfRMSewAHAWJKLki8C2xX2gAEGNrftEvge8F3gAy0tkDb1rG3l9YVW1t2XpCnqlIi4axOxBEk7PiQ1933S77XRPmzcVLTxRiJeAS4iScbbAScARwGHkDSt1TSGt6lttWKXgs8DSf5mTb0A/D2tNDS+tomII9uxXyshJ35rq+uAMZJGp7X0b5O0DT/QdEFJJ0qqTn8VrE6LN0gaJWlvJV0YXwPeATZExAvpdn6UXgDeh+RXQ9N26XaLpMvpQpLrDS0tszTe3/Om6avZuCTtBdwOnBkRs5uZf6ykXpK6SToUOJHkJAFwL0mTzdclbSXpjLT87hb29WNJe0naIj1hfg14NiJWAduQ/G1WkZzg/nsTX0sx/lNJF9LtSGrxM5pZ5hHgNUnnSapKf3nsJWl4CfZvJeDEb20SEYtJEtWlwCvAp0m6fb7dzOKHA09JWktyoffzEfEm8G8kFw5fAxYBfyLpvghwPEnN9EXgRuCCiJhbTGySfinpl204nO+R1IxL7dskF75/VfDroLDG/g2SXzGrSbp5fjk9EZF+j+NJfgGtJrkeMr6F7xeShH5juuxzJL/GxqXzfkPSHLMceJrkQnB7XQvcke7rOZJrJO8TSdfUTwMfA/5O8u/kKpJfHdYBKMIPYjGzTZNUD5wWEXdWOhZrH9f4zcxyxonfzCxn3NRjZpYzrvGbmeVMZuOVlFK/fv2ipqam0mGYmXUq8+fPfyUiqpuWd4rEX1NTQ11dXaXDMDPrVCQ931y5m3rMzHLGid/MLGec+M3McqZTtPGbWX688847LFu2jDfffLPSoXQaPXv2ZMCAAfTo0aOo5Z34zaxDWbZsGdtssw01NTW8f5BSa05EsGrVKpYtW8auu+5a1Dpu6jGzDuXNN99k++23d9IvkiS23377Nv1CcuI3sw7HSb9t2vp9OfGbmeWM2/jNrEMbMeVulq9eV7Lt9e9bxf0TD273do488kiuvfZa+vbt2+Iy3//+9xk5ciSHHHJIm7d/7733ctFFF3Hrrbe2I8rmOfGXwyV7Q8PSzV+/z0D45sLSxVNmpf6P25JS/Ye2jmX56nXUTxlTsu3VTLytXes3PrB8zpw5m1z2wgsvbNe+suLEXw4NS2Fyw+avP7lzP7io1P9xW9Le/9BmjS6++GJ+/etfA3Daaacxfvx4jjjiCEaNGsWDDz7ITTfdxCc/+Unq6uro168fP/zhD7nmmmvYZZdd6NevH0OHDuXss8/m5JNPZuzYsRx77LHU1NRQW1vL7Nmzeeedd7j++uvZfffdeeSRRzjrrLNYt24dVVVVTJ06lY985COZHp/b+M3MCsyfP5+pU6fy8MMP89BDD3HllVfy6quvsnjxYk466SQWLFjAoEGD3lu+rq6OG264gQULFjBr1qxWxxXr168fjz76KF/72te46KKLANh999257777WLBgARdeeCHf+c53Mj9G1/jNzAr85S9/4eijj2brrbcG4JhjjuHPf/4zgwYNYv/99292+aOOOoqqqioAPv3pT7e47WOOOQaAoUOHMmvWLAAaGhqora1lyZIlSOKdd94p9SFtxDV+M7MCLT2cqvFEUOzyzdlqq60A6N69O+vXrwfg/PPPZ9SoUTz55JPMnj27LHcsO/GbmRUYOXIkN910E2+88Qavv/46N954IwceeGCLy3/iE594L2GvXbuW225r27WmhoYG+vfvD8C0adPaE3rRMm3qkdQXuArYCwjgFGAxMAOoAeqB4yLi1SzjMLPOq3/fqpJeuO/ft6rV+UOGDOHkk09mv/32A5KLu9tuu22Lyw8fPpxx48YxePBgBg0axLBhw+jTp/gOGeeeey61tbVcfPHFHHxwmXqlNXZNyuIFTAdOSz9vCfQFfgJMTMsmAj/e1HaGDh0andoFvSu7foUNOu/WLrUfy9bTTz9d6RDabM2aNRER8frrr8fQoUNj/vz5ZY+hue8NqItmcmpmNX5JvYGRwMnpCeZt4G1JRwEHpYtNB+4FzssqDjOzrE2YMIGnn36aN998k9raWoYMGVLpkFqVZVPPB4GVwFRJg4H5wDeAHSPiJYCIeEnSDhnGYGaWuWuvvbbSIbRJlhd3twCGAJdFxL7A6yRNO0WRNEFSnaS6lStXZhWjmVnuZJn4lwHLIuLhdHomyYngZUk7AaTvK5pbOSKuiIhhETGsunqjh8SbmdlmyizxR8Q/gBckNd57PBp4GrgFqE3LaoGbs4rBzMw2lvWdu2cC10jaEngO+BLJyeY6SacCS4HPZhyDmZkVyDTxR8RjwLBmZo3Ocr9m1oW0d3TbpjrIaLf19fWMHTuWJ598suh1Cgd9aw+P1WNmHVt7R7dtqg2j3Tb2e+/WrWsNctC1jsbMrJ3q6+vZY489OP300xkyZAg//OEPGT58OPvssw8XXHABAK+//jpjxoxh8ODB7LXXXsyYMQOAefPmccABBzB48GD2228/1qxZQ319PQceeCBDhgxhyJAhPPDAAxvtc8OGDZxzzjnv7efyyy8HkhPPGWecwZ577smYMWNYsaLZvjBt5hq/mVkTixcvZurUqYwfP56ZM2fyyCOPEBGMGzeO++67j5UrV7Lzzju/Ny5PQ0MDb7/9Np/73OeYMWMGw4cP57XXXqOqqooddtiBuXPn0rNnT5YsWcLxxx+/0dDNv/rVr+jTpw/z5s3jrbfeYsSIERx66KEsWLCAxYsXs3DhQl5++WX23HNPTjnllHYfnxO/mVkTjUMwn3322dxxxx3su+++AKxdu5YlS5Zw4IEHcvbZZ3PeeecxduxYDjzwQBYuXMhOO+3E8OHDAejduzeQ/Do444wzeOyxx+jevTvPPPPMRvu74447eOKJJ5g5cyaQnEiWLFnCfffdx/HHH0/37t3ZeeedSzaWjxN/Z9BnYPufwtVBLmhlqdSDebW2Hz/isWtrHII5Ipg0aRJf+cpXNlpm/vz5zJkzh0mTJnHooYcyfvx4JG203CWXXMKOO+7I448/zrvvvkvPnj03WiYiuPTSSznssMPeVz5nzpxmt9leTvydQSkSdid/fGMxypWM/YjH/DjssMM4//zz+cIXvkCvXr1Yvnw5PXr0YP369Wy33XaceOKJ9OrVi2nTpjFx4kRefPFF5s2bx/Dhw1mzZg1VVVU0NDQwYMAAunXrxvTp09mwYUOz+7nssss4+OCD6dGjB8888wz9+/dn5MiRXH755Zx00kmsWLGCe+65hxNOOKHdx+XEb2YdWyl+8TbdXpEOPfRQFi1axMc//nEAevXqxdVXX82zzz7LOeecQ7du3ejRoweXXXYZW265JTNmzODMM8987/m5d955J6effjqf+cxnuP766xk1alSzD3Q57bTTqK+vZ8iQIUQE1dXV3HTTTRx99NHcfffd7L333nz4wx/mk5/8ZEm+AkUbnh5TKcOGDYvWnmPZ4U3uU9ruaJ0shpqJt5XlYevl0tWOp6NZtGgRe+yxR6XD6HSa+94kzY+Ije6lcndOM7OcceI3M8sZJ34z63A6QxN0R9LW78uJ38w6lJ49e7Jq1Son/yJFBKtWrWq2m2hL3KvHzDqUAQMGsGzZMvwApuL17NmTAQMGFL28E7+ZdSg9evRg1113rXQYXZqbeszMcsaJ38wsZ5z4zcxyxonfzCxnnPjNzHLGid/MLGec+M3McsaJ38wsZ5z4zcxyxonfzCxnMh2yQVI9sAbYAKyPiGGStgNmADVAPXBcRLyaZRztdsne0LB089dvwxN/ym3ElLtZvnpdpvvo37cq0+2bWduUY6yeURHxSsH0ROCuiJgiaWI6fV4Z4th8DUsr/wStjCxfvc5PkzLLmUo09RwFTE8/TwfGVyAGM7PcyjrxB3CHpPmSJqRlO0bESwDp+w7NrShpgqQ6SXUentXMrHSybuoZEREvStoBmCvpr8WuGBFXAFdA8rD1rAI0M8ubTGv8EfFi+r4CuBHYD3hZ0k4A6fuKLGMwM7P3yyzxS9pa0jaNn4FDgSeBW4DadLFa4OasYjAzs41l2dSzI3CjpMb9XBsRt0uaB1wn6VRgKfDZDGMwM7MmMkv8EfEcMLiZ8lXA6Kz2a2ZmrfOdu2ZmOePEb2aWM078ZmY548RvZpYzTvxmZjnjxG9mljNO/GZmOePEb2aWM5tM/JJGFFNmZmadQzE1/kuLLDMzs06gxSEbJH0cOAColvStglm9ge5ZB2ZmZtlobayeLYFe6TLbFJS/BhybZVBmZpadFhN/RPwJ+JOkaRHxfBljMjOzDBUzOudWkq4AagqXj4iDswrKzMyyU0zivx74JXAVsCHbcMzMLGvFJP71EXFZ5pGYmVlZFNOdc7ak0yXtJGm7xlfmkZmZWSaKqfE3Ph/3nIKyAD5Y+nDMzCxrm0z8EbFrOQIxM7Py2GTil3RSc+UR8ZvSh2NmZlkrpqlneMHnniQPSn8UcOI3M+uEimnqObNwWlIf4LeZRWRmZpnanGGZ3wB2K3UgZmZWHsW08c8m6cUDyeBsewDXZRmUmZllp5g2/osKPq8Hno+IZcXuQFJ3oA5YHhFj03sAZpAMAVEPHBcRrxYdsZmZtcsmm3rSwdr+SjJC57bA223cxzeARQXTE4G7ImI34K502szMyqSYJ3AdBzwCfBY4DnhYUlHDMksaAIwhGeen0VHA9PTzdGB8G+I1M7N2Kqap57vA8IhYASCpGrgTmFnEuj8FzuX94/nvGBEvAUTES5J2aG5FSROACQADBw4sYldmZlaMYnr1dGtM+qlVxawnaSywIiLmb05gEXFFRAyLiGHV1dWbswkzM2tGMTX+2yX9EfhdOv054A9FrDcCGCfpSJIbv3pLuhp4WdJOaW1/J2BFq1sxM7OSKubi7jnA5cA+wGDgiog4t4j1JkXEgIioAT4P3B0RJwK38K+B32qBmzczdjMz2wytPWz9QyTt8fdHxCxgVlo+UtK/R8TfNnOfU4DrJJ0KLCW5aGxmZmXSWo3/p8CaZsrfSOcVLSLujYix6edVETE6InZL3//Zlm2ZmVn7tJb4ayLiiaaFEVFHcvOVmZl1Qq0l/p6tzKsqdSBmZlYerSX+eZK+3LQwbZvfrC6aZmZWea115zwLuFHSF/hXoh8GbAkcnXFcZmaWkRYTf0S8DBwgaRSwV1p8W0TcXZbIzMwsE8U8iOUe4J4yxGJmZmWwOQ9iMTOzTsyJ38wsZ4oZqwcASb0Ll/eNV2ZmnVMxj178CnAhsI5/PYIxgA9mGJeZmWWkmBr/2cBHI+KVrIMxM7PsFdPG/zeS8XnMzKwLKKbGPwl4QNLDwFuNhRHx9cyiMjOzzBST+C8H7gYWAu9mG46ZmWWtmMS/PiK+lXkkZmZWFsW08d8jaYKknSRt1/jKPDIzM8tEMTX+E9L3SQVl7s5pZtZJFTNWz67lCMTMzMqjqDt3Je0F7EnBw1ki4jdZBWVmZtkp5s7dC4CDSBL/HOAI4C+AE7+ZWSdUzMXdY4HRwD8i4kvAYGCrTKMyM7PMFJP410XEu8D6dKC2FfjCrplZp1VMG3+dpL7AlSSPYFwLPJJlUGZmlp1WE78kAT+KiNXALyXdDvSOiCfKEZyZmZVeq009ERHATQXT9cUmfUk9JT0i6XFJT0n6QVq+naS5kpak79u25wDMzKxtimnjf0jS8M3Y9lvAwRExGPgYcLik/YGJwF0RsRtwVzptZmZlUkziHwU8KOlvkp6QtFDSJmv9kVibTvZIXwEcBUxPy6cD49setpmZba5iLu4esbkbl9Sd5ILwh4CfR8TDknaMiJcAIuIlSTu0sO4EYALAwIEDNzcEMzNropga/5pmXi8Ws/GI2BARHwMGAPuldwAXJSKuiIhhETGsurq62NXMzGwTikn8jwIrgWeAJennv0t6VNLQYnaS9gq6FzgceFnSTgDp+4q2h21mZpurmMR/O3BkRPSLiO1Jmn6uA04HftHSSpKq0/7/SKoCDgH+CtwC1KaL1QI3b3b0ZmbWZsUk/mER8cfGiYi4AxgZEQ/R+tANO5GM5f8EMA+YGxG3AlOAT0laAnwqnTYzszIp5uLuPyWdB/w+nf4c8Gp64bbFRzGm/f33baZ8FcnYP2ZmVgHF1PhPILk4exNJs8zAtKw7cFxmkZmZWSaKeRDLK8CZ6QBt7xb0zQd4NrPIzMwsE5us8UvaW9ICYCHwlKT5bemWaWZmHUsxTT2XA9+KiEERMQj4NnBFtmGZmVlWikn8W0fEPY0TEXEvsHVmEZmZWaaK6dXznKTzgd+m0ycCf88uJDMzy1IxNf5TgGpgVvrqB5ycYUxmZpahYmr8h0TE1wsLJH0WuD6bkErskr2hYWn7ttGn/IPEjZhyN8tXryvZ9up7Qs3E2zYq79+3qmT7MLPOoZjEP4mNk3xzZR1Tw1KY3FDpKNps+ep11E8ZU7oNTqa02zOzTqvFxC/pCOBIoL+k/y2Y1RtYn3VgZmaWjdZq/C8CdcA4kjH1G60BvpllUGZmlp0WE39EPA48LunaiHgHIH0+7i4R8Wq5ArQS6TMQJvdp3/rfXFi6eDqx/n2rmr1eksV+7p94cOb7sfwppo1/rqRx6bKPASsl/SkivpVpZFZa7U3a7TlpdDHlSsblOLlYPhXTnbNPRLwGHANMjYihJGPrm5lZJ1RM4t8ifVLWccCtGcdjZmYZKybxXwj8EXg2IuZJ+iDJIxjNzKwTKmZY5usp6LMfEc8Bn8kyKDMzy05r/fjPjYifSLoUiKbzm97Na2ZmnUNrNf5F6XtdOQIxM7PyaK0f/+z0fXr5wjEzs6y11tQzm2aaeBpFxLhMIjIzs0y11tRzUfou4ErgtOzDMTOzrLXW1POnxs+S1hZOm5lZ51VMP35opcnHzMw6lxYTv6TtGl9Ad0nbNilrlaRdJN0jaZGkpyR9o2C7cyUtSd+3LeHxmJnZJrTWxj+fpKavdPrRgnkBfHAT214PfDsiHpW0DTBf0lySxzbeFRFTJE0EJgLnbU7wZmbWdq218e/ang1HxEvAS+nnNZIWAf2Bo4CD0sWmA/fixG9mVjbFtvG3i6QaYF/gYWDH9KTQeHLYoYV1Jkiqk1S3cuXKcoRpZpYLmSd+Sb2AG4Cz0uGdixIRV0TEsIgYVl1dnV2AZmY5k2nil9SDJOlfExGz0uKX02GeSd9XZBmDmZm9X2aJX5KAXwGLIuLiglm3ALXp51rg5qxiMDOzjRXz6MXNNQL4IrBQ0mNp2XeAKcB1kk4FlgKfzTAGMzNrIrPEHxF/4V9dQZsandV+zcysdWXp1WNmZh1Hlk091pX0GQiT+7Rv/W8uLF08OdC/bxU1E28ry37un3hw5vuxjsOJ34rT3qTdnpNGTpUrGZfj5GIdi5t6zMxyxonfzCxnnPjNzHLGid/MLGec+M3McsaJ38wsZ5z4zcxyxonfzCxnnPjNzHLGid/MLGec+M3McsaJ38wsZ5z4zcxyxonfzCxnnPjNzHLGid/MLGec+M3McsaJ38wsZ5z4zcxyxonfzCxnnPjNzHIms8Qv6deSVkh6sqBsO0lzJS1J37fNav9mZta8LGv804DDm5RNBO6KiN2Au9JpMzMro8wSf0TcB/yzSfFRwPT083RgfFb7NzOz5pW7jX/HiHgJIH3foaUFJU2QVCepbuXKlWUL0Mysq+uwF3cj4oqIGBYRw6qrqysdjplZl1HuxP+ypJ0A0vcVZd6/mVnulTvx3wLUpp9rgZvLvH8zs9zLsjvn74AHgY9IWibpVGAK8ClJS4BPpdNmZlZGW2S14Yg4voVZo7Pap5mZbVqHvbhrZmbZcOI3M8sZJ34zs5xx4jczyxknfjOznHHiNzPLGSd+M7Ocyawfv9n79BkIk/u0fxvfXFiaeOw9/ftWUTPxtrLs5/6JB2e+H9s0J34rj1Ik7PaeOKxZ5UrG5Ti5WHHc1GNmljNO/GZmOePEb2aWM078ZmY548RvZpYzTvxmZjnjxG9mljNO/GZmOeMbuKzzaO/dv77zt6J8h3DH4cRvnUd7k7bv/K0o3yHccbipx8wsZ5z4zcxyxonfzCxnnPjNzHLGid/MLGcq0qtH0uHAz4DuwFURMaUScZi12SV7Q8PSzV/fXUq7jBFT7mb56nWZ7yeL7qllT/ySugM/Bz4FLAPmSbolIp4udyxmbdawFCY3bP767lLaZSxfvY76KWMy308W3VMr0dSzH/BsRDwXEW8DvweOqkAcZma5pIgo7w6lY4HDI+K0dPqLwH9ExBlNlpsATEgnPwIsTj/3A14pU7iVlIfjzMMxQj6OMw/HCJ3vOAdFRHXTwkq08auZso3OPhFxBXDFRitLdRExLIvAOpI8HGcejhHycZx5OEboOsdZiaaeZcAuBdMDgBcrEIeZWS5VIvHPA3aTtKukLYHPA7dUIA4zs1wqe1NPRKyXdAbwR5LunL+OiKfasImNmn+6qDwcZx6OEfJxnHk4Rugix1n2i7tmZlZZvnPXzCxnnPjNzHKmUyZ+Sf8j6a+SnpB0o6S+lY6pVCQdLmmxpGclTax0PFmQtIukeyQtkvSUpG9UOqasSOouaYGkWysdS1Yk9ZU0M/0/uUjSxysdU6lJ+mb6b/VJSb+T1LPSMbVHp0z8wFxgr4jYB3gGmFTheEqiYDiLI4A9geMl7VnZqDKxHvh2ROwB7A/8Zxc9ToBvAIsqHUTGfgbcHhG7A4PpYscrqT/wdWBYROxF0inl85WNqn06ZeKPiDsiYn06+RDJvQBdQS6Gs4iIlyLi0fTzGpJE0b+yUZWepAHAGOCqSseSFUm9gZHArwAi4u2IWF3RoLKxBVAlaQvgA3Tye486ZeJv4hTgD5UOokT6Ay8UTC+jCybEQpJqgH2BhyscShZ+CpwLvFvhOLL0QWAlMDVt0rpK0taVDqqUImI5cBGwFHgJaIiIOyobVft02MQv6c60Pa3p66iCZb5L0mxwTeUiLamihrPoKiT1Am4AzoqI1yodTylJGgusiIj5lY4lY1sAQ4DLImJf4HWgS12bkrQtyS/vXYGdga0lnVjZqNqnIuPxFyMiDmltvqRaYCwwOrrOzQi5Gc5CUg+SpH9NRMyqdDwZGAGMk3Qk0BPoLenqiOjUCaMZy4BlEdH4i20mXSzxA4cAf4+IlQCSZgEHAFdXNKp26LA1/takD3I5DxgXEW9UOp4SysVwFpJE0ia8KCIurnQ8WYiISRExICJqSP6Od3fBpE9E/AN4QdJH0qLRQFd7tsZSYH9JH0j/7Y6mk1/A7rA1/k34P2ArYG7yd+ChiPhqZUNqvxIMZ9FZjAC+CCyU9Fha9p2ImFO5kKwdzgSuSSsrzwFfqnA8JRURD0uaCTxK0rS8gE4+dIOHbDAzy5lO2dRjZmabz4nfzCxnnPjNzHLGid/MLGec+M3McsaJ38wsZ5z4zcxy5v8BXObJbYEKvLsAAAAASUVORK5CYII=\n",
>>>>>>> 3217e13b7c2c03ffbe0bf6afae64c83bd0145e3c
      "text/plain": [
       "<Figure size 432x288 with 1 Axes>"
      ]
     },
     "metadata": {
      "needs_background": "light"
     },
     "output_type": "display_data"
    }
   ],
   "source": [
    "fig,ax = plt.subplots()\n",
    "ax.hist(sample_trial, histtype = 'step', label = 'original' )\n",
    "ax.hist(rescaled_sample, histtype = 'step', label = 'rescaled')\n",
    "plt.ylabel(' Histogram Count')\n",
    "plt.title('Poisson: N = 250 Sample')\n",
    "plt.legend()\n",
    "plt.show()"
   ]
  },
  {
   "cell_type": "code",
<<<<<<< HEAD
   "execution_count": 8,
=======
   "execution_count": 85,
>>>>>>> 3217e13b7c2c03ffbe0bf6afae64c83bd0145e3c
   "metadata": {
    "cell_style": "center",
    "slideshow": {
     "slide_type": "subslide"
    }
   },
   "outputs": [
    {
     "data": {
      "text/plain": [
<<<<<<< HEAD
       "-0.09360341874098402"
      ]
     },
     "execution_count": 8,
=======
       "-0.053126264690828776"
      ]
     },
     "execution_count": 85,
>>>>>>> 3217e13b7c2c03ffbe0bf6afae64c83bd0145e3c
     "metadata": {},
     "output_type": "execute_result"
    }
   ],
   "source": [
    "rescaled_sample.mean()"
   ]
  },
  {
   "cell_type": "code",
<<<<<<< HEAD
   "execution_count": 9,
=======
   "execution_count": 86,
>>>>>>> 3217e13b7c2c03ffbe0bf6afae64c83bd0145e3c
   "metadata": {
    "slideshow": {
     "slide_type": "subslide"
    }
   },
   "outputs": [
    {
     "data": {
      "text/plain": [
<<<<<<< HEAD
       "0.9165360876692199"
      ]
     },
     "execution_count": 9,
=======
       "1.020381105273907"
      ]
     },
     "execution_count": 86,
>>>>>>> 3217e13b7c2c03ffbe0bf6afae64c83bd0145e3c
     "metadata": {},
     "output_type": "execute_result"
    }
   ],
   "source": [
    "rescaled_sample.std()"
   ]
  },
  {
   "cell_type": "markdown",
   "metadata": {
    "slideshow": {
     "slide_type": "slide"
    }
   },
   "source": [
    "Now, get sum of rescaled sample divided by square root of number of samples:\n",
    "\n",
    "$$ S_N = \\frac{Y_1 + Y_2 + ... Y_n}{\\sqrt{N}} $$"
   ]
  },
  {
   "cell_type": "markdown",
   "metadata": {
    "slideshow": {
     "slide_type": "slide"
    }
   },
   "source": [
    "But let's do this for many trials of N-samples to build up statistics on $S_N$."
   ]
  },
  {
   "cell_type": "code",
<<<<<<< HEAD
   "execution_count": 10,
=======
   "execution_count": 87,
>>>>>>> 3217e13b7c2c03ffbe0bf6afae64c83bd0145e3c
   "metadata": {
    "slideshow": {
     "slide_type": "fragment"
    }
   },
   "outputs": [],
   "source": [
    "# standard deviation\n",
    "std_count_min = np.sqrt(var_count_min)\n",
    "# repeat sampling and for each sample subtract by population mean and divide by standard deviation.\n",
    "many_rescaled_sample_trials = [(poisson.rvs(mu = average_count_min, size = 250) - average_count_min)/ std_count_min\n",
    "                      for trial in range(10000)]\n"
   ]
  },
  {
   "cell_type": "markdown",
   "metadata": {
    "slideshow": {
     "slide_type": "slide"
    }
   },
   "source": [
    "Compute the sum of each sample and divide by square root of the number in each sample.\n",
    "\n",
    "- Gets a list of possible $S_N$\n"
   ]
  },
  {
   "cell_type": "code",
<<<<<<< HEAD
   "execution_count": 11,
=======
   "execution_count": 89,
>>>>>>> 3217e13b7c2c03ffbe0bf6afae64c83bd0145e3c
   "metadata": {
    "slideshow": {
     "slide_type": "fragment"
    }
   },
   "outputs": [
    {
     "data": {
      "text/plain": [
       "array([-1.52, -2.28, -0.84, ..., -1.24,  1.88, -0.04])"
      ]
     },
     "execution_count": 89,
     "metadata": {},
     "output_type": "execute_result"
    }
   ],
   "source": [
    "# compute the sum of each sample and divide by square root of the number in each sample\n",
    "Sn_array = np.array([np.sum(sample)/np.sqrt(len(sample)) for sample in many_rescaled_sample_trials])\n",
    "Sn_array"
   ]
  },
  {
   "cell_type": "markdown",
   "metadata": {
    "slideshow": {
     "slide_type": "slide"
    }
   },
   "source": [
    "Central limit theorem tells me $S_n$ normally distributed:\n",
    "- Mean 0 \n",
    "- Standard deviation 1\n",
    "\n",
    "Is this true for our data?"
   ]
  },
  {
   "cell_type": "code",
<<<<<<< HEAD
   "execution_count": 12,
=======
   "execution_count": 90,
>>>>>>> 3217e13b7c2c03ffbe0bf6afae64c83bd0145e3c
   "metadata": {
    "cell_style": "split",
    "scrolled": false,
    "slideshow": {
     "slide_type": "slide"
    }
   },
   "outputs": [
    {
     "data": {
<<<<<<< HEAD
      "image/png": "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\n",
=======
      "image/png": "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\n",
>>>>>>> 3217e13b7c2c03ffbe0bf6afae64c83bd0145e3c
      "text/plain": [
       "<Figure size 432x288 with 1 Axes>"
      ]
     },
     "metadata": {
      "needs_background": "light"
     },
     "output_type": "display_data"
    }
   ],
   "source": [
    "plt.hist(Sn_array, bins = 20)\n",
    "plt.xlabel('$S_N$')\n",
    "plt.ylabel('Count')\n",
    "plt.title('Distribution of $S_N$')\n",
    "plt.show()"
   ]
  },
  {
   "cell_type": "code",
<<<<<<< HEAD
   "execution_count": 13,
=======
   "execution_count": 91,
>>>>>>> 3217e13b7c2c03ffbe0bf6afae64c83bd0145e3c
   "metadata": {
    "cell_style": "split",
    "slideshow": {
     "slide_type": "fragment"
    }
   },
   "outputs": [
    {
     "data": {
      "text/plain": [
<<<<<<< HEAD
       "0.012963999999999956"
      ]
     },
     "execution_count": 13,
=======
       "-0.0013600000000000428"
      ]
     },
     "execution_count": 91,
>>>>>>> 3217e13b7c2c03ffbe0bf6afae64c83bd0145e3c
     "metadata": {},
     "output_type": "execute_result"
    }
   ],
   "source": [
    "Sn_array.mean()"
   ]
  },
  {
   "cell_type": "code",
<<<<<<< HEAD
   "execution_count": 14,
=======
   "execution_count": 92,
>>>>>>> 3217e13b7c2c03ffbe0bf6afae64c83bd0145e3c
   "metadata": {
    "cell_style": "split",
    "slideshow": {
     "slide_type": "fragment"
    }
   },
   "outputs": [
    {
     "data": {
      "text/plain": [
<<<<<<< HEAD
       "0.9967748465445945"
      ]
     },
     "execution_count": 14,
=======
       "0.9954643089533647"
      ]
     },
     "execution_count": 92,
>>>>>>> 3217e13b7c2c03ffbe0bf6afae64c83bd0145e3c
     "metadata": {},
     "output_type": "execute_result"
    }
   ],
   "source": [
    "Sn_array.std()"
   ]
  },
  {
   "cell_type": "markdown",
   "metadata": {
    "cell_style": "split",
    "slideshow": {
     "slide_type": "fragment"
    }
   },
   "source": [
    "We have just seen that:\n",
    "\n",
    "Provided N large enough\n",
    "\n",
    "$$ S_N = \\frac{Y_1 + Y_2 + ... Y_n}{\\sqrt{N}} $$\n",
    "\n",
    "is distributed normal with mean 0, std 1."
   ]
  },
  {
   "cell_type": "markdown",
   "metadata": {
    "cell_style": "split",
    "slideshow": {
     "slide_type": "slide"
    }
   },
   "source": [
    "But a very important situation that's often encountered:\n",
    "\n",
    "- I have $N$ samples of a measurement: the counts per min.\n",
    "\n",
    "- Calculate sample mean (average of $X_i$ in sample)\n",
    "\n",
    "$$ \\bar{X} = \\frac{X_1 + X_2 + ... + X_N}{N}$$\n"
   ]
  },
  {
   "cell_type": "markdown",
   "metadata": {
    "cell_style": "split",
    "slideshow": {
     "slide_type": "fragment"
    }
   },
   "source": [
    "Remember that is $\\bar{X}$ is a random variable:\n",
    "\n",
    "- repeating another N-sample measurement, might yield a different sample mean $\\bar{X}$."
   ]
  },
  {
   "cell_type": "markdown",
   "metadata": {
    "cell_style": "split",
    "slideshow": {
     "slide_type": "slide"
    }
   },
   "source": [
    "How is $\\bar{X}$ distributed?\n",
    "- Answering this question will be important in:\n",
    "     - estimating an unknown population mean based off of a sample mean $\\bar{X}$\n",
    "     - quantifying uncertainty in that population mean.\n",
    "     - hypothesis testing on sample means."
   ]
  },
  {
   "cell_type": "markdown",
   "metadata": {
    "slideshow": {
     "slide_type": "slide"
    }
   },
   "source": [
    "They key is in relating $\\bar{X}$ to $S_N$ from the central limit theorem."
   ]
  },
  {
   "cell_type": "markdown",
   "metadata": {
    "cell_style": "split",
    "slideshow": {
     "slide_type": "fragment"
    }
   },
   "source": [
    "$$ \\bar{X} = \\frac{X_1 + X_2 + ... + X_N}{N}$$"
   ]
  },
  {
   "cell_type": "markdown",
   "metadata": {
    "cell_style": "split",
    "slideshow": {
     "slide_type": "-"
    }
   },
   "source": [
    "$$ S_N = \\frac{Y_1 + Y_2 + ... Y_n}{\\sqrt{N}} $$"
   ]
  },
  {
   "cell_type": "markdown",
   "metadata": {
    "cell_style": "center",
    "slideshow": {
     "slide_type": "slide"
    }
   },
   "source": [
    "$$ S_N = \\frac{Y_1 + Y_2 + ... Y_n}{\\sqrt{N}} $$\n",
    "<br><br>\n",
    "$$ S_N = \\frac{(X_1 - \\mu) + (X_2 - \\mu) + ... (X_N - \\mu)}{\\sigma\\sqrt{N}} $$\n"
   ]
  },
  {
   "cell_type": "markdown",
   "metadata": {
    "cell_style": "split",
    "slideshow": {
     "slide_type": "subslide"
    }
   },
   "source": [
    "$$ S_N = \\frac{(X_1  + X_2  + ... + X_N) - N \\mu }{\\sigma\\sqrt{N}} $$\n",
    "\n",
    "but since:\n",
    "\n",
    "$$ \\bar{X} = \\frac{X_1 + X_2 + ... + X_N}{N}$$"
   ]
  },
  {
   "cell_type": "markdown",
   "metadata": {
    "cell_style": "split",
    "slideshow": {
     "slide_type": "fragment"
    }
   },
   "source": [
    "\n",
    "$$ S_N = \\frac{N \\bar{X} - N \\mu }{\\sigma\\sqrt{N}} $$\n",
    "$$ S_N = \\frac{ \\bar{X} - \\mu }{\\frac{\\sigma}{\\sqrt{N}}} $$"
   ]
  },
  {
   "cell_type": "markdown",
   "metadata": {
    "cell_style": "split",
    "slideshow": {
     "slide_type": "slide"
    }
   },
   "source": [
    "By CLT:\n",
    "\n",
    "$$ S_N = \\frac{ \\bar{X} - \\mu }{\\frac{\\sigma}{\\sqrt{N}}} $$ is normally distributed with mean 0 and std 1."
   ]
  },
  {
   "cell_type": "markdown",
   "metadata": {
    "cell_style": "split",
    "slideshow": {
     "slide_type": "fragment"
    }
   },
   "source": [
    "Doing the reverse scale transformation implies:\n",
    "    \n",
    "- $ \\bar{X} $ is normally distributed:\n",
    "    <center>mean of sample $\\bar{X}$ is population mean </center> $$ \\mu $$\n",
    "    <center> standard deviation is of $\\bar{X}$ is: </center>\n",
    "    $$ \\frac{\\sigma}{\\sqrt{N}} $$"
   ]
  },
  {
   "cell_type": "markdown",
   "metadata": {
    "cell_style": "split",
    "slideshow": {
     "slide_type": "slide"
    }
   },
   "source": [
    "- $ \\bar{X} $ is normally distributed:\n",
    "    <center>mean of sample $\\bar{X}$ is population mean </center> $$ \\mu $$\n",
    "    <center> standard deviation is of $\\bar{X}$ is: </center>\n",
    "    $$ \\frac{\\sigma}{\\sqrt{N}} $$\n",
    "    \n",
    "Remember: $\\sigma$ was **population** standard deviation."
   ]
  },
  {
   "cell_type": "markdown",
   "metadata": {
    "cell_style": "split",
    "slideshow": {
     "slide_type": "slide"
    }
   },
   "source": [
    "**Question** as N goes large\n",
    "\n",
    "- Repeat many samples of size $N$. Get $\\bar{X}$ for each.\n",
    "- What happens to my spread on $\\bar{X}$ as $N$ goes large?"
   ]
  },
  {
   "cell_type": "markdown",
   "metadata": {
    "cell_style": "split"
   },
   "source": [
    "\n",
    "<center> mean of sample $\\bar{X}$ is population mean </center> $$ \\mu $$\n",
    "    <center> standard deviation is of $\\bar{X}$ is: </center>\n",
    "    $$ \\frac{\\sigma}{\\sqrt{N}} $$\n",
    "    "
   ]
  },
  {
   "cell_type": "markdown",
   "metadata": {
    "slideshow": {
     "slide_type": "slide"
    }
   },
   "source": [
    "Let's see this in action:\n",
    "\n",
    "- Counting calls / min at toll center.\n",
    "- Take samples of different sizes.\n",
    "\n",
    "Get distribution of $\\bar{X}$ for different sampling sizes:"
   ]
  },
  {
   "cell_type": "code",
<<<<<<< HEAD
   "execution_count": 15,
=======
   "execution_count": 93,
>>>>>>> 3217e13b7c2c03ffbe0bf6afae64c83bd0145e3c
   "metadata": {
    "slideshow": {
     "slide_type": "fragment"
    }
   },
   "outputs": [],
   "source": [
    "N_list = [50, 250, 1000]"
   ]
  },
  {
   "cell_type": "markdown",
   "metadata": {
    "slideshow": {
     "slide_type": "slide"
    }
   },
   "source": [
    "Repeat trials for each sample size 10,000 times to build statistics on $\\bar{X}$."
   ]
  },
  {
   "cell_type": "code",
<<<<<<< HEAD
   "execution_count": 16,
=======
   "execution_count": 94,
>>>>>>> 3217e13b7c2c03ffbe0bf6afae64c83bd0145e3c
   "metadata": {
    "slideshow": {
     "slide_type": "fragment"
    }
   },
   "outputs": [],
   "source": [
    "# construct 10000 trials of N samples.\n",
    "def poisson_trials_Nsamples(avg_count, N_list, num_trials):\n",
    "    \n",
    "    for N in N_list:\n",
    "        \n",
    "        Nsample_trial_list =  [poisson.rvs(mu = average_count_min, size = N).mean() for trials in range(num_trials)]\n",
    "        \n",
    "        \n",
    "        plt.hist(Nsample_trial_list, density = True, histtype = 'step',  label = \"N = \" + str(N))\n",
    "    \n",
    "    plt.axvline(avg_count, c = 'b', linewidth =2, linestyle = '--')\n",
    "    plt.legend()\n",
    "    plt.show()\n",
    "        \n"
   ]
  },
  {
   "cell_type": "markdown",
   "metadata": {
    "slideshow": {
     "slide_type": "slide"
    }
   },
   "source": [
    "- True average call rate: 2.5 calls per minute on average.\n",
    "- Taking samples of various size: "
   ]
  },
  {
   "cell_type": "code",
<<<<<<< HEAD
   "execution_count": 17,
=======
   "execution_count": 95,
>>>>>>> 3217e13b7c2c03ffbe0bf6afae64c83bd0145e3c
   "metadata": {
    "cell_style": "split",
    "scrolled": false,
    "slideshow": {
     "slide_type": "fragment"
    }
   },
   "outputs": [
    {
     "data": {
<<<<<<< HEAD
      "image/png": "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\n",
=======
      "image/png": "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\n",
>>>>>>> 3217e13b7c2c03ffbe0bf6afae64c83bd0145e3c
      "text/plain": [
       "<Figure size 432x288 with 1 Axes>"
      ]
     },
     "metadata": {
      "needs_background": "light"
     },
     "output_type": "display_data"
    }
   ],
   "source": [
    "poisson_trials_Nsamples(2.5, N_list, 1000)"
   ]
  },
  {
   "cell_type": "markdown",
   "metadata": {
    "cell_style": "split",
    "slideshow": {
     "slide_type": "fragment"
    }
   },
   "source": [
    "Distribution of sample means gets sharper and sharper around the true population mean!!!\n",
    "\n",
    "- For sample size $N$: \n",
    "    - can now quantify our uncertainty of $\\bar{X}$\n",
    "    - given population mean $\\mu$"
   ]
  },
  {
   "cell_type": "markdown",
   "metadata": {
    "cell_style": "center",
    "slideshow": {
     "slide_type": "subslide"
    }
   },
   "source": [
    "Lends some credence to the idea that:\n",
    "- measuring a sample of $X_i$ with a size N as large as possible\n",
    "- taking its average $\\bar{X}$ will help yield an estimate of $\\mu$ and its spread."
   ]
  },
  {
   "cell_type": "markdown",
   "metadata": {
    "cell_style": "center",
    "slideshow": {
     "slide_type": "slide"
    }
   },
   "source": [
    "**Usually in statistics and measurement/metrology:**\n",
    "\n",
    "- No idea what the population mean $\\mu$ is.\n",
    "- Using sampling to *infer* the unknown population mean $\\mu$.\n",
    "- Want to also know uncertainities in this estimate."
   ]
  },
  {
   "cell_type": "markdown",
   "metadata": {
    "cell_style": "split",
    "slideshow": {
     "slide_type": "subslide"
    }
   },
   "source": [
    "Given a single sample of $N$ measurements:\n",
    "- Get a value of $\\bar{X} = \\bar{X}_0 $.\n",
    "- Given $\\bar{X} = \\bar{X}_0 $:\n",
    "    - $\\bar{X}_0$ is our estimate of $\\mu$.\n",
    "    - Estimating uncertainty in $\\bar{X}$:\n",
    "    - Equivalent to getting uncertainty range of unknown population mean $\\mu$.\n"
   ]
  },
  {
   "cell_type": "markdown",
   "metadata": {
    "cell_style": "split",
    "slideshow": {
     "slide_type": "fragment"
    }
   },
   "source": [
    "<div align = \"center\">\n",
    "<img src=\"Images/sampleinterval.png\" align = \"center\" width=\"800\"/>\n",
    "</div>"
   ]
  },
  {
   "cell_type": "markdown",
   "metadata": {
    "slideshow": {
     "slide_type": "slide"
    }
   },
   "source": [
    "The uncertainty range is often cited in terms of a **confidence interval**."
   ]
  },
  {
   "cell_type": "markdown",
   "metadata": {
    "cell_style": "split",
    "slideshow": {
     "slide_type": "slide"
    }
   },
   "source": [
    "#### The confidence interval is defined with respect to a probability\n",
    "- Confidence interval at 0.95 implies:\n",
    "    - Given sample mean $\\bar{X_0}$.\n",
    "    -  What is region of $\\bar{X}$ assuming $\\bar{X_0}$ is population mean accounting for 95\\% of probability?\n",
    "    - Same as range accounting for 95% of unknown population means."
   ]
  },
  {
   "cell_type": "markdown",
   "metadata": {
    "cell_style": "split",
    "slideshow": {
     "slide_type": "-"
    }
   },
   "source": [
    "<div align = \"center\">\n",
    "<img src=\"Images/confidenceinterval1.png\" align = \"center\" width=\"800\"/>\n",
    "</div>"
   ]
  },
  {
   "cell_type": "markdown",
   "metadata": {
    "slideshow": {
     "slide_type": "slide"
    }
   },
   "source": [
    "Let's do this for a specific example."
   ]
  },
  {
   "cell_type": "code",
<<<<<<< HEAD
   "execution_count": 28,
=======
   "execution_count": 32,
>>>>>>> 3217e13b7c2c03ffbe0bf6afae64c83bd0145e3c
   "metadata": {
    "slideshow": {
     "slide_type": "skip"
    }
   },
   "outputs": [],
   "source": [
    "N = 100\n",
    "one_sample = poisson.rvs(mu = 2.5, size = N)"
   ]
  },
  {
   "cell_type": "markdown",
   "metadata": {
    "slideshow": {
     "slide_type": "slide"
    }
   },
   "source": [
    "##### N = 100 sample of call center counts/min."
   ]
  },
  {
   "cell_type": "code",
<<<<<<< HEAD
   "execution_count": 19,
=======
   "execution_count": 96,
>>>>>>> 3217e13b7c2c03ffbe0bf6afae64c83bd0145e3c
   "metadata": {
    "slideshow": {
     "slide_type": "subslide"
    }
   },
   "outputs": [
    {
     "data": {
      "text/plain": [
<<<<<<< HEAD
       "array([4, 2, 3, 2, 1, 3, 5, 4, 2, 1, 2, 2, 5, 4, 2, 2, 0, 0, 1, 1, 5, 2,\n",
       "       0, 4, 0, 1, 0, 2, 1, 6, 2, 1, 5, 2, 0, 2, 1, 2, 4, 2, 2, 2, 3, 3,\n",
       "       3, 4, 1, 1, 4, 3, 5, 4, 1, 0, 3, 3, 3, 2, 2, 5, 2, 1, 3, 3, 3, 8,\n",
       "       2, 1, 3, 2, 7, 3, 6, 2, 1, 2, 2, 1, 3, 3, 1, 4, 2, 5, 2, 4, 2, 2,\n",
       "       2, 3, 3, 3, 3, 2, 5, 2, 2, 0, 2, 2])"
      ]
     },
     "execution_count": 19,
=======
       "array([2, 2, 3, 5, 4, 2, 2, 4, 2, 1, 2, 3, 5, 2, 3, 2, 1, 2, 0, 2, 3, 0,\n",
       "       2, 1, 3, 4, 4, 3, 0, 4, 4, 2, 3, 0, 3, 0, 2, 4, 4, 2, 4, 2, 3, 3,\n",
       "       2, 3, 1, 3, 3, 5, 0, 2, 4, 6, 5, 2, 4, 2, 3, 3, 3, 1, 1, 3, 2, 3,\n",
       "       2, 6, 4, 2, 0, 6, 0, 2, 3, 3, 3, 1, 3, 3, 3, 2, 6, 5, 4, 3, 3, 4,\n",
       "       2, 1, 1, 2, 4, 6, 0, 1, 2, 5, 1, 1])"
      ]
     },
     "execution_count": 96,
>>>>>>> 3217e13b7c2c03ffbe0bf6afae64c83bd0145e3c
     "metadata": {},
     "output_type": "execute_result"
    }
   ],
   "source": [
    "one_sample"
   ]
  },
  {
   "cell_type": "code",
<<<<<<< HEAD
   "execution_count": 29,
=======
   "execution_count": 97,
>>>>>>> 3217e13b7c2c03ffbe0bf6afae64c83bd0145e3c
   "metadata": {
    "scrolled": true,
    "slideshow": {
     "slide_type": "fragment"
    }
   },
   "outputs": [
    {
     "data": {
      "text/plain": [
<<<<<<< HEAD
       "2.46"
      ]
     },
     "execution_count": 29,
=======
       "2.64"
      ]
     },
     "execution_count": 97,
>>>>>>> 3217e13b7c2c03ffbe0bf6afae64c83bd0145e3c
     "metadata": {},
     "output_type": "execute_result"
    }
   ],
   "source": [
    "Xbar_0 = one_sample.mean()\n",
    "Xbar_0"
   ]
  },
  {
   "cell_type": "markdown",
   "metadata": {
    "cell_style": "center",
    "slideshow": {
     "slide_type": "slide"
    }
   },
   "source": [
    "Provide $N$ is large enough: \n",
    "CLT give us ability to make some statements about range!\n",
    "- sample standard deviation $s \\approx \\sigma$ (only true for large enough N > 30)\n",
    "- $\\bar{X}$ would then be distributed normally with mean $\\bar{X}_0$ and std $\\frac{s}{\\sqrt{N}}$"
   ]
  },
  {
   "cell_type": "markdown",
   "metadata": {
    "slideshow": {
     "slide_type": "slide"
    }
   },
   "source": [
    "To get 95% confidence interval for normal:\n",
    "\n",
    "$$ \\bar{X_0} \\pm 1.96\\frac{\\sigma}{\\sqrt{N}} $$\n",
    "\n",
    "Where we just looked up $z* \\approx 1.96$ from a table.\n",
    "\n",
    "Let's see."
   ]
  },
  {
   "cell_type": "code",
<<<<<<< HEAD
   "execution_count": 26,
=======
   "execution_count": 99,
>>>>>>> 3217e13b7c2c03ffbe0bf6afae64c83bd0145e3c
   "metadata": {
    "slideshow": {
     "slide_type": "fragment"
    }
   },
   "outputs": [
    {
     "data": {
      "text/plain": [
<<<<<<< HEAD
       "0.30803194379804183"
      ]
     },
     "execution_count": 26,
=======
       "0.29532979260480985"
      ]
     },
     "execution_count": 99,
>>>>>>> 3217e13b7c2c03ffbe0bf6afae64c83bd0145e3c
     "metadata": {},
     "output_type": "execute_result"
    }
   ],
   "source": [
    "sigma_N = one_sample.std()/(np.sqrt(N))\n",
    "half_range = 1.96*sigma_N\n",
    "half_range"
   ]
  },
  {
   "cell_type": "code",
<<<<<<< HEAD
   "execution_count": 25,
=======
   "execution_count": 101,
   "metadata": {},
   "outputs": [
    {
     "data": {
      "text/plain": [
       "(2.34467020739519, 2.93532979260481)"
      ]
     },
     "execution_count": 101,
     "metadata": {},
     "output_type": "execute_result"
    }
   ],
   "source": [
    "(Xbar_0 - half_range, Xbar_0 + half_range)"
   ]
  },
  {
   "cell_type": "code",
   "execution_count": 102,
>>>>>>> 3217e13b7c2c03ffbe0bf6afae64c83bd0145e3c
   "metadata": {
    "cell_style": "center",
    "scrolled": false,
    "slideshow": {
     "slide_type": "subslide"
    }
   },
   "outputs": [
    {
<<<<<<< HEAD
     "ename": "NameError",
     "evalue": "name 'norm' is not defined",
     "output_type": "error",
     "traceback": [
      "\u001b[0;31m---------------------------------------------------------------------------\u001b[0m",
      "\u001b[0;31mNameError\u001b[0m                                 Traceback (most recent call last)",
      "\u001b[0;32m<ipython-input-25-69e4c7945a50>\u001b[0m in \u001b[0;36m<module>\u001b[0;34m\u001b[0m\n\u001b[1;32m      1\u001b[0m \u001b[0mx_vals\u001b[0m \u001b[0;34m=\u001b[0m \u001b[0mnp\u001b[0m\u001b[0;34m.\u001b[0m\u001b[0marange\u001b[0m\u001b[0;34m(\u001b[0m\u001b[0;36m1.0\u001b[0m\u001b[0;34m,\u001b[0m \u001b[0;36m3.5\u001b[0m\u001b[0;34m,\u001b[0m \u001b[0;36m.025\u001b[0m\u001b[0;34m)\u001b[0m\u001b[0;34m\u001b[0m\u001b[0;34m\u001b[0m\u001b[0m\n\u001b[1;32m      2\u001b[0m \u001b[0;34m\u001b[0m\u001b[0m\n\u001b[0;32m----> 3\u001b[0;31m \u001b[0my_vals_gauss\u001b[0m \u001b[0;34m=\u001b[0m \u001b[0mnorm\u001b[0m\u001b[0;34m.\u001b[0m\u001b[0mpdf\u001b[0m\u001b[0;34m(\u001b[0m\u001b[0mx_vals\u001b[0m\u001b[0;34m,\u001b[0m \u001b[0mloc\u001b[0m \u001b[0;34m=\u001b[0m \u001b[0mXbar_0\u001b[0m\u001b[0;34m,\u001b[0m \u001b[0mscale\u001b[0m \u001b[0;34m=\u001b[0m \u001b[0msigma_N\u001b[0m\u001b[0;34m)\u001b[0m\u001b[0;34m\u001b[0m\u001b[0;34m\u001b[0m\u001b[0m\n\u001b[0m\u001b[1;32m      4\u001b[0m \u001b[0mplt\u001b[0m\u001b[0;34m.\u001b[0m\u001b[0mfill_between\u001b[0m\u001b[0;34m(\u001b[0m\u001b[0mx_vals\u001b[0m\u001b[0;34m,\u001b[0m \u001b[0my_vals_gauss\u001b[0m\u001b[0;34m,\u001b[0m \u001b[0mwhere\u001b[0m \u001b[0;34m=\u001b[0m \u001b[0;34m(\u001b[0m\u001b[0mXbar_0\u001b[0m \u001b[0;34m-\u001b[0m \u001b[0mhalf_range\u001b[0m \u001b[0;34m<\u001b[0m \u001b[0mx_vals\u001b[0m\u001b[0;34m)\u001b[0m \u001b[0;34m&\u001b[0m \u001b[0;34m(\u001b[0m\u001b[0mXbar_0\u001b[0m \u001b[0;34m+\u001b[0m \u001b[0mhalf_range\u001b[0m \u001b[0;34m>\u001b[0m \u001b[0mx_vals\u001b[0m\u001b[0;34m)\u001b[0m\u001b[0;34m,\u001b[0m \u001b[0malpha\u001b[0m \u001b[0;34m=\u001b[0m \u001b[0;36m0.5\u001b[0m\u001b[0;34m,\u001b[0m \u001b[0mcolor\u001b[0m\u001b[0;34m=\u001b[0m\u001b[0;34m'r'\u001b[0m\u001b[0;34m)\u001b[0m\u001b[0;34m\u001b[0m\u001b[0;34m\u001b[0m\u001b[0m\n\u001b[1;32m      5\u001b[0m \u001b[0mplt\u001b[0m\u001b[0;34m.\u001b[0m\u001b[0maxvline\u001b[0m\u001b[0;34m(\u001b[0m\u001b[0mXbar_0\u001b[0m\u001b[0;34m)\u001b[0m\u001b[0;34m\u001b[0m\u001b[0;34m\u001b[0m\u001b[0m\n",
      "\u001b[0;31mNameError\u001b[0m: name 'norm' is not defined"
     ]
=======
     "data": {
      "image/png": "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\n",
      "text/plain": [
       "<Figure size 432x288 with 1 Axes>"
      ]
     },
     "metadata": {
      "needs_background": "light"
     },
     "output_type": "display_data"
>>>>>>> 3217e13b7c2c03ffbe0bf6afae64c83bd0145e3c
    }
   ],
   "source": [
    "from scipy.stats import norm \n",
    "x_vals = np.arange(1.0, 3.5, .025)\n",
    "\n",
    "y_vals_gauss = norm.pdf(x_vals, loc = Xbar_0, scale = sigma_N)\n",
    "plt.fill_between(x_vals, y_vals_gauss, where = (Xbar_0 - half_range < x_vals) & (Xbar_0 + half_range > x_vals), alpha = 0.5, color='r')\n",
    "plt.axvline(Xbar_0)\n",
    "plt.annotate(\"$\\overline{X}_0$\", c ='b', xy = (2.25, 0.8), fontsize = 20)\n",
    "plt.plot(x_vals, y_vals_gauss, c = 'b')\n",
    "\n",
    "plt.show()\n"
   ]
  },
  {
   "cell_type": "markdown",
   "metadata": {
    "slideshow": {
     "slide_type": "slide"
    }
   },
   "source": [
    "Probability that repeated samples will have $\\bar{X}$ falling with this range: \n",
    "- Can calculate this using the CDF"
   ]
  },
  {
   "cell_type": "code",
   "execution_count": null,
   "metadata": {
    "slideshow": {
     "slide_type": "fragment"
    }
   },
<<<<<<< HEAD
   "outputs": [],
=======
   "outputs": [
    {
     "data": {
      "text/plain": [
       "0.9500042097035593"
      ]
     },
     "execution_count": 41,
     "metadata": {},
     "output_type": "execute_result"
    }
   ],
>>>>>>> 3217e13b7c2c03ffbe0bf6afae64c83bd0145e3c
   "source": [
    "p2 = norm.cdf(Xbar_0 + half_range, loc = Xbar_0, scale = sigma_N)\n",
    "p1 = norm.cdf(Xbar_0- half_range , loc = Xbar_0, scale = sigma_N)\n",
    "\n",
    "p_in_95CI = p2 - p1\n",
    "\n",
    "p_in_95CI"
   ]
  },
  {
   "cell_type": "markdown",
   "metadata": {
    "slideshow": {
     "slide_type": "slide"
    }
   },
   "source": [
    "Thus my measured estimate of the population mean is  mean $\\bar{X}_0 $:"
   ]
  },
  {
   "cell_type": "code",
   "execution_count": null,
   "metadata": {
    "slideshow": {
     "slide_type": "fragment"
    }
   },
<<<<<<< HEAD
   "outputs": [],
=======
   "outputs": [
    {
     "data": {
      "text/plain": [
       "2.64"
      ]
     },
     "execution_count": 42,
     "metadata": {},
     "output_type": "execute_result"
    }
   ],
>>>>>>> 3217e13b7c2c03ffbe0bf6afae64c83bd0145e3c
   "source": [
    "Xbar_0"
   ]
  },
  {
   "cell_type": "markdown",
   "metadata": {
    "slideshow": {
     "slide_type": "fragment"
    }
   },
   "source": [
    "With a range of uncertainty in $\\bar{X}$ (and thus population mean)"
   ]
  },
  {
   "cell_type": "code",
   "execution_count": null,
   "metadata": {
    "slideshow": {
     "slide_type": "fragment"
    }
   },
<<<<<<< HEAD
   "outputs": [],
=======
   "outputs": [
    {
     "data": {
      "text/plain": [
       "(2.34467020739519, 2.93532979260481)"
      ]
     },
     "execution_count": 43,
     "metadata": {},
     "output_type": "execute_result"
    }
   ],
>>>>>>> 3217e13b7c2c03ffbe0bf6afae64c83bd0145e3c
   "source": [
    "(Xbar_0 - half_range, Xbar_0 + half_range)"
   ]
  },
  {
   "cell_type": "markdown",
   "metadata": {
    "slideshow": {
     "slide_type": "fragment"
    }
   },
   "source": [
    "at the 95\\% confidence interval.\n",
    "\n",
    "95% confidence that true population mean lies in this interval."
   ]
  },
  {
   "cell_type": "markdown",
   "metadata": {
    "slideshow": {
     "slide_type": "slide"
    }
   },
   "source": [
    "Can also report results of confidence intervals at different levels of confidence:\n",
    "\n",
    "\n",
    "Higher levels of confidence mean larger ranges of $\\bar{X}$.\n",
    "\n",
    "\n",
    "- e.g. 99\\% confidence interval:\n",
    "$$ \\bar{X_0} \\pm 2.576\\frac{\\sigma}{\\sqrt{N}} $$\n",
    "- 99.5\\% confidence interval:\n",
    "$$ \\bar{X_0} \\pm 2.807\\frac{\\sigma}{\\sqrt{N}} $$\n",
    "- 99.9% confidence interval:\n",
    "$$ \\bar{X_0} \\pm 3.291\\frac{\\sigma}{\\sqrt{N}} $$\n"
   ]
  },
  {
   "cell_type": "markdown",
   "metadata": {
    "slideshow": {
     "slide_type": "fragment"
    }
   },
   "source": [
    "What happens to my confidence intervals as N increases?"
   ]
  },
  {
   "cell_type": "markdown",
   "metadata": {
    "slideshow": {
     "slide_type": "slide"
    }
   },
   "source": [
    "From a finite sample:\n",
    "\n",
    "- We estimated average counts/min at call center\n",
    "- Also estimated range of values average counts/min could lie in attached to a certain confidence level."
   ]
  },
  {
   "cell_type": "markdown",
   "metadata": {
    "cell_style": "center",
    "slideshow": {
     "slide_type": "slide"
    }
   },
   "source": [
    "We looked up $z*$ for a given confidence level in a table:\n",
    "\n",
    "- But can also calculate this directly using some math and Scipy."
   ]
  },
  {
   "cell_type": "markdown",
   "metadata": {
    "slideshow": {
     "slide_type": "slide"
    }
   },
   "source": [
    "The first step in the math intuition:\n",
    "\n",
    "<div align = \"center\">\n",
    "<img src=\"Images/confidenceinterval2.png\" align = \"center\" width=\"500\"/>\n",
    "</div>"
   ]
  },
  {
   "cell_type": "markdown",
   "metadata": {
    "slideshow": {
     "slide_type": "slide"
    }
   },
   "source": [
    "The second step in the math:\n",
    "\n",
    "<div align = \"center\">\n",
    "<img src=\"Images/confidencezstar.png\" align = \"center\" width=\"500\"/>\n",
    "</div>"
   ]
  },
  {
   "cell_type": "markdown",
   "metadata": {
    "slideshow": {
     "slide_type": "slide"
    }
   },
   "source": [
    "The ppf for the normal distribution can be calculated using scipy.\n",
    "- norm.ppf(probability) outputs value $z^*$ for which P(z<z*) = probability\n",
    "- given $z$ is governed by the standardize normal distribution (mean 0, std 1)"
   ]
  },
  {
   "cell_type": "code",
<<<<<<< HEAD
   "execution_count": null,
=======
   "execution_count": 103,
>>>>>>> 3217e13b7c2c03ffbe0bf6afae64c83bd0145e3c
   "metadata": {
    "slideshow": {
     "slide_type": "fragment"
    }
   },
   "outputs": [],
   "source": [
    "from scipy.stats import norm"
   ]
  },
  {
   "cell_type": "code",
<<<<<<< HEAD
   "execution_count": null,
=======
   "execution_count": 104,
>>>>>>> 3217e13b7c2c03ffbe0bf6afae64c83bd0145e3c
   "metadata": {
    "cell_style": "split",
    "slideshow": {
     "slide_type": "slide"
    }
   },
   "outputs": [],
   "source": [
    "c = 0.95 # confidence level\n",
    "\n",
    "# this is the probability \n",
    "# we input in ppf\n",
    "half_alpha = (1 - c)/2 "
   ]
  },
  {
   "cell_type": "code",
<<<<<<< HEAD
   "execution_count": null,
=======
   "execution_count": 105,
>>>>>>> 3217e13b7c2c03ffbe0bf6afae64c83bd0145e3c
   "metadata": {
    "cell_style": "split",
    "slideshow": {
     "slide_type": "fragment"
    }
   },
<<<<<<< HEAD
   "outputs": [],
=======
   "outputs": [
    {
     "data": {
      "text/plain": [
       "-1.959963984540054"
      ]
     },
     "execution_count": 105,
     "metadata": {},
     "output_type": "execute_result"
    }
   ],
>>>>>>> 3217e13b7c2c03ffbe0bf6afae64c83bd0145e3c
   "source": [
    "norm.ppf(half_alpha)"
   ]
  },
  {
   "cell_type": "code",
<<<<<<< HEAD
   "execution_count": null,
=======
   "execution_count": 106,
>>>>>>> 3217e13b7c2c03ffbe0bf6afae64c83bd0145e3c
   "metadata": {
    "cell_style": "split",
    "slideshow": {
     "slide_type": "fragment"
    }
   },
<<<<<<< HEAD
   "outputs": [],
=======
   "outputs": [
    {
     "data": {
      "text/plain": [
       "1.959963984540054"
      ]
     },
     "execution_count": 106,
     "metadata": {},
     "output_type": "execute_result"
    }
   ],
>>>>>>> 3217e13b7c2c03ffbe0bf6afae64c83bd0145e3c
   "source": [
    "zstar_95 = np.abs(norm.ppf(half_alpha))\n",
    "zstar_95"
   ]
  },
  {
   "cell_type": "markdown",
   "metadata": {
    "cell_style": "center",
    "slideshow": {
     "slide_type": "slide"
    }
   },
   "source": [
    "Confidence interval range is :"
   ]
  },
  {
   "cell_type": "code",
<<<<<<< HEAD
   "execution_count": null,
=======
   "execution_count": 107,
>>>>>>> 3217e13b7c2c03ffbe0bf6afae64c83bd0145e3c
   "metadata": {
    "cell_style": "split",
    "slideshow": {
     "slide_type": "fragment"
    }
   },
<<<<<<< HEAD
   "outputs": [],
=======
   "outputs": [
    {
     "name": "stdout",
     "output_type": "stream",
     "text": [
      "(2.3446756341494335, 2.9353243658505668)\n"
     ]
    }
   ],
>>>>>>> 3217e13b7c2c03ffbe0bf6afae64c83bd0145e3c
   "source": [
    "ci = (Xbar_0 - zstar_95*(sigma_N), \n",
    "      Xbar_0 + zstar_95*(sigma_N))\n",
    "\n",
    "print(ci)"
   ]
  },
  {
   "cell_type": "code",
<<<<<<< HEAD
   "execution_count": null,
=======
   "execution_count": 49,
>>>>>>> 3217e13b7c2c03ffbe0bf6afae64c83bd0145e3c
   "metadata": {
    "cell_style": "split",
    "slideshow": {
     "slide_type": "fragment"
    }
   },
<<<<<<< HEAD
   "outputs": [],
=======
   "outputs": [
    {
     "data": {
      "text/plain": [
       "(2.34467020739519, 2.93532979260481)"
      ]
     },
     "execution_count": 49,
     "metadata": {},
     "output_type": "execute_result"
    }
   ],
>>>>>>> 3217e13b7c2c03ffbe0bf6afae64c83bd0145e3c
   "source": [
    "# From lookup table:\n",
    "(Xbar_0 - half_range, Xbar_0 + half_range)"
   ]
  },
  {
   "cell_type": "markdown",
   "metadata": {
    "cell_style": "center",
    "slideshow": {
     "slide_type": "slide"
    }
   },
   "source": [
    "Can also get the confidence interval directly via the .interval() method:\n",
    "- Fast, clean way to do it."
   ]
  },
  {
   "cell_type": "markdown",
   "metadata": {
    "cell_style": "split",
    "slideshow": {
     "slide_type": "fragment"
    }
   },
   "source": [
    "- first argument is confidence level\n",
    "- loc argument will be the sample mean\n",
    "- the scale will be $$ \\sigma_N = \\frac{\\sigma}{\\sqrt{N}} \\approx \\frac{s}{\\sqrt{N}}$$."
   ]
  },
  {
   "cell_type": "code",
   "execution_count": null,
   "metadata": {
    "cell_style": "split",
    "slideshow": {
     "slide_type": "subslide"
    }
   },
<<<<<<< HEAD
   "outputs": [],
=======
   "outputs": [
    {
     "data": {
      "text/plain": [
       "(2.3446756341494335, 2.9353243658505668)"
      ]
     },
     "execution_count": 50,
     "metadata": {},
     "output_type": "execute_result"
    }
   ],
>>>>>>> 3217e13b7c2c03ffbe0bf6afae64c83bd0145e3c
   "source": [
    "from scipy.stats import norm\n",
    "\n",
    "c = 0.95 # confidence level\n",
    "#(95% chance population mean lies in interval)\n",
    "norm.interval(c, loc = Xbar_0, scale = sigma_N)"
   ]
  },
  {
   "cell_type": "markdown",
   "metadata": {
    "cell_style": "split",
    "slideshow": {
     "slide_type": "fragment"
    }
   },
   "source": [
    "Our calculation from before with N = 100 samples"
   ]
  },
  {
   "cell_type": "code",
   "execution_count": null,
   "metadata": {
    "cell_style": "split",
    "slideshow": {
     "slide_type": "fragment"
    }
   },
<<<<<<< HEAD
   "outputs": [],
=======
   "outputs": [
    {
     "data": {
      "text/plain": [
       "(2.34467020739519, 2.93532979260481)"
      ]
     },
     "execution_count": 51,
     "metadata": {},
     "output_type": "execute_result"
    }
   ],
>>>>>>> 3217e13b7c2c03ffbe0bf6afae64c83bd0145e3c
   "source": [
    "(Xbar_0 - half_range, Xbar_0 + half_range)"
   ]
  },
  {
   "cell_type": "markdown",
   "metadata": {
    "slideshow": {
     "slide_type": "slide"
    }
   },
   "source": [
    "#### Calculate confidence interval at the 0.995 confidence level."
   ]
  },
  {
   "cell_type": "code",
<<<<<<< HEAD
   "execution_count": null,
=======
   "execution_count": 52,
>>>>>>> 3217e13b7c2c03ffbe0bf6afae64c83bd0145e3c
   "metadata": {
    "slideshow": {
     "slide_type": "skip"
    }
   },
   "outputs": [],
   "source": [
    "N_2 = 200\n",
    "another_sample = poisson.rvs(mu = 3.5, size = N_2)"
   ]
  },
  {
   "cell_type": "markdown",
   "metadata": {
    "slideshow": {
     "slide_type": "slide"
    }
   },
   "source": [
    "You have a sample of call counts / min from a different call center:\n",
    "\n",
    "- The sample size N = 200\n",
    "- We also can calculate the sample mean and standard deviation."
   ]
  },
  {
   "cell_type": "code",
<<<<<<< HEAD
   "execution_count": null,
=======
   "execution_count": 53,
>>>>>>> 3217e13b7c2c03ffbe0bf6afae64c83bd0145e3c
   "metadata": {
    "cell_style": "center",
    "scrolled": true,
    "slideshow": {
     "slide_type": "subslide"
    }
   },
<<<<<<< HEAD
   "outputs": [],
=======
   "outputs": [
    {
     "data": {
      "text/plain": [
       "array([6, 4, 2, 1, 1, 5, 3, 0, 2, 7, 5, 2, 5, 2, 4, 2, 2, 3, 1, 3, 5, 2,\n",
       "       7, 5, 4, 5, 2, 4, 2, 2, 2, 2, 7, 5, 1, 2, 7, 3, 7, 4, 4, 3, 5, 4,\n",
       "       9, 3, 4, 3, 4, 2, 1, 5, 5, 2, 4, 3, 5, 4, 3, 2, 2, 2, 4, 3, 0, 5,\n",
       "       2, 1, 4, 3, 7, 9, 5, 4, 1, 5, 5, 7, 5, 6, 6, 3, 6, 0, 3, 5, 5, 2,\n",
       "       5, 6, 2, 5, 3, 6, 2, 5, 3, 6, 4, 3, 2, 5, 4, 4, 2, 5, 6, 7, 5, 3,\n",
       "       1, 6, 5, 8, 1, 2, 3, 1, 3, 4, 8, 5, 4, 3, 1, 4, 1, 2, 3, 2, 1, 4,\n",
       "       2, 4, 6, 3, 3, 5, 2, 2, 2, 3, 4, 2, 1, 4, 6, 2, 4, 6, 4, 3, 6, 4,\n",
       "       4, 5, 7, 4, 6, 9, 4, 1, 3, 1, 6, 1, 4, 3, 2, 6, 1, 2, 5, 4, 5, 5,\n",
       "       4, 3, 5, 3, 6, 3, 2, 6, 1, 8, 0, 1, 2, 2, 6, 3, 0, 1, 2, 2, 3, 3,\n",
       "       1, 4])"
      ]
     },
     "execution_count": 53,
     "metadata": {},
     "output_type": "execute_result"
    }
   ],
>>>>>>> 3217e13b7c2c03ffbe0bf6afae64c83bd0145e3c
   "source": [
    "another_sample"
   ]
  },
  {
   "cell_type": "code",
<<<<<<< HEAD
   "execution_count": null,
=======
   "execution_count": 54,
>>>>>>> 3217e13b7c2c03ffbe0bf6afae64c83bd0145e3c
   "metadata": {
    "cell_style": "split",
    "slideshow": {
     "slide_type": "fragment"
    }
   },
   "outputs": [],
   "source": [
    "# get the sample mean and sample standard \n",
    "# deviation\n",
    "Xbar = another_sample.mean()\n",
    "sigma = another_sample.std()"
   ]
  },
  {
   "cell_type": "code",
<<<<<<< HEAD
   "execution_count": null,
=======
   "execution_count": 55,
>>>>>>> 3217e13b7c2c03ffbe0bf6afae64c83bd0145e3c
   "metadata": {
    "cell_style": "split",
    "slideshow": {
     "slide_type": "subslide"
    }
   },
<<<<<<< HEAD
   "outputs": [],
=======
   "outputs": [
    {
     "data": {
      "text/plain": [
       "200"
      ]
     },
     "execution_count": 55,
     "metadata": {},
     "output_type": "execute_result"
    }
   ],
>>>>>>> 3217e13b7c2c03ffbe0bf6afae64c83bd0145e3c
   "source": [
    "# get the number of trials\n",
    "N2 = len(another_sample)\n",
    "N2"
   ]
  },
  {
   "cell_type": "markdown",
   "metadata": {
    "slideshow": {
     "slide_type": "slide"
    }
   },
   "source": [
    "#### Use the .interval method and the defined Xbar, sigma, N2 to calculate  the confidence interval at 99.5%"
   ]
  },
  {
   "cell_type": "code",
<<<<<<< HEAD
   "execution_count": null,
=======
   "execution_count": 56,
>>>>>>> 3217e13b7c2c03ffbe0bf6afae64c83bd0145e3c
   "metadata": {
    "slideshow": {
     "slide_type": "-"
    }
   },
<<<<<<< HEAD
   "outputs": [],
=======
   "outputs": [
    {
     "data": {
      "text/plain": [
       "(3.2393838957094814, 4.01061610429052)"
      ]
     },
     "execution_count": 56,
     "metadata": {},
     "output_type": "execute_result"
    }
   ],
>>>>>>> 3217e13b7c2c03ffbe0bf6afae64c83bd0145e3c
   "source": [
    "c = .995\n",
    "norm.interval(c, loc = Xbar, scale = sigma/np.sqrt(N2))"
   ]
  },
  {
   "cell_type": "markdown",
   "metadata": {
    "slideshow": {
     "slide_type": "slide"
    }
   },
   "source": [
    "#### Calculate z* for the 99.5 percent confidence interval"
   ]
  },
  {
   "cell_type": "code",
<<<<<<< HEAD
   "execution_count": null,
=======
   "execution_count": 57,
>>>>>>> 3217e13b7c2c03ffbe0bf6afae64c83bd0145e3c
   "metadata": {
    "slideshow": {
     "slide_type": "fragment"
    }
   },
<<<<<<< HEAD
   "outputs": [],
=======
   "outputs": [
    {
     "data": {
      "text/plain": [
       "2.807033768343804"
      ]
     },
     "execution_count": 57,
     "metadata": {},
     "output_type": "execute_result"
    }
   ],
>>>>>>> 3217e13b7c2c03ffbe0bf6afae64c83bd0145e3c
   "source": [
    "z_star = np.abs(norm.ppf((1-c)/2))\n",
    "z_star"
   ]
  },
  {
   "cell_type": "code",
<<<<<<< HEAD
   "execution_count": null,
=======
   "execution_count": 58,
>>>>>>> 3217e13b7c2c03ffbe0bf6afae64c83bd0145e3c
   "metadata": {
    "slideshow": {
     "slide_type": "fragment"
    }
   },
<<<<<<< HEAD
   "outputs": [],
=======
   "outputs": [
    {
     "data": {
      "text/plain": [
       "(3.2393838957094814, 4.010616104290518)"
      ]
     },
     "execution_count": 58,
     "metadata": {},
     "output_type": "execute_result"
    }
   ],
>>>>>>> 3217e13b7c2c03ffbe0bf6afae64c83bd0145e3c
   "source": [
    "# Output the confidence interval as a tuple using z* and other statistics:\n",
    "\n",
    "(Xbar -  z_star*(sigma/np.sqrt(N2)), Xbar + z_star*(sigma/np.sqrt(N2)))"
   ]
  },
  {
   "cell_type": "markdown",
   "metadata": {
    "cell_style": "center",
    "slideshow": {
     "slide_type": "slide"
    }
   },
   "source": [
    "**Statistics, probability**\n",
    "\n",
    "- Enabled us to start quantifying uncertainty in data in a principled way.\n",
    "- This is the *essence* of the scientific method!\n",
    "\n",
    "If I measure a thing, how certain am I that it is the value I say?\n",
    "\n",
    "Could it be other values?\n",
    "\n",
    "Range of values it could be quantifying my confidence."
   ]
  }
 ],
 "metadata": {
  "celltoolbar": "Slideshow",
  "kernelspec": {
   "display_name": "Python 3",
   "language": "python",
   "name": "python3"
  },
  "language_info": {
   "codemirror_mode": {
    "name": "ipython",
    "version": 3
   },
   "file_extension": ".py",
   "mimetype": "text/x-python",
   "name": "python",
   "nbconvert_exporter": "python",
   "pygments_lexer": "ipython3",
   "version": "3.8.5"
  }
 },
 "nbformat": 4,
 "nbformat_minor": 4
}
