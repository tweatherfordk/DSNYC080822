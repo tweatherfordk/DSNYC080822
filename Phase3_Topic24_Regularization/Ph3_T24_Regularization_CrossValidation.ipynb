{
 "cells": [
  {
   "cell_type": "markdown",
   "id": "3f8e707e",
   "metadata": {
    "slideshow": {
     "slide_type": "slide"
    }
   },
   "source": [
    "<div style=\"color:white;\n",
    "           display:fill;\n",
    "           border-radius:5px;\n",
    "           background-color:#5642C5;\n",
    "           font-size:200%;\n",
    "           font-\\amily:Arial;letter-spacing:0.5px\">\n",
    "\n",
    "<p width = 20%, style=\"padding: 10px;\n",
    "              color:white;\">\n",
    "Cross-Validation and Regularization\n",
    "              \n",
    "</p>\n",
    "</div>\n",
    "\n",
    "Data Science Cohort Live NYC Feb 2022\n",
    "<p>Phase 3: Topic 24</p>\n",
    "<br>\n",
    "<br>\n",
    "\n",
    "<div align = \"right\">\n",
    "<img src=\"Images/flatiron-school-logo.png\" align = \"right\" width=\"200\"/>\n",
    "</div>"
   ]
  },
  {
   "cell_type": "markdown",
   "id": "662b1941",
   "metadata": {
    "slideshow": {
     "slide_type": "slide"
    }
   },
   "source": [
    "Recall:"
   ]
  },
  {
   "cell_type": "markdown",
   "id": "51864965",
   "metadata": {
    "cell_style": "split",
    "slideshow": {
     "slide_type": "fragment"
    }
   },
   "source": [
    "Bias: \n",
    "- when model not complex enough\n",
    "- feature space not adequately rich enough to explain target\n",
    "\n"
   ]
  },
  {
   "cell_type": "markdown",
   "id": "bc4cea96",
   "metadata": {
    "cell_style": "split",
    "slideshow": {
     "slide_type": "fragment"
    }
   },
   "source": [
    "Variance: \n",
    "\n",
    "- model/weights: large fluctuations about true model given different train sets\n",
    "\n",
    "- High $ \\mathrm{Var}[\\textbf{w}] $ over realization of training sets\n",
    "\n",
    "- High fluctuation in MAE over test sets."
   ]
  },
  {
   "cell_type": "markdown",
   "id": "117e4369",
   "metadata": {
    "cell_style": "split",
    "slideshow": {
     "slide_type": "slide"
    }
   },
   "source": [
    "The bulls-eye diagrams of fitting model to different training set realizations:\n",
    "<center><img src = \"Images/biasvar_bullseye.png\" width = 400/></center>"
   ]
  },
  {
   "cell_type": "markdown",
   "id": "8efae746",
   "metadata": {
    "cell_style": "split",
    "slideshow": {
     "slide_type": "fragment"
    }
   },
   "source": [
    "Each dot is a model:\n",
    "- Bulls-eye: the *true* model (generating mean of $y$ given $X$ in the population) \n",
    "- Each dot: models trained on different samples."
   ]
  },
  {
   "cell_type": "markdown",
   "id": "55fb853c",
   "metadata": {
    "slideshow": {
     "slide_type": "fragment"
    }
   },
   "source": [
    "**Our goal**: lowering bias and variance in training predictive models\n",
    "\n",
    "but the two often at odds."
   ]
  },
  {
   "cell_type": "markdown",
   "id": "90008e7a",
   "metadata": {
    "slideshow": {
     "slide_type": "slide"
    }
   },
   "source": [
    "**Multicollinearity**\n",
    "\n",
    "Have to grapple with these issues when constructing linear models with multicollinear features"
   ]
  },
  {
   "cell_type": "markdown",
   "id": "dbac7b45",
   "metadata": {
    "slideshow": {
     "slide_type": "fragment"
    }
   },
   "source": [
    "We talked about this way back. But how does it increase Var[$\\textbf{w}$]?"
   ]
  },
  {
   "cell_type": "code",
   "execution_count": 10,
   "id": "361212ec",
   "metadata": {
    "slideshow": {
     "slide_type": "slide"
    }
   },
   "outputs": [],
   "source": [
    "import numpy as np\n",
    "import pandas as pd\n",
    "import seaborn as sns\n",
    "import matplotlib.pyplot as plt\n",
    "\n",
    "WHO_data = pd.read_csv(\"Data/WHO_life.csv\")\n",
    "X_WHO = WHO_data.drop(columns = [\"Life expectancy \"])\n",
    "X_WHO.columns = X_WHO.columns.str.strip()\n",
    "y = WHO_data[\"Life expectancy \"]"
   ]
  },
  {
   "cell_type": "code",
   "execution_count": 11,
   "id": "d0ea7729",
   "metadata": {
    "scrolled": true,
    "slideshow": {
     "slide_type": "subslide"
    }
   },
   "outputs": [
    {
     "data": {
      "text/html": [
       "<div>\n",
       "<style scoped>\n",
       "    .dataframe tbody tr th:only-of-type {\n",
       "        vertical-align: middle;\n",
       "    }\n",
       "\n",
       "    .dataframe tbody tr th {\n",
       "        vertical-align: top;\n",
       "    }\n",
       "\n",
       "    .dataframe thead th {\n",
       "        text-align: right;\n",
       "    }\n",
       "</style>\n",
       "<table border=\"1\" class=\"dataframe\">\n",
       "  <thead>\n",
       "    <tr style=\"text-align: right;\">\n",
       "      <th></th>\n",
       "      <th>Country</th>\n",
       "      <th>Year</th>\n",
       "      <th>Status</th>\n",
       "      <th>Adult Mortality</th>\n",
       "      <th>infant deaths</th>\n",
       "      <th>Alcohol</th>\n",
       "      <th>percentage expenditure</th>\n",
       "      <th>Hepatitis B</th>\n",
       "      <th>Measles</th>\n",
       "      <th>BMI</th>\n",
       "      <th>...</th>\n",
       "      <th>Polio</th>\n",
       "      <th>Total expenditure</th>\n",
       "      <th>Diphtheria</th>\n",
       "      <th>HIV/AIDS</th>\n",
       "      <th>GDP</th>\n",
       "      <th>Population</th>\n",
       "      <th>thinness  1-19 years</th>\n",
       "      <th>thinness 5-9 years</th>\n",
       "      <th>Income composition of resources</th>\n",
       "      <th>Schooling</th>\n",
       "    </tr>\n",
       "  </thead>\n",
       "  <tbody>\n",
       "    <tr>\n",
       "      <th>0</th>\n",
       "      <td>Afghanistan</td>\n",
       "      <td>2015</td>\n",
       "      <td>Developing</td>\n",
       "      <td>263.0</td>\n",
       "      <td>62</td>\n",
       "      <td>0.01</td>\n",
       "      <td>71.279624</td>\n",
       "      <td>65.0</td>\n",
       "      <td>1154</td>\n",
       "      <td>19.1</td>\n",
       "      <td>...</td>\n",
       "      <td>6.0</td>\n",
       "      <td>8.16</td>\n",
       "      <td>65.0</td>\n",
       "      <td>0.1</td>\n",
       "      <td>584.259210</td>\n",
       "      <td>33736494.0</td>\n",
       "      <td>17.2</td>\n",
       "      <td>17.3</td>\n",
       "      <td>0.479</td>\n",
       "      <td>10.1</td>\n",
       "    </tr>\n",
       "    <tr>\n",
       "      <th>1</th>\n",
       "      <td>Afghanistan</td>\n",
       "      <td>2014</td>\n",
       "      <td>Developing</td>\n",
       "      <td>271.0</td>\n",
       "      <td>64</td>\n",
       "      <td>0.01</td>\n",
       "      <td>73.523582</td>\n",
       "      <td>62.0</td>\n",
       "      <td>492</td>\n",
       "      <td>18.6</td>\n",
       "      <td>...</td>\n",
       "      <td>58.0</td>\n",
       "      <td>8.18</td>\n",
       "      <td>62.0</td>\n",
       "      <td>0.1</td>\n",
       "      <td>612.696514</td>\n",
       "      <td>327582.0</td>\n",
       "      <td>17.5</td>\n",
       "      <td>17.5</td>\n",
       "      <td>0.476</td>\n",
       "      <td>10.0</td>\n",
       "    </tr>\n",
       "    <tr>\n",
       "      <th>2</th>\n",
       "      <td>Afghanistan</td>\n",
       "      <td>2013</td>\n",
       "      <td>Developing</td>\n",
       "      <td>268.0</td>\n",
       "      <td>66</td>\n",
       "      <td>0.01</td>\n",
       "      <td>73.219243</td>\n",
       "      <td>64.0</td>\n",
       "      <td>430</td>\n",
       "      <td>18.1</td>\n",
       "      <td>...</td>\n",
       "      <td>62.0</td>\n",
       "      <td>8.13</td>\n",
       "      <td>64.0</td>\n",
       "      <td>0.1</td>\n",
       "      <td>631.744976</td>\n",
       "      <td>31731688.0</td>\n",
       "      <td>17.7</td>\n",
       "      <td>17.7</td>\n",
       "      <td>0.470</td>\n",
       "      <td>9.9</td>\n",
       "    </tr>\n",
       "    <tr>\n",
       "      <th>3</th>\n",
       "      <td>Afghanistan</td>\n",
       "      <td>2012</td>\n",
       "      <td>Developing</td>\n",
       "      <td>272.0</td>\n",
       "      <td>69</td>\n",
       "      <td>0.01</td>\n",
       "      <td>78.184215</td>\n",
       "      <td>67.0</td>\n",
       "      <td>2787</td>\n",
       "      <td>17.6</td>\n",
       "      <td>...</td>\n",
       "      <td>67.0</td>\n",
       "      <td>8.52</td>\n",
       "      <td>67.0</td>\n",
       "      <td>0.1</td>\n",
       "      <td>669.959000</td>\n",
       "      <td>3696958.0</td>\n",
       "      <td>17.9</td>\n",
       "      <td>18.0</td>\n",
       "      <td>0.463</td>\n",
       "      <td>9.8</td>\n",
       "    </tr>\n",
       "    <tr>\n",
       "      <th>4</th>\n",
       "      <td>Afghanistan</td>\n",
       "      <td>2011</td>\n",
       "      <td>Developing</td>\n",
       "      <td>275.0</td>\n",
       "      <td>71</td>\n",
       "      <td>0.01</td>\n",
       "      <td>7.097109</td>\n",
       "      <td>68.0</td>\n",
       "      <td>3013</td>\n",
       "      <td>17.2</td>\n",
       "      <td>...</td>\n",
       "      <td>68.0</td>\n",
       "      <td>7.87</td>\n",
       "      <td>68.0</td>\n",
       "      <td>0.1</td>\n",
       "      <td>63.537231</td>\n",
       "      <td>2978599.0</td>\n",
       "      <td>18.2</td>\n",
       "      <td>18.2</td>\n",
       "      <td>0.454</td>\n",
       "      <td>9.5</td>\n",
       "    </tr>\n",
       "  </tbody>\n",
       "</table>\n",
       "<p>5 rows × 21 columns</p>\n",
       "</div>"
      ],
      "text/plain": [
       "       Country  Year      Status  Adult Mortality  infant deaths  Alcohol  \\\n",
       "0  Afghanistan  2015  Developing            263.0             62     0.01   \n",
       "1  Afghanistan  2014  Developing            271.0             64     0.01   \n",
       "2  Afghanistan  2013  Developing            268.0             66     0.01   \n",
       "3  Afghanistan  2012  Developing            272.0             69     0.01   \n",
       "4  Afghanistan  2011  Developing            275.0             71     0.01   \n",
       "\n",
       "   percentage expenditure  Hepatitis B  Measles   BMI  ...  Polio  \\\n",
       "0               71.279624         65.0     1154  19.1  ...    6.0   \n",
       "1               73.523582         62.0      492  18.6  ...   58.0   \n",
       "2               73.219243         64.0      430  18.1  ...   62.0   \n",
       "3               78.184215         67.0     2787  17.6  ...   67.0   \n",
       "4                7.097109         68.0     3013  17.2  ...   68.0   \n",
       "\n",
       "   Total expenditure  Diphtheria  HIV/AIDS         GDP  Population  \\\n",
       "0               8.16        65.0       0.1  584.259210  33736494.0   \n",
       "1               8.18        62.0       0.1  612.696514    327582.0   \n",
       "2               8.13        64.0       0.1  631.744976  31731688.0   \n",
       "3               8.52        67.0       0.1  669.959000   3696958.0   \n",
       "4               7.87        68.0       0.1   63.537231   2978599.0   \n",
       "\n",
       "   thinness  1-19 years  thinness 5-9 years  Income composition of resources  \\\n",
       "0                  17.2                17.3                            0.479   \n",
       "1                  17.5                17.5                            0.476   \n",
       "2                  17.7                17.7                            0.470   \n",
       "3                  17.9                18.0                            0.463   \n",
       "4                  18.2                18.2                            0.454   \n",
       "\n",
       "   Schooling  \n",
       "0       10.1  \n",
       "1       10.0  \n",
       "2        9.9  \n",
       "3        9.8  \n",
       "4        9.5  \n",
       "\n",
       "[5 rows x 21 columns]"
      ]
     },
     "execution_count": 11,
     "metadata": {},
     "output_type": "execute_result"
    }
   ],
   "source": [
    "X_WHO.head()"
   ]
  },
  {
   "cell_type": "markdown",
   "id": "312dc8aa",
   "metadata": {
    "cell_style": "center",
    "slideshow": {
     "slide_type": "slide"
    }
   },
   "source": [
    "Many features from WHO dataset:\n",
    "\n",
    "Regressing to find weights life expectancy"
   ]
  },
  {
   "cell_type": "code",
   "execution_count": 12,
   "id": "0ac7535c",
   "metadata": {
    "slideshow": {
     "slide_type": "fragment"
    }
   },
   "outputs": [
    {
     "data": {
      "text/plain": [
       "Index(['Country', 'Year', 'Status', 'Adult Mortality', 'infant deaths',\n",
       "       'Alcohol', 'percentage expenditure', 'Hepatitis B', 'Measles', 'BMI',\n",
       "       'under-five deaths', 'Polio', 'Total expenditure', 'Diphtheria',\n",
       "       'HIV/AIDS', 'GDP', 'Population', 'thinness  1-19 years',\n",
       "       'thinness 5-9 years', 'Income composition of resources', 'Schooling'],\n",
       "      dtype='object')"
      ]
     },
     "execution_count": 12,
     "metadata": {},
     "output_type": "execute_result"
    }
   ],
   "source": [
    "X_WHO.columns"
   ]
  },
  {
   "cell_type": "markdown",
   "id": "62637c05",
   "metadata": {
    "slideshow": {
     "slide_type": "slide"
    }
   },
   "source": [
    "But let's take a look at a few of these and their correlations:"
   ]
  },
  {
   "cell_type": "code",
   "execution_count": 13,
   "id": "a4c6eb56",
   "metadata": {
    "scrolled": false,
    "slideshow": {
     "slide_type": "subslide"
    }
   },
   "outputs": [
    {
     "data": {
      "image/png": "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\n",
      "text/plain": [
       "<Figure size 432x288 with 2 Axes>"
      ]
     },
     "metadata": {
      "needs_background": "light"
     },
     "output_type": "display_data"
    }
   ],
   "source": [
    "col_selector = ['Income composition of resources', 'Schooling','Alcohol', 'thinness  1-19 years']\n",
    "subsetX = X_WHO[col_selector]\n",
    "sns.heatmap(subsetX.corr())\n",
    "plt.show()"
   ]
  },
  {
   "cell_type": "markdown",
   "id": "f2fd36a1",
   "metadata": {
    "slideshow": {
     "slide_type": "slide"
    }
   },
   "source": [
    "Let's focus on Schooling and income composite resources (ICR):"
   ]
  },
  {
   "cell_type": "markdown",
   "id": "d44a7f6e",
   "metadata": {
    "slideshow": {
     "slide_type": "fragment"
    }
   },
   "source": [
    "$$ Life= w_1*Alcohol + w_2*Polio + w_3*Schooling + w_4*Measles + w_5*ICR + ... $$"
   ]
  },
  {
   "cell_type": "markdown",
   "id": "c3a70af2",
   "metadata": {
    "cell_style": "split",
    "slideshow": {
     "slide_type": "fragment"
    }
   },
   "source": [
    "Correlation is very high!"
   ]
  },
  {
   "cell_type": "code",
<<<<<<< HEAD
<<<<<<< HEAD
   "execution_count": 14,
   "id": "f78d2fca",
=======
   "execution_count": 4,
=======
   "execution_count": 56,
>>>>>>> 425ca127b44c9b7982a774403ac7808a8ea772c0
   "id": "24ba4dd4",
>>>>>>> 47f601ba3720265181cae36878f70a2e1b622ed7
   "metadata": {
    "cell_style": "split",
    "slideshow": {
     "slide_type": "fragment"
    }
   },
   "outputs": [
    {
     "data": {
      "text/html": [
       "<div>\n",
       "<style scoped>\n",
       "    .dataframe tbody tr th:only-of-type {\n",
       "        vertical-align: middle;\n",
       "    }\n",
       "\n",
       "    .dataframe tbody tr th {\n",
       "        vertical-align: top;\n",
       "    }\n",
       "\n",
       "    .dataframe thead th {\n",
       "        text-align: right;\n",
       "    }\n",
       "</style>\n",
       "<table border=\"1\" class=\"dataframe\">\n",
       "  <thead>\n",
       "    <tr style=\"text-align: right;\">\n",
       "      <th></th>\n",
       "      <th>Income composition of resources</th>\n",
       "      <th>Schooling</th>\n",
       "    </tr>\n",
       "  </thead>\n",
       "  <tbody>\n",
       "    <tr>\n",
       "      <th>Income composition of resources</th>\n",
       "      <td>1.000000</td>\n",
       "      <td>0.800092</td>\n",
       "    </tr>\n",
       "    <tr>\n",
       "      <th>Schooling</th>\n",
       "      <td>0.800092</td>\n",
       "      <td>1.000000</td>\n",
       "    </tr>\n",
       "  </tbody>\n",
       "</table>\n",
       "</div>"
      ],
      "text/plain": [
       "                                 Income composition of resources  Schooling\n",
       "Income composition of resources                         1.000000   0.800092\n",
       "Schooling                                               0.800092   1.000000"
      ]
     },
<<<<<<< HEAD
<<<<<<< HEAD
     "execution_count": 14,
=======
     "execution_count": 4,
>>>>>>> 47f601ba3720265181cae36878f70a2e1b622ed7
=======
     "execution_count": 56,
>>>>>>> 425ca127b44c9b7982a774403ac7808a8ea772c0
     "metadata": {},
     "output_type": "execute_result"
    }
   ],
   "source": [
    "col_selector = ['Income composition of resources', 'Schooling']\n",
    "X_WHO[col_selector].corr()"
   ]
  },
  {
   "cell_type": "markdown",
   "id": "e76f283b",
   "metadata": {
    "cell_style": "split",
    "slideshow": {
     "slide_type": "slide"
    }
   },
   "source": [
    "Our regression: \n",
    "- Y = life expectancy\n",
    "\n",
    "$$ Y - \\sum_{i \\neq 3,5} w_i x_i = w_3 Schooling + w_5 ICR $$"
   ]
  },
  {
   "cell_type": "markdown",
   "id": "4a857843",
   "metadata": {
    "cell_style": "split",
    "slideshow": {
     "slide_type": "fragment"
    }
   },
   "source": [
    "- Schooling and ICR highly related:\n",
    "\n",
    "- Implies that $w_3$ and $w_5$ introduce too much flexibility.\n",
    "- Maybe could fit almost as well with just $w_3$."
   ]
  },
  {
   "cell_type": "markdown",
   "id": "ec6daf7b",
   "metadata": {
    "cell_style": "split",
    "slideshow": {
     "slide_type": "fragment"
    }
   },
   "source": [
    "- $w_3$ and $w_5$ are floppy and can become big in either direction to fit data.\n",
    "- Var[$\\textbf{w}$] from $w_3$ and $w_5$ high."
   ]
  },
  {
   "cell_type": "markdown",
   "id": "fb625c02",
   "metadata": {
    "slideshow": {
     "slide_type": "slide"
    }
   },
   "source": [
    "Modeling data by linear model w/ multicollinear features:\n",
    "- intoduces high weight variance\n",
    "- unnecessary model complexity"
   ]
  },
  {
   "cell_type": "markdown",
   "id": "d647df11",
   "metadata": {
    "slideshow": {
     "slide_type": "slide"
    }
   },
   "source": [
    "These considerations are all nice and theoretical:\n",
    "    \n",
    "- how do we actually assess whether model suffers from bias / variance or both?"
   ]
  },
  {
   "cell_type": "markdown",
   "id": "8b8645f4",
   "metadata": {
    "slideshow": {
     "slide_type": "subslide"
    }
   },
   "source": [
    "#### How to assess model variance: cross-validation"
   ]
  },
  {
   "cell_type": "markdown",
   "id": "cf4cd1ac",
   "metadata": {
    "cell_style": "split",
    "slideshow": {
     "slide_type": "fragment"
    }
   },
   "source": [
    "Could get many different training sets:\n",
    "- Train weights $\\textbf{w}$ for each.\n",
    "- Get variance of $\\textbf{w}$\n"
   ]
  },
  {
   "cell_type": "markdown",
   "id": "5924e888",
   "metadata": {
    "cell_style": "split",
    "slideshow": {
     "slide_type": "fragment"
    }
   },
   "source": [
    "Semi-equivalently:\n",
    "- Test performance of each model on test set.\n",
    "- Evaluate model performance/variance by looking at average/standard deviation of performance on test set."
   ]
  },
  {
   "cell_type": "markdown",
   "id": "ae8b2cbc",
   "metadata": {
    "slideshow": {
     "slide_type": "slide"
    }
   },
   "source": [
    "Problem: \n",
    "- likely don't have this much data available to make enough independent training sets large enough to for each model to train on effectively."
   ]
  },
  {
   "cell_type": "markdown",
   "id": "8af7e5ba",
   "metadata": {
    "slideshow": {
     "slide_type": "slide"
    }
   },
   "source": [
    "#### Solution: Cross validation"
   ]
  },
  {
   "cell_type": "markdown",
   "id": "a39723b5",
   "metadata": {
    "cell_style": "split",
    "slideshow": {
     "slide_type": "fragment"
    }
   },
   "source": [
    "So first we created our train / test split: \n",
    "\n",
    "- the **training set** can be used to develop models\n",
    "- can assess variance of a model and average performance\n"
   ]
  },
  {
   "cell_type": "markdown",
   "id": "6a2f4718",
   "metadata": {
    "cell_style": "split"
   },
   "source": [
    "<img src = \"Images/traintestsplit.png\"  width = 800/>\n",
    "<center> Splitting up training set </center>"
   ]
  },
  {
   "cell_type": "markdown",
   "id": "87ef572c",
   "metadata": {
    "cell_style": "split",
    "slideshow": {
     "slide_type": "fragment"
    }
   },
   "source": [
    "<img src = \"Images/crossval.png\"  width = 800/>\n",
    "<center> Splitting up training set </center>"
   ]
  },
  {
   "cell_type": "markdown",
   "id": "92d58604",
   "metadata": {
    "cell_style": "split",
    "slideshow": {
     "slide_type": "fragment"
    }
   },
   "source": [
    "Split up **training set** into folds:\n",
    "- Training fold\n",
    "- Validation fold"
   ]
  },
  {
   "cell_type": "markdown",
   "id": "25007fda",
   "metadata": {
    "cell_style": "split",
    "slideshow": {
     "slide_type": "fragment"
    }
   },
   "source": [
    "- For each iteration:\n",
    "    - train a model on train fold\n",
    "    - test on validation fold"
   ]
  },
  {
   "cell_type": "markdown",
   "id": "6b1f529c",
   "metadata": {
    "cell_style": "split",
    "slideshow": {
     "slide_type": "slide"
    }
   },
   "source": [
    "<img src = \"Images/crossval.png\"  width = 800/>\n",
    "<center> Splitting up training set </center>"
   ]
  },
  {
   "cell_type": "markdown",
   "id": "1caaf1f5",
   "metadata": {
    "cell_style": "split",
    "slideshow": {
     "slide_type": "fragment"
    }
   },
   "source": [
    "Effectively sampling multiple training sets:\n",
    "- each iteration model trained on different training set.\n",
    "- testing each model performance on different **validation set**.\n",
    "\n"
   ]
  },
  {
   "cell_type": "markdown",
   "id": "23b7cb89",
   "metadata": {
    "cell_style": "split",
    "slideshow": {
     "slide_type": "fragment"
    }
   },
   "source": [
    "- Good for estimating model performance on average\n",
    "- Good for estimating model variance as well."
   ]
  },
  {
   "cell_type": "markdown",
   "id": "bd1ab931",
   "metadata": {
    "cell_style": "split",
    "slideshow": {
     "slide_type": "subslide"
    }
   },
   "source": [
    "So in the end:\n",
    "- Performance metrics measured on validation\n",
    "- We get average performance metric across all the models for each cross validation iteration.\n",
    "- Get variance of performance metric."
   ]
  },
  {
   "cell_type": "markdown",
   "id": "e4897f76",
   "metadata": {
    "cell_style": "split",
    "slideshow": {
     "slide_type": "slide"
    }
   },
   "source": [
    "<img src = \"Images/crossval.png\"  width = 800/>\n",
    "<center> Splitting up training set </center>"
   ]
  },
  {
   "cell_type": "markdown",
   "id": "528197ca",
   "metadata": {
    "cell_style": "center",
    "slideshow": {
     "slide_type": "subslide"
    }
   },
   "source": [
    "Note: **validation set** is part of training set:\n",
    "- Not part of true test/hold-out set."
   ]
  },
  {
   "cell_type": "markdown",
   "id": "f7ac7736",
   "metadata": {
    "slideshow": {
     "slide_type": "fragment"
    }
   },
   "source": [
    "How is validation fold/set different from test set?"
   ]
  },
  {
   "cell_type": "markdown",
   "id": "a2530603",
   "metadata": {
    "cell_style": "split",
    "slideshow": {
     "slide_type": "slide"
    }
   },
   "source": [
    "We are often trying out different model types:\n",
    "- OLS with raw features\n",
    "- OLS with collinear features dropped\n",
    "- OLS with polynomial features\n",
    "- Ridge regressor (will see later)"
   ]
  },
  {
   "cell_type": "markdown",
   "id": "5bb302e4",
   "metadata": {
    "cell_style": "split",
    "slideshow": {
     "slide_type": "fragment"
    }
   },
   "source": [
    "Idea is that we try out different model types / tune models: \n",
    "- assess variance\n",
    "- assess average performance\n",
    "\n",
    "**Use train/validation for this**: \n",
    "- for each model type: estimate model average performance and variance *across different train/validation realizations* "
   ]
  },
  {
   "cell_type": "markdown",
   "id": "7856cf09",
   "metadata": {
    "slideshow": {
     "slide_type": "subslide"
    }
   },
   "source": [
    "<img src = \"Images/cvtuningflow.png\"  width = 800/>\n",
    "<center> Model comparison/selection using cross-validation </center>"
   ]
  },
  {
   "cell_type": "markdown",
   "id": "a6c926b5",
   "metadata": {
    "cell_style": "split",
    "slideshow": {
     "slide_type": "subslide"
    }
   },
   "source": [
    "Selected best model based on:\n",
    "- what worked best on the given validation folds.\n",
    "\n",
    "**Iterative optimization of models based on the train/validation data**"
   ]
  },
  {
   "cell_type": "markdown",
   "id": "a5e2f663",
   "metadata": {
    "cell_style": "split",
    "slideshow": {
     "slide_type": "fragment"
    }
   },
   "source": [
    "Ultimately: \n",
    "\n",
    "- want to evaluate our best model class (found by optimizing over the validation sets) \n",
    "- on data that has neither been trained or validated on"
   ]
  },
  {
   "cell_type": "markdown",
   "id": "9afe2231",
   "metadata": {
    "cell_style": "center",
    "slideshow": {
     "slide_type": "slide"
    }
   },
   "source": [
    "**The true test/hold-out test**: The modeling / tuning process has never seen this data.\n",
    "\n",
    "- Take best model from model iteration/ cross-validation.\n",
    "- Evaluate test performance."
   ]
  },
  {
   "cell_type": "markdown",
   "id": "dac406c5",
   "metadata": {
    "cell_style": "center",
    "slideshow": {
     "slide_type": "slide"
    }
   },
   "source": [
    "\n",
    "<img src = \"Images/test_phase_afterCV.png\"  width = 800/>\n",
    "<center> Best model from cross-validation in test phase</center>"
   ]
  },
  {
   "cell_type": "markdown",
   "id": "9b9d2df1",
   "metadata": {
    "cell_style": "split",
    "slideshow": {
     "slide_type": "slide"
    }
   },
   "source": [
    "Cross validation gives us a way to test statistical robustness of model performance:\n",
    "- evaluate average performance\n",
    "- evaluate model variance"
   ]
  },
  {
   "cell_type": "markdown",
   "id": "04e2e40c",
   "metadata": {
    "cell_style": "split",
    "slideshow": {
     "slide_type": "fragment"
    }
   },
   "source": [
    "But seeing a set of models have high variance:\n",
    "- How to address this problem found in cross-validation trials?\n",
    "- i.e., how do we lower the variance?"
   ]
  },
  {
   "cell_type": "markdown",
   "id": "36e78b0d",
   "metadata": {
    "cell_style": "center",
    "slideshow": {
     "slide_type": "slide"
    }
   },
   "source": [
    "#### Ways to limit/deal with high variance."
   ]
  },
  {
   "cell_type": "markdown",
   "id": "e8610bde",
   "metadata": {
    "cell_style": "split",
    "slideshow": {
     "slide_type": "subslide"
    }
   },
   "source": [
    "- Get more data. With enough training data, even with floppy weights model will do a decent job approximating data."
   ]
  },
  {
   "cell_type": "markdown",
   "id": "e8837a96",
   "metadata": {
    "cell_style": "split",
    "slideshow": {
     "slide_type": "fragment"
    }
   },
   "source": [
    "- Yeah, but often not possible/easy to get enough data for this."
   ]
  },
  {
   "cell_type": "markdown",
   "id": "4cf5469f",
   "metadata": {
    "cell_style": "split",
    "slideshow": {
     "slide_type": "slide"
    }
   },
   "source": [
    "- Get rid of columns that exhibit a high degree of collinearity with other columns."
   ]
  },
  {
   "cell_type": "markdown",
   "id": "0a4e19d1",
   "metadata": {
    "cell_style": "split",
    "slideshow": {
     "slide_type": "fragment"
    }
   },
   "source": [
    "- Yeah, but did we throw out some useful information for prediction? \n",
    "- ICR and schooling not the same thing.\n",
    "- How many of the collinear columns should we throw away? Which ones?"
   ]
  },
  {
   "cell_type": "markdown",
   "id": "71250598",
   "metadata": {
    "slideshow": {
     "slide_type": "subslide"
    }
   },
   "source": [
    "Getting rid of columns like this:\n",
    "- Can lower variance\n",
    "- But can also increase bias in an arbitrary, non-optimal way"
   ]
  },
  {
   "cell_type": "markdown",
   "id": "b0c83800",
   "metadata": {
    "cell_style": "split",
    "slideshow": {
     "slide_type": "slide"
    }
   },
   "source": [
    "- Or we could come up with ways to directly limit the variance through the cost function itself."
   ]
  },
  {
   "cell_type": "markdown",
   "id": "b5926154",
   "metadata": {
    "cell_style": "split",
    "slideshow": {
     "slide_type": "fragment"
    }
   },
   "source": [
    "The hope is that with this method:\n",
    "- decrease variance\n",
    "- without increasing bias too much\n",
    "\n",
    "Doing this in an optimal and principled way."
   ]
  },
  {
   "cell_type": "markdown",
   "id": "14a2abad",
   "metadata": {
    "cell_style": "center",
    "slideshow": {
     "slide_type": "subslide"
    }
   },
   "source": [
    "Let's try this."
   ]
  },
  {
   "cell_type": "markdown",
   "id": "33302ef8",
   "metadata": {
    "slideshow": {
     "slide_type": "slide"
    }
   },
   "source": [
    "#### Regularization for Linear Regression"
   ]
  },
  {
   "cell_type": "markdown",
   "id": "27868aac",
   "metadata": {
    "slideshow": {
     "slide_type": "subslide"
    }
   },
   "source": [
    "Modify our squared error loss function."
   ]
  },
  {
   "cell_type": "markdown",
   "id": "35dc5350",
   "metadata": {
    "slideshow": {
     "slide_type": "fragment"
    }
   },
   "source": [
    "$$ L = |\\textbf{y} - X \\textbf{w}|_2^2 + \\lambda |\\textbf{w}|_2^2 $$\n",
    "\n",
    "with $|\\textbf{w}|_2^2 = w_1^2 + w_2^2 + ... + w_m^2$ as sum of squares of the feature weights.\n",
    "\n",
    "*We'll see why we use the subscript on the norm shortly.*"
   ]
  },
  {
   "cell_type": "markdown",
   "id": "a01b8c27",
   "metadata": {
    "slideshow": {
     "slide_type": "subslide"
    }
   },
   "source": [
    "<img src = \"Images/ridge_regression_geometric.png\" width = 450>"
   ]
  },
  {
   "cell_type": "markdown",
   "id": "86ac0450",
   "metadata": {
    "cell_style": "split",
    "slideshow": {
     "slide_type": "fragment"
    }
   },
   "source": [
    "Tug of war between:\n",
    "\n",
    "Ridge cost: $ \\lambda |\\textbf{w}|_2^2 = \\lambda (w_1^2 + w_2^2)  $\n",
    "- L2 Regularization (Euclidean distance)"
   ]
  },
  {
   "cell_type": "markdown",
   "id": "476ead06",
   "metadata": {
    "cell_style": "split",
    "slideshow": {
     "slide_type": "fragment"
    }
   },
   "source": [
    "Least squares cost: $ |\\textbf{y} - X\\textbf{w}|_2^2 $\n",
    "    "
   ]
  },
  {
   "cell_type": "markdown",
   "id": "15c3a2e3",
   "metadata": {
    "slideshow": {
     "slide_type": "subslide"
    }
   },
   "source": [
    "<img src = \"Images/ridge_regression_geometric.png\" width = 450>"
   ]
  },
  {
   "cell_type": "markdown",
   "id": "52574f39",
   "metadata": {
    "cell_style": "split",
    "slideshow": {
     "slide_type": "fragment"
    }
   },
   "source": [
    "Regularization term penalizes large weights: \n",
    "- **strongly** discourages large fluctuations in $\\textbf{w}$ depending on training set.\n",
    "- i.e. reduces Var[$\\textbf{w}$]\n",
    "- **Can lead to large performance boost on unseen data.**"
   ]
  },
  {
   "cell_type": "markdown",
   "id": "48e73187",
   "metadata": {
    "cell_style": "split",
    "slideshow": {
     "slide_type": "fragment"
    }
   },
   "source": [
    "- the tradeoff: repeating fitting on large number of distinct training sets:\n",
    "    - Average of $\\textbf{w}$ is off from least squares best fit to population"
   ]
  },
  {
   "cell_type": "markdown",
   "id": "fc5078f0",
   "metadata": {
    "cell_style": "center",
    "slideshow": {
     "slide_type": "slide"
    }
   },
   "source": [
    "Our goal is to construct a model with:\n",
    "- as low a bias as possible (gets close to the true $\\textbf{w}$ if we had/fit on the entire population)\n",
    "- as low a *model* variance as possible (spread in $\\textbf{w}$ is low):\n",
    "    - implies $\\textbf{w}$ is tightly clustered\n"
   ]
  },
  {
   "cell_type": "markdown",
   "id": "cd2395c3",
   "metadata": {
    "cell_style": "split",
    "slideshow": {
     "slide_type": "fragment"
    }
   },
   "source": [
    "Idea of Ridge: \n",
    "- Tune $\\lambda$ just right. This is something we input as external parameter to model. **Hyperparameter** \n",
    "- Cluster of $\\textbf{w}$ little off the center of the bullseye\n",
    "- But: tightly clustered."
   ]
  },
  {
   "cell_type": "markdown",
   "id": "a6e2bea8",
   "metadata": {
    "cell_style": "split",
    "slideshow": {
     "slide_type": "fragment"
    }
   },
   "source": [
    "With $\\lambda$ tuned well:\n",
    "\n",
    "- not likely to make generalization errors due to large fluctuation in $\\textbf{w}$\n",
    "- But doesnt shift $\\textbf{w}$ too far from least squares estimate"
   ]
  },
  {
   "cell_type": "markdown",
   "id": "28c0e8d5",
   "metadata": {
    "slideshow": {
     "slide_type": "slide"
    }
   },
   "source": [
    "OK let's do a Ridge regression."
   ]
  },
  {
   "cell_type": "code",
<<<<<<< HEAD
<<<<<<< HEAD
   "execution_count": 15,
   "id": "73b496a9",
=======
   "execution_count": 5,
=======
   "execution_count": 57,
>>>>>>> 425ca127b44c9b7982a774403ac7808a8ea772c0
   "id": "cbca8ef1",
>>>>>>> 47f601ba3720265181cae36878f70a2e1b622ed7
   "metadata": {
    "slideshow": {
     "slide_type": "slide"
    }
   },
   "outputs": [],
   "source": [
    "from sklearn.linear_model import LinearRegression\n",
    "from sklearn.linear_model import Ridge\n",
    "\n",
    "# train test split\n",
    "from sklearn.model_selection import train_test_split\n",
    "\n",
    "# preprocessing\n",
    "from sklearn.preprocessing import OneHotEncoder\n",
    "from sklearn.preprocessing import StandardScaler\n",
    "\n",
    "# model validation: testing model variance with cross validation\n",
    "\n",
    "from sklearn.model_selection import KFold, cross_val_score, cross_validate, ShuffleSplit"
   ]
  },
  {
   "cell_type": "code",
<<<<<<< HEAD
<<<<<<< HEAD
   "execution_count": 16,
   "id": "5dea72b0",
=======
   "execution_count": 6,
=======
   "execution_count": 58,
>>>>>>> 425ca127b44c9b7982a774403ac7808a8ea772c0
   "id": "82e47efe",
>>>>>>> 47f601ba3720265181cae36878f70a2e1b622ed7
   "metadata": {
    "hidden": true,
    "slideshow": {
     "slide_type": "slide"
    }
   },
   "outputs": [],
   "source": [
    "birds = sns.load_dataset('penguins')\n",
    "birds = birds.dropna()"
   ]
  },
  {
   "cell_type": "code",
<<<<<<< HEAD
<<<<<<< HEAD
   "execution_count": 17,
   "id": "894a5a9a",
=======
   "execution_count": 7,
=======
   "execution_count": 59,
>>>>>>> 425ca127b44c9b7982a774403ac7808a8ea772c0
   "id": "df85aabe",
>>>>>>> 47f601ba3720265181cae36878f70a2e1b622ed7
   "metadata": {
    "slideshow": {
     "slide_type": "fragment"
    }
   },
   "outputs": [
    {
     "data": {
      "text/html": [
       "<div>\n",
       "<style scoped>\n",
       "    .dataframe tbody tr th:only-of-type {\n",
       "        vertical-align: middle;\n",
       "    }\n",
       "\n",
       "    .dataframe tbody tr th {\n",
       "        vertical-align: top;\n",
       "    }\n",
       "\n",
       "    .dataframe thead th {\n",
       "        text-align: right;\n",
       "    }\n",
       "</style>\n",
       "<table border=\"1\" class=\"dataframe\">\n",
       "  <thead>\n",
       "    <tr style=\"text-align: right;\">\n",
       "      <th></th>\n",
       "      <th>species</th>\n",
       "      <th>island</th>\n",
       "      <th>bill_length_mm</th>\n",
       "      <th>bill_depth_mm</th>\n",
       "      <th>flipper_length_mm</th>\n",
       "      <th>body_mass_g</th>\n",
       "      <th>sex</th>\n",
       "    </tr>\n",
       "  </thead>\n",
       "  <tbody>\n",
       "    <tr>\n",
       "      <th>0</th>\n",
       "      <td>Adelie</td>\n",
       "      <td>Torgersen</td>\n",
       "      <td>39.1</td>\n",
       "      <td>18.7</td>\n",
       "      <td>181.0</td>\n",
       "      <td>3750.0</td>\n",
       "      <td>Male</td>\n",
       "    </tr>\n",
       "    <tr>\n",
       "      <th>1</th>\n",
       "      <td>Adelie</td>\n",
       "      <td>Torgersen</td>\n",
       "      <td>39.5</td>\n",
       "      <td>17.4</td>\n",
       "      <td>186.0</td>\n",
       "      <td>3800.0</td>\n",
       "      <td>Female</td>\n",
       "    </tr>\n",
       "    <tr>\n",
       "      <th>2</th>\n",
       "      <td>Adelie</td>\n",
       "      <td>Torgersen</td>\n",
       "      <td>40.3</td>\n",
       "      <td>18.0</td>\n",
       "      <td>195.0</td>\n",
       "      <td>3250.0</td>\n",
       "      <td>Female</td>\n",
       "    </tr>\n",
       "    <tr>\n",
       "      <th>4</th>\n",
       "      <td>Adelie</td>\n",
       "      <td>Torgersen</td>\n",
       "      <td>36.7</td>\n",
       "      <td>19.3</td>\n",
       "      <td>193.0</td>\n",
       "      <td>3450.0</td>\n",
       "      <td>Female</td>\n",
       "    </tr>\n",
       "    <tr>\n",
       "      <th>5</th>\n",
       "      <td>Adelie</td>\n",
       "      <td>Torgersen</td>\n",
       "      <td>39.3</td>\n",
       "      <td>20.6</td>\n",
       "      <td>190.0</td>\n",
       "      <td>3650.0</td>\n",
       "      <td>Male</td>\n",
       "    </tr>\n",
       "  </tbody>\n",
       "</table>\n",
       "</div>"
      ],
      "text/plain": [
       "  species     island  bill_length_mm  bill_depth_mm  flipper_length_mm  \\\n",
       "0  Adelie  Torgersen            39.1           18.7              181.0   \n",
       "1  Adelie  Torgersen            39.5           17.4              186.0   \n",
       "2  Adelie  Torgersen            40.3           18.0              195.0   \n",
       "4  Adelie  Torgersen            36.7           19.3              193.0   \n",
       "5  Adelie  Torgersen            39.3           20.6              190.0   \n",
       "\n",
       "   body_mass_g     sex  \n",
       "0       3750.0    Male  \n",
       "1       3800.0  Female  \n",
       "2       3250.0  Female  \n",
       "4       3450.0  Female  \n",
       "5       3650.0    Male  "
      ]
     },
<<<<<<< HEAD
<<<<<<< HEAD
     "execution_count": 17,
=======
     "execution_count": 7,
>>>>>>> 47f601ba3720265181cae36878f70a2e1b622ed7
=======
     "execution_count": 59,
>>>>>>> 425ca127b44c9b7982a774403ac7808a8ea772c0
     "metadata": {},
     "output_type": "execute_result"
    }
   ],
   "source": [
    "birds.head()"
   ]
  },
  {
   "cell_type": "markdown",
   "id": "7dc7b95d",
   "metadata": {
    "slideshow": {
     "slide_type": "slide"
    }
   },
   "source": [
    "Going to use the other features to predict the body mass of a penguin"
   ]
  },
  {
   "cell_type": "code",
<<<<<<< HEAD
<<<<<<< HEAD
   "execution_count": 18,
   "id": "850e9189",
=======
   "execution_count": 8,
=======
   "execution_count": 60,
>>>>>>> 425ca127b44c9b7982a774403ac7808a8ea772c0
   "id": "e099fd4d",
>>>>>>> 47f601ba3720265181cae36878f70a2e1b622ed7
   "metadata": {
    "cell_style": "center",
    "slideshow": {
     "slide_type": "fragment"
    }
   },
   "outputs": [],
   "source": [
    "X = birds.drop('body_mass_g', axis=1)\n",
    "y = birds['body_mass_g']"
   ]
  },
  {
   "cell_type": "code",
<<<<<<< HEAD
<<<<<<< HEAD
   "execution_count": 19,
   "id": "88628f52",
=======
   "execution_count": 9,
=======
   "execution_count": 61,
>>>>>>> 425ca127b44c9b7982a774403ac7808a8ea772c0
   "id": "f02e781c",
>>>>>>> 47f601ba3720265181cae36878f70a2e1b622ed7
   "metadata": {
    "cell_style": "center",
    "slideshow": {
     "slide_type": "fragment"
    }
   },
   "outputs": [],
   "source": [
    "X_train, X_test, y_train, y_test = train_test_split(X ,y, random_state = 42)"
   ]
  },
  {
   "cell_type": "markdown",
   "id": "e8ae4747",
   "metadata": {
    "slideshow": {
     "slide_type": "slide"
    }
   },
   "source": [
    "Let's one-hot encode the nominal categoricals"
   ]
  },
  {
   "cell_type": "code",
<<<<<<< HEAD
<<<<<<< HEAD
   "execution_count": 20,
   "id": "4587f8c7",
=======
   "execution_count": 10,
=======
   "execution_count": 62,
>>>>>>> 425ca127b44c9b7982a774403ac7808a8ea772c0
   "id": "bbd4e29a",
>>>>>>> 47f601ba3720265181cae36878f70a2e1b622ed7
   "metadata": {
    "cell_style": "center",
    "slideshow": {
     "slide_type": "fragment"
    }
   },
   "outputs": [
    {
     "data": {
      "text/html": [
       "<div>\n",
       "<style scoped>\n",
       "    .dataframe tbody tr th:only-of-type {\n",
       "        vertical-align: middle;\n",
       "    }\n",
       "\n",
       "    .dataframe tbody tr th {\n",
       "        vertical-align: top;\n",
       "    }\n",
       "\n",
       "    .dataframe thead th {\n",
       "        text-align: right;\n",
       "    }\n",
       "</style>\n",
       "<table border=\"1\" class=\"dataframe\">\n",
       "  <thead>\n",
       "    <tr style=\"text-align: right;\">\n",
       "      <th></th>\n",
       "      <th>x0_Chinstrap</th>\n",
       "      <th>x0_Gentoo</th>\n",
       "      <th>x1_Dream</th>\n",
       "      <th>x1_Torgersen</th>\n",
       "      <th>x2_Male</th>\n",
       "    </tr>\n",
       "  </thead>\n",
       "  <tbody>\n",
       "    <tr>\n",
       "      <th>321</th>\n",
       "      <td>0.0</td>\n",
       "      <td>1.0</td>\n",
       "      <td>0.0</td>\n",
       "      <td>0.0</td>\n",
       "      <td>1.0</td>\n",
       "    </tr>\n",
       "    <tr>\n",
       "      <th>265</th>\n",
       "      <td>0.0</td>\n",
       "      <td>1.0</td>\n",
       "      <td>0.0</td>\n",
       "      <td>0.0</td>\n",
       "      <td>0.0</td>\n",
       "    </tr>\n",
       "    <tr>\n",
       "      <th>36</th>\n",
       "      <td>0.0</td>\n",
       "      <td>0.0</td>\n",
       "      <td>1.0</td>\n",
       "      <td>0.0</td>\n",
       "      <td>1.0</td>\n",
       "    </tr>\n",
       "    <tr>\n",
       "      <th>308</th>\n",
       "      <td>0.0</td>\n",
       "      <td>1.0</td>\n",
       "      <td>0.0</td>\n",
       "      <td>0.0</td>\n",
       "      <td>0.0</td>\n",
       "    </tr>\n",
       "    <tr>\n",
       "      <th>191</th>\n",
       "      <td>1.0</td>\n",
       "      <td>0.0</td>\n",
       "      <td>1.0</td>\n",
       "      <td>0.0</td>\n",
       "      <td>1.0</td>\n",
       "    </tr>\n",
       "  </tbody>\n",
       "</table>\n",
       "</div>"
      ],
      "text/plain": [
       "     x0_Chinstrap  x0_Gentoo  x1_Dream  x1_Torgersen  x2_Male\n",
       "321           0.0        1.0       0.0           0.0      1.0\n",
       "265           0.0        1.0       0.0           0.0      0.0\n",
       "36            0.0        0.0       1.0           0.0      1.0\n",
       "308           0.0        1.0       0.0           0.0      0.0\n",
       "191           1.0        0.0       1.0           0.0      1.0"
      ]
     },
<<<<<<< HEAD
<<<<<<< HEAD
     "execution_count": 20,
=======
     "execution_count": 10,
>>>>>>> 47f601ba3720265181cae36878f70a2e1b622ed7
=======
     "execution_count": 62,
>>>>>>> 425ca127b44c9b7982a774403ac7808a8ea772c0
     "metadata": {},
     "output_type": "execute_result"
    }
   ],
   "source": [
    "# Taking in other features (category)\n",
    "ohe = OneHotEncoder(drop='first')\n",
    "dummies = ohe.fit_transform(X_train[['species', 'island', 'sex']])\n",
    "\n",
    "# Getting a DF\n",
    "X_train_onehot = pd.DataFrame(dummies.todense(), columns=ohe.get_feature_names(), index=X_train.index)\n",
    "\n",
    "X_train_onehot.head()"
   ]
  },
  {
   "cell_type": "markdown",
   "id": "cf433035",
   "metadata": {
    "slideshow": {
     "slide_type": "slide"
    }
   },
   "source": [
    "Attach this to dataframe with numerical variables"
   ]
  },
  {
   "cell_type": "code",
<<<<<<< HEAD
<<<<<<< HEAD
   "execution_count": 21,
   "id": "badd104b",
=======
   "execution_count": 11,
=======
   "execution_count": 63,
>>>>>>> 425ca127b44c9b7982a774403ac7808a8ea772c0
   "id": "67f8ee37",
>>>>>>> 47f601ba3720265181cae36878f70a2e1b622ed7
   "metadata": {
    "slideshow": {
     "slide_type": "fragment"
    }
   },
   "outputs": [
    {
     "data": {
      "text/html": [
       "<div>\n",
       "<style scoped>\n",
       "    .dataframe tbody tr th:only-of-type {\n",
       "        vertical-align: middle;\n",
       "    }\n",
       "\n",
       "    .dataframe tbody tr th {\n",
       "        vertical-align: top;\n",
       "    }\n",
       "\n",
       "    .dataframe thead th {\n",
       "        text-align: right;\n",
       "    }\n",
       "</style>\n",
       "<table border=\"1\" class=\"dataframe\">\n",
       "  <thead>\n",
       "    <tr style=\"text-align: right;\">\n",
       "      <th></th>\n",
       "      <th>bill_length_mm</th>\n",
       "      <th>bill_depth_mm</th>\n",
       "      <th>flipper_length_mm</th>\n",
       "      <th>x0_Chinstrap</th>\n",
       "      <th>x0_Gentoo</th>\n",
       "      <th>x1_Dream</th>\n",
       "      <th>x1_Torgersen</th>\n",
       "      <th>x2_Male</th>\n",
       "    </tr>\n",
       "  </thead>\n",
       "  <tbody>\n",
       "    <tr>\n",
       "      <th>321</th>\n",
       "      <td>55.9</td>\n",
       "      <td>17.0</td>\n",
       "      <td>228.0</td>\n",
       "      <td>0.0</td>\n",
       "      <td>1.0</td>\n",
       "      <td>0.0</td>\n",
       "      <td>0.0</td>\n",
       "      <td>1.0</td>\n",
       "    </tr>\n",
       "    <tr>\n",
       "      <th>265</th>\n",
       "      <td>43.6</td>\n",
       "      <td>13.9</td>\n",
       "      <td>217.0</td>\n",
       "      <td>0.0</td>\n",
       "      <td>1.0</td>\n",
       "      <td>0.0</td>\n",
       "      <td>0.0</td>\n",
       "      <td>0.0</td>\n",
       "    </tr>\n",
       "    <tr>\n",
       "      <th>36</th>\n",
       "      <td>38.8</td>\n",
       "      <td>20.0</td>\n",
       "      <td>190.0</td>\n",
       "      <td>0.0</td>\n",
       "      <td>0.0</td>\n",
       "      <td>1.0</td>\n",
       "      <td>0.0</td>\n",
       "      <td>1.0</td>\n",
       "    </tr>\n",
       "    <tr>\n",
       "      <th>308</th>\n",
       "      <td>47.5</td>\n",
       "      <td>14.0</td>\n",
       "      <td>212.0</td>\n",
       "      <td>0.0</td>\n",
       "      <td>1.0</td>\n",
       "      <td>0.0</td>\n",
       "      <td>0.0</td>\n",
       "      <td>0.0</td>\n",
       "    </tr>\n",
       "    <tr>\n",
       "      <th>191</th>\n",
       "      <td>53.5</td>\n",
       "      <td>19.9</td>\n",
       "      <td>205.0</td>\n",
       "      <td>1.0</td>\n",
       "      <td>0.0</td>\n",
       "      <td>1.0</td>\n",
       "      <td>0.0</td>\n",
       "      <td>1.0</td>\n",
       "    </tr>\n",
       "  </tbody>\n",
       "</table>\n",
       "</div>"
      ],
      "text/plain": [
       "     bill_length_mm  bill_depth_mm  flipper_length_mm  x0_Chinstrap  \\\n",
       "321            55.9           17.0              228.0           0.0   \n",
       "265            43.6           13.9              217.0           0.0   \n",
       "36             38.8           20.0              190.0           0.0   \n",
       "308            47.5           14.0              212.0           0.0   \n",
       "191            53.5           19.9              205.0           1.0   \n",
       "\n",
       "     x0_Gentoo  x1_Dream  x1_Torgersen  x2_Male  \n",
       "321        1.0       0.0           0.0      1.0  \n",
       "265        1.0       0.0           0.0      0.0  \n",
       "36         0.0       1.0           0.0      1.0  \n",
       "308        1.0       0.0           0.0      0.0  \n",
       "191        0.0       1.0           0.0      1.0  "
      ]
     },
<<<<<<< HEAD
<<<<<<< HEAD
     "execution_count": 21,
=======
     "execution_count": 11,
>>>>>>> 47f601ba3720265181cae36878f70a2e1b622ed7
=======
     "execution_count": 63,
>>>>>>> 425ca127b44c9b7982a774403ac7808a8ea772c0
     "metadata": {},
     "output_type": "execute_result"
    }
   ],
   "source": [
    "X_train_numeric = X_train[['bill_length_mm', 'bill_depth_mm', 'flipper_length_mm']]\n",
    "X_train_df = pd.concat([X_train_numeric, X_train_onehot], axis=1)\n",
    "X_train_df.head()"
   ]
  },
  {
   "cell_type": "markdown",
   "id": "228ebdff",
   "metadata": {
    "slideshow": {
     "slide_type": "slide"
    }
   },
   "source": [
    "We have our training feature matrix:\n",
    "- Apply transformation fit_transformed on train set to test feature matrix."
   ]
  },
  {
   "cell_type": "code",
<<<<<<< HEAD
<<<<<<< HEAD
   "execution_count": 22,
   "id": "670e1553",
=======
   "execution_count": 12,
=======
   "execution_count": 64,
>>>>>>> 425ca127b44c9b7982a774403ac7808a8ea772c0
   "id": "79229562",
>>>>>>> 47f601ba3720265181cae36878f70a2e1b622ed7
   "metadata": {
    "slideshow": {
     "slide_type": "fragment"
    }
   },
   "outputs": [
    {
     "data": {
      "text/html": [
       "<div>\n",
       "<style scoped>\n",
       "    .dataframe tbody tr th:only-of-type {\n",
       "        vertical-align: middle;\n",
       "    }\n",
       "\n",
       "    .dataframe tbody tr th {\n",
       "        vertical-align: top;\n",
       "    }\n",
       "\n",
       "    .dataframe thead th {\n",
       "        text-align: right;\n",
       "    }\n",
       "</style>\n",
       "<table border=\"1\" class=\"dataframe\">\n",
       "  <thead>\n",
       "    <tr style=\"text-align: right;\">\n",
       "      <th></th>\n",
       "      <th>bill_length_mm</th>\n",
       "      <th>bill_depth_mm</th>\n",
       "      <th>flipper_length_mm</th>\n",
       "      <th>x0_Chinstrap</th>\n",
       "      <th>x0_Gentoo</th>\n",
       "      <th>x1_Dream</th>\n",
       "      <th>x1_Torgersen</th>\n",
       "      <th>x2_Male</th>\n",
       "    </tr>\n",
       "  </thead>\n",
       "  <tbody>\n",
       "    <tr>\n",
       "      <th>30</th>\n",
       "      <td>39.5</td>\n",
       "      <td>16.7</td>\n",
       "      <td>178.0</td>\n",
       "      <td>0.0</td>\n",
       "      <td>0.0</td>\n",
       "      <td>1.0</td>\n",
       "      <td>0.0</td>\n",
       "      <td>0.0</td>\n",
       "    </tr>\n",
       "    <tr>\n",
       "      <th>317</th>\n",
       "      <td>46.9</td>\n",
       "      <td>14.6</td>\n",
       "      <td>222.0</td>\n",
       "      <td>0.0</td>\n",
       "      <td>1.0</td>\n",
       "      <td>0.0</td>\n",
       "      <td>0.0</td>\n",
       "      <td>0.0</td>\n",
       "    </tr>\n",
       "    <tr>\n",
       "      <th>79</th>\n",
       "      <td>42.1</td>\n",
       "      <td>19.1</td>\n",
       "      <td>195.0</td>\n",
       "      <td>0.0</td>\n",
       "      <td>0.0</td>\n",
       "      <td>0.0</td>\n",
       "      <td>1.0</td>\n",
       "      <td>1.0</td>\n",
       "    </tr>\n",
       "    <tr>\n",
       "      <th>201</th>\n",
       "      <td>49.8</td>\n",
       "      <td>17.3</td>\n",
       "      <td>198.0</td>\n",
       "      <td>1.0</td>\n",
       "      <td>0.0</td>\n",
       "      <td>1.0</td>\n",
       "      <td>0.0</td>\n",
       "      <td>0.0</td>\n",
       "    </tr>\n",
       "    <tr>\n",
       "      <th>63</th>\n",
       "      <td>41.1</td>\n",
       "      <td>18.2</td>\n",
       "      <td>192.0</td>\n",
       "      <td>0.0</td>\n",
       "      <td>0.0</td>\n",
       "      <td>0.0</td>\n",
       "      <td>0.0</td>\n",
       "      <td>1.0</td>\n",
       "    </tr>\n",
       "  </tbody>\n",
       "</table>\n",
       "</div>"
      ],
      "text/plain": [
       "     bill_length_mm  bill_depth_mm  flipper_length_mm  x0_Chinstrap  \\\n",
       "30             39.5           16.7              178.0           0.0   \n",
       "317            46.9           14.6              222.0           0.0   \n",
       "79             42.1           19.1              195.0           0.0   \n",
       "201            49.8           17.3              198.0           1.0   \n",
       "63             41.1           18.2              192.0           0.0   \n",
       "\n",
       "     x0_Gentoo  x1_Dream  x1_Torgersen  x2_Male  \n",
       "30         0.0       1.0           0.0      0.0  \n",
       "317        1.0       0.0           0.0      0.0  \n",
       "79         0.0       0.0           1.0      1.0  \n",
       "201        0.0       1.0           0.0      0.0  \n",
       "63         0.0       0.0           0.0      1.0  "
      ]
     },
<<<<<<< HEAD
<<<<<<< HEAD
     "execution_count": 22,
=======
     "execution_count": 12,
>>>>>>> 47f601ba3720265181cae36878f70a2e1b622ed7
=======
     "execution_count": 64,
>>>>>>> 425ca127b44c9b7982a774403ac7808a8ea772c0
     "metadata": {},
     "output_type": "execute_result"
    }
   ],
   "source": [
    "test_dummies = ohe.transform(X_test[['species', 'island', 'sex']])\n",
    "test_df = pd.DataFrame(test_dummies.todense(), columns=ohe.get_feature_names(),\n",
    "                       index=X_test.index)\n",
    "X_test_df = pd.concat([X_test[['bill_length_mm', 'bill_depth_mm',\n",
    "                              'flipper_length_mm']], test_df], axis=1)\n",
    "X_test_df.head()"
   ]
  },
  {
   "cell_type": "code",
<<<<<<< HEAD
<<<<<<< HEAD
   "execution_count": 23,
   "id": "088428fe",
=======
   "execution_count": 13,
=======
   "execution_count": 65,
>>>>>>> 425ca127b44c9b7982a774403ac7808a8ea772c0
   "id": "f8a171ff",
>>>>>>> 47f601ba3720265181cae36878f70a2e1b622ed7
   "metadata": {
    "slideshow": {
     "slide_type": "subslide"
    }
   },
   "outputs": [
    {
     "data": {
      "text/plain": [
       "LinearRegression()"
      ]
     },
<<<<<<< HEAD
<<<<<<< HEAD
     "execution_count": 23,
=======
     "execution_count": 13,
>>>>>>> 47f601ba3720265181cae36878f70a2e1b622ed7
=======
     "execution_count": 65,
>>>>>>> 425ca127b44c9b7982a774403ac7808a8ea772c0
     "metadata": {},
     "output_type": "execute_result"
    }
   ],
   "source": [
    "lr1 = LinearRegression()\n",
    "lr1.fit(X_train_df, y_train)"
   ]
  },
  {
   "cell_type": "code",
<<<<<<< HEAD
<<<<<<< HEAD
   "execution_count": 24,
   "id": "5dfb25b2",
=======
   "execution_count": 14,
=======
   "execution_count": 66,
>>>>>>> 425ca127b44c9b7982a774403ac7808a8ea772c0
   "id": "74b82f9b",
>>>>>>> 47f601ba3720265181cae36878f70a2e1b622ed7
   "metadata": {
    "scrolled": true,
    "slideshow": {
     "slide_type": "fragment"
    }
   },
   "outputs": [
    {
     "data": {
      "text/plain": [
       "0.8688983108974327"
      ]
     },
<<<<<<< HEAD
<<<<<<< HEAD
     "execution_count": 24,
=======
     "execution_count": 14,
>>>>>>> 47f601ba3720265181cae36878f70a2e1b622ed7
=======
     "execution_count": 66,
>>>>>>> 425ca127b44c9b7982a774403ac7808a8ea772c0
     "metadata": {},
     "output_type": "execute_result"
    }
   ],
   "source": [
    "lr1.score(X_train_df, y_train)"
   ]
  },
  {
   "cell_type": "code",
<<<<<<< HEAD
<<<<<<< HEAD
   "execution_count": 25,
   "id": "5d9a3780",
=======
   "execution_count": 15,
=======
   "execution_count": 67,
>>>>>>> 425ca127b44c9b7982a774403ac7808a8ea772c0
   "id": "39bec397",
>>>>>>> 47f601ba3720265181cae36878f70a2e1b622ed7
   "metadata": {},
   "outputs": [
    {
     "data": {
      "text/plain": [
       "253.98121177477847"
      ]
     },
<<<<<<< HEAD
<<<<<<< HEAD
     "execution_count": 25,
=======
     "execution_count": 15,
>>>>>>> 47f601ba3720265181cae36878f70a2e1b622ed7
=======
     "execution_count": 67,
>>>>>>> 425ca127b44c9b7982a774403ac7808a8ea772c0
     "metadata": {},
     "output_type": "execute_result"
    }
   ],
   "source": [
    "from sklearn.metrics import mean_squared_error\n",
    "y_pred = lr1.predict(X_test_df)\n",
    "np.sqrt(mean_squared_error(y_pred, y_test))"
   ]
  },
  {
   "cell_type": "markdown",
   "id": "3806a35e",
   "metadata": {
    "slideshow": {
     "slide_type": "slide"
    }
   },
   "source": [
    "Wow that's a good $R^2$ value!\n",
    "\n",
    "- Estimate how we are doing on unseen data with cross validation."
   ]
  },
  {
   "cell_type": "code",
<<<<<<< HEAD
<<<<<<< HEAD
   "execution_count": 26,
   "id": "cf82bc12",
=======
   "execution_count": 16,
=======
   "execution_count": 68,
>>>>>>> 425ca127b44c9b7982a774403ac7808a8ea772c0
   "id": "b967516d",
>>>>>>> 47f601ba3720265181cae36878f70a2e1b622ed7
   "metadata": {
    "slideshow": {
     "slide_type": "fragment"
    }
   },
   "outputs": [],
   "source": [
    "cv_results = cross_validate(X=X_train_df, y=y_train, estimator=lr1, cv=10, scoring=('r2', 'neg_mean_squared_error'),\n",
    "                return_train_score=True\n",
    ")"
   ]
  },
  {
   "cell_type": "markdown",
   "id": "970899fd",
   "metadata": {
    "slideshow": {
     "slide_type": "slide"
    }
   },
   "source": [
    "How well model explains training fold data in each iteration cross validation:"
   ]
  },
  {
   "cell_type": "code",
   "execution_count": 27,
   "id": "89dfce4b",
   "metadata": {
    "slideshow": {
     "slide_type": "fragment"
    }
   },
   "outputs": [
    {
     "data": {
      "text/plain": [
       "array([0.86804859, 0.87184762, 0.86639447, 0.86902092, 0.86919768,\n",
       "       0.86625747, 0.86680671, 0.8768277 , 0.869645  , 0.86906114])"
      ]
     },
     "execution_count": 27,
     "metadata": {},
     "output_type": "execute_result"
    }
   ],
   "source": [
    "train_res = cv_results['train_r2']\n",
    "train_res"
   ]
  },
  {
   "cell_type": "markdown",
   "id": "100d0b67",
   "metadata": {
    "slideshow": {
     "slide_type": "slide"
    }
   },
   "source": [
    "It's fitting well each time in the 10 iterations."
   ]
  },
  {
   "cell_type": "markdown",
   "id": "a1e48483",
   "metadata": {
    "slideshow": {
     "slide_type": "subslide"
    }
   },
   "source": [
    "How does the validation look?"
   ]
  },
  {
   "cell_type": "code",
   "execution_count": 28,
   "id": "ec4b7eee",
   "metadata": {
    "cell_style": "split",
    "slideshow": {
     "slide_type": "fragment"
    }
   },
   "outputs": [
    {
     "data": {
      "text/plain": [
       "array([0.86092305, 0.68845759, 0.88730555, 0.85315477, 0.85555065,\n",
       "       0.88779582, 0.87796788, 0.71839192, 0.85080305, 0.86263277])"
      ]
     },
     "execution_count": 28,
     "metadata": {},
     "output_type": "execute_result"
    }
   ],
   "source": [
    "test_res = cv_results['test_r2']\n",
    "test_res"
   ]
  },
  {
   "cell_type": "code",
   "execution_count": 29,
   "id": "f71db768",
   "metadata": {
    "cell_style": "split",
    "slideshow": {
     "slide_type": "fragment"
    }
   },
   "outputs": [
    {
     "data": {
      "text/plain": [
       "0.8342983053829108"
      ]
     },
     "execution_count": 29,
     "metadata": {},
     "output_type": "execute_result"
    }
   ],
   "source": [
    "test_res.mean()"
   ]
  },
  {
   "cell_type": "code",
   "execution_count": 30,
   "id": "f18b74e8",
   "metadata": {
    "cell_style": "split",
    "slideshow": {
     "slide_type": "fragment"
    }
   },
   "outputs": [
    {
     "data": {
      "text/plain": [
       "0.0706115684406586"
      ]
     },
     "execution_count": 30,
     "metadata": {},
     "output_type": "execute_result"
    }
   ],
   "source": [
    "test_res.std(ddof = 1)"
   ]
  },
  {
   "cell_type": "markdown",
   "id": "91ecad9b",
   "metadata": {
    "slideshow": {
     "slide_type": "slide"
    }
   },
   "source": [
    "Good average test performance and relatively low variance."
   ]
  },
  {
   "cell_type": "code",
<<<<<<< HEAD
<<<<<<< HEAD
   "execution_count": 31,
   "id": "4b8bf0e3",
=======
   "execution_count": 17,
=======
   "execution_count": 73,
>>>>>>> 425ca127b44c9b7982a774403ac7808a8ea772c0
   "id": "b2038f5d",
>>>>>>> 47f601ba3720265181cae36878f70a2e1b622ed7
   "metadata": {
    "cell_style": "center",
    "slideshow": {
     "slide_type": "subslide"
    }
   },
   "outputs": [
    {
     "data": {
      "text/plain": [
       "array([294.39902869, 295.54794956, 295.83205215, 287.46270287,\n",
       "       298.1599986 , 295.74918118, 293.40476336, 291.7275227 ,\n",
       "       290.82138953, 292.37523149])"
      ]
     },
<<<<<<< HEAD
<<<<<<< HEAD
     "execution_count": 31,
=======
     "execution_count": 17,
>>>>>>> 47f601ba3720265181cae36878f70a2e1b622ed7
=======
     "execution_count": 73,
>>>>>>> 425ca127b44c9b7982a774403ac7808a8ea772c0
     "metadata": {},
     "output_type": "execute_result"
    }
   ],
   "source": [
    "RMSE_train = np.sqrt(np.abs(cv_results['train_neg_mean_squared_error']))\n",
    "RMSE_train"
   ]
  },
  {
   "cell_type": "code",
<<<<<<< HEAD
<<<<<<< HEAD
   "execution_count": 32,
   "id": "0d363db8",
=======
   "execution_count": 18,
=======
   "execution_count": 74,
>>>>>>> 425ca127b44c9b7982a774403ac7808a8ea772c0
   "id": "b62a855a",
>>>>>>> 47f601ba3720265181cae36878f70a2e1b622ed7
   "metadata": {
    "cell_style": "split",
    "slideshow": {
     "slide_type": "fragment"
    }
   },
   "outputs": [
    {
     "data": {
      "text/plain": [
       "293.54798201361626"
      ]
     },
<<<<<<< HEAD
<<<<<<< HEAD
     "execution_count": 32,
=======
     "execution_count": 18,
>>>>>>> 47f601ba3720265181cae36878f70a2e1b622ed7
=======
     "execution_count": 74,
>>>>>>> 425ca127b44c9b7982a774403ac7808a8ea772c0
     "metadata": {},
     "output_type": "execute_result"
    }
   ],
   "source": [
    "RMSE_train.mean()"
   ]
  },
  {
   "cell_type": "code",
   "execution_count": 33,
   "id": "c8255f8a",
   "metadata": {
    "cell_style": "split",
    "slideshow": {
     "slide_type": "fragment"
    }
   },
   "outputs": [
    {
     "data": {
      "text/plain": [
       "2.91945128523961"
      ]
     },
     "execution_count": 33,
     "metadata": {},
     "output_type": "execute_result"
    }
   ],
   "source": [
    "RMSE_train.std()"
   ]
  },
  {
   "cell_type": "code",
   "execution_count": 34,
   "id": "a57f0b39",
   "metadata": {
    "cell_style": "center",
    "slideshow": {
     "slide_type": "subslide"
    }
   },
   "outputs": [
    {
     "data": {
      "text/plain": [
       "array([297.90893127, 291.59992285, 281.7832529 , 358.30773939,\n",
       "       260.32367156, 281.50266999, 309.16756673, 319.73503557,\n",
       "       331.38649842, 316.03365957])"
      ]
     },
     "execution_count": 34,
     "metadata": {},
     "output_type": "execute_result"
    }
   ],
   "source": [
    "RMSE_test = np.sqrt(np.abs(cv_results['test_neg_mean_squared_error']))\n",
    "RMSE_test"
   ]
  },
  {
   "cell_type": "markdown",
   "id": "2517eb95",
   "metadata": {
    "cell_style": "split",
    "slideshow": {
     "slide_type": "fragment"
    }
   },
   "source": [
    "Clearly larger average RMSE and variance of RMSE in the test set. But still pretty decent."
   ]
  },
  {
   "cell_type": "code",
   "execution_count": 35,
   "id": "87e14da6",
   "metadata": {
    "cell_style": "split",
    "slideshow": {
     "slide_type": "fragment"
    }
   },
   "outputs": [
    {
     "data": {
      "text/plain": [
       "304.77489482634076"
      ]
     },
     "execution_count": 35,
     "metadata": {},
     "output_type": "execute_result"
    }
   ],
   "source": [
    "RMSE_test.mean()"
   ]
  },
  {
   "cell_type": "code",
   "execution_count": 36,
   "id": "45767cf9",
   "metadata": {
    "cell_style": "split",
    "slideshow": {
     "slide_type": "fragment"
    }
   },
   "outputs": [
    {
     "data": {
      "text/plain": [
       "28.30517952679398"
      ]
     },
     "execution_count": 36,
     "metadata": {},
     "output_type": "execute_result"
    }
   ],
   "source": [
    "RMSE_test.std(ddof = 1)"
   ]
  },
  {
   "cell_type": "markdown",
   "id": "7e03369d",
   "metadata": {
    "cell_style": "center",
    "slideshow": {
     "slide_type": "slide"
    }
   },
   "source": [
    "But...I'm a greedy man.\n",
    "\n",
    "I want to do better than this. \n",
    "- I'm going to add some polynomials to get a more complex model."
   ]
  },
  {
   "cell_type": "markdown",
   "id": "123fe02a",
   "metadata": {
    "slideshow": {
     "slide_type": "subslide"
    }
   },
   "source": [
    "My motivation:\n",
    "    \n",
    "- More complex model = better able to capture more complex relationships between mass and other variables.\n",
    "- Better prediction."
   ]
  },
  {
   "cell_type": "markdown",
   "id": "052d9b22",
   "metadata": {
    "slideshow": {
     "slide_type": "slide"
    }
   },
   "source": [
    "#### Adding model complexity"
   ]
  },
  {
   "cell_type": "code",
<<<<<<< HEAD
<<<<<<< HEAD
   "execution_count": 37,
   "id": "848707f6",
=======
   "execution_count": 19,
=======
   "execution_count": 83,
>>>>>>> 425ca127b44c9b7982a774403ac7808a8ea772c0
   "id": "6b555934",
>>>>>>> 47f601ba3720265181cae36878f70a2e1b622ed7
   "metadata": {},
   "outputs": [],
   "source": [
    "from sklearn.preprocessing import PolynomialFeatures"
   ]
  },
  {
   "cell_type": "code",
<<<<<<< HEAD
<<<<<<< HEAD
   "execution_count": 38,
   "id": "8fd7ab0a",
=======
   "execution_count": 20,
=======
   "execution_count": 90,
>>>>>>> 425ca127b44c9b7982a774403ac7808a8ea772c0
   "id": "a2c2b759",
>>>>>>> 47f601ba3720265181cae36878f70a2e1b622ed7
   "metadata": {
    "slideshow": {
     "slide_type": "fragment"
    }
   },
   "outputs": [],
   "source": [
    "pf = PolynomialFeatures(degree=3)\n",
    "X_poly_train = pd.DataFrame(pf.fit_transform(X_train_df))\n",
    "\n",
    "y_train.to_csv('X_penguin.csv')"
   ]
  },
  {
   "cell_type": "code",
<<<<<<< HEAD
<<<<<<< HEAD
   "execution_count": 39,
   "id": "84941799",
=======
   "execution_count": 21,
=======
   "execution_count": 564,
>>>>>>> 425ca127b44c9b7982a774403ac7808a8ea772c0
   "id": "bc2492b8",
>>>>>>> 47f601ba3720265181cae36878f70a2e1b622ed7
   "metadata": {
    "slideshow": {
     "slide_type": "fragment"
    }
   },
   "outputs": [],
   "source": [
    "X_poly_test = pf.transform(X_test_df)"
   ]
  },
  {
   "cell_type": "code",
<<<<<<< HEAD
<<<<<<< HEAD
   "execution_count": 40,
   "id": "d238fa59",
=======
   "execution_count": 22,
=======
   "execution_count": 565,
>>>>>>> 425ca127b44c9b7982a774403ac7808a8ea772c0
   "id": "bfdce38e",
>>>>>>> 47f601ba3720265181cae36878f70a2e1b622ed7
   "metadata": {
    "cell_style": "split",
    "slideshow": {
     "slide_type": "fragment"
    }
   },
   "outputs": [
    {
     "data": {
      "text/plain": [
       "(249, 8)"
      ]
     },
<<<<<<< HEAD
<<<<<<< HEAD
     "execution_count": 40,
=======
     "execution_count": 22,
>>>>>>> 47f601ba3720265181cae36878f70a2e1b622ed7
=======
     "execution_count": 565,
>>>>>>> 425ca127b44c9b7982a774403ac7808a8ea772c0
     "metadata": {},
     "output_type": "execute_result"
    }
   ],
   "source": [
    "X_train_df.shape"
   ]
  },
  {
   "cell_type": "code",
<<<<<<< HEAD
<<<<<<< HEAD
   "execution_count": 41,
   "id": "ee013b61",
=======
   "execution_count": 23,
=======
   "execution_count": 566,
>>>>>>> 425ca127b44c9b7982a774403ac7808a8ea772c0
   "id": "9b6ac70f",
>>>>>>> 47f601ba3720265181cae36878f70a2e1b622ed7
   "metadata": {
    "cell_style": "split",
    "slideshow": {
     "slide_type": "fragment"
    }
   },
   "outputs": [
    {
     "data": {
      "text/plain": [
       "(249, 165)"
      ]
     },
<<<<<<< HEAD
<<<<<<< HEAD
     "execution_count": 41,
=======
     "execution_count": 23,
>>>>>>> 47f601ba3720265181cae36878f70a2e1b622ed7
=======
     "execution_count": 566,
>>>>>>> 425ca127b44c9b7982a774403ac7808a8ea772c0
     "metadata": {},
     "output_type": "execute_result"
    }
   ],
   "source": [
    "X_poly_train.shape"
   ]
  },
  {
   "cell_type": "code",
<<<<<<< HEAD
<<<<<<< HEAD
   "execution_count": 42,
   "id": "e89f8aaf",
=======
   "execution_count": 25,
=======
   "execution_count": 567,
>>>>>>> 425ca127b44c9b7982a774403ac7808a8ea772c0
   "id": "6e56ebaa",
>>>>>>> 47f601ba3720265181cae36878f70a2e1b622ed7
   "metadata": {
    "slideshow": {
     "slide_type": "slide"
    }
   },
   "outputs": [
    {
     "data": {
      "text/plain": [
       "LinearRegression()"
      ]
     },
<<<<<<< HEAD
<<<<<<< HEAD
     "execution_count": 42,
=======
     "execution_count": 25,
>>>>>>> 47f601ba3720265181cae36878f70a2e1b622ed7
=======
     "execution_count": 567,
>>>>>>> 425ca127b44c9b7982a774403ac7808a8ea772c0
     "metadata": {},
     "output_type": "execute_result"
    }
   ],
   "source": [
    "poly_lr = LinearRegression()\n",
    "poly_lr.fit(X_poly_train, y_train)"
   ]
  },
  {
   "cell_type": "code",
<<<<<<< HEAD
<<<<<<< HEAD
   "execution_count": 43,
   "id": "be96ac5c",
=======
   "execution_count": 26,
=======
   "execution_count": 568,
>>>>>>> 425ca127b44c9b7982a774403ac7808a8ea772c0
   "id": "5f4423ed",
>>>>>>> 47f601ba3720265181cae36878f70a2e1b622ed7
   "metadata": {
    "cell_style": "split",
    "slideshow": {
     "slide_type": "fragment"
    }
   },
   "outputs": [
    {
     "data": {
      "text/plain": [
       "0.8929837697042633"
      ]
     },
<<<<<<< HEAD
<<<<<<< HEAD
     "execution_count": 43,
=======
     "execution_count": 26,
>>>>>>> 47f601ba3720265181cae36878f70a2e1b622ed7
=======
     "execution_count": 568,
>>>>>>> 425ca127b44c9b7982a774403ac7808a8ea772c0
     "metadata": {},
     "output_type": "execute_result"
    }
   ],
   "source": [
    "poly_lr.score(X_poly_train, y_train)"
   ]
  },
  {
   "cell_type": "code",
<<<<<<< HEAD
<<<<<<< HEAD
   "execution_count": 44,
   "id": "2dca89db",
=======
   "execution_count": 27,
=======
   "execution_count": 406,
>>>>>>> 425ca127b44c9b7982a774403ac7808a8ea772c0
   "id": "68f53de1",
>>>>>>> 47f601ba3720265181cae36878f70a2e1b622ed7
   "metadata": {
    "cell_style": "split",
    "slideshow": {
     "slide_type": "fragment"
    }
   },
   "outputs": [
    {
     "data": {
      "text/plain": [
       "0.8688983108974327"
      ]
     },
<<<<<<< HEAD
<<<<<<< HEAD
     "execution_count": 44,
=======
     "execution_count": 27,
>>>>>>> 47f601ba3720265181cae36878f70a2e1b622ed7
=======
     "execution_count": 406,
>>>>>>> 425ca127b44c9b7982a774403ac7808a8ea772c0
     "metadata": {},
     "output_type": "execute_result"
    }
   ],
   "source": [
    "lr1.score(X_train_df, y_train)"
   ]
  },
  {
   "cell_type": "markdown",
   "id": "18511a2d",
   "metadata": {
    "slideshow": {
     "slide_type": "slide"
    }
   },
   "source": [
    "About a 3% improvement: \n",
    "- that could mean money in other contexts."
   ]
  },
  {
   "cell_type": "code",
<<<<<<< HEAD
<<<<<<< HEAD
   "execution_count": 45,
   "id": "87c31f0e",
=======
   "execution_count": 28,
=======
   "execution_count": 571,
>>>>>>> 425ca127b44c9b7982a774403ac7808a8ea772c0
   "id": "2b6b2724",
>>>>>>> 47f601ba3720265181cae36878f70a2e1b622ed7
   "metadata": {
    "slideshow": {
     "slide_type": "subslide"
    }
   },
   "outputs": [],
   "source": [
    "poly_cv_results = cross_validate(\n",
    "                X=X_poly_train, \n",
    "                y=y_train,\n",
    "                estimator=poly_lr, \n",
    "                cv=10,\n",
    "                scoring=('r2', 'neg_mean_squared_error'),\n",
    "                return_train_score=True\n",
    ")"
   ]
  },
  {
   "cell_type": "code",
<<<<<<< HEAD
<<<<<<< HEAD
   "execution_count": 46,
   "id": "a69cb7ca",
=======
   "execution_count": 30,
=======
   "execution_count": 572,
>>>>>>> 425ca127b44c9b7982a774403ac7808a8ea772c0
   "id": "12e3720c",
>>>>>>> 47f601ba3720265181cae36878f70a2e1b622ed7
   "metadata": {
    "slideshow": {
     "slide_type": "subslide"
    }
   },
   "outputs": [
    {
     "data": {
      "text/plain": [
       "array([0.86804859, 0.87184762, 0.86639447, 0.86902092, 0.86919768,\n",
       "       0.86625747, 0.86680671, 0.8768277 , 0.869645  , 0.86906114])"
      ]
     },
<<<<<<< HEAD
<<<<<<< HEAD
     "execution_count": 46,
=======
     "execution_count": 30,
>>>>>>> 47f601ba3720265181cae36878f70a2e1b622ed7
=======
     "execution_count": 572,
>>>>>>> 425ca127b44c9b7982a774403ac7808a8ea772c0
     "metadata": {},
     "output_type": "execute_result"
    }
   ],
   "source": [
    "poly_train_res = poly_cv_results['train_r2']\n",
    "train_res"
   ]
  },
  {
   "cell_type": "code",
<<<<<<< HEAD
<<<<<<< HEAD
   "execution_count": 47,
   "id": "c28e3cf1",
=======
   "execution_count": 31,
=======
   "execution_count": 573,
>>>>>>> 425ca127b44c9b7982a774403ac7808a8ea772c0
   "id": "fde2e53a",
>>>>>>> 47f601ba3720265181cae36878f70a2e1b622ed7
   "metadata": {
    "cell_style": "split",
    "slideshow": {
     "slide_type": "fragment"
    }
   },
   "outputs": [
    {
     "data": {
      "text/plain": [
       "0.8719073616110793"
      ]
     },
<<<<<<< HEAD
<<<<<<< HEAD
     "execution_count": 47,
=======
     "execution_count": 31,
>>>>>>> 47f601ba3720265181cae36878f70a2e1b622ed7
=======
     "execution_count": 573,
>>>>>>> 425ca127b44c9b7982a774403ac7808a8ea772c0
     "metadata": {},
     "output_type": "execute_result"
    }
   ],
   "source": [
    "poly_train_res.mean()"
   ]
  },
  {
   "cell_type": "code",
<<<<<<< HEAD
<<<<<<< HEAD
   "execution_count": 48,
   "id": "df84d044",
=======
   "execution_count": 32,
=======
   "execution_count": 574,
>>>>>>> 425ca127b44c9b7982a774403ac7808a8ea772c0
   "id": "e346fc76",
>>>>>>> 47f601ba3720265181cae36878f70a2e1b622ed7
   "metadata": {
    "cell_style": "split",
    "slideshow": {
     "slide_type": "fragment"
    }
   },
   "outputs": [
    {
     "data": {
      "text/plain": [
       "0.03638068060374389"
      ]
     },
<<<<<<< HEAD
<<<<<<< HEAD
     "execution_count": 48,
=======
     "execution_count": 32,
>>>>>>> 47f601ba3720265181cae36878f70a2e1b622ed7
=======
     "execution_count": 574,
>>>>>>> 425ca127b44c9b7982a774403ac7808a8ea772c0
     "metadata": {},
     "output_type": "execute_result"
    }
   ],
   "source": [
    "poly_train_res.std(ddof =1)"
   ]
  },
  {
   "cell_type": "markdown",
   "id": "a4b8145b",
   "metadata": {
    "slideshow": {
     "slide_type": "subslide"
    }
   },
   "source": [
    "Wow...I'm ready to brag to my boss.\n",
    "\n",
    "- But let's check the performance on the validation folds."
   ]
  },
  {
   "cell_type": "code",
<<<<<<< HEAD
<<<<<<< HEAD
   "execution_count": 50,
   "id": "a17c2d15",
=======
   "execution_count": 35,
=======
   "execution_count": 575,
>>>>>>> 425ca127b44c9b7982a774403ac7808a8ea772c0
   "id": "513a58fa",
>>>>>>> 47f601ba3720265181cae36878f70a2e1b622ed7
   "metadata": {
    "cell_style": "center",
    "slideshow": {
     "slide_type": "subslide"
    }
   },
   "outputs": [
    {
     "data": {
      "text/plain": [
       "array([ 0.58415863, -0.98181982,  0.57883744,  0.67200793,  0.13603473,\n",
       "        0.51348525,  0.11073327,  0.17470119,  0.81904845,  0.56611469])"
      ]
     },
<<<<<<< HEAD
<<<<<<< HEAD
     "execution_count": 50,
=======
     "execution_count": 35,
>>>>>>> 47f601ba3720265181cae36878f70a2e1b622ed7
=======
     "execution_count": 575,
>>>>>>> 425ca127b44c9b7982a774403ac7808a8ea772c0
     "metadata": {},
     "output_type": "execute_result"
    }
   ],
   "source": [
    "poly_valid_res = poly_cv_results['test_r2']\n",
    "valid_res"
   ]
  },
  {
   "cell_type": "code",
   "execution_count": 51,
   "id": "82352c88",
   "metadata": {
    "cell_style": "split",
    "slideshow": {
     "slide_type": "fragment"
    }
   },
   "outputs": [
    {
     "data": {
      "text/plain": [
       "0.3173301767269026"
      ]
     },
     "execution_count": 51,
     "metadata": {},
     "output_type": "execute_result"
    }
   ],
   "source": [
    "poly_valid_res.mean()"
   ]
  },
  {
   "cell_type": "code",
   "execution_count": 52,
   "id": "032af908",
   "metadata": {
    "cell_style": "split",
    "slideshow": {
     "slide_type": "fragment"
    }
   },
   "outputs": [
    {
     "data": {
      "text/plain": [
       "0.49001587855061146"
      ]
     },
     "execution_count": 52,
     "metadata": {},
     "output_type": "execute_result"
    }
   ],
   "source": [
    "poly_valid_res.std()"
   ]
  },
  {
   "cell_type": "code",
<<<<<<< HEAD
<<<<<<< HEAD
   "execution_count": 53,
   "id": "25b160ca",
=======
   "execution_count": 36,
=======
   "execution_count": 578,
>>>>>>> 425ca127b44c9b7982a774403ac7808a8ea772c0
   "id": "265c2d92",
>>>>>>> 47f601ba3720265181cae36878f70a2e1b622ed7
   "metadata": {
    "cell_style": "center",
    "slideshow": {
     "slide_type": "subslide"
    }
   },
   "outputs": [
    {
     "data": {
      "text/plain": [
       "array([515.13349603, 735.46312669, 544.73941531, 535.49810021,\n",
       "       636.65477826, 586.17326249, 834.5894231 , 547.36027849,\n",
       "       364.95221001, 561.66743462])"
      ]
     },
<<<<<<< HEAD
<<<<<<< HEAD
     "execution_count": 53,
=======
     "execution_count": 36,
>>>>>>> 47f601ba3720265181cae36878f70a2e1b622ed7
=======
     "execution_count": 578,
>>>>>>> 425ca127b44c9b7982a774403ac7808a8ea772c0
     "metadata": {},
     "output_type": "execute_result"
    }
   ],
   "source": [
    "RMSE_polytest = np.sqrt(np.abs(poly_cv_results['test_neg_mean_squared_error']))\n",
    "RMSE_polytest"
   ]
  },
  {
   "cell_type": "code",
<<<<<<< HEAD
<<<<<<< HEAD
   "execution_count": 54,
   "id": "409deff0",
=======
   "execution_count": 37,
=======
   "execution_count": 579,
>>>>>>> 425ca127b44c9b7982a774403ac7808a8ea772c0
   "id": "44768992",
>>>>>>> 47f601ba3720265181cae36878f70a2e1b622ed7
   "metadata": {
    "cell_style": "split",
    "slideshow": {
     "slide_type": "fragment"
    }
   },
   "outputs": [
    {
     "data": {
      "text/plain": [
       "586.2231525211769"
      ]
     },
<<<<<<< HEAD
<<<<<<< HEAD
     "execution_count": 54,
=======
     "execution_count": 37,
>>>>>>> 47f601ba3720265181cae36878f70a2e1b622ed7
=======
     "execution_count": 579,
>>>>>>> 425ca127b44c9b7982a774403ac7808a8ea772c0
     "metadata": {},
     "output_type": "execute_result"
    }
   ],
   "source": [
    "RMSE_polytest.mean()"
   ]
  },
  {
   "cell_type": "code",
<<<<<<< HEAD
<<<<<<< HEAD
   "execution_count": 56,
   "id": "0a1a2114",
=======
   "execution_count": 38,
=======
   "execution_count": 580,
>>>>>>> 425ca127b44c9b7982a774403ac7808a8ea772c0
   "id": "8e35df06",
>>>>>>> 47f601ba3720265181cae36878f70a2e1b622ed7
   "metadata": {
    "cell_style": "split",
    "slideshow": {
     "slide_type": "fragment"
    }
   },
   "outputs": [
    {
     "data": {
      "text/plain": [
       "127.76868531351114"
      ]
     },
<<<<<<< HEAD
<<<<<<< HEAD
     "execution_count": 56,
=======
     "execution_count": 38,
>>>>>>> 47f601ba3720265181cae36878f70a2e1b622ed7
=======
     "execution_count": 580,
>>>>>>> 425ca127b44c9b7982a774403ac7808a8ea772c0
     "metadata": {},
     "output_type": "execute_result"
    }
   ],
   "source": [
    "RMSE_polytest.std(ddof=1)"
   ]
  },
  {
   "cell_type": "markdown",
   "id": "1772b6f7",
   "metadata": {
    "slideshow": {
     "slide_type": "subslide"
    }
   },
   "source": [
    "<center><img src = \"Images/punch_chuck_norris.gif\" width = 400/></center>\n",
    "<center>You just got punched in the face by the bias-variance problem.</center>"
   ]
  },
  {
   "cell_type": "markdown",
   "id": "f3bae1de",
   "metadata": {
    "cell_style": "center",
    "slideshow": {
     "slide_type": "slide"
    }
   },
   "source": [
    "Fit an overly complex model:\n",
    "- Doesn't generalize well."
   ]
  },
  {
   "cell_type": "markdown",
   "id": "85fe0b36",
   "metadata": {
    "slideshow": {
     "slide_type": "slide"
    }
   },
   "source": [
    "Let's try regularizing polynomial model:\n",
    "$$ L = |\\textbf{y} - X \\textbf{w}|_2^2 + \\lambda |\\textbf{w}|_2^2 $$"
   ]
  },
  {
   "cell_type": "markdown",
   "id": "c5a708c1",
   "metadata": {
    "cell_style": "split",
    "slideshow": {
     "slide_type": "fragment"
    }
   },
   "source": [
    "\n",
    "- reduce the floppiness/complexity of model\n",
    "- but still keep *some* of the complexity added by these polynomial features."
   ]
  },
  {
   "cell_type": "markdown",
   "id": "142f8341",
   "metadata": {
    "cell_style": "split",
    "slideshow": {
     "slide_type": "fragment"
    }
   },
   "source": [
    "- Reduce Var[$\\textbf{w}$].\n",
    "- Get model predictions more representative of population."
   ]
  },
  {
   "cell_type": "code",
<<<<<<< HEAD
<<<<<<< HEAD
   "execution_count": 57,
   "id": "3abf0895",
=======
   "execution_count": 40,
=======
   "execution_count": 582,
>>>>>>> 425ca127b44c9b7982a774403ac7808a8ea772c0
   "id": "186734db",
>>>>>>> 47f601ba3720265181cae36878f70a2e1b622ed7
   "metadata": {
    "hidden": true,
    "slideshow": {
     "slide_type": "slide"
    }
   },
   "outputs": [],
   "source": [
    "ss = StandardScaler()\n",
    "pf = PolynomialFeatures(degree=3)\n",
    "\n",
    "# You should always be sure to _standardize_ your data before\n",
    "# applying regularization!\n",
    "\n",
    "X_train_processed = pf.fit_transform(ss.fit_transform(X_train_df))\n",
    "X_test_processed = pf.transform(ss.transform(X_test_df))"
   ]
  },
  {
   "cell_type": "markdown",
   "id": "6097a667",
   "metadata": {
    "slideshow": {
     "slide_type": "slide"
    }
   },
   "source": [
    "Absolutely need to standardize/normalize features:"
   ]
  },
  {
   "cell_type": "markdown",
   "id": "409204d2",
   "metadata": {
    "slideshow": {
     "slide_type": "fragment"
    }
   },
   "source": [
    " $$ L = |\\textbf{y} - X \\textbf{w}|_2^2 + \\lambda |\\textbf{w}|_2^2 $$"
   ]
  },
  {
   "cell_type": "markdown",
   "id": "d1f23f85",
   "metadata": {
    "slideshow": {
     "slide_type": "fragment"
    }
   },
   "source": [
    "L2 regularization cost function makes no sense otherwise. \n",
    "- Weights will be on different scales if features not normalized."
   ]
  },
  {
   "cell_type": "code",
<<<<<<< HEAD
<<<<<<< HEAD
   "execution_count": 58,
   "id": "7a7a346b",
=======
   "execution_count": 41,
=======
   "execution_count": 583,
>>>>>>> 425ca127b44c9b7982a774403ac7808a8ea772c0
   "id": "9240df57",
>>>>>>> 47f601ba3720265181cae36878f70a2e1b622ed7
   "metadata": {
    "cell_style": "center",
    "slideshow": {
     "slide_type": "slide"
    }
   },
   "outputs": [
    {
     "data": {
      "text/plain": [
       "Ridge(alpha=100, random_state=42)"
      ]
     },
<<<<<<< HEAD
<<<<<<< HEAD
     "execution_count": 58,
=======
     "execution_count": 41,
>>>>>>> 47f601ba3720265181cae36878f70a2e1b622ed7
=======
     "execution_count": 583,
>>>>>>> 425ca127b44c9b7982a774403ac7808a8ea772c0
     "metadata": {},
     "output_type": "execute_result"
    }
   ],
   "source": [
    "# 'Lambda' is the standard variable for the strength of the\n",
    "# regularization (as in the above formulas), but since lambda\n",
    "# is a key word in Python, these sklearn regularization tools\n",
    "# use 'alpha' instead.\n",
    "\n",
    "rr = Ridge(alpha=100, random_state=42)\n",
    "\n",
    "rr.fit(X_train_processed, y_train)"
   ]
  },
  {
   "cell_type": "code",
<<<<<<< HEAD
<<<<<<< HEAD
   "execution_count": 59,
   "id": "4816af9c",
=======
   "execution_count": 42,
=======
   "execution_count": 584,
>>>>>>> 425ca127b44c9b7982a774403ac7808a8ea772c0
   "id": "4897904a",
>>>>>>> 47f601ba3720265181cae36878f70a2e1b622ed7
   "metadata": {
    "cell_style": "split",
    "slideshow": {
     "slide_type": "fragment"
    }
   },
   "outputs": [
    {
     "data": {
      "text/plain": [
       "0.8858195769398121"
      ]
     },
<<<<<<< HEAD
<<<<<<< HEAD
     "execution_count": 59,
=======
     "execution_count": 42,
>>>>>>> 47f601ba3720265181cae36878f70a2e1b622ed7
=======
     "execution_count": 584,
>>>>>>> 425ca127b44c9b7982a774403ac7808a8ea772c0
     "metadata": {},
     "output_type": "execute_result"
    }
   ],
   "source": [
    "rr.score(X_train_processed, y_train)"
   ]
  },
  {
   "cell_type": "code",
<<<<<<< HEAD
<<<<<<< HEAD
   "execution_count": 60,
   "id": "5022407d",
=======
   "execution_count": 43,
=======
   "execution_count": 585,
>>>>>>> 425ca127b44c9b7982a774403ac7808a8ea772c0
   "id": "39bc1c8a",
>>>>>>> 47f601ba3720265181cae36878f70a2e1b622ed7
   "metadata": {
    "cell_style": "split",
    "slideshow": {
     "slide_type": "fragment"
    }
   },
   "outputs": [
    {
     "data": {
      "text/plain": [
       "0.8688983108974327"
      ]
     },
<<<<<<< HEAD
<<<<<<< HEAD
     "execution_count": 60,
=======
     "execution_count": 43,
>>>>>>> 47f601ba3720265181cae36878f70a2e1b622ed7
=======
     "execution_count": 585,
>>>>>>> 425ca127b44c9b7982a774403ac7808a8ea772c0
     "metadata": {},
     "output_type": "execute_result"
    }
   ],
   "source": [
    "lr1.score(X_train_df, y_train)"
   ]
  },
  {
   "cell_type": "markdown",
   "id": "070d8198",
   "metadata": {
    "slideshow": {
     "slide_type": "slide"
    }
   },
   "source": [
    "Let' s cross validate this."
   ]
  },
  {
   "cell_type": "code",
<<<<<<< HEAD
<<<<<<< HEAD
   "execution_count": 61,
   "id": "11ba78dd",
=======
   "execution_count": 44,
=======
   "execution_count": 587,
>>>>>>> 425ca127b44c9b7982a774403ac7808a8ea772c0
   "id": "fcaf4315",
>>>>>>> 47f601ba3720265181cae36878f70a2e1b622ed7
   "metadata": {
    "slideshow": {
     "slide_type": "fragment"
    }
   },
   "outputs": [],
   "source": [
    "rr_cv_results = cross_validate(\n",
    "                X=X_train_processed, \n",
    "                y=y_train,\n",
    "                estimator=rr, \n",
    "                cv=10,\n",
    "                scoring=('r2', 'neg_mean_squared_error'),\n",
    "                return_train_score=True\n",
    ")"
   ]
  },
  {
   "cell_type": "markdown",
   "id": "995e6dc9",
   "metadata": {
    "slideshow": {
     "slide_type": "slide"
    }
   },
   "source": [
    "Get $R^2$ on train folds of cross validation trials:"
   ]
  },
  {
   "cell_type": "code",
<<<<<<< HEAD
<<<<<<< HEAD
   "execution_count": 62,
   "id": "8d9128ef",
=======
   "execution_count": 45,
=======
   "execution_count": 588,
>>>>>>> 425ca127b44c9b7982a774403ac7808a8ea772c0
   "id": "58f7d719",
>>>>>>> 47f601ba3720265181cae36878f70a2e1b622ed7
   "metadata": {
    "slideshow": {
     "slide_type": "fragment"
    }
   },
   "outputs": [
    {
     "data": {
      "text/plain": [
       "array([0.88768944, 0.886945  , 0.88701008, 0.88207217, 0.88887472,\n",
       "       0.8843449 , 0.88600675, 0.88848898, 0.88421626, 0.88539415])"
      ]
     },
<<<<<<< HEAD
<<<<<<< HEAD
     "execution_count": 62,
=======
     "execution_count": 45,
>>>>>>> 47f601ba3720265181cae36878f70a2e1b622ed7
=======
     "execution_count": 588,
>>>>>>> 425ca127b44c9b7982a774403ac7808a8ea772c0
     "metadata": {},
     "output_type": "execute_result"
    }
   ],
   "source": [
    "rr_cv_results['train_r2']"
   ]
  },
  {
   "cell_type": "markdown",
   "id": "ceb45927",
   "metadata": {
    "slideshow": {
     "slide_type": "slide"
    }
   },
   "source": [
    "Get $R^2$ on validation folds of cross validation trials:"
   ]
  },
  {
   "cell_type": "code",
   "execution_count": 63,
   "id": "07245a67",
   "metadata": {
    "slideshow": {
     "slide_type": "subslide"
    }
   },
   "outputs": [
    {
     "data": {
      "text/plain": [
       "array([0.83317242, 0.75269689, 0.86749677, 0.86884944, 0.8153149 ,\n",
       "       0.88686033, 0.85418436, 0.79593331, 0.86108265, 0.86365454])"
      ]
     },
     "execution_count": 63,
     "metadata": {},
     "output_type": "execute_result"
    }
   ],
   "source": [
    "rr_cv_results['test_r2']"
   ]
  },
  {
   "cell_type": "code",
   "execution_count": 64,
   "id": "0308def7",
   "metadata": {
    "cell_style": "split",
    "slideshow": {
     "slide_type": "fragment"
    }
   },
   "outputs": [
    {
     "data": {
      "text/plain": [
       "0.8399245628148447"
      ]
     },
     "execution_count": 64,
     "metadata": {},
     "output_type": "execute_result"
    }
   ],
   "source": [
    "rr_cv_results['test_r2'].mean()"
   ]
  },
  {
   "cell_type": "code",
   "execution_count": 65,
   "id": "b2142ab8",
   "metadata": {
    "cell_style": "split",
    "slideshow": {
     "slide_type": "fragment"
    }
   },
   "outputs": [
    {
     "data": {
      "text/plain": [
       "0.04110837045192142"
      ]
     },
     "execution_count": 65,
     "metadata": {},
     "output_type": "execute_result"
    }
   ],
   "source": [
    "rr_cv_results['test_r2'].std(ddof = 1)"
   ]
  },
  {
   "cell_type": "code",
   "execution_count": 66,
   "id": "5d5f593c",
   "metadata": {
    "slideshow": {
     "slide_type": "slide"
    }
   },
   "outputs": [
    {
     "data": {
      "text/plain": [
       "array([326.27955651, 259.80266776, 305.54638793, 338.61900856,\n",
       "       294.35524921, 282.67372802, 337.95502919, 272.1784423 ,\n",
       "       319.76658789, 314.85610328])"
      ]
     },
     "execution_count": 66,
     "metadata": {},
     "output_type": "execute_result"
    }
   ],
   "source": [
    "RMSE_rrtest = np.sqrt(np.abs(rr_cv_results['test_neg_mean_squared_error']))\n",
    "RMSE_rrtest"
   ]
  },
  {
   "cell_type": "code",
   "execution_count": 67,
   "id": "958e287a",
   "metadata": {
    "cell_style": "split",
    "slideshow": {
     "slide_type": "fragment"
    }
   },
   "outputs": [
    {
     "data": {
      "text/plain": [
       "305.2032760650944"
      ]
     },
     "execution_count": 67,
     "metadata": {},
     "output_type": "execute_result"
    }
   ],
   "source": [
    "RMSE_rrtest.mean()"
   ]
  },
  {
   "cell_type": "code",
   "execution_count": 68,
   "id": "79de1898",
   "metadata": {
    "cell_style": "split",
    "slideshow": {
     "slide_type": "fragment"
    }
   },
   "outputs": [
    {
     "data": {
      "text/plain": [
       "25.91524273441403"
      ]
     },
     "execution_count": 68,
     "metadata": {},
     "output_type": "execute_result"
    }
   ],
   "source": [
    "RMSE_rrtest.std()"
   ]
  },
  {
   "cell_type": "markdown",
   "id": "41f004bc",
   "metadata": {
    "cell_style": "split",
    "slideshow": {
     "slide_type": "slide"
    }
   },
   "source": [
    "L2 regularized polynomial model:\n",
    "- A little bit worse than my basic linear model.\n",
    "- Much much better than the un-regularized polynomial model."
   ]
  },
  {
   "cell_type": "markdown",
   "id": "7da40bee",
   "metadata": {
    "cell_style": "split",
    "slideshow": {
     "slide_type": "fragment"
    }
   },
   "source": [
    "Could I do better? Possibly.\n",
    "\n",
    "- Tune hyperparameter $\\lambda$."
   ]
  },
  {
   "cell_type": "markdown",
   "id": "5d164964",
   "metadata": {
    "cell_style": "split",
    "slideshow": {
     "slide_type": "slide"
    }
   },
   "source": [
    "#### Tuning hyperparameters\n",
    "\n",
    "- Don't know what $\\lambda$ will allow model to perform best on validation sets.\n",
    "- Need to tune this."
   ]
  },
  {
   "cell_type": "markdown",
   "id": "9164435b",
   "metadata": {
    "cell_style": "split",
    "slideshow": {
     "slide_type": "fragment"
    }
   },
   "source": [
    "- Adjust model stiffness/regularization parameter\n",
    "- Assess model performance in validation testing."
   ]
  },
  {
   "cell_type": "markdown",
   "id": "dd4a2d86",
   "metadata": {
    "slideshow": {
     "slide_type": "slide"
    }
   },
   "source": [
    "#### The most basic hyperparameter tuning method:"
   ]
  },
  {
   "cell_type": "markdown",
   "id": "725b5a81",
   "metadata": {
    "slideshow": {
     "slide_type": "subslide"
    }
   },
   "source": [
    "Make a loop:"
   ]
  },
  {
   "cell_type": "code",
<<<<<<< HEAD
<<<<<<< HEAD
   "execution_count": 69,
   "id": "3ba00340",
=======
   "execution_count": 46,
=======
   "execution_count": 594,
>>>>>>> 425ca127b44c9b7982a774403ac7808a8ea772c0
   "id": "2bc79f54",
>>>>>>> 47f601ba3720265181cae36878f70a2e1b622ed7
   "metadata": {
    "cell_style": "center",
    "slideshow": {
     "slide_type": "subslide"
    }
   },
   "outputs": [],
   "source": [
    "alphas = [1e-3, 1e-2, 1e-1, 1, 10, 100, 1e3, 1e4]\n",
    "cv_scores = []\n",
    "\n",
    "for alpha in alphas:\n",
    "    rr = Ridge(alpha=alpha, random_state=42)\n",
    "    cv_loop_results = cross_validate(\n",
    "                X=X_train_processed, \n",
    "                y=y_train,\n",
    "                estimator=rr, \n",
    "                cv=10,\n",
    "                scoring=('neg_mean_squared_error'))\n",
    "    cv_scores.append(np.mean(np.sqrt(np.abs(cv_loop_results['test_score']))))"
   ]
  },
  {
   "cell_type": "code",
<<<<<<< HEAD
<<<<<<< HEAD
   "execution_count": 70,
   "id": "a772a269",
=======
   "execution_count": 47,
=======
   "execution_count": 595,
>>>>>>> 425ca127b44c9b7982a774403ac7808a8ea772c0
   "id": "1e0ad821",
>>>>>>> 47f601ba3720265181cae36878f70a2e1b622ed7
   "metadata": {
    "scrolled": true,
    "slideshow": {
     "slide_type": "subslide"
    }
   },
   "outputs": [
    {
     "data": {
<<<<<<< HEAD
<<<<<<< HEAD
      "image/png": "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\n",
=======
      "image/png": "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\n",
>>>>>>> 47f601ba3720265181cae36878f70a2e1b622ed7
=======
      "image/png": "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\n",
>>>>>>> 425ca127b44c9b7982a774403ac7808a8ea772c0
      "text/plain": [
       "<Figure size 432x288 with 1 Axes>"
      ]
     },
     "metadata": {
      "needs_background": "light"
     },
     "output_type": "display_data"
    }
   ],
   "source": [
    "fig, ax = plt.subplots()\n",
    "sns.lineplot(x = np.log10(alphas), y = cv_scores, marker = 's', ax = ax)\n",
    "ax.set_xlabel('Log(lambda)')\n",
    "ax.set_ylabel('Mean RMSE')\n",
    "ax.set_title('RMSE averaged on validation folds')\n",
    "plt.show()"
   ]
  },
  {
   "cell_type": "markdown",
   "id": "535ea80b",
   "metadata": {
    "slideshow": {
     "slide_type": "fragment"
    }
   },
   "source": [
    "Could fine tune:\n",
    "- But of hyperparameter values tried $\\lambda = 100$ is best."
   ]
  },
  {
   "cell_type": "markdown",
   "id": "79d07b06",
   "metadata": {
    "slideshow": {
     "slide_type": "slide"
    }
   },
   "source": [
    "Now we *finally* report results on the true test set:\n",
    "- We have not fit / optimized on it.\n",
    "- Have not tuned hyperparameters to see how well it performs on validation folds.\n",
    "\n",
    "**Test/hold-out set is our true final gold standard**"
   ]
  },
  {
   "cell_type": "code",
<<<<<<< HEAD
<<<<<<< HEAD
   "execution_count": 71,
   "id": "5aab7393",
=======
   "execution_count": 49,
=======
   "execution_count": 596,
>>>>>>> 425ca127b44c9b7982a774403ac7808a8ea772c0
   "id": "aba9d2b6",
>>>>>>> 47f601ba3720265181cae36878f70a2e1b622ed7
   "metadata": {
    "slideshow": {
     "slide_type": "subslide"
    }
   },
   "outputs": [
    {
     "data": {
      "text/plain": [
       "Ridge(alpha=100, random_state=42)"
      ]
     },
<<<<<<< HEAD
<<<<<<< HEAD
     "execution_count": 71,
=======
     "execution_count": 49,
>>>>>>> 47f601ba3720265181cae36878f70a2e1b622ed7
=======
     "execution_count": 596,
>>>>>>> 425ca127b44c9b7982a774403ac7808a8ea772c0
     "metadata": {},
     "output_type": "execute_result"
    }
   ],
   "source": [
    "rr = Ridge(alpha = 100, random_state = 42)\n",
    "rr.fit(X_train_processed, y_train)"
   ]
  },
  {
   "cell_type": "code",
<<<<<<< HEAD
<<<<<<< HEAD
   "execution_count": 72,
   "id": "0b11ae56",
=======
   "execution_count": 50,
=======
   "execution_count": 597,
>>>>>>> 425ca127b44c9b7982a774403ac7808a8ea772c0
   "id": "a5ea6a91",
>>>>>>> 47f601ba3720265181cae36878f70a2e1b622ed7
   "metadata": {
    "cell_style": "center",
    "slideshow": {
     "slide_type": "fragment"
    }
   },
   "outputs": [],
   "source": [
    "y_pred = rr.predict(X_test_processed)"
   ]
  },
  {
   "cell_type": "code",
<<<<<<< HEAD
<<<<<<< HEAD
   "execution_count": 73,
   "id": "d806fbbd",
=======
   "execution_count": 51,
=======
   "execution_count": 598,
>>>>>>> 425ca127b44c9b7982a774403ac7808a8ea772c0
   "id": "c3fac083",
>>>>>>> 47f601ba3720265181cae36878f70a2e1b622ed7
   "metadata": {
    "cell_style": "split",
    "slideshow": {
     "slide_type": "subslide"
    }
   },
   "outputs": [
    {
     "data": {
      "text/plain": [
       "265.44225908366553"
      ]
     },
<<<<<<< HEAD
<<<<<<< HEAD
     "execution_count": 73,
=======
     "execution_count": 51,
>>>>>>> 47f601ba3720265181cae36878f70a2e1b622ed7
=======
     "execution_count": 598,
>>>>>>> 425ca127b44c9b7982a774403ac7808a8ea772c0
     "metadata": {},
     "output_type": "execute_result"
    }
   ],
   "source": [
    "from sklearn.metrics import mean_squared_error\n",
    "ridge_RMSE_holdout = np.sqrt(mean_squared_error(y_pred, y_test))\n",
    "ridge_RMSE_holdout"
   ]
  },
  {
   "cell_type": "markdown",
   "id": "5e53d2e0",
   "metadata": {
    "cell_style": "split",
    "slideshow": {
     "slide_type": "fragment"
    }
   },
   "source": [
    "Given the scale of the penguin body mass (g): this is good."
   ]
  },
  {
   "cell_type": "code",
   "execution_count": 74,
   "id": "1b88e2a8",
   "metadata": {
    "cell_style": "split",
    "slideshow": {
     "slide_type": "fragment"
    }
   },
   "outputs": [
    {
     "data": {
      "text/plain": [
       "<AxesSubplot:xlabel='body_mass_g', ylabel='Count'>"
      ]
     },
     "execution_count": 74,
     "metadata": {},
     "output_type": "execute_result"
    },
    {
     "data": {
      "image/png": "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\n",
      "text/plain": [
       "<Figure size 432x288 with 1 Axes>"
      ]
     },
     "metadata": {
      "needs_background": "light"
     },
     "output_type": "display_data"
    }
   ],
   "source": [
    "sns.histplot(y)"
   ]
  },
  {
   "cell_type": "markdown",
   "id": "d05cfbc9",
   "metadata": {
    "slideshow": {
     "slide_type": "slide"
    }
   },
   "source": [
    "#### Takeaways of what we just did"
   ]
  },
  {
   "cell_type": "markdown",
   "id": "7910ee6c",
   "metadata": {
    "slideshow": {
     "slide_type": "subslide"
    }
   },
   "source": [
    "- Polynomial model: poor prediction performance.\n",
    "- L2 regularized the polynomial regression model (Ridge regression) + tuning\n",
    "- **Much** better test performance than unregularized polynomial model."
   ]
  },
  {
   "cell_type": "markdown",
   "id": "0b603b9a",
   "metadata": {
    "cell_style": "split",
    "slideshow": {
     "slide_type": "fragment"
    }
   },
   "source": [
    "But:\n",
    "    \n",
    "- Our simple linear model with no polynomial worked well.\n",
    "- Almost as well as polynomial features\n",
    "- Think carefully before adding model complexity."
   ]
  },
  {
   "cell_type": "markdown",
   "id": "337d4a77",
   "metadata": {
    "cell_style": "split",
    "slideshow": {
     "slide_type": "fragment"
    }
   },
   "source": [
    "A simple model with less number of good quality predictive features may work as well if not better."
   ]
  },
  {
   "cell_type": "markdown",
   "id": "8a34ce93",
   "metadata": {
    "slideshow": {
     "slide_type": "subslide"
    }
   },
   "source": [
    "Logical extension:\n",
    "- Features that are correlated but don't want to throw them away.\n",
    "- L2 regularized linear model + tuning:\n",
    "    - don't throw out features.\n",
    "    - get better test performance than OLS by reducing weight variance.\n"
   ]
  },
  {
   "cell_type": "markdown",
   "id": "c395fc93",
   "metadata": {
    "slideshow": {
     "slide_type": "subslide"
    }
   },
   "source": [
    "Sometimes though: throwing away features might work better:\n",
    "- Learn good features only with high predictive power\n",
    "- Chuck the rest."
   ]
  },
  {
   "cell_type": "markdown",
   "id": "59e716f9",
   "metadata": {
    "slideshow": {
     "slide_type": "slide"
    }
   },
   "source": [
    "#### L1 Regularization (LASSO)"
   ]
  },
  {
   "cell_type": "markdown",
   "id": "d2900810",
   "metadata": {
    "slideshow": {
     "slide_type": "subslide"
    }
   },
   "source": [
    "$$ L = |\\textbf{y} - X \\textbf{w}|_2^2 + \\lambda |\\textbf{w}|_1 $$\n",
    "\n",
    "with $|\\textbf{w}|_1 = |w_1| + |w_2| + ... + |w_m|$ as sum of absolute magnitude of the feature weights."
   ]
  },
  {
   "cell_type": "markdown",
   "id": "2188e936",
   "metadata": {
    "slideshow": {
     "slide_type": "slide"
    }
   },
   "source": [
    "Taxi cab vs Euclidean distance:"
   ]
  },
  {
   "cell_type": "markdown",
   "id": "c4583648",
   "metadata": {
    "slideshow": {
     "slide_type": "subslide"
    }
   },
   "source": [
    "<img src = \"Images/metrics.png\" width = 450/>"
   ]
  },
  {
   "cell_type": "markdown",
   "id": "200927d9",
   "metadata": {
    "cell_style": "split",
    "slideshow": {
     "slide_type": "slide"
    }
   },
   "source": [
    "Circle in terms of L2 vs L1 distance:"
   ]
  },
  {
   "cell_type": "markdown",
   "id": "c180b27f",
   "metadata": {
    "cell_style": "split",
    "slideshow": {
     "slide_type": "fragment"
    }
   },
   "source": [
    "\"Circle\" in L1:\n",
    "<img src = \"Images/taxcabgeometry.jpg\" width = 400/>"
   ]
  },
  {
   "cell_type": "markdown",
   "id": "d77ae659",
   "metadata": {
    "cell_style": "split",
    "slideshow": {
     "slide_type": "slide"
    }
   },
   "source": [
    "General $L^p$ norm:\n",
    "\n",
    "$$ |\\textbf{w}|_P =  \\sqrt[p]{|w_1|^p + |w_2|^p + ... + |w_m|^p} $$"
   ]
  },
  {
   "cell_type": "markdown",
   "id": "680d0d7b",
   "metadata": {
    "cell_style": "split",
    "slideshow": {
     "slide_type": "fragment"
    }
   },
   "source": [
    "\"Circles\" for different metrics\n",
    "\n",
    "<img src = \"Images/circles.png\" width = 400/>"
   ]
  },
  {
   "cell_type": "markdown",
   "id": "d94f7808",
   "metadata": {
    "slideshow": {
     "slide_type": "slide"
    }
   },
   "source": [
    "Why use the L1 magnitude $|\\textbf{w}|_1$ for regularization?"
   ]
  },
  {
   "cell_type": "markdown",
   "id": "869214e5",
   "metadata": {
    "slideshow": {
     "slide_type": "subslide"
    }
   },
   "source": [
    "LASSO encourages model weight sparsity: \n",
    "- prefers to drive weights $w_i$ for features with little predictive power to 0."
   ]
  },
  {
   "cell_type": "markdown",
   "id": "c4c72d9d",
   "metadata": {
    "slideshow": {
     "slide_type": "fragment"
    }
   },
   "source": [
    "<img src = \"Images/different_metric_regularization.png\" width = 600 />"
   ]
  },
  {
   "cell_type": "markdown",
   "id": "c08261bc",
   "metadata": {
    "slideshow": {
     "slide_type": "slide"
    }
   },
   "source": [
    "Perform LASSO regression with scikit-learn:"
   ]
  },
  {
   "cell_type": "markdown",
   "id": "b9a124c8",
   "metadata": {
    "slideshow": {
     "slide_type": "slide"
    }
   },
   "source": [
    "with a general cost function:"
   ]
  },
  {
   "cell_type": "code",
<<<<<<< HEAD
<<<<<<< HEAD
   "execution_count": 75,
   "id": "8cb6a5ca",
=======
   "execution_count": 52,
=======
   "execution_count": 599,
>>>>>>> 425ca127b44c9b7982a774403ac7808a8ea772c0
   "id": "9b05e734",
>>>>>>> 47f601ba3720265181cae36878f70a2e1b622ed7
   "metadata": {
    "slideshow": {
     "slide_type": "fragment"
    }
   },
   "outputs": [],
   "source": [
    "from sklearn.linear_model import Lasso"
   ]
  },
  {
   "cell_type": "markdown",
   "id": "b9d8c511",
   "metadata": {
    "slideshow": {
     "slide_type": "slide"
    }
   },
   "source": [
    "Find the best LASSO model: tune regularization hyperparameter."
   ]
  },
  {
   "cell_type": "code",
<<<<<<< HEAD
<<<<<<< HEAD
   "execution_count": 76,
   "id": "d23adce6",
=======
   "execution_count": 58,
=======
   "execution_count": 601,
>>>>>>> 425ca127b44c9b7982a774403ac7808a8ea772c0
   "id": "d8b9aa65",
>>>>>>> 47f601ba3720265181cae36878f70a2e1b622ed7
   "metadata": {
    "slideshow": {
     "slide_type": "subslide"
    }
   },
   "outputs": [],
   "source": [
    "alphas = [1, 10, 100, 1e3, 1e4]\n",
    "cv_lasso_scores = []\n",
    "\n",
    "for alpha in alphas:\n",
    "    lasso = Lasso(alpha=alpha, random_state=42, max_iter = 10000)\n",
    "    cv_loop_results = cross_validate(\n",
    "                X=X_train_processed, \n",
    "                y=y_train,\n",
    "                estimator=lasso, \n",
    "                cv=10,\n",
    "                scoring=('neg_mean_squared_error'))\n",
    "    cv_lasso_scores.append(np.mean(np.sqrt(np.abs(cv_loop_results['test_score']))))"
   ]
  },
  {
   "cell_type": "code",
<<<<<<< HEAD
<<<<<<< HEAD
   "execution_count": 77,
   "id": "ec815bbc",
=======
   "execution_count": 59,
=======
   "execution_count": 602,
>>>>>>> 425ca127b44c9b7982a774403ac7808a8ea772c0
   "id": "87ac7411",
>>>>>>> 47f601ba3720265181cae36878f70a2e1b622ed7
   "metadata": {
    "cell_style": "split",
    "slideshow": {
     "slide_type": "fragment"
    }
   },
   "outputs": [
    {
     "data": {
      "text/plain": [
       "[1, 10, 100, 1000.0, 10000.0]"
      ]
     },
<<<<<<< HEAD
<<<<<<< HEAD
     "execution_count": 77,
=======
     "execution_count": 59,
>>>>>>> 47f601ba3720265181cae36878f70a2e1b622ed7
=======
     "execution_count": 602,
>>>>>>> 425ca127b44c9b7982a774403ac7808a8ea772c0
     "metadata": {},
     "output_type": "execute_result"
    }
   ],
   "source": [
    "alphas"
   ]
  },
  {
   "cell_type": "code",
<<<<<<< HEAD
<<<<<<< HEAD
   "execution_count": 78,
   "id": "845ebbbe",
=======
   "execution_count": 60,
=======
   "execution_count": 603,
>>>>>>> 425ca127b44c9b7982a774403ac7808a8ea772c0
   "id": "2b8dab90",
>>>>>>> 47f601ba3720265181cae36878f70a2e1b622ed7
   "metadata": {
    "cell_style": "split",
    "slideshow": {
     "slide_type": "fragment"
    }
   },
   "outputs": [
    {
     "data": {
      "text/plain": [
       "[344.876845644357,\n",
       " 301.7613157515681,\n",
       " 340.2693259123927,\n",
       " 699.4512087784859,\n",
       " 811.3632576452586]"
      ]
     },
<<<<<<< HEAD
<<<<<<< HEAD
     "execution_count": 78,
=======
     "execution_count": 60,
>>>>>>> 47f601ba3720265181cae36878f70a2e1b622ed7
=======
     "execution_count": 603,
>>>>>>> 425ca127b44c9b7982a774403ac7808a8ea772c0
     "metadata": {},
     "output_type": "execute_result"
    }
   ],
   "source": [
    "cv_lasso_scores"
   ]
  },
  {
   "cell_type": "markdown",
   "id": "36e5bd3e",
   "metadata": {
    "slideshow": {
     "slide_type": "slide"
    }
   },
   "source": [
    "The best LASSO model:"
   ]
  },
  {
   "cell_type": "code",
<<<<<<< HEAD
<<<<<<< HEAD
   "execution_count": 89,
   "id": "b728dab5",
=======
   "execution_count": 61,
=======
   "execution_count": 604,
>>>>>>> 425ca127b44c9b7982a774403ac7808a8ea772c0
   "id": "342e20bc",
>>>>>>> 47f601ba3720265181cae36878f70a2e1b622ed7
   "metadata": {
    "slideshow": {
     "slide_type": "subslide"
    }
   },
   "outputs": [],
   "source": [
    "lasso_opt = Lasso(alpha=10, random_state=42,  max_iter = 100000)\n",
    "lasso_opt.fit(X_train_processed, y_train)\n",
    "\n",
    "y_pred = lasso_opt.predict(X_test_processed) # get final test prediction"
   ]
  },
  {
   "cell_type": "code",
<<<<<<< HEAD
<<<<<<< HEAD
   "execution_count": 90,
   "id": "d19c8e5f",
=======
   "execution_count": 62,
=======
   "execution_count": 605,
>>>>>>> 425ca127b44c9b7982a774403ac7808a8ea772c0
   "id": "f131c4a9",
>>>>>>> 47f601ba3720265181cae36878f70a2e1b622ed7
   "metadata": {
    "cell_style": "split",
    "slideshow": {
     "slide_type": "fragment"
    }
   },
   "outputs": [
    {
     "data": {
      "text/plain": [
       "267.3764555465856"
      ]
     },
<<<<<<< HEAD
<<<<<<< HEAD
     "execution_count": 90,
=======
     "execution_count": 62,
>>>>>>> 47f601ba3720265181cae36878f70a2e1b622ed7
=======
     "execution_count": 605,
>>>>>>> 425ca127b44c9b7982a774403ac7808a8ea772c0
     "metadata": {},
     "output_type": "execute_result"
    }
   ],
   "source": [
    "lasso_RMSE = np.sqrt(mean_squared_error(y_pred, y_test))\n",
    "lasso_RMSE"
   ]
  },
  {
   "cell_type": "code",
<<<<<<< HEAD
<<<<<<< HEAD
   "execution_count": 91,
   "id": "14290f32",
=======
   "execution_count": 63,
=======
   "execution_count": 606,
>>>>>>> 425ca127b44c9b7982a774403ac7808a8ea772c0
   "id": "8832e94a",
>>>>>>> 47f601ba3720265181cae36878f70a2e1b622ed7
   "metadata": {
    "cell_style": "split",
    "slideshow": {
     "slide_type": "fragment"
    }
   },
   "outputs": [
    {
     "data": {
      "text/plain": [
       "265.44225908366553"
      ]
     },
<<<<<<< HEAD
<<<<<<< HEAD
     "execution_count": 91,
=======
     "execution_count": 63,
>>>>>>> 47f601ba3720265181cae36878f70a2e1b622ed7
=======
     "execution_count": 606,
>>>>>>> 425ca127b44c9b7982a774403ac7808a8ea772c0
     "metadata": {},
     "output_type": "execute_result"
    }
   ],
   "source": [
    "ridge_RMSE_holdout"
   ]
  },
  {
   "cell_type": "markdown",
   "id": "e4d17e95",
   "metadata": {
    "slideshow": {
     "slide_type": "slide"
    }
   },
   "source": [
    "Comparable between ridge and LASSO. LASSO tends to have higher weight variance than ridge.\n",
    "\n",
    "But what's the real difference?"
   ]
  },
  {
   "cell_type": "code",
<<<<<<< HEAD
<<<<<<< HEAD
   "execution_count": 96,
   "id": "77a3908a",
=======
   "execution_count": 66,
   "id": "4383c14f",
>>>>>>> 47f601ba3720265181cae36878f70a2e1b622ed7
   "metadata": {},
   "outputs": [
    {
     "data": {
      "text/plain": [
<<<<<<< HEAD
       "0.8848874802035901"
      ]
     },
     "execution_count": 96,
     "metadata": {},
     "output_type": "execute_result"
    }
   ],
   "source": [
    "lasso_opt.score(X_train_processed, y_train)"
   ]
  },
  {
   "cell_type": "code",
   "execution_count": 95,
   "id": "e26338c9",
   "metadata": {},
   "outputs": [
    {
     "data": {
      "text/plain": [
       "0.8858195769398121"
      ]
     },
     "execution_count": 95,
     "metadata": {},
     "output_type": "execute_result"
    }
   ],
   "source": [
    "rr.score(X_train_processed, y_train)"
   ]
  },
  {
   "cell_type": "code",
   "execution_count": 92,
   "id": "3e8024f2",
=======
   "execution_count": 532,
   "id": "18b019d5",
>>>>>>> 425ca127b44c9b7982a774403ac7808a8ea772c0
   "metadata": {
    "cell_style": "center",
    "scrolled": false,
    "slideshow": {
     "slide_type": "subslide"
<<<<<<< HEAD
=======
       "0.885819576939812"
      ]
     },
     "execution_count": 66,
     "metadata": {},
     "output_type": "execute_result"
>>>>>>> 47f601ba3720265181cae36878f70a2e1b622ed7
=======
>>>>>>> 425ca127b44c9b7982a774403ac7808a8ea772c0
    }
   },
   "outputs": [
    {
     "name": "stdout",
     "output_type": "stream",
     "text": [
      "[  0.          29.32960231   0.8046896   38.17109867  -4.10436699\n",
      "  40.27228066 -10.86847643  -1.58292157  37.48222572 -14.02382992\n",
      "  -4.57236431  -5.95361058 -20.50428693  -0.75058332 -24.04661014\n",
      " -10.05361186 -10.79395713 -10.65313696  -1.72724584   5.1723557\n",
      " -14.20925988   5.06212976  -0.25055749 -17.27288405   0.57708637\n",
      " -16.2812928    7.40733877 -20.38843876 -19.91851821   4.7657019\n",
      "  -5.75859125 -17.85396187   0.47018371   2.37087442 -22.65473387\n",
      "  23.22926662 -23.72344945 -13.9956209   -3.80574878  -5.11166274\n",
      "   5.35232607  -8.82144444  -3.60074121  -9.27420928  -2.71133015\n",
      "  -4.99539005   4.03028956   9.62441097   1.62602145  17.78209921\n",
      "  10.12563598  12.69525486  16.44364281  14.71106968  13.32988964\n",
      "   4.32024456  -9.68390238   5.32047154  -0.74803361   1.05694406\n",
      "  -7.35649966  23.17919449  10.28762348  20.77489205   9.9559688\n",
      "  13.05856002   0.56126663   4.34217579   5.87326338   7.20871856\n",
      "   6.7571956   28.89666184   1.20704504  -0.47418842  25.29255039\n",
      "  18.01999863   8.2706428  -16.6427663    6.46020986  13.73417709\n",
      "  30.11039856  23.28461617  13.18537889  -1.96828897  -8.00204215\n",
      " -16.22924313 -11.47134084  12.55550058   4.56030071  12.52747761\n",
      "  -8.98690406   7.93805654   2.10947658  22.9063483    8.06171178\n",
      "   3.18266103   4.42569259  -1.97797996 -13.91324401  -7.39128741\n",
      "   6.96733559   5.31847268  -8.94480721   3.18551088  -1.95080556\n",
      "  -6.88825863   0.23473548  -6.4299896    2.05414825   8.471623\n",
      "   3.96784387  27.91371492   1.56044276   4.60478253 -10.95488176\n",
      "  15.32779287  -6.53625975  15.10649978   9.01231345  18.33382474\n",
      "  42.44369124 -13.2763583    1.36297192   7.87805233  28.58200646\n",
      "  12.06432988   1.84982044  -7.13842952   6.28526848  37.82636484\n",
      " -12.18390113  15.22245718 -10.20878985   1.74351019   5.69672687\n",
      " -14.40262757  16.23471332   6.11338102   4.35923078  -3.88323015\n",
      "  -0.82932209   0.59326724   1.28876518   6.01567541  -2.46560457\n",
      "  53.67104574 -24.55228881  -9.65567047  35.28704949  29.11466595\n",
      "   8.00268366 -12.68621661   8.43582712  -2.22146747  40.54757492\n",
      " -13.27259407   0.93438487  33.33332324   1.30669476  -0.52332346\n",
      " -10.23036469  -9.77368575  16.38577455  -0.91205844  37.67835365]\n"
     ]
    }
   ],
   "source": [
    "print(rr.coef_)"
   ]
  },
  {
   "cell_type": "code",
   "execution_count": 94,
   "id": "22b0cd92",
   "metadata": {
    "slideshow": {
     "slide_type": "subslide"
    }
   },
   "outputs": [
    {
     "data": {
      "text/plain": [
       "array([ 0.00000000e+00,  0.00000000e+00,  0.00000000e+00,  0.00000000e+00,\n",
       "       -0.00000000e+00,  0.00000000e+00, -0.00000000e+00, -0.00000000e+00,\n",
       "        0.00000000e+00, -0.00000000e+00, -0.00000000e+00, -0.00000000e+00,\n",
       "       -0.00000000e+00,  0.00000000e+00, -0.00000000e+00, -0.00000000e+00,\n",
       "       -0.00000000e+00, -0.00000000e+00, -0.00000000e+00, -0.00000000e+00,\n",
       "       -0.00000000e+00, -0.00000000e+00, -0.00000000e+00, -2.69391521e+00,\n",
       "       -0.00000000e+00,  0.00000000e+00,  0.00000000e+00, -0.00000000e+00,\n",
       "       -0.00000000e+00, -0.00000000e+00, -0.00000000e+00, -0.00000000e+00,\n",
       "       -0.00000000e+00,  0.00000000e+00, -5.10132627e+01,  0.00000000e+00,\n",
       "       -0.00000000e+00, -0.00000000e+00, -0.00000000e+00, -0.00000000e+00,\n",
       "        0.00000000e+00, -0.00000000e+00, -0.00000000e+00, -0.00000000e+00,\n",
       "       -0.00000000e+00,  0.00000000e+00,  0.00000000e+00,  1.47906338e+01,\n",
       "       -0.00000000e+00,  0.00000000e+00,  0.00000000e+00,  0.00000000e+00,\n",
       "        0.00000000e+00,  1.59936629e+01,  0.00000000e+00,  0.00000000e+00,\n",
       "       -0.00000000e+00,  0.00000000e+00,  0.00000000e+00,  0.00000000e+00,\n",
       "        0.00000000e+00,  6.50914705e+01,  0.00000000e+00,  4.96190925e+00,\n",
       "        0.00000000e+00,  0.00000000e+00, -0.00000000e+00,  0.00000000e+00,\n",
       "        0.00000000e+00,  0.00000000e+00, -0.00000000e+00,  5.49733074e+01,\n",
       "        0.00000000e+00, -0.00000000e+00,  1.80439703e+01,  0.00000000e+00,\n",
       "        0.00000000e+00, -1.04492464e+01,  0.00000000e+00,  6.22434602e+00,\n",
       "        1.01230633e+01,  2.62383576e+01,  0.00000000e+00, -0.00000000e+00,\n",
       "       -0.00000000e+00, -0.00000000e+00, -3.50854789e+00,  0.00000000e+00,\n",
       "        0.00000000e+00,  0.00000000e+00, -0.00000000e+00,  0.00000000e+00,\n",
       "        0.00000000e+00,  3.99927962e+01,  0.00000000e+00,  0.00000000e+00,\n",
       "        0.00000000e+00,  0.00000000e+00, -0.00000000e+00,  0.00000000e+00,\n",
       "        0.00000000e+00,  0.00000000e+00, -0.00000000e+00,  0.00000000e+00,\n",
       "        0.00000000e+00, -0.00000000e+00, -0.00000000e+00, -0.00000000e+00,\n",
       "        0.00000000e+00,  0.00000000e+00, -0.00000000e+00,  0.00000000e+00,\n",
       "        0.00000000e+00,  0.00000000e+00, -0.00000000e+00,  2.78915994e-01,\n",
       "       -0.00000000e+00,  0.00000000e+00,  0.00000000e+00,  4.23350075e+00,\n",
       "        1.26874093e+02, -0.00000000e+00,  0.00000000e+00, -0.00000000e+00,\n",
       "        0.00000000e+00,  0.00000000e+00,  0.00000000e+00, -1.55931286e+01,\n",
       "        0.00000000e+00,  8.36702049e+01, -2.21908315e+01,  0.00000000e+00,\n",
       "       -0.00000000e+00,  0.00000000e+00, -0.00000000e+00, -0.00000000e+00,\n",
       "        0.00000000e+00, -0.00000000e+00,  0.00000000e+00, -0.00000000e+00,\n",
       "        0.00000000e+00, -0.00000000e+00,  0.00000000e+00,  0.00000000e+00,\n",
       "       -0.00000000e+00,  2.88138709e+02, -0.00000000e+00, -0.00000000e+00,\n",
       "        0.00000000e+00,  0.00000000e+00,  0.00000000e+00, -0.00000000e+00,\n",
       "        0.00000000e+00,  0.00000000e+00,  0.00000000e+00, -0.00000000e+00,\n",
       "       -0.00000000e+00,  0.00000000e+00,  0.00000000e+00,  0.00000000e+00,\n",
       "       -0.00000000e+00, -5.38083094e+00, -0.00000000e+00, -0.00000000e+00,\n",
       "        2.27726995e+02])"
      ]
     },
     "execution_count": 94,
     "metadata": {},
     "output_type": "execute_result"
    }
   ],
   "source": [
    "lasso_opt.coef_"
   ]
  },
  {
   "cell_type": "markdown",
   "id": "c899b88f",
   "metadata": {
    "cell_style": "split",
    "slideshow": {
     "slide_type": "slide"
    }
   },
   "source": [
    "#### Ridge \n",
    "When we introduce many features that:\n",
    "- we believe may all have some predictive power.\n",
    "- want to heavily penalize weight variance"
   ]
  },
  {
   "cell_type": "markdown",
   "id": "697f5388",
   "metadata": {
    "cell_style": "split",
    "slideshow": {
     "slide_type": "fragment"
    }
   },
   "source": [
    "#### LASSO"
   ]
  },
  {
   "cell_type": "markdown",
   "id": "4cc530a2",
   "metadata": {
    "cell_style": "split",
    "slideshow": {
     "slide_type": "fragment"
    }
   },
   "source": [
    "We have dataset with many highly correlated features:\n",
    "- believe many are not actually adding to predictive power.\n",
    "- willing to cut away marginally unimportant features.\n"
   ]
  },
  {
   "cell_type": "markdown",
   "id": "5ce5f4c4",
   "metadata": {
    "slideshow": {
     "slide_type": "slide"
    }
   },
   "source": [
    "Which is better:\n",
    "- depends on dataset\n",
    "- modeling goal "
   ]
  }
 ],
 "metadata": {
  "celltoolbar": "Slideshow",
  "kernelspec": {
   "display_name": "Python 3",
   "language": "python",
   "name": "python3"
  },
  "language_info": {
   "codemirror_mode": {
    "name": "ipython",
    "version": 3
   },
   "file_extension": ".py",
   "mimetype": "text/x-python",
   "name": "python",
   "nbconvert_exporter": "python",
   "pygments_lexer": "ipython3",
   "version": "3.8.5"
  }
 },
 "nbformat": 4,
 "nbformat_minor": 5
}
