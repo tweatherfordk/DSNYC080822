{
 "cells": [
  {
   "cell_type": "markdown",
   "id": "3f8e707e",
   "metadata": {
    "slideshow": {
     "slide_type": "slide"
    }
   },
   "source": [
    "<div style=\"color:white;\n",
    "           display:fill;\n",
    "           border-radius:5px;\n",
    "           background-color:#5642C5;\n",
    "           font-size:200%;\n",
    "           font-\\amily:Arial;letter-spacing:0.5px\">\n",
    "\n",
    "<p width = 20%, style=\"padding: 10px;\n",
    "              color:white;\">\n",
    "Cross-Validation and Regularization\n",
    "              \n",
    "</p>\n",
    "</div>\n",
    "\n",
    "Data Science Cohort Live NYC Feb 2022\n",
    "<p>Phase 3: Topic 24</p>\n",
    "<br>\n",
    "<br>\n",
    "\n",
    "<div align = \"right\">\n",
    "<img src=\"Images/flatiron-school-logo.png\" align = \"right\" width=\"200\"/>\n",
    "</div>"
   ]
  },
  {
   "cell_type": "markdown",
   "id": "662b1941",
   "metadata": {
    "slideshow": {
     "slide_type": "slide"
    }
   },
   "source": [
    "Recall:"
   ]
  },
  {
   "cell_type": "markdown",
   "id": "51864965",
   "metadata": {
    "cell_style": "split",
    "slideshow": {
     "slide_type": "fragment"
    }
   },
   "source": [
    "Bias: \n",
    "- when model not complex enough\n",
    "- feature space not adequately rich enough to explain target\n",
    "\n"
   ]
  },
  {
   "cell_type": "markdown",
   "id": "bc4cea96",
   "metadata": {
    "cell_style": "split",
    "slideshow": {
     "slide_type": "fragment"
    }
   },
   "source": [
    "Variance: \n",
    "\n",
    "- model/weights: large fluctuations about true model given different train sets\n",
    "\n",
    "- High $ \\mathrm{Var}[\\textbf{w}] $ over realization of training sets\n",
    "\n",
    "- High fluctuation in MAE over test sets."
   ]
  },
  {
   "cell_type": "markdown",
   "id": "117e4369",
   "metadata": {
    "cell_style": "split",
    "slideshow": {
     "slide_type": "slide"
    }
   },
   "source": [
    "The bulls-eye diagrams of fitting model to different training set realizations:\n",
    "<center><img src = \"Images/biasvar_bullseye.png\" width = 400/></center>"
   ]
  },
  {
   "cell_type": "markdown",
   "id": "8efae746",
   "metadata": {
    "cell_style": "split",
    "slideshow": {
     "slide_type": "fragment"
    }
   },
   "source": [
    "Each dot is a model:\n",
    "- Bulls-eye: the *true* model (generating mean of $y$ given $X$ in the population) \n",
    "- Each dot: models trained on different samples."
   ]
  },
  {
   "cell_type": "markdown",
   "id": "55fb853c",
   "metadata": {
    "slideshow": {
     "slide_type": "fragment"
    }
   },
   "source": [
    "**Our goal**: lowering bias and variance in training predictive models\n",
    "\n",
    "but the two often at odds."
   ]
  },
  {
   "cell_type": "markdown",
   "id": "90008e7a",
   "metadata": {
    "slideshow": {
     "slide_type": "slide"
    }
   },
   "source": [
    "**Multicollinearity**\n",
    "\n",
    "Have to grapple with these issues when constructing linear models with multicollinear features"
   ]
  },
  {
   "cell_type": "markdown",
   "id": "dbac7b45",
   "metadata": {
    "slideshow": {
     "slide_type": "fragment"
    }
   },
   "source": [
    "We talked about this way back. But how does it increase Var[$\\textbf{w}$]?"
   ]
  },
  {
   "cell_type": "code",
   "execution_count": 10,
   "id": "361212ec",
   "metadata": {
    "slideshow": {
     "slide_type": "slide"
    }
   },
   "outputs": [],
   "source": [
    "import numpy as np\n",
    "import pandas as pd\n",
    "import seaborn as sns\n",
    "import matplotlib.pyplot as plt\n",
    "\n",
    "WHO_data = pd.read_csv(\"Data/WHO_life.csv\")\n",
    "X_WHO = WHO_data.drop(columns = [\"Life expectancy \"])\n",
    "X_WHO.columns = X_WHO.columns.str.strip()\n",
    "y = WHO_data[\"Life expectancy \"]"
   ]
  },
  {
   "cell_type": "code",
   "execution_count": 11,
   "id": "d0ea7729",
   "metadata": {
    "scrolled": true,
    "slideshow": {
     "slide_type": "subslide"
    }
   },
   "outputs": [
    {
     "data": {
      "text/html": [
       "<div>\n",
       "<style scoped>\n",
       "    .dataframe tbody tr th:only-of-type {\n",
       "        vertical-align: middle;\n",
       "    }\n",
       "\n",
       "    .dataframe tbody tr th {\n",
       "        vertical-align: top;\n",
       "    }\n",
       "\n",
       "    .dataframe thead th {\n",
       "        text-align: right;\n",
       "    }\n",
       "</style>\n",
       "<table border=\"1\" class=\"dataframe\">\n",
       "  <thead>\n",
       "    <tr style=\"text-align: right;\">\n",
       "      <th></th>\n",
       "      <th>Country</th>\n",
       "      <th>Year</th>\n",
       "      <th>Status</th>\n",
       "      <th>Adult Mortality</th>\n",
       "      <th>infant deaths</th>\n",
       "      <th>Alcohol</th>\n",
       "      <th>percentage expenditure</th>\n",
       "      <th>Hepatitis B</th>\n",
       "      <th>Measles</th>\n",
       "      <th>BMI</th>\n",
       "      <th>...</th>\n",
       "      <th>Polio</th>\n",
       "      <th>Total expenditure</th>\n",
       "      <th>Diphtheria</th>\n",
       "      <th>HIV/AIDS</th>\n",
       "      <th>GDP</th>\n",
       "      <th>Population</th>\n",
       "      <th>thinness  1-19 years</th>\n",
       "      <th>thinness 5-9 years</th>\n",
       "      <th>Income composition of resources</th>\n",
       "      <th>Schooling</th>\n",
       "    </tr>\n",
       "  </thead>\n",
       "  <tbody>\n",
       "    <tr>\n",
       "      <th>0</th>\n",
       "      <td>Afghanistan</td>\n",
       "      <td>2015</td>\n",
       "      <td>Developing</td>\n",
       "      <td>263.0</td>\n",
       "      <td>62</td>\n",
       "      <td>0.01</td>\n",
       "      <td>71.279624</td>\n",
       "      <td>65.0</td>\n",
       "      <td>1154</td>\n",
       "      <td>19.1</td>\n",
       "      <td>...</td>\n",
       "      <td>6.0</td>\n",
       "      <td>8.16</td>\n",
       "      <td>65.0</td>\n",
       "      <td>0.1</td>\n",
       "      <td>584.259210</td>\n",
       "      <td>33736494.0</td>\n",
       "      <td>17.2</td>\n",
       "      <td>17.3</td>\n",
       "      <td>0.479</td>\n",
       "      <td>10.1</td>\n",
       "    </tr>\n",
       "    <tr>\n",
       "      <th>1</th>\n",
       "      <td>Afghanistan</td>\n",
       "      <td>2014</td>\n",
       "      <td>Developing</td>\n",
       "      <td>271.0</td>\n",
       "      <td>64</td>\n",
       "      <td>0.01</td>\n",
       "      <td>73.523582</td>\n",
       "      <td>62.0</td>\n",
       "      <td>492</td>\n",
       "      <td>18.6</td>\n",
       "      <td>...</td>\n",
       "      <td>58.0</td>\n",
       "      <td>8.18</td>\n",
       "      <td>62.0</td>\n",
       "      <td>0.1</td>\n",
       "      <td>612.696514</td>\n",
       "      <td>327582.0</td>\n",
       "      <td>17.5</td>\n",
       "      <td>17.5</td>\n",
       "      <td>0.476</td>\n",
       "      <td>10.0</td>\n",
       "    </tr>\n",
       "    <tr>\n",
       "      <th>2</th>\n",
       "      <td>Afghanistan</td>\n",
       "      <td>2013</td>\n",
       "      <td>Developing</td>\n",
       "      <td>268.0</td>\n",
       "      <td>66</td>\n",
       "      <td>0.01</td>\n",
       "      <td>73.219243</td>\n",
       "      <td>64.0</td>\n",
       "      <td>430</td>\n",
       "      <td>18.1</td>\n",
       "      <td>...</td>\n",
       "      <td>62.0</td>\n",
       "      <td>8.13</td>\n",
       "      <td>64.0</td>\n",
       "      <td>0.1</td>\n",
       "      <td>631.744976</td>\n",
       "      <td>31731688.0</td>\n",
       "      <td>17.7</td>\n",
       "      <td>17.7</td>\n",
       "      <td>0.470</td>\n",
       "      <td>9.9</td>\n",
       "    </tr>\n",
       "    <tr>\n",
       "      <th>3</th>\n",
       "      <td>Afghanistan</td>\n",
       "      <td>2012</td>\n",
       "      <td>Developing</td>\n",
       "      <td>272.0</td>\n",
       "      <td>69</td>\n",
       "      <td>0.01</td>\n",
       "      <td>78.184215</td>\n",
       "      <td>67.0</td>\n",
       "      <td>2787</td>\n",
       "      <td>17.6</td>\n",
       "      <td>...</td>\n",
       "      <td>67.0</td>\n",
       "      <td>8.52</td>\n",
       "      <td>67.0</td>\n",
       "      <td>0.1</td>\n",
       "      <td>669.959000</td>\n",
       "      <td>3696958.0</td>\n",
       "      <td>17.9</td>\n",
       "      <td>18.0</td>\n",
       "      <td>0.463</td>\n",
       "      <td>9.8</td>\n",
       "    </tr>\n",
       "    <tr>\n",
       "      <th>4</th>\n",
       "      <td>Afghanistan</td>\n",
       "      <td>2011</td>\n",
       "      <td>Developing</td>\n",
       "      <td>275.0</td>\n",
       "      <td>71</td>\n",
       "      <td>0.01</td>\n",
       "      <td>7.097109</td>\n",
       "      <td>68.0</td>\n",
       "      <td>3013</td>\n",
       "      <td>17.2</td>\n",
       "      <td>...</td>\n",
       "      <td>68.0</td>\n",
       "      <td>7.87</td>\n",
       "      <td>68.0</td>\n",
       "      <td>0.1</td>\n",
       "      <td>63.537231</td>\n",
       "      <td>2978599.0</td>\n",
       "      <td>18.2</td>\n",
       "      <td>18.2</td>\n",
       "      <td>0.454</td>\n",
       "      <td>9.5</td>\n",
       "    </tr>\n",
       "  </tbody>\n",
       "</table>\n",
       "<p>5 rows × 21 columns</p>\n",
       "</div>"
      ],
      "text/plain": [
       "       Country  Year      Status  Adult Mortality  infant deaths  Alcohol  \\\n",
       "0  Afghanistan  2015  Developing            263.0             62     0.01   \n",
       "1  Afghanistan  2014  Developing            271.0             64     0.01   \n",
       "2  Afghanistan  2013  Developing            268.0             66     0.01   \n",
       "3  Afghanistan  2012  Developing            272.0             69     0.01   \n",
       "4  Afghanistan  2011  Developing            275.0             71     0.01   \n",
       "\n",
       "   percentage expenditure  Hepatitis B  Measles   BMI  ...  Polio  \\\n",
       "0               71.279624         65.0     1154  19.1  ...    6.0   \n",
       "1               73.523582         62.0      492  18.6  ...   58.0   \n",
       "2               73.219243         64.0      430  18.1  ...   62.0   \n",
       "3               78.184215         67.0     2787  17.6  ...   67.0   \n",
       "4                7.097109         68.0     3013  17.2  ...   68.0   \n",
       "\n",
       "   Total expenditure  Diphtheria  HIV/AIDS         GDP  Population  \\\n",
       "0               8.16        65.0       0.1  584.259210  33736494.0   \n",
       "1               8.18        62.0       0.1  612.696514    327582.0   \n",
       "2               8.13        64.0       0.1  631.744976  31731688.0   \n",
       "3               8.52        67.0       0.1  669.959000   3696958.0   \n",
       "4               7.87        68.0       0.1   63.537231   2978599.0   \n",
       "\n",
       "   thinness  1-19 years  thinness 5-9 years  Income composition of resources  \\\n",
       "0                  17.2                17.3                            0.479   \n",
       "1                  17.5                17.5                            0.476   \n",
       "2                  17.7                17.7                            0.470   \n",
       "3                  17.9                18.0                            0.463   \n",
       "4                  18.2                18.2                            0.454   \n",
       "\n",
       "   Schooling  \n",
       "0       10.1  \n",
       "1       10.0  \n",
       "2        9.9  \n",
       "3        9.8  \n",
       "4        9.5  \n",
       "\n",
       "[5 rows x 21 columns]"
      ]
     },
     "execution_count": 11,
     "metadata": {},
     "output_type": "execute_result"
    }
   ],
   "source": [
    "X_WHO.head()"
   ]
  },
  {
   "cell_type": "markdown",
   "id": "312dc8aa",
   "metadata": {
    "cell_style": "center",
    "slideshow": {
     "slide_type": "slide"
    }
   },
   "source": [
    "Many features from WHO dataset:\n",
    "\n",
    "Regressing to find weights life expectancy"
   ]
  },
  {
   "cell_type": "code",
   "execution_count": 12,
   "id": "0ac7535c",
   "metadata": {
    "slideshow": {
     "slide_type": "fragment"
    }
   },
   "outputs": [
    {
     "data": {
      "text/plain": [
       "Index(['Country', 'Year', 'Status', 'Adult Mortality', 'infant deaths',\n",
       "       'Alcohol', 'percentage expenditure', 'Hepatitis B', 'Measles', 'BMI',\n",
       "       'under-five deaths', 'Polio', 'Total expenditure', 'Diphtheria',\n",
       "       'HIV/AIDS', 'GDP', 'Population', 'thinness  1-19 years',\n",
       "       'thinness 5-9 years', 'Income composition of resources', 'Schooling'],\n",
       "      dtype='object')"
      ]
     },
     "execution_count": 12,
     "metadata": {},
     "output_type": "execute_result"
    }
   ],
   "source": [
    "X_WHO.columns"
   ]
  },
  {
   "cell_type": "markdown",
   "id": "62637c05",
   "metadata": {
    "slideshow": {
     "slide_type": "slide"
    }
   },
   "source": [
    "But let's take a look at a few of these and their correlations:"
   ]
  },
  {
   "cell_type": "code",
   "execution_count": 13,
   "id": "a4c6eb56",
   "metadata": {
    "scrolled": false,
    "slideshow": {
     "slide_type": "subslide"
    }
   },
   "outputs": [
    {
     "data": {
      "image/png": "[encoded data removed]",
      "text/plain": [
       "<Figure size 432x288 with 2 Axes>"
      ]
     },
     "metadata": {
      "needs_background": "light"
     },
     "output_type": "display_data"
    }
   ],
   "source": [
    "col_selector = ['Income composition of resources', 'Schooling','Alcohol', 'thinness  1-19 years']\n",
    "subsetX = X_WHO[col_selector]\n",
    "sns.heatmap(subsetX.corr())\n",
    "plt.show()"
   ]
  },
  {
   "cell_type": "markdown",
   "id": "f2fd36a1",
   "metadata": {
    "slideshow": {
     "slide_type": "slide"
    }
   },
   "source": [
    "Let's focus on Schooling and income composite resources (ICR):"
   ]
  },
  {
   "cell_type": "markdown",
   "id": "d44a7f6e",
   "metadata": {
    "slideshow": {
     "slide_type": "fragment"
    }
   },
   "source": [
    "$$ Life= w_1*Alcohol + w_2*Polio + w_3*Schooling + w_4*Measles + w_5*ICR + ... $$"
   ]
  },
  {
   "cell_type": "markdown",
   "id": "c3a70af2",
   "metadata": {
    "cell_style": "split",
    "slideshow": {
     "slide_type": "fragment"
    }
   },
   "source": [
    "Correlation is very high!"
   ]
  },
  {
   "cell_type": "code",
   "execution_count": 14,
   "id": "f78d2fca",
   "metadata": {
    "cell_style": "split",
    "slideshow": {
     "slide_type": "fragment"
    }
   },
   "outputs": [
    {
     "data": {
      "text/html": [
       "<div>\n",
       "<style scoped>\n",
       "    .dataframe tbody tr th:only-of-type {\n",
       "        vertical-align: middle;\n",
       "    }\n",
       "\n",
       "    .dataframe tbody tr th {\n",
       "        vertical-align: top;\n",
       "    }\n",
       "\n",
       "    .dataframe thead th {\n",
       "        text-align: right;\n",
       "    }\n",
       "</style>\n",
       "<table border=\"1\" class=\"dataframe\">\n",
       "  <thead>\n",
       "    <tr style=\"text-align: right;\">\n",
       "      <th></th>\n",
       "      <th>Income composition of resources</th>\n",
       "      <th>Schooling</th>\n",
       "    </tr>\n",
       "  </thead>\n",
       "  <tbody>\n",
       "    <tr>\n",
       "      <th>Income composition of resources</th>\n",
       "      <td>1.000000</td>\n",
       "      <td>0.800092</td>\n",
       "    </tr>\n",
       "    <tr>\n",
       "      <th>Schooling</th>\n",
       "      <td>0.800092</td>\n",
       "      <td>1.000000</td>\n",
       "    </tr>\n",
       "  </tbody>\n",
       "</table>\n",
       "</div>"
      ],
      "text/plain": [
       "                                 Income composition of resources  Schooling\n",
       "Income composition of resources                         1.000000   0.800092\n",
       "Schooling                                               0.800092   1.000000"
      ]
     },
     "execution_count": 14,
     "metadata": {},
     "output_type": "execute_result"
    }
   ],
   "source": [
    "col_selector = ['Income composition of resources', 'Schooling']\n",
    "X_WHO[col_selector].corr()"
   ]
  },
  {
   "cell_type": "markdown",
   "id": "e76f283b",
   "metadata": {
    "cell_style": "split",
    "slideshow": {
     "slide_type": "slide"
    }
   },
   "source": [
    "Our regression: \n",
    "- Y = life expectancy\n",
    "\n",
    "$$ Y - \\sum_{i \\neq 3,5} w_i x_i = w_3 Schooling + w_5 ICR $$"
   ]
  },
  {
   "cell_type": "markdown",
   "id": "4a857843",
   "metadata": {
    "cell_style": "split",
    "slideshow": {
     "slide_type": "fragment"
    }
   },
   "source": [
    "- Schooling and ICR highly related:\n",
    "\n",
    "- Implies that $w_3$ and $w_5$ introduce too much flexibility.\n",
    "- Maybe could fit almost as well with just $w_3$."
   ]
  },
  {
   "cell_type": "markdown",
   "id": "ec6daf7b",
   "metadata": {
    "cell_style": "split",
    "slideshow": {
     "slide_type": "fragment"
    }
   },
   "source": [
    "- $w_3$ and $w_5$ are floppy and can become big in either direction to fit data.\n",
    "- Var[$\\textbf{w}$] from $w_3$ and $w_5$ high."
   ]
  },
  {
   "cell_type": "markdown",
   "id": "fb625c02",
   "metadata": {
    "slideshow": {
     "slide_type": "slide"
    }
   },
   "source": [
    "Modeling data by linear model w/ multicollinear features:\n",
    "- intoduces high weight variance\n",
    "- unnecessary model complexity"
   ]
  },
  {
   "cell_type": "markdown",
   "id": "d647df11",
   "metadata": {
    "slideshow": {
     "slide_type": "slide"
    }
   },
   "source": [
    "These considerations are all nice and theoretical:\n",
    "    \n",
    "- how do we actually assess whether model suffers from bias / variance or both?"
   ]
  },
  {
   "cell_type": "markdown",
   "id": "8b8645f4",
   "metadata": {
    "slideshow": {
     "slide_type": "subslide"
    }
   },
   "source": [
    "#### How to assess model variance: cross-validation"
   ]
  },
  {
   "cell_type": "markdown",
   "id": "cf4cd1ac",
   "metadata": {
    "cell_style": "split",
    "slideshow": {
     "slide_type": "fragment"
    }
   },
   "source": [
    "Could get many different training sets:\n",
    "- Train weights $\\textbf{w}$ for each.\n",
    "- Get variance of $\\textbf{w}$\n"
   ]
  },
  {
   "cell_type": "markdown",
   "id": "5924e888",
   "metadata": {
    "cell_style": "split",
    "slideshow": {
     "slide_type": "fragment"
    }
   },
   "source": [
    "Semi-equivalently:\n",
    "- Test performance of each model on test set.\n",
    "- Evaluate model performance/variance by looking at average/standard deviation of performance on test set."
   ]
  },
  {
   "cell_type": "markdown",
   "id": "ae8b2cbc",
   "metadata": {
    "slideshow": {
     "slide_type": "slide"
    }
   },
   "source": [
    "Problem: \n",
    "- likely don't have this much data available to make enough independent training sets large enough to for each model to train on effectively."
   ]
  },
  {
   "cell_type": "markdown",
   "id": "8af7e5ba",
   "metadata": {
    "slideshow": {
     "slide_type": "slide"
    }
   },
   "source": [
    "#### Solution: Cross validation"
   ]
  },
  {
   "cell_type": "markdown",
   "id": "a39723b5",
   "metadata": {
    "cell_style": "split",
    "slideshow": {
     "slide_type": "fragment"
    }
   },
   "source": [
    "So first we created our train / test split: \n",
    "\n",
    "- the **training set** can be used to develop models\n",
    "- can assess variance of a model and average performance\n"
   ]
  },
  {
   "cell_type": "markdown",
   "id": "6a2f4718",
   "metadata": {
    "cell_style": "split"
   },
   "source": [
    "<img src = \"Images/traintestsplit.png\"  width = 800/>\n",
    "<center> Splitting up training set </center>"
   ]
  },
  {
   "cell_type": "markdown",
   "id": "87ef572c",
   "metadata": {
    "cell_style": "split",
    "slideshow": {
     "slide_type": "fragment"
    }
   },
   "source": [
    "<img src = \"Images/crossval.png\"  width = 800/>\n",
    "<center> Splitting up training set </center>"
   ]
  },
  {
   "cell_type": "markdown",
   "id": "92d58604",
   "metadata": {
    "cell_style": "split",
    "slideshow": {
     "slide_type": "fragment"
    }
   },
   "source": [
    "Split up **training set** into folds:\n",
    "- Training fold\n",
    "- Validation fold"
   ]
  },
  {
   "cell_type": "markdown",
   "id": "25007fda",
   "metadata": {
    "cell_style": "split",
    "slideshow": {
     "slide_type": "fragment"
    }
   },
   "source": [
    "- For each iteration:\n",
    "    - train a model on train fold\n",
    "    - test on validation fold"
   ]
  },
  {
   "cell_type": "markdown",
   "id": "6b1f529c",
   "metadata": {
    "cell_style": "split",
    "slideshow": {
     "slide_type": "slide"
    }
   },
   "source": [
    "<img src = \"Images/crossval.png\"  width = 800/>\n",
    "<center> Splitting up training set </center>"
   ]
  },
  {
   "cell_type": "markdown",
   "id": "1caaf1f5",
   "metadata": {
    "cell_style": "split",
    "slideshow": {
     "slide_type": "fragment"
    }
   },
   "source": [
    "Effectively sampling multiple training sets:\n",
    "- each iteration model trained on different training set.\n",
    "- testing each model performance on different **validation set**.\n",
    "\n"
   ]
  },
  {
   "cell_type": "markdown",
   "id": "23b7cb89",
   "metadata": {
    "cell_style": "split",
    "slideshow": {
     "slide_type": "fragment"
    }
   },
   "source": [
    "- Good for estimating model performance on average\n",
    "- Good for estimating model variance as well."
   ]
  },
  {
   "cell_type": "markdown",
   "id": "bd1ab931",
   "metadata": {
    "cell_style": "split",
    "slideshow": {
     "slide_type": "subslide"
    }
   },
   "source": [
    "So in the end:\n",
    "- Performance metrics measured on validation\n",
    "- We get average performance metric across all the models for each cross validation iteration.\n",
    "- Get variance of performance metric."
   ]
  },
  {
   "cell_type": "markdown",
   "id": "e4897f76",
   "metadata": {
    "cell_style": "split",
    "slideshow": {
     "slide_type": "slide"
    }
   },
   "source": [
    "<img src = \"Images/crossval.png\"  width = 800/>\n",
    "<center> Splitting up training set </center>"
   ]
  },
  {
   "cell_type": "markdown",
   "id": "528197ca",
   "metadata": {
    "cell_style": "center",
    "slideshow": {
     "slide_type": "subslide"
    }
   },
   "source": [
    "Note: **validation set** is part of training set:\n",
    "- Not part of true test/hold-out set."
   ]
  },
  {
   "cell_type": "markdown",
   "id": "f7ac7736",
   "metadata": {
    "slideshow": {
     "slide_type": "fragment"
    }
   },
   "source": [
    "How is validation fold/set different from test set?"
   ]
  },
  {
   "cell_type": "markdown",
   "id": "a2530603",
   "metadata": {
    "cell_style": "split",
    "slideshow": {
     "slide_type": "slide"
    }
   },
   "source": [
    "We are often trying out different model types:\n",
    "- OLS with raw features\n",
    "- OLS with collinear features dropped\n",
    "- OLS with polynomial features\n",
    "- Ridge regressor (will see later)"
   ]
  },
  {
   "cell_type": "markdown",
   "id": "5bb302e4",
   "metadata": {
    "cell_style": "split",
    "slideshow": {
     "slide_type": "fragment"
    }
   },
   "source": [
    "Idea is that we try out different model types / tune models: \n",
    "- assess variance\n",
    "- assess average performance\n",
    "\n",
    "**Use train/validation for this**: \n",
    "- for each model type: estimate model average performance and variance *across different train/validation realizations* "
   ]
  },
  {
   "cell_type": "markdown",
   "id": "7856cf09",
   "metadata": {
    "slideshow": {
     "slide_type": "subslide"
    }
   },
   "source": [
    "<img src = \"Images/cvtuningflow.png\"  width = 800/>\n",
    "<center> Model comparison/selection using cross-validation </center>"
   ]
  },
  {
   "cell_type": "markdown",
   "id": "a6c926b5",
   "metadata": {
    "cell_style": "split",
    "slideshow": {
     "slide_type": "subslide"
    }
   },
   "source": [
    "Selected best model based on:\n",
    "- what worked best on the given validation folds.\n",
    "\n",
    "**Iterative optimization of models based on the train/validation data**"
   ]
  },
  {
   "cell_type": "markdown",
   "id": "a5e2f663",
   "metadata": {
    "cell_style": "split",
    "slideshow": {
     "slide_type": "fragment"
    }
   },
   "source": [
    "Ultimately: \n",
    "\n",
    "- want to evaluate our best model class (found by optimizing over the validation sets) \n",
    "- on data that has neither been trained or validated on"
   ]
  },
  {
   "cell_type": "markdown",
   "id": "9afe2231",
   "metadata": {
    "cell_style": "center",
    "slideshow": {
     "slide_type": "slide"
    }
   },
   "source": [
    "**The true test/hold-out test**: The modeling / tuning process has never seen this data.\n",
    "\n",
    "- Take best model from model iteration/ cross-validation.\n",
    "- Evaluate test performance."
   ]
  },
  {
   "cell_type": "markdown",
   "id": "dac406c5",
   "metadata": {
    "cell_style": "center",
    "slideshow": {
     "slide_type": "slide"
    }
   },
   "source": [
    "\n",
    "<img src = \"Images/test_phase_afterCV.png\"  width = 800/>\n",
    "<center> Best model from cross-validation in test phase</center>"
   ]
  },
  {
   "cell_type": "markdown",
   "id": "9b9d2df1",
   "metadata": {
    "cell_style": "split",
    "slideshow": {
     "slide_type": "slide"
    }
   },
   "source": [
    "Cross validation gives us a way to test statistical robustness of model performance:\n",
    "- evaluate average performance\n",
    "- evaluate model variance"
   ]
  },
  {
   "cell_type": "markdown",
   "id": "04e2e40c",
   "metadata": {
    "cell_style": "split",
    "slideshow": {
     "slide_type": "fragment"
    }
   },
   "source": [
    "But seeing a set of models have high variance:\n",
    "- How to address this problem found in cross-validation trials?\n",
    "- i.e., how do we lower the variance?"
   ]
  },
  {
   "cell_type": "markdown",
   "id": "36e78b0d",
   "metadata": {
    "cell_style": "center",
    "slideshow": {
     "slide_type": "slide"
    }
   },
   "source": [
    "#### Ways to limit/deal with high variance."
   ]
  },
  {
   "cell_type": "markdown",
   "id": "e8610bde",
   "metadata": {
    "cell_style": "split",
    "slideshow": {
     "slide_type": "subslide"
    }
   },
   "source": [
    "- Get more data. With enough training data, even with floppy weights model will do a decent job approximating data."
   ]
  },
  {
   "cell_type": "markdown",
   "id": "e8837a96",
   "metadata": {
    "cell_style": "split",
    "slideshow": {
     "slide_type": "fragment"
    }
   },
   "source": [
    "- Yeah, but often not possible/easy to get enough data for this."
   ]
  },
  {
   "cell_type": "markdown",
   "id": "4cf5469f",
   "metadata": {
    "cell_style": "split",
    "slideshow": {
     "slide_type": "slide"
    }
   },
   "source": [
    "- Get rid of columns that exhibit a high degree of collinearity with other columns."
   ]
  },
  {
   "cell_type": "markdown",
   "id": "0a4e19d1",
   "metadata": {
    "cell_style": "split",
    "slideshow": {
     "slide_type": "fragment"
    }
   },
   "source": [
    "- Yeah, but did we throw out some useful information for prediction? \n",
    "- ICR and schooling not the same thing.\n",
    "- How many of the collinear columns should we throw away? Which ones?"
   ]
  },
  {
   "cell_type": "markdown",
   "id": "71250598",
   "metadata": {
    "slideshow": {
     "slide_type": "subslide"
    }
   },
   "source": [
    "Getting rid of columns like this:\n",
    "- Can lower variance\n",
    "- But can also increase bias in an arbitrary, non-optimal way"
   ]
  },
  {
   "cell_type": "markdown",
   "id": "b0c83800",
   "metadata": {
    "cell_style": "split",
    "slideshow": {
     "slide_type": "slide"
    }
   },
   "source": [
    "- Or we could come up with ways to directly limit the variance through the cost function itself."
   ]
  },
  {
   "cell_type": "markdown",
   "id": "b5926154",
   "metadata": {
    "cell_style": "split",
    "slideshow": {
     "slide_type": "fragment"
    }
   },
   "source": [
    "The hope is that with this method:\n",
    "- decrease variance\n",
    "- without increasing bias too much\n",
    "\n",
    "Doing this in an optimal and principled way."
   ]
  },
  {
   "cell_type": "markdown",
   "id": "14a2abad",
   "metadata": {
    "cell_style": "center",
    "slideshow": {
     "slide_type": "subslide"
    }
   },
   "source": [
    "Let's try this."
   ]
  },
  {
   "cell_type": "markdown",
   "id": "33302ef8",
   "metadata": {
    "slideshow": {
     "slide_type": "slide"
    }
   },
   "source": [
    "#### Regularization for Linear Regression"
   ]
  },
  {
   "cell_type": "markdown",
   "id": "27868aac",
   "metadata": {
    "slideshow": {
     "slide_type": "subslide"
    }
   },
   "source": [
    "Modify our squared error loss function."
   ]
  },
  {
   "cell_type": "markdown",
   "id": "35dc5350",
   "metadata": {
    "slideshow": {
     "slide_type": "fragment"
    }
   },
   "source": [
    "$$ L = |\\textbf{y} - X \\textbf{w}|_2^2 + \\lambda |\\textbf{w}|_2^2 $$\n",
    "\n",
    "with $|\\textbf{w}|_2^2 = w_1^2 + w_2^2 + ... + w_m^2$ as sum of squares of the feature weights.\n",
    "\n",
    "*We'll see why we use the subscript on the norm shortly.*"
   ]
  },
  {
   "cell_type": "markdown",
   "id": "a01b8c27",
   "metadata": {
    "slideshow": {
     "slide_type": "subslide"
    }
   },
   "source": [
    "<img src = \"Images/ridge_regression_geometric.png\" width = 450>"
   ]
  },
  {
   "cell_type": "markdown",
   "id": "86ac0450",
   "metadata": {
    "cell_style": "split",
    "slideshow": {
     "slide_type": "fragment"
    }
   },
   "source": [
    "Tug of war between:\n",
    "\n",
    "Ridge cost: $ \\lambda |\\textbf{w}|_2^2 = \\lambda (w_1^2 + w_2^2)  $\n",
    "- L2 Regularization (Euclidean distance)"
   ]
  },
  {
   "cell_type": "markdown",
   "id": "476ead06",
   "metadata": {
    "cell_style": "split",
    "slideshow": {
     "slide_type": "fragment"
    }
   },
   "source": [
    "Least squares cost: $ |\\textbf{y} - X\\textbf{w}|_2^2 $\n",
    "    "
   ]
  },
  {
   "cell_type": "markdown",
   "id": "15c3a2e3",
   "metadata": {
    "slideshow": {
     "slide_type": "subslide"
    }
   },
   "source": [
    "<img src = \"Images/ridge_regression_geometric.png\" width = 450>"
   ]
  },
  {
   "cell_type": "markdown",
   "id": "52574f39",
   "metadata": {
    "cell_style": "split",
    "slideshow": {
     "slide_type": "fragment"
    }
   },
   "source": [
    "Regularization term penalizes large weights: \n",
    "- **strongly** discourages large fluctuations in $\\textbf{w}$ depending on training set.\n",
    "- i.e. reduces Var[$\\textbf{w}$]\n",
    "- **Can lead to large performance boost on unseen data.**"
   ]
  },
  {
   "cell_type": "markdown",
   "id": "48e73187",
   "metadata": {
    "cell_style": "split",
    "slideshow": {
     "slide_type": "fragment"
    }
   },
   "source": [
    "- the tradeoff: repeating fitting on large number of distinct training sets:\n",
    "    - Average of $\\textbf{w}$ is off from least squares best fit to population"
   ]
  },
  {
   "cell_type": "markdown",
   "id": "fc5078f0",
   "metadata": {
    "cell_style": "center",
    "slideshow": {
     "slide_type": "slide"
    }
   },
   "source": [
    "Our goal is to construct a model with:\n",
    "- as low a bias as possible (gets close to the true $\\textbf{w}$ if we had/fit on the entire population)\n",
    "- as low a *model* variance as possible (spread in $\\textbf{w}$ is low):\n",
    "    - implies $\\textbf{w}$ is tightly clustered\n"
   ]
  },
  {
   "cell_type": "markdown",
   "id": "cd2395c3",
   "metadata": {
    "cell_style": "split",
    "slideshow": {
     "slide_type": "fragment"
    }
   },
   "source": [
    "Idea of Ridge: \n",
    "- Tune $\\lambda$ just right. This is something we input as external parameter to model. **Hyperparameter** \n",
    "- Cluster of $\\textbf{w}$ little off the center of the bullseye\n",
    "- But: tightly clustered."
   ]
  },
  {
   "cell_type": "markdown",
   "id": "a6e2bea8",
   "metadata": {
    "cell_style": "split",
    "slideshow": {
     "slide_type": "fragment"
    }
   },
   "source": [
    "With $\\lambda$ tuned well:\n",
    "\n",
    "- not likely to make generalization errors due to large fluctuation in $\\textbf{w}$\n",
    "- But doesnt shift $\\textbf{w}$ too far from least squares estimate"
   ]
  },
  {
   "cell_type": "markdown",
   "id": "28c0e8d5",
   "metadata": {
    "slideshow": {
     "slide_type": "slide"
    }
   },
   "source": [
    "OK let's do a Ridge regression."
   ]
  },
  {
   "cell_type": "code",
   "execution_count": 15,
   "id": "73b496a9",
   "metadata": {
    "slideshow": {
     "slide_type": "slide"
    }
   },
   "outputs": [],
   "source": [
    "from sklearn.linear_model import LinearRegression\n",
    "from sklearn.linear_model import Ridge\n",
    "\n",
    "# train test split\n",
    "from sklearn.model_selection import train_test_split\n",
    "\n",
    "# preprocessing\n",
    "from sklearn.preprocessing import OneHotEncoder\n",
    "from sklearn.preprocessing import StandardScaler\n",
    "\n",
    "# model validation: testing model variance with cross validation\n",
    "\n",
    "from sklearn.model_selection import KFold, cross_val_score, cross_validate, ShuffleSplit"
   ]
  },
  {
   "cell_type": "code",
   "execution_count": 16,
   "id": "5dea72b0",
   "metadata": {
    "hidden": true,
    "slideshow": {
     "slide_type": "slide"
    }
   },
   "outputs": [],
   "source": [
    "birds = sns.load_dataset('penguins')\n",
    "birds = birds.dropna()"
   ]
  },
  {
   "cell_type": "code",
   "execution_count": 17,
   "id": "894a5a9a",
   "metadata": {
    "slideshow": {
     "slide_type": "fragment"
    }
   },
   "outputs": [
    {
     "data": {
      "text/html": [
       "<div>\n",
       "<style scoped>\n",
       "    .dataframe tbody tr th:only-of-type {\n",
       "        vertical-align: middle;\n",
       "    }\n",
       "\n",
       "    .dataframe tbody tr th {\n",
       "        vertical-align: top;\n",
       "    }\n",
       "\n",
       "    .dataframe thead th {\n",
       "        text-align: right;\n",
       "    }\n",
       "</style>\n",
       "<table border=\"1\" class=\"dataframe\">\n",
       "  <thead>\n",
       "    <tr style=\"text-align: right;\">\n",
       "      <th></th>\n",
       "      <th>species</th>\n",
       "      <th>island</th>\n",
       "      <th>bill_length_mm</th>\n",
       "      <th>bill_depth_mm</th>\n",
       "      <th>flipper_length_mm</th>\n",
       "      <th>body_mass_g</th>\n",
       "      <th>sex</th>\n",
       "    </tr>\n",
       "  </thead>\n",
       "  <tbody>\n",
       "    <tr>\n",
       "      <th>0</th>\n",
       "      <td>Adelie</td>\n",
       "      <td>Torgersen</td>\n",
       "      <td>39.1</td>\n",
       "      <td>18.7</td>\n",
       "      <td>181.0</td>\n",
       "      <td>3750.0</td>\n",
       "      <td>Male</td>\n",
       "    </tr>\n",
       "    <tr>\n",
       "      <th>1</th>\n",
       "      <td>Adelie</td>\n",
       "      <td>Torgersen</td>\n",
       "      <td>39.5</td>\n",
       "      <td>17.4</td>\n",
       "      <td>186.0</td>\n",
       "      <td>3800.0</td>\n",
       "      <td>Female</td>\n",
       "    </tr>\n",
       "    <tr>\n",
       "      <th>2</th>\n",
       "      <td>Adelie</td>\n",
       "      <td>Torgersen</td>\n",
       "      <td>40.3</td>\n",
       "      <td>18.0</td>\n",
       "      <td>195.0</td>\n",
       "      <td>3250.0</td>\n",
       "      <td>Female</td>\n",
       "    </tr>\n",
       "    <tr>\n",
       "      <th>4</th>\n",
       "      <td>Adelie</td>\n",
       "      <td>Torgersen</td>\n",
       "      <td>36.7</td>\n",
       "      <td>19.3</td>\n",
       "      <td>193.0</td>\n",
       "      <td>3450.0</td>\n",
       "      <td>Female</td>\n",
       "    </tr>\n",
       "    <tr>\n",
       "      <th>5</th>\n",
       "      <td>Adelie</td>\n",
       "      <td>Torgersen</td>\n",
       "      <td>39.3</td>\n",
       "      <td>20.6</td>\n",
       "      <td>190.0</td>\n",
       "      <td>3650.0</td>\n",
       "      <td>Male</td>\n",
       "    </tr>\n",
       "  </tbody>\n",
       "</table>\n",
       "</div>"
      ],
      "text/plain": [
       "  species     island  bill_length_mm  bill_depth_mm  flipper_length_mm  \\\n",
       "0  Adelie  Torgersen            39.1           18.7              181.0   \n",
       "1  Adelie  Torgersen            39.5           17.4              186.0   \n",
       "2  Adelie  Torgersen            40.3           18.0              195.0   \n",
       "4  Adelie  Torgersen            36.7           19.3              193.0   \n",
       "5  Adelie  Torgersen            39.3           20.6              190.0   \n",
       "\n",
       "   body_mass_g     sex  \n",
       "0       3750.0    Male  \n",
       "1       3800.0  Female  \n",
       "2       3250.0  Female  \n",
       "4       3450.0  Female  \n",
       "5       3650.0    Male  "
      ]
     },
     "execution_count": 17,
     "metadata": {},
     "output_type": "execute_result"
    }
   ],
   "source": [
    "birds.head()"
   ]
  },
  {
   "cell_type": "markdown",
   "id": "7dc7b95d",
   "metadata": {
    "slideshow": {
     "slide_type": "slide"
    }
   },
   "source": [
    "Going to use the other features to predict the body mass of a penguin"
   ]
  },
  {
   "cell_type": "code",
   "execution_count": 18,
   "id": "850e9189",
   "metadata": {
    "cell_style": "center",
    "slideshow": {
     "slide_type": "fragment"
    }
   },
   "outputs": [],
   "source": [
    "X = birds.drop('body_mass_g', axis=1)\n",
    "y = birds['body_mass_g']"
   ]
  },
  {
   "cell_type": "code",
   "execution_count": 19,
   "id": "88628f52",
   "metadata": {
    "cell_style": "center",
    "slideshow": {
     "slide_type": "fragment"
    }
   },
   "outputs": [],
   "source": [
    "X_train, X_test, y_train, y_test = train_test_split(X ,y, random_state = 42)"
   ]
  },
  {
   "cell_type": "markdown",
   "id": "e8ae4747",
   "metadata": {
    "slideshow": {
     "slide_type": "slide"
    }
   },
   "source": [
    "Let's one-hot encode the nominal categoricals"
   ]
  },
  {
   "cell_type": "code",
   "execution_count": 20,
   "id": "4587f8c7",
   "metadata": {
    "cell_style": "center",
    "slideshow": {
     "slide_type": "fragment"
    }
   },
   "outputs": [
    {
     "data": {
      "text/html": [
       "<div>\n",
       "<style scoped>\n",
       "    .dataframe tbody tr th:only-of-type {\n",
       "        vertical-align: middle;\n",
       "    }\n",
       "\n",
       "    .dataframe tbody tr th {\n",
       "        vertical-align: top;\n",
       "    }\n",
       "\n",
       "    .dataframe thead th {\n",
       "        text-align: right;\n",
       "    }\n",
       "</style>\n",
       "<table border=\"1\" class=\"dataframe\">\n",
       "  <thead>\n",
       "    <tr style=\"text-align: right;\">\n",
       "      <th></th>\n",
       "      <th>x0_Chinstrap</th>\n",
       "      <th>x0_Gentoo</th>\n",
       "      <th>x1_Dream</th>\n",
       "      <th>x1_Torgersen</th>\n",
       "      <th>x2_Male</th>\n",
       "    </tr>\n",
       "  </thead>\n",
       "  <tbody>\n",
       "    <tr>\n",
       "      <th>321</th>\n",
       "      <td>0.0</td>\n",
       "      <td>1.0</td>\n",
       "      <td>0.0</td>\n",
       "      <td>0.0</td>\n",
       "      <td>1.0</td>\n",
       "    </tr>\n",
       "    <tr>\n",
       "      <th>265</th>\n",
       "      <td>0.0</td>\n",
       "      <td>1.0</td>\n",
       "      <td>0.0</td>\n",
       "      <td>0.0</td>\n",
       "      <td>0.0</td>\n",
       "    </tr>\n",
       "    <tr>\n",
       "      <th>36</th>\n",
       "      <td>0.0</td>\n",
       "      <td>0.0</td>\n",
       "      <td>1.0</td>\n",
       "      <td>0.0</td>\n",
       "      <td>1.0</td>\n",
       "    </tr>\n",
       "    <tr>\n",
       "      <th>308</th>\n",
       "      <td>0.0</td>\n",
       "      <td>1.0</td>\n",
       "      <td>0.0</td>\n",
       "      <td>0.0</td>\n",
       "      <td>0.0</td>\n",
       "    </tr>\n",
       "    <tr>\n",
       "      <th>191</th>\n",
       "      <td>1.0</td>\n",
       "      <td>0.0</td>\n",
       "      <td>1.0</td>\n",
       "      <td>0.0</td>\n",
       "      <td>1.0</td>\n",
       "    </tr>\n",
       "  </tbody>\n",
       "</table>\n",
       "</div>"
      ],
      "text/plain": [
       "     x0_Chinstrap  x0_Gentoo  x1_Dream  x1_Torgersen  x2_Male\n",
       "321           0.0        1.0       0.0           0.0      1.0\n",
       "265           0.0        1.0       0.0           0.0      0.0\n",
       "36            0.0        0.0       1.0           0.0      1.0\n",
       "308           0.0        1.0       0.0           0.0      0.0\n",
       "191           1.0        0.0       1.0           0.0      1.0"
      ]
     },
     "execution_count": 20,
     "metadata": {},
     "output_type": "execute_result"
    }
   ],
   "source": [
    "# Taking in other features (category)\n",
    "ohe = OneHotEncoder(drop='first')\n",
    "dummies = ohe.fit_transform(X_train[['species', 'island', 'sex']])\n",
    "\n",
    "# Getting a DF\n",
    "X_train_onehot = pd.DataFrame(dummies.todense(), columns=ohe.get_feature_names(), index=X_train.index)\n",
    "\n",
    "X_train_onehot.head()"
   ]
  },
  {
   "cell_type": "markdown",
   "id": "cf433035",
   "metadata": {
    "slideshow": {
     "slide_type": "slide"
    }
   },
   "source": [
    "Attach this to dataframe with numerical variables"
   ]
  },
  {
   "cell_type": "code",
   "execution_count": 21,
   "id": "badd104b",
   "metadata": {
    "slideshow": {
     "slide_type": "fragment"
    }
   },
   "outputs": [
    {
     "data": {
      "text/html": [
       "<div>\n",
       "<style scoped>\n",
       "    .dataframe tbody tr th:only-of-type {\n",
       "        vertical-align: middle;\n",
       "    }\n",
       "\n",
       "    .dataframe tbody tr th {\n",
       "        vertical-align: top;\n",
       "    }\n",
       "\n",
       "    .dataframe thead th {\n",
       "        text-align: right;\n",
       "    }\n",
       "</style>\n",
       "<table border=\"1\" class=\"dataframe\">\n",
       "  <thead>\n",
       "    <tr style=\"text-align: right;\">\n",
       "      <th></th>\n",
       "      <th>bill_length_mm</th>\n",
       "      <th>bill_depth_mm</th>\n",
       "      <th>flipper_length_mm</th>\n",
       "      <th>x0_Chinstrap</th>\n",
       "      <th>x0_Gentoo</th>\n",
       "      <th>x1_Dream</th>\n",
       "      <th>x1_Torgersen</th>\n",
       "      <th>x2_Male</th>\n",
       "    </tr>\n",
       "  </thead>\n",
       "  <tbody>\n",
       "    <tr>\n",
       "      <th>321</th>\n",
       "      <td>55.9</td>\n",
       "      <td>17.0</td>\n",
       "      <td>228.0</td>\n",
       "      <td>0.0</td>\n",
       "      <td>1.0</td>\n",
       "      <td>0.0</td>\n",
       "      <td>0.0</td>\n",
       "      <td>1.0</td>\n",
       "    </tr>\n",
       "    <tr>\n",
       "      <th>265</th>\n",
       "      <td>43.6</td>\n",
       "      <td>13.9</td>\n",
       "      <td>217.0</td>\n",
       "      <td>0.0</td>\n",
       "      <td>1.0</td>\n",
       "      <td>0.0</td>\n",
       "      <td>0.0</td>\n",
       "      <td>0.0</td>\n",
       "    </tr>\n",
       "    <tr>\n",
       "      <th>36</th>\n",
       "      <td>38.8</td>\n",
       "      <td>20.0</td>\n",
       "      <td>190.0</td>\n",
       "      <td>0.0</td>\n",
       "      <td>0.0</td>\n",
       "      <td>1.0</td>\n",
       "      <td>0.0</td>\n",
       "      <td>1.0</td>\n",
       "    </tr>\n",
       "    <tr>\n",
       "      <th>308</th>\n",
       "      <td>47.5</td>\n",
       "      <td>14.0</td>\n",
       "      <td>212.0</td>\n",
       "      <td>0.0</td>\n",
       "      <td>1.0</td>\n",
       "      <td>0.0</td>\n",
       "      <td>0.0</td>\n",
       "      <td>0.0</td>\n",
       "    </tr>\n",
       "    <tr>\n",
       "      <th>191</th>\n",
       "      <td>53.5</td>\n",
       "      <td>19.9</td>\n",
       "      <td>205.0</td>\n",
       "      <td>1.0</td>\n",
       "      <td>0.0</td>\n",
       "      <td>1.0</td>\n",
       "      <td>0.0</td>\n",
       "      <td>1.0</td>\n",
       "    </tr>\n",
       "  </tbody>\n",
       "</table>\n",
       "</div>"
      ],
      "text/plain": [
       "     bill_length_mm  bill_depth_mm  flipper_length_mm  x0_Chinstrap  \\\n",
       "321            55.9           17.0              228.0           0.0   \n",
       "265            43.6           13.9              217.0           0.0   \n",
       "36             38.8           20.0              190.0           0.0   \n",
       "308            47.5           14.0              212.0           0.0   \n",
       "191            53.5           19.9              205.0           1.0   \n",
       "\n",
       "     x0_Gentoo  x1_Dream  x1_Torgersen  x2_Male  \n",
       "321        1.0       0.0           0.0      1.0  \n",
       "265        1.0       0.0           0.0      0.0  \n",
       "36         0.0       1.0           0.0      1.0  \n",
       "308        1.0       0.0           0.0      0.0  \n",
       "191        0.0       1.0           0.0      1.0  "
      ]
     },
     "execution_count": 21,
     "metadata": {},
     "output_type": "execute_result"
    }
   ],
   "source": [
    "X_train_numeric = X_train[['bill_length_mm', 'bill_depth_mm', 'flipper_length_mm']]\n",
    "X_train_df = pd.concat([X_train_numeric, X_train_onehot], axis=1)\n",
    "X_train_df.head()"
   ]
  },
  {
   "cell_type": "markdown",
   "id": "228ebdff",
   "metadata": {
    "slideshow": {
     "slide_type": "slide"
    }
   },
   "source": [
    "We have our training feature matrix:\n",
    "- Apply transformation fit_transformed on train set to test feature matrix."
   ]
  },
  {
   "cell_type": "code",
   "execution_count": 22,
   "id": "670e1553",
   "metadata": {
    "slideshow": {
     "slide_type": "fragment"
    }
   },
   "outputs": [
    {
     "data": {
      "text/html": [
       "<div>\n",
       "<style scoped>\n",
       "    .dataframe tbody tr th:only-of-type {\n",
       "        vertical-align: middle;\n",
       "    }\n",
       "\n",
       "    .dataframe tbody tr th {\n",
       "        vertical-align: top;\n",
       "    }\n",
       "\n",
       "    .dataframe thead th {\n",
       "        text-align: right;\n",
       "    }\n",
       "</style>\n",
       "<table border=\"1\" class=\"dataframe\">\n",
       "  <thead>\n",
       "    <tr style=\"text-align: right;\">\n",
       "      <th></th>\n",
       "      <th>bill_length_mm</th>\n",
       "      <th>bill_depth_mm</th>\n",
       "      <th>flipper_length_mm</th>\n",
       "      <th>x0_Chinstrap</th>\n",
       "      <th>x0_Gentoo</th>\n",
       "      <th>x1_Dream</th>\n",
       "      <th>x1_Torgersen</th>\n",
       "      <th>x2_Male</th>\n",
       "    </tr>\n",
       "  </thead>\n",
       "  <tbody>\n",
       "    <tr>\n",
       "      <th>30</th>\n",
       "      <td>39.5</td>\n",
       "      <td>16.7</td>\n",
       "      <td>178.0</td>\n",
       "      <td>0.0</td>\n",
       "      <td>0.0</td>\n",
       "      <td>1.0</td>\n",
       "      <td>0.0</td>\n",
       "      <td>0.0</td>\n",
       "    </tr>\n",
       "    <tr>\n",
       "      <th>317</th>\n",
       "      <td>46.9</td>\n",
       "      <td>14.6</td>\n",
       "      <td>222.0</td>\n",
       "      <td>0.0</td>\n",
       "      <td>1.0</td>\n",
       "      <td>0.0</td>\n",
       "      <td>0.0</td>\n",
       "      <td>0.0</td>\n",
       "    </tr>\n",
       "    <tr>\n",
       "      <th>79</th>\n",
       "      <td>42.1</td>\n",
       "      <td>19.1</td>\n",
       "      <td>195.0</td>\n",
       "      <td>0.0</td>\n",
       "      <td>0.0</td>\n",
       "      <td>0.0</td>\n",
       "      <td>1.0</td>\n",
       "      <td>1.0</td>\n",
       "    </tr>\n",
       "    <tr>\n",
       "      <th>201</th>\n",
       "      <td>49.8</td>\n",
       "      <td>17.3</td>\n",
       "      <td>198.0</td>\n",
       "      <td>1.0</td>\n",
       "      <td>0.0</td>\n",
       "      <td>1.0</td>\n",
       "      <td>0.0</td>\n",
       "      <td>0.0</td>\n",
       "    </tr>\n",
       "    <tr>\n",
       "      <th>63</th>\n",
       "      <td>41.1</td>\n",
       "      <td>18.2</td>\n",
       "      <td>192.0</td>\n",
       "      <td>0.0</td>\n",
       "      <td>0.0</td>\n",
       "      <td>0.0</td>\n",
       "      <td>0.0</td>\n",
       "      <td>1.0</td>\n",
       "    </tr>\n",
       "  </tbody>\n",
       "</table>\n",
       "</div>"
      ],
      "text/plain": [
       "     bill_length_mm  bill_depth_mm  flipper_length_mm  x0_Chinstrap  \\\n",
       "30             39.5           16.7              178.0           0.0   \n",
       "317            46.9           14.6              222.0           0.0   \n",
       "79             42.1           19.1              195.0           0.0   \n",
       "201            49.8           17.3              198.0           1.0   \n",
       "63             41.1           18.2              192.0           0.0   \n",
       "\n",
       "     x0_Gentoo  x1_Dream  x1_Torgersen  x2_Male  \n",
       "30         0.0       1.0           0.0      0.0  \n",
       "317        1.0       0.0           0.0      0.0  \n",
       "79         0.0       0.0           1.0      1.0  \n",
       "201        0.0       1.0           0.0      0.0  \n",
       "63         0.0       0.0           0.0      1.0  "
      ]
     },
     "execution_count": 22,
     "metadata": {},
     "output_type": "execute_result"
    }
   ],
   "source": [
    "test_dummies = ohe.transform(X_test[['species', 'island', 'sex']])\n",
    "test_df = pd.DataFrame(test_dummies.todense(), columns=ohe.get_feature_names(),\n",
    "                       index=X_test.index)\n",
    "X_test_df = pd.concat([X_test[['bill_length_mm', 'bill_depth_mm',\n",
    "                              'flipper_length_mm']], test_df], axis=1)\n",
    "X_test_df.head()"
   ]
  },
  {
   "cell_type": "code",
   "execution_count": 23,
   "id": "088428fe",
   "metadata": {
    "slideshow": {
     "slide_type": "subslide"
    }
   },
   "outputs": [
    {
     "data": {
      "text/plain": [
       "LinearRegression()"
      ]
     },
     "execution_count": 23,
     "metadata": {},
     "output_type": "execute_result"
    }
   ],
   "source": [
    "lr1 = LinearRegression()\n",
    "lr1.fit(X_train_df, y_train)"
   ]
  },
  {
   "cell_type": "code",
   "execution_count": 24,
   "id": "5dfb25b2",
   "metadata": {
    "scrolled": true,
    "slideshow": {
     "slide_type": "fragment"
    }
   },
   "outputs": [
    {
     "data": {
      "text/plain": [
       "0.8688983108974327"
      ]
     },
     "execution_count": 24,
     "metadata": {},
     "output_type": "execute_result"
    }
   ],
   "source": [
    "lr1.score(X_train_df, y_train)"
   ]
  },
  {
   "cell_type": "code",
   "execution_count": 25,
   "id": "5d9a3780",
   "metadata": {},
   "outputs": [
    {
     "data": {
      "text/plain": [
       "253.98121177477847"
      ]
     },
     "execution_count": 25,
     "metadata": {},
     "output_type": "execute_result"
    }
   ],
   "source": [
    "from sklearn.metrics import mean_squared_error\n",
    "y_pred = lr1.predict(X_test_df)\n",
    "np.sqrt(mean_squared_error(y_pred, y_test))"
   ]
  },
  {
   "cell_type": "markdown",
   "id": "3806a35e",
   "metadata": {
    "slideshow": {
     "slide_type": "slide"
    }
   },
   "source": [
    "Wow that's a good $R^2$ value!\n",
    "\n",
    "- Estimate how we are doing on unseen data with cross validation."
   ]
  },
  {
   "cell_type": "code",
   "execution_count": 26,
   "id": "cf82bc12",
   "metadata": {
    "slideshow": {
     "slide_type": "fragment"
    }
   },
   "outputs": [],
   "source": [
    "cv_results = cross_validate(X=X_train_df, y=y_train, estimator=lr1, cv=10, scoring=('r2', 'neg_mean_squared_error'),\n",
    "                return_train_score=True\n",
    ")"
   ]
  },
  {
   "cell_type": "markdown",
   "id": "970899fd",
   "metadata": {
    "slideshow": {
     "slide_type": "slide"
    }
   },
   "source": [
    "How well model explains training fold data in each iteration cross validation:"
   ]
  },
  {
   "cell_type": "code",
   "execution_count": 27,
   "id": "89dfce4b",
   "metadata": {
    "slideshow": {
     "slide_type": "fragment"
    }
   },
   "outputs": [
    {
     "data": {
      "text/plain": [
       "array([0.86804859, 0.87184762, 0.86639447, 0.86902092, 0.86919768,\n",
       "       0.86625747, 0.86680671, 0.8768277 , 0.869645  , 0.86906114])"
      ]
     },
     "execution_count": 27,
     "metadata": {},
     "output_type": "execute_result"
    }
   ],
   "source": [
    "train_res = cv_results['train_r2']\n",
    "train_res"
   ]
  },
  {
   "cell_type": "markdown",
   "id": "100d0b67",
   "metadata": {
    "slideshow": {
     "slide_type": "slide"
    }
   },
   "source": [
    "It's fitting well each time in the 10 iterations."
   ]
  },
  {
   "cell_type": "markdown",
   "id": "a1e48483",
   "metadata": {
    "slideshow": {
     "slide_type": "subslide"
    }
   },
   "source": [
    "How does the validation look?"
   ]
  },
  {
   "cell_type": "code",
   "execution_count": 28,
   "id": "ec4b7eee",
   "metadata": {
    "cell_style": "split",
    "slideshow": {
     "slide_type": "fragment"
    }
   },
   "outputs": [
    {
     "data": {
      "text/plain": [
       "array([0.86092305, 0.68845759, 0.88730555, 0.85315477, 0.85555065,\n",
       "       0.88779582, 0.87796788, 0.71839192, 0.85080305, 0.86263277])"
      ]
     },
     "execution_count": 28,
     "metadata": {},
     "output_type": "execute_result"
    }
   ],
   "source": [
    "test_res = cv_results['test_r2']\n",
    "test_res"
   ]
  },
  {
   "cell_type": "code",
   "execution_count": 29,
   "id": "f71db768",
   "metadata": {
    "cell_style": "split",
    "slideshow": {
     "slide_type": "fragment"
    }
   },
   "outputs": [
    {
     "data": {
      "text/plain": [
       "0.8342983053829108"
      ]
     },
     "execution_count": 29,
     "metadata": {},
     "output_type": "execute_result"
    }
   ],
   "source": [
    "test_res.mean()"
   ]
  },
  {
   "cell_type": "code",
   "execution_count": 30,
   "id": "f18b74e8",
   "metadata": {
    "cell_style": "split",
    "slideshow": {
     "slide_type": "fragment"
    }
   },
   "outputs": [
    {
     "data": {
      "text/plain": [
       "0.0706115684406586"
      ]
     },
     "execution_count": 30,
     "metadata": {},
     "output_type": "execute_result"
    }
   ],
   "source": [
    "test_res.std(ddof = 1)"
   ]
  },
  {
   "cell_type": "markdown",
   "id": "91ecad9b",
   "metadata": {
    "slideshow": {
     "slide_type": "slide"
    }
   },
   "source": [
    "Good average test performance and relatively low variance."
   ]
  },
  {
   "cell_type": "code",
   "execution_count": 31,
   "id": "4b8bf0e3",
   "metadata": {
    "cell_style": "center",
    "slideshow": {
     "slide_type": "subslide"
    }
   },
   "outputs": [
    {
     "data": {
      "text/plain": [
       "array([294.39902869, 295.54794956, 295.83205215, 287.46270287,\n",
       "       298.1599986 , 295.74918118, 293.40476336, 291.7275227 ,\n",
       "       290.82138953, 292.37523149])"
      ]
     },
     "execution_count": 31,
     "metadata": {},
     "output_type": "execute_result"
    }
   ],
   "source": [
    "RMSE_train = np.sqrt(np.abs(cv_results['train_neg_mean_squared_error']))\n",
    "RMSE_train"
   ]
  },
  {
   "cell_type": "code",
   "execution_count": 32,
   "id": "0d363db8",
   "metadata": {
    "cell_style": "split",
    "slideshow": {
     "slide_type": "fragment"
    }
   },
   "outputs": [
    {
     "data": {
      "text/plain": [
       "293.54798201361626"
      ]
     },
     "execution_count": 32,
     "metadata": {},
     "output_type": "execute_result"
    }
   ],
   "source": [
    "RMSE_train.mean()"
   ]
  },
  {
   "cell_type": "code",
   "execution_count": 33,
   "id": "c8255f8a",
   "metadata": {
    "cell_style": "split",
    "slideshow": {
     "slide_type": "fragment"
    }
   },
   "outputs": [
    {
     "data": {
      "text/plain": [
       "2.91945128523961"
      ]
     },
     "execution_count": 33,
     "metadata": {},
     "output_type": "execute_result"
    }
   ],
   "source": [
    "RMSE_train.std()"
   ]
  },
  {
   "cell_type": "code",
   "execution_count": 34,
   "id": "a57f0b39",
   "metadata": {
    "cell_style": "center",
    "slideshow": {
     "slide_type": "subslide"
    }
   },
   "outputs": [
    {
     "data": {
      "text/plain": [
       "array([297.90893127, 291.59992285, 281.7832529 , 358.30773939,\n",
       "       260.32367156, 281.50266999, 309.16756673, 319.73503557,\n",
       "       331.38649842, 316.03365957])"
      ]
     },
     "execution_count": 34,
     "metadata": {},
     "output_type": "execute_result"
    }
   ],
   "source": [
    "RMSE_test = np.sqrt(np.abs(cv_results['test_neg_mean_squared_error']))\n",
    "RMSE_test"
   ]
  },
  {
   "cell_type": "markdown",
   "id": "2517eb95",
   "metadata": {
    "cell_style": "split",
    "slideshow": {
     "slide_type": "fragment"
    }
   },
   "source": [
    "Clearly larger average RMSE and variance of RMSE in the test set. But still pretty decent."
   ]
  },
  {
   "cell_type": "code",
   "execution_count": 35,
   "id": "87e14da6",
   "metadata": {
    "cell_style": "split",
    "slideshow": {
     "slide_type": "fragment"
    }
   },
   "outputs": [
    {
     "data": {
      "text/plain": [
       "304.77489482634076"
      ]
     },
     "execution_count": 35,
     "metadata": {},
     "output_type": "execute_result"
    }
   ],
   "source": [
    "RMSE_test.mean()"
   ]
  },
  {
   "cell_type": "code",
   "execution_count": 36,
   "id": "45767cf9",
   "metadata": {
    "cell_style": "split",
    "slideshow": {
     "slide_type": "fragment"
    }
   },
   "outputs": [
    {
     "data": {
      "text/plain": [
       "28.30517952679398"
      ]
     },
     "execution_count": 36,
     "metadata": {},
     "output_type": "execute_result"
    }
   ],
   "source": [
    "RMSE_test.std(ddof = 1)"
   ]
  },
  {
   "cell_type": "markdown",
   "id": "7e03369d",
   "metadata": {
    "cell_style": "center",
    "slideshow": {
     "slide_type": "slide"
    }
   },
   "source": [
    "But...I'm a greedy man.\n",
    "\n",
    "I want to do better than this. \n",
    "- I'm going to add some polynomials to get a more complex model."
   ]
  },
  {
   "cell_type": "markdown",
   "id": "123fe02a",
   "metadata": {
    "slideshow": {
     "slide_type": "subslide"
    }
   },
   "source": [
    "My motivation:\n",
    "    \n",
    "- More complex model = better able to capture more complex relationships between mass and other variables.\n",
    "- Better prediction."
   ]
  },
  {
   "cell_type": "markdown",
   "id": "052d9b22",
   "metadata": {
    "slideshow": {
     "slide_type": "slide"
    }
   },
   "source": [
    "#### Adding model complexity"
   ]
  },
  {
   "cell_type": "code",
   "execution_count": 37,
   "id": "848707f6",
   "metadata": {},
   "outputs": [],
   "source": [
    "from sklearn.preprocessing import PolynomialFeatures"
   ]
  },
  {
   "cell_type": "code",
   "execution_count": 38,
   "id": "8fd7ab0a",
   "metadata": {
    "slideshow": {
     "slide_type": "fragment"
    }
   },
   "outputs": [],
   "source": [
    "pf = PolynomialFeatures(degree=3)\n",
    "X_poly_train = pd.DataFrame(pf.fit_transform(X_train_df))\n",
    "\n",
    "y_train.to_csv('X_penguin.csv')"
   ]
  },
  {
   "cell_type": "code",
   "execution_count": 39,
   "id": "84941799",
   "metadata": {
    "slideshow": {
     "slide_type": "fragment"
    }
   },
   "outputs": [],
   "source": [
    "X_poly_test = pf.transform(X_test_df)"
   ]
  },
  {
   "cell_type": "code",
   "execution_count": 40,
   "id": "d238fa59",
   "metadata": {
    "cell_style": "split",
    "slideshow": {
     "slide_type": "fragment"
    }
   },
   "outputs": [
    {
     "data": {
      "text/plain": [
       "(249, 8)"
      ]
     },
     "execution_count": 40,
     "metadata": {},
     "output_type": "execute_result"
    }
   ],
   "source": [
    "X_train_df.shape"
   ]
  },
  {
   "cell_type": "code",
   "execution_count": 41,
   "id": "ee013b61",
   "metadata": {
    "cell_style": "split",
    "slideshow": {
     "slide_type": "fragment"
    }
   },
   "outputs": [
    {
     "data": {
      "text/plain": [
       "(249, 165)"
      ]
     },
     "execution_count": 41,
     "metadata": {},
     "output_type": "execute_result"
    }
   ],
   "source": [
    "X_poly_train.shape"
   ]
  },
  {
   "cell_type": "code",
   "execution_count": 42,
   "id": "e89f8aaf",
   "metadata": {
    "slideshow": {
     "slide_type": "slide"
    }
   },
   "outputs": [
    {
     "data": {
      "text/plain": [
       "LinearRegression()"
      ]
     },
     "execution_count": 42,
     "metadata": {},
     "output_type": "execute_result"
    }
   ],
   "source": [
    "poly_lr = LinearRegression()\n",
    "poly_lr.fit(X_poly_train, y_train)"
   ]
  },
  {
   "cell_type": "code",
   "execution_count": 43,
   "id": "be96ac5c",
   "metadata": {
    "cell_style": "split",
    "slideshow": {
     "slide_type": "fragment"
    }
   },
   "outputs": [
    {
     "data": {
      "text/plain": [
       "0.8929837697042633"
      ]
     },
     "execution_count": 43,
     "metadata": {},
     "output_type": "execute_result"
    }
   ],
   "source": [
    "poly_lr.score(X_poly_train, y_train)"
   ]
  },
  {
   "cell_type": "code",
   "execution_count": 44,
   "id": "2dca89db",
   "metadata": {
    "cell_style": "split",
    "slideshow": {
     "slide_type": "fragment"
    }
   },
   "outputs": [
    {
     "data": {
      "text/plain": [
       "0.8688983108974327"
      ]
     },
     "execution_count": 44,
     "metadata": {},
     "output_type": "execute_result"
    }
   ],
   "source": [
    "lr1.score(X_train_df, y_train)"
   ]
  },
  {
   "cell_type": "markdown",
   "id": "18511a2d",
   "metadata": {
    "slideshow": {
     "slide_type": "slide"
    }
   },
   "source": [
    "About a 3% improvement: \n",
    "- that could mean money in other contexts."
   ]
  },
  {
   "cell_type": "code",
   "execution_count": 45,
   "id": "87c31f0e",
   "metadata": {
    "slideshow": {
     "slide_type": "subslide"
    }
   },
   "outputs": [],
   "source": [
    "poly_cv_results = cross_validate(\n",
    "                X=X_poly_train, \n",
    "                y=y_train,\n",
    "                estimator=poly_lr, \n",
    "                cv=10,\n",
    "                scoring=('r2', 'neg_mean_squared_error'),\n",
    "                return_train_score=True\n",
    ")"
   ]
  },
  {
   "cell_type": "code",
   "execution_count": 46,
   "id": "a69cb7ca",
   "metadata": {
    "slideshow": {
     "slide_type": "subslide"
    }
   },
   "outputs": [
    {
     "data": {
      "text/plain": [
       "array([0.86804859, 0.87184762, 0.86639447, 0.86902092, 0.86919768,\n",
       "       0.86625747, 0.86680671, 0.8768277 , 0.869645  , 0.86906114])"
      ]
     },
     "execution_count": 46,
     "metadata": {},
     "output_type": "execute_result"
    }
   ],
   "source": [
    "poly_train_res = poly_cv_results['train_r2']\n",
    "train_res"
   ]
  },
  {
   "cell_type": "code",
   "execution_count": 47,
   "id": "c28e3cf1",
   "metadata": {
    "cell_style": "split",
    "slideshow": {
     "slide_type": "fragment"
    }
   },
   "outputs": [
    {
     "data": {
      "text/plain": [
       "0.8719073616110793"
      ]
     },
     "execution_count": 47,
     "metadata": {},
     "output_type": "execute_result"
    }
   ],
   "source": [
    "poly_train_res.mean()"
   ]
  },
  {
   "cell_type": "code",
   "execution_count": 48,
   "id": "df84d044",
   "metadata": {
    "cell_style": "split",
    "slideshow": {
     "slide_type": "fragment"
    }
   },
   "outputs": [
    {
     "data": {
      "text/plain": [
       "0.03638068060374389"
      ]
     },
     "execution_count": 48,
     "metadata": {},
     "output_type": "execute_result"
    }
   ],
   "source": [
    "poly_train_res.std(ddof =1)"
   ]
  },
  {
   "cell_type": "markdown",
   "id": "a4b8145b",
   "metadata": {
    "slideshow": {
     "slide_type": "subslide"
    }
   },
   "source": [
    "Wow...I'm ready to brag to my boss.\n",
    "\n",
    "- But let's check the performance on the validation folds."
   ]
  },
  {
   "cell_type": "code",
   "execution_count": 50,
   "id": "a17c2d15",
   "metadata": {
    "cell_style": "center",
    "slideshow": {
     "slide_type": "subslide"
    }
   },
   "outputs": [
    {
     "data": {
      "text/plain": [
       "array([ 0.58415863, -0.98181982,  0.57883744,  0.67200793,  0.13603473,\n",
       "        0.51348525,  0.11073327,  0.17470119,  0.81904845,  0.56611469])"
      ]
     },
     "execution_count": 50,
     "metadata": {},
     "output_type": "execute_result"
    }
   ],
   "source": [
    "poly_valid_res = poly_cv_results['test_r2']\n",
    "poly_valid_res"
   ]
  },
  {
   "cell_type": "code",
   "execution_count": 51,
   "id": "82352c88",
   "metadata": {
    "cell_style": "split",
    "slideshow": {
     "slide_type": "fragment"
    }
   },
   "outputs": [
    {
     "data": {
      "text/plain": [
       "0.3173301767269026"
      ]
     },
     "execution_count": 51,
     "metadata": {},
     "output_type": "execute_result"
    }
   ],
   "source": [
    "poly_valid_res.mean()"
   ]
  },
  {
   "cell_type": "code",
   "execution_count": 52,
   "id": "032af908",
   "metadata": {
    "cell_style": "split",
    "slideshow": {
     "slide_type": "fragment"
    }
   },
   "outputs": [
    {
     "data": {
      "text/plain": [
       "0.49001587855061146"
      ]
     },
     "execution_count": 52,
     "metadata": {},
     "output_type": "execute_result"
    }
   ],
   "source": [
    "poly_valid_res.std()"
   ]
  },
  {
   "cell_type": "code",
   "execution_count": 53,
   "id": "25b160ca",
   "metadata": {
    "cell_style": "center",
    "slideshow": {
     "slide_type": "subslide"
    }
   },
   "outputs": [
    {
     "data": {
      "text/plain": [
       "array([515.13349603, 735.46312669, 544.73941531, 535.49810021,\n",
       "       636.65477826, 586.17326249, 834.5894231 , 547.36027849,\n",
       "       364.95221001, 561.66743462])"
      ]
     },
     "execution_count": 53,
     "metadata": {},
     "output_type": "execute_result"
    }
   ],
   "source": [
    "RMSE_polytest = np.sqrt(np.abs(poly_cv_results['test_neg_mean_squared_error']))\n",
    "RMSE_polytest"
   ]
  },
  {
   "cell_type": "code",
   "execution_count": 54,
   "id": "409deff0",
   "metadata": {
    "cell_style": "split",
    "slideshow": {
     "slide_type": "fragment"
    }
   },
   "outputs": [
    {
     "data": {
      "text/plain": [
       "586.2231525211769"
      ]
     },
     "execution_count": 54,
     "metadata": {},
     "output_type": "execute_result"
    }
   ],
   "source": [
    "RMSE_polytest.mean()"
   ]
  },
  {
   "cell_type": "code",
   "execution_count": 56,
   "id": "0a1a2114",
   "metadata": {
    "cell_style": "split",
    "slideshow": {
     "slide_type": "fragment"
    }
   },
   "outputs": [
    {
     "data": {
      "text/plain": [
       "127.76868531351114"
      ]
     },
     "execution_count": 56,
     "metadata": {},
     "output_type": "execute_result"
    }
   ],
   "source": [
    "RMSE_polytest.std(ddof=1)"
   ]
  },
  {
   "cell_type": "markdown",
   "id": "1772b6f7",
   "metadata": {
    "slideshow": {
     "slide_type": "subslide"
    }
   },
   "source": [
    "<center><img src = \"Images/punch_chuck_norris.gif\" width = 400/></center>\n",
    "<center>You just got punched in the face by the bias-variance problem.</center>"
   ]
  },
  {
   "cell_type": "markdown",
   "id": "f3bae1de",
   "metadata": {
    "cell_style": "center",
    "slideshow": {
     "slide_type": "slide"
    }
   },
   "source": [
    "Fit an overly complex model:\n",
    "- Doesn't generalize well."
   ]
  },
  {
   "cell_type": "markdown",
   "id": "85fe0b36",
   "metadata": {
    "slideshow": {
     "slide_type": "slide"
    }
   },
   "source": [
    "Let's try regularizing polynomial model:\n",
    "$$ L = |\\textbf{y} - X \\textbf{w}|_2^2 + \\lambda |\\textbf{w}|_2^2 $$"
   ]
  },
  {
   "cell_type": "markdown",
   "id": "c5a708c1",
   "metadata": {
    "cell_style": "split",
    "slideshow": {
     "slide_type": "fragment"
    }
   },
   "source": [
    "\n",
    "- reduce the floppiness/complexity of model\n",
    "- but still keep *some* of the complexity added by these polynomial features."
   ]
  },
  {
   "cell_type": "markdown",
   "id": "142f8341",
   "metadata": {
    "cell_style": "split",
    "slideshow": {
     "slide_type": "fragment"
    }
   },
   "source": [
    "- Reduce Var[$\\textbf{w}$].\n",
    "- Get model predictions more representative of population."
   ]
  },
  {
   "cell_type": "code",
   "execution_count": 57,
   "id": "3abf0895",
   "metadata": {
    "hidden": true,
    "slideshow": {
     "slide_type": "slide"
    }
   },
   "outputs": [],
   "source": [
    "ss = StandardScaler()\n",
    "pf = PolynomialFeatures(degree=3)\n",
    "\n",
    "# You should always be sure to _standardize_ your data before\n",
    "# applying regularization!\n",
    "\n",
    "X_train_processed = pf.fit_transform(ss.fit_transform(X_train_df))\n",
    "X_test_processed = pf.transform(ss.transform(X_test_df))"
   ]
  },
  {
   "cell_type": "markdown",
   "id": "6097a667",
   "metadata": {
    "slideshow": {
     "slide_type": "slide"
    }
   },
   "source": [
    "Absolutely need to standardize/normalize features:"
   ]
  },
  {
   "cell_type": "markdown",
   "id": "409204d2",
   "metadata": {
    "slideshow": {
     "slide_type": "fragment"
    }
   },
   "source": [
    " $$ L = |\\textbf{y} - X \\textbf{w}|_2^2 + \\lambda |\\textbf{w}|_2^2 $$"
   ]
  },
  {
   "cell_type": "markdown",
   "id": "d1f23f85",
   "metadata": {
    "slideshow": {
     "slide_type": "fragment"
    }
   },
   "source": [
    "L2 regularization cost function makes no sense otherwise. \n",
    "- Weights will be on different scales if features not normalized."
   ]
  },
  {
   "cell_type": "code",
   "execution_count": 58,
   "id": "7a7a346b",
   "metadata": {
    "cell_style": "center",
    "slideshow": {
     "slide_type": "slide"
    }
   },
   "outputs": [
    {
     "data": {
      "text/plain": [
       "Ridge(alpha=100, random_state=42)"
      ]
     },
     "execution_count": 58,
     "metadata": {},
     "output_type": "execute_result"
    }
   ],
   "source": [
    "# 'Lambda' is the standard variable for the strength of the\n",
    "# regularization (as in the above formulas), but since lambda\n",
    "# is a key word in Python, these sklearn regularization tools\n",
    "# use 'alpha' instead.\n",
    "\n",
    "rr = Ridge(alpha=100, random_state=42)\n",
    "\n",
    "rr.fit(X_train_processed, y_train)"
   ]
  },
  {
   "cell_type": "code",
   "execution_count": 59,
   "id": "4816af9c",
   "metadata": {
    "cell_style": "split",
    "slideshow": {
     "slide_type": "fragment"
    }
   },
   "outputs": [
    {
     "data": {
      "text/plain": [
       "0.8858195769398121"
      ]
     },
     "execution_count": 59,
     "metadata": {},
     "output_type": "execute_result"
    }
   ],
   "source": [
    "rr.score(X_train_processed, y_train)"
   ]
  },
  {
   "cell_type": "code",
   "execution_count": 60,
   "id": "5022407d",
   "metadata": {
    "cell_style": "split",
    "slideshow": {
     "slide_type": "fragment"
    }
   },
   "outputs": [
    {
     "data": {
      "text/plain": [
       "0.8688983108974327"
      ]
     },
     "execution_count": 60,
     "metadata": {},
     "output_type": "execute_result"
    }
   ],
   "source": [
    "lr1.score(X_train_df, y_train)"
   ]
  },
  {
   "cell_type": "markdown",
   "id": "070d8198",
   "metadata": {
    "slideshow": {
     "slide_type": "slide"
    }
   },
   "source": [
    "Let' s cross validate this."
   ]
  },
  {
   "cell_type": "code",
   "execution_count": 61,
   "id": "11ba78dd",
   "metadata": {
    "slideshow": {
     "slide_type": "fragment"
    }
   },
   "outputs": [],
   "source": [
    "rr_cv_results = cross_validate(\n",
    "                X=X_train_processed, \n",
    "                y=y_train,\n",
    "                estimator=rr, \n",
    "                cv=10,\n",
    "                scoring=('r2', 'neg_mean_squared_error'),\n",
    "                return_train_score=True\n",
    ")"
   ]
  },
  {
   "cell_type": "markdown",
   "id": "995e6dc9",
   "metadata": {
    "slideshow": {
     "slide_type": "slide"
    }
   },
   "source": [
    "Get $R^2$ on train folds of cross validation trials:"
   ]
  },
  {
   "cell_type": "code",
   "execution_count": 62,
   "id": "8d9128ef",
   "metadata": {
    "slideshow": {
     "slide_type": "fragment"
    }
   },
   "outputs": [
    {
     "data": {
      "text/plain": [
       "array([0.88768944, 0.886945  , 0.88701008, 0.88207217, 0.88887472,\n",
       "       0.8843449 , 0.88600675, 0.88848898, 0.88421626, 0.88539415])"
      ]
     },
     "execution_count": 62,
     "metadata": {},
     "output_type": "execute_result"
    }
   ],
   "source": [
    "rr_cv_results['train_r2']"
   ]
  },
  {
   "cell_type": "markdown",
   "id": "ceb45927",
   "metadata": {
    "slideshow": {
     "slide_type": "slide"
    }
   },
   "source": [
    "Get $R^2$ on validation folds of cross validation trials:"
   ]
  },
  {
   "cell_type": "code",
   "execution_count": 63,
   "id": "07245a67",
   "metadata": {
    "slideshow": {
     "slide_type": "subslide"
    }
   },
   "outputs": [
    {
     "data": {
      "text/plain": [
       "array([0.83317242, 0.75269689, 0.86749677, 0.86884944, 0.8153149 ,\n",
       "       0.88686033, 0.85418436, 0.79593331, 0.86108265, 0.86365454])"
      ]
     },
     "execution_count": 63,
     "metadata": {},
     "output_type": "execute_result"
    }
   ],
   "source": [
    "rr_cv_results['test_r2']"
   ]
  },
  {
   "cell_type": "code",
   "execution_count": 64,
   "id": "0308def7",
   "metadata": {
    "cell_style": "split",
    "slideshow": {
     "slide_type": "fragment"
    }
   },
   "outputs": [
    {
     "data": {
      "text/plain": [
       "0.8399245628148447"
      ]
     },
     "execution_count": 64,
     "metadata": {},
     "output_type": "execute_result"
    }
   ],
   "source": [
    "rr_cv_results['test_r2'].mean()"
   ]
  },
  {
   "cell_type": "code",
   "execution_count": 65,
   "id": "b2142ab8",
   "metadata": {
    "cell_style": "split",
    "slideshow": {
     "slide_type": "fragment"
    }
   },
   "outputs": [
    {
     "data": {
      "text/plain": [
       "0.04110837045192142"
      ]
     },
     "execution_count": 65,
     "metadata": {},
     "output_type": "execute_result"
    }
   ],
   "source": [
    "rr_cv_results['test_r2'].std(ddof = 1)"
   ]
  },
  {
   "cell_type": "code",
   "execution_count": 66,
   "id": "5d5f593c",
   "metadata": {
    "slideshow": {
     "slide_type": "slide"
    }
   },
   "outputs": [
    {
     "data": {
      "text/plain": [
       "array([326.27955651, 259.80266776, 305.54638793, 338.61900856,\n",
       "       294.35524921, 282.67372802, 337.95502919, 272.1784423 ,\n",
       "       319.76658789, 314.85610328])"
      ]
     },
     "execution_count": 66,
     "metadata": {},
     "output_type": "execute_result"
    }
   ],
   "source": [
    "RMSE_rrtest = np.sqrt(np.abs(rr_cv_results['test_neg_mean_squared_error']))\n",
    "RMSE_rrtest"
   ]
  },
  {
   "cell_type": "code",
   "execution_count": 67,
   "id": "958e287a",
   "metadata": {
    "cell_style": "split",
    "slideshow": {
     "slide_type": "fragment"
    }
   },
   "outputs": [
    {
     "data": {
      "text/plain": [
       "305.2032760650944"
      ]
     },
     "execution_count": 67,
     "metadata": {},
     "output_type": "execute_result"
    }
   ],
   "source": [
    "RMSE_rrtest.mean()"
   ]
  },
  {
   "cell_type": "code",
   "execution_count": 68,
   "id": "79de1898",
   "metadata": {
    "cell_style": "split",
    "slideshow": {
     "slide_type": "fragment"
    }
   },
   "outputs": [
    {
     "data": {
      "text/plain": [
       "25.91524273441403"
      ]
     },
     "execution_count": 68,
     "metadata": {},
     "output_type": "execute_result"
    }
   ],
   "source": [
    "RMSE_rrtest.std()"
   ]
  },
  {
   "cell_type": "markdown",
   "id": "41f004bc",
   "metadata": {
    "cell_style": "split",
    "slideshow": {
     "slide_type": "slide"
    }
   },
   "source": [
    "L2 regularized polynomial model:\n",
    "- A little bit worse than my basic linear model.\n",
    "- Much much better than the un-regularized polynomial model."
   ]
  },
  {
   "cell_type": "markdown",
   "id": "7da40bee",
   "metadata": {
    "cell_style": "split",
    "slideshow": {
     "slide_type": "fragment"
    }
   },
   "source": [
    "Could I do better? Possibly.\n",
    "\n",
    "- Tune hyperparameter $\\lambda$."
   ]
  },
  {
   "cell_type": "markdown",
   "id": "5d164964",
   "metadata": {
    "cell_style": "split",
    "slideshow": {
     "slide_type": "slide"
    }
   },
   "source": [
    "#### Tuning hyperparameters\n",
    "\n",
    "- Don't know what $\\lambda$ will allow model to perform best on validation sets.\n",
    "- Need to tune this."
   ]
  },
  {
   "cell_type": "markdown",
   "id": "9164435b",
   "metadata": {
    "cell_style": "split",
    "slideshow": {
     "slide_type": "fragment"
    }
   },
   "source": [
    "- Adjust model stiffness/regularization parameter\n",
    "- Assess model performance in validation testing."
   ]
  },
  {
   "cell_type": "markdown",
   "id": "dd4a2d86",
   "metadata": {
    "slideshow": {
     "slide_type": "slide"
    }
   },
   "source": [
    "#### The most basic hyperparameter tuning method:"
   ]
  },
  {
   "cell_type": "markdown",
   "id": "725b5a81",
   "metadata": {
    "slideshow": {
     "slide_type": "subslide"
    }
   },
   "source": [
    "Make a loop:"
   ]
  },
  {
   "cell_type": "code",
   "execution_count": 69,
   "id": "3ba00340",
   "metadata": {
    "cell_style": "center",
    "slideshow": {
     "slide_type": "subslide"
    }
   },
   "outputs": [],
   "source": [
    "alphas = [1e-3, 1e-2, 1e-1, 1, 10, 100, 1e3, 1e4]\n",
    "cv_scores = []\n",
    "\n",
    "for alpha in alphas:\n",
    "    rr = Ridge(alpha=alpha, random_state=42)\n",
    "    cv_loop_results = cross_validate(\n",
    "                X=X_train_processed, \n",
    "                y=y_train,\n",
    "                estimator=rr, \n",
    "                cv=10,\n",
    "                scoring=('neg_mean_squared_error'))\n",
    "    cv_scores.append(np.mean(np.sqrt(np.abs(cv_loop_results['test_score']))))"
   ]
  },
  {
   "cell_type": "code",
   "execution_count": 70,
   "id": "a772a269",
   "metadata": {
    "scrolled": true,
    "slideshow": {
     "slide_type": "subslide"
    }
   },
   "outputs": [
    {
     "data": {
      "image/png": "[encoded data removed]",
      "text/plain": [
       "<Figure size 432x288 with 1 Axes>"
      ]
     },
     "metadata": {
      "needs_background": "light"
     },
     "output_type": "display_data"
    }
   ],
   "source": [
    "fig, ax = plt.subplots()\n",
    "sns.lineplot(x = np.log10(alphas), y = cv_scores, marker = 's', ax = ax)\n",
    "ax.set_xlabel('Log(lambda)')\n",
    "ax.set_ylabel('Mean RMSE')\n",
    "ax.set_title('RMSE averaged on validation folds')\n",
    "plt.show()"
   ]
  },
  {
   "cell_type": "markdown",
   "id": "535ea80b",
   "metadata": {
    "slideshow": {
     "slide_type": "fragment"
    }
   },
   "source": [
    "Could fine tune:\n",
    "- But of hyperparameter values tried $\\lambda = 100$ is best."
   ]
  },
  {
   "cell_type": "markdown",
   "id": "79d07b06",
   "metadata": {
    "slideshow": {
     "slide_type": "slide"
    }
   },
   "source": [
    "Now we *finally* report results on the true test set:\n",
    "- We have not fit / optimized on it.\n",
    "- Have not tuned hyperparameters to see how well it performs on validation folds.\n",
    "\n",
    "**Test/hold-out set is our true final gold standard**"
   ]
  },
  {
   "cell_type": "code",
   "execution_count": 71,
   "id": "5aab7393",
   "metadata": {
    "slideshow": {
     "slide_type": "subslide"
    }
   },
   "outputs": [
    {
     "data": {
      "text/plain": [
       "Ridge(alpha=100, random_state=42)"
      ]
     },
     "execution_count": 71,
     "metadata": {},
     "output_type": "execute_result"
    }
   ],
   "source": [
    "rr = Ridge(alpha = 100, random_state = 42)\n",
    "rr.fit(X_train_processed, y_train)"
   ]
  },
  {
   "cell_type": "code",
   "execution_count": 72,
   "id": "0b11ae56",
   "metadata": {
    "cell_style": "center",
    "slideshow": {
     "slide_type": "fragment"
    }
   },
   "outputs": [],
   "source": [
    "y_pred = rr.predict(X_test_processed)"
   ]
  },
  {
   "cell_type": "code",
   "execution_count": 73,
   "id": "d806fbbd",
   "metadata": {
    "cell_style": "split",
    "slideshow": {
     "slide_type": "subslide"
    }
   },
   "outputs": [
    {
     "data": {
      "text/plain": [
       "265.44225908366553"
      ]
     },
     "execution_count": 73,
     "metadata": {},
     "output_type": "execute_result"
    }
   ],
   "source": [
    "from sklearn.metrics import mean_squared_error\n",
    "ridge_RMSE_holdout = np.sqrt(mean_squared_error(y_pred, y_test))\n",
    "ridge_RMSE_holdout"
   ]
  },
  {
   "cell_type": "markdown",
   "id": "5e53d2e0",
   "metadata": {
    "cell_style": "split",
    "slideshow": {
     "slide_type": "fragment"
    }
   },
   "source": [
    "Given the scale of the penguin body mass (g): this is good."
   ]
  },
  {
   "cell_type": "code",
   "execution_count": 74,
   "id": "1b88e2a8",
   "metadata": {
    "cell_style": "split",
    "slideshow": {
     "slide_type": "fragment"
    }
   },
   "outputs": [
    {
     "data": {
      "text/plain": [
       "<AxesSubplot:xlabel='body_mass_g', ylabel='Count'>"
      ]
     },
     "execution_count": 74,
     "metadata": {},
     "output_type": "execute_result"
    },
    {
     "data": {
      "image/png": "[encoded data removed]",
      "text/plain": [
       "<Figure size 432x288 with 1 Axes>"
      ]
     },
     "metadata": {
      "needs_background": "light"
     },
     "output_type": "display_data"
    }
   ],
   "source": [
    "sns.histplot(y)"
   ]
  },
  {
   "cell_type": "markdown",
   "id": "d05cfbc9",
   "metadata": {
    "slideshow": {
     "slide_type": "slide"
    }
   },
   "source": [
    "#### Takeaways of what we just did"
   ]
  },
  {
   "cell_type": "markdown",
   "id": "7910ee6c",
   "metadata": {
    "slideshow": {
     "slide_type": "subslide"
    }
   },
   "source": [
    "- Polynomial model: poor prediction performance.\n",
    "- L2 regularized the polynomial regression model (Ridge regression) + tuning\n",
    "- **Much** better test performance than unregularized polynomial model."
   ]
  },
  {
   "cell_type": "markdown",
   "id": "0b603b9a",
   "metadata": {
    "cell_style": "split",
    "slideshow": {
     "slide_type": "fragment"
    }
   },
   "source": [
    "But:\n",
    "    \n",
    "- Our simple linear model with no polynomial worked well.\n",
    "- Almost as well as polynomial features\n",
    "- Think carefully before adding model complexity."
   ]
  },
  {
   "cell_type": "markdown",
   "id": "337d4a77",
   "metadata": {
    "cell_style": "split",
    "slideshow": {
     "slide_type": "fragment"
    }
   },
   "source": [
    "A simple model with less number of good quality predictive features may work as well if not better."
   ]
  },
  {
   "cell_type": "markdown",
   "id": "8a34ce93",
   "metadata": {
    "slideshow": {
     "slide_type": "subslide"
    }
   },
   "source": [
    "Logical extension:\n",
    "- Features that are correlated but don't want to throw them away.\n",
    "- L2 regularized linear model + tuning:\n",
    "    - don't throw out features.\n",
    "    - get better test performance than OLS by reducing weight variance.\n"
   ]
  },
  {
   "cell_type": "markdown",
   "id": "c395fc93",
   "metadata": {
    "slideshow": {
     "slide_type": "subslide"
    }
   },
   "source": [
    "Sometimes though: throwing away features might work better:\n",
    "- Learn good features only with high predictive power\n",
    "- Chuck the rest."
   ]
  },
  {
   "cell_type": "markdown",
   "id": "59e716f9",
   "metadata": {
    "slideshow": {
     "slide_type": "slide"
    }
   },
   "source": [
    "#### L1 Regularization (LASSO)"
   ]
  },
  {
   "cell_type": "markdown",
   "id": "d2900810",
   "metadata": {
    "slideshow": {
     "slide_type": "subslide"
    }
   },
   "source": [
    "$$ L = |\\textbf{y} - X \\textbf{w}|_2^2 + \\lambda |\\textbf{w}|_1 $$\n",
    "\n",
    "with $|\\textbf{w}|_1 = |w_1| + |w_2| + ... + |w_m|$ as sum of absolute magnitude of the feature weights."
   ]
  },
  {
   "cell_type": "markdown",
   "id": "2188e936",
   "metadata": {
    "slideshow": {
     "slide_type": "slide"
    }
   },
   "source": [
    "Taxi cab vs Euclidean distance:"
   ]
  },
  {
   "cell_type": "markdown",
   "id": "c4583648",
   "metadata": {
    "slideshow": {
     "slide_type": "subslide"
    }
   },
   "source": [
    "<img src = \"Images/metrics.png\" width = 450/>"
   ]
  },
  {
   "cell_type": "markdown",
   "id": "200927d9",
   "metadata": {
    "cell_style": "split",
    "slideshow": {
     "slide_type": "slide"
    }
   },
   "source": [
    "Circle in terms of L2 vs L1 distance:"
   ]
  },
  {
   "cell_type": "markdown",
   "id": "c180b27f",
   "metadata": {
    "cell_style": "split",
    "slideshow": {
     "slide_type": "fragment"
    }
   },
   "source": [
    "\"Circle\" in L1:\n",
    "<img src = \"Images/taxcabgeometry.jpg\" width = 400/>"
   ]
  },
  {
   "cell_type": "markdown",
   "id": "d77ae659",
   "metadata": {
    "cell_style": "split",
    "slideshow": {
     "slide_type": "slide"
    }
   },
   "source": [
    "General $L^p$ norm:\n",
    "\n",
    "$$ |\\textbf{w}|_P =  \\sqrt[p]{|w_1|^p + |w_2|^p + ... + |w_m|^p} $$"
   ]
  },
  {
   "cell_type": "markdown",
   "id": "680d0d7b",
   "metadata": {
    "cell_style": "split",
    "slideshow": {
     "slide_type": "fragment"
    }
   },
   "source": [
    "\"Circles\" for different metrics\n",
    "\n",
    "<img src = \"Images/circles.png\" width = 400/>"
   ]
  },
  {
   "cell_type": "markdown",
   "id": "d94f7808",
   "metadata": {
    "slideshow": {
     "slide_type": "slide"
    }
   },
   "source": [
    "Why use the L1 magnitude $|\\textbf{w}|_1$ for regularization?"
   ]
  },
  {
   "cell_type": "markdown",
   "id": "869214e5",
   "metadata": {
    "slideshow": {
     "slide_type": "subslide"
    }
   },
   "source": [
    "LASSO encourages model weight sparsity: \n",
    "- prefers to drive weights $w_i$ for features with little predictive power to 0."
   ]
  },
  {
   "cell_type": "markdown",
   "id": "c4c72d9d",
   "metadata": {
    "slideshow": {
     "slide_type": "fragment"
    }
   },
   "source": [
    "<img src = \"Images/different_metric_regularization.png\" width = 600 />"
   ]
  },
  {
   "cell_type": "markdown",
   "id": "c08261bc",
   "metadata": {
    "slideshow": {
     "slide_type": "slide"
    }
   },
   "source": [
    "Perform LASSO regression with scikit-learn:"
   ]
  },
  {
   "cell_type": "markdown",
   "id": "b9a124c8",
   "metadata": {
    "slideshow": {
     "slide_type": "slide"
    }
   },
   "source": [
    "with a general cost function:"
   ]
  },
  {
   "cell_type": "code",
   "execution_count": 75,
   "id": "8cb6a5ca",
   "metadata": {
    "slideshow": {
     "slide_type": "fragment"
    }
   },
   "outputs": [],
   "source": [
    "from sklearn.linear_model import Lasso"
   ]
  },
  {
   "cell_type": "markdown",
   "id": "b9d8c511",
   "metadata": {
    "slideshow": {
     "slide_type": "slide"
    }
   },
   "source": [
    "Find the best LASSO model: tune regularization hyperparameter."
   ]
  },
  {
   "cell_type": "code",
   "execution_count": 76,
   "id": "d23adce6",
   "metadata": {
    "slideshow": {
     "slide_type": "subslide"
    }
   },
   "outputs": [],
   "source": [
    "alphas = [1, 10, 100, 1e3, 1e4]\n",
    "cv_lasso_scores = []\n",
    "\n",
    "for alpha in alphas:\n",
    "    lasso = Lasso(alpha=alpha, random_state=42, max_iter = 10000)\n",
    "    cv_loop_results = cross_validate(\n",
    "                X=X_train_processed, \n",
    "                y=y_train,\n",
    "                estimator=lasso, \n",
    "                cv=10,\n",
    "                scoring=('neg_mean_squared_error'))\n",
    "    cv_lasso_scores.append(np.mean(np.sqrt(np.abs(cv_loop_results['test_score']))))"
   ]
  },
  {
   "cell_type": "code",
   "execution_count": 77,
   "id": "ec815bbc",
   "metadata": {
    "cell_style": "split",
    "slideshow": {
     "slide_type": "fragment"
    }
   },
   "outputs": [
    {
     "data": {
      "text/plain": [
       "[1, 10, 100, 1000.0, 10000.0]"
      ]
     },
     "execution_count": 77,
     "metadata": {},
     "output_type": "execute_result"
    }
   ],
   "source": [
    "alphas"
   ]
  },
  {
   "cell_type": "code",
   "execution_count": 78,
   "id": "845ebbbe",
   "metadata": {
    "cell_style": "split",
    "slideshow": {
     "slide_type": "fragment"
    }
   },
   "outputs": [
    {
     "data": {
      "text/plain": [
       "[344.876845644357,\n",
       " 301.7613157515681,\n",
       " 340.2693259123927,\n",
       " 699.4512087784859,\n",
       " 811.3632576452586]"
      ]
     },
     "execution_count": 78,
     "metadata": {},
     "output_type": "execute_result"
    }
   ],
   "source": [
    "cv_lasso_scores"
   ]
  },
  {
   "cell_type": "markdown",
   "id": "36e5bd3e",
   "metadata": {
    "slideshow": {
     "slide_type": "slide"
    }
   },
   "source": [
    "The best LASSO model:"
   ]
  },
  {
   "cell_type": "code",
   "execution_count": 89,
   "id": "b728dab5",
   "metadata": {
    "slideshow": {
     "slide_type": "subslide"
    }
   },
   "outputs": [],
   "source": [
    "lasso_opt = Lasso(alpha=10, random_state=42,  max_iter = 100000)\n",
    "lasso_opt.fit(X_train_processed, y_train)\n",
    "\n",
    "y_pred = lasso_opt.predict(X_test_processed) # get final test prediction"
   ]
  },
  {
   "cell_type": "code",
   "execution_count": 90,
   "id": "d19c8e5f",
   "metadata": {
    "cell_style": "split",
    "slideshow": {
     "slide_type": "fragment"
    }
   },
   "outputs": [
    {
     "data": {
      "text/plain": [
       "267.3764555465856"
      ]
     },
     "execution_count": 90,
     "metadata": {},
     "output_type": "execute_result"
    }
   ],
   "source": [
    "lasso_RMSE = np.sqrt(mean_squared_error(y_pred, y_test))\n",
    "lasso_RMSE"
   ]
  },
  {
   "cell_type": "code",
   "execution_count": 91,
   "id": "14290f32",
   "metadata": {
    "cell_style": "split",
    "slideshow": {
     "slide_type": "fragment"
    }
   },
   "outputs": [
    {
     "data": {
      "text/plain": [
       "265.44225908366553"
      ]
     },
     "execution_count": 91,
     "metadata": {},
     "output_type": "execute_result"
    }
   ],
   "source": [
    "ridge_RMSE_holdout"
   ]
  },
  {
   "cell_type": "markdown",
   "id": "e4d17e95",
   "metadata": {
    "slideshow": {
     "slide_type": "slide"
    }
   },
   "source": [
    "Comparable between ridge and LASSO. LASSO tends to have higher weight variance than ridge.\n",
    "\n",
    "But what's the real difference?"
   ]
  },
  {
   "cell_type": "code",
   "execution_count": 96,
   "id": "77a3908a",
   "metadata": {},
   "outputs": [
    {
     "data": {
      "text/plain": [
       "0.8848874802035901"
      ]
     },
     "execution_count": 96,
     "metadata": {},
     "output_type": "execute_result"
    }
   ],
   "source": [
    "lasso_opt.score(X_train_processed, y_train)"
   ]
  },
  {
   "cell_type": "code",
   "execution_count": 95,
   "id": "e26338c9",
   "metadata": {},
   "outputs": [
    {
     "data": {
      "text/plain": [
       "0.8858195769398121"
      ]
     },
     "execution_count": 95,
     "metadata": {},
     "output_type": "execute_result"
    }
   ],
   "source": [
    "rr.score(X_train_processed, y_train)"
   ]
  },
  {
   "cell_type": "code",
   "execution_count": 92,
   "id": "3e8024f2",
   "metadata": {
    "cell_style": "center",
    "scrolled": false,
    "slideshow": {
     "slide_type": "subslide"
    }
   },
   "outputs": [
    {
     "name": "stdout",
     "output_type": "stream",
     "text": [
      "[  0.          29.32960231   0.8046896   38.17109867  -4.10436699\n",
      "  40.27228066 -10.86847643  -1.58292157  37.48222572 -14.02382992\n",
      "  -4.57236431  -5.95361058 -20.50428693  -0.75058332 -24.04661014\n",
      " -10.05361186 -10.79395713 -10.65313696  -1.72724584   5.1723557\n",
      " -14.20925988   5.06212976  -0.25055749 -17.27288405   0.57708637\n",
      " -16.2812928    7.40733877 -20.38843876 -19.91851821   4.7657019\n",
      "  -5.75859125 -17.85396187   0.47018371   2.37087442 -22.65473387\n",
      "  23.22926662 -23.72344945 -13.9956209   -3.80574878  -5.11166274\n",
      "   5.35232607  -8.82144444  -3.60074121  -9.27420928  -2.71133015\n",
      "  -4.99539005   4.03028956   9.62441097   1.62602145  17.78209921\n",
      "  10.12563598  12.69525486  16.44364281  14.71106968  13.32988964\n",
      "   4.32024456  -9.68390238   5.32047154  -0.74803361   1.05694406\n",
      "  -7.35649966  23.17919449  10.28762348  20.77489205   9.9559688\n",
      "  13.05856002   0.56126663   4.34217579   5.87326338   7.20871856\n",
      "   6.7571956   28.89666184   1.20704504  -0.47418842  25.29255039\n",
      "  18.01999863   8.2706428  -16.6427663    6.46020986  13.73417709\n",
      "  30.11039856  23.28461617  13.18537889  -1.96828897  -8.00204215\n",
      " -16.22924313 -11.47134084  12.55550058   4.56030071  12.52747761\n",
      "  -8.98690406   7.93805654   2.10947658  22.9063483    8.06171178\n",
      "   3.18266103   4.42569259  -1.97797996 -13.91324401  -7.39128741\n",
      "   6.96733559   5.31847268  -8.94480721   3.18551088  -1.95080556\n",
      "  -6.88825863   0.23473548  -6.4299896    2.05414825   8.471623\n",
      "   3.96784387  27.91371492   1.56044276   4.60478253 -10.95488176\n",
      "  15.32779287  -6.53625975  15.10649978   9.01231345  18.33382474\n",
      "  42.44369124 -13.2763583    1.36297192   7.87805233  28.58200646\n",
      "  12.06432988   1.84982044  -7.13842952   6.28526848  37.82636484\n",
      " -12.18390113  15.22245718 -10.20878985   1.74351019   5.69672687\n",
      " -14.40262757  16.23471332   6.11338102   4.35923078  -3.88323015\n",
      "  -0.82932209   0.59326724   1.28876518   6.01567541  -2.46560457\n",
      "  53.67104574 -24.55228881  -9.65567047  35.28704949  29.11466595\n",
      "   8.00268366 -12.68621661   8.43582712  -2.22146747  40.54757492\n",
      " -13.27259407   0.93438487  33.33332324   1.30669476  -0.52332346\n",
      " -10.23036469  -9.77368575  16.38577455  -0.91205844  37.67835365]\n"
     ]
    }
   ],
   "source": [
    "print(rr.coef_)"
   ]
  },
  {
   "cell_type": "code",
   "execution_count": 94,
   "id": "22b0cd92",
   "metadata": {
    "slideshow": {
     "slide_type": "subslide"
    }
   },
   "outputs": [
    {
     "data": {
      "text/plain": [
       "array([ 0.00000000e+00,  0.00000000e+00,  0.00000000e+00,  0.00000000e+00,\n",
       "       -0.00000000e+00,  0.00000000e+00, -0.00000000e+00, -0.00000000e+00,\n",
       "        0.00000000e+00, -0.00000000e+00, -0.00000000e+00, -0.00000000e+00,\n",
       "       -0.00000000e+00,  0.00000000e+00, -0.00000000e+00, -0.00000000e+00,\n",
       "       -0.00000000e+00, -0.00000000e+00, -0.00000000e+00, -0.00000000e+00,\n",
       "       -0.00000000e+00, -0.00000000e+00, -0.00000000e+00, -2.69391521e+00,\n",
       "       -0.00000000e+00,  0.00000000e+00,  0.00000000e+00, -0.00000000e+00,\n",
       "       -0.00000000e+00, -0.00000000e+00, -0.00000000e+00, -0.00000000e+00,\n",
       "       -0.00000000e+00,  0.00000000e+00, -5.10132627e+01,  0.00000000e+00,\n",
       "       -0.00000000e+00, -0.00000000e+00, -0.00000000e+00, -0.00000000e+00,\n",
       "        0.00000000e+00, -0.00000000e+00, -0.00000000e+00, -0.00000000e+00,\n",
       "       -0.00000000e+00,  0.00000000e+00,  0.00000000e+00,  1.47906338e+01,\n",
       "       -0.00000000e+00,  0.00000000e+00,  0.00000000e+00,  0.00000000e+00,\n",
       "        0.00000000e+00,  1.59936629e+01,  0.00000000e+00,  0.00000000e+00,\n",
       "       -0.00000000e+00,  0.00000000e+00,  0.00000000e+00,  0.00000000e+00,\n",
       "        0.00000000e+00,  6.50914705e+01,  0.00000000e+00,  4.96190925e+00,\n",
       "        0.00000000e+00,  0.00000000e+00, -0.00000000e+00,  0.00000000e+00,\n",
       "        0.00000000e+00,  0.00000000e+00, -0.00000000e+00,  5.49733074e+01,\n",
       "        0.00000000e+00, -0.00000000e+00,  1.80439703e+01,  0.00000000e+00,\n",
       "        0.00000000e+00, -1.04492464e+01,  0.00000000e+00,  6.22434602e+00,\n",
       "        1.01230633e+01,  2.62383576e+01,  0.00000000e+00, -0.00000000e+00,\n",
       "       -0.00000000e+00, -0.00000000e+00, -3.50854789e+00,  0.00000000e+00,\n",
       "        0.00000000e+00,  0.00000000e+00, -0.00000000e+00,  0.00000000e+00,\n",
       "        0.00000000e+00,  3.99927962e+01,  0.00000000e+00,  0.00000000e+00,\n",
       "        0.00000000e+00,  0.00000000e+00, -0.00000000e+00,  0.00000000e+00,\n",
       "        0.00000000e+00,  0.00000000e+00, -0.00000000e+00,  0.00000000e+00,\n",
       "        0.00000000e+00, -0.00000000e+00, -0.00000000e+00, -0.00000000e+00,\n",
       "        0.00000000e+00,  0.00000000e+00, -0.00000000e+00,  0.00000000e+00,\n",
       "        0.00000000e+00,  0.00000000e+00, -0.00000000e+00,  2.78915994e-01,\n",
       "       -0.00000000e+00,  0.00000000e+00,  0.00000000e+00,  4.23350075e+00,\n",
       "        1.26874093e+02, -0.00000000e+00,  0.00000000e+00, -0.00000000e+00,\n",
       "        0.00000000e+00,  0.00000000e+00,  0.00000000e+00, -1.55931286e+01,\n",
       "        0.00000000e+00,  8.36702049e+01, -2.21908315e+01,  0.00000000e+00,\n",
       "       -0.00000000e+00,  0.00000000e+00, -0.00000000e+00, -0.00000000e+00,\n",
       "        0.00000000e+00, -0.00000000e+00,  0.00000000e+00, -0.00000000e+00,\n",
       "        0.00000000e+00, -0.00000000e+00,  0.00000000e+00,  0.00000000e+00,\n",
       "       -0.00000000e+00,  2.88138709e+02, -0.00000000e+00, -0.00000000e+00,\n",
       "        0.00000000e+00,  0.00000000e+00,  0.00000000e+00, -0.00000000e+00,\n",
       "        0.00000000e+00,  0.00000000e+00,  0.00000000e+00, -0.00000000e+00,\n",
       "       -0.00000000e+00,  0.00000000e+00,  0.00000000e+00,  0.00000000e+00,\n",
       "       -0.00000000e+00, -5.38083094e+00, -0.00000000e+00, -0.00000000e+00,\n",
       "        2.27726995e+02])"
      ]
     },
     "execution_count": 94,
     "metadata": {},
     "output_type": "execute_result"
    }
   ],
   "source": [
    "lasso_opt.coef_"
   ]
  },
  {
   "cell_type": "markdown",
   "id": "c899b88f",
   "metadata": {
    "cell_style": "split",
    "slideshow": {
     "slide_type": "slide"
    }
   },
   "source": [
    "#### Ridge \n",
    "When we introduce many features that:\n",
    "- we believe may all have some predictive power.\n",
    "- want to heavily penalize weight variance"
   ]
  },
  {
   "cell_type": "markdown",
   "id": "697f5388",
   "metadata": {
    "cell_style": "split",
    "slideshow": {
     "slide_type": "fragment"
    }
   },
   "source": [
    "#### LASSO"
   ]
  },
  {
   "cell_type": "markdown",
   "id": "4cc530a2",
   "metadata": {
    "cell_style": "split",
    "slideshow": {
     "slide_type": "fragment"
    }
   },
   "source": [
    "We have dataset with many highly correlated features:\n",
    "- believe many are not actually adding to predictive power.\n",
    "- willing to cut away marginally unimportant features.\n"
   ]
  },
  {
   "cell_type": "markdown",
   "id": "5ce5f4c4",
   "metadata": {
    "slideshow": {
     "slide_type": "slide"
    }
   },
   "source": [
    "Which is better:\n",
    "- depends on dataset\n",
    "- modeling goal "
   ]
  }
 ],
 "metadata": {
  "celltoolbar": "Slideshow",
  "kernelspec": {
   "display_name": "Python 3",
   "language": "python",
   "name": "python3"
  },
  "language_info": {
   "codemirror_mode": {
    "name": "ipython",
    "version": 3
   },
   "file_extension": ".py",
   "mimetype": "text/x-python",
   "name": "python",
   "nbconvert_exporter": "python",
   "pygments_lexer": "ipython3",
   "version": "3.8.5"
  }
 },
 "nbformat": 4,
 "nbformat_minor": 5
}
