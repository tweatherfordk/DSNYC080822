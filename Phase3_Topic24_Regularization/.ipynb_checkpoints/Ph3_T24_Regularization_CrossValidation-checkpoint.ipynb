{
 "cells": [
  {
   "cell_type": "markdown",
   "id": "3f8e707e",
   "metadata": {
    "slideshow": {
     "slide_type": "slide"
    }
   },
   "source": [
    "<div style=\"color:white;\n",
    "           display:fill;\n",
    "           border-radius:5px;\n",
    "           background-color:#5642C5;\n",
    "           font-size:200%;\n",
    "           font-\\amily:Arial;letter-spacing:0.5px\">\n",
    "\n",
    "<p width = 20%, style=\"padding: 10px;\n",
    "              color:white;\">\n",
    "Cross-Validation and Regularization\n",
    "              \n",
    "</p>\n",
    "</div>\n",
    "\n",
    "Data Science Cohort Live NYC Feb 2022\n",
    "<p>Phase 3: Topic 24</p>\n",
    "<br>\n",
    "<br>\n",
    "\n",
    "<div align = \"right\">\n",
    "<img src=\"Images/flatiron-school-logo.png\" align = \"right\" width=\"200\"/>\n",
    "</div>"
   ]
  },
  {
   "cell_type": "markdown",
   "id": "662b1941",
   "metadata": {
    "slideshow": {
     "slide_type": "slide"
    }
   },
   "source": [
    "Recall:"
   ]
  },
  {
   "cell_type": "markdown",
   "id": "51864965",
   "metadata": {
    "cell_style": "split",
    "slideshow": {
     "slide_type": "fragment"
    }
   },
   "source": [
    "Bias: \n",
    "- when model not complex enough\n",
    "- feature space not adequately rich enough to explain target\n",
    "\n"
   ]
  },
  {
   "cell_type": "markdown",
   "id": "bc4cea96",
   "metadata": {
    "cell_style": "split",
    "slideshow": {
     "slide_type": "fragment"
    }
   },
   "source": [
    "Variance: \n",
    "\n",
    "- model/weights: large fluctuations about true model given different train sets\n",
    "\n",
    "- High $ \\mathrm{Var}[\\textbf{w}] $ over realization of training sets\n",
    "\n",
    "- High fluctuation in MAE over test sets."
   ]
  },
  {
   "cell_type": "markdown",
   "id": "117e4369",
   "metadata": {
    "cell_style": "split",
    "slideshow": {
     "slide_type": "slide"
    }
   },
   "source": [
    "The bulls-eye diagrams of fitting model to different training set realizations:\n",
    "<center><img src = \"Images/biasvar_bullseye.png\" width = 400/></center>"
   ]
  },
  {
   "cell_type": "markdown",
   "id": "8efae746",
   "metadata": {
    "cell_style": "split",
    "slideshow": {
     "slide_type": "fragment"
    }
   },
   "source": [
    "Each dot is a model:\n",
    "- Bulls-eye: the *true* model (generating mean of $y$ given $X$ in the population) \n",
    "- Each dot: models trained on different samples."
   ]
  },
  {
   "cell_type": "markdown",
   "id": "55fb853c",
   "metadata": {
    "slideshow": {
     "slide_type": "fragment"
    }
   },
   "source": [
    "**Our goal**: lowering bias and variance in training predictive models\n",
    "\n",
    "but the two often at odds."
   ]
  },
  {
   "cell_type": "markdown",
   "id": "90008e7a",
   "metadata": {
    "slideshow": {
     "slide_type": "slide"
    }
   },
   "source": [
    "**Multicollinearity**\n",
    "\n",
    "Have to grapple with these issues when constructing linear models with multicollinear features"
   ]
  },
  {
   "cell_type": "markdown",
   "id": "dbac7b45",
   "metadata": {
    "slideshow": {
     "slide_type": "fragment"
    }
   },
   "source": [
    "We talked about this way back. But how does it increase Var[$\\textbf{w}$]?"
   ]
  },
  {
   "cell_type": "code",
<<<<<<< HEAD
   "execution_count": 10,
   "id": "361212ec",
=======
   "execution_count": 150,
   "id": "2da55d1a",
>>>>>>> 425ca127b44c9b7982a774403ac7808a8ea772c0
   "metadata": {
    "slideshow": {
     "slide_type": "slide"
    }
   },
   "outputs": [],
   "source": [
    "import numpy as np\n",
    "import pandas as pd\n",
    "import seaborn as sns\n",
    "import matplotlib.pyplot as plt\n",
    "\n",
    "WHO_data = pd.read_csv(\"Data/WHO_life.csv\")\n",
    "X_WHO = WHO_data.drop(columns = [\"Life expectancy \"])\n",
    "X_WHO.columns = X_WHO.columns.str.strip()\n",
    "y = WHO_data[\"Life expectancy \"]"
   ]
  },
  {
   "cell_type": "code",
<<<<<<< HEAD
   "execution_count": 11,
   "id": "d0ea7729",
=======
   "execution_count": 151,
   "id": "d8dd4f6d",
>>>>>>> 425ca127b44c9b7982a774403ac7808a8ea772c0
   "metadata": {
    "scrolled": true,
    "slideshow": {
     "slide_type": "subslide"
    }
   },
   "outputs": [
    {
     "data": {
      "text/html": [
       "<div>\n",
       "<style scoped>\n",
       "    .dataframe tbody tr th:only-of-type {\n",
       "        vertical-align: middle;\n",
       "    }\n",
       "\n",
       "    .dataframe tbody tr th {\n",
       "        vertical-align: top;\n",
       "    }\n",
       "\n",
       "    .dataframe thead th {\n",
       "        text-align: right;\n",
       "    }\n",
       "</style>\n",
       "<table border=\"1\" class=\"dataframe\">\n",
       "  <thead>\n",
       "    <tr style=\"text-align: right;\">\n",
       "      <th></th>\n",
       "      <th>Country</th>\n",
       "      <th>Year</th>\n",
       "      <th>Status</th>\n",
       "      <th>Adult Mortality</th>\n",
       "      <th>infant deaths</th>\n",
       "      <th>Alcohol</th>\n",
       "      <th>percentage expenditure</th>\n",
       "      <th>Hepatitis B</th>\n",
       "      <th>Measles</th>\n",
       "      <th>BMI</th>\n",
       "      <th>...</th>\n",
       "      <th>Polio</th>\n",
       "      <th>Total expenditure</th>\n",
       "      <th>Diphtheria</th>\n",
       "      <th>HIV/AIDS</th>\n",
       "      <th>GDP</th>\n",
       "      <th>Population</th>\n",
       "      <th>thinness  1-19 years</th>\n",
       "      <th>thinness 5-9 years</th>\n",
       "      <th>Income composition of resources</th>\n",
       "      <th>Schooling</th>\n",
       "    </tr>\n",
       "  </thead>\n",
       "  <tbody>\n",
       "    <tr>\n",
       "      <th>0</th>\n",
       "      <td>Afghanistan</td>\n",
       "      <td>2015</td>\n",
       "      <td>Developing</td>\n",
       "      <td>263.0</td>\n",
       "      <td>62</td>\n",
       "      <td>0.01</td>\n",
       "      <td>71.279624</td>\n",
       "      <td>65.0</td>\n",
       "      <td>1154</td>\n",
       "      <td>19.1</td>\n",
       "      <td>...</td>\n",
       "      <td>6.0</td>\n",
       "      <td>8.16</td>\n",
       "      <td>65.0</td>\n",
       "      <td>0.1</td>\n",
       "      <td>584.259210</td>\n",
       "      <td>33736494.0</td>\n",
       "      <td>17.2</td>\n",
       "      <td>17.3</td>\n",
       "      <td>0.479</td>\n",
       "      <td>10.1</td>\n",
       "    </tr>\n",
       "    <tr>\n",
       "      <th>1</th>\n",
       "      <td>Afghanistan</td>\n",
       "      <td>2014</td>\n",
       "      <td>Developing</td>\n",
       "      <td>271.0</td>\n",
       "      <td>64</td>\n",
       "      <td>0.01</td>\n",
       "      <td>73.523582</td>\n",
       "      <td>62.0</td>\n",
       "      <td>492</td>\n",
       "      <td>18.6</td>\n",
       "      <td>...</td>\n",
       "      <td>58.0</td>\n",
       "      <td>8.18</td>\n",
       "      <td>62.0</td>\n",
       "      <td>0.1</td>\n",
       "      <td>612.696514</td>\n",
       "      <td>327582.0</td>\n",
       "      <td>17.5</td>\n",
       "      <td>17.5</td>\n",
       "      <td>0.476</td>\n",
       "      <td>10.0</td>\n",
       "    </tr>\n",
       "    <tr>\n",
       "      <th>2</th>\n",
       "      <td>Afghanistan</td>\n",
       "      <td>2013</td>\n",
       "      <td>Developing</td>\n",
       "      <td>268.0</td>\n",
       "      <td>66</td>\n",
       "      <td>0.01</td>\n",
       "      <td>73.219243</td>\n",
       "      <td>64.0</td>\n",
       "      <td>430</td>\n",
       "      <td>18.1</td>\n",
       "      <td>...</td>\n",
       "      <td>62.0</td>\n",
       "      <td>8.13</td>\n",
       "      <td>64.0</td>\n",
       "      <td>0.1</td>\n",
       "      <td>631.744976</td>\n",
       "      <td>31731688.0</td>\n",
       "      <td>17.7</td>\n",
       "      <td>17.7</td>\n",
       "      <td>0.470</td>\n",
       "      <td>9.9</td>\n",
       "    </tr>\n",
       "    <tr>\n",
       "      <th>3</th>\n",
       "      <td>Afghanistan</td>\n",
       "      <td>2012</td>\n",
       "      <td>Developing</td>\n",
       "      <td>272.0</td>\n",
       "      <td>69</td>\n",
       "      <td>0.01</td>\n",
       "      <td>78.184215</td>\n",
       "      <td>67.0</td>\n",
       "      <td>2787</td>\n",
       "      <td>17.6</td>\n",
       "      <td>...</td>\n",
       "      <td>67.0</td>\n",
       "      <td>8.52</td>\n",
       "      <td>67.0</td>\n",
       "      <td>0.1</td>\n",
       "      <td>669.959000</td>\n",
       "      <td>3696958.0</td>\n",
       "      <td>17.9</td>\n",
       "      <td>18.0</td>\n",
       "      <td>0.463</td>\n",
       "      <td>9.8</td>\n",
       "    </tr>\n",
       "    <tr>\n",
       "      <th>4</th>\n",
       "      <td>Afghanistan</td>\n",
       "      <td>2011</td>\n",
       "      <td>Developing</td>\n",
       "      <td>275.0</td>\n",
       "      <td>71</td>\n",
       "      <td>0.01</td>\n",
       "      <td>7.097109</td>\n",
       "      <td>68.0</td>\n",
       "      <td>3013</td>\n",
       "      <td>17.2</td>\n",
       "      <td>...</td>\n",
       "      <td>68.0</td>\n",
       "      <td>7.87</td>\n",
       "      <td>68.0</td>\n",
       "      <td>0.1</td>\n",
       "      <td>63.537231</td>\n",
       "      <td>2978599.0</td>\n",
       "      <td>18.2</td>\n",
       "      <td>18.2</td>\n",
       "      <td>0.454</td>\n",
       "      <td>9.5</td>\n",
       "    </tr>\n",
       "  </tbody>\n",
       "</table>\n",
       "<p>5 rows × 21 columns</p>\n",
       "</div>"
      ],
      "text/plain": [
       "       Country  Year      Status  Adult Mortality  infant deaths  Alcohol  \\\n",
       "0  Afghanistan  2015  Developing            263.0             62     0.01   \n",
       "1  Afghanistan  2014  Developing            271.0             64     0.01   \n",
       "2  Afghanistan  2013  Developing            268.0             66     0.01   \n",
       "3  Afghanistan  2012  Developing            272.0             69     0.01   \n",
       "4  Afghanistan  2011  Developing            275.0             71     0.01   \n",
       "\n",
       "   percentage expenditure  Hepatitis B  Measles   BMI  ...  Polio  \\\n",
       "0               71.279624         65.0     1154  19.1  ...    6.0   \n",
       "1               73.523582         62.0      492  18.6  ...   58.0   \n",
       "2               73.219243         64.0      430  18.1  ...   62.0   \n",
       "3               78.184215         67.0     2787  17.6  ...   67.0   \n",
       "4                7.097109         68.0     3013  17.2  ...   68.0   \n",
       "\n",
       "   Total expenditure  Diphtheria  HIV/AIDS         GDP  Population  \\\n",
       "0               8.16        65.0       0.1  584.259210  33736494.0   \n",
       "1               8.18        62.0       0.1  612.696514    327582.0   \n",
       "2               8.13        64.0       0.1  631.744976  31731688.0   \n",
       "3               8.52        67.0       0.1  669.959000   3696958.0   \n",
       "4               7.87        68.0       0.1   63.537231   2978599.0   \n",
       "\n",
       "   thinness  1-19 years  thinness 5-9 years  Income composition of resources  \\\n",
       "0                  17.2                17.3                            0.479   \n",
       "1                  17.5                17.5                            0.476   \n",
       "2                  17.7                17.7                            0.470   \n",
       "3                  17.9                18.0                            0.463   \n",
       "4                  18.2                18.2                            0.454   \n",
       "\n",
       "   Schooling  \n",
       "0       10.1  \n",
       "1       10.0  \n",
       "2        9.9  \n",
       "3        9.8  \n",
       "4        9.5  \n",
       "\n",
       "[5 rows x 21 columns]"
      ]
     },
<<<<<<< HEAD
     "execution_count": 11,
=======
     "execution_count": 151,
>>>>>>> 425ca127b44c9b7982a774403ac7808a8ea772c0
     "metadata": {},
     "output_type": "execute_result"
    }
   ],
   "source": [
    "X_WHO.head()"
   ]
  },
  {
   "cell_type": "markdown",
   "id": "312dc8aa",
   "metadata": {
    "cell_style": "center",
    "slideshow": {
     "slide_type": "slide"
    }
   },
   "source": [
    "Many features from WHO dataset:\n",
    "\n",
    "Regressing to find weights life expectancy"
   ]
  },
  {
   "cell_type": "code",
<<<<<<< HEAD
   "execution_count": 12,
   "id": "0ac7535c",
=======
   "execution_count": 152,
   "id": "47166a1b",
>>>>>>> 425ca127b44c9b7982a774403ac7808a8ea772c0
   "metadata": {
    "slideshow": {
     "slide_type": "fragment"
    }
   },
   "outputs": [
    {
     "data": {
      "text/plain": [
       "Index(['Country', 'Year', 'Status', 'Adult Mortality', 'infant deaths',\n",
       "       'Alcohol', 'percentage expenditure', 'Hepatitis B', 'Measles', 'BMI',\n",
       "       'under-five deaths', 'Polio', 'Total expenditure', 'Diphtheria',\n",
       "       'HIV/AIDS', 'GDP', 'Population', 'thinness  1-19 years',\n",
       "       'thinness 5-9 years', 'Income composition of resources', 'Schooling'],\n",
       "      dtype='object')"
      ]
     },
<<<<<<< HEAD
     "execution_count": 12,
=======
     "execution_count": 152,
>>>>>>> 425ca127b44c9b7982a774403ac7808a8ea772c0
     "metadata": {},
     "output_type": "execute_result"
    }
   ],
   "source": [
    "X_WHO.columns"
   ]
  },
  {
   "cell_type": "markdown",
   "id": "62637c05",
   "metadata": {
    "slideshow": {
     "slide_type": "slide"
    }
   },
   "source": [
    "But let's take a look at a few of these and their correlations:"
   ]
  },
  {
   "cell_type": "code",
<<<<<<< HEAD
   "execution_count": 13,
   "id": "a4c6eb56",
=======
   "execution_count": 153,
   "id": "12a98830",
>>>>>>> 425ca127b44c9b7982a774403ac7808a8ea772c0
   "metadata": {
    "scrolled": false,
    "slideshow": {
     "slide_type": "subslide"
    }
   },
   "outputs": [
    {
     "data": {
      "image/png": "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\n",
      "text/plain": [
       "<Figure size 432x288 with 2 Axes>"
      ]
     },
     "metadata": {
      "needs_background": "light"
     },
     "output_type": "display_data"
    }
   ],
   "source": [
    "col_selector = ['Income composition of resources', 'Schooling','Alcohol', 'thinness  1-19 years']\n",
    "subsetX = X_WHO[col_selector]\n",
    "sns.heatmap(subsetX.corr())\n",
    "plt.show()"
   ]
  },
  {
   "cell_type": "markdown",
   "id": "f2fd36a1",
   "metadata": {
    "slideshow": {
     "slide_type": "slide"
    }
   },
   "source": [
    "Let's focus on Schooling and income composite resources (ICR):"
   ]
  },
  {
   "cell_type": "markdown",
   "id": "d44a7f6e",
   "metadata": {
    "slideshow": {
     "slide_type": "fragment"
    }
   },
   "source": [
    "$$ Life= w_1*Alcohol + w_2*Polio + w_3*Schooling + w_4*Measles + w_5*ICR + ... $$"
   ]
  },
  {
   "cell_type": "markdown",
   "id": "c3a70af2",
   "metadata": {
    "cell_style": "split",
    "slideshow": {
     "slide_type": "fragment"
    }
   },
   "source": [
    "Correlation is very high!"
   ]
  },
  {
   "cell_type": "code",
<<<<<<< HEAD
   "execution_count": 14,
   "id": "f78d2fca",
=======
   "execution_count": 154,
   "id": "24ba4dd4",
>>>>>>> 425ca127b44c9b7982a774403ac7808a8ea772c0
   "metadata": {
    "cell_style": "split",
    "slideshow": {
     "slide_type": "fragment"
    }
   },
   "outputs": [
    {
     "data": {
      "text/html": [
       "<div>\n",
       "<style scoped>\n",
       "    .dataframe tbody tr th:only-of-type {\n",
       "        vertical-align: middle;\n",
       "    }\n",
       "\n",
       "    .dataframe tbody tr th {\n",
       "        vertical-align: top;\n",
       "    }\n",
       "\n",
       "    .dataframe thead th {\n",
       "        text-align: right;\n",
       "    }\n",
       "</style>\n",
       "<table border=\"1\" class=\"dataframe\">\n",
       "  <thead>\n",
       "    <tr style=\"text-align: right;\">\n",
       "      <th></th>\n",
       "      <th>Income composition of resources</th>\n",
       "      <th>Schooling</th>\n",
       "    </tr>\n",
       "  </thead>\n",
       "  <tbody>\n",
       "    <tr>\n",
       "      <th>Income composition of resources</th>\n",
       "      <td>1.000000</td>\n",
       "      <td>0.800092</td>\n",
       "    </tr>\n",
       "    <tr>\n",
       "      <th>Schooling</th>\n",
       "      <td>0.800092</td>\n",
       "      <td>1.000000</td>\n",
       "    </tr>\n",
       "  </tbody>\n",
       "</table>\n",
       "</div>"
      ],
      "text/plain": [
       "                                 Income composition of resources  Schooling\n",
       "Income composition of resources                         1.000000   0.800092\n",
       "Schooling                                               0.800092   1.000000"
      ]
     },
<<<<<<< HEAD
     "execution_count": 14,
=======
     "execution_count": 154,
>>>>>>> 425ca127b44c9b7982a774403ac7808a8ea772c0
     "metadata": {},
     "output_type": "execute_result"
    }
   ],
   "source": [
    "col_selector = ['Income composition of resources', 'Schooling']\n",
    "X_WHO[col_selector].corr()"
   ]
  },
  {
   "cell_type": "markdown",
   "id": "e76f283b",
   "metadata": {
    "cell_style": "split",
    "slideshow": {
     "slide_type": "slide"
    }
   },
   "source": [
    "Our regression: \n",
    "- Y = life expectancy\n",
    "\n",
    "$$ Y - \\sum_{i \\neq 3,5} w_i x_i = w_3 Schooling + w_5 ICR $$"
   ]
  },
  {
   "cell_type": "markdown",
   "id": "4a857843",
   "metadata": {
    "cell_style": "split",
    "slideshow": {
     "slide_type": "fragment"
    }
   },
   "source": [
    "- Schooling and ICR highly related:\n",
    "\n",
    "- Implies that $w_3$ and $w_5$ introduce too much flexibility.\n",
    "- Maybe could fit almost as well with just $w_3$."
   ]
  },
  {
   "cell_type": "markdown",
   "id": "ec6daf7b",
   "metadata": {
    "cell_style": "split",
    "slideshow": {
     "slide_type": "fragment"
    }
   },
   "source": [
    "- $w_3$ and $w_5$ are floppy and can become big in either direction to fit data.\n",
    "- Var[$\\textbf{w}$] from $w_3$ and $w_5$ high."
   ]
  },
  {
   "cell_type": "markdown",
   "id": "fb625c02",
   "metadata": {
    "slideshow": {
     "slide_type": "slide"
    }
   },
   "source": [
    "Modeling data by linear model w/ multicollinear features:\n",
    "- intoduces high weight variance\n",
    "- unnecessary model complexity"
   ]
  },
  {
   "cell_type": "markdown",
   "id": "d647df11",
   "metadata": {
    "slideshow": {
     "slide_type": "slide"
    }
   },
   "source": [
    "These considerations are all nice and theoretical:\n",
    "    \n",
    "- how do we actually assess whether model suffers from bias / variance or both?"
   ]
  },
  {
   "cell_type": "markdown",
   "id": "8b8645f4",
   "metadata": {
    "slideshow": {
     "slide_type": "subslide"
    }
   },
   "source": [
    "#### How to assess model variance: cross-validation"
   ]
  },
  {
   "cell_type": "markdown",
   "id": "cf4cd1ac",
   "metadata": {
    "cell_style": "split",
    "slideshow": {
     "slide_type": "fragment"
    }
   },
   "source": [
    "Could get many different training sets:\n",
    "- Train weights $\\textbf{w}$ for each.\n",
    "- Get variance of $\\textbf{w}$\n"
   ]
  },
  {
   "cell_type": "markdown",
   "id": "5924e888",
   "metadata": {
    "cell_style": "split",
    "slideshow": {
     "slide_type": "fragment"
    }
   },
   "source": [
    "Semi-equivalently:\n",
    "- Test performance of each model on test set.\n",
    "- Evaluate model performance/variance by looking at average/standard deviation of performance on test set."
   ]
  },
  {
   "cell_type": "markdown",
   "id": "ae8b2cbc",
   "metadata": {
    "slideshow": {
     "slide_type": "slide"
    }
   },
   "source": [
    "Problem: \n",
    "- likely don't have this much data available to make enough independent training sets large enough to for each model to train on effectively."
   ]
  },
  {
   "cell_type": "markdown",
   "id": "8af7e5ba",
   "metadata": {
    "slideshow": {
     "slide_type": "slide"
    }
   },
   "source": [
    "#### Solution: Cross validation"
   ]
  },
  {
   "cell_type": "markdown",
   "id": "a39723b5",
   "metadata": {
    "cell_style": "split",
    "slideshow": {
     "slide_type": "fragment"
    }
   },
   "source": [
    "So first we created our train / test split: \n",
    "\n",
    "- the **training set** can be used to develop models\n",
    "- can assess variance of a model and average performance\n"
   ]
  },
  {
   "cell_type": "markdown",
   "id": "6a2f4718",
   "metadata": {
    "cell_style": "split"
   },
   "source": [
    "<img src = \"Images/traintestsplit.png\"  width = 800/>\n",
    "<center> Splitting up training set </center>"
   ]
  },
  {
   "cell_type": "markdown",
   "id": "87ef572c",
   "metadata": {
    "cell_style": "split",
    "slideshow": {
     "slide_type": "fragment"
    }
   },
   "source": [
    "<img src = \"Images/crossval.png\"  width = 800/>\n",
    "<center> Splitting up training set </center>"
   ]
  },
  {
   "cell_type": "markdown",
   "id": "92d58604",
   "metadata": {
    "cell_style": "split",
    "slideshow": {
     "slide_type": "fragment"
    }
   },
   "source": [
    "Split up **training set** into folds:\n",
    "- Training fold\n",
    "- Validation fold"
   ]
  },
  {
   "cell_type": "markdown",
   "id": "25007fda",
   "metadata": {
    "cell_style": "split",
    "slideshow": {
     "slide_type": "fragment"
    }
   },
   "source": [
    "- For each iteration:\n",
    "    - train a model on train fold\n",
    "    - test on validation fold"
   ]
  },
  {
   "cell_type": "markdown",
   "id": "6b1f529c",
   "metadata": {
    "cell_style": "split",
    "slideshow": {
     "slide_type": "slide"
    }
   },
   "source": [
    "<img src = \"Images/crossval.png\"  width = 800/>\n",
    "<center> Splitting up training set </center>"
   ]
  },
  {
   "cell_type": "markdown",
   "id": "1caaf1f5",
   "metadata": {
    "cell_style": "split",
    "slideshow": {
     "slide_type": "slide"
    }
   },
   "source": [
    "Effectively sampling multiple training sets:\n",
    "- each iteration model trained on different training set.\n",
    "- testing each model performance on different **validation set**.\n",
    "\n"
   ]
  },
  {
   "cell_type": "markdown",
   "id": "23b7cb89",
   "metadata": {
    "cell_style": "split",
    "slideshow": {
     "slide_type": "fragment"
    }
   },
   "source": [
    "- Good for estimating model performance on average\n",
    "- Good for estimating model variance as well."
   ]
  },
  {
   "cell_type": "markdown",
   "id": "bd1ab931",
   "metadata": {
    "cell_style": "split",
    "slideshow": {
     "slide_type": "subslide"
    }
   },
   "source": [
    "So in the end:\n",
    "- Performance metrics measured on validation\n",
    "- We get average performance metric across all the models for each cross validation iteration.\n",
    "- Get variance of performance metric."
   ]
  },
  {
   "cell_type": "markdown",
   "id": "e4897f76",
   "metadata": {
    "cell_style": "split",
    "slideshow": {
     "slide_type": "slide"
    }
   },
   "source": [
    "<img src = \"Images/crossval.png\"  width = 800/>\n",
    "<center> Splitting up training set </center>"
   ]
  },
  {
   "cell_type": "markdown",
   "id": "528197ca",
   "metadata": {
    "cell_style": "center",
    "slideshow": {
     "slide_type": "subslide"
    }
   },
   "source": [
    "Note: **validation set** is part of training set:\n",
    "- Not part of true test/hold-out set."
   ]
  },
  {
   "cell_type": "markdown",
   "id": "f7ac7736",
   "metadata": {
    "slideshow": {
     "slide_type": "fragment"
    }
   },
   "source": [
    "How is validation fold/set different from test set?"
   ]
  },
  {
   "cell_type": "markdown",
   "id": "a2530603",
   "metadata": {
    "cell_style": "split",
    "slideshow": {
     "slide_type": "slide"
    }
   },
   "source": [
    "We are often trying out different model types:\n",
    "- OLS with raw features\n",
    "- OLS with collinear features dropped\n",
    "- OLS with polynomial features\n",
    "- Ridge regressor (will see later)"
   ]
  },
  {
   "cell_type": "markdown",
   "id": "5bb302e4",
   "metadata": {
    "cell_style": "split",
    "slideshow": {
     "slide_type": "fragment"
    }
   },
   "source": [
    "Idea is that we try out different model types / tune models: \n",
    "- assess variance\n",
    "- assess average performance\n",
    "\n",
    "**Use train/validation for this**: \n",
    "- for each model type: estimate model average performance and variance *across different train/validation realizations* "
   ]
  },
  {
   "cell_type": "markdown",
   "id": "7856cf09",
   "metadata": {
    "slideshow": {
     "slide_type": "subslide"
    }
   },
   "source": [
    "<img src = \"Images/cvtuningflow.png\"  width = 800/>\n",
    "<center> Model comparison/selection using cross-validation </center>"
   ]
  },
  {
   "cell_type": "markdown",
   "id": "a6c926b5",
   "metadata": {
    "cell_style": "split",
    "slideshow": {
     "slide_type": "subslide"
    }
   },
   "source": [
    "Selected best model based on:\n",
    "- what worked best on the given validation folds.\n",
    "\n",
    "**Iterative optimization of models based on the train/validation data**"
   ]
  },
  {
   "cell_type": "markdown",
   "id": "a5e2f663",
   "metadata": {
    "cell_style": "split",
    "slideshow": {
     "slide_type": "fragment"
    }
   },
   "source": [
    "Ultimately: \n",
    "\n",
    "- want to evaluate our best model class (found by optimizing over the validation sets) \n",
    "- on data that has neither been trained or validated on"
   ]
  },
  {
   "cell_type": "markdown",
   "id": "9afe2231",
   "metadata": {
    "cell_style": "center",
    "slideshow": {
     "slide_type": "slide"
    }
   },
   "source": [
    "**The true test/hold-out test**: The modeling / tuning process has never seen this data.\n",
    "\n",
    "- Take best model from model iteration/ cross-validation.\n",
    "- Evaluate test performance."
   ]
  },
  {
   "cell_type": "markdown",
   "id": "dac406c5",
   "metadata": {
    "cell_style": "center",
    "slideshow": {
     "slide_type": "slide"
    }
   },
   "source": [
    "\n",
    "<img src = \"Images/test_phase_afterCV.png\"  width = 800/>\n",
    "<center> Best model from cross-validation in test phase</center>"
   ]
  },
  {
   "cell_type": "markdown",
   "id": "9b9d2df1",
   "metadata": {
    "cell_style": "split",
    "slideshow": {
     "slide_type": "slide"
    }
   },
   "source": [
    "Cross validation gives us a way to test statistical robustness of model performance:\n",
    "- evaluate average performance\n",
    "- evaluate model variance"
   ]
  },
  {
   "cell_type": "markdown",
   "id": "04e2e40c",
   "metadata": {
    "cell_style": "split",
    "slideshow": {
     "slide_type": "fragment"
    }
   },
   "source": [
    "But seeing a set of models have high variance:\n",
    "- How to address this problem found in cross-validation trials?\n",
    "- i.e., how do we lower the variance?"
   ]
  },
  {
   "cell_type": "markdown",
   "id": "36e78b0d",
   "metadata": {
    "cell_style": "center",
    "slideshow": {
     "slide_type": "slide"
    }
   },
   "source": [
    "#### Ways to limit/deal with high variance."
   ]
  },
  {
   "cell_type": "markdown",
   "id": "e8610bde",
   "metadata": {
    "cell_style": "split",
    "slideshow": {
     "slide_type": "subslide"
    }
   },
   "source": [
    "- Get more data. With enough training data, even with floppy weights model will do a decent job approximating data."
   ]
  },
  {
   "cell_type": "markdown",
   "id": "e8837a96",
   "metadata": {
    "cell_style": "split",
    "slideshow": {
     "slide_type": "fragment"
    }
   },
   "source": [
    "- Yeah, but often not possible/easy to get enough data for this."
   ]
  },
  {
   "cell_type": "markdown",
   "id": "4cf5469f",
   "metadata": {
    "cell_style": "split",
    "slideshow": {
     "slide_type": "slide"
    }
   },
   "source": [
    "- Get rid of columns that exhibit a high degree of collinearity with other columns."
   ]
  },
  {
   "cell_type": "markdown",
   "id": "0a4e19d1",
   "metadata": {
    "cell_style": "split",
    "slideshow": {
     "slide_type": "fragment"
    }
   },
   "source": [
    "- Yeah, but did we throw out some useful information for prediction? \n",
    "- ICR and schooling not the same thing.\n",
    "- How many of the collinear columns should we throw away? Which ones?"
   ]
  },
  {
   "cell_type": "markdown",
   "id": "71250598",
   "metadata": {
    "slideshow": {
     "slide_type": "subslide"
    }
   },
   "source": [
    "Getting rid of columns like this:\n",
    "- Can lower variance\n",
    "- But can also increase bias in an arbitrary, non-optimal way"
   ]
  },
  {
   "cell_type": "markdown",
   "id": "b0c83800",
   "metadata": {
    "cell_style": "split",
    "slideshow": {
     "slide_type": "slide"
    }
   },
   "source": [
    "- Or we could come up with ways to directly limit the variance through the cost function itself."
   ]
  },
  {
   "cell_type": "markdown",
   "id": "b5926154",
   "metadata": {
    "cell_style": "split",
    "slideshow": {
     "slide_type": "fragment"
    }
   },
   "source": [
    "The hope is that with this method:\n",
    "- decrease variance\n",
    "- without increasing bias too much\n",
    "\n",
    "Doing this in an optimal and principled way."
   ]
  },
  {
   "cell_type": "markdown",
   "id": "14a2abad",
   "metadata": {
    "cell_style": "center",
    "slideshow": {
     "slide_type": "subslide"
    }
   },
   "source": [
    "Let's try this."
   ]
  },
  {
   "cell_type": "markdown",
   "id": "33302ef8",
   "metadata": {
    "slideshow": {
     "slide_type": "slide"
    }
   },
   "source": [
    "#### Regularization for Linear Regression"
   ]
  },
  {
   "cell_type": "markdown",
   "id": "27868aac",
   "metadata": {
    "slideshow": {
     "slide_type": "subslide"
    }
   },
   "source": [
    "Modify our squared error loss function."
   ]
  },
  {
   "cell_type": "markdown",
   "id": "35dc5350",
   "metadata": {
    "slideshow": {
     "slide_type": "fragment"
    }
   },
   "source": [
    "$$ L = |\\textbf{y} - X \\textbf{w}|_2^2 + \\lambda |\\textbf{w}|_2^2 $$\n",
    "\n",
    "with $|\\textbf{w}|_2^2 = w_1^2 + w_2^2 + ... + w_m^2$ as sum of squares of the feature weights.\n",
    "\n",
    "*We'll see why we use the subscript on the norm shortly.*"
   ]
  },
  {
   "cell_type": "markdown",
   "id": "a01b8c27",
   "metadata": {
    "slideshow": {
     "slide_type": "subslide"
    }
   },
   "source": [
    "<img src = \"Images/ridge_regression_geometric.png\" width = 450>"
   ]
  },
  {
   "cell_type": "markdown",
   "id": "86ac0450",
   "metadata": {
    "cell_style": "split",
    "slideshow": {
     "slide_type": "fragment"
    }
   },
   "source": [
    "Tug of war between:\n",
    "\n",
    "Ridge cost: $ \\lambda |\\textbf{w}|_2^2 = \\lambda (w_1^2 + w_2^2)  $\n",
    "- L2 Regularization (Euclidean distance)"
   ]
  },
  {
   "cell_type": "markdown",
   "id": "476ead06",
   "metadata": {
    "cell_style": "split",
    "slideshow": {
     "slide_type": "fragment"
    }
   },
   "source": [
    "Least squares cost: $ |\\textbf{y} - X\\textbf{w}|_2^2 $\n",
    "    "
   ]
  },
  {
   "cell_type": "markdown",
   "id": "15c3a2e3",
   "metadata": {
    "slideshow": {
     "slide_type": "subslide"
    }
   },
   "source": [
    "<img src = \"Images/ridge_regression_geometric.png\" width = 450>"
   ]
  },
  {
   "cell_type": "markdown",
   "id": "52574f39",
   "metadata": {
    "cell_style": "split",
    "slideshow": {
     "slide_type": "fragment"
    }
   },
   "source": [
    "Regularization term penalizes large weights: \n",
    "- **strongly** discourages large fluctuations in $\\textbf{w}$ depending on training set.\n",
    "- i.e. reduces Var[$\\textbf{w}$]\n",
    "- **Can lead to large performance boost on unseen data.**"
   ]
  },
  {
   "cell_type": "markdown",
   "id": "48e73187",
   "metadata": {
    "cell_style": "split",
    "slideshow": {
     "slide_type": "fragment"
    }
   },
   "source": [
    "- the tradeoff: repeating fitting on large number of distinct training sets:\n",
    "    - Average of $\\textbf{w}$ is off from least squares best fit to population"
   ]
  },
  {
   "cell_type": "markdown",
   "id": "fc5078f0",
   "metadata": {
    "cell_style": "center",
    "slideshow": {
     "slide_type": "slide"
    }
   },
   "source": [
    "Our goal is to construct a model with:\n",
    "- as low a bias as possible (gets close to the true $\\textbf{w}$ if we had/fit on the entire population)\n",
    "- as low a *model* variance as possible (spread in $\\textbf{w}$ is low):\n",
    "    - implies $\\textbf{w}$ is tightly clustered\n"
   ]
  },
  {
   "cell_type": "markdown",
   "id": "cd2395c3",
   "metadata": {
    "cell_style": "split",
    "slideshow": {
     "slide_type": "fragment"
    }
   },
   "source": [
    "Idea of Ridge: \n",
    "- Tune $\\lambda$ just right. This is something we input as external parameter to model. **Hyperparameter** \n",
    "- Cluster of $\\textbf{w}$ little off the center of the bullseye\n",
    "- But: tightly clustered."
   ]
  },
  {
   "cell_type": "markdown",
   "id": "a6e2bea8",
   "metadata": {
    "cell_style": "split",
    "slideshow": {
     "slide_type": "fragment"
    }
   },
   "source": [
    "With $\\lambda$ tuned well:\n",
    "\n",
    "- not likely to make generalization errors due to large fluctuation in $\\textbf{w}$\n",
    "- But doesnt shift $\\textbf{w}$ too far from least squares estimate"
   ]
  },
  {
   "cell_type": "markdown",
   "id": "28c0e8d5",
   "metadata": {
    "slideshow": {
     "slide_type": "slide"
    }
   },
   "source": [
    "OK let's do a Ridge regression."
   ]
  },
  {
   "cell_type": "code",
<<<<<<< HEAD
   "execution_count": 15,
   "id": "73b496a9",
=======
   "execution_count": 155,
   "id": "cbca8ef1",
>>>>>>> 425ca127b44c9b7982a774403ac7808a8ea772c0
   "metadata": {
    "slideshow": {
     "slide_type": "slide"
    }
   },
   "outputs": [],
   "source": [
    "from sklearn.linear_model import LinearRegression\n",
    "from sklearn.linear_model import Ridge\n",
    "\n",
    "# train test split\n",
    "from sklearn.model_selection import train_test_split\n",
    "\n",
    "# preprocessing\n",
    "from sklearn.preprocessing import OneHotEncoder\n",
    "from sklearn.preprocessing import StandardScaler\n",
    "\n",
    "# model validation: testing model variance with cross validation\n",
    "\n",
    "from sklearn.model_selection import KFold, cross_val_score, cross_validate"
   ]
  },
  {
   "cell_type": "code",
<<<<<<< HEAD
   "execution_count": 16,
   "id": "5dea72b0",
=======
   "execution_count": 156,
   "id": "82e47efe",
>>>>>>> 425ca127b44c9b7982a774403ac7808a8ea772c0
   "metadata": {
    "hidden": true,
    "slideshow": {
     "slide_type": "slide"
    }
   },
   "outputs": [],
   "source": [
    "birds = sns.load_dataset('penguins')\n",
    "birds = birds.dropna()"
   ]
  },
  {
   "cell_type": "code",
<<<<<<< HEAD
   "execution_count": 17,
   "id": "894a5a9a",
=======
   "execution_count": 157,
   "id": "df85aabe",
>>>>>>> 425ca127b44c9b7982a774403ac7808a8ea772c0
   "metadata": {
    "slideshow": {
     "slide_type": "fragment"
    }
   },
   "outputs": [
    {
     "data": {
      "text/html": [
       "<div>\n",
       "<style scoped>\n",
       "    .dataframe tbody tr th:only-of-type {\n",
       "        vertical-align: middle;\n",
       "    }\n",
       "\n",
       "    .dataframe tbody tr th {\n",
       "        vertical-align: top;\n",
       "    }\n",
       "\n",
       "    .dataframe thead th {\n",
       "        text-align: right;\n",
       "    }\n",
       "</style>\n",
       "<table border=\"1\" class=\"dataframe\">\n",
       "  <thead>\n",
       "    <tr style=\"text-align: right;\">\n",
       "      <th></th>\n",
       "      <th>species</th>\n",
       "      <th>island</th>\n",
       "      <th>bill_length_mm</th>\n",
       "      <th>bill_depth_mm</th>\n",
       "      <th>flipper_length_mm</th>\n",
       "      <th>body_mass_g</th>\n",
       "      <th>sex</th>\n",
       "    </tr>\n",
       "  </thead>\n",
       "  <tbody>\n",
       "    <tr>\n",
       "      <th>0</th>\n",
       "      <td>Adelie</td>\n",
       "      <td>Torgersen</td>\n",
       "      <td>39.1</td>\n",
       "      <td>18.7</td>\n",
       "      <td>181.0</td>\n",
       "      <td>3750.0</td>\n",
       "      <td>Male</td>\n",
       "    </tr>\n",
       "    <tr>\n",
       "      <th>1</th>\n",
       "      <td>Adelie</td>\n",
       "      <td>Torgersen</td>\n",
       "      <td>39.5</td>\n",
       "      <td>17.4</td>\n",
       "      <td>186.0</td>\n",
       "      <td>3800.0</td>\n",
       "      <td>Female</td>\n",
       "    </tr>\n",
       "    <tr>\n",
       "      <th>2</th>\n",
       "      <td>Adelie</td>\n",
       "      <td>Torgersen</td>\n",
       "      <td>40.3</td>\n",
       "      <td>18.0</td>\n",
       "      <td>195.0</td>\n",
       "      <td>3250.0</td>\n",
       "      <td>Female</td>\n",
       "    </tr>\n",
       "    <tr>\n",
       "      <th>4</th>\n",
       "      <td>Adelie</td>\n",
       "      <td>Torgersen</td>\n",
       "      <td>36.7</td>\n",
       "      <td>19.3</td>\n",
       "      <td>193.0</td>\n",
       "      <td>3450.0</td>\n",
       "      <td>Female</td>\n",
       "    </tr>\n",
       "    <tr>\n",
       "      <th>5</th>\n",
       "      <td>Adelie</td>\n",
       "      <td>Torgersen</td>\n",
       "      <td>39.3</td>\n",
       "      <td>20.6</td>\n",
       "      <td>190.0</td>\n",
       "      <td>3650.0</td>\n",
       "      <td>Male</td>\n",
       "    </tr>\n",
       "  </tbody>\n",
       "</table>\n",
       "</div>"
      ],
      "text/plain": [
       "  species     island  bill_length_mm  bill_depth_mm  flipper_length_mm  \\\n",
       "0  Adelie  Torgersen            39.1           18.7              181.0   \n",
       "1  Adelie  Torgersen            39.5           17.4              186.0   \n",
       "2  Adelie  Torgersen            40.3           18.0              195.0   \n",
       "4  Adelie  Torgersen            36.7           19.3              193.0   \n",
       "5  Adelie  Torgersen            39.3           20.6              190.0   \n",
       "\n",
       "   body_mass_g     sex  \n",
       "0       3750.0    Male  \n",
       "1       3800.0  Female  \n",
       "2       3250.0  Female  \n",
       "4       3450.0  Female  \n",
       "5       3650.0    Male  "
      ]
     },
<<<<<<< HEAD
     "execution_count": 17,
=======
     "execution_count": 157,
>>>>>>> 425ca127b44c9b7982a774403ac7808a8ea772c0
     "metadata": {},
     "output_type": "execute_result"
    }
   ],
   "source": [
    "birds.head()"
   ]
  },
  {
   "cell_type": "markdown",
   "id": "7dc7b95d",
   "metadata": {
    "slideshow": {
     "slide_type": "slide"
    }
   },
   "source": [
    "Going to use the other features to predict the body mass of a penguin"
   ]
  },
  {
   "cell_type": "code",
<<<<<<< HEAD
   "execution_count": 18,
   "id": "850e9189",
=======
   "execution_count": 158,
   "id": "e099fd4d",
>>>>>>> 425ca127b44c9b7982a774403ac7808a8ea772c0
   "metadata": {
    "cell_style": "center",
    "slideshow": {
     "slide_type": "fragment"
    }
   },
   "outputs": [],
   "source": [
    "X = birds.drop('body_mass_g', axis=1)\n",
    "y = birds['body_mass_g']"
   ]
  },
  {
   "cell_type": "code",
<<<<<<< HEAD
   "execution_count": 19,
   "id": "88628f52",
=======
   "execution_count": 159,
   "id": "f02e781c",
>>>>>>> 425ca127b44c9b7982a774403ac7808a8ea772c0
   "metadata": {
    "cell_style": "center",
    "slideshow": {
     "slide_type": "fragment"
    }
   },
   "outputs": [],
   "source": [
    "X_train, X_test, y_train, y_test = train_test_split(X ,y, random_state = 42)"
   ]
  },
  {
   "cell_type": "markdown",
   "id": "e8ae4747",
   "metadata": {
    "slideshow": {
     "slide_type": "slide"
    }
   },
   "source": [
    "Let's one-hot encode the nominal categoricals"
   ]
  },
  {
   "cell_type": "code",
<<<<<<< HEAD
   "execution_count": 20,
   "id": "4587f8c7",
=======
   "execution_count": 160,
   "id": "bbd4e29a",
>>>>>>> 425ca127b44c9b7982a774403ac7808a8ea772c0
   "metadata": {
    "cell_style": "center",
    "slideshow": {
     "slide_type": "fragment"
    }
   },
   "outputs": [
    {
     "data": {
      "text/html": [
       "<div>\n",
       "<style scoped>\n",
       "    .dataframe tbody tr th:only-of-type {\n",
       "        vertical-align: middle;\n",
       "    }\n",
       "\n",
       "    .dataframe tbody tr th {\n",
       "        vertical-align: top;\n",
       "    }\n",
       "\n",
       "    .dataframe thead th {\n",
       "        text-align: right;\n",
       "    }\n",
       "</style>\n",
       "<table border=\"1\" class=\"dataframe\">\n",
       "  <thead>\n",
       "    <tr style=\"text-align: right;\">\n",
       "      <th></th>\n",
       "      <th>x0_Chinstrap</th>\n",
       "      <th>x0_Gentoo</th>\n",
       "      <th>x1_Dream</th>\n",
       "      <th>x1_Torgersen</th>\n",
       "      <th>x2_Male</th>\n",
       "    </tr>\n",
       "  </thead>\n",
       "  <tbody>\n",
       "    <tr>\n",
       "      <th>321</th>\n",
       "      <td>0.0</td>\n",
       "      <td>1.0</td>\n",
       "      <td>0.0</td>\n",
       "      <td>0.0</td>\n",
       "      <td>1.0</td>\n",
       "    </tr>\n",
       "    <tr>\n",
       "      <th>265</th>\n",
       "      <td>0.0</td>\n",
       "      <td>1.0</td>\n",
       "      <td>0.0</td>\n",
       "      <td>0.0</td>\n",
       "      <td>0.0</td>\n",
       "    </tr>\n",
       "    <tr>\n",
       "      <th>36</th>\n",
       "      <td>0.0</td>\n",
       "      <td>0.0</td>\n",
       "      <td>1.0</td>\n",
       "      <td>0.0</td>\n",
       "      <td>1.0</td>\n",
       "    </tr>\n",
       "    <tr>\n",
       "      <th>308</th>\n",
       "      <td>0.0</td>\n",
       "      <td>1.0</td>\n",
       "      <td>0.0</td>\n",
       "      <td>0.0</td>\n",
       "      <td>0.0</td>\n",
       "    </tr>\n",
       "    <tr>\n",
       "      <th>191</th>\n",
       "      <td>1.0</td>\n",
       "      <td>0.0</td>\n",
       "      <td>1.0</td>\n",
       "      <td>0.0</td>\n",
       "      <td>1.0</td>\n",
       "    </tr>\n",
       "  </tbody>\n",
       "</table>\n",
       "</div>"
      ],
      "text/plain": [
       "     x0_Chinstrap  x0_Gentoo  x1_Dream  x1_Torgersen  x2_Male\n",
       "321           0.0        1.0       0.0           0.0      1.0\n",
       "265           0.0        1.0       0.0           0.0      0.0\n",
       "36            0.0        0.0       1.0           0.0      1.0\n",
       "308           0.0        1.0       0.0           0.0      0.0\n",
       "191           1.0        0.0       1.0           0.0      1.0"
      ]
     },
<<<<<<< HEAD
     "execution_count": 20,
=======
     "execution_count": 160,
>>>>>>> 425ca127b44c9b7982a774403ac7808a8ea772c0
     "metadata": {},
     "output_type": "execute_result"
    }
   ],
   "source": [
    "# Taking in other features (category)\n",
    "ohe = OneHotEncoder(drop='first')\n",
    "dummies = ohe.fit_transform(X_train[['species', 'island', 'sex']])\n",
    "\n",
    "# Getting a DF\n",
    "X_train_onehot = pd.DataFrame(dummies.todense(), columns=ohe.get_feature_names(), index=X_train.index)\n",
    "\n",
    "X_train_onehot.head()"
   ]
  },
  {
   "cell_type": "markdown",
   "id": "cf433035",
   "metadata": {
    "slideshow": {
     "slide_type": "slide"
    }
   },
   "source": [
    "Attach this to dataframe with numerical variables"
   ]
  },
  {
   "cell_type": "code",
<<<<<<< HEAD
   "execution_count": 21,
   "id": "badd104b",
=======
   "execution_count": 161,
   "id": "67f8ee37",
>>>>>>> 425ca127b44c9b7982a774403ac7808a8ea772c0
   "metadata": {
    "slideshow": {
     "slide_type": "fragment"
    }
   },
   "outputs": [
    {
     "data": {
      "text/html": [
       "<div>\n",
       "<style scoped>\n",
       "    .dataframe tbody tr th:only-of-type {\n",
       "        vertical-align: middle;\n",
       "    }\n",
       "\n",
       "    .dataframe tbody tr th {\n",
       "        vertical-align: top;\n",
       "    }\n",
       "\n",
       "    .dataframe thead th {\n",
       "        text-align: right;\n",
       "    }\n",
       "</style>\n",
       "<table border=\"1\" class=\"dataframe\">\n",
       "  <thead>\n",
       "    <tr style=\"text-align: right;\">\n",
       "      <th></th>\n",
       "      <th>bill_length_mm</th>\n",
       "      <th>bill_depth_mm</th>\n",
       "      <th>flipper_length_mm</th>\n",
       "      <th>x0_Chinstrap</th>\n",
       "      <th>x0_Gentoo</th>\n",
       "      <th>x1_Dream</th>\n",
       "      <th>x1_Torgersen</th>\n",
       "      <th>x2_Male</th>\n",
       "    </tr>\n",
       "  </thead>\n",
       "  <tbody>\n",
       "    <tr>\n",
       "      <th>321</th>\n",
       "      <td>55.9</td>\n",
       "      <td>17.0</td>\n",
       "      <td>228.0</td>\n",
       "      <td>0.0</td>\n",
       "      <td>1.0</td>\n",
       "      <td>0.0</td>\n",
       "      <td>0.0</td>\n",
       "      <td>1.0</td>\n",
       "    </tr>\n",
       "    <tr>\n",
       "      <th>265</th>\n",
       "      <td>43.6</td>\n",
       "      <td>13.9</td>\n",
       "      <td>217.0</td>\n",
       "      <td>0.0</td>\n",
       "      <td>1.0</td>\n",
       "      <td>0.0</td>\n",
       "      <td>0.0</td>\n",
       "      <td>0.0</td>\n",
       "    </tr>\n",
       "    <tr>\n",
       "      <th>36</th>\n",
       "      <td>38.8</td>\n",
       "      <td>20.0</td>\n",
       "      <td>190.0</td>\n",
       "      <td>0.0</td>\n",
       "      <td>0.0</td>\n",
       "      <td>1.0</td>\n",
       "      <td>0.0</td>\n",
       "      <td>1.0</td>\n",
       "    </tr>\n",
       "    <tr>\n",
       "      <th>308</th>\n",
       "      <td>47.5</td>\n",
       "      <td>14.0</td>\n",
       "      <td>212.0</td>\n",
       "      <td>0.0</td>\n",
       "      <td>1.0</td>\n",
       "      <td>0.0</td>\n",
       "      <td>0.0</td>\n",
       "      <td>0.0</td>\n",
       "    </tr>\n",
       "    <tr>\n",
       "      <th>191</th>\n",
       "      <td>53.5</td>\n",
       "      <td>19.9</td>\n",
       "      <td>205.0</td>\n",
       "      <td>1.0</td>\n",
       "      <td>0.0</td>\n",
       "      <td>1.0</td>\n",
       "      <td>0.0</td>\n",
       "      <td>1.0</td>\n",
       "    </tr>\n",
       "  </tbody>\n",
       "</table>\n",
       "</div>"
      ],
      "text/plain": [
       "     bill_length_mm  bill_depth_mm  flipper_length_mm  x0_Chinstrap  \\\n",
       "321            55.9           17.0              228.0           0.0   \n",
       "265            43.6           13.9              217.0           0.0   \n",
       "36             38.8           20.0              190.0           0.0   \n",
       "308            47.5           14.0              212.0           0.0   \n",
       "191            53.5           19.9              205.0           1.0   \n",
       "\n",
       "     x0_Gentoo  x1_Dream  x1_Torgersen  x2_Male  \n",
       "321        1.0       0.0           0.0      1.0  \n",
       "265        1.0       0.0           0.0      0.0  \n",
       "36         0.0       1.0           0.0      1.0  \n",
       "308        1.0       0.0           0.0      0.0  \n",
       "191        0.0       1.0           0.0      1.0  "
      ]
     },
<<<<<<< HEAD
     "execution_count": 21,
=======
     "execution_count": 161,
>>>>>>> 425ca127b44c9b7982a774403ac7808a8ea772c0
     "metadata": {},
     "output_type": "execute_result"
    }
   ],
   "source": [
    "X_train_numeric = X_train[['bill_length_mm', 'bill_depth_mm', 'flipper_length_mm']]\n",
    "X_train_df = pd.concat([X_train_numeric, X_train_onehot], axis=1)\n",
    "X_train_df.head()"
   ]
  },
  {
   "cell_type": "markdown",
   "id": "228ebdff",
   "metadata": {
    "slideshow": {
     "slide_type": "slide"
    }
   },
   "source": [
    "We have our training feature matrix:\n",
    "- Apply transformation fit_transformed on train set to test feature matrix."
   ]
  },
  {
   "cell_type": "code",
<<<<<<< HEAD
   "execution_count": 22,
   "id": "670e1553",
=======
   "execution_count": 162,
   "id": "79229562",
>>>>>>> 425ca127b44c9b7982a774403ac7808a8ea772c0
   "metadata": {
    "slideshow": {
     "slide_type": "fragment"
    }
   },
   "outputs": [
    {
     "data": {
      "text/html": [
       "<div>\n",
       "<style scoped>\n",
       "    .dataframe tbody tr th:only-of-type {\n",
       "        vertical-align: middle;\n",
       "    }\n",
       "\n",
       "    .dataframe tbody tr th {\n",
       "        vertical-align: top;\n",
       "    }\n",
       "\n",
       "    .dataframe thead th {\n",
       "        text-align: right;\n",
       "    }\n",
       "</style>\n",
       "<table border=\"1\" class=\"dataframe\">\n",
       "  <thead>\n",
       "    <tr style=\"text-align: right;\">\n",
       "      <th></th>\n",
       "      <th>bill_length_mm</th>\n",
       "      <th>bill_depth_mm</th>\n",
       "      <th>flipper_length_mm</th>\n",
       "      <th>x0_Chinstrap</th>\n",
       "      <th>x0_Gentoo</th>\n",
       "      <th>x1_Dream</th>\n",
       "      <th>x1_Torgersen</th>\n",
       "      <th>x2_Male</th>\n",
       "    </tr>\n",
       "  </thead>\n",
       "  <tbody>\n",
       "    <tr>\n",
       "      <th>30</th>\n",
       "      <td>39.5</td>\n",
       "      <td>16.7</td>\n",
       "      <td>178.0</td>\n",
       "      <td>0.0</td>\n",
       "      <td>0.0</td>\n",
       "      <td>1.0</td>\n",
       "      <td>0.0</td>\n",
       "      <td>0.0</td>\n",
       "    </tr>\n",
       "    <tr>\n",
       "      <th>317</th>\n",
       "      <td>46.9</td>\n",
       "      <td>14.6</td>\n",
       "      <td>222.0</td>\n",
       "      <td>0.0</td>\n",
       "      <td>1.0</td>\n",
       "      <td>0.0</td>\n",
       "      <td>0.0</td>\n",
       "      <td>0.0</td>\n",
       "    </tr>\n",
       "    <tr>\n",
       "      <th>79</th>\n",
       "      <td>42.1</td>\n",
       "      <td>19.1</td>\n",
       "      <td>195.0</td>\n",
       "      <td>0.0</td>\n",
       "      <td>0.0</td>\n",
       "      <td>0.0</td>\n",
       "      <td>1.0</td>\n",
       "      <td>1.0</td>\n",
       "    </tr>\n",
       "    <tr>\n",
       "      <th>201</th>\n",
       "      <td>49.8</td>\n",
       "      <td>17.3</td>\n",
       "      <td>198.0</td>\n",
       "      <td>1.0</td>\n",
       "      <td>0.0</td>\n",
       "      <td>1.0</td>\n",
       "      <td>0.0</td>\n",
       "      <td>0.0</td>\n",
       "    </tr>\n",
       "    <tr>\n",
       "      <th>63</th>\n",
       "      <td>41.1</td>\n",
       "      <td>18.2</td>\n",
       "      <td>192.0</td>\n",
       "      <td>0.0</td>\n",
       "      <td>0.0</td>\n",
       "      <td>0.0</td>\n",
       "      <td>0.0</td>\n",
       "      <td>1.0</td>\n",
       "    </tr>\n",
       "  </tbody>\n",
       "</table>\n",
       "</div>"
      ],
      "text/plain": [
       "     bill_length_mm  bill_depth_mm  flipper_length_mm  x0_Chinstrap  \\\n",
       "30             39.5           16.7              178.0           0.0   \n",
       "317            46.9           14.6              222.0           0.0   \n",
       "79             42.1           19.1              195.0           0.0   \n",
       "201            49.8           17.3              198.0           1.0   \n",
       "63             41.1           18.2              192.0           0.0   \n",
       "\n",
       "     x0_Gentoo  x1_Dream  x1_Torgersen  x2_Male  \n",
       "30         0.0       1.0           0.0      0.0  \n",
       "317        1.0       0.0           0.0      0.0  \n",
       "79         0.0       0.0           1.0      1.0  \n",
       "201        0.0       1.0           0.0      0.0  \n",
       "63         0.0       0.0           0.0      1.0  "
      ]
     },
<<<<<<< HEAD
     "execution_count": 22,
=======
     "execution_count": 162,
>>>>>>> 425ca127b44c9b7982a774403ac7808a8ea772c0
     "metadata": {},
     "output_type": "execute_result"
    }
   ],
   "source": [
    "test_dummies = ohe.transform(X_test[['species', 'island', 'sex']])\n",
    "test_df = pd.DataFrame(test_dummies.todense(), columns=ohe.get_feature_names(),\n",
    "                       index=X_test.index)\n",
    "X_test_df = pd.concat([X_test[['bill_length_mm', 'bill_depth_mm',\n",
    "                              'flipper_length_mm']], test_df], axis=1)\n",
    "X_test_df.head()"
   ]
  },
  {
   "cell_type": "code",
<<<<<<< HEAD
   "execution_count": 23,
   "id": "088428fe",
=======
   "execution_count": 163,
   "id": "f8a171ff",
>>>>>>> 425ca127b44c9b7982a774403ac7808a8ea772c0
   "metadata": {
    "slideshow": {
     "slide_type": "subslide"
    }
   },
   "outputs": [
    {
     "data": {
      "text/plain": [
       "LinearRegression()"
      ]
     },
<<<<<<< HEAD
     "execution_count": 23,
=======
     "execution_count": 163,
>>>>>>> 425ca127b44c9b7982a774403ac7808a8ea772c0
     "metadata": {},
     "output_type": "execute_result"
    }
   ],
   "source": [
    "lr1 = LinearRegression()\n",
    "lr1.fit(X_train_df, y_train)"
   ]
  },
  {
   "cell_type": "code",
<<<<<<< HEAD
   "execution_count": 24,
   "id": "5dfb25b2",
=======
   "execution_count": 164,
   "id": "74b82f9b",
>>>>>>> 425ca127b44c9b7982a774403ac7808a8ea772c0
   "metadata": {
    "scrolled": true,
    "slideshow": {
     "slide_type": "fragment"
    }
   },
   "outputs": [
    {
     "data": {
      "text/plain": [
       "0.8688983108974327"
      ]
     },
<<<<<<< HEAD
     "execution_count": 24,
=======
     "execution_count": 164,
>>>>>>> 425ca127b44c9b7982a774403ac7808a8ea772c0
     "metadata": {},
     "output_type": "execute_result"
    }
   ],
   "source": [
    "lr1.score(X_train_df, y_train)"
   ]
  },
  {
   "cell_type": "code",
<<<<<<< HEAD
   "execution_count": 25,
   "id": "5d9a3780",
=======
   "execution_count": 165,
   "id": "39bec397",
>>>>>>> 425ca127b44c9b7982a774403ac7808a8ea772c0
   "metadata": {},
   "outputs": [
    {
     "data": {
      "text/plain": [
       "253.98121177477847"
      ]
     },
<<<<<<< HEAD
     "execution_count": 25,
=======
     "execution_count": 165,
>>>>>>> 425ca127b44c9b7982a774403ac7808a8ea772c0
     "metadata": {},
     "output_type": "execute_result"
    }
   ],
   "source": [
    "from sklearn.metrics import mean_squared_error\n",
    "y_pred = lr1.predict(X_test_df)\n",
    "np.sqrt(mean_squared_error(y_pred, y_test))"
   ]
  },
  {
   "cell_type": "markdown",
   "id": "3806a35e",
   "metadata": {
    "slideshow": {
     "slide_type": "slide"
    }
   },
   "source": [
    "Wow that's a good $R^2$ value!\n",
    "\n",
    "- Estimate how we are doing on unseen data with cross validation."
   ]
  },
  {
   "cell_type": "code",
<<<<<<< HEAD
   "execution_count": 26,
   "id": "cf82bc12",
=======
   "execution_count": 166,
   "id": "b967516d",
>>>>>>> 425ca127b44c9b7982a774403ac7808a8ea772c0
   "metadata": {
    "slideshow": {
     "slide_type": "fragment"
    }
   },
   "outputs": [],
   "source": [
    "cv_results = cross_validate(X=X_train_df, y=y_train, estimator=lr1, cv=10, scoring=('r2', 'neg_mean_squared_error'),\n",
    "                return_train_score=True\n",
    ")"
   ]
  },
  {
   "cell_type": "markdown",
   "id": "970899fd",
   "metadata": {
    "slideshow": {
     "slide_type": "slide"
    }
   },
   "source": [
    "How well model explains training fold data in each iteration cross validation:"
   ]
  },
  {
   "cell_type": "code",
<<<<<<< HEAD
   "execution_count": 27,
   "id": "89dfce4b",
=======
   "execution_count": 167,
   "id": "9a12213a",
>>>>>>> 425ca127b44c9b7982a774403ac7808a8ea772c0
   "metadata": {
    "slideshow": {
     "slide_type": "fragment"
    }
   },
   "outputs": [
    {
     "data": {
      "text/plain": [
       "array([0.86804859, 0.87184762, 0.86639447, 0.86902092, 0.86919768,\n",
       "       0.86625747, 0.86680671, 0.8768277 , 0.869645  , 0.86906114])"
      ]
     },
<<<<<<< HEAD
     "execution_count": 27,
=======
     "execution_count": 167,
>>>>>>> 425ca127b44c9b7982a774403ac7808a8ea772c0
     "metadata": {},
     "output_type": "execute_result"
    }
   ],
   "source": [
    "train_res = cv_results['train_r2']\n",
    "train_res"
   ]
  },
  {
   "cell_type": "markdown",
   "id": "100d0b67",
   "metadata": {
    "slideshow": {
     "slide_type": "slide"
    }
   },
   "source": [
    "It's fitting well each time in the 10 iterations."
   ]
  },
  {
   "cell_type": "markdown",
   "id": "a1e48483",
   "metadata": {
    "slideshow": {
     "slide_type": "subslide"
    }
   },
   "source": [
    "How does the validation look?"
   ]
  },
  {
   "cell_type": "code",
<<<<<<< HEAD
   "execution_count": 28,
   "id": "ec4b7eee",
=======
   "execution_count": 168,
   "id": "2e29199a",
>>>>>>> 425ca127b44c9b7982a774403ac7808a8ea772c0
   "metadata": {
    "cell_style": "split",
    "slideshow": {
     "slide_type": "fragment"
    }
   },
   "outputs": [
    {
     "data": {
      "text/plain": [
       "array([0.86092305, 0.68845759, 0.88730555, 0.85315477, 0.85555065,\n",
       "       0.88779582, 0.87796788, 0.71839192, 0.85080305, 0.86263277])"
      ]
     },
<<<<<<< HEAD
     "execution_count": 28,
=======
     "execution_count": 168,
>>>>>>> 425ca127b44c9b7982a774403ac7808a8ea772c0
     "metadata": {},
     "output_type": "execute_result"
    }
   ],
   "source": [
    "test_res = cv_results['test_r2']\n",
    "test_res"
   ]
  },
  {
   "cell_type": "code",
<<<<<<< HEAD
   "execution_count": 29,
   "id": "f71db768",
=======
   "execution_count": 169,
   "id": "17733a51",
>>>>>>> 425ca127b44c9b7982a774403ac7808a8ea772c0
   "metadata": {
    "cell_style": "split",
    "slideshow": {
     "slide_type": "fragment"
    }
   },
   "outputs": [
    {
     "data": {
      "text/plain": [
       "0.8342983053829108"
      ]
     },
<<<<<<< HEAD
     "execution_count": 29,
=======
     "execution_count": 169,
>>>>>>> 425ca127b44c9b7982a774403ac7808a8ea772c0
     "metadata": {},
     "output_type": "execute_result"
    }
   ],
   "source": [
    "test_res.mean()"
   ]
  },
  {
   "cell_type": "code",
<<<<<<< HEAD
   "execution_count": 30,
   "id": "f18b74e8",
=======
   "execution_count": 170,
   "id": "612080c5",
>>>>>>> 425ca127b44c9b7982a774403ac7808a8ea772c0
   "metadata": {
    "cell_style": "split",
    "slideshow": {
     "slide_type": "fragment"
    }
   },
   "outputs": [
    {
     "data": {
      "text/plain": [
       "0.0706115684406586"
      ]
     },
<<<<<<< HEAD
     "execution_count": 30,
=======
     "execution_count": 170,
>>>>>>> 425ca127b44c9b7982a774403ac7808a8ea772c0
     "metadata": {},
     "output_type": "execute_result"
    }
   ],
   "source": [
    "test_res.std(ddof = 1)"
   ]
  },
  {
   "cell_type": "markdown",
   "id": "91ecad9b",
   "metadata": {
    "slideshow": {
     "slide_type": "slide"
    }
   },
   "source": [
    "Good average test performance and relatively low variance."
   ]
  },
  {
   "cell_type": "code",
<<<<<<< HEAD
   "execution_count": 31,
   "id": "4b8bf0e3",
=======
   "execution_count": 171,
   "id": "b2038f5d",
>>>>>>> 425ca127b44c9b7982a774403ac7808a8ea772c0
   "metadata": {
    "cell_style": "center",
    "slideshow": {
     "slide_type": "subslide"
    }
   },
   "outputs": [
    {
     "data": {
      "text/plain": [
       "array([294.39902869, 295.54794956, 295.83205215, 287.46270287,\n",
       "       298.1599986 , 295.74918118, 293.40476336, 291.7275227 ,\n",
       "       290.82138953, 292.37523149])"
      ]
     },
<<<<<<< HEAD
     "execution_count": 31,
=======
     "execution_count": 171,
>>>>>>> 425ca127b44c9b7982a774403ac7808a8ea772c0
     "metadata": {},
     "output_type": "execute_result"
    }
   ],
   "source": [
    "RMSE_train = np.sqrt(np.abs(cv_results['train_neg_mean_squared_error']))\n",
    "RMSE_train"
   ]
  },
  {
   "cell_type": "code",
<<<<<<< HEAD
   "execution_count": 32,
   "id": "0d363db8",
=======
   "execution_count": 172,
   "id": "b62a855a",
>>>>>>> 425ca127b44c9b7982a774403ac7808a8ea772c0
   "metadata": {
    "cell_style": "split",
    "slideshow": {
     "slide_type": "fragment"
    }
   },
   "outputs": [
    {
     "data": {
      "text/plain": [
       "293.54798201361626"
      ]
     },
<<<<<<< HEAD
     "execution_count": 32,
=======
     "execution_count": 172,
>>>>>>> 425ca127b44c9b7982a774403ac7808a8ea772c0
     "metadata": {},
     "output_type": "execute_result"
    }
   ],
   "source": [
    "RMSE_train.mean()"
   ]
  },
  {
   "cell_type": "code",
<<<<<<< HEAD
   "execution_count": 33,
   "id": "c8255f8a",
=======
   "execution_count": 173,
   "id": "e2dcbee8",
>>>>>>> 425ca127b44c9b7982a774403ac7808a8ea772c0
   "metadata": {
    "cell_style": "split",
    "slideshow": {
     "slide_type": "fragment"
    }
   },
   "outputs": [
    {
     "data": {
      "text/plain": [
       "2.91945128523961"
      ]
     },
<<<<<<< HEAD
     "execution_count": 33,
=======
     "execution_count": 173,
>>>>>>> 425ca127b44c9b7982a774403ac7808a8ea772c0
     "metadata": {},
     "output_type": "execute_result"
    }
   ],
   "source": [
    "RMSE_train.std()"
   ]
  },
  {
   "cell_type": "code",
<<<<<<< HEAD
   "execution_count": 34,
   "id": "a57f0b39",
=======
   "execution_count": 174,
   "id": "a32d9d5c",
>>>>>>> 425ca127b44c9b7982a774403ac7808a8ea772c0
   "metadata": {
    "cell_style": "center",
    "slideshow": {
     "slide_type": "subslide"
    }
   },
   "outputs": [
    {
     "data": {
      "text/plain": [
       "array([297.90893127, 291.59992285, 281.7832529 , 358.30773939,\n",
       "       260.32367156, 281.50266999, 309.16756673, 319.73503557,\n",
       "       331.38649842, 316.03365957])"
      ]
     },
<<<<<<< HEAD
     "execution_count": 34,
=======
     "execution_count": 174,
>>>>>>> 425ca127b44c9b7982a774403ac7808a8ea772c0
     "metadata": {},
     "output_type": "execute_result"
    }
   ],
   "source": [
    "RMSE_test = np.sqrt(np.abs(cv_results['test_neg_mean_squared_error']))\n",
    "RMSE_test"
   ]
  },
  {
   "cell_type": "markdown",
   "id": "2517eb95",
   "metadata": {
    "cell_style": "split",
    "slideshow": {
     "slide_type": "fragment"
    }
   },
   "source": [
    "Clearly larger average RMSE and variance of RMSE in the test set. But still pretty decent."
   ]
  },
  {
   "cell_type": "code",
<<<<<<< HEAD
   "execution_count": 35,
   "id": "87e14da6",
=======
   "execution_count": 175,
   "id": "bbebd585",
>>>>>>> 425ca127b44c9b7982a774403ac7808a8ea772c0
   "metadata": {
    "cell_style": "split",
    "slideshow": {
     "slide_type": "fragment"
    }
   },
   "outputs": [
    {
     "data": {
      "text/plain": [
       "304.77489482634076"
      ]
     },
<<<<<<< HEAD
     "execution_count": 35,
=======
     "execution_count": 175,
>>>>>>> 425ca127b44c9b7982a774403ac7808a8ea772c0
     "metadata": {},
     "output_type": "execute_result"
    }
   ],
   "source": [
    "RMSE_test.mean()"
   ]
  },
  {
   "cell_type": "code",
<<<<<<< HEAD
   "execution_count": 36,
   "id": "45767cf9",
=======
   "execution_count": 176,
   "id": "4ac50032",
>>>>>>> 425ca127b44c9b7982a774403ac7808a8ea772c0
   "metadata": {
    "cell_style": "split",
    "slideshow": {
     "slide_type": "fragment"
    }
   },
   "outputs": [
    {
     "data": {
      "text/plain": [
       "28.30517952679398"
      ]
     },
<<<<<<< HEAD
     "execution_count": 36,
=======
     "execution_count": 176,
>>>>>>> 425ca127b44c9b7982a774403ac7808a8ea772c0
     "metadata": {},
     "output_type": "execute_result"
    }
   ],
   "source": [
    "RMSE_test.std(ddof = 1)"
   ]
  },
  {
   "cell_type": "markdown",
   "id": "7e03369d",
   "metadata": {
    "cell_style": "center",
    "slideshow": {
     "slide_type": "slide"
    }
   },
   "source": [
    "But...I'm a greedy man.\n",
    "\n",
    "I want to do better than this. \n",
    "- I'm going to add some polynomials to get a more complex model."
   ]
  },
  {
   "cell_type": "markdown",
   "id": "123fe02a",
   "metadata": {
    "slideshow": {
     "slide_type": "subslide"
    }
   },
   "source": [
    "My motivation:\n",
    "    \n",
    "- More complex model = better able to capture more complex relationships between mass and other variables.\n",
    "- Better prediction."
   ]
  },
  {
   "cell_type": "markdown",
   "id": "052d9b22",
   "metadata": {
    "slideshow": {
     "slide_type": "slide"
    }
   },
   "source": [
    "#### Adding model complexity"
   ]
  },
  {
   "cell_type": "code",
<<<<<<< HEAD
   "execution_count": 37,
   "id": "848707f6",
=======
   "execution_count": 177,
   "id": "6b555934",
>>>>>>> 425ca127b44c9b7982a774403ac7808a8ea772c0
   "metadata": {},
   "outputs": [],
   "source": [
    "from sklearn.preprocessing import PolynomialFeatures"
   ]
  },
  {
   "cell_type": "code",
<<<<<<< HEAD
   "execution_count": 38,
   "id": "8fd7ab0a",
=======
   "execution_count": 178,
   "id": "a2c2b759",
>>>>>>> 425ca127b44c9b7982a774403ac7808a8ea772c0
   "metadata": {
    "slideshow": {
     "slide_type": "fragment"
    }
   },
   "outputs": [],
   "source": [
    "pf = PolynomialFeatures(degree=3)\n",
    "X_poly_train = pd.DataFrame(pf.fit_transform(X_train_df))\n",
    "\n",
    "y_train.to_csv('X_penguin.csv')"
   ]
  },
  {
   "cell_type": "code",
<<<<<<< HEAD
   "execution_count": 39,
   "id": "84941799",
=======
   "execution_count": 179,
   "id": "bc2492b8",
>>>>>>> 425ca127b44c9b7982a774403ac7808a8ea772c0
   "metadata": {
    "slideshow": {
     "slide_type": "fragment"
    }
   },
   "outputs": [],
   "source": [
    "X_poly_test = pf.transform(X_test_df)"
   ]
  },
  {
   "cell_type": "code",
<<<<<<< HEAD
   "execution_count": 40,
   "id": "d238fa59",
=======
   "execution_count": 180,
   "id": "bfdce38e",
>>>>>>> 425ca127b44c9b7982a774403ac7808a8ea772c0
   "metadata": {
    "cell_style": "split",
    "slideshow": {
     "slide_type": "fragment"
    }
   },
   "outputs": [
    {
     "data": {
      "text/plain": [
       "(249, 8)"
      ]
     },
<<<<<<< HEAD
     "execution_count": 40,
=======
     "execution_count": 180,
>>>>>>> 425ca127b44c9b7982a774403ac7808a8ea772c0
     "metadata": {},
     "output_type": "execute_result"
    }
   ],
   "source": [
    "X_train_df.shape"
   ]
  },
  {
   "cell_type": "code",
<<<<<<< HEAD
   "execution_count": 41,
   "id": "ee013b61",
=======
   "execution_count": 181,
   "id": "9b6ac70f",
>>>>>>> 425ca127b44c9b7982a774403ac7808a8ea772c0
   "metadata": {
    "cell_style": "split",
    "slideshow": {
     "slide_type": "fragment"
    }
   },
   "outputs": [
    {
     "data": {
      "text/plain": [
       "(249, 165)"
      ]
     },
<<<<<<< HEAD
     "execution_count": 41,
=======
     "execution_count": 181,
>>>>>>> 425ca127b44c9b7982a774403ac7808a8ea772c0
     "metadata": {},
     "output_type": "execute_result"
    }
   ],
   "source": [
    "X_poly_train.shape"
   ]
  },
  {
   "cell_type": "code",
<<<<<<< HEAD
   "execution_count": 42,
   "id": "e89f8aaf",
=======
   "execution_count": 182,
   "id": "6e56ebaa",
>>>>>>> 425ca127b44c9b7982a774403ac7808a8ea772c0
   "metadata": {
    "slideshow": {
     "slide_type": "slide"
    }
   },
   "outputs": [
    {
     "data": {
      "text/plain": [
       "LinearRegression()"
      ]
     },
<<<<<<< HEAD
     "execution_count": 42,
=======
     "execution_count": 182,
>>>>>>> 425ca127b44c9b7982a774403ac7808a8ea772c0
     "metadata": {},
     "output_type": "execute_result"
    }
   ],
   "source": [
    "poly_lr = LinearRegression()\n",
    "poly_lr.fit(X_poly_train, y_train)"
   ]
  },
  {
   "cell_type": "code",
<<<<<<< HEAD
   "execution_count": 43,
   "id": "be96ac5c",
=======
   "execution_count": 183,
   "id": "5f4423ed",
>>>>>>> 425ca127b44c9b7982a774403ac7808a8ea772c0
   "metadata": {
    "cell_style": "split",
    "slideshow": {
     "slide_type": "fragment"
    }
   },
   "outputs": [
    {
     "data": {
      "text/plain": [
       "0.8929837697042633"
      ]
     },
<<<<<<< HEAD
     "execution_count": 43,
=======
     "execution_count": 183,
>>>>>>> 425ca127b44c9b7982a774403ac7808a8ea772c0
     "metadata": {},
     "output_type": "execute_result"
    }
   ],
   "source": [
    "poly_lr.score(X_poly_train, y_train)"
   ]
  },
  {
   "cell_type": "code",
<<<<<<< HEAD
   "execution_count": 44,
   "id": "2dca89db",
=======
   "execution_count": 184,
   "id": "68f53de1",
>>>>>>> 425ca127b44c9b7982a774403ac7808a8ea772c0
   "metadata": {
    "cell_style": "split",
    "slideshow": {
     "slide_type": "fragment"
    }
   },
   "outputs": [
    {
     "data": {
      "text/plain": [
       "0.8688983108974327"
      ]
     },
<<<<<<< HEAD
     "execution_count": 44,
=======
     "execution_count": 184,
>>>>>>> 425ca127b44c9b7982a774403ac7808a8ea772c0
     "metadata": {},
     "output_type": "execute_result"
    }
   ],
   "source": [
    "lr1.score(X_train_df, y_train)"
   ]
  },
  {
   "cell_type": "markdown",
   "id": "18511a2d",
   "metadata": {
    "slideshow": {
     "slide_type": "slide"
    }
   },
   "source": [
    "About a 3% improvement: \n",
    "- that could mean money in other contexts."
   ]
  },
  {
   "cell_type": "code",
<<<<<<< HEAD
   "execution_count": 45,
   "id": "87c31f0e",
=======
   "execution_count": 185,
   "id": "2b6b2724",
>>>>>>> 425ca127b44c9b7982a774403ac7808a8ea772c0
   "metadata": {
    "slideshow": {
     "slide_type": "subslide"
    }
   },
   "outputs": [],
   "source": [
    "poly_cv_results = cross_validate(\n",
    "                X=X_poly_train, \n",
    "                y=y_train,\n",
    "                estimator=poly_lr, \n",
    "                cv=10,\n",
    "                scoring=('r2', 'neg_mean_squared_error'),\n",
    "                return_train_score=True\n",
    ")"
   ]
  },
  {
   "cell_type": "code",
<<<<<<< HEAD
   "execution_count": 46,
   "id": "a69cb7ca",
=======
   "execution_count": 186,
   "id": "12e3720c",
>>>>>>> 425ca127b44c9b7982a774403ac7808a8ea772c0
   "metadata": {
    "slideshow": {
     "slide_type": "subslide"
    }
   },
   "outputs": [
    {
     "data": {
      "text/plain": [
       "array([0.81274492, 0.90586696, 0.87121847, 0.8679138 , 0.8763034 ,\n",
       "       0.89249435, 0.8777283 , 0.89532594, 0.91414691, 0.80533061])"
      ]
     },
<<<<<<< HEAD
     "execution_count": 46,
=======
     "execution_count": 186,
>>>>>>> 425ca127b44c9b7982a774403ac7808a8ea772c0
     "metadata": {},
     "output_type": "execute_result"
    }
   ],
   "source": [
    "poly_train_res = poly_cv_results['train_r2']\n",
    "poly_train_res"
   ]
  },
  {
   "cell_type": "code",
<<<<<<< HEAD
   "execution_count": 47,
   "id": "c28e3cf1",
=======
   "execution_count": 187,
   "id": "fde2e53a",
>>>>>>> 425ca127b44c9b7982a774403ac7808a8ea772c0
   "metadata": {
    "cell_style": "split",
    "slideshow": {
     "slide_type": "fragment"
    }
   },
   "outputs": [
    {
     "data": {
      "text/plain": [
       "0.8719073616110793"
      ]
     },
<<<<<<< HEAD
     "execution_count": 47,
=======
     "execution_count": 187,
>>>>>>> 425ca127b44c9b7982a774403ac7808a8ea772c0
     "metadata": {},
     "output_type": "execute_result"
    }
   ],
   "source": [
    "poly_train_res.mean()"
   ]
  },
  {
   "cell_type": "code",
<<<<<<< HEAD
   "execution_count": 48,
   "id": "df84d044",
=======
   "execution_count": 188,
   "id": "e346fc76",
>>>>>>> 425ca127b44c9b7982a774403ac7808a8ea772c0
   "metadata": {
    "cell_style": "split",
    "slideshow": {
     "slide_type": "fragment"
    }
   },
   "outputs": [
    {
     "data": {
      "text/plain": [
       "0.03638068060374389"
      ]
     },
<<<<<<< HEAD
     "execution_count": 48,
=======
     "execution_count": 188,
>>>>>>> 425ca127b44c9b7982a774403ac7808a8ea772c0
     "metadata": {},
     "output_type": "execute_result"
    }
   ],
   "source": [
    "poly_train_res.std(ddof =1)"
   ]
  },
  {
   "cell_type": "markdown",
   "id": "a4b8145b",
   "metadata": {
    "slideshow": {
     "slide_type": "subslide"
    }
   },
   "source": [
    "Wow...I'm ready to brag to my boss.\n",
    "\n",
    "- But let's check the performance on the validation folds."
   ]
  },
  {
   "cell_type": "code",
<<<<<<< HEAD
   "execution_count": 50,
   "id": "a17c2d15",
=======
   "execution_count": 189,
   "id": "513a58fa",
>>>>>>> 425ca127b44c9b7982a774403ac7808a8ea772c0
   "metadata": {
    "cell_style": "center",
    "slideshow": {
     "slide_type": "subslide"
    }
   },
   "outputs": [
    {
     "data": {
      "text/plain": [
       "array([ 0.58415863, -0.98181982,  0.57883744,  0.67200793,  0.13603473,\n",
       "        0.51348525,  0.11073327,  0.17470119,  0.81904845,  0.56611469])"
      ]
     },
<<<<<<< HEAD
     "execution_count": 50,
=======
     "execution_count": 189,
>>>>>>> 425ca127b44c9b7982a774403ac7808a8ea772c0
     "metadata": {},
     "output_type": "execute_result"
    }
   ],
   "source": [
    "poly_valid_res = poly_cv_results['test_r2']\n",
    "poly_valid_res"
   ]
  },
  {
   "cell_type": "code",
<<<<<<< HEAD
   "execution_count": 51,
   "id": "82352c88",
=======
   "execution_count": 190,
   "id": "64beacb9",
>>>>>>> 425ca127b44c9b7982a774403ac7808a8ea772c0
   "metadata": {
    "cell_style": "split",
    "slideshow": {
     "slide_type": "fragment"
    }
   },
   "outputs": [
    {
     "data": {
      "text/plain": [
       "0.3173301767269026"
      ]
     },
<<<<<<< HEAD
     "execution_count": 51,
=======
     "execution_count": 190,
>>>>>>> 425ca127b44c9b7982a774403ac7808a8ea772c0
     "metadata": {},
     "output_type": "execute_result"
    }
   ],
   "source": [
    "poly_valid_res.mean()"
   ]
  },
  {
   "cell_type": "code",
<<<<<<< HEAD
   "execution_count": 52,
   "id": "032af908",
=======
   "execution_count": 191,
   "id": "ca4bb5c4",
>>>>>>> 425ca127b44c9b7982a774403ac7808a8ea772c0
   "metadata": {
    "cell_style": "split",
    "slideshow": {
     "slide_type": "fragment"
    }
   },
   "outputs": [
    {
     "data": {
      "text/plain": [
       "0.49001587855061146"
      ]
     },
<<<<<<< HEAD
     "execution_count": 52,
=======
     "execution_count": 191,
>>>>>>> 425ca127b44c9b7982a774403ac7808a8ea772c0
     "metadata": {},
     "output_type": "execute_result"
    }
   ],
   "source": [
    "poly_valid_res.std()"
   ]
  },
  {
   "cell_type": "code",
<<<<<<< HEAD
   "execution_count": 53,
   "id": "25b160ca",
=======
   "execution_count": 192,
   "id": "265c2d92",
>>>>>>> 425ca127b44c9b7982a774403ac7808a8ea772c0
   "metadata": {
    "cell_style": "center",
    "slideshow": {
     "slide_type": "subslide"
    }
   },
   "outputs": [
    {
     "data": {
      "text/plain": [
       "array([515.13349603, 735.46312669, 544.73941531, 535.49810021,\n",
       "       636.65477826, 586.17326249, 834.5894231 , 547.36027849,\n",
       "       364.95221001, 561.66743462])"
      ]
     },
<<<<<<< HEAD
     "execution_count": 53,
=======
     "execution_count": 192,
>>>>>>> 425ca127b44c9b7982a774403ac7808a8ea772c0
     "metadata": {},
     "output_type": "execute_result"
    }
   ],
   "source": [
    "RMSE_polytest = np.sqrt(np.abs(poly_cv_results['test_neg_mean_squared_error']))\n",
    "RMSE_polytest"
   ]
  },
  {
   "cell_type": "code",
<<<<<<< HEAD
   "execution_count": 54,
   "id": "409deff0",
=======
   "execution_count": 193,
   "id": "44768992",
>>>>>>> 425ca127b44c9b7982a774403ac7808a8ea772c0
   "metadata": {
    "cell_style": "split",
    "slideshow": {
     "slide_type": "fragment"
    }
   },
   "outputs": [
    {
     "data": {
      "text/plain": [
       "586.2231525211769"
      ]
     },
<<<<<<< HEAD
     "execution_count": 54,
=======
     "execution_count": 193,
>>>>>>> 425ca127b44c9b7982a774403ac7808a8ea772c0
     "metadata": {},
     "output_type": "execute_result"
    }
   ],
   "source": [
    "RMSE_polytest.mean()"
   ]
  },
  {
   "cell_type": "code",
<<<<<<< HEAD
   "execution_count": 56,
   "id": "0a1a2114",
=======
   "execution_count": 194,
   "id": "8e35df06",
>>>>>>> 425ca127b44c9b7982a774403ac7808a8ea772c0
   "metadata": {
    "cell_style": "split",
    "slideshow": {
     "slide_type": "fragment"
    }
   },
   "outputs": [
    {
     "data": {
      "text/plain": [
       "127.76868531351114"
      ]
     },
<<<<<<< HEAD
     "execution_count": 56,
=======
     "execution_count": 194,
>>>>>>> 425ca127b44c9b7982a774403ac7808a8ea772c0
     "metadata": {},
     "output_type": "execute_result"
    }
   ],
   "source": [
    "RMSE_polytest.std(ddof=1)"
   ]
  },
  {
   "cell_type": "markdown",
   "id": "1772b6f7",
   "metadata": {
    "slideshow": {
     "slide_type": "subslide"
    }
   },
   "source": [
    "<center><img src = \"Images/punch_chuck_norris.gif\" width = 400/></center>\n",
    "<center>You just got punched in the face by the bias-variance problem.</center>"
   ]
  },
  {
   "cell_type": "markdown",
   "id": "f3bae1de",
   "metadata": {
    "cell_style": "center",
    "slideshow": {
     "slide_type": "slide"
    }
   },
   "source": [
    "Fit an overly complex model:\n",
    "- Doesn't generalize well."
   ]
  },
  {
   "cell_type": "markdown",
   "id": "85fe0b36",
   "metadata": {
    "slideshow": {
     "slide_type": "slide"
    }
   },
   "source": [
    "Let's try regularizing polynomial model:\n",
    "$$ L = |\\textbf{y} - X \\textbf{w}|_2^2 + \\lambda |\\textbf{w}|_2^2 $$"
   ]
  },
  {
   "cell_type": "markdown",
   "id": "c5a708c1",
   "metadata": {
    "cell_style": "split",
    "slideshow": {
     "slide_type": "fragment"
    }
   },
   "source": [
    "\n",
    "- reduce the floppiness/complexity of model\n",
    "- but still keep *some* of the complexity added by these polynomial features."
   ]
  },
  {
   "cell_type": "markdown",
   "id": "142f8341",
   "metadata": {
    "cell_style": "split",
    "slideshow": {
     "slide_type": "fragment"
    }
   },
   "source": [
    "- Reduce Var[$\\textbf{w}$].\n",
    "- Get model predictions more representative of population."
   ]
  },
  {
   "cell_type": "code",
<<<<<<< HEAD
   "execution_count": 57,
   "id": "3abf0895",
=======
   "execution_count": 195,
   "id": "186734db",
>>>>>>> 425ca127b44c9b7982a774403ac7808a8ea772c0
   "metadata": {
    "hidden": true,
    "slideshow": {
     "slide_type": "slide"
    }
   },
   "outputs": [],
   "source": [
    "ss = StandardScaler()\n",
    "pf = PolynomialFeatures(degree=3)\n",
    "\n",
    "# You should always be sure to _standardize_ your data before\n",
    "# applying regularization!\n",
    "\n",
    "X_train_processed = pf.fit_transform(ss.fit_transform(X_train_df))\n",
    "X_test_processed = pf.transform(ss.transform(X_test_df))"
   ]
  },
  {
   "cell_type": "markdown",
   "id": "6097a667",
   "metadata": {
    "slideshow": {
     "slide_type": "slide"
    }
   },
   "source": [
    "Absolutely need to standardize/normalize features:"
   ]
  },
  {
   "cell_type": "markdown",
   "id": "409204d2",
   "metadata": {
    "slideshow": {
     "slide_type": "fragment"
    }
   },
   "source": [
    " $$ L = |\\textbf{y} - X \\textbf{w}|_2^2 + \\lambda |\\textbf{w}|_2^2 $$"
   ]
  },
  {
   "cell_type": "markdown",
   "id": "d1f23f85",
   "metadata": {
    "slideshow": {
     "slide_type": "fragment"
    }
   },
   "source": [
    "L2 regularization cost function makes no sense otherwise. \n",
    "- Weights will be on different scales if features not normalized."
   ]
  },
  {
   "cell_type": "code",
<<<<<<< HEAD
   "execution_count": 58,
   "id": "7a7a346b",
=======
   "execution_count": 196,
   "id": "9240df57",
>>>>>>> 425ca127b44c9b7982a774403ac7808a8ea772c0
   "metadata": {
    "cell_style": "center",
    "slideshow": {
     "slide_type": "slide"
    }
   },
   "outputs": [
    {
     "data": {
      "text/plain": [
       "Ridge(alpha=100, random_state=42)"
      ]
     },
<<<<<<< HEAD
     "execution_count": 58,
=======
     "execution_count": 196,
>>>>>>> 425ca127b44c9b7982a774403ac7808a8ea772c0
     "metadata": {},
     "output_type": "execute_result"
    }
   ],
   "source": [
    "# 'Lambda' is the standard variable for the strength of the\n",
    "# regularization (as in the above formulas), but since lambda\n",
    "# is a key word in Python, these sklearn regularization tools\n",
    "# use 'alpha' instead.\n",
    "\n",
    "rr = Ridge(alpha=100, random_state=42)\n",
    "\n",
    "rr.fit(X_train_processed, y_train)"
   ]
  },
  {
   "cell_type": "code",
<<<<<<< HEAD
   "execution_count": 59,
   "id": "4816af9c",
=======
   "execution_count": 197,
   "id": "4897904a",
>>>>>>> 425ca127b44c9b7982a774403ac7808a8ea772c0
   "metadata": {
    "cell_style": "split",
    "slideshow": {
     "slide_type": "fragment"
    }
   },
   "outputs": [
    {
     "data": {
      "text/plain": [
       "0.8858195769398121"
      ]
     },
<<<<<<< HEAD
     "execution_count": 59,
=======
     "execution_count": 197,
>>>>>>> 425ca127b44c9b7982a774403ac7808a8ea772c0
     "metadata": {},
     "output_type": "execute_result"
    }
   ],
   "source": [
    "rr.score(X_train_processed, y_train)"
   ]
  },
  {
   "cell_type": "code",
<<<<<<< HEAD
   "execution_count": 60,
   "id": "5022407d",
=======
   "execution_count": 198,
   "id": "39bc1c8a",
>>>>>>> 425ca127b44c9b7982a774403ac7808a8ea772c0
   "metadata": {
    "cell_style": "split",
    "slideshow": {
     "slide_type": "fragment"
    }
   },
   "outputs": [
    {
     "data": {
      "text/plain": [
       "0.8688983108974327"
      ]
     },
<<<<<<< HEAD
     "execution_count": 60,
=======
     "execution_count": 198,
>>>>>>> 425ca127b44c9b7982a774403ac7808a8ea772c0
     "metadata": {},
     "output_type": "execute_result"
    }
   ],
   "source": [
    "lr1.score(X_train_df, y_train)"
   ]
  },
  {
   "cell_type": "markdown",
   "id": "070d8198",
   "metadata": {
    "slideshow": {
     "slide_type": "slide"
    }
   },
   "source": [
    "Let' s cross validate this.\n",
    "- But we have to be careful."
   ]
  },
  {
   "cell_type": "markdown",
   "id": "f5c5b4f2",
   "metadata": {
    "slideshow": {
     "slide_type": "fragment"
    }
   },
   "source": [
    "This would be a mistake."
   ]
  },
  {
   "cell_type": "code",
<<<<<<< HEAD
   "execution_count": 61,
   "id": "11ba78dd",
=======
   "execution_count": 199,
   "id": "fcaf4315",
>>>>>>> 425ca127b44c9b7982a774403ac7808a8ea772c0
   "metadata": {
    "slideshow": {
     "slide_type": "-"
    }
   },
   "outputs": [],
   "source": [
    "rr_cv_results = cross_validate(\n",
    "                X=X_train_processed, # passing in the scaled data\n",
    "                y=y_train,\n",
    "                estimator=rr, \n",
    "                cv=10,\n",
    "                scoring=('r2', 'neg_mean_squared_error'),\n",
    "                return_train_score=True\n",
    ")"
   ]
  },
  {
   "cell_type": "markdown",
<<<<<<< HEAD
   "id": "995e6dc9",
=======
   "id": "b1a25232",
   "metadata": {
    "slideshow": {
     "slide_type": "fragment"
    }
   },
   "source": [
    "Anyone guess why?"
   ]
  },
  {
   "cell_type": "markdown",
   "id": "9ff406c4",
   "metadata": {
    "cell_style": "split",
    "slideshow": {
     "slide_type": "slide"
    }
   },
   "source": [
    "The reason:\n",
    "- X_train_processed has been standard scaled\n",
    "- cross_validate() is taking in *pre-scaled* training data\n",
    "- **validation** statistics has leaked into **train** fold in each cross-validation trial"
   ]
  },
  {
   "cell_type": "markdown",
   "id": "334c9a72",
   "metadata": {
    "cell_style": "split",
    "slideshow": {
     "slide_type": "fragment"
    }
   },
   "source": [
    "<img src = \"Images/crossval.png\"  width = 800/>\n",
    "<center> Both val/train folds have been scaled by statistics of entire training set. Bad! </center>"
   ]
  },
  {
   "cell_type": "markdown",
   "id": "436dcfc2",
   "metadata": {
    "slideshow": {
     "slide_type": "slide"
    }
   },
   "source": [
    "We got away with using cross_validate() previously because:\n",
    "- PolynomialFeatures doesn't fit statistical parameters for transformation\n",
    "- But with StandardScaler() and many other transformers (SimpleImputer, etc):\n",
    "    - trouble"
   ]
  },
  {
   "cell_type": "markdown",
   "id": "11bb4073",
   "metadata": {
    "slideshow": {
     "slide_type": "slide"
    }
   },
   "source": [
    "#### Doing this right: \n",
    "- KFold(n_splits = k)\n",
    "\n",
    "where k is the number of folds used"
   ]
  },
  {
   "cell_type": "code",
   "execution_count": 200,
   "id": "be4aa136",
   "metadata": {
    "slideshow": {
     "slide_type": "fragment"
    }
   },
   "outputs": [],
   "source": [
    "from sklearn.model_selection import KFold"
   ]
  },
  {
   "cell_type": "markdown",
   "id": "45f501e9",
   "metadata": {
    "slideshow": {
     "slide_type": "slide"
    }
   },
   "source": [
    "Creates a KFold object for 5-fold cross validation"
   ]
  },
  {
   "cell_type": "code",
   "execution_count": 201,
   "id": "d2754530",
   "metadata": {
    "slideshow": {
     "slide_type": "fragment"
    }
   },
   "outputs": [
    {
     "data": {
      "text/plain": [
       "KFold(n_splits=5, random_state=None, shuffle=False)"
      ]
     },
     "execution_count": 201,
     "metadata": {},
     "output_type": "execute_result"
    }
   ],
   "source": [
    "kf = KFold(n_splits = 5)\n",
    "kf"
   ]
  },
  {
   "cell_type": "markdown",
   "id": "4f95fe1d",
   "metadata": {
    "slideshow": {
     "slide_type": "slide"
    }
   },
   "source": [
    "KFold object has:\n",
    "- .split(X_train, y_train) method\n",
    "- X_train is the untransformed feature matrix right after the train-test split"
   ]
  },
  {
   "cell_type": "code",
   "execution_count": 202,
   "id": "ec67ec0e",
   "metadata": {
    "slideshow": {
     "slide_type": "slide"
    }
   },
   "outputs": [
    {
     "data": {
      "text/plain": [
       "<generator object _BaseKFold.split at 0x0000015C09AD2350>"
      ]
     },
     "execution_count": 202,
     "metadata": {},
     "output_type": "execute_result"
    }
   ],
   "source": [
    "kf_gen = kf.split(X_train,y_train)\n",
    "kf_gen"
   ]
  },
  {
   "cell_type": "markdown",
   "id": "b4b234ea",
   "metadata": {
    "slideshow": {
     "slide_type": "fragment"
    }
   },
   "source": [
    "This is a python generator object:\n",
    "- What is it generating? Use the next() function"
   ]
  },
  {
   "cell_type": "code",
   "execution_count": 203,
   "id": "e9d5122c",
   "metadata": {
    "slideshow": {
     "slide_type": "subslide"
    }
   },
   "outputs": [
    {
     "data": {
      "text/plain": [
       "(array([ 50,  51,  52,  53,  54,  55,  56,  57,  58,  59,  60,  61,  62,\n",
       "         63,  64,  65,  66,  67,  68,  69,  70,  71,  72,  73,  74,  75,\n",
       "         76,  77,  78,  79,  80,  81,  82,  83,  84,  85,  86,  87,  88,\n",
       "         89,  90,  91,  92,  93,  94,  95,  96,  97,  98,  99, 100, 101,\n",
       "        102, 103, 104, 105, 106, 107, 108, 109, 110, 111, 112, 113, 114,\n",
       "        115, 116, 117, 118, 119, 120, 121, 122, 123, 124, 125, 126, 127,\n",
       "        128, 129, 130, 131, 132, 133, 134, 135, 136, 137, 138, 139, 140,\n",
       "        141, 142, 143, 144, 145, 146, 147, 148, 149, 150, 151, 152, 153,\n",
       "        154, 155, 156, 157, 158, 159, 160, 161, 162, 163, 164, 165, 166,\n",
       "        167, 168, 169, 170, 171, 172, 173, 174, 175, 176, 177, 178, 179,\n",
       "        180, 181, 182, 183, 184, 185, 186, 187, 188, 189, 190, 191, 192,\n",
       "        193, 194, 195, 196, 197, 198, 199, 200, 201, 202, 203, 204, 205,\n",
       "        206, 207, 208, 209, 210, 211, 212, 213, 214, 215, 216, 217, 218,\n",
       "        219, 220, 221, 222, 223, 224, 225, 226, 227, 228, 229, 230, 231,\n",
       "        232, 233, 234, 235, 236, 237, 238, 239, 240, 241, 242, 243, 244,\n",
       "        245, 246, 247, 248]),\n",
       " array([ 0,  1,  2,  3,  4,  5,  6,  7,  8,  9, 10, 11, 12, 13, 14, 15, 16,\n",
       "        17, 18, 19, 20, 21, 22, 23, 24, 25, 26, 27, 28, 29, 30, 31, 32, 33,\n",
       "        34, 35, 36, 37, 38, 39, 40, 41, 42, 43, 44, 45, 46, 47, 48, 49]))"
      ]
     },
     "execution_count": 203,
     "metadata": {},
     "output_type": "execute_result"
    }
   ],
   "source": [
    "next(kf_gen)"
   ]
  },
  {
   "cell_type": "markdown",
   "id": "53815919",
   "metadata": {
    "cell_style": "split",
    "slideshow": {
     "slide_type": "fragment"
    }
   },
   "source": [
    "Returns a tuple of two arrays:\n",
    "- first array: indices of train fold\n",
    "- second array: indices of validation fold"
   ]
  },
  {
   "cell_type": "markdown",
   "id": "7e0a2665",
   "metadata": {
    "cell_style": "split",
    "slideshow": {
     "slide_type": "fragment"
    }
   },
   "source": [
    "- takes first 1/5th of dataset as validation fold:\n",
    "- rest is training fold"
   ]
  },
  {
   "cell_type": "markdown",
   "id": "45ae7446",
   "metadata": {
    "slideshow": {
     "slide_type": "slide"
    }
   },
   "source": [
    "Now the next produced element of the generator:"
   ]
  },
  {
   "cell_type": "code",
   "execution_count": 204,
   "id": "c6facb91",
   "metadata": {
    "slideshow": {
     "slide_type": "subslide"
    }
   },
   "outputs": [
    {
     "data": {
      "text/plain": [
       "(array([  0,   1,   2,   3,   4,   5,   6,   7,   8,   9,  10,  11,  12,\n",
       "         13,  14,  15,  16,  17,  18,  19,  20,  21,  22,  23,  24,  25,\n",
       "         26,  27,  28,  29,  30,  31,  32,  33,  34,  35,  36,  37,  38,\n",
       "         39,  40,  41,  42,  43,  44,  45,  46,  47,  48,  49, 100, 101,\n",
       "        102, 103, 104, 105, 106, 107, 108, 109, 110, 111, 112, 113, 114,\n",
       "        115, 116, 117, 118, 119, 120, 121, 122, 123, 124, 125, 126, 127,\n",
       "        128, 129, 130, 131, 132, 133, 134, 135, 136, 137, 138, 139, 140,\n",
       "        141, 142, 143, 144, 145, 146, 147, 148, 149, 150, 151, 152, 153,\n",
       "        154, 155, 156, 157, 158, 159, 160, 161, 162, 163, 164, 165, 166,\n",
       "        167, 168, 169, 170, 171, 172, 173, 174, 175, 176, 177, 178, 179,\n",
       "        180, 181, 182, 183, 184, 185, 186, 187, 188, 189, 190, 191, 192,\n",
       "        193, 194, 195, 196, 197, 198, 199, 200, 201, 202, 203, 204, 205,\n",
       "        206, 207, 208, 209, 210, 211, 212, 213, 214, 215, 216, 217, 218,\n",
       "        219, 220, 221, 222, 223, 224, 225, 226, 227, 228, 229, 230, 231,\n",
       "        232, 233, 234, 235, 236, 237, 238, 239, 240, 241, 242, 243, 244,\n",
       "        245, 246, 247, 248]),\n",
       " array([50, 51, 52, 53, 54, 55, 56, 57, 58, 59, 60, 61, 62, 63, 64, 65, 66,\n",
       "        67, 68, 69, 70, 71, 72, 73, 74, 75, 76, 77, 78, 79, 80, 81, 82, 83,\n",
       "        84, 85, 86, 87, 88, 89, 90, 91, 92, 93, 94, 95, 96, 97, 98, 99]))"
      ]
     },
     "execution_count": 204,
     "metadata": {},
     "output_type": "execute_result"
    }
   ],
   "source": [
    "next(kf_gen)"
   ]
  },
  {
   "cell_type": "markdown",
   "id": "f864b91b",
   "metadata": {
    "slideshow": {
     "slide_type": "fragment"
    }
   },
   "source": [
    "- Takes in the second fold as validation\n",
    "- Remaining as training fold"
   ]
  },
  {
   "cell_type": "markdown",
   "id": "0fa2a8a6",
   "metadata": {
    "slideshow": {
     "slide_type": "slide"
    }
   },
   "source": [
    "So on and so forth until exhausts the folds:"
   ]
  },
  {
   "cell_type": "code",
   "execution_count": 205,
   "id": "9cd31423",
   "metadata": {
    "cell_style": "center",
    "slideshow": {
     "slide_type": "fragment"
    }
   },
   "outputs": [
    {
     "data": {
      "text/plain": [
       "(array([  0,   1,   2,   3,   4,   5,   6,   7,   8,   9,  10,  11,  12,\n",
       "         13,  14,  15,  16,  17,  18,  19,  20,  21,  22,  23,  24,  25,\n",
       "         26,  27,  28,  29,  30,  31,  32,  33,  34,  35,  36,  37,  38,\n",
       "         39,  40,  41,  42,  43,  44,  45,  46,  47,  48,  49,  50,  51,\n",
       "         52,  53,  54,  55,  56,  57,  58,  59,  60,  61,  62,  63,  64,\n",
       "         65,  66,  67,  68,  69,  70,  71,  72,  73,  74,  75,  76,  77,\n",
       "         78,  79,  80,  81,  82,  83,  84,  85,  86,  87,  88,  89,  90,\n",
       "         91,  92,  93,  94,  95,  96,  97,  98,  99, 150, 151, 152, 153,\n",
       "        154, 155, 156, 157, 158, 159, 160, 161, 162, 163, 164, 165, 166,\n",
       "        167, 168, 169, 170, 171, 172, 173, 174, 175, 176, 177, 178, 179,\n",
       "        180, 181, 182, 183, 184, 185, 186, 187, 188, 189, 190, 191, 192,\n",
       "        193, 194, 195, 196, 197, 198, 199, 200, 201, 202, 203, 204, 205,\n",
       "        206, 207, 208, 209, 210, 211, 212, 213, 214, 215, 216, 217, 218,\n",
       "        219, 220, 221, 222, 223, 224, 225, 226, 227, 228, 229, 230, 231,\n",
       "        232, 233, 234, 235, 236, 237, 238, 239, 240, 241, 242, 243, 244,\n",
       "        245, 246, 247, 248]),\n",
       " array([100, 101, 102, 103, 104, 105, 106, 107, 108, 109, 110, 111, 112,\n",
       "        113, 114, 115, 116, 117, 118, 119, 120, 121, 122, 123, 124, 125,\n",
       "        126, 127, 128, 129, 130, 131, 132, 133, 134, 135, 136, 137, 138,\n",
       "        139, 140, 141, 142, 143, 144, 145, 146, 147, 148, 149]))"
      ]
     },
     "execution_count": 205,
     "metadata": {},
     "output_type": "execute_result"
    }
   ],
   "source": [
    "next(kf_gen)"
   ]
  },
  {
   "cell_type": "markdown",
   "id": "2cf41275",
   "metadata": {
    "slideshow": {
     "slide_type": "subslide"
    }
   },
   "source": [
    "<img src = \"Images/crossval.png\"  width = 800/>\n",
    "<center> What the generator produces. </center>"
   ]
  },
  {
   "cell_type": "markdown",
   "id": "ead78205",
   "metadata": {
    "slideshow": {
     "slide_type": "slide"
    }
   },
   "source": [
    "Game plan:\n",
    "- Iterate over the generator:\n",
    "- select train and validation using indices\n",
    "- Fit scalers/transformers/model on training \n",
    "- transform and evaluate performance metric on test"
   ]
  },
  {
   "cell_type": "code",
   "execution_count": 352,
   "id": "0247cd11",
   "metadata": {
    "slideshow": {
     "slide_type": "subslide"
    }
   },
   "outputs": [],
   "source": [
    "def cross_validation(X_train, y_train, alpha_reg, num_split = 5):\n",
    "    \n",
    "    X_train = X_train.values\n",
    "    y_train = y_train.values\n",
    "    score_train_list = []\n",
    "    score_val_list = []\n",
    "    rmse_train_list = []\n",
    "    rmse_val_list = []\n",
    "    \n",
    "    for train_index, valid_index in KFold(n_splits = num_split).split(X_train):\n",
    "\n",
    "        # train and validation splitting for particular validation and training fold split\n",
    "        X_train_fold, X_val_fold = X_train[train_index], X_train[valid_index]\n",
    "        y_train_fold, y_val_fold = y_train[train_index], y_train[valid_index]\n",
    "        \n",
    "        #polynomial transform\n",
    "        pf = PolynomialFeatures(degree=3)\n",
    "        X_tf_pf = pf.fit_transform(X_train_fold)\n",
    "        X_val_pf = pf.transform(X_val_fold)\n",
    "\n",
    "        #create/fit the Standard scaler on the train fold\n",
    "        scaler = StandardScaler()\n",
    "        X_tf_sc = scaler.fit_transform(X_tf_pf) # input polynomial transformed train fold\n",
    "        # transform polynomial transformed validation fold\n",
    "        X_vld_sc = scaler.transform(X_val_pf)\n",
    "\n",
    "        # create/fit knearest neighbor\n",
    "        rr = Ridge(alpha= alpha_reg)\n",
    "        rr.fit(X_tf_sc, y_train_fold)\n",
    "        \n",
    "        # now how did we do?\n",
    "        r2_train = rr.score(X_tf_sc, y_train_fold) #R^2 value\n",
    "        r2_val = rr.score(X_vld_sc, y_val_fold)\n",
    "        \n",
    "        y_pred_train = rr.predict(X_tf_sc) # model prediction on train folds\n",
    "        y_pred = rr.predict(X_vld_sc) # model prediction on validation fold\n",
    "       \n",
    "        rmse_train = np.sqrt(mean_squared_error(y_train_fold, y_pred_train)) # calculate rmse for train\n",
    "        rmse_val = np.sqrt(mean_squared_error(y_val_fold, y_pred)) # rmse for validation\n",
    "        \n",
    "        score_train_list.append(r2_train)\n",
    "        score_val_list.append(r2_val)\n",
    "        rmse_train_list.append(rmse_train)\n",
    "        rmse_val_list.append(rmse_val)\n",
    "        \n",
    "        metric_dict = {'train_r2': np.array(score_train_list),\n",
    "                       'val_r2': np.array(score_val_list),\n",
    "                       'train_rmse': np.array(rmse_train_list),\n",
    "                       'val_rmse': np.array(rmse_val_list) }\n",
    "    \n",
    "    return metric_dict"
   ]
  },
  {
   "cell_type": "markdown",
   "id": "3097e9d0",
>>>>>>> 425ca127b44c9b7982a774403ac7808a8ea772c0
   "metadata": {
    "slideshow": {
     "slide_type": "slide"
    }
   },
   "source": [
    "Get $R^2$ on train folds of cross validation trials:"
   ]
  },
  {
   "cell_type": "code",
<<<<<<< HEAD
   "execution_count": 62,
   "id": "8d9128ef",
=======
   "execution_count": 377,
   "id": "956fba5f",
   "metadata": {
    "slideshow": {
     "slide_type": "fragment"
    }
   },
   "outputs": [],
   "source": [
    "rr_cv_results = cross_validation(X_train_df, y_train, alpha_reg = 100)"
   ]
  },
  {
   "cell_type": "code",
   "execution_count": 378,
   "id": "58f7d719",
>>>>>>> 425ca127b44c9b7982a774403ac7808a8ea772c0
   "metadata": {
    "slideshow": {
     "slide_type": "fragment"
    }
   },
   "outputs": [
    {
     "data": {
      "text/plain": [
       "array([0.88305363, 0.87456762, 0.87896314, 0.87954931, 0.87784728])"
      ]
     },
<<<<<<< HEAD
     "execution_count": 62,
=======
     "execution_count": 378,
>>>>>>> 425ca127b44c9b7982a774403ac7808a8ea772c0
     "metadata": {},
     "output_type": "execute_result"
    }
   ],
   "source": [
    "rr_cv_results['train_r2']"
   ]
  },
  {
   "cell_type": "markdown",
   "id": "ceb45927",
   "metadata": {
    "slideshow": {
     "slide_type": "slide"
    }
   },
   "source": [
    "Get $R^2$ on validation folds of cross validation trials:"
   ]
  },
  {
   "cell_type": "code",
<<<<<<< HEAD
   "execution_count": 63,
   "id": "07245a67",
=======
   "execution_count": 379,
   "id": "2b16b428",
>>>>>>> 425ca127b44c9b7982a774403ac7808a8ea772c0
   "metadata": {
    "slideshow": {
     "slide_type": "subslide"
    }
   },
   "outputs": [
    {
     "data": {
      "text/plain": [
       "array([0.84338882, 0.87433445, 0.8668297 , 0.86267249, 0.85128731])"
      ]
     },
<<<<<<< HEAD
     "execution_count": 63,
=======
     "execution_count": 379,
>>>>>>> 425ca127b44c9b7982a774403ac7808a8ea772c0
     "metadata": {},
     "output_type": "execute_result"
    }
   ],
   "source": [
    "rr_cv_results['val_r2']"
   ]
  },
  {
   "cell_type": "code",
<<<<<<< HEAD
   "execution_count": 64,
   "id": "0308def7",
=======
   "execution_count": 380,
   "id": "c018ea9b",
>>>>>>> 425ca127b44c9b7982a774403ac7808a8ea772c0
   "metadata": {
    "cell_style": "split",
    "slideshow": {
     "slide_type": "fragment"
    }
   },
   "outputs": [
    {
     "data": {
      "text/plain": [
       "0.8597025562383193"
      ]
     },
<<<<<<< HEAD
     "execution_count": 64,
=======
     "execution_count": 380,
>>>>>>> 425ca127b44c9b7982a774403ac7808a8ea772c0
     "metadata": {},
     "output_type": "execute_result"
    }
   ],
   "source": [
    "rr_cv_results['val_r2'].mean()"
   ]
  },
  {
   "cell_type": "code",
<<<<<<< HEAD
   "execution_count": 65,
   "id": "b2142ab8",
=======
   "execution_count": 381,
   "id": "b0502ae6",
>>>>>>> 425ca127b44c9b7982a774403ac7808a8ea772c0
   "metadata": {
    "cell_style": "split",
    "slideshow": {
     "slide_type": "fragment"
    }
   },
   "outputs": [
    {
     "data": {
      "text/plain": [
<<<<<<< HEAD
       "0.04110837045192142"
      ]
     },
     "execution_count": 65,
=======
       "0.012355801214588315"
      ]
     },
     "execution_count": 381,
>>>>>>> 425ca127b44c9b7982a774403ac7808a8ea772c0
     "metadata": {},
     "output_type": "execute_result"
    }
   ],
   "source": [
    "rr_cv_results['val_r2'].std(ddof = 1)"
   ]
  },
  {
   "cell_type": "code",
<<<<<<< HEAD
   "execution_count": 66,
   "id": "5d5f593c",
=======
   "execution_count": 382,
   "id": "4f668e8c",
>>>>>>> 425ca127b44c9b7982a774403ac7808a8ea772c0
   "metadata": {
    "slideshow": {
     "slide_type": "slide"
    }
   },
   "outputs": [
    {
     "data": {
      "text/plain": [
       "array([295.00815149, 316.54312437, 282.29501069, 281.96156976,\n",
       "       331.69528533])"
      ]
     },
<<<<<<< HEAD
     "execution_count": 66,
=======
     "execution_count": 382,
>>>>>>> 425ca127b44c9b7982a774403ac7808a8ea772c0
     "metadata": {},
     "output_type": "execute_result"
    }
   ],
   "source": [
    "RMSE_rrtest = rr_cv_results['val_rmse']\n",
    "RMSE_rrtest"
   ]
  },
  {
   "cell_type": "code",
<<<<<<< HEAD
   "execution_count": 67,
   "id": "958e287a",
=======
   "execution_count": 383,
   "id": "b6145010",
>>>>>>> 425ca127b44c9b7982a774403ac7808a8ea772c0
   "metadata": {
    "cell_style": "split",
    "slideshow": {
     "slide_type": "fragment"
    }
   },
   "outputs": [
    {
     "data": {
      "text/plain": [
       "301.50062832762995"
      ]
     },
<<<<<<< HEAD
     "execution_count": 67,
=======
     "execution_count": 383,
>>>>>>> 425ca127b44c9b7982a774403ac7808a8ea772c0
     "metadata": {},
     "output_type": "execute_result"
    }
   ],
   "source": [
    "RMSE_rrtest.mean()"
   ]
  },
  {
   "cell_type": "code",
<<<<<<< HEAD
   "execution_count": 68,
   "id": "79de1898",
=======
   "execution_count": 384,
   "id": "b4796d90",
>>>>>>> 425ca127b44c9b7982a774403ac7808a8ea772c0
   "metadata": {
    "cell_style": "split",
    "slideshow": {
     "slide_type": "fragment"
    }
   },
   "outputs": [
    {
     "data": {
      "text/plain": [
<<<<<<< HEAD
       "25.91524273441403"
      ]
     },
     "execution_count": 68,
=======
       "19.650836179648593"
      ]
     },
     "execution_count": 384,
>>>>>>> 425ca127b44c9b7982a774403ac7808a8ea772c0
     "metadata": {},
     "output_type": "execute_result"
    }
   ],
   "source": [
    "RMSE_rrtest.std()"
   ]
  },
  {
   "cell_type": "markdown",
   "id": "41f004bc",
   "metadata": {
    "cell_style": "split",
    "slideshow": {
     "slide_type": "slide"
    }
   },
   "source": [
    "L2 regularized polynomial model:\n",
    "- A little bit worse than my basic linear model.\n",
    "- Much much better than the un-regularized polynomial model."
   ]
  },
  {
   "cell_type": "markdown",
   "id": "7da40bee",
   "metadata": {
    "cell_style": "split",
    "slideshow": {
     "slide_type": "fragment"
    }
   },
   "source": [
    "Could I do better? Possibly.\n",
    "\n",
    "- Tune hyperparameter $\\lambda$."
   ]
  },
  {
   "cell_type": "markdown",
   "id": "5d164964",
   "metadata": {
    "cell_style": "split",
    "slideshow": {
     "slide_type": "slide"
    }
   },
   "source": [
    "#### Tuning hyperparameters\n",
    "\n",
    "- Don't know what $\\lambda$ will allow model to perform best on validation sets.\n",
    "- Need to tune this."
   ]
  },
  {
   "cell_type": "markdown",
   "id": "9164435b",
   "metadata": {
    "cell_style": "split",
    "slideshow": {
     "slide_type": "fragment"
    }
   },
   "source": [
    "- Adjust model stiffness/regularization parameter\n",
    "- Assess model performance in validation testing."
   ]
  },
  {
   "cell_type": "markdown",
   "id": "dd4a2d86",
   "metadata": {
    "slideshow": {
     "slide_type": "slide"
    }
   },
   "source": [
    "#### The most basic hyperparameter tuning method:"
   ]
  },
  {
   "cell_type": "markdown",
   "id": "725b5a81",
   "metadata": {
    "slideshow": {
     "slide_type": "subslide"
    }
   },
   "source": [
    "Make a loop through the regularization hyperparameter values:"
   ]
  },
  {
   "cell_type": "code",
<<<<<<< HEAD
   "execution_count": 69,
   "id": "3ba00340",
=======
   "execution_count": 385,
   "id": "08e302c0",
>>>>>>> 425ca127b44c9b7982a774403ac7808a8ea772c0
   "metadata": {
    "cell_style": "center",
    "slideshow": {
     "slide_type": "subslide"
    }
   },
   "outputs": [],
   "source": [
    "alphas = [1e-3, 1e-2, 1e-1, 1, 10, 100, 1e3]\n",
    "cv_scores = []\n",
    "\n",
    "for alpha in alphas:\n",
    "    results = cross_validation(X_train_df, y_train, alpha_reg = alpha, num_split = 5)\n",
    "    cv_scores.append(np.mean(results['val_rmse']))"
   ]
  },
  {
   "cell_type": "code",
<<<<<<< HEAD
   "execution_count": 70,
   "id": "a772a269",
=======
   "execution_count": 386,
   "id": "1e0ad821",
>>>>>>> 425ca127b44c9b7982a774403ac7808a8ea772c0
   "metadata": {
    "scrolled": true,
    "slideshow": {
     "slide_type": "subslide"
    }
   },
   "outputs": [
    {
     "data": {
<<<<<<< HEAD
      "image/png": "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\n",
=======
      "image/png": "iVBORw0KGgoAAAANSUhEUgAAAYUAAAEWCAYAAACJ0YulAAAAOXRFWHRTb2Z0d2FyZQBNYXRwbG90bGliIHZlcnNpb24zLjQuMywgaHR0cHM6Ly9tYXRwbG90bGliLm9yZy/MnkTPAAAACXBIWXMAAAsTAAALEwEAmpwYAAA0MUlEQVR4nO3dd3wVddb48c9JT0gIBEIPhI50NSAWXLFiw4pi2VV39+fu6trWFfva3cey9sf1cXdd3VVQir0hIgoWCAGp0ltCD50QCCnn98fMjZeQRsi9c8t5v173lTv9TG4y5873zHxHVBVjjDEGIMbrAIwxxoQOSwrGGGMqWVIwxhhTyZKCMcaYSpYUjDHGVLKkYIwxppIlBWPqQUS+FpHfeh1HTUQkW0RUROLc4c9E5Jr6zNuAbd0jIv88knhrWfejIrJVRDbVY941InJ6DdNOEZF1jR9h5LOkEMbcf4p9IlIkIptE5HURSfWb/rr7zz+iynLPueOvdYcTRORvIrLOXddqEXm2hu34Xi8FbUfNYVPVs1X1jSNdT3UHV1V9XFUbPUGKSBZwO9BbVds09vpN/VhSCH/nq2oqMBA4Gri7yvRlQOU3Rvfb4Uhgpd88dwM5wGAgDRgG/Fjddvxef2zUvThMDf2Wa0JaJ2Cbqm7xOpBoZkkhQqjqJmASTnLw9xFwoog0d4eHA/MB/9PzQcB7qrpBHWtU9T8NiUNEBovIDyKyU0Q2ishLIpLgTntFRJ6uMv8HIvIn9307EZkoIoXu2crNfvM9KCITRORNEdkNXFvbttxlzhSRpSKyS0ReFpFv/JuAROTXIrJYRHaIyCQR6eQ37QwRWeIu+xIgtexzonv2tcF9PSciie60U9wzsNtFZIsb53U1rGeUiORVGXebiHzovj9XRH4Ukd0iUiAiD9YSU2Vzl4jEisjTbrPMKuDcKvNe5/4e9ojIKhH5nTu+CfAZ0M7vDLGd+1m86bf8CBFZ5H4OX4vIUX7T1ojIn0Vkvvu7fEdEkqqJ93Rgst+2Xq9r3VWWTxbnzHiHiPyE8zftP/1OEVnv7uNSETmtpt9d1FNVe4XpC1gDnO6+7wAsAJ73m/468CjwKvAHd9w44ArgW+Bad9x9QD5wA9APkJq2U4+YjgWGAHFANrAYuNWddjJQ4Fs/0BzYB7TD+YIyG/gLkAB0AVYBZ7nzPgiUAhe68ybXsa2WwG7gYnf6Le7yv3WnXwisAI5yp98HfF9l2UuBeOA2oMy3bDX7/DAwA2gFZALfA4+4005xl33YXdc5QDHQvJr1pAB7gO5+42YBo/zW1c/d//7AZuBCd1o2oECcO/y1377+HlgCZAEZwNQq854LdMVJfL9w4zvGb5vrqsT5IPCm+74HsBc4w92/0e7vNcHvbyfX/Ywz3M/o9zX8Hg/aVj3X7fv7/x9guruNLGChb11AT5y/u3Z+v6uuXv//hurL8wDsdQQfnvNPUeQeSBSYAjTzm/46TlI4CfgBSHcPJMkcnBRigRuB74ASYANwTTXb2en3+n/1jPFWnLMQ3INOPnCyO/z/gK/c98cB+VWWvRv4t/v+QWDaYWzrV8APftPEPTD4DpSfAb/xmx6DczDs5C47o8qy66g5KawEzvEbPgtY474/BSfxxflN3wIMqWFdbwJ/cd93dz/blBrmfQ541n2fTc1J4Sv8DsTAmf7zVrPe94Fb/OKvLSncD4yr8ntcD5zi97dztd/0J4FXatjuQduq57p9SWEVMNxv3uv5OSl0c3/npwPxXv7PhsPLmo/C34WqmobzD9UL51vuQVT1W5xvsPcBH6vqvirTy1X1f1X1RKAZ8BjwWpVT9QtVtZnf6x/VBSMiPUTkY3EK37uBx30xqfMf+jbOmQrAlcBb7vtOOE0HO30v4B6gtd/qC+q7LZxvppXzu9v2L5h2Ap7329Z2nIN/+xqWPWjbVbQD1voNr3XH+WxT1TK/4WIgleqN4eDfz/uqWuzu73EiMtVtXtuFcwZwyOddQ3z+8fvHioicLSIzRGS7+7s4p57r9a27cn2qWuFuq73fPP5NlbXte0PW7T9vtfuoqitwvjA8CGwRkbdFpB2mWpYUIoSqfoNzZvB0DbO8iXNlR621AlXdp6r/C+wAejcglL/jNFV0V9WmOAd2//b4scClbvv9ccBEd3wBsLpK4klT1XP8wzuMbW3EaVIDQETEf9jd3u+qbC9ZVb93l82qsmwWNduAk2R8OrrjGuILoKWIDMRJDmP8po0BPgSyVDUdeIVaah1+DtofNz7AqYfgfAZPA61VtRnwqd966+pG+aB99/tdra9HXHU5nHXXuI8AqjpGVU9y16fAE40QX0SypBBZngPOcA8oVb2A0zY7reoEEbnVLYgmi0icONe3p3HoFUj1kYbTHl8kIr2AP/hPVNUfgULgn8AkVd3pTsoFdrsFwWS3ONpXRA4qGB7Gtj4B+onIheJcqXQj4H+Z4yvA3SLSx/0dpIvISL9l+4jIxe6yN1dZtqqxwH0ikikiLXHqIm/WMn+N3DOKCcBTOO3jk6vs73ZV3S8ig3HOJOpjHHCziHQQ54KDu/ymJQCJOJ9JmYicjdO85LMZaCEi6bWs+1wROU1E4nG+eJTg1FWO1OGsexzO59lcRDoAN/kmiEhPETnVTYD7cZrzyhshvohkSSGCqGohzpnA/dVM266qU9ymkKr2AX/DOc3finMAvURVV/nN85EcfJ/CezWE8Wecg9Ue4B/AO9XMMxanfbfyW7CqlgPn41w9tdqN4584dZCa1LgtVd2Kc+ntk8A2nLOePJyDCqr6Hs63xbfdpqeFwNlVlv0fd9nuOPWWmjzqrns+TrF/jjuuocbg/H7GV2l2ugF4WET24CSecfVc3z9wrkyb58b2rm+Cqu7BSXrjcM4Or8Q5G/FNX4Lzea1ym9oOanZR1aXA1cCLOJ/Z+TiXLx+o997W4DDX/RBOk9FqnLOt//pNS8T5LLfi/I23wjmrNNWQ6o8RxkQWEYnBqSlcpapTvY7HmFBlZwomYonIWSLSzG028NUbZngcljEhzZKCiWTH41wu6mt6uLDqlVfGmINZ85ExxphKdqZgjDGmUlh3KtayZUvNzs72OgxjjAkrs2fP3qqqmdVNC+ukkJ2dTV5eXt0zGmOMqSQia2uaZs1HxhhjKllSMMYYU8mSgjHGmEqWFIwxxlSypGCMMaZSWF991BDbikooPnBoB4kpCbG0SE30ICJjjAkdUZcUig+UM/TJQ/tDmz56GC08iMcYY0KJNR8ZY4ypZEnBGGNMJUsKxhhjKllSMMYYUynqCs0pCbFMHz0MgAPlFRTuKaFJQiwpCbEeR2aMMd6LujOFFqmJZGWkkJWRQtfMVL5asoXzX/qOxRv3eB2aMcZ4LuqSQlV/OqMHXVo24c6J8ykqKat7AWOMiWBRnxSS4mN5amR/NuzaxxOfLfE6HGOM8VTUJwWAYztl8OsTO/PfGWv5fuVWr8MxxhjPWFJw/fnMnmS3SOHOifMpPmDNSMaY6GRJwZWcEMuTlw5g3Y59PPn5Uq/DMcYYT1hS8DO4cwbXHJ/N69+vIXf1dq/DMcaYoLOkUMXo4T3pmJHC6Anz2FdNb6rGGBPJLClUkZIQxxOX9GfNtmKe/sKakYwx0cWSQjWO79qCXw7pxGvfrWb2WmtGMsZED0sKNbjr7F60S0/mjvHz2V9qzUjGmOhgSaEGTRKdZqRVW/fy7ORlXodjjDFBYUmhFid1b8kVgzvyj+mr+DF/h9fhGGNMwFlSqMM95/SiTdMk7phgzUjGmMhnSaEOaUnx/PWS/qzYUsTzU5Z7HY4xxgSUJYV6+EWPTC7L6cCr01Yxf91Or8MxxpiACVhSEJEkEckVkXkiskhEHqoy/c8ioiLS0m/c3SKyQkSWishZgYqtIe49tzeZqYncMX4+JWXWjGSMiUyBPFMoAU5V1QHAQGC4iAwBEJEs4Awg3zeziPQGRgF9gOHAyyISMo9DS0+O568X92Pp5j289NUKr8MxxpiACFhSUEeROxjvvtQdfhYY7TcMcAHwtqqWqOpqYAUwOFDxNcSwXq245JgOvPz1Shau3+V1OMYY0+gCWlMQkVgRmQtsASar6kwRGQGsV9V5VWZvDxT4Da9zx1Vd5/UikicieYWFhYEKvUZ/Oa83LZok8Ofx8zhQVhH07RtjTCAFNCmoarmqDgQ6AINFpD9wL/CXamaX6lZRzTpfVdUcVc3JzMxs1HjrIz0lnscv6seSTXt4+WtrRjLGRJagXH2kqjuBr3GaiDoD80RkDU6ymCMibXDODLL8FusAbAhGfIfr9N6tuXBgO176agU/bdjtdTjGGNNoAnn1UaaINHPfJwOnAz+qaitVzVbVbJxEcIyqbgI+BEaJSKKIdAa6A7mBiu9IPXB+H5qlJHDHhHmUllszkjEmMgTyTKEtMFVE5gOzcGoKH9c0s6ouAsYBPwGfAzeqashe+9m8SQKPXtiXRRt288rXK70OxxhjGkVcoFasqvOBo+uYJ7vK8GPAY4GKqbEN79uG8/q35YWvlnNmnzb0bJPmdUjGGHNE7I7mI/TQiD40TYrnjgnzKLNmJGNMmLOkcIRapCby8AV9mb9uF69OX+V1OMYYc0QsKTSCc/u35Zx+bXhu8nKWb97jdTjGGNNglhQaycMX9KVJYix3TJhPecUht1cYY0xYsKTQSFqmJvLQBX2ZW7CTf31rzUjGmPBkSaERnd+/LWf2bs3TXyxjZWFR3QsYY0yIsaTQiESERy/qS3J8LKOtGckYE4YsKTSyVmlJPDiiN7PX7uDf3632OhxjjDkslhQC4MKB7TmtVyue/mIpa7bu9TocY4ypN0sKASAiPH5xPxJiYxg9YT4V1oxkjAkTlhQCpHXTJO4/rze5a7bznx/WeB2OMcbUiyWFALr02A6c0jOTJz5fSv62Yq/DMcaYOllSCCAR4a8X9yMuRhg9cZ41IxljQp4lhQBrm57MfecdxYxV23krN9/rcIwxplaWFILgspwshnZvyV8/XUzBdmtGMsaELksKQSAi/M8l/YkR4a5356NqzUjGmNBkSSFI2jdL5u5zevHdim2MzS3wOhxjjKmWJYUgunJwR07o2oLHP13M+p37vA7HGGMOYUkhiESEJy7pT4Uqd7+7wJqRjDEhx5JCkGVlpHDX2b2YtqyQ8XnrvA7HGGMOYknBA1cf14njOmfwyCc/sXGXNSMZY0KHJQUPxMQIT17an7Jy5R5rRjLGhBBLCh7p1KIJo4f3ZOrSQt6ds97rcIwxBrCk4Klrjs9mUHZzHvpoEZt37/c6HGOMsaTgJacZaQAlZRXc+541IxljvGdJwWOdWzbhjrN68uXiLXwwd4PX4RhjopwlhRBw3YmdOaZjMx78aBFb9lgzkjHGO5YUQkCs24xUfKCc+99faM1IxhjPWFIIEd1apXL7GT2YtGgzH8/f6HU4xpgoZUkhhPx2aBcGZDXjgQ8XsbWoxOtwjDFRyJJCCImNEZ6+tD9F+8t44INFXodjjIlClhRCTPfWadxyenc+WbCRTxdYM5IxJrgsKYSg353chX7t07n//YVs33vA63CMMVHEkkIIiouN4amR/dm9v5QHP7RmJGNM8FhSCFG92jTlplO78+G8DUxatMnrcIwxUcKSQgj7wyld6d22Kfe+t5CdxdaMZIwJvIAlBRFJEpFcEZknIotE5CF3/CMiMl9E5orIFyLSzm+Zu0VkhYgsFZGzAhVbuIiPjeHpkQPYWXyAhz/6yetwjDFRIJBnCiXAqao6ABgIDBeRIcBTqtpfVQcCHwN/ARCR3sAooA8wHHhZRGIDGF9Y6N2uKTcO68a7P65nyuLNXodjjPHQtqISCrYXH/La1oj3NcU12pqqUKevhiJ3MN59qaru9putCeDr0+EC4G1VLQFWi8gKYDDwQ6BiDBc3DuvGpEWbuOe9BXzRKYP0lHivQzLGeKD4QDlDn5x6yPjpo4fRopG2EdCagojEishcYAswWVVnuuMfE5EC4CrcMwWgPVDgt/g6d1zVdV4vInkikldYWBjI8ENGQpzTjLS16ACPfGLNSMaYwAloUlDVcreZqAMwWET6uuPvVdUs4C3gj+7sUt0qqlnnq6qao6o5mZmZAYo89PRtn84fftGVCbPXMXXpFq/DMcZEqKBcfaSqO4GvcWoF/sYAl7jv1wFZftM6APaAAT83ndaNHq1TuXviAnbvL/U6HGNMBArk1UeZItLMfZ8MnA4sEZHufrONAJa47z8ERolIooh0BroDuYGKLxwlxsXy1KUD2LJnP49/stjrcIwxQRaMbvVrLDSLyHOqeqv7/hZVfd5v2uuqem0d624LvOFeQRQDjFPVj0Vkooj0BCqAtcDvAVR1kYiMA34CyoAbVbW84bsWmQZkNeP6k7vyyjcrOadfW07uET1NaMZEu70Hynn7+iG0SkskPvbn7/QpCY13oabUlHlEZI6qHlP1fXXDXsnJydG8vDyvwwi6/aXlnPvCdPaXVvD5rUNJS7KrkYyJdKrK2c9PJ0aET24+CZHqyrD1IyKzVTWnumm1XZIqNbw3HkuKj+W1awexcdd+1mzdS7OUhMppKQmxtEhN9DA6Y0wgzC3YyZJNe3j0wr5HlBDqUltSiBGR5jhNP773vkii/qYyr8WIMOrVGYeMb8zrlY0xoWPMzHxSEmK5YGC7umc+ArUlhXRgNj8ngjl+0+whwsYYEyS79pXy0fwNXHR0+4A3F9eYFFQ1O6BbNsYYUy8fzF3P/tIKrhjcMeDbqvGSVBHpJCLpfsPDROR5EblNRBJqWs4YY0zjUVXGzMynb/um9O/QLODbq+0+hXE4fRMhIgOB8UA+Tud2Lwc6MNMwFUG4jtkYEzxz8p0C85WDOwVle7XVFJJV1XdH8dXAa6r6NxGJAeYGPDJTq5SEWKaPHlY5XFpewZY9JWzevZ+OGSkBvTrBGBM8Y2bm0yQhlhEBLjD71Ham4H9UORWYAqCqFQGNyNRLi9REsjJSKl9dMlOZk7+Dy/5vBh/Os95BjIkEu4pL+Xj+BkYMbE9qYsA6tT5IbUnhKxEZJyLPA82BrwBEpC1gjwELQb87uSvHdGzGXz5YxKZd+70OxxhzhN77cR0lZRVcdVzgC8w+tSWFW4F3gTXASarq64GtDXBvYMMyDREbI/ztsoEcKKtg9MT5QeknxRgTGKrKmNx8+ndIp2/79LoXaCQ1JgV1vK2qz6rqer/xP6rqpOCEZw5X55ZNuOecXkxbVshbM/O9DscY00Bz8newbHNRUC5D9VfbJal7RGS332uP/89gBmkOz9VDOjG0e0se+2Qxa7bu9TocY0wDvDUzn9TEOEYMCE6B2ae25qMpOD2WPgr0VdU0VW3q+xmc8ExDiAhPXtqf+Fjh9vHzKK+wZiRjwsmu4lI+mb+RCwa2o0mQCsw+tTUfXQicBRQC/xCRb0TkBhHJCFZwpuHapifz8AV9mb12B69OW+V1OMaYwzBxjlNgDnbTEdTxkB1V3aWq/wbOBl4BHgauDUJcphFcMLAd5/Rrw7OTl7F4o7X4GRMOVJWxufkMCHKB2afWpCAiJ4jIizid4Z0IXKSqzwQlMnPERIRHL+xH0+R4bntnLiVl9swiY0Jd3todLN9SxJVBvAzVX22F5jU43VmsB64HXgP2isgxIuL5A3ZM/WQ0SeCJS/qxZNMenv9yudfhGGPqMMYtMJ8f5AKzT20VjDU4XWSfBZzJwXc4K85dziYMnHZUay7PyeKVb1Zy2lGtObZTc69DMsZUY2fxAT5ZsJHLcjqQkhDcArNPbV1nnxLEOEyA3XfeUXy3ciu3j5vLp7cM9ewPzhhTs4lz1nOgrCJond9Vp9aaQnVE5AwRmRyIYEzgpCXF8/TIAazdXsxfP13idTjGmCqcLrLXMjCrGb3beXfVf201hVNFZJmIFInImyLSW0TygP8B/h68EE1jGdKlBb85sTP/nbGWacsKvQ7HGOMnd/V2Vhbu9azA7FPbmcLfcArMLYAJwAzgv6p6rKq+G4zgTOP781k96dYqldET5rOruLTuBYwxQTE2N5+0xDjO69/W0zhqSwqqql+raomqvg8UqurzQYrLBEhSfCzPXjaQrUUlPPDhQq/DMcYAO/Ye4NOFm7jomPae1/tq23ozEbnYb1j8h+1sIXz165DOTad259kvl3Fmnzac08/bbybGRLuJc9Y5BWaPm46g9qTwDXB+DcOK0622CVM3DOvKlCWbufe9BeRkN6dVWpLXIRkTlXxdZB/dsRm92njfrVxtl6ReF8xATHDFx8bwzGUDOPeFb7l74gL+eU2OPcLTGA/MXL2dVYV7eerS/l6HAjTgklQTObq1SuPO4b2YsmQL4/PWeR2OMVFpzMx80pLiOK+/N3cwV2VJIcpde0I2x3dpwUMfLaJge7HX4RgTVbbvPcDnCzdxyTEdSE6I9TocwJJC1IuJEZ4a2R8R4c/j51Fhz14wJmgmzl7HgXJvusiuSb2Sgttb6pUi8ivfK9CBmeDp0DyFB87vzczV23ntu9Veh2NMVPB1kX1sp+b0bJPmdTiV6kwKIvJf4GngJGCQ+8oJcFwmyC49tgOnH9WaJyctZfnmPV6HY0zE+2HVNlZt3cuVIXSWAPU7U8gBTlTVG1T1Jvd1c6ADM8ElIvz14n6kJsZx27i5lJZXeB2SMRFtbG4BTZPiONfjO5irqk9SWAi0CXQgxnuZaYk8flE/Fq7fzUtfrfA6HGMi1raiEj5fuJGLj+lAUnxoFJh96nM/dUvgJxHJBUp8I1V1RMCiMp4Z3rcNFx/dnpemruDUXq0YkNXM65CMiTgTZq+jtFy5KgTuYK6qPknhwUAHYULLAyP68MOqbfxp3Fw+uXloyH2TMSacVVQ4BeZB2c3p3jp0Csw+dTYfqeo31b3qWk5EkkQkV0TmicgiEXnIHf+UiCwRkfki8p6INPNb5m4RWSEiS0XkrCPaM9Ng6cnxPHXpAFYW7uXJz5d6HY4xEWXGqm2s2VYcUpeh+qvP1UdDRGSW+1yFAyJSLiK767HuEuBUVR0ADASGi8gQYDLQV1X7A8uAu93t9AZGAX2A4cDLImJfUT1yUveWXHN8J177bjXfr9zqdTjGRIy3cvNJT44P2Y4o61Nofgm4AlgOJAO/dcfVSh1F7mC8+1JV/UJVy9zxM4AO7vsLgLfdrrpXAyuAwfXeE9Po7jr7KLq0bMId4+eze789e8GYI7W1qIQvFjl3MIdqs2y9bl5T1RVArKqWq+q/gVPqs5yIxIrIXGALMFlVZ1aZ5dfAZ+779kCB37R17jjjkeSEWJ6+bAAbd+3jkY9+8jocY8Le+DynwHzlcVleh1Kj+iSFYhFJAOaKyJMichvQpD4rd5PIQJyzgcEi0tc3TUTuBcqAt3yjqltF1REicr2I5IlIXmGhPVIy0I7p2JwbTunG+Nnr+GLRJq/DMSZsVVQob8/KZ3B2Bt1ahV6B2ac+SeGX7nx/BPYCWcAlh7MRVd0JfI1TK0BErgHOA65SVd+Bf527bp8OwIZq1vWqquaoak5mZubhhGEa6ObTutO7bVPueW8B24pK6l7AGHOI71duY+224pB4kE5t6nP10Vqcb/FtVfUhVf2T25xUKxHJ9F1ZJCLJwOnAEhEZDtwJjFBV/245PwRGiUiiiHQGugO5h71HptElxMXw7OUD2b2vjHveW8DPedwYU19jctfSLCWe4X1D+17g+lx9dD4wF/jcHR4oIh/WY91tgakiMh+YhVNT+BinSJ0GTBaRuSLyCoCqLgLGAT+527pRVcsPf5dMIPRsk8btZ/Zg0qLNvPfjeq/DMSasFO4p4YtFm0O6wOxT35vXBuM0/6Cqc0Uku66FVHU+cHQ147vVssxjwGP1iMl44LdDu/Dl4s088MEihnRpQbtmyV6HZExYGD+7gLIKDdl7E/zVp6ZQpqq7Ah6JCXmxMcLfRg6kXJU7JtizF4ypj4oK5e3cAo7rnEG3Vqleh1OnenWIJyJXArEi0l1EXgS+D3BcJkR1bJHCfef25rsV2/jvjLVeh2NMyPt2xVbyt4d+gdmnPknhJpy7jEuAscBu4NYAxmRC3BWDszilZyZ//WwxqwqL6l7AmCg2Njef5mFQYPapz9VHxap6r6oOci8FvVdV9wcjOBOaRIQnLulPYlwsfxo3jzJ79oIx1dqyZz+Tf9rMpcd2IDEutAvMPjUWmuu6wsi6zo5urZsm8eiFfblp7I+88s1K/nhqd69DMibkjM9bFzYFZp/arj46HqfbibHATKq/49hEsfMHtGPSok089+VyTunZir7t070OyZiQ4esie0iXDLpkhn6B2ae25qM2wD1AX+B54Axga327zjbR4ZEL+pLRJIHbx81jf6ndVmKMz/QVW1m3Yx9XHtfJ61AOS41Jwe236HNVvQYYgtNr6dciclPQojMhr3mTBJ64tD9LN+/h2cnLvA7HmJAxZuZaMpokcFaf1l6HclhqLTS7XU5cDLwJ3Ai8ALwbjMBM+BjWsxVXDO7Iq9NXkbt6u9fhGOO5zbv38+XiLYwMowKzT41JQUTewLkf4RjgIffqo0dU1fo4MIe479yjyGqewu3j51JUUlb3AsZEsPF5BZRXKKPCqMDsU9uZwi+BHsAtwPcistt97annk9dMFGmSGMffLhvAuh37eOyTxV6HY4xnyiuUsbkFnNC1BZ1b1uspAyGltppCjKqmua+mfq80VW0azCBNeBiUncH1Q7swNjefqUu2eB2OMZ6YtryQ9Tv3hc0dzFXV68lrxtTXbWf0oGfrNO6cOJ8dew94HY4xQTd2Zj4tmiRwZu/wuIO5KksKplElxcfyzOUD2FF8gPs/WOh1OMYE1ebd+5myZAuX5nQgIS48D6/hGbUJaX3apXPLad35eP5GPpx3yMPzjIlY78xyCsxXDArPpiOwpGAC5Pe/6MrArGbc//5CNu+2rrJM5CuvUN7Ozeekbi3JDsMCs48lBRMQcbExPHPZAErKyhk9Yb49wtNEvGnLCtmwa39Y9XNUHUsKJmC6ZKZy99lH8c2yQsbk5nsdjjEB9dbMfFqmJnBG7/C6g7kqSwomoH45pBMndWvJY58sZu22vV6HY0xAbNy1j6+WbGZkTlbYFph9wjt6E/JiYoQnL+1PbIxw+7h5lNsjPE0EGjdrHRVKWBeYfSwpmIBr1yyZh0b0IW/tDv4xfZXX4RjTqMorlHdm5TO0e0s6tkjxOpwjZknBBMVFR7dneJ82PPPFMpZssl5STOT4eukWNuzaz5VhXmD2saRggkJEeOyivjRNjuO2d+ZxoMwe4Wkiw5iZ+bRMTeT0MC8w+1hSMEHTIjWRxy/qx+KNu3l+ij17wYS/DTv3MXXpFi7L6UB8bGQcTiNjL0zYOLNPG0Ye24G/f72SOfk7vA7HmCPyzqwCFML+3gR/lhRM0P3l/N60TU/m9nHzKD5gz14w4amsvIJ3ZhUwtHsmWRnhX2D2saRggi4tKZ6nRvZn9da9PPHZEq/DMaZBpi4tZNPuyCkw+1hSMJ44oWtLrjsxmzd+WMv05YVeh2PMYRubm09mWiKnHdXK61AalSUF45k7h/eia2YT7hg/n137Sr0Ox5h6W79zH18v3cLlOVkRU2D2iay9MWElKT6WZy4bSGFRCQ99uMjrcIypt3dy81Hg8kFZXofS6OK8DsBEtwFZzXjvhhMoPlDOss17SI6PrZyWkhBLi9RED6Mz5lBl5RW8k1fAyRFWYPaxpGA81zwlgREvTT1k/PTRw2jhQTzG1OarJVvYvLuEhy+IrAKzjzUfGWPMYRiTm0/rpomc1iuyCsw+lhSMMaaeCrYX882yQi7PySIuwgrMPpG5VyYibNt7gO17D3gdhjGVxuUVAHBZBBaYfSwpmJC1v7ScM5+dxtQlW7wOxRhK3TuYT+mRSYfmkVdg9glYoVlEkoBpQKK7nQmq+oCIjAQeBI4CBqtqnt8ydwO/AcqBm1V1UqDiM6EjJSGW6aOHVTutZWoC170+iyuP68i95xxFk0S7NsJ4Y8riLWzZU8Jjx3XyOpSACuR/WAlwqqoWiUg88K2IfAYsBC4G/s9/ZhHpDYwC+gDtgC9FpIeqlgcwRhMCWqQm1niV0Qd/PJFnvljGq9NX8d2KrTxz2UCO7dQ8qPEZA84dzG2aJjGsZ6bXoQRUwJqP1FHkDsa7L1XVxaq6tJpFLgDeVtUSVV0NrAAGByo+Ex4S42K5+5yjGPv/hlBWrox85XuenrTUnsdggqpgezHTlhdy2aDILTD7BHTvRCRWROYCW4DJqjqzltnbAwV+w+vccVXXeb2I5IlIXmGh9ZkTLYZ0acHntw7l4mM68NLUFVz89+9YvnmP12GZKPH2rHwEGBXBBWafgCYFVS1X1YFAB2CwiPStZXapbhXVrPNVVc1R1ZzMzMg+jTMHS0uK5+mRA3jl6mPZsHM/5774Lf/6djUVFYf8mRjTaErLKxiXt45hPVvRrlmy1+EEXFDOg1R1J/A1MLyW2dYB/mm4A7AhcFGZcDW8bxs+v3UoQ7u15JGPf+Lqf81kw859XodlItSUxZsp3FMSUQ/SqU3AkoKIZIpIM/d9MnA6UFvn+R8Co0QkUUQ6A92B3EDFZ8Jbq7Qk/nlNDn+9uB9zC3Zy1nPTeP/H9ajaWYNpXG/NzKdtehKnRHiB2SeQZwptgakiMh+YhVNT+FhELhKRdcDxwCciMglAVRcB44CfgM+BG+3KI1MbEeGKwR357Jah9Gidxq3vzOWPY39kZ7Hd8GYaR/62YqYv38rlUVBg9pFw/maVk5OjeXl5dc9oIl55hfLKNyt5dvIyMpok8NTIAfyiR3R8szOB8+TnS3jlm5V8d9eptE2PnHqCiMxW1ZzqpkVH6jMRLzZGuHFYN96/8UTSk+O55rVc7n9/oT0D2jSYr8B8aq9WEZUQ6mJJwUSUvu3T+eimk/jNSZ3574y1nPvCt/yYv8PrsEwYmvzTZrYWlXDlcdFRYPaxpGAiTlJ8LPef15sxvz2OktJyLn3lB56dvIzScrvhzdTfmJn5tEtP4hc9IrOL7JpYUjAR64RuLfns1pO5YEA7np+ynEv+/j0rC4vqXtBEvbXb9vLtiq1cPqgjsTHV3UIVuSwpmIiWnhzPM5cP5OWrjiF/ezHnvjCdN75fY5eumlqNzS0gNkYi8hnMdbGkYKLCOf3a8sWtJ3Nc5xY88OEifvVaLpt27fc6LBOCDpRVMGF2Aaf2akWb9CSvwwk6SwomarRqmsTr1w3i0Qv7krdmB2c9N42P5tlN8+ZgX/y0ia1FB6KuwOxjScFEFRHh6iGd+PSWoXRu2YSbxv7IzWN/ZFdxqdehmRAxNjef9s2SObl7dN7nYknBRKXOLZsw4ffH86czevDpgo2c9dw0vl2+1euwjMfWbN3Ldyu2MWpQVtQVmH0sKZioFRcbw82ndefdG06gSWIsV/9rJg9+uIh9B6x3lWg1Njef2BiJ6Gcw18WSgol6/Ts045Obh3LtCdm8/v0azntxOvPX7fQ6LBNkJWXljJ+9jtN6taJ10+grMPtYUjAG54a3B0f04c3fHMfeknIufvl7XpiynDK74S1qfLFoM9v3Rm+B2ceSgjF+Turekkm3nsw5/dryzORlXPrKD6zeutfrsEwQjJmZT4fm0Vtg9rGkYEwV6SnxvHDF0bx4xdGs3rqXc56fzpsz1toNbxFsVWERP6zaxhWDOxITpQVmH0sKxtTg/AHtmHTryeRkN+e+9xdy3euz2LLbbniLRG/PKiAuRhh5bAevQ/GcJQVjatEmPYn//HowD1/QhxmrtnHmc9P4dMFGr8MyjaikrJwJs9dx+lGtaRXFBWYfSwrG1EFE+NXx2Xxy81A6ZaRww1tz+NM7c9m93254iwSfL9xkBWY/lhSMqaeumalM+MMJ3HJadz6Yt4Hhz07j+5V2w1u4G5ubT1ZGMid1a+l1KCHBkoIxhyE+NobbzujBxD+cQFJ8LFf+YyaPfPwT+0vthrdwtLKwiBmrtjNqkBWYfSwpGNMAA7OcG95+dXwn/vXtas5/8VsWrt/ldVjmMI2dme8UmHOswOxjScGYBkpOiOXhC/ryxq8Hs2tfKRe9/B0L1++iYHvxIa9tRSVeh2uq2F9azoQ56zizT2tapVmB2SfO6wCMCXe/6JHJpFtP5r4PFlJUUsZ5L357yDzTRw+jhQexmZpNWrSJncWlXDHYCsz+7EzBmEbQvEkCL11xNBkpCV6HYurprZn5dMxI4cSuVmD2Z0nBmEYiIiQnxFY7beOu/dzw1mz+/d1qFq7fZX0qeWzFlj3krt5udzBXw5qPjAmCpPgY5hXs4tMFmwBokhDLMZ2ak9Mpg0GdmzMwqxkpCfbvGCxjcwuIj7UCc3Xsr9CYIGieksB3d53Khp37yFu7g7w128ldvZ3npixDFeJihD7t0xnUqTk52RkMym5Oi9REr8OOSPtLy5k4Zx1n9m5DS/sdH8KSgjGNKCUhlumjh1U7HqBds2RGNEtmxIB2AOzaV8qcfCdJzFqzg//MWMs/v10NQJfMJgzqlEFOdnMGd86gY0YKItbUcaQ+W7iRncWldgdzDSwpGNOIWqQmHtZVRunJ8Qzr2YphPVsBTj88C9fvYtYaJ1F8vmgT7+QVAJCZlsigbKfJaXDnDHq1SSMu1sqCh2vMzHyyW6RwfBe7Hqw6lhSMCSGJcbEc2ymDYztlwC+6UlGhrCgsYtaa7eSt2cGsNdurr0tkN2dgR6tL1GX55j3MWrODu87uZQXmGkg49xGfk5OjeXl5XodhTFBt3LWv8kxi1podLNm0u9q6RE52c2szB7YVlVDsPnd7175SikrKaJueRGpiXNTWbURktqrmVDvNkoIx4a1qXWJuwU4OlDmXvPrXJQZlZ9CpRfTVJQq2FzP0yamHjJ8+ehhZGSkeROS92pKCnWsaE+YaWpcYlJ3BUW3Dvy5RXqEUlZSxt6SMopIy9ux3fhbtL6OopJT+HZp5HWJYsaRgTISpri6xsrCI3MOoS/g3ufhLSYhtlCYXVaWkrMLv4P3zwXxvSRl7/A7qRft/Ht57oOyg4aKSsmrj9Pf29UOOON5oYknBmAgXEyN0b51G99ZpXHVcJ+DQuoTvfonYGKFvu6Y8dlG/Gvtwit/vHKgPPnhXPViXUlRS7o4vPfgbvHvgLy2vu+k6NkZITYwjNTGOtCTnZ7OUBDpkpJDmjk9N+nl6k4PmjSc1KY5yu3v8sFhSMCYKtU1PZsSAn++X2L2/lNlrf04SRSVl1S63fue+atvnq0qOj608WPteWb4DuTu+id+B3ndwT3MP5E0SY0lLjCcpPuaIayAF24uPaPloY0nBGEPTpIPrEjUdSNOS4rjv3KMO+oZ+0Lf1xHiaJMaGVJ2irhsKzcEClhREJAmYBiS625mgqg+ISAbwDpANrAEuU9Ud7jJ3A78ByoGbVXVSoOIzxhy+pknx/HZoF6/DOCyHe0NhtAtkOi8BTlXVAcBAYLiIDAHuAqaoandgijuMiPQGRgF9gOHAyyJiqdwYY4IoYGcK6twAUeQOxrsvBS4ATnHHvwF8Ddzpjn9bVUuA1SKyAhgM/BCoGI0x1bMml+gV0JqC+01/NtAN+F9VnSkirVV1I4CqbhSRVu7s7YEZfouvc8dVXef1wPUAHTtah1bGBII1uUSvgFaDVLVcVQcCHYDBItK3ltmru8TgkGvWVPVVVc1R1ZzMzMxGitQYYwwE6clrqroTp5loOLBZRNoCuD+3uLOtA7L8FusAbAhGfMYYYxwBSwoikikizdz3ycDpwBLgQ+Aad7ZrgA/c9x8Co0QkUUQ6A92B3EDFZ4wx5lCBrCm0Bd5w6woxwDhV/VhEfgDGichvgHxgJICqLhKRccBPQBlwo6rWfv+6McaYRmW9pBpjTJSJ2K6zRaQQWHsEq2gJbG2kcLwUKfsBti+hKFL2A2xffDqparVX6oR1UjhSIpJXU7YMJ5GyH2D7EooiZT/A9qU+QqeDEmOMMZ6zpGCMMaZStCeFV70OoJFEyn6A7UsoipT9ANuXOkV1TcEYY8zBov1MwRhjjB9LCsYYYypFdVIQkUdEZL6IzBWRL0SkndcxNZSIPCUiS9z9ec/XxUg4EpGRIrJIRCpEJOwuHxSR4SKyVERWiMhdXsfTUCLymohsEZGFXsdypEQkS0Smishi92/rFq9jaggRSRKRXBGZ5+7HQ42+jWiuKYhIU1Xd7b6/Geitqr/3OKwGEZEzga9UtUxEngBQ1Ts9DqtBROQooAL4P+DPqho2t6273bosA87A6eRxFnCFqv7kaWANICIn4zwT5T+qWlsPxyHP7XyzrarOEZE0nC79Lwy3z0WcB1Y3UdUiEYkHvgVuUdUZdSxab1F9puBLCK4mVNNVd7hQ1S9U1fe09Rk4vcyGJVVdrKpLvY6jgQYDK1R1laoeAN7GeYBU2FHVacB2r+NoDKq6UVXnuO/3AIup5nktoU4d1T28rNFEdVIAEJHHRKQAuAr4i9fxNJJfA595HUSUag8U+A1X+7Ao4x0RyQaOBmZ6HEqDiEisiMzFeezAZFVt1P2I+KQgIl+KyMJqXhcAqOq9qpoFvAX80dtoa1fXvrjz3IvTy+xb3kVat/rsS5iq18OijDdEJBWYCNxapaUgbBzmw8sOW0AfxxkKVPX0es46BvgEeCCA4RyRuvZFRK4BzgNO0xAvFh3G5xJu7GFRIcptg58IvKWq73odz5FS1Z0i8jXOw8sa7WKAiD9TqI2IdPcbHIHzEKCwJCLDgTuBEapa7HU8UWwW0F1EOotIAjAK5wFSxkNugfZfwGJVfcbreBqqloeXNd42QvwLZUCJyESgJ86VLmuB36vqem+jahgRWQEkAtvcUTPC+Eqqi4AXgUxgJzBXVc/yNKjDICLnAM8BscBrqvqYtxE1jIiMBU7B6aJ5M/CAqv7L06AaSEROAqYDC3D+3wHuUdVPvYvq8IlIf+ANnL8t38PLHm7UbURzUjDGGHOwqG4+MsYYczBLCsYYYypZUjDGGFPJkoIxxphKlhSMMcZUsqRgIpqIFNU9V73Wc7SI/NN9f62IvNRI610jIi3rMV+t+yEiCSIyTUQi/oZUE1iWFIypn3tw7p0ISW7ne1OAy72OxYQ3Swom6ojIQBGZ4ffsiebu+EHuuB/c51MsdMenAf1VdV416zpfRGaKyI9uf06t3fEPisgb7nM61ojIxSLypIgsEJHP3S4XfO5w+8jPFZFu7vKd3ThmicgjfttLFZEpIjLHXZd/X1Hv43TsaEyDWVIw0eg/wJ2q2h/nDldff1f/xrmr/Xig3G/+HGruW+ZbYIiqHo3TTfZov2ldgXNxus5+E5iqqv2Afe54n92qOhh4CedOaIDngb+r6iBgk9+8+4GLVPUYYBjwN7cLB9wYB9W9+8bUzJKCiSoikg40U9Vv3FFvACe7/cmkqer37vgxfou1BQprWGUHYJKILADuAPr4TftMVUtxEk8s8Lk7fgGQ7TffWL+fx7vvT/Qb/1//XQAeF5H5wJc43XK3Bqf3TOCAe2ZjTINYUjDGUV2X1z77gKQapr0IvOSeAfyuynwlAKpaAZT69VxbwcE9FGs93vtchdMn1LFu98mbq2wzEedswpgGsaRgooqq7gJ2iMhQd9QvgW9UdQewR0SGuONH+S22GOhWwyrTAV8nitc0MKzL/X7+4L7/zi8G/zpBOrBFVUtFZBjQyTdBRFoAhe7ZiTENYpevmUiXIiLr/IafwTl4vyIiKcAq4Dp32m+Af4jIXuBrYBeAqi4RkXQRSXMf5ejvQWC8iKzHeQxq5wbEmCgiM3G+pF3hjrsFGCPOA+Yn+s37FvCRiOQBczm42+RhQFj1+mlCj/WSaoxLRFJ9z78VkbtwHvR+izt8G7BHVf/pZYy1EZF3gbvD+PnWJgRY85ExPztXROa6l6IOBR71m/Z33BpBKHIf6PO+JQRzpOxMwRhjTCU7UzDGGFPJkoIxxphKlhSMMcZUsqRgjDGmkiUFY4wxlf4/qMro9K+NUxcAAAAASUVORK5CYII=\n",
>>>>>>> 425ca127b44c9b7982a774403ac7808a8ea772c0
      "text/plain": [
       "<Figure size 432x288 with 1 Axes>"
      ]
     },
     "metadata": {
      "needs_background": "light"
     },
     "output_type": "display_data"
    }
   ],
   "source": [
    "fig, ax = plt.subplots()\n",
    "sns.lineplot(x = np.log10(alphas), y = cv_scores, marker = 's', ax = ax)\n",
    "ax.set_xlabel('Log(lambda)')\n",
    "ax.set_ylabel('Mean RMSE')\n",
    "ax.set_title('RMSE averaged on validation folds')\n",
    "plt.show()"
   ]
  },
  {
   "cell_type": "markdown",
   "id": "535ea80b",
   "metadata": {
    "slideshow": {
     "slide_type": "fragment"
    }
   },
   "source": [
    "Could fine tune:\n",
    "- But of hyperparameter values tried $\\lambda = 10$ is best."
   ]
  },
  {
   "cell_type": "markdown",
   "id": "79d07b06",
   "metadata": {
    "slideshow": {
     "slide_type": "slide"
    }
   },
   "source": [
    "Now we *finally* report results on the true test set:\n",
    "- We have not fit / optimized on it.\n",
    "- Have not tuned hyperparameters to see how well it performs on validation folds.\n",
    "\n",
    "**Test/hold-out set is our true final gold standard**"
   ]
  },
  {
   "cell_type": "code",
<<<<<<< HEAD
   "execution_count": 71,
   "id": "5aab7393",
=======
   "execution_count": 365,
   "id": "aba9d2b6",
>>>>>>> 425ca127b44c9b7982a774403ac7808a8ea772c0
   "metadata": {
    "slideshow": {
     "slide_type": "subslide"
    }
   },
   "outputs": [
    {
     "data": {
      "text/plain": [
       "Ridge(alpha=10)"
      ]
     },
<<<<<<< HEAD
     "execution_count": 71,
=======
     "execution_count": 365,
>>>>>>> 425ca127b44c9b7982a774403ac7808a8ea772c0
     "metadata": {},
     "output_type": "execute_result"
    }
   ],
   "source": [
    "rr = Ridge(alpha = 10)\n",
    "rr.fit(X_train_processed, y_train)"
   ]
  },
  {
   "cell_type": "code",
<<<<<<< HEAD
   "execution_count": 72,
   "id": "0b11ae56",
=======
   "execution_count": 366,
   "id": "a5ea6a91",
>>>>>>> 425ca127b44c9b7982a774403ac7808a8ea772c0
   "metadata": {
    "cell_style": "center",
    "slideshow": {
     "slide_type": "fragment"
    }
   },
   "outputs": [],
   "source": [
    "y_pred = rr.predict(X_test_processed)"
   ]
  },
  {
   "cell_type": "code",
<<<<<<< HEAD
   "execution_count": 73,
   "id": "d806fbbd",
=======
   "execution_count": 367,
   "id": "c3fac083",
>>>>>>> 425ca127b44c9b7982a774403ac7808a8ea772c0
   "metadata": {
    "cell_style": "split",
    "slideshow": {
     "slide_type": "subslide"
    }
   },
   "outputs": [
    {
     "data": {
      "text/plain": [
<<<<<<< HEAD
       "265.44225908366553"
      ]
     },
     "execution_count": 73,
=======
       "313.0570268253151"
      ]
     },
     "execution_count": 367,
>>>>>>> 425ca127b44c9b7982a774403ac7808a8ea772c0
     "metadata": {},
     "output_type": "execute_result"
    }
   ],
   "source": [
    "from sklearn.metrics import mean_squared_error\n",
    "ridge_RMSE_holdout = np.sqrt(mean_squared_error(y_pred, y_test))\n",
    "ridge_RMSE_holdout"
   ]
  },
  {
   "cell_type": "markdown",
   "id": "5e53d2e0",
   "metadata": {
    "cell_style": "split",
    "slideshow": {
     "slide_type": "fragment"
    }
   },
   "source": [
    "Given the scale of the penguin body mass (g): this is good."
   ]
  },
  {
   "cell_type": "code",
   "execution_count": 74,
   "id": "1b88e2a8",
   "metadata": {
    "cell_style": "split",
    "slideshow": {
     "slide_type": "fragment"
    }
   },
   "outputs": [
    {
     "data": {
      "text/plain": [
       "<AxesSubplot:xlabel='body_mass_g', ylabel='Count'>"
      ]
     },
     "execution_count": 74,
     "metadata": {},
     "output_type": "execute_result"
    },
    {
     "data": {
<<<<<<< HEAD
      "image/png": "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\n",
=======
      "image/png": "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\n",
>>>>>>> 425ca127b44c9b7982a774403ac7808a8ea772c0
      "text/plain": [
       "<Figure size 432x288 with 1 Axes>"
      ]
     },
     "metadata": {
      "needs_background": "light"
     },
     "output_type": "display_data"
    }
   ],
   "source": [
    "sns.histplot(y)"
   ]
  },
  {
   "cell_type": "markdown",
   "id": "d05cfbc9",
   "metadata": {
    "slideshow": {
     "slide_type": "slide"
    }
   },
   "source": [
    "#### Takeaways of what we just did"
   ]
  },
  {
   "cell_type": "markdown",
   "id": "7910ee6c",
   "metadata": {
    "slideshow": {
     "slide_type": "subslide"
    }
   },
   "source": [
    "- Polynomial model: poor prediction performance.\n",
    "- L2 regularized the polynomial regression model (Ridge regression) + tuning\n",
    "- **Much** better test performance than unregularized polynomial model."
   ]
  },
  {
   "cell_type": "markdown",
   "id": "0b603b9a",
   "metadata": {
    "cell_style": "split",
    "slideshow": {
     "slide_type": "fragment"
    }
   },
   "source": [
    "But:\n",
    "    \n",
    "- Our simple linear model with no polynomial worked well.\n",
    "- Almost as well as polynomial features\n",
    "- Think carefully before adding model complexity."
   ]
  },
  {
   "cell_type": "markdown",
   "id": "337d4a77",
   "metadata": {
    "cell_style": "split",
    "slideshow": {
     "slide_type": "fragment"
    }
   },
   "source": [
    "A simple model with less number of good quality predictive features may work as well if not better."
   ]
  },
  {
   "cell_type": "markdown",
   "id": "8a34ce93",
   "metadata": {
    "slideshow": {
     "slide_type": "subslide"
    }
   },
   "source": [
    "Logical extension:\n",
    "- Features that are correlated but don't want to throw them away.\n",
    "- L2 regularized linear model + tuning:\n",
    "    - don't throw out features.\n",
    "    - get better test performance than OLS by reducing weight variance.\n"
   ]
  },
  {
   "cell_type": "markdown",
   "id": "c395fc93",
   "metadata": {
    "slideshow": {
     "slide_type": "subslide"
    }
   },
   "source": [
    "Sometimes though: throwing away features might work better:\n",
    "- Learn good features only with high predictive power\n",
    "- Chuck the rest."
   ]
  },
  {
   "cell_type": "markdown",
   "id": "59e716f9",
   "metadata": {
    "slideshow": {
     "slide_type": "slide"
    }
   },
   "source": [
    "#### L1 Regularization (LASSO)"
   ]
  },
  {
   "cell_type": "markdown",
   "id": "d2900810",
   "metadata": {
    "slideshow": {
     "slide_type": "subslide"
    }
   },
   "source": [
    "$$ L = |\\textbf{y} - X \\textbf{w}|_2^2 + \\lambda |\\textbf{w}|_1 $$\n",
    "\n",
    "with $|\\textbf{w}|_1 = |w_1| + |w_2| + ... + |w_m|$ as sum of absolute magnitude of the feature weights."
   ]
  },
  {
   "cell_type": "markdown",
   "id": "2188e936",
   "metadata": {
    "slideshow": {
     "slide_type": "slide"
    }
   },
   "source": [
    "Taxi cab vs Euclidean distance:"
   ]
  },
  {
   "cell_type": "markdown",
   "id": "c4583648",
   "metadata": {
    "slideshow": {
     "slide_type": "subslide"
    }
   },
   "source": [
    "<img src = \"Images/metrics.png\" width = 450/>"
   ]
  },
  {
   "cell_type": "markdown",
   "id": "200927d9",
   "metadata": {
    "cell_style": "split",
    "slideshow": {
     "slide_type": "slide"
    }
   },
   "source": [
    "Circle in terms of L2 vs L1 distance:"
   ]
  },
  {
   "cell_type": "markdown",
   "id": "c180b27f",
   "metadata": {
    "cell_style": "split",
    "slideshow": {
     "slide_type": "fragment"
    }
   },
   "source": [
    "\"Circle\" in L1:\n",
    "<img src = \"Images/taxcabgeometry.jpg\" width = 400/>"
   ]
  },
  {
   "cell_type": "markdown",
   "id": "d77ae659",
   "metadata": {
    "cell_style": "split",
    "slideshow": {
     "slide_type": "slide"
    }
   },
   "source": [
    "General $L^p$ norm:\n",
    "\n",
    "$$ |\\textbf{w}|_P =  \\sqrt[p]{|w_1|^p + |w_2|^p + ... + |w_m|^p} $$"
   ]
  },
  {
   "cell_type": "markdown",
   "id": "680d0d7b",
   "metadata": {
    "cell_style": "split",
    "slideshow": {
     "slide_type": "fragment"
    }
   },
   "source": [
    "\"Circles\" for different metrics\n",
    "\n",
    "<img src = \"Images/circles.png\" width = 400/>"
   ]
  },
  {
   "cell_type": "markdown",
   "id": "d94f7808",
   "metadata": {
    "slideshow": {
     "slide_type": "slide"
    }
   },
   "source": [
    "Why use the L1 magnitude $|\\textbf{w}|_1$ for regularization?"
   ]
  },
  {
   "cell_type": "markdown",
   "id": "869214e5",
   "metadata": {
    "slideshow": {
     "slide_type": "subslide"
    }
   },
   "source": [
    "LASSO encourages model weight sparsity: \n",
    "- prefers to drive weights $w_i$ for features with little predictive power to 0."
   ]
  },
  {
   "cell_type": "markdown",
   "id": "c4c72d9d",
   "metadata": {
    "slideshow": {
     "slide_type": "fragment"
    }
   },
   "source": [
    "<img src = \"Images/different_metric_regularization.png\" width = 600 />"
   ]
  },
  {
   "cell_type": "markdown",
   "id": "c08261bc",
   "metadata": {
    "slideshow": {
     "slide_type": "slide"
    }
   },
   "source": [
    "Perform LASSO regression with scikit-learn:"
   ]
  },
  {
   "cell_type": "markdown",
   "id": "b9a124c8",
   "metadata": {
    "slideshow": {
     "slide_type": "slide"
    }
   },
   "source": [
    "with a general cost function:"
   ]
  },
  {
   "cell_type": "code",
<<<<<<< HEAD
   "execution_count": 75,
   "id": "8cb6a5ca",
=======
   "execution_count": 343,
   "id": "9b05e734",
>>>>>>> 425ca127b44c9b7982a774403ac7808a8ea772c0
   "metadata": {
    "slideshow": {
     "slide_type": "fragment"
    }
   },
   "outputs": [],
   "source": [
    "from sklearn.linear_model import Lasso"
   ]
  },
  {
   "cell_type": "markdown",
   "id": "b9d8c511",
   "metadata": {
    "slideshow": {
     "slide_type": "slide"
    }
   },
   "source": [
    "Find the best LASSO model: tune regularization hyperparameter."
   ]
  },
  {
   "cell_type": "code",
<<<<<<< HEAD
   "execution_count": 76,
   "id": "d23adce6",
=======
   "execution_count": 344,
   "id": "e464497b",
   "metadata": {},
   "outputs": [],
   "source": [
    "def lasso_cross_validation(X_train, y_train, alpha_reg, num_split = 10):\n",
    "    \n",
    "    X_train = X_train.values\n",
    "    y_train = y_train.values\n",
    "    score_train_list = []\n",
    "    score_val_list = []\n",
    "    rmse_train_list = []\n",
    "    rmse_val_list = []\n",
    "    \n",
    "    for train_index, valid_index in KFold(n_splits = num_split).split(X_train):\n",
    "\n",
    "        # train and validation splitting for particular validation and training fold split\n",
    "        X_train_fold, X_val_fold = X_train[train_index], X_train[valid_index]\n",
    "        y_train_fold, y_val_fold = y_train[train_index], y_train[valid_index]\n",
    "        \n",
    "        #polynomial transform\n",
    "        pf = PolynomialFeatures(degree=3)\n",
    "        X_tf_pf = pf.fit_transform(X_train_fold)\n",
    "        X_val_pf = pf.transform(X_val_fold)\n",
    "\n",
    "        #create/fit the Standard scaler on the train fold\n",
    "        scaler = StandardScaler()\n",
    "        X_tf_sc = scaler.fit_transform(X_tf_pf) # input polynomial transformed train fold\n",
    "        # transform polynomial transformed validation fold\n",
    "        X_vld_sc = scaler.transform(X_val_pf)\n",
    "\n",
    "        lasso = Lasso(alpha=alpha_reg, random_state=42, max_iter = 10000) # define LASSO\n",
    "        lasso.fit(X_tf_sc, y_train_fold)\n",
    "        \n",
    "        # now how did we do?\n",
    "        r2_train = lasso.score(X_tf_sc, y_train_fold) #R^2 value\n",
    "        r2_val = lasso.score(X_vld_sc, y_val_fold)\n",
    "        \n",
    "        y_pred_train = lasso.predict(X_tf_sc) # model prediction on train folds\n",
    "        y_pred = lasso.predict(X_vld_sc) # model prediction on validation fold\n",
    "       \n",
    "        rmse_train = np.sqrt(mean_squared_error(y_train_fold, y_pred_train)) # calculate rmse for train\n",
    "        rmse_val = np.sqrt(mean_squared_error(y_val_fold, y_pred)) # rmse for validation\n",
    "        \n",
    "        score_train_list.append(r2_train)\n",
    "        score_val_list.append(r2_val)\n",
    "        rmse_train_list.append(rmse_train)\n",
    "        rmse_val_list.append(rmse_val)\n",
    "        \n",
    "        metric_dict = {'train_r2': np.array(score_train_list),\n",
    "                       'val_r2': np.array(score_val_list),\n",
    "                       'train_rmse': np.array(rmse_train_list),\n",
    "                       'val_rmse': np.array(rmse_val_list) }\n",
    "    \n",
    "    return metric_dict"
   ]
  },
  {
   "cell_type": "code",
   "execution_count": 345,
   "id": "d8b9aa65",
>>>>>>> 425ca127b44c9b7982a774403ac7808a8ea772c0
   "metadata": {
    "slideshow": {
     "slide_type": "subslide"
    }
   },
   "outputs": [],
   "source": [
    "\n",
    "alphas = [1, 10, 50, 100]\n",
    "cv_lasso_scores = []\n",
    "\n",
    "for alpha in alphas:\n",
    "    results = lasso_cross_validation(X_train_df, y_train, alpha_reg = alpha)\n",
    "    cv_lasso_scores.append(np.mean(results['val_rmse']))"
   ]
  },
  {
   "cell_type": "code",
<<<<<<< HEAD
   "execution_count": 77,
   "id": "ec815bbc",
=======
   "execution_count": 346,
   "id": "87ac7411",
>>>>>>> 425ca127b44c9b7982a774403ac7808a8ea772c0
   "metadata": {
    "cell_style": "split",
    "slideshow": {
     "slide_type": "fragment"
    }
   },
   "outputs": [
    {
     "data": {
      "text/plain": [
       "[1, 10, 50, 100]"
      ]
     },
<<<<<<< HEAD
     "execution_count": 77,
=======
     "execution_count": 346,
>>>>>>> 425ca127b44c9b7982a774403ac7808a8ea772c0
     "metadata": {},
     "output_type": "execute_result"
    }
   ],
   "source": [
    "alphas"
   ]
  },
  {
   "cell_type": "code",
<<<<<<< HEAD
   "execution_count": 78,
   "id": "845ebbbe",
=======
   "execution_count": 347,
   "id": "2b8dab90",
>>>>>>> 425ca127b44c9b7982a774403ac7808a8ea772c0
   "metadata": {
    "cell_style": "split",
    "slideshow": {
     "slide_type": "fragment"
    }
   },
   "outputs": [
    {
     "data": {
      "text/plain": [
<<<<<<< HEAD
       "[344.876845644357,\n",
       " 301.7613157515681,\n",
       " 340.2693259123927,\n",
       " 699.4512087784859,\n",
       " 811.3632576452586]"
      ]
     },
     "execution_count": 78,
=======
       "[298.62833595108077, 293.58047024650585, 310.5674815645758, 331.37992375836876]"
      ]
     },
     "execution_count": 347,
>>>>>>> 425ca127b44c9b7982a774403ac7808a8ea772c0
     "metadata": {},
     "output_type": "execute_result"
    }
   ],
   "source": [
    "cv_lasso_scores"
   ]
  },
  {
   "cell_type": "code",
   "execution_count": 348,
   "id": "58176683",
   "metadata": {
    "slideshow": {
     "slide_type": "subslide"
    }
   },
   "outputs": [
    {
     "data": {
      "image/png": "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\n",
      "text/plain": [
       "<Figure size 432x288 with 1 Axes>"
      ]
     },
     "metadata": {
      "needs_background": "light"
     },
     "output_type": "display_data"
    }
   ],
   "source": [
    "fig, ax = plt.subplots()\n",
    "sns.lineplot(x = np.log10(alphas), y = cv_lasso_scores, marker = 's', ax = ax)\n",
    "ax.set_xlabel('Log(lambda)')\n",
    "ax.set_ylabel('Mean RMSE')\n",
    "ax.set_title('RMSE averaged on validation folds')\n",
    "plt.show()"
   ]
  },
  {
   "cell_type": "markdown",
   "id": "36e5bd3e",
   "metadata": {
    "slideshow": {
     "slide_type": "slide"
    }
   },
   "source": [
    "The best LASSO model:"
   ]
  },
  {
   "cell_type": "code",
<<<<<<< HEAD
   "execution_count": 89,
   "id": "b728dab5",
=======
   "execution_count": 349,
   "id": "342e20bc",
>>>>>>> 425ca127b44c9b7982a774403ac7808a8ea772c0
   "metadata": {
    "slideshow": {
     "slide_type": "subslide"
    }
   },
   "outputs": [],
   "source": [
    "lasso_opt = Lasso(alpha=10, random_state=42,  max_iter = 100000)\n",
    "lasso_opt.fit(X_train_processed, y_train)\n",
    "\n",
    "y_pred = lasso_opt.predict(X_test_processed) # get final test prediction"
   ]
  },
  {
   "cell_type": "code",
<<<<<<< HEAD
   "execution_count": 90,
   "id": "d19c8e5f",
=======
   "execution_count": 350,
   "id": "f131c4a9",
>>>>>>> 425ca127b44c9b7982a774403ac7808a8ea772c0
   "metadata": {
    "cell_style": "split",
    "slideshow": {
     "slide_type": "fragment"
    }
   },
   "outputs": [
    {
     "data": {
      "text/plain": [
       "267.3764555465856"
      ]
     },
<<<<<<< HEAD
     "execution_count": 90,
=======
     "execution_count": 350,
>>>>>>> 425ca127b44c9b7982a774403ac7808a8ea772c0
     "metadata": {},
     "output_type": "execute_result"
    }
   ],
   "source": [
    "lasso_RMSE = np.sqrt(mean_squared_error(y_pred, y_test))\n",
    "lasso_RMSE"
   ]
  },
  {
   "cell_type": "code",
<<<<<<< HEAD
   "execution_count": 91,
   "id": "14290f32",
=======
   "execution_count": 351,
   "id": "8832e94a",
>>>>>>> 425ca127b44c9b7982a774403ac7808a8ea772c0
   "metadata": {
    "cell_style": "split",
    "slideshow": {
     "slide_type": "fragment"
    }
   },
   "outputs": [
    {
     "data": {
      "text/plain": [
       "265.44225908366553"
      ]
     },
<<<<<<< HEAD
     "execution_count": 91,
=======
     "execution_count": 351,
>>>>>>> 425ca127b44c9b7982a774403ac7808a8ea772c0
     "metadata": {},
     "output_type": "execute_result"
    }
   ],
   "source": [
    "ridge_RMSE_holdout"
   ]
  },
  {
   "cell_type": "markdown",
   "id": "e4d17e95",
   "metadata": {
    "slideshow": {
     "slide_type": "slide"
    }
   },
   "source": [
    "Comparable between ridge and LASSO. LASSO tends to have higher weight variance than ridge.\n",
    "\n",
    "But what's the real difference?"
   ]
  },
  {
   "cell_type": "code",
<<<<<<< HEAD
   "execution_count": 96,
   "id": "77a3908a",
=======
   "execution_count": 329,
   "id": "4383c14f",
>>>>>>> 425ca127b44c9b7982a774403ac7808a8ea772c0
   "metadata": {},
   "outputs": [
    {
     "data": {
      "text/plain": [
<<<<<<< HEAD
       "0.8848874802035901"
      ]
     },
     "execution_count": 96,
     "metadata": {},
     "output_type": "execute_result"
    }
   ],
   "source": [
    "lasso_opt.score(X_train_processed, y_train)"
   ]
  },
  {
   "cell_type": "code",
   "execution_count": 95,
   "id": "e26338c9",
   "metadata": {},
   "outputs": [
    {
     "data": {
      "text/plain": [
       "0.8858195769398121"
      ]
     },
     "execution_count": 95,
     "metadata": {},
     "output_type": "execute_result"
    }
   ],
   "source": [
    "rr.score(X_train_processed, y_train)"
   ]
  },
  {
   "cell_type": "code",
   "execution_count": 92,
   "id": "3e8024f2",
   "metadata": {
    "cell_style": "center",
    "scrolled": false,
    "slideshow": {
     "slide_type": "subslide"
=======
       "0.8996018638606076"
      ]
     },
     "execution_count": 329,
     "metadata": {},
     "output_type": "execute_result"
>>>>>>> 425ca127b44c9b7982a774403ac7808a8ea772c0
    }
   ],
   "source": [
    "rr.score(X_train_processed, y_train)"
   ]
  },
  {
   "cell_type": "code",
   "execution_count": 330,
   "id": "33ef486c",
   "metadata": {},
   "outputs": [
    {
     "data": {
      "text/plain": [
       "0.8848874802035904"
      ]
     },
     "execution_count": 330,
     "metadata": {},
     "output_type": "execute_result"
    }
   ],
   "source": [
    "lasso_opt.score(X_train_processed, y_train)"
   ]
  },
  {
   "cell_type": "code",
<<<<<<< HEAD
   "execution_count": 94,
   "id": "22b0cd92",
=======
   "execution_count": 331,
   "id": "c9f96d93",
>>>>>>> 425ca127b44c9b7982a774403ac7808a8ea772c0
   "metadata": {
    "slideshow": {
     "slide_type": "subslide"
    }
   },
   "outputs": [
    {
     "data": {
      "text/plain": [
       "array([ 0.00000000e+00,  0.00000000e+00,  0.00000000e+00,  0.00000000e+00,\n",
       "       -0.00000000e+00,  0.00000000e+00, -0.00000000e+00, -0.00000000e+00,\n",
       "        0.00000000e+00, -0.00000000e+00, -0.00000000e+00, -0.00000000e+00,\n",
       "       -0.00000000e+00,  0.00000000e+00, -0.00000000e+00, -0.00000000e+00,\n",
       "       -0.00000000e+00, -0.00000000e+00, -0.00000000e+00, -0.00000000e+00,\n",
       "       -0.00000000e+00, -0.00000000e+00, -0.00000000e+00, -2.69391521e+00,\n",
       "       -0.00000000e+00,  0.00000000e+00,  0.00000000e+00, -0.00000000e+00,\n",
       "       -0.00000000e+00, -0.00000000e+00, -0.00000000e+00, -0.00000000e+00,\n",
       "       -0.00000000e+00,  0.00000000e+00, -5.10132627e+01,  0.00000000e+00,\n",
       "       -0.00000000e+00, -0.00000000e+00, -0.00000000e+00, -0.00000000e+00,\n",
       "        0.00000000e+00, -0.00000000e+00, -0.00000000e+00, -0.00000000e+00,\n",
       "       -0.00000000e+00,  0.00000000e+00,  0.00000000e+00,  1.47906338e+01,\n",
       "       -0.00000000e+00,  0.00000000e+00,  0.00000000e+00,  0.00000000e+00,\n",
       "        0.00000000e+00,  1.59936629e+01,  0.00000000e+00,  0.00000000e+00,\n",
       "       -0.00000000e+00,  0.00000000e+00,  0.00000000e+00,  0.00000000e+00,\n",
       "        0.00000000e+00,  6.50914705e+01,  0.00000000e+00,  4.96190925e+00,\n",
       "        0.00000000e+00,  0.00000000e+00, -0.00000000e+00,  0.00000000e+00,\n",
       "        0.00000000e+00,  0.00000000e+00, -0.00000000e+00,  5.49733074e+01,\n",
       "        0.00000000e+00, -0.00000000e+00,  1.80439703e+01,  0.00000000e+00,\n",
       "        0.00000000e+00, -1.04492464e+01,  0.00000000e+00,  6.22434602e+00,\n",
       "        1.01230633e+01,  2.62383576e+01,  0.00000000e+00, -0.00000000e+00,\n",
       "       -0.00000000e+00, -0.00000000e+00, -3.50854789e+00,  0.00000000e+00,\n",
       "        0.00000000e+00,  0.00000000e+00, -0.00000000e+00,  0.00000000e+00,\n",
       "        0.00000000e+00,  3.99927962e+01,  0.00000000e+00,  0.00000000e+00,\n",
       "        0.00000000e+00,  0.00000000e+00, -0.00000000e+00,  0.00000000e+00,\n",
       "        0.00000000e+00,  0.00000000e+00, -0.00000000e+00,  0.00000000e+00,\n",
       "        0.00000000e+00, -0.00000000e+00, -0.00000000e+00, -0.00000000e+00,\n",
       "        0.00000000e+00,  0.00000000e+00, -0.00000000e+00,  0.00000000e+00,\n",
       "        0.00000000e+00,  0.00000000e+00, -0.00000000e+00,  2.78915994e-01,\n",
       "       -0.00000000e+00,  0.00000000e+00,  0.00000000e+00,  4.23350075e+00,\n",
       "        1.26874093e+02, -0.00000000e+00,  0.00000000e+00, -0.00000000e+00,\n",
       "        0.00000000e+00,  0.00000000e+00,  0.00000000e+00, -1.55931286e+01,\n",
       "        0.00000000e+00,  8.36702049e+01, -2.21908315e+01,  0.00000000e+00,\n",
       "       -0.00000000e+00,  0.00000000e+00, -0.00000000e+00, -0.00000000e+00,\n",
       "        0.00000000e+00, -0.00000000e+00,  0.00000000e+00, -0.00000000e+00,\n",
       "        0.00000000e+00, -0.00000000e+00,  0.00000000e+00,  0.00000000e+00,\n",
       "       -0.00000000e+00,  2.88138709e+02, -0.00000000e+00, -0.00000000e+00,\n",
       "        0.00000000e+00,  0.00000000e+00,  0.00000000e+00, -0.00000000e+00,\n",
       "        0.00000000e+00,  0.00000000e+00,  0.00000000e+00, -0.00000000e+00,\n",
       "       -0.00000000e+00,  0.00000000e+00,  0.00000000e+00,  0.00000000e+00,\n",
       "       -0.00000000e+00, -5.38083094e+00, -0.00000000e+00, -0.00000000e+00,\n",
       "        2.27726995e+02])"
      ]
     },
<<<<<<< HEAD
     "execution_count": 94,
=======
     "execution_count": 331,
>>>>>>> 425ca127b44c9b7982a774403ac7808a8ea772c0
     "metadata": {},
     "output_type": "execute_result"
    }
   ],
   "source": [
    "lasso_opt.coef_"
   ]
  },
  {
   "cell_type": "markdown",
   "id": "c899b88f",
   "metadata": {
    "cell_style": "split",
    "slideshow": {
     "slide_type": "slide"
    }
   },
   "source": [
    "#### Ridge \n",
    "When we introduce many features that:\n",
    "- we believe may all have some predictive power.\n",
    "- want to heavily penalize weight variance"
   ]
  },
  {
   "cell_type": "markdown",
   "id": "697f5388",
   "metadata": {
    "cell_style": "split",
    "slideshow": {
     "slide_type": "fragment"
    }
   },
   "source": [
    "#### LASSO"
   ]
  },
  {
   "cell_type": "markdown",
   "id": "4cc530a2",
   "metadata": {
    "cell_style": "split",
    "slideshow": {
     "slide_type": "fragment"
    }
   },
   "source": [
    "We have dataset with many highly correlated features:\n",
    "- believe many are not actually adding to predictive power.\n",
    "- willing to cut away marginally unimportant features.\n"
   ]
  },
  {
   "cell_type": "markdown",
   "id": "5ce5f4c4",
   "metadata": {
    "slideshow": {
     "slide_type": "slide"
    }
   },
   "source": [
    "Which is better:\n",
    "- depends on dataset\n",
    "- modeling goal "
   ]
  }
 ],
 "metadata": {
  "celltoolbar": "Slideshow",
  "kernelspec": {
   "display_name": "Python 3",
   "language": "python",
   "name": "python3"
  },
  "language_info": {
   "codemirror_mode": {
    "name": "ipython",
    "version": 3
   },
   "file_extension": ".py",
   "mimetype": "text/x-python",
   "name": "python",
   "nbconvert_exporter": "python",
   "pygments_lexer": "ipython3",
   "version": "3.8.5"
  }
 },
 "nbformat": 4,
 "nbformat_minor": 5
}
