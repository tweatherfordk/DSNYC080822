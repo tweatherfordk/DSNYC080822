{
 "cells": [
  {
   "cell_type": "markdown",
   "id": "65d12093",
   "metadata": {
    "slideshow": {
     "slide_type": "slide"
    }
   },
   "source": [
    "<div style=\"color:white;\n",
    "           display:fill;\n",
    "           border-radius:5px;\n",
    "           background-color:#5642C5;\n",
    "           font-size:200%;\n",
    "           font-\\amily:Arial;letter-spacing:0.5px\">\n",
    "\n",
    "<p width = 20%, style=\"padding: 10px;\n",
    "              color:white;\">\n",
    "Bias, Variance and the Bias-Variance Tradeoff\n",
    "              \n",
    "</p>\n",
    "</div>\n",
    "\n",
    "Data Science Cohort Live NYC Feb 2022\n",
    "<p>Phase 3: Topic 24</p>\n",
    "<br>\n",
    "<br>\n",
    "\n",
    "<div align = \"right\">\n",
    "<img src=\"Images/flatiron-school-logo.png\" align = \"right\" width=\"200\"/>\n",
    "</div>"
   ]
  },
  {
   "cell_type": "code",
   "execution_count": 51,
   "id": "f925f284",
   "metadata": {
    "slideshow": {
     "slide_type": "skip"
    }
   },
   "outputs": [],
   "source": [
    "import numpy as np\n",
    "from scipy.stats import norm\n",
    "from scipy.stats import uniform\n",
    "import matplotlib.pyplot as plt\n",
    "import pandas as pd\n"
   ]
  },
  {
   "cell_type": "markdown",
   "id": "21e85c9a",
   "metadata": {
    "slideshow": {
     "slide_type": "slide"
    }
   },
   "source": [
    "#### Sources of error in model-based prediction"
   ]
  },
  {
   "cell_type": "markdown",
   "id": "89c84b41",
   "metadata": {
    "slideshow": {
     "slide_type": "subslide"
    }
   },
   "source": [
    "- Intrinsic noise / variability in the population\n",
    "- Bias\n",
    "- Variance"
   ]
  },
  {
   "cell_type": "markdown",
   "id": "3cab03b2",
   "metadata": {
    "slideshow": {
     "slide_type": "slide"
    }
   },
   "source": [
    "Break these down and explain these step by step"
   ]
  },
  {
   "cell_type": "markdown",
   "id": "8bf87e7d",
   "metadata": {
    "cell_style": "split",
    "slideshow": {
     "slide_type": "fragment"
    }
   },
   "source": [
    "Random process dependent on feature $X$:\n",
    "\n",
    "- intrinsic variability in $y$ for given $X$\n",
    "\n",
    "Property of the underlying population distribution."
   ]
  },
  {
   "cell_type": "code",
   "execution_count": 52,
   "id": "1eda6875",
   "metadata": {
    "cell_style": "split",
    "slideshow": {
     "slide_type": "fragment"
    }
   },
   "outputs": [
    {
     "data": {
      "image/png": "[encoded data removed]",
      "text/plain": [
       "<Figure size 432x288 with 1 Axes>"
      ]
     },
     "metadata": {
      "needs_background": "light"
     },
     "output_type": "display_data"
    }
   ],
   "source": [
    "N = 30\n",
    "\n",
    "# our feature\n",
    "X = np.sort(uniform.rvs(0, 4, N,  \n",
    "                        random_state = 10))\n",
    "\n",
    "# noise/variation of y about population mean given X\n",
    "intrinsic_noise = norm.rvs(loc = 0, \n",
    "                           scale = 1.5, size = N)\n",
    "\n",
    "y = 2*X**2 + X + intrinsic_noise\n",
    "\n",
    "plt.scatter(X,y)\n",
    "plt.show()"
   ]
  },
  {
   "cell_type": "markdown",
   "id": "5c52f491",
   "metadata": {
    "slideshow": {
     "slide_type": "slide"
    }
   },
   "source": [
    "The true population average is just the factor independent of noise:\n",
    "\n",
    "$$ E\\Big[y(X)\\Big] = 2 X^2 + X$$ \n",
    "\n",
    "Recalling that $$ y(X) = 2 X^2 + X + \\epsilon $$"
   ]
  },
  {
   "cell_type": "code",
   "execution_count": 53,
   "id": "cfdbb0e0",
   "metadata": {
    "cell_style": "split",
    "slideshow": {
     "slide_type": "fragment"
    }
   },
   "outputs": [
    {
     "data": {
      "image/png": "[encoded data removed]",
      "text/plain": [
       "<Figure size 432x288 with 1 Axes>"
      ]
     },
     "metadata": {
      "needs_background": "light"
     },
     "output_type": "display_data"
    }
   ],
   "source": [
    "y_pop_avg = 2*X**2 + X\n",
    "plt.scatter(X,y, label = 'data')\n",
    "plt.plot(X, y_pop_avg, c = 'r', \n",
    "         linewidth = 3, label = 'population_average')\n",
    "plt.legend()\n",
    "plt.show()"
   ]
  },
  {
   "cell_type": "markdown",
   "id": "f5d6f560",
   "metadata": {
    "cell_style": "split",
    "slideshow": {
     "slide_type": "fragment"
    }
   },
   "source": [
    "Even with the line of *true* population means as prediction model:\n",
    "\n",
    "- will have error due to intrinsic noise"
   ]
  },
  {
   "cell_type": "markdown",
   "id": "48d6d13b",
   "metadata": {
    "cell_style": "center",
    "slideshow": {
     "slide_type": "subslide"
    }
   },
   "source": [
    "Calculating the mean absolute error from intrinsic sources: $\\epsilon_{intrinsic} $\n",
    "\n",
    "$$ \\epsilon_{intrinsic} = \\frac{1}{N}\\sum_{i=1}^N |y^{test}_i - \\hat{y}^{popmean}_i| $$"
   ]
  },
  {
   "cell_type": "code",
   "execution_count": 54,
   "id": "47fdce13",
   "metadata": {
    "slideshow": {
     "slide_type": "fragment"
    }
   },
   "outputs": [
    {
     "data": {
      "text/plain": [
       "1.2068609874319467"
      ]
     },
     "execution_count": 54,
     "metadata": {},
     "output_type": "execute_result"
    }
   ],
   "source": [
    "testerror_intrinsic = np.abs(y_test - y_pop_avg_tst).mean()\n",
    "testerror_intrinsic"
   ]
  },
  {
   "cell_type": "markdown",
   "id": "f29cac7e",
   "metadata": {
    "slideshow": {
     "slide_type": "fragment"
    }
   },
   "source": [
    "In establishing a regression model between target $y$ and given features $X$:\n",
    "- This source of prediction error will always be there due to intrinsic variability within a population.\n",
    "\n",
    "No matter the sophistication of your model."
   ]
  },
  {
   "cell_type": "markdown",
   "id": "2bdce1c2",
   "metadata": {
    "slideshow": {
     "slide_type": "slide"
    }
   },
   "source": [
    "#### Another source of error: model bias "
   ]
  },
  {
   "cell_type": "markdown",
   "id": "0587a9b9",
   "metadata": {
    "cell_style": "split",
    "slideshow": {
     "slide_type": "subslide"
    }
   },
   "source": [
    "In regression: model rerepesents line of averages of target conditioned on features $X$\n",
    "\n",
    "Bias:\n",
    "- how far away your model is on average from the true population average across features $X$"
   ]
  },
  {
   "cell_type": "markdown",
   "id": "4aa025d4",
   "metadata": {
    "cell_style": "split",
    "slideshow": {
     "slide_type": "fragment"
    }
   },
   "source": [
    "Look at data again:\n",
    "- maybe try a linear fit"
   ]
  },
  {
   "cell_type": "code",
   "execution_count": 55,
   "id": "0f8c331d",
   "metadata": {
    "cell_style": "split",
    "slideshow": {
     "slide_type": "-"
    }
   },
   "outputs": [
    {
     "data": {
      "image/png": "[encoded data removed]",
      "text/plain": [
       "<Figure size 432x288 with 1 Axes>"
      ]
     },
     "metadata": {
      "needs_background": "light"
     },
     "output_type": "display_data"
    }
   ],
   "source": [
    "plt.scatter(X,y, label = 'data')\n",
    "plt.show()"
   ]
  },
  {
   "cell_type": "code",
   "execution_count": 56,
   "id": "7aa65b56",
   "metadata": {
    "cell_style": "split",
    "slideshow": {
     "slide_type": "slide"
    }
   },
   "outputs": [
    {
     "data": {
      "text/plain": [
       "LinearRegression()"
      ]
     },
     "execution_count": 56,
     "metadata": {},
     "output_type": "execute_result"
    }
   ],
   "source": [
    "from sklearn.linear_model import LinearRegression\n",
    "lr = LinearRegression()\n",
    "lr.fit(X.reshape(-1,1), y)"
   ]
  },
  {
   "cell_type": "code",
   "execution_count": 57,
   "id": "05fb0806",
   "metadata": {
    "cell_style": "split",
    "slideshow": {
     "slide_type": "fragment"
    }
   },
   "outputs": [
    {
     "data": {
      "text/plain": [
       "array([7.82681366])"
      ]
     },
     "execution_count": 57,
     "metadata": {},
     "output_type": "execute_result"
    }
   ],
   "source": [
    "slope = lr.coef_\n",
    "slope"
   ]
  },
  {
   "cell_type": "code",
   "execution_count": 58,
   "id": "9fc34075",
   "metadata": {
    "cell_style": "split",
    "slideshow": {
     "slide_type": "fragment"
    }
   },
   "outputs": [
    {
     "data": {
      "text/plain": [
       "-3.4384913798942858"
      ]
     },
     "execution_count": 58,
     "metadata": {},
     "output_type": "execute_result"
    }
   ],
   "source": [
    "const = lr.intercept_\n",
    "const"
   ]
  },
  {
   "cell_type": "code",
   "execution_count": 59,
   "id": "49f59204",
   "metadata": {
    "cell_style": "center",
    "slideshow": {
     "slide_type": "skip"
    }
   },
   "outputs": [],
   "source": [
    "%%capture bias_comparison\n",
    "xrange = np.linspace(0,4,500)\n",
    "y_pred_range = slope*xrange + const\n",
    "\n",
    "plt.scatter(X,y, label = 'data')\n",
    "plt.plot(xrange, y_pred_range, c = 'g',\n",
    "         linewidth = 3, label = 'model_fit')\n",
    "plt.plot(X, y_pop_avg, c = 'r', linestyle = '--',\n",
    "         linewidth = 3, label = 'population_average')\n",
    "plt.legend()\n",
    "plt.show()"
   ]
  },
  {
   "cell_type": "code",
   "execution_count": 60,
   "id": "2658e5db",
   "metadata": {
    "cell_style": "split",
    "slideshow": {
     "slide_type": "subslide"
    }
   },
   "outputs": [
    {
     "data": {
      "image/png": "[encoded data removed]",
      "text/plain": [
       "<Figure size 432x288 with 1 Axes>"
      ]
     },
     "metadata": {
      "needs_background": "light"
     },
     "output_type": "display_data"
    }
   ],
   "source": [
    "xrange = np.linspace(0,4,500)\n",
    "y_pred_range = slope*xrange + const\n",
    "\n",
    "plt.scatter(X,y, label = 'data')\n",
    "plt.plot(xrange, y_pred_range, c = 'g',\n",
    "         linewidth = 3, label = 'model_fit')\n",
    "plt.legend()\n",
    "plt.show()"
   ]
  },
  {
   "cell_type": "markdown",
   "id": "580e1418",
   "metadata": {
    "cell_style": "split",
    "slideshow": {
     "slide_type": "fragment"
    }
   },
   "source": [
    "Compare this to the line of population means:"
   ]
  },
  {
   "cell_type": "code",
   "execution_count": 61,
   "id": "c778b15b",
   "metadata": {
    "cell_style": "split",
    "slideshow": {
     "slide_type": "fragment"
    }
   },
   "outputs": [
    {
     "data": {
      "image/png": "[encoded data removed]",
      "text/plain": [
       "<Figure size 432x288 with 1 Axes>"
      ]
     },
     "metadata": {
      "needs_background": "light"
     },
     "output_type": "display_data"
    }
   ],
   "source": [
    "bias_comparison()"
   ]
  },
  {
   "cell_type": "markdown",
   "id": "01ce684d",
   "metadata": {
    "cell_style": "split",
    "slideshow": {
     "slide_type": "fragment"
    }
   },
   "source": [
    "Difference between:\n",
    "- the underlying population average at given $X$\n",
    "- our model's prediction of this average at given $X$"
   ]
  },
  {
   "cell_type": "markdown",
   "id": "a8d1c0b5",
   "metadata": {
    "slideshow": {
     "slide_type": "fragment"
    }
   },
   "source": [
    "This difference is known as the **bias**:\n",
    "- Let's evaluate this:"
   ]
  },
  {
   "cell_type": "markdown",
   "id": "466f55f5",
   "metadata": {
    "cell_style": "split",
    "slideshow": {
     "slide_type": "slide"
    }
   },
   "source": [
    "**Bias**\n",
    "\n",
    "$$ bias = \\frac{1}{N}\\sum_{i=1}^N |\\hat{y}_i^{model} - \\hat{y}_i^{true}| $$\n",
    "\n",
    "A source of prediction error.\n",
    "\n"
   ]
  },
  {
   "cell_type": "code",
   "execution_count": 62,
   "id": "6f434029",
   "metadata": {
    "cell_style": "split",
    "slideshow": {
     "slide_type": "-"
    }
   },
   "outputs": [
    {
     "data": {
      "image/png": "[encoded data removed]",
      "text/plain": [
       "<Figure size 432x288 with 1 Axes>"
      ]
     },
     "metadata": {
      "needs_background": "light"
     },
     "output_type": "display_data"
    }
   ],
   "source": [
    "bias_comparison()"
   ]
  },
  {
   "cell_type": "code",
   "execution_count": 63,
   "id": "7fa1400b",
   "metadata": {
    "cell_style": "split",
    "slideshow": {
     "slide_type": "fragment"
    }
   },
   "outputs": [
    {
     "data": {
      "text/plain": [
       "1.7295768233701438"
      ]
     },
     "execution_count": 63,
     "metadata": {},
     "output_type": "execute_result"
    }
   ],
   "source": [
    "y_model = lr.predict(X.reshape(-1,1))\n",
    "bias_error = np.abs(y_model - y_pop_avg).mean()\n",
    "bias_error"
   ]
  },
  {
   "cell_type": "markdown",
   "id": "0878a171",
   "metadata": {
    "cell_style": "center",
    "slideshow": {
     "slide_type": "slide"
    }
   },
   "source": [
    "But what is the source of bias error?\n",
    "\n",
    "- Wrong functional form\n",
    "- **Using a model not flexible/complex enough**\n",
    "\n",
    "Not enough relevant parameters and features to model the data generating process *on average*."
   ]
  },
  {
   "cell_type": "markdown",
   "id": "d1c8a35e",
   "metadata": {
    "cell_style": "split",
    "slideshow": {
     "slide_type": "fragment"
    }
   },
   "source": [
    "$$ y = w_1 X + w_0 $$\n",
    "\n",
    "$w_1$, $w_0$ and corresponding feature space with just $X$: not flexible enough"
   ]
  },
  {
   "cell_type": "markdown",
   "id": "e1af03e1",
   "metadata": {
    "cell_style": "split",
    "slideshow": {
     "slide_type": "-"
    }
   },
   "source": [
    "$$ y = w_2 X^2 + w_1 X + w_0 $$\n",
    "\n",
    "$w_2$, $w_1$, $w_0$ and corresponding feature space of $X$ and $X^2$\n",
    "\n",
    "- appropriate level of model flexibility"
   ]
  },
  {
   "cell_type": "markdown",
   "id": "13337496",
   "metadata": {
    "cell_style": "split",
    "slideshow": {
     "slide_type": "slide"
    }
   },
   "source": [
    "$$ y = w_1 X + w_0 $$\n",
    "\n",
    "$w_1$, $w_0$ and corresponding feature space with just $X$: not flexible enough"
   ]
  },
  {
   "cell_type": "markdown",
   "id": "0af52234",
   "metadata": {
    "cell_style": "split",
    "slideshow": {
     "slide_type": "-"
    }
   },
   "source": [
    "$$ y = w_2 X^2 + w_1 X + w_0 $$\n",
    "\n",
    "$w_2$, $w_1$, $w_0$ and corresponding feature space of $X$ and $X^2$\n",
    "\n",
    "- appropriate level of model flexibility"
   ]
  },
  {
   "cell_type": "code",
   "execution_count": 64,
   "id": "d280c8a1",
   "metadata": {
    "cell_style": "split",
    "scrolled": true
   },
   "outputs": [
    {
     "data": {
      "image/png": "[encoded data removed]",
      "text/plain": [
       "<Figure size 432x288 with 1 Axes>"
      ]
     },
     "metadata": {
      "needs_background": "light"
     },
     "output_type": "display_data"
    }
   ],
   "source": [
    "bias_comparison()"
   ]
  },
  {
   "cell_type": "markdown",
   "id": "8fad5848",
   "metadata": {
    "cell_style": "split"
   },
   "source": [
    "- stiff like a plank (low model flexibility)\n",
    "- bendy and floppy: can respond to data (higher model flexibility)\n"
   ]
  },
  {
   "cell_type": "markdown",
   "id": "2517d823",
   "metadata": {
    "cell_style": "center",
    "slideshow": {
     "slide_type": "slide"
    }
   },
   "source": [
    "#### Pumping up that flexibility"
   ]
  },
  {
   "cell_type": "markdown",
   "id": "52274c1f",
   "metadata": {
    "cell_style": "split",
    "slideshow": {
     "slide_type": "fragment"
    }
   },
   "source": [
    "If we make it super bendy and floppy:\n",
    "- model very responsive to data\n",
    "\n",
    "**Is this good or bad?**"
   ]
  },
  {
   "cell_type": "markdown",
   "id": "457465a0",
   "metadata": {
    "cell_style": "split",
    "slideshow": {
     "slide_type": "-"
    }
   },
   "source": [
    "<center><img src = \"images/napoleon.gif\" ></center>\n",
    "<center> Vote for Pedro</center>"
   ]
  },
  {
   "cell_type": "code",
   "execution_count": 65,
   "id": "fecfa912",
   "metadata": {
    "slideshow": {
     "slide_type": "slide"
    }
   },
   "outputs": [],
   "source": [
    "from sklearn.preprocessing import PolynomialFeatures\n",
    "from sklearn.preprocessing import StandardScaler"
   ]
  },
  {
   "cell_type": "code",
   "execution_count": 66,
   "id": "03024662",
   "metadata": {
    "slideshow": {
     "slide_type": "fragment"
    }
   },
   "outputs": [
    {
     "data": {
      "text/plain": [
       "LinearRegression()"
      ]
     },
     "execution_count": 66,
     "metadata": {},
     "output_type": "execute_result"
    }
   ],
   "source": [
    "poly_transformer = PolynomialFeatures(15)\n",
    "ss = StandardScaler()\n",
    "\n",
    "# polynomial transform and apply standard scaler to get weights for each order on same scale\n",
    "X_poly_train = poly_transformer.fit_transform(X.reshape(-1,1))\n",
    "X_poly_ss_train = ss.fit_transform(X_poly_train)\n",
    "\n",
    "#fit model with polynomial, scale-transformed features\n",
    "lr_poly = LinearRegression()\n",
    "lr_poly.fit(X_poly_ss_train, y)"
   ]
  },
  {
   "cell_type": "code",
   "execution_count": 67,
   "id": "ac185286",
   "metadata": {
    "slideshow": {
     "slide_type": "skip"
    }
   },
   "outputs": [],
   "source": [
    "%%capture polyfitting\n",
    "xrange = np.linspace(0,4,500)\n",
    "\n",
    "xrange_poly = poly_transformer.transform(xrange.reshape(-1,1)) \n",
    "xrange_poly_ss = ss.transform(xrange_poly)\n",
    "y_poly_range = lr_poly.predict(xrange_poly_ss)\n",
    "\n",
    "# going in the facebook are the clearing \n",
    "fig, ax = plt.subplots(figsize = (10,6))\n",
    "\n",
    "ax.scatter(X,y, marker = 's', facecolors='none', edgecolors='black', label = 'training data')\n",
    "ax.plot(X, y_pop_avg, c = 'b', linewidth = 3, linestyle = '--', label = 'population average')\n",
    "ax.plot(xrange, y_poly_range, c = 'magenta', linewidth = 3, alpha = 0.8, label = 'polynomial 20th order')\n",
    "ax.set_xlabel('X')\n",
    "ax.set_ylabel('Y')\n",
    "plt.legend()\n",
    "plt.ylim(-5,50)\n",
    "plt.show()"
   ]
  },
  {
   "cell_type": "code",
   "execution_count": 68,
   "id": "4d0ca576",
   "metadata": {
    "scrolled": false,
    "slideshow": {
     "slide_type": "slide"
    }
   },
   "outputs": [
    {
     "data": {
      "image/png": "[encoded data removed]",
      "text/plain": [
       "<Figure size 720x432 with 1 Axes>"
      ]
     },
     "metadata": {
      "needs_background": "light"
     },
     "output_type": "display_data"
    }
   ],
   "source": [
    "polyfitting()"
   ]
  },
  {
   "cell_type": "markdown",
   "id": "7e703298",
   "metadata": {
    "slideshow": {
     "slide_type": "subslide"
    }
   },
   "source": [
    "The model is very flexible:\n",
    "- accomodates training data better than true population line of means\n",
    "\n",
    "But also is unstable: accomodates and trains to the noise/fluctuation to well."
   ]
  },
  {
   "cell_type": "markdown",
   "id": "9367e768",
   "metadata": {
    "slideshow": {
     "slide_type": "slide"
    }
   },
   "source": [
    "The explained variance on training is better:"
   ]
  },
  {
   "cell_type": "code",
   "execution_count": 69,
   "id": "aac9628b",
   "metadata": {
    "cell_style": "split",
    "slideshow": {
     "slide_type": "fragment"
    }
   },
   "outputs": [
    {
     "data": {
      "text/plain": [
       "0.9772731618745553"
      ]
     },
     "execution_count": 69,
     "metadata": {},
     "output_type": "execute_result"
    }
   ],
   "source": [
    "# R^2 of polynomial regression at order 15\n",
    "lr_poly.score(X_poly_ss_train, y)"
   ]
  },
  {
   "cell_type": "code",
   "execution_count": 70,
   "id": "09472a44",
   "metadata": {
    "cell_style": "split",
    "slideshow": {
     "slide_type": "-"
    }
   },
   "outputs": [
    {
     "data": {
      "text/plain": [
       "0.890661526343643"
      ]
     },
     "execution_count": 70,
     "metadata": {},
     "output_type": "execute_result"
    }
   ],
   "source": [
    "# R^2 of model linear in X\n",
    "lr.score(X.reshape(-1,1), y)"
   ]
  },
  {
   "cell_type": "markdown",
   "id": "b099e2cc",
   "metadata": {
    "cell_style": "split",
    "slideshow": {
     "slide_type": "slide"
    }
   },
   "source": [
    "But what about on data that the model has never seen?\n",
    "\n",
    "- generate this data following same distribiution as training set."
   ]
  },
  {
   "cell_type": "code",
   "execution_count": 71,
   "id": "8980c307",
   "metadata": {
    "cell_style": "split",
    "slideshow": {
     "slide_type": "fragment"
    }
   },
   "outputs": [
    {
     "data": {
      "image/png": "[encoded data removed]",
      "text/plain": [
       "<Figure size 432x288 with 1 Axes>"
      ]
     },
     "metadata": {
      "needs_background": "light"
     },
     "output_type": "display_data"
    }
   ],
   "source": [
    "N_test = 80\n",
    "X_test = np.sort(uniform.rvs(0, 4, N_test))\n",
    "intrinsic_fluct_test = norm.rvs(loc = 0, \n",
    "                           scale = 1.5, size = N_test)\n",
    "y_test =  2*X_test**2 + X_test + intrinsic_fluct_test\n",
    "\n",
    "y_pop_avg_tst = 2*X_test**2 + X_test\n",
    "\n",
    "plt.scatter(X_test, y_test)\n",
    "plt.title('Unseen data')\n",
    "plt.show()"
   ]
  },
  {
   "cell_type": "markdown",
   "id": "fa969ed1",
   "metadata": {
    "slideshow": {
     "slide_type": "slide"
    }
   },
   "source": [
    "Evaluate mean average error of model on this unseen data:\n",
    "- i.e. how well does this model generalize?"
   ]
  },
  {
   "cell_type": "code",
   "execution_count": 72,
   "id": "acf211ac",
   "metadata": {
    "slideshow": {
     "slide_type": "fragment"
    }
   },
   "outputs": [],
   "source": [
    "from sklearn.metrics import mean_absolute_error"
   ]
  },
  {
   "cell_type": "code",
   "execution_count": 73,
   "id": "29576fae",
   "metadata": {
    "cell_style": "split",
    "slideshow": {
     "slide_type": "fragment"
    }
   },
   "outputs": [
    {
     "data": {
      "text/plain": [
       "112.35417460479687"
      ]
     },
     "execution_count": 73,
     "metadata": {},
     "output_type": "execute_result"
    }
   ],
   "source": [
    "# polynomial transform test data\n",
    "X_poly_test = poly_transformer.transform(\n",
    "    X_test.reshape(-1,1))\n",
    "\n",
    "# need to also scale test data \n",
    "X_poly_ss_test = ss.transform(X_poly_test)\n",
    "\n",
    "y_pred_poly_ss = lr_poly.predict(X_poly_ss_test)\n",
    "\n",
    "mean_absolute_error(y_pred_poly_ss, y_test)"
   ]
  },
  {
   "cell_type": "code",
   "execution_count": 75,
   "id": "a91e307d",
   "metadata": {
    "cell_style": "split",
    "slideshow": {
     "slide_type": "fragment"
    }
   },
   "outputs": [
    {
     "data": {
      "text/plain": [
       "2.2666009283566644"
      ]
     },
     "execution_count": 75,
     "metadata": {},
     "output_type": "execute_result"
    }
   ],
   "source": [
    "y_pred = lr.predict(X_test.reshape(-1,1))\n",
    "mean_absolute_error(y_pred, y_test)"
   ]
  },
  {
   "cell_type": "markdown",
   "id": "2b71479b",
   "metadata": {
    "slideshow": {
     "slide_type": "subslide"
    }
   },
   "source": [
    "This is overfitting and is directly tied to the notion of the **variance** of a model."
   ]
  },
  {
   "cell_type": "markdown",
   "id": "2c8ebb15",
   "metadata": {
    "cell_style": "split",
    "slideshow": {
     "slide_type": "subslide"
    }
   },
   "source": [
    "Remember: training data is a **sample**.\n",
    "\n",
    "If we take another training sample from population, is it likely to learn the same model?\n",
    "- e.g. associated weight vector $\\textbf{w}$?"
   ]
  },
  {
   "cell_type": "markdown",
   "id": "51b451df",
   "metadata": {
    "cell_style": "split",
    "slideshow": {
     "slide_type": "-"
    }
   },
   "source": [
    "Our old training sample and associated model:"
   ]
  },
  {
   "cell_type": "code",
   "execution_count": 76,
   "id": "557c8938",
   "metadata": {
    "cell_style": "split",
    "slideshow": {
     "slide_type": "-"
    }
   },
   "outputs": [
    {
     "data": {
      "image/png": "[encoded data removed]",
      "text/plain": [
       "<Figure size 720x432 with 1 Axes>"
      ]
     },
     "metadata": {
      "needs_background": "light"
     },
     "output_type": "display_data"
    }
   ],
   "source": [
    "polyfitting()"
   ]
  },
  {
   "cell_type": "markdown",
   "id": "8d055720",
   "metadata": {
    "slideshow": {
     "slide_type": "slide"
    }
   },
   "source": [
    "\n",
    "- Likely to learn another model/parameter set $\\textbf{w}$ that is quite different."
   ]
  },
  {
   "cell_type": "markdown",
   "id": "8d846e13",
   "metadata": {
    "slideshow": {
     "slide_type": "slide"
    }
   },
   "source": [
    "Sample some new training data from population"
   ]
  },
  {
   "cell_type": "code",
   "execution_count": 77,
   "id": "677e4aef",
   "metadata": {
    "cell_style": "split",
    "slideshow": {
     "slide_type": "fragment"
    }
   },
   "outputs": [],
   "source": [
    "%%capture new_data_vis\n",
    "N = 30\n",
    "# new randomly sampled features\n",
    "X_2 = np.sort(uniform.rvs(0, 4, N,  \n",
    "                        random_state = 25))\n",
    "\n",
    "# noise/variation of y about population mean given X\n",
    "# a different realization\n",
    "intrinsic_noise = norm.rvs(loc = 0, \n",
    "                           scale = 1.5, size = N)\n",
    "\n",
    "y_2 = 2*X_2**2 + X_2 + intrinsic_noise\n",
    "\n",
    "plt.scatter(X_2,y_2)\n",
    "plt.show()"
   ]
  },
  {
   "cell_type": "code",
   "execution_count": 78,
   "id": "572fad7a",
   "metadata": {
    "cell_style": "split"
   },
   "outputs": [
    {
     "data": {
      "image/png": "[encoded data removed]",
      "text/plain": [
       "<Figure size 432x288 with 1 Axes>"
      ]
     },
     "metadata": {
      "needs_background": "light"
     },
     "output_type": "display_data"
    }
   ],
   "source": [
    "new_data_vis()"
   ]
  },
  {
   "cell_type": "markdown",
   "id": "63915e9e",
   "metadata": {
    "slideshow": {
     "slide_type": "slide"
    }
   },
   "source": [
    "Transform and fit this new training sample"
   ]
  },
  {
   "cell_type": "code",
   "execution_count": 79,
   "id": "6615b7a6",
   "metadata": {
    "slideshow": {
     "slide_type": "slide"
    }
   },
   "outputs": [
    {
     "data": {
      "text/plain": [
       "LinearRegression()"
      ]
     },
     "execution_count": 79,
     "metadata": {},
     "output_type": "execute_result"
    }
   ],
   "source": [
    "poly_transformer = PolynomialFeatures(15)\n",
    "ss_2 = StandardScaler()\n",
    "X_2_poly_train = poly_transformer.fit_transform(X_2.reshape(-1,1))\n",
    "X_2_poly_train_ss = ss_2.fit_transform(X_2_poly_train)\n",
    "\n",
    "lr_poly_2 = LinearRegression()\n",
    "lr_poly_2.fit(X_2_poly_train_ss, y_2)"
   ]
  },
  {
   "cell_type": "code",
   "execution_count": 80,
   "id": "d463be68",
   "metadata": {
    "slideshow": {
     "slide_type": "skip"
    }
   },
   "outputs": [],
   "source": [
    "%%capture polyfitting_2\n",
    "xrange = np.linspace(0,4,500)\n",
    "\n",
    "xrange_poly = poly_transformer.transform(xrange.reshape(-1,1)) \n",
    "xrange_poly_ss = ss_2.transform(xrange_poly) \n",
    "\n",
    "y_poly_range_2 = lr_poly_2.predict(xrange_poly_ss)\n",
    "\n",
    "# going in the facebook are the clearing \n",
    "fig, ax = plt.subplots(figsize = (10,6))\n",
    "\n",
    "ax.scatter(X,y, marker = 'o', s = 80, facecolors='none', edgecolors='blue', label = 'first sample')\n",
    "ax.scatter(X_2,y_2, marker = 's', s = 80, facecolors='none', edgecolors='black', label = 'second sample')\n",
    "\n",
    "ax.plot(xrange, y_poly_range, c = 'green', linewidth = 3, alpha = 0.8, label = 'model trained on first sample')\n",
    "ax.plot(xrange, y_poly_range_2, c = 'magenta', linewidth = 3, alpha = 0.8, label = 'model trained on second sample')\n",
    "ax.set_xlabel('X')\n",
    "ax.set_ylabel('Y')\n",
    "plt.legend()\n",
    "plt.ylim(-30,70)\n",
    "plt.show()"
   ]
  },
  {
   "cell_type": "code",
   "execution_count": 81,
   "id": "56268549",
   "metadata": {
    "cell_style": "center",
    "slideshow": {
     "slide_type": "subslide"
    }
   },
   "outputs": [
    {
     "data": {
      "image/png": "[encoded data removed]",
      "text/plain": [
       "<Figure size 720x432 with 1 Axes>"
      ]
     },
     "metadata": {
      "needs_background": "light"
     },
     "output_type": "display_data"
    }
   ],
   "source": [
    "polyfitting_2()"
   ]
  },
  {
   "cell_type": "markdown",
   "id": "7fcde8b2",
   "metadata": {
    "slideshow": {
     "slide_type": "slide"
    }
   },
   "source": [
    "Looking at the model weights:"
   ]
  },
  {
   "cell_type": "code",
   "execution_count": 82,
   "id": "85f68f1a",
   "metadata": {
    "cell_style": "split",
    "slideshow": {
     "slide_type": "-"
    }
   },
   "outputs": [
    {
     "data": {
      "text/plain": [
       "0     0.000000e+00\n",
       "1    -1.861492e+02\n",
       "2     1.935526e+04\n",
       "3    -5.419593e+05\n",
       "4     7.669812e+06\n",
       "5    -6.642381e+07\n",
       "6     3.842624e+08\n",
       "7    -1.556316e+09\n",
       "8     4.528947e+09\n",
       "9    -9.585388e+09\n",
       "10    1.476650e+10\n",
       "11   -1.637416e+10\n",
       "12    1.272214e+10\n",
       "13   -6.568649e+09\n",
       "14    2.023041e+09\n",
       "15   -2.810925e+08\n",
       "dtype: float64"
      ]
     },
     "execution_count": 82,
     "metadata": {},
     "output_type": "execute_result"
    }
   ],
   "source": [
    "pd.Series(lr_poly.coef_)"
   ]
  },
  {
   "cell_type": "code",
   "execution_count": 83,
   "id": "5de4c925",
   "metadata": {
    "cell_style": "split",
    "slideshow": {
     "slide_type": "-"
    }
   },
   "outputs": [
    {
     "data": {
      "text/plain": [
       "0     0.000000e+00\n",
       "1    -2.263489e+03\n",
       "2     7.465272e+04\n",
       "3    -1.297774e+06\n",
       "4     1.430315e+07\n",
       "5    -1.072651e+08\n",
       "6     5.694338e+08\n",
       "7    -2.191988e+09\n",
       "8     6.203074e+09\n",
       "9    -1.297099e+10\n",
       "10    1.997037e+10\n",
       "11   -2.232336e+10\n",
       "12    1.760081e+10\n",
       "13   -9.269746e+09\n",
       "14    2.924029e+09\n",
       "15   -4.174452e+08\n",
       "dtype: float64"
      ]
     },
     "execution_count": 83,
     "metadata": {},
     "output_type": "execute_result"
    }
   ],
   "source": [
    "pd.Series(lr_poly_2.coef_)"
   ]
  },
  {
   "cell_type": "markdown",
   "id": "996fe27d",
   "metadata": {
    "slideshow": {
     "slide_type": "fragment"
    }
   },
   "source": [
    "Really high variability in the learned weight vectors $\\textbf{w}$:\n",
    "- i.e. large fluctuations in learned model \n",
    "- oversensitivity to random noise and uncertainty in training set."
   ]
  },
  {
   "cell_type": "markdown",
   "id": "b5af45cb",
   "metadata": {
    "cell_style": "split",
    "slideshow": {
     "slide_type": "slide"
    }
   },
   "source": [
    "**Model variance:**\n",
    "\n",
    "- the degree to which a model varies given different realizations of the training set."
   ]
  },
  {
   "cell_type": "markdown",
   "id": "fc58fe47",
   "metadata": {
    "cell_style": "split",
    "slideshow": {
     "slide_type": "slide"
    }
   },
   "source": [
    "In our high order polynomial fits to the data:\n",
    "\n",
    "- introduced too much model complexity\n",
    "\n",
    "- model over-flexibility: leads to high variance in models learned\n",
    "\n",
    "This is a situtation with **high model variance**"
   ]
  },
  {
   "cell_type": "markdown",
   "id": "602d406b",
   "metadata": {
    "cell_style": "center",
    "slideshow": {
     "slide_type": "slide"
    }
   },
   "source": [
    "**Model variance as a source of error**: \n",
    "\n",
    "- source of prediction error of model on unseen data\n",
    "- high variance: fluctuation in test errors of model given different training sets will be high.\n",
    "- model variance is measure of this **averaged over different realizations of training set**\n",
    "\n"
   ]
  },
  {
   "cell_type": "markdown",
   "id": "a0f6f5f0",
   "metadata": {
    "cell_style": "center",
    "slideshow": {
     "slide_type": "subslide"
    }
   },
   "source": [
    "There is a balancing game in model selection:\n",
    "- model class can be too stiff (high bias)\n",
    "- or too floppy (high variance)"
   ]
  },
  {
   "cell_type": "code",
   "execution_count": null,
   "id": "66db1614",
   "metadata": {
    "cell_style": "split",
    "slideshow": {
     "slide_type": "fragment"
    }
   },
   "outputs": [],
   "source": [
    "bias_comparison()"
   ]
  },
  {
   "cell_type": "code",
   "execution_count": null,
   "id": "c03e94ec",
   "metadata": {
    "cell_style": "split",
    "slideshow": {
     "slide_type": "fragment"
    }
   },
   "outputs": [],
   "source": [
    "polyfitting()"
   ]
  },
  {
   "cell_type": "markdown",
   "id": "e34fe957",
   "metadata": {
    "slideshow": {
     "slide_type": "slide"
    }
   },
   "source": [
    "A little widget to show the influence of model complexity on generalization error:"
   ]
  },
  {
   "cell_type": "code",
   "execution_count": null,
   "id": "97bfe223",
   "metadata": {
    "cell_style": "split",
    "slideshow": {
     "slide_type": "fragment"
    }
   },
   "outputs": [],
   "source": [
    "from IPython.display import display, HTML\n",
    "display(HTML('index.html'))"
   ]
  },
  {
   "cell_type": "markdown",
   "id": "ccd28df5",
   "metadata": {
    "cell_style": "split"
   },
   "source": [
    "- Locally weighted polynomial regression of a sinusoid with noise:\n",
    "    - increasing complexity at first reduces bias\n",
    "    - too high and it starts to model noise\n",
    "    \n",
    "Tension between bias and variance"
   ]
  },
  {
   "cell_type": "markdown",
   "id": "f53adc01",
   "metadata": {
    "slideshow": {
     "slide_type": "slide"
    }
   },
   "source": [
    "Often called the **bias-variance tradeoff**"
   ]
  },
  {
   "cell_type": "markdown",
   "id": "a78b5ff3",
   "metadata": {
    "cell_style": "split",
    "slideshow": {
     "slide_type": "slide"
    }
   },
   "source": [
    "Thus: average generalization/test error derived from the separate error sources we have considered.\n",
    "\n",
    "- intrinsic fluctuation\n",
    "- bias\n",
    "- variance\n",
    "\n",
    "\n",
    "**Often called the bias-variance decomposition**"
   ]
  },
  {
   "cell_type": "markdown",
   "id": "d3d7757b",
   "metadata": {
    "cell_style": "split",
    "slideshow": {
     "slide_type": "fragment"
    }
   },
   "source": [
    "With an interplay/tradeoff between the latter two sources of error."
   ]
  },
  {
   "cell_type": "markdown",
   "id": "efabe6ee",
   "metadata": {
    "cell_style": "center",
    "slideshow": {
     "slide_type": "subslide"
    }
   },
   "source": [
    "Much of machine learning focuses on strategies to deal with bias and variance and the tension between them:\n",
    "- creating models complex enough to capture relationships between targets and relevant features/interactions    \n",
    "- but making them statistically robust\n",
    "\n",
    "in the service of acheiving high predictive power on unseen data"
   ]
  }
 ],
 "metadata": {
  "celltoolbar": "Slideshow",
  "kernelspec": {
   "display_name": "Python 3",
   "language": "python",
   "name": "python3"
  },
  "language_info": {
   "codemirror_mode": {
    "name": "ipython",
    "version": 3
   },
   "file_extension": ".py",
   "mimetype": "text/x-python",
   "name": "python",
   "nbconvert_exporter": "python",
   "pygments_lexer": "ipython3",
   "version": "3.8.5"
  }
 },
 "nbformat": 4,
 "nbformat_minor": 5
}
