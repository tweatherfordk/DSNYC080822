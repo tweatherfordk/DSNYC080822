{
 "cells": [
  {
   "cell_type": "markdown",
   "metadata": {
    "slideshow": {
     "slide_type": "slide"
    }
   },
   "source": [
    "<div style=\"color:white;\n",
    "           display:fill;\n",
    "           border-radius:5px;\n",
    "           background-color:#5642C5;\n",
    "           font-size:200%;\n",
    "           font-\\amily:Arial;letter-spacing:0.5px\">\n",
    "\n",
    "<p width = 20%, style=\"padding: 10px;\n",
    "              color:white;\">\n",
    "Web Scraping\n",
    "              \n",
    "</p>\n",
    "</div>\n",
    "\n",
    "Data Science Cohort Live NYC Feb 2022\n",
    "<p>Phase 1: Topic 10</p>\n",
    "<br>\n",
    "<br>\n",
    "\n",
    "<div align = \"right\">\n",
    "<img src=\"Images/flatiron-school-logo.png\" align = \"right\" width=\"200\"/>\n",
    "</div>\n",
    "    \n",
    "   "
   ]
  },
  {
   "cell_type": "markdown",
   "metadata": {
    "slideshow": {
     "slide_type": "slide"
    }
   },
   "source": [
    "Previously:\n",
    "    \n",
    "- Accessed data via API\n",
    "\n",
    "Sometimes no programmatic access to data!\n",
    "- No API exists\n",
    "- No SQL server to interact with.\n",
    "- No csv files to download."
   ]
  },
  {
   "cell_type": "markdown",
   "metadata": {
    "slideshow": {
     "slide_type": "slide"
    }
   },
   "source": [
    "Many ecommerce sites: no APIs or databases to interact with.\n",
    "<br>\n",
    "<br>\n",
    "\n",
    "<div>\n",
    "<center><img src=\"Images/master_of_malt_menu.png\" width=\"600\"/></center>\n",
    "</div>\n",
    "<center> Master of Malt</center>\n",
    "   "
   ]
  },
  {
   "cell_type": "markdown",
   "metadata": {
    "slideshow": {
     "slide_type": "subslide"
    }
   },
   "source": [
    "<div>\n",
    "<center><img src=\"Images/edradour.png\" width=\"900\"/></center>\n",
    "</div>\n",
    "<center> But I want data from these fields! </center>    "
   ]
  },
  {
   "cell_type": "markdown",
   "metadata": {
    "slideshow": {
     "slide_type": "slide"
    }
   },
   "source": [
    "The data is in the web site source code...\n",
    "<div>\n",
    "<center><img src=\"Images/source_mom.png\" width=\"1800\"/></center>\n",
    "</div>\n",
    "    <center> Data embedded within a soup of HTML tags </center>   "
   ]
  },
  {
   "cell_type": "markdown",
   "metadata": {
    "slideshow": {
     "slide_type": "slide"
    }
   },
   "source": [
    "Let's take a look at a very simple sample web site."
   ]
  },
  {
   "cell_type": "markdown",
   "metadata": {
    "slideshow": {
     "slide_type": "slide"
    }
   },
   "source": [
    "#### HyperText Markup Language (HTML)\n",
    "\n",
    "Tells a browser how to layout content.\n",
    "\n",
    "- Consists of elements called tags. \n",
    "- The most basic tag is the html tag: specfies everything inside of opening/closing tags is HTML. \n",
    "\n",
    "Take a look at an example website.\n"
   ]
  },
  {
   "cell_type": "markdown",
   "metadata": {
    "slideshow": {
     "slide_type": "slide"
    }
   },
   "source": [
    "| Tag | Function | \n",
    "| --- | --- |\n",
    "| html | Denotes extent of HTML document |\n",
    "| head | External style sheet definition, metadata, titles |\n",
    "| title | Web page title |\n",
    "| body | Specifies main web page content block |\n",
    "| h1-h6 | Section heading (ordered by decreasing size)|\n",
    "| p | Represents paragraph |\n",
    "| div | Defines division or section of document |\n",
    "| span | Meant for inline or small selection  |\n",
    "| img | Signifies image and defines source |\n",
    "| a | Linking to external sites or internal events  |\n",
    "| ul | Declare unordered (bulleted) list |\n",
    "| li | List item |"
   ]
  },
  {
   "cell_type": "markdown",
   "metadata": {
    "slideshow": {
     "slide_type": "slide"
    }
   },
   "source": [
    "#### CSS (Cascading Style Sheets)\n",
    "\n",
    "- Uses class and id modifiers on tag.\n",
    "- Styling:\n",
    "    - Color\n",
    "    - Font\n",
    "    - Spacing,\n",
    "    - etc.\n",
    "- Can use external sheet for styling\n",
    "- Separate content and styling."
   ]
  },
  {
   "cell_type": "markdown",
   "metadata": {
    "slideshow": {
     "slide_type": "slide"
    }
   },
   "source": [
    "#### Structure of tag levels\n",
    "- HTML document structured as tree structure:\n",
    "<br>\n",
    "<br>\n",
    "<div>\n",
    "    <center><img src=\"Images/html_tree.png\" width=\"500\"/></center>\n",
    "</div>"
   ]
  },
  {
   "cell_type": "markdown",
   "metadata": {
    "slideshow": {
     "slide_type": "slide"
    }
   },
   "source": [
    "#### Goal\n",
    "Extract information structured by tags.\n",
    "\n",
    "- Get HTML documents as text.\n",
    "- Parse tags and extract data."
   ]
  },
  {
   "cell_type": "markdown",
   "metadata": {
    "slideshow": {
     "slide_type": "slide"
    }
   },
   "source": [
    "#### Web scraping frameworks\n",
    "\n",
    "<div>\n",
    "    <center><img src=\"Images/scrapy.png\" width=\"180\"/></center>\n",
    "</div>\n",
    "<div>\n",
    "<center><img src=\"Images/selenium.png\" width=\"300\"/></center>\n",
    "</div>\n",
    "<div>\n",
    "<center><img src=\"Images/bs4.png\" width=\"300\"/></center>\n",
    "</div>"
   ]
  },
  {
   "cell_type": "markdown",
   "metadata": {
    "cell_style": "split",
    "slideshow": {
     "slide_type": "slide"
    }
   },
   "source": [
    "We will use:\n",
    "\n",
    "<div>\n",
    "<center><img src=\"Images/bs4.png\" width=\"400\"/></center>\n",
    "</div>"
   ]
  },
  {
   "cell_type": "markdown",
   "metadata": {
    "cell_style": "split",
    "slideshow": {
     "slide_type": "-"
    }
   },
   "source": [
    "<div>\n",
    "<center><img src=\"Images/requests.png\" width=\"300\"/></center>\n",
    "</div>"
   ]
  },
  {
   "cell_type": "markdown",
   "metadata": {
    "slideshow": {
     "slide_type": "fragment"
    }
   },
   "source": [
    "- **Requests**: grab the HTML content as text.\n",
    "- **BeautifulSoup**: parse the content and extract data."
   ]
  },
  {
   "cell_type": "code",
   "execution_count": 6,
   "metadata": {
    "slideshow": {
     "slide_type": "slide"
    }
   },
   "outputs": [],
   "source": [
    "# import requests\n",
    "import requests"
   ]
  },
  {
   "cell_type": "markdown",
   "metadata": {
    "slideshow": {
     "slide_type": "slide"
    }
   },
   "source": [
    "Make requests on a simple webpage:"
   ]
  },
  {
   "cell_type": "code",
   "execution_count": 7,
   "metadata": {
    "slideshow": {
     "slide_type": "fragment"
    }
   },
   "outputs": [],
   "source": [
    "sample_url = \"http://dataquestio.github.io/web-scraping-pages/simple.html\"\n",
    "r = requests.get(sample_url)"
   ]
  },
  {
   "cell_type": "markdown",
   "metadata": {
    "slideshow": {
     "slide_type": "slide"
    }
   },
   "source": [
    "Let's get the content:\n",
    "- like .text attribute\n",
    "- returns in byte representation."
   ]
  },
  {
   "cell_type": "code",
   "execution_count": 8,
   "metadata": {
    "slideshow": {
     "slide_type": "fragment"
    }
   },
   "outputs": [
    {
     "data": {
      "text/plain": [
       "b'<!DOCTYPE html>\\n<html>\\n    <head>\\n        <title>A simple example page</title>\\n    </head>\\n    <body>\\n        <p>Here is some simple content for this page.</p>\\n    </body>\\n</html>'"
      ]
     },
     "execution_count": 8,
     "metadata": {},
     "output_type": "execute_result"
    }
   ],
   "source": [
    "req_content = r.content\n",
    "req_content "
   ]
  },
  {
   "cell_type": "markdown",
   "metadata": {
    "slideshow": {
     "slide_type": "slide"
    }
   },
   "source": [
    "- Pretty ugly.\n",
    "- Parse and get relevant data:\n",
    "    - Want to use HTML tree structure.\n",
    "    - Class and id structure.\n",
    "    \n",
    "BeautifulSoup helps us with this:"
   ]
  },
  {
   "cell_type": "code",
   "execution_count": 9,
   "metadata": {
    "slideshow": {
     "slide_type": "slide"
    }
   },
   "outputs": [],
   "source": [
    "from bs4 import BeautifulSoup"
   ]
  },
  {
   "cell_type": "markdown",
   "metadata": {
    "slideshow": {
     "slide_type": "fragment"
    }
   },
   "source": [
    "Create Soup object with web site content as input."
   ]
  },
  {
   "cell_type": "code",
   "execution_count": 10,
   "metadata": {
    "scrolled": false,
    "slideshow": {
     "slide_type": "fragment"
    }
   },
   "outputs": [],
   "source": [
    "soup = BeautifulSoup(req_content, 'html.parser') "
   ]
  },
  {
   "cell_type": "code",
   "execution_count": 11,
   "metadata": {},
   "outputs": [
    {
     "data": {
      "text/plain": [
       "bs4.BeautifulSoup"
      ]
     },
     "execution_count": 11,
     "metadata": {},
     "output_type": "execute_result"
    }
   ],
   "source": [
    "type(soup)"
   ]
  },
  {
   "cell_type": "code",
   "execution_count": 12,
   "metadata": {
    "slideshow": {
     "slide_type": "subslide"
    }
   },
   "outputs": [
    {
     "name": "stdout",
     "output_type": "stream",
     "text": [
      "<!DOCTYPE html>\n",
      "<html>\n",
      " <head>\n",
      "  <title>\n",
      "   A simple example page\n",
      "  </title>\n",
      " </head>\n",
      " <body>\n",
      "  <p>\n",
      "   Here is some simple content for this page.\n",
      "  </p>\n",
      " </body>\n",
      "</html>\n"
     ]
    }
   ],
   "source": [
    "print(soup.prettify())"
   ]
  },
  {
   "cell_type": "markdown",
   "metadata": {
    "slideshow": {
     "slide_type": "subslide"
    }
   },
   "source": [
    "Soup is parsing structure and hierarchy of tags and content in HTML document.\n",
    "\n",
    "Can go tranverse through tree hierarchy:"
   ]
  },
  {
   "cell_type": "markdown",
   "metadata": {
    "slideshow": {
     "slide_type": "slide"
    }
   },
   "source": [
    "#### Descending through hierarchy"
   ]
  },
  {
   "cell_type": "code",
   "execution_count": 13,
   "metadata": {
    "slideshow": {
     "slide_type": "subslide"
    }
   },
   "outputs": [
    {
     "data": {
      "text/plain": [
       "<!DOCTYPE html>\n",
       "\n",
       "<html>\n",
       "<head>\n",
       "<title>A simple example page</title>\n",
       "</head>\n",
       "<body>\n",
       "<p>Here is some simple content for this page.</p>\n",
       "</body>\n",
       "</html>"
      ]
     },
     "execution_count": 13,
     "metadata": {},
     "output_type": "execute_result"
    }
   ],
   "source": [
    "soup"
   ]
  },
  {
   "cell_type": "code",
   "execution_count": 14,
   "metadata": {
    "slideshow": {
     "slide_type": "subslide"
    }
   },
   "outputs": [
    {
     "data": {
      "text/plain": [
       "<html>\n",
       "<head>\n",
       "<title>A simple example page</title>\n",
       "</head>\n",
       "<body>\n",
       "<p>Here is some simple content for this page.</p>\n",
       "</body>\n",
       "</html>"
      ]
     },
     "execution_count": 14,
     "metadata": {},
     "output_type": "execute_result"
    }
   ],
   "source": [
    "html_level = soup.html\n",
    "html_level"
   ]
  },
  {
   "cell_type": "markdown",
   "metadata": {
    "slideshow": {
     "slide_type": "slide"
    }
   },
   "source": [
    ".contents attribute: gets list of tag's children"
   ]
  },
  {
   "cell_type": "code",
   "execution_count": 16,
   "metadata": {
    "slideshow": {
     "slide_type": "fragment"
    }
   },
   "outputs": [
    {
     "data": {
      "text/plain": [
       "['\\n',\n",
       " <head>\n",
       " <title>A simple example page</title>\n",
       " </head>,\n",
       " '\\n',\n",
       " <body>\n",
       " <p>Here is some simple content for this page.</p>\n",
       " </body>,\n",
       " '\\n']"
      ]
     },
     "execution_count": 16,
     "metadata": {},
     "output_type": "execute_result"
    }
   ],
   "source": [
    "html_level.contents"
   ]
  },
  {
   "cell_type": "markdown",
   "metadata": {
    "slideshow": {
     "slide_type": "slide"
    }
   },
   "source": [
    "Can also yield children as iterator:"
   ]
  },
  {
   "cell_type": "code",
   "execution_count": 22,
   "metadata": {
    "slideshow": {
     "slide_type": "fragment"
    }
   },
   "outputs": [
    {
     "name": "stdout",
     "output_type": "stream",
     "text": [
      "\n",
      "\n",
      "<head>\n",
      "<title>A simple example page</title>\n",
      "</head>\n",
      "\n",
      "\n",
      "<body>\n",
      "<p>Here is some simple content for this page.</p>\n",
      "</body>\n",
      "\n",
      "\n",
      "<list_iterator object at 0x7fe8f2497ac0>\n"
     ]
    }
   ],
   "source": [
    "for x in html_level.children:\n",
    "    print(x)\n",
    "    \n",
    "(print(html_level.children))"
   ]
  },
  {
   "cell_type": "markdown",
   "metadata": {
    "slideshow": {
     "slide_type": "slide"
    }
   },
   "source": [
    "Let's go down the body branch:\n",
    "- Can address body child as an attribute of previous level."
   ]
  },
  {
   "cell_type": "code",
   "execution_count": 29,
   "metadata": {
    "slideshow": {
     "slide_type": "fragment"
    }
   },
   "outputs": [
    {
     "data": {
      "text/plain": [
       "<body>\n",
       "<p>Here is some simple content for this page.</p>\n",
       "</body>"
      ]
     },
     "execution_count": 29,
     "metadata": {},
     "output_type": "execute_result"
    }
   ],
   "source": [
    "body_level = html_level.body\n",
    "body_level"
   ]
  },
  {
   "cell_type": "markdown",
   "metadata": {
    "slideshow": {
     "slide_type": "subslide"
    }
   },
   "source": [
    "There's another level left down this branch:"
   ]
  },
  {
   "cell_type": "code",
   "execution_count": 30,
   "metadata": {
    "slideshow": {
     "slide_type": "-"
    }
   },
   "outputs": [
    {
     "data": {
      "text/plain": [
       "<body>\n",
       "<p>Here is some simple content for this page.</p>\n",
       "</body>"
      ]
     },
     "execution_count": 30,
     "metadata": {},
     "output_type": "execute_result"
    }
   ],
   "source": [
    "body_level"
   ]
  },
  {
   "cell_type": "code",
   "execution_count": 31,
   "metadata": {
    "slideshow": {
     "slide_type": "fragment"
    }
   },
   "outputs": [
    {
     "data": {
      "text/plain": [
       "<p>Here is some simple content for this page.</p>"
      ]
     },
     "execution_count": 31,
     "metadata": {},
     "output_type": "execute_result"
    }
   ],
   "source": [
    "p_level = body_level.p\n",
    "p_level"
   ]
  },
  {
   "cell_type": "markdown",
   "metadata": {},
   "source": [
    "Note: this only gets the first p tag.\n",
    "- If want more: need to use .find_all()"
   ]
  },
  {
   "cell_type": "markdown",
   "metadata": {
    "slideshow": {
     "slide_type": "slide"
    }
   },
   "source": [
    "Get the text inside the tag:\n",
    "- .text attribute"
   ]
  },
  {
   "cell_type": "code",
   "execution_count": 41,
   "metadata": {
    "slideshow": {
     "slide_type": "fragment"
    }
   },
   "outputs": [
    {
     "data": {
      "text/plain": [
       "'Here is some simple content for this page.'"
      ]
     },
     "execution_count": 41,
     "metadata": {},
     "output_type": "execute_result"
    }
   ],
   "source": [
    "p_level.text"
   ]
  },
  {
   "cell_type": "markdown",
   "metadata": {
    "slideshow": {
     "slide_type": "slide"
    }
   },
   "source": [
    "#### Going up levels\n",
    "We can also go the other way:"
   ]
  },
  {
   "cell_type": "code",
   "execution_count": 42,
   "metadata": {
    "slideshow": {
     "slide_type": "fragment"
    }
   },
   "outputs": [
    {
     "data": {
      "text/plain": [
       "<body>\n",
       "<p>Here is some simple content for this page.</p>\n",
       "</body>"
      ]
     },
     "execution_count": 42,
     "metadata": {},
     "output_type": "execute_result"
    }
   ],
   "source": [
    "p_level.parent"
   ]
  },
  {
   "cell_type": "markdown",
   "metadata": {
    "slideshow": {
     "slide_type": "fragment"
    }
   },
   "source": [
    "Not too shabby."
   ]
  },
  {
   "cell_type": "markdown",
   "metadata": {
    "slideshow": {
     "slide_type": "slide"
    }
   },
   "source": [
    "#### Going sideways\n",
    "- Traversing through siblings"
   ]
  },
  {
   "cell_type": "code",
   "execution_count": 43,
   "metadata": {
    "cell_style": "split",
    "slideshow": {
     "slide_type": "subslide"
    }
   },
   "outputs": [
    {
     "data": {
      "text/plain": [
       "<html>\n",
       "<head>\n",
       "<title>A simple example page</title>\n",
       "</head>\n",
       "<body>\n",
       "<p>Here is some simple content for this page.</p>\n",
       "</body>\n",
       "</html>"
      ]
     },
     "execution_count": 43,
     "metadata": {},
     "output_type": "execute_result"
    }
   ],
   "source": [
    "html_level"
   ]
  },
  {
   "cell_type": "code",
   "execution_count": 44,
   "metadata": {
    "cell_style": "split",
    "slideshow": {
     "slide_type": "fragment"
    }
   },
   "outputs": [
    {
     "data": {
      "text/plain": [
       "<body>\n",
       "<div>\n",
       "<p class=\"inner-text first-item\" id=\"first\">\n",
       "                First paragraph.\n",
       "            </p>\n",
       "<p class=\"inner-text\">\n",
       "                Second paragraph.\n",
       "            </p>\n",
       "</div>\n",
       "<p class=\"outer-text first-item\" id=\"second\">\n",
       "<b>\n",
       "                First outer paragraph.\n",
       "            </b>\n",
       "</p>\n",
       "<p class=\"outer-text\">\n",
       "<b>\n",
       "                Second outer paragraph.\n",
       "            </b>\n",
       "</p>\n",
       "</body>"
      ]
     },
     "execution_count": 44,
     "metadata": {},
     "output_type": "execute_result"
    }
   ],
   "source": [
    "body_level"
   ]
  },
  {
   "cell_type": "code",
   "execution_count": 45,
   "metadata": {
    "cell_style": "split",
    "slideshow": {
     "slide_type": "fragment"
    }
   },
   "outputs": [
    {
     "data": {
      "text/plain": [
       "['\\n',\n",
       " <head>\n",
       " <title>A simple example page</title>\n",
       " </head>,\n",
       " '\\n']"
      ]
     },
     "execution_count": 45,
     "metadata": {},
     "output_type": "execute_result"
    }
   ],
   "source": [
    "list(body_level.previous_siblings)"
   ]
  },
  {
   "cell_type": "markdown",
   "metadata": {
    "slideshow": {
     "slide_type": "slide"
    }
   },
   "source": [
    "Let's have a gander at a slightly more complex website:"
   ]
  },
  {
   "cell_type": "code",
   "execution_count": 47,
   "metadata": {
    "scrolled": true,
    "slideshow": {
     "slide_type": "subslide"
    }
   },
   "outputs": [
    {
     "data": {
      "text/plain": [
       "<html>\n",
       "<head>\n",
       "<title>A simple example page</title>\n",
       "</head>\n",
       "<body>\n",
       "<div>\n",
       "<p class=\"inner-text first-item\" id=\"first\">\n",
       "                First paragraph.\n",
       "            </p>\n",
       "<p class=\"inner-text\">\n",
       "                Second paragraph.\n",
       "            </p>\n",
       "</div>\n",
       "<p class=\"outer-text first-item\" id=\"second\">\n",
       "<b>\n",
       "                First outer paragraph.\n",
       "            </b>\n",
       "</p>\n",
       "<p class=\"outer-text\">\n",
       "<b>\n",
       "                Second outer paragraph.\n",
       "            </b>\n",
       "</p>\n",
       "</body>\n",
       "</html>"
      ]
     },
     "execution_count": 47,
     "metadata": {},
     "output_type": "execute_result"
    }
   ],
   "source": [
    "page = requests.get(\"http://dataquestio.github.io/web-scraping-pages/ids_and_classes.html\")\n",
    "soup = BeautifulSoup(page.content)\n",
    "soup"
   ]
  },
  {
   "cell_type": "markdown",
   "metadata": {
    "slideshow": {
     "slide_type": "slide"
    }
   },
   "source": [
    "Going down to the body level:"
   ]
  },
  {
   "cell_type": "code",
   "execution_count": 48,
   "metadata": {
    "slideshow": {
     "slide_type": "fragment"
    }
   },
   "outputs": [
    {
     "data": {
      "text/plain": [
       "<body>\n",
       "<div>\n",
       "<p class=\"inner-text first-item\" id=\"first\">\n",
       "                First paragraph.\n",
       "            </p>\n",
       "<p class=\"inner-text\">\n",
       "                Second paragraph.\n",
       "            </p>\n",
       "</div>\n",
       "<p class=\"outer-text first-item\" id=\"second\">\n",
       "<b>\n",
       "                First outer paragraph.\n",
       "            </b>\n",
       "</p>\n",
       "<p class=\"outer-text\">\n",
       "<b>\n",
       "                Second outer paragraph.\n",
       "            </b>\n",
       "</p>\n",
       "</body>"
      ]
     },
     "execution_count": 48,
     "metadata": {},
     "output_type": "execute_result"
    }
   ],
   "source": [
    "body_level = soup.html.body\n",
    "body_level"
   ]
  },
  {
   "cell_type": "markdown",
   "metadata": {
    "slideshow": {
     "slide_type": "slide"
    }
   },
   "source": [
    "Want all p tags:"
   ]
  },
  {
   "cell_type": "code",
   "execution_count": 49,
   "metadata": {
    "slideshow": {
     "slide_type": "fragment"
    }
   },
   "outputs": [
    {
     "data": {
      "text/plain": [
       "<p class=\"inner-text first-item\" id=\"first\">\n",
       "                First paragraph.\n",
       "            </p>"
      ]
     },
     "execution_count": 49,
     "metadata": {},
     "output_type": "execute_result"
    }
   ],
   "source": [
    "body_level.p"
   ]
  },
  {
   "cell_type": "markdown",
   "metadata": {
    "slideshow": {
     "slide_type": "slide"
    }
   },
   "source": [
    "We need:\n",
    "    \n",
    ".find_all() \n",
    "- finds all instances of specified tags within level.\n",
    "- returns a list"
   ]
  },
  {
   "cell_type": "code",
   "execution_count": 52,
   "metadata": {
    "slideshow": {
     "slide_type": "subslide"
    }
   },
   "outputs": [
    {
     "data": {
      "text/plain": [
       "[<p class=\"inner-text first-item\" id=\"first\">\n",
       "                 First paragraph.\n",
       "             </p>,\n",
       " <p class=\"inner-text\">\n",
       "                 Second paragraph.\n",
       "             </p>,\n",
       " <p class=\"outer-text first-item\" id=\"second\">\n",
       " <b>\n",
       "                 First outer paragraph.\n",
       "             </b>\n",
       " </p>,\n",
       " <p class=\"outer-text\">\n",
       " <b>\n",
       "                 Second outer paragraph.\n",
       "             </b>\n",
       " </p>]"
      ]
     },
     "execution_count": 52,
     "metadata": {},
     "output_type": "execute_result"
    }
   ],
   "source": [
    "body_level.find_all('p')"
   ]
  },
  {
   "cell_type": "markdown",
   "metadata": {
    "slideshow": {
     "slide_type": "slide"
    }
   },
   "source": [
    "#### Class and id selectors\n",
    "- Modify style easily across:\n",
    "- many instance of same type (class)\n",
    "- or one specific instance (id).\n",
    "- Can also use this for data selection / scraping.\n",
    "\n",
    "Additional arguments for .find_all()"
   ]
  },
  {
   "cell_type": "code",
   "execution_count": 53,
   "metadata": {
    "cell_style": "split",
    "slideshow": {
     "slide_type": "slide"
    }
   },
   "outputs": [
    {
     "data": {
      "text/plain": [
       "<body>\n",
       "<div>\n",
       "<p class=\"inner-text first-item\" id=\"first\">\n",
       "                First paragraph.\n",
       "            </p>\n",
       "<p class=\"inner-text\">\n",
       "                Second paragraph.\n",
       "            </p>\n",
       "</div>\n",
       "<p class=\"outer-text first-item\" id=\"second\">\n",
       "<b>\n",
       "                First outer paragraph.\n",
       "            </b>\n",
       "</p>\n",
       "<p class=\"outer-text\">\n",
       "<b>\n",
       "                Second outer paragraph.\n",
       "            </b>\n",
       "</p>\n",
       "</body>"
      ]
     },
     "execution_count": 53,
     "metadata": {},
     "output_type": "execute_result"
    }
   ],
   "source": [
    "body_level"
   ]
  },
  {
   "cell_type": "markdown",
   "metadata": {
    "cell_style": "split",
    "slideshow": {
     "slide_type": "fragment"
    }
   },
   "source": [
    "Extract by class:"
   ]
  },
  {
   "cell_type": "code",
   "execution_count": 54,
   "metadata": {
    "cell_style": "split",
    "slideshow": {
     "slide_type": "fragment"
    }
   },
   "outputs": [
    {
     "data": {
      "text/plain": [
       "[<p class=\"inner-text first-item\" id=\"first\">\n",
       "                 First paragraph.\n",
       "             </p>,\n",
       " <p class=\"inner-text\">\n",
       "                 Second paragraph.\n",
       "             </p>]"
      ]
     },
     "execution_count": 54,
     "metadata": {},
     "output_type": "execute_result"
    }
   ],
   "source": [
    "body_level.find_all('p', class_ = 'inner-text')"
   ]
  },
  {
   "cell_type": "code",
   "execution_count": 55,
   "metadata": {
    "cell_style": "split",
    "slideshow": {
     "slide_type": "slide"
    }
   },
   "outputs": [
    {
     "data": {
      "text/plain": [
       "<body>\n",
       "<div>\n",
       "<p class=\"inner-text first-item\" id=\"first\">\n",
       "                First paragraph.\n",
       "            </p>\n",
       "<p class=\"inner-text\">\n",
       "                Second paragraph.\n",
       "            </p>\n",
       "</div>\n",
       "<p class=\"outer-text first-item\" id=\"second\">\n",
       "<b>\n",
       "                First outer paragraph.\n",
       "            </b>\n",
       "</p>\n",
       "<p class=\"outer-text\">\n",
       "<b>\n",
       "                Second outer paragraph.\n",
       "            </b>\n",
       "</p>\n",
       "</body>"
      ]
     },
     "execution_count": 55,
     "metadata": {},
     "output_type": "execute_result"
    }
   ],
   "source": [
    "body_level"
   ]
  },
  {
   "cell_type": "markdown",
   "metadata": {
    "cell_style": "split",
    "slideshow": {
     "slide_type": "fragment"
    }
   },
   "source": [
    "Extract by id:"
   ]
  },
  {
   "cell_type": "code",
   "execution_count": 57,
   "metadata": {
    "cell_style": "split",
    "scrolled": true,
    "slideshow": {
     "slide_type": "fragment"
    }
   },
   "outputs": [
    {
     "data": {
      "text/plain": [
       "[<p class=\"outer-text first-item\" id=\"second\">\n",
       " <b>\n",
       "                 First outer paragraph.\n",
       "             </b>\n",
       " </p>]"
      ]
     },
     "execution_count": 57,
     "metadata": {},
     "output_type": "execute_result"
    }
   ],
   "source": [
    "body_level.find_all('p', id = 'second')"
   ]
  },
  {
   "cell_type": "markdown",
   "metadata": {
    "slideshow": {
     "slide_type": "slide"
    }
   },
   "source": [
    "#### Going back to our whisky page\n",
    "\n",
    "- Get bottling details (age, ABV, distillery, etc)"
   ]
  },
  {
   "cell_type": "code",
   "execution_count": 77,
   "metadata": {
    "slideshow": {
     "slide_type": "fragment"
    }
   },
   "outputs": [],
   "source": [
    "edradour_url = \"https://www.masterofmalt.com/whiskies/edradour-10-year-old-whisky/?srh=1\""
   ]
  },
  {
   "cell_type": "code",
   "execution_count": 78,
   "metadata": {},
   "outputs": [],
   "source": [
    "edrad_req = requests.get(edradour_url)\n",
    "edrad_soup = BeautifulSoup(edrad_req.content)"
   ]
  },
  {
   "cell_type": "code",
   "execution_count": 79,
   "metadata": {},
   "outputs": [
    {
     "name": "stdout",
     "output_type": "stream",
     "text": [
      "<!DOCTYPE html>\n",
      "<html lang=\"en-US\">\n",
      " <head>\n",
      "  <title>\n",
      "   Just a moment...\n",
      "  </title>\n",
      "  <meta content=\"text/html; charset=utf-8\" http-equiv=\"Content-Type\"/>\n",
      "  <meta content=\"IE=Edge\" http-equiv=\"X-UA-Compatible\"/>\n",
      "  <meta content=\"noindex,nofollow\" name=\"robots\"/>\n",
      "  <meta content=\"width=device-width,initial-scale=1\" name=\"viewport\"/>\n",
      "  <link href=\"/cdn-cgi/styles/cf-errors.css\" rel=\"stylesheet\"/>\n",
      "  <script>\n",
      "   (function(){\n",
      "        window._cf_chl_opt={\n",
      "            cvId: '2',\n",
      "            cType: 'managed',\n",
      "            cNounce: '85171',\n",
      "            cRay: '73cc7832acad195d',\n",
      "            cHash: '8c62e218cc11768',\n",
      "            cUPMDTk: \"\\/whiskies\\/edradour-10-year-old-whisky\\/?srh=1&__cf_chl_tk=tJMZFQ57tF8caHkQwp5BdyvxkRUwU6vCqpbtAuxl6sY-1660844792-0-gaNycGzNBz0\",\n",
      "            cFPWv: 'g',\n",
      "            cTTimeMs: '1000',\n",
      "            cTplV: 3,\n",
      "            cRq: {\n",
      "                ru: 'aHR0cHM6Ly93d3cubWFzdGVyb2ZtYWx0LmNvbS93aGlza2llcy9lZHJhZG91ci0xMC15ZWFyLW9sZC13aGlza3kvP3NyaD0x',\n",
      "                ra: 'cHl0aG9uLXJlcXVlc3RzLzIuMjQuMA==',\n",
      "                rm: 'R0VU',\n",
      "                d: 'ZhdV/s+regx4byH3pMcvOpQS6jaGa39c7SkKyGi3MUIc6LUbW8iJfUs+FTNSAE0dBVk/Y28qZxhNRlY88ev+KZ3DFeDHMqHwlJMpI7rx46MeHh5TkoRh8Zu7OU5sVcr6B/xJD8TYXyJo9pTGbIFJ3tw/Fs6Om53FyAj4m4mK8hz2Z5gS9wgMRXfLH2Sb4vtB5LO8d4vb0ywmNtZyGZEJ//TYx3b9ugvX5LuXVL9CLHjfPQP+KumEkTXV2J9rafMi353s303n1jKx+RmcDmWmtBN+VymWwXjkswQBfwMgvUUhlvopJ4NK1Vvt5mT0jFo5R1940CflVXUvkCjMGGn4D55dvzfZnzk6CfIXidL+lNog68dauBfTgnppciwDe0M95h37nIj9PgrRO8myWvveeJtc46RO6IniA09eeQmSigqoIz5wb63p7xFcBzu/ryuZlAWJi/GBqTL3GbO7x/6JbCiS5tAvHM3KnxMvB5csJlFC8MQwJKg7OreZAquFTrpIcxheMjPV0FMKrEwXAUIZQzFJRoHbSI4QhBcfTF1pV697g8fvTYS93tKFQ3e+Lfyt+9/AXP6hbaNiq1geEGCB1qYqpQRS48vYr6k8MDg0eoWMpuStKsWsekPJwvdVv7Dq7p2P0xasKt6AwrvQGVXDQA==',\n",
      "                t: 'MTY2MDg0NDc5Mi43NTcwMDA=',\n",
      "                m: 'mGxV7dIN8cqBgPY2PG+H3TN6ba/F2J0RKAS1qcaabUQ=',\n",
      "                i1: 'it+ifCCqpjTOBb3YjkNgIA==',\n",
      "                i2: 'Epv7JGEuEl1W3uGTSnKeZA==',\n",
      "                zh: 'e7ZUTlOmuNwQTHmK5s8CFjDZ/L9xXZ20yWt8ys4FETk=',\n",
      "                uh: '6AZv5/FBI8bCgQ115dPTZ5RPLfsmzGOqXp7x0al4Jbc=',\n",
      "                hh: 'S7deGAOOT9VZxudqOsC2eawxr1stnqeCcbiR9gSS6OY=',\n",
      "            }\n",
      "        }\n",
      "        window._cf_chl_enter = function(){window._cf_chl_opt.p=1};\n",
      "    })();\n",
      "  </script>\n",
      " </head>\n",
      " <body class=\"no-js\">\n",
      "  <div class=\"main-wrapper\" role=\"main\">\n",
      "   <div class=\"main-content\">\n",
      "    <h1 class=\"zone-name-title h1\">\n",
      "     <img class=\"heading-favicon\" onerror=\"this.onerror=null;this.parentNode.removeChild(this)\" src=\"/favicon.ico\"/>\n",
      "     www.masterofmalt.com\n",
      "    </h1>\n",
      "    <h2 class=\"h2\" id=\"cf-challenge-running\">\n",
      "     Checking if the site connection is secure\n",
      "    </h2>\n",
      "    <noscript>\n",
      "     <div id=\"cf-challenge-error-title\">\n",
      "      <div class=\"h2\">\n",
      "       <span class=\"icon-wrapper\">\n",
      "        <div class=\"heading-icon warning-icon\">\n",
      "        </div>\n",
      "       </span>\n",
      "       <span id=\"cf-challenge-error-text\">\n",
      "        Enable JavaScript and cookies to continue\n",
      "       </span>\n",
      "      </div>\n",
      "     </div>\n",
      "    </noscript>\n",
      "    <div id=\"trk_jschal_js\" style=\"display:none;background-image:url('/cdn-cgi/images/trace/managed/nojs/transparent.gif?ray=73cc7832acad195d')\">\n",
      "    </div>\n",
      "    <div class=\"core-msg spacer\" id=\"cf-challenge-body-text\">\n",
      "     www.masterofmalt.com needs to review the security of your connection before\n",
      "            proceeding.\n",
      "    </div>\n",
      "    <form action=\"/whiskies/edradour-10-year-old-whisky/?srh=1&amp;__cf_chl_f_tk=tJMZFQ57tF8caHkQwp5BdyvxkRUwU6vCqpbtAuxl6sY-1660844792-0-gaNycGzNBz0\" enctype=\"application/x-www-form-urlencoded\" id=\"challenge-form\" method=\"POST\">\n",
      "     <input name=\"md\" type=\"hidden\" value=\"26W.P66E0DwSEtQfRAQhZm1h7j2GbRzM1_lUXx0zfdc-1660844792-0-ATuA6pQaKIzpz3qWjdQ3Q2pCCTn4y0GX0eQGIOikFVv4uiCDgVa5pquHxGyzWYDZf8urV2XsGJLVE9oYtFA-tpiRCcm45PTzb55ndUoliIt6IiJQqhfc8reuGbyYpG1IeJK1YOnBBfYM0znXF6TsjoPQxzVYdZSUtFVaft_FqIJLNGsDZKhRkfYvaF9epBtQhCz41r2TKsAJjbQXNQGXPgHo2vxbMB5jzXbh-vFeHuLgsK8lNC7Z3aArsVhern5VOtjZJImKA0MX44iV_JM1LGwpuUNH56nsI_Na1Mt6p89g-IUf-xJlV_ZPzFhsociUtcpmOAHJuBHkWGOlOsrAyaSqV9QlHo57_NqwEJ5JDmD7m2FRfQN1t4enwZT2U5LoAnpdhbrsyTRFU2giZHvl7duLUwLweQPpm0GDrNKrTQVA1KrUT5M8xaCntzS7PQhVicYbwRio9theuyGlkwvKXFItRrJRLl-1BgUwCesif8WKOtuXmhNj_YarQ4xiUNLX59Gawgb0X6eLZIONSwNfpdvnQzz3OYwhBQlxNnMNQ-Qunp_n2AVPLLdmnJ23xfaglGllIAhFmwFrondJGP2UE0Bg4KgF5k6230drn9u5N72aVo4YADVNlvLSCa66vosInJmxLm6B-a8iLV8Yieh2SdfCEPn9_rh3PQq70ArVPuZ6KOWgTXrGGZXHHys6BhDun9WkYAc1dx1yIRN-THALDhY7Ypi6mIPP5i0C8tw8g8i8rZPrOXVEw9I4iGX13_GrDT6nIa2_8WkYus0AvT9L9JDwb8qIAIrqcoFepip-SUiv\"/>\n",
      "     <input name=\"r\" type=\"hidden\" value=\"T.1nwwAYdaaFcukXDEGOOhJWTvFvpN10WPGgcSynGB0-1660844792-0-AdbS6xM8f4VQHBMXOtmS5iyByW3GhpgwKDGpp1OJctCqZEQBn+h1Ji+XwE8GHaX0yVwVU6SDug7uyF5yN5A3neJNxSfc6Z/w1qqjjPnPtoE0gu4RFkXS1y6svwzMOBTSRhwy3Zhyzc0yarNL3zlA0bQWIcKKb30YSB0zRwOI09b8s6QXFgZRcirXPURVZBL2CHfXJtzFu0WYsLHJCZV5zkPL18jz7nDbrwmV7MxSw5yXdaIikK5crLfybEKa52dNwc9LtF8Lq+n/zVxaEacixPNtivNmvyAn6jiHnhcnCKkRV2g154sXGSKHLpLXVA9dla/rvGgZrUBAuRhrpOPYqmiITp66VhT8dTvwHnsgFBUFH1yHIzYw5aDTnJGp+DoTskwuoDFtXl7QzhJm/alC33M5rckxEZCLaUkj5mW5WYiIIMvW3OjLX/6zTZ1e5PRa9yugeT7RUi5H8mn06qOzjLOqdI0b7eFAo8HLsb8jWMlDJByKnzIMGAIWySK70f7U/P5Q2cnSEsOBRh0P69InrkTMDOBv5485yONo05qHGYlBo/ZPnvEHQg1SrTQpGycRUE5vJnZqLjuZwJyokD/Nuvi8h43v3d35RwfJSOu2EHaAmWdskw4chFGftnic1OhWA0jhuhu7aCwflGGRQePcMOBqiEtJ/bj2n9pfLK+O3tI2skT8irMfBzUh+OyrKZgGZayYe2aNra6k3UeAmPZ3pu/sCksfr89AeM3xEn94yyl+NSrf05IAZGSXmkud+loci1ddmZHUj1aKuIhHnN0KebNpWM4qpPEHqMH0s0I7iQ48vt4paNlKdbXfAzEEYWu0CKMOVrD4ZEoFGrUEBMIdv3MHpUkE/TBN1vuhkOX8voGZqINWqmEPA+v0dBfyoffq+kr0/kI52NVPoI8wxLzzl4Ov8FSBPeVlIHMbcO706JIZms/n8MJbA29O1arX8dKqlXVVaAljA6moUVgQrst9HWuSon3Y7lx0e5IcYFstNIiOGSdK7+GhAygYF6Qn8iHsBqIMGMci6+wNQSidbN0WJrXF3qOWNHlJZx1qKcKS4XHN9US1pI1FXxMJfedOW3ak+eqbPJ4syPiolLKpCxVQHW2eM3XPKCgmpOUsM7JbFVMtX2HfcbkBvyMf+Uv0ry58eoZ1o1ZP3Fjp/SuLQjOQkM9SQoIvD6+KaGY61sv6pKHpwuonJhZ8Tpaknnmaw85iPiQUEE1hFGVX/9p1auXnHpDHmaA6/KXn74z7nfrUmlzzUYQPr7dg99DQw8hypHiWjFHSPv7YkUQqQcII6lf+zULu0SFNBI0CIVzextnraOvmMYON9VWq2LIiFT2yOT4PAAx2uYIf5xFcGd/gZ2Fxj/aS8O6Jrec8qqbbKFK8kGorfaRQqWiWqEaPEGU+cwq+dlRvuYZAT4yOalkf65fPwAGJxqJ/MZYnXoshhnl4mYDwAaITrFmjR4wBlRYYmlNSwWI5hBw1HW299LSh+BdlkHtlgdanAO+hRZBHSuhe8j+xu8YNS3epa1SeG2TpekqVo3/QMzGDDBmv9JdwTgbktjYIrmFgn6mveHG2+oiXX15sB1o6K21CXxQiYiSVcWay+uJ3W3t07QTcvGt38kPAPoJNnSKdPJMe4K/Vnafgi7Bba7RPUmF6Fwqbdyuo0Fr9fz5xRwW5fodqjeatQDLD/2sxM7BEYKGRyrhT9G2ivtrrd0jeZK1JT9Iv3DpGY8F2LBG2/wJ6SNcYh7g8eqrI5tLq2TbyBaJ8DWfvIneXJMyhxhqjyd4NxcgMYZNCSLL/Fw==\"/>\n",
      "    </form>\n",
      "   </div>\n",
      "  </div>\n",
      "  <script>\n",
      "   (function(){\n",
      "        var trkjs = document.createElement('img');\n",
      "        trkjs.setAttribute('src', '/cdn-cgi/images/trace/managed/js/transparent.gif?ray=73cc7832acad195d');\n",
      "        trkjs.setAttribute('style', 'display: none');\n",
      "        document.body.appendChild(trkjs);\n",
      "        var cpo = document.createElement('script');\n",
      "        cpo.src = '/cdn-cgi/challenge-platform/h/g/orchestrate/managed/v1?ray=73cc7832acad195d';\n",
      "        window._cf_chl_opt.cOgUHash = location.hash === '' && location.href.indexOf('#') !== -1 ? '#' : location.hash;\n",
      "        window._cf_chl_opt.cOgUQuery = location.search === '' && location.href.slice(0, -window._cf_chl_opt.cOgUHash.length).indexOf('?') !== -1 ? '?' : location.search;\n",
      "        if (window.history && window.history.replaceState) {\n",
      "            var ogU = location.pathname + window._cf_chl_opt.cOgUQuery + window._cf_chl_opt.cOgUHash;\n",
      "            history.replaceState(null, null, \"\\/whiskies\\/edradour-10-year-old-whisky\\/?srh=1&__cf_chl_rt_tk=tJMZFQ57tF8caHkQwp5BdyvxkRUwU6vCqpbtAuxl6sY-1660844792-0-gaNycGzNBz0\" + window._cf_chl_opt.cOgUHash);\n",
      "            cpo.onload = function() {\n",
      "                history.replaceState(null, null, ogU);\n",
      "            };\n",
      "        }\n",
      "        document.getElementsByTagName('head')[0].appendChild(cpo);\n",
      "    }());\n",
      "  </script>\n",
      "  <div class=\"footer\" role=\"contentinfo\">\n",
      "   <div class=\"footer-inner\">\n",
      "    <div class=\"clearfix diagnostic-wrapper\">\n",
      "     <div class=\"ray-id\">\n",
      "      Ray ID:\n",
      "      <code>\n",
      "       73cc7832acad195d\n",
      "      </code>\n",
      "     </div>\n",
      "    </div>\n",
      "    <div class=\"text-center\">\n",
      "     Performance &amp; security by\n",
      "     <a href=\"https://www.cloudflare.com?utm_source=challenge&amp;utm_campaign=m\" rel=\"noopener noreferrer\" target=\"_blank\">\n",
      "      Cloudflare\n",
      "     </a>\n",
      "    </div>\n",
      "   </div>\n",
      "  </div>\n",
      " </body>\n",
      "</html>\n",
      "\n"
     ]
    }
   ],
   "source": [
    "print(edrad_soup.prettify())"
   ]
  },
  {
   "cell_type": "markdown",
   "metadata": {
    "slideshow": {
     "slide_type": "slide"
    }
   },
   "source": [
    "Extract all info from bottling details:"
   ]
  },
  {
   "cell_type": "code",
   "execution_count": 80,
   "metadata": {},
   "outputs": [],
   "source": [
    "body_content = edrad_soup.html.body"
   ]
  },
  {
   "cell_type": "code",
   "execution_count": 81,
   "metadata": {},
   "outputs": [
    {
     "data": {
      "text/plain": [
       "[<div class=\"main-wrapper\" role=\"main\">\n",
       " <div class=\"main-content\">\n",
       " <h1 class=\"zone-name-title h1\">\n",
       " <img class=\"heading-favicon\" onerror=\"this.onerror=null;this.parentNode.removeChild(this)\" src=\"/favicon.ico\"/>\n",
       "             www.masterofmalt.com\n",
       "         </h1>\n",
       " <h2 class=\"h2\" id=\"cf-challenge-running\">\n",
       "             Checking if the site connection is secure\n",
       "         </h2>\n",
       " <noscript>\n",
       " <div id=\"cf-challenge-error-title\">\n",
       " <div class=\"h2\">\n",
       " <span class=\"icon-wrapper\">\n",
       " <div class=\"heading-icon warning-icon\"></div>\n",
       " </span>\n",
       " <span id=\"cf-challenge-error-text\">\n",
       "                         Enable JavaScript and cookies to continue\n",
       "                     </span>\n",
       " </div>\n",
       " </div>\n",
       " </noscript>\n",
       " <div id=\"trk_jschal_js\" style=\"display:none;background-image:url('/cdn-cgi/images/trace/managed/nojs/transparent.gif?ray=73cc7832acad195d')\"></div>\n",
       " <div class=\"core-msg spacer\" id=\"cf-challenge-body-text\">\n",
       "             www.masterofmalt.com needs to review the security of your connection before\n",
       "             proceeding.\n",
       "         </div>\n",
       " <form action=\"/whiskies/edradour-10-year-old-whisky/?srh=1&amp;__cf_chl_f_tk=tJMZFQ57tF8caHkQwp5BdyvxkRUwU6vCqpbtAuxl6sY-1660844792-0-gaNycGzNBz0\" enctype=\"application/x-www-form-urlencoded\" id=\"challenge-form\" method=\"POST\">\n",
       " <input name=\"md\" type=\"hidden\" value=\"26W.P66E0DwSEtQfRAQhZm1h7j2GbRzM1_lUXx0zfdc-1660844792-0-ATuA6pQaKIzpz3qWjdQ3Q2pCCTn4y0GX0eQGIOikFVv4uiCDgVa5pquHxGyzWYDZf8urV2XsGJLVE9oYtFA-tpiRCcm45PTzb55ndUoliIt6IiJQqhfc8reuGbyYpG1IeJK1YOnBBfYM0znXF6TsjoPQxzVYdZSUtFVaft_FqIJLNGsDZKhRkfYvaF9epBtQhCz41r2TKsAJjbQXNQGXPgHo2vxbMB5jzXbh-vFeHuLgsK8lNC7Z3aArsVhern5VOtjZJImKA0MX44iV_JM1LGwpuUNH56nsI_Na1Mt6p89g-IUf-xJlV_ZPzFhsociUtcpmOAHJuBHkWGOlOsrAyaSqV9QlHo57_NqwEJ5JDmD7m2FRfQN1t4enwZT2U5LoAnpdhbrsyTRFU2giZHvl7duLUwLweQPpm0GDrNKrTQVA1KrUT5M8xaCntzS7PQhVicYbwRio9theuyGlkwvKXFItRrJRLl-1BgUwCesif8WKOtuXmhNj_YarQ4xiUNLX59Gawgb0X6eLZIONSwNfpdvnQzz3OYwhBQlxNnMNQ-Qunp_n2AVPLLdmnJ23xfaglGllIAhFmwFrondJGP2UE0Bg4KgF5k6230drn9u5N72aVo4YADVNlvLSCa66vosInJmxLm6B-a8iLV8Yieh2SdfCEPn9_rh3PQq70ArVPuZ6KOWgTXrGGZXHHys6BhDun9WkYAc1dx1yIRN-THALDhY7Ypi6mIPP5i0C8tw8g8i8rZPrOXVEw9I4iGX13_GrDT6nIa2_8WkYus0AvT9L9JDwb8qIAIrqcoFepip-SUiv\"/>\n",
       " <input name=\"r\" type=\"hidden\" value=\"T.1nwwAYdaaFcukXDEGOOhJWTvFvpN10WPGgcSynGB0-1660844792-0-AdbS6xM8f4VQHBMXOtmS5iyByW3GhpgwKDGpp1OJctCqZEQBn+h1Ji+XwE8GHaX0yVwVU6SDug7uyF5yN5A3neJNxSfc6Z/w1qqjjPnPtoE0gu4RFkXS1y6svwzMOBTSRhwy3Zhyzc0yarNL3zlA0bQWIcKKb30YSB0zRwOI09b8s6QXFgZRcirXPURVZBL2CHfXJtzFu0WYsLHJCZV5zkPL18jz7nDbrwmV7MxSw5yXdaIikK5crLfybEKa52dNwc9LtF8Lq+n/zVxaEacixPNtivNmvyAn6jiHnhcnCKkRV2g154sXGSKHLpLXVA9dla/rvGgZrUBAuRhrpOPYqmiITp66VhT8dTvwHnsgFBUFH1yHIzYw5aDTnJGp+DoTskwuoDFtXl7QzhJm/alC33M5rckxEZCLaUkj5mW5WYiIIMvW3OjLX/6zTZ1e5PRa9yugeT7RUi5H8mn06qOzjLOqdI0b7eFAo8HLsb8jWMlDJByKnzIMGAIWySK70f7U/P5Q2cnSEsOBRh0P69InrkTMDOBv5485yONo05qHGYlBo/ZPnvEHQg1SrTQpGycRUE5vJnZqLjuZwJyokD/Nuvi8h43v3d35RwfJSOu2EHaAmWdskw4chFGftnic1OhWA0jhuhu7aCwflGGRQePcMOBqiEtJ/bj2n9pfLK+O3tI2skT8irMfBzUh+OyrKZgGZayYe2aNra6k3UeAmPZ3pu/sCksfr89AeM3xEn94yyl+NSrf05IAZGSXmkud+loci1ddmZHUj1aKuIhHnN0KebNpWM4qpPEHqMH0s0I7iQ48vt4paNlKdbXfAzEEYWu0CKMOVrD4ZEoFGrUEBMIdv3MHpUkE/TBN1vuhkOX8voGZqINWqmEPA+v0dBfyoffq+kr0/kI52NVPoI8wxLzzl4Ov8FSBPeVlIHMbcO706JIZms/n8MJbA29O1arX8dKqlXVVaAljA6moUVgQrst9HWuSon3Y7lx0e5IcYFstNIiOGSdK7+GhAygYF6Qn8iHsBqIMGMci6+wNQSidbN0WJrXF3qOWNHlJZx1qKcKS4XHN9US1pI1FXxMJfedOW3ak+eqbPJ4syPiolLKpCxVQHW2eM3XPKCgmpOUsM7JbFVMtX2HfcbkBvyMf+Uv0ry58eoZ1o1ZP3Fjp/SuLQjOQkM9SQoIvD6+KaGY61sv6pKHpwuonJhZ8Tpaknnmaw85iPiQUEE1hFGVX/9p1auXnHpDHmaA6/KXn74z7nfrUmlzzUYQPr7dg99DQw8hypHiWjFHSPv7YkUQqQcII6lf+zULu0SFNBI0CIVzextnraOvmMYON9VWq2LIiFT2yOT4PAAx2uYIf5xFcGd/gZ2Fxj/aS8O6Jrec8qqbbKFK8kGorfaRQqWiWqEaPEGU+cwq+dlRvuYZAT4yOalkf65fPwAGJxqJ/MZYnXoshhnl4mYDwAaITrFmjR4wBlRYYmlNSwWI5hBw1HW299LSh+BdlkHtlgdanAO+hRZBHSuhe8j+xu8YNS3epa1SeG2TpekqVo3/QMzGDDBmv9JdwTgbktjYIrmFgn6mveHG2+oiXX15sB1o6K21CXxQiYiSVcWay+uJ3W3t07QTcvGt38kPAPoJNnSKdPJMe4K/Vnafgi7Bba7RPUmF6Fwqbdyuo0Fr9fz5xRwW5fodqjeatQDLD/2sxM7BEYKGRyrhT9G2ivtrrd0jeZK1JT9Iv3DpGY8F2LBG2/wJ6SNcYh7g8eqrI5tLq2TbyBaJ8DWfvIneXJMyhxhqjyd4NxcgMYZNCSLL/Fw==\"/>\n",
       " </form>\n",
       " </div>\n",
       " </div>,\n",
       " <div class=\"main-content\">\n",
       " <h1 class=\"zone-name-title h1\">\n",
       " <img class=\"heading-favicon\" onerror=\"this.onerror=null;this.parentNode.removeChild(this)\" src=\"/favicon.ico\"/>\n",
       "             www.masterofmalt.com\n",
       "         </h1>\n",
       " <h2 class=\"h2\" id=\"cf-challenge-running\">\n",
       "             Checking if the site connection is secure\n",
       "         </h2>\n",
       " <noscript>\n",
       " <div id=\"cf-challenge-error-title\">\n",
       " <div class=\"h2\">\n",
       " <span class=\"icon-wrapper\">\n",
       " <div class=\"heading-icon warning-icon\"></div>\n",
       " </span>\n",
       " <span id=\"cf-challenge-error-text\">\n",
       "                         Enable JavaScript and cookies to continue\n",
       "                     </span>\n",
       " </div>\n",
       " </div>\n",
       " </noscript>\n",
       " <div id=\"trk_jschal_js\" style=\"display:none;background-image:url('/cdn-cgi/images/trace/managed/nojs/transparent.gif?ray=73cc7832acad195d')\"></div>\n",
       " <div class=\"core-msg spacer\" id=\"cf-challenge-body-text\">\n",
       "             www.masterofmalt.com needs to review the security of your connection before\n",
       "             proceeding.\n",
       "         </div>\n",
       " <form action=\"/whiskies/edradour-10-year-old-whisky/?srh=1&amp;__cf_chl_f_tk=tJMZFQ57tF8caHkQwp5BdyvxkRUwU6vCqpbtAuxl6sY-1660844792-0-gaNycGzNBz0\" enctype=\"application/x-www-form-urlencoded\" id=\"challenge-form\" method=\"POST\">\n",
       " <input name=\"md\" type=\"hidden\" value=\"26W.P66E0DwSEtQfRAQhZm1h7j2GbRzM1_lUXx0zfdc-1660844792-0-ATuA6pQaKIzpz3qWjdQ3Q2pCCTn4y0GX0eQGIOikFVv4uiCDgVa5pquHxGyzWYDZf8urV2XsGJLVE9oYtFA-tpiRCcm45PTzb55ndUoliIt6IiJQqhfc8reuGbyYpG1IeJK1YOnBBfYM0znXF6TsjoPQxzVYdZSUtFVaft_FqIJLNGsDZKhRkfYvaF9epBtQhCz41r2TKsAJjbQXNQGXPgHo2vxbMB5jzXbh-vFeHuLgsK8lNC7Z3aArsVhern5VOtjZJImKA0MX44iV_JM1LGwpuUNH56nsI_Na1Mt6p89g-IUf-xJlV_ZPzFhsociUtcpmOAHJuBHkWGOlOsrAyaSqV9QlHo57_NqwEJ5JDmD7m2FRfQN1t4enwZT2U5LoAnpdhbrsyTRFU2giZHvl7duLUwLweQPpm0GDrNKrTQVA1KrUT5M8xaCntzS7PQhVicYbwRio9theuyGlkwvKXFItRrJRLl-1BgUwCesif8WKOtuXmhNj_YarQ4xiUNLX59Gawgb0X6eLZIONSwNfpdvnQzz3OYwhBQlxNnMNQ-Qunp_n2AVPLLdmnJ23xfaglGllIAhFmwFrondJGP2UE0Bg4KgF5k6230drn9u5N72aVo4YADVNlvLSCa66vosInJmxLm6B-a8iLV8Yieh2SdfCEPn9_rh3PQq70ArVPuZ6KOWgTXrGGZXHHys6BhDun9WkYAc1dx1yIRN-THALDhY7Ypi6mIPP5i0C8tw8g8i8rZPrOXVEw9I4iGX13_GrDT6nIa2_8WkYus0AvT9L9JDwb8qIAIrqcoFepip-SUiv\"/>\n",
       " <input name=\"r\" type=\"hidden\" value=\"T.1nwwAYdaaFcukXDEGOOhJWTvFvpN10WPGgcSynGB0-1660844792-0-AdbS6xM8f4VQHBMXOtmS5iyByW3GhpgwKDGpp1OJctCqZEQBn+h1Ji+XwE8GHaX0yVwVU6SDug7uyF5yN5A3neJNxSfc6Z/w1qqjjPnPtoE0gu4RFkXS1y6svwzMOBTSRhwy3Zhyzc0yarNL3zlA0bQWIcKKb30YSB0zRwOI09b8s6QXFgZRcirXPURVZBL2CHfXJtzFu0WYsLHJCZV5zkPL18jz7nDbrwmV7MxSw5yXdaIikK5crLfybEKa52dNwc9LtF8Lq+n/zVxaEacixPNtivNmvyAn6jiHnhcnCKkRV2g154sXGSKHLpLXVA9dla/rvGgZrUBAuRhrpOPYqmiITp66VhT8dTvwHnsgFBUFH1yHIzYw5aDTnJGp+DoTskwuoDFtXl7QzhJm/alC33M5rckxEZCLaUkj5mW5WYiIIMvW3OjLX/6zTZ1e5PRa9yugeT7RUi5H8mn06qOzjLOqdI0b7eFAo8HLsb8jWMlDJByKnzIMGAIWySK70f7U/P5Q2cnSEsOBRh0P69InrkTMDOBv5485yONo05qHGYlBo/ZPnvEHQg1SrTQpGycRUE5vJnZqLjuZwJyokD/Nuvi8h43v3d35RwfJSOu2EHaAmWdskw4chFGftnic1OhWA0jhuhu7aCwflGGRQePcMOBqiEtJ/bj2n9pfLK+O3tI2skT8irMfBzUh+OyrKZgGZayYe2aNra6k3UeAmPZ3pu/sCksfr89AeM3xEn94yyl+NSrf05IAZGSXmkud+loci1ddmZHUj1aKuIhHnN0KebNpWM4qpPEHqMH0s0I7iQ48vt4paNlKdbXfAzEEYWu0CKMOVrD4ZEoFGrUEBMIdv3MHpUkE/TBN1vuhkOX8voGZqINWqmEPA+v0dBfyoffq+kr0/kI52NVPoI8wxLzzl4Ov8FSBPeVlIHMbcO706JIZms/n8MJbA29O1arX8dKqlXVVaAljA6moUVgQrst9HWuSon3Y7lx0e5IcYFstNIiOGSdK7+GhAygYF6Qn8iHsBqIMGMci6+wNQSidbN0WJrXF3qOWNHlJZx1qKcKS4XHN9US1pI1FXxMJfedOW3ak+eqbPJ4syPiolLKpCxVQHW2eM3XPKCgmpOUsM7JbFVMtX2HfcbkBvyMf+Uv0ry58eoZ1o1ZP3Fjp/SuLQjOQkM9SQoIvD6+KaGY61sv6pKHpwuonJhZ8Tpaknnmaw85iPiQUEE1hFGVX/9p1auXnHpDHmaA6/KXn74z7nfrUmlzzUYQPr7dg99DQw8hypHiWjFHSPv7YkUQqQcII6lf+zULu0SFNBI0CIVzextnraOvmMYON9VWq2LIiFT2yOT4PAAx2uYIf5xFcGd/gZ2Fxj/aS8O6Jrec8qqbbKFK8kGorfaRQqWiWqEaPEGU+cwq+dlRvuYZAT4yOalkf65fPwAGJxqJ/MZYnXoshhnl4mYDwAaITrFmjR4wBlRYYmlNSwWI5hBw1HW299LSh+BdlkHtlgdanAO+hRZBHSuhe8j+xu8YNS3epa1SeG2TpekqVo3/QMzGDDBmv9JdwTgbktjYIrmFgn6mveHG2+oiXX15sB1o6K21CXxQiYiSVcWay+uJ3W3t07QTcvGt38kPAPoJNnSKdPJMe4K/Vnafgi7Bba7RPUmF6Fwqbdyuo0Fr9fz5xRwW5fodqjeatQDLD/2sxM7BEYKGRyrhT9G2ivtrrd0jeZK1JT9Iv3DpGY8F2LBG2/wJ6SNcYh7g8eqrI5tLq2TbyBaJ8DWfvIneXJMyhxhqjyd4NxcgMYZNCSLL/Fw==\"/>\n",
       " </form>\n",
       " </div>,\n",
       " <div id=\"cf-challenge-error-title\">\n",
       " <div class=\"h2\">\n",
       " <span class=\"icon-wrapper\">\n",
       " <div class=\"heading-icon warning-icon\"></div>\n",
       " </span>\n",
       " <span id=\"cf-challenge-error-text\">\n",
       "                         Enable JavaScript and cookies to continue\n",
       "                     </span>\n",
       " </div>\n",
       " </div>,\n",
       " <div class=\"h2\">\n",
       " <span class=\"icon-wrapper\">\n",
       " <div class=\"heading-icon warning-icon\"></div>\n",
       " </span>\n",
       " <span id=\"cf-challenge-error-text\">\n",
       "                         Enable JavaScript and cookies to continue\n",
       "                     </span>\n",
       " </div>,\n",
       " <div class=\"heading-icon warning-icon\"></div>,\n",
       " <div id=\"trk_jschal_js\" style=\"display:none;background-image:url('/cdn-cgi/images/trace/managed/nojs/transparent.gif?ray=73cc7832acad195d')\"></div>,\n",
       " <div class=\"core-msg spacer\" id=\"cf-challenge-body-text\">\n",
       "             www.masterofmalt.com needs to review the security of your connection before\n",
       "             proceeding.\n",
       "         </div>,\n",
       " <div class=\"footer\" role=\"contentinfo\">\n",
       " <div class=\"footer-inner\">\n",
       " <div class=\"clearfix diagnostic-wrapper\">\n",
       " <div class=\"ray-id\">Ray ID: <code>73cc7832acad195d</code></div>\n",
       " </div>\n",
       " <div class=\"text-center\">\n",
       "                 Performance &amp; security by\n",
       "                 <a href=\"https://www.cloudflare.com?utm_source=challenge&amp;utm_campaign=m\" rel=\"noopener noreferrer\" target=\"_blank\">Cloudflare</a>\n",
       " </div>\n",
       " </div>\n",
       " </div>,\n",
       " <div class=\"footer-inner\">\n",
       " <div class=\"clearfix diagnostic-wrapper\">\n",
       " <div class=\"ray-id\">Ray ID: <code>73cc7832acad195d</code></div>\n",
       " </div>\n",
       " <div class=\"text-center\">\n",
       "                 Performance &amp; security by\n",
       "                 <a href=\"https://www.cloudflare.com?utm_source=challenge&amp;utm_campaign=m\" rel=\"noopener noreferrer\" target=\"_blank\">Cloudflare</a>\n",
       " </div>\n",
       " </div>,\n",
       " <div class=\"clearfix diagnostic-wrapper\">\n",
       " <div class=\"ray-id\">Ray ID: <code>73cc7832acad195d</code></div>\n",
       " </div>,\n",
       " <div class=\"ray-id\">Ray ID: <code>73cc7832acad195d</code></div>,\n",
       " <div class=\"text-center\">\n",
       "                 Performance &amp; security by\n",
       "                 <a href=\"https://www.cloudflare.com?utm_source=challenge&amp;utm_campaign=m\" rel=\"noopener noreferrer\" target=\"_blank\">Cloudflare</a>\n",
       " </div>]"
      ]
     },
     "execution_count": 81,
     "metadata": {},
     "output_type": "execute_result"
    }
   ],
   "source": [
    "body_content.find_all('div')"
   ]
  },
  {
   "cell_type": "code",
   "execution_count": 82,
   "metadata": {
    "scrolled": true,
    "slideshow": {
     "slide_type": "subslide"
    }
   },
   "outputs": [
    {
     "ename": "IndexError",
     "evalue": "list index out of range",
     "output_type": "error",
     "traceback": [
      "\u001b[0;31m---------------------------------------------------------------------------\u001b[0m",
      "\u001b[0;31mIndexError\u001b[0m                                Traceback (most recent call last)",
      "\u001b[0;32m<ipython-input-82-ec0a64d3ba2e>\u001b[0m in \u001b[0;36m<module>\u001b[0;34m\u001b[0m\n\u001b[0;32m----> 1\u001b[0;31m \u001b[0mdetails\u001b[0m \u001b[0;34m=\u001b[0m \u001b[0medrad_soup\u001b[0m\u001b[0;34m.\u001b[0m\u001b[0mfind_all\u001b[0m\u001b[0;34m(\u001b[0m\u001b[0;34m'div'\u001b[0m\u001b[0;34m,\u001b[0m \u001b[0mid\u001b[0m\u001b[0;34m=\u001b[0m\u001b[0;34m\"whiskyDetailsWrapper\"\u001b[0m\u001b[0;34m)\u001b[0m\u001b[0;34m[\u001b[0m\u001b[0;36m0\u001b[0m\u001b[0;34m]\u001b[0m\u001b[0;34m\u001b[0m\u001b[0;34m\u001b[0m\u001b[0m\n\u001b[0m\u001b[1;32m      2\u001b[0m \u001b[0mdetails\u001b[0m\u001b[0;34m\u001b[0m\u001b[0;34m\u001b[0m\u001b[0m\n",
      "\u001b[0;31mIndexError\u001b[0m: list index out of range"
     ]
    }
   ],
   "source": [
    "details = edrad_soup.find_all('div', id=\"whiskyDetailsWrapper\")[0]\n",
    "details"
   ]
  },
  {
   "cell_type": "code",
   "execution_count": 75,
   "metadata": {
    "slideshow": {
     "slide_type": "subslide"
    }
   },
   "outputs": [
    {
     "ename": "AttributeError",
     "evalue": "ResultSet object has no attribute 'find_all'. You're probably treating a list of elements like a single element. Did you call find_all() when you meant to call find()?",
     "output_type": "error",
     "traceback": [
      "\u001b[0;31m---------------------------------------------------------------------------\u001b[0m",
      "\u001b[0;31mAttributeError\u001b[0m                            Traceback (most recent call last)",
      "\u001b[0;32m<ipython-input-75-af3dec24dc9d>\u001b[0m in \u001b[0;36m<module>\u001b[0;34m\u001b[0m\n\u001b[0;32m----> 1\u001b[0;31m \u001b[0mdetail_keys\u001b[0m \u001b[0;34m=\u001b[0m \u001b[0mdetails\u001b[0m\u001b[0;34m.\u001b[0m\u001b[0mfind_all\u001b[0m\u001b[0;34m(\u001b[0m\u001b[0;34m'span'\u001b[0m\u001b[0;34m,\u001b[0m \u001b[0mclass_\u001b[0m \u001b[0;34m=\u001b[0m \u001b[0;34m\"kv-key gold\"\u001b[0m\u001b[0;34m)\u001b[0m\u001b[0;34m\u001b[0m\u001b[0;34m\u001b[0m\u001b[0m\n\u001b[0m",
      "\u001b[0;32m~/opt/anaconda3/envs/learn-env/lib/python3.8/site-packages/bs4/element.py\u001b[0m in \u001b[0;36m__getattr__\u001b[0;34m(self, key)\u001b[0m\n\u001b[1;32m   2171\u001b[0m     \u001b[0;32mdef\u001b[0m \u001b[0m__getattr__\u001b[0m\u001b[0;34m(\u001b[0m\u001b[0mself\u001b[0m\u001b[0;34m,\u001b[0m \u001b[0mkey\u001b[0m\u001b[0;34m)\u001b[0m\u001b[0;34m:\u001b[0m\u001b[0;34m\u001b[0m\u001b[0;34m\u001b[0m\u001b[0m\n\u001b[1;32m   2172\u001b[0m         \u001b[0;34m\"\"\"Raise a helpful exception to explain a common code fix.\"\"\"\u001b[0m\u001b[0;34m\u001b[0m\u001b[0;34m\u001b[0m\u001b[0m\n\u001b[0;32m-> 2173\u001b[0;31m         raise AttributeError(\n\u001b[0m\u001b[1;32m   2174\u001b[0m             \u001b[0;34m\"ResultSet object has no attribute '%s'. You're probably treating a list of elements like a single element. Did you call find_all() when you meant to call find()?\"\u001b[0m \u001b[0;34m%\u001b[0m \u001b[0mkey\u001b[0m\u001b[0;34m\u001b[0m\u001b[0;34m\u001b[0m\u001b[0m\n\u001b[1;32m   2175\u001b[0m         )\n",
      "\u001b[0;31mAttributeError\u001b[0m: ResultSet object has no attribute 'find_all'. You're probably treating a list of elements like a single element. Did you call find_all() when you meant to call find()?"
     ]
    }
   ],
   "source": [
    "detail_keys = details.find_all('span', class_ = \"kv-key gold\")"
   ]
  },
  {
   "cell_type": "code",
   "execution_count": 76,
   "metadata": {
    "slideshow": {
     "slide_type": "fragment"
    }
   },
   "outputs": [
    {
     "ename": "NameError",
     "evalue": "name 'detail_keys' is not defined",
     "output_type": "error",
     "traceback": [
      "\u001b[0;31m---------------------------------------------------------------------------\u001b[0m",
      "\u001b[0;31mNameError\u001b[0m                                 Traceback (most recent call last)",
      "\u001b[0;32m<ipython-input-76-58ca1c44d851>\u001b[0m in \u001b[0;36m<module>\u001b[0;34m\u001b[0m\n\u001b[0;32m----> 1\u001b[0;31m \u001b[0mdetail_keys\u001b[0m\u001b[0;34m\u001b[0m\u001b[0;34m\u001b[0m\u001b[0m\n\u001b[0m",
      "\u001b[0;31mNameError\u001b[0m: name 'detail_keys' is not defined"
     ]
    }
   ],
   "source": [
    "detail_keys"
   ]
  },
  {
   "cell_type": "code",
   "execution_count": 263,
   "metadata": {
    "slideshow": {
     "slide_type": "subslide"
    }
   },
   "outputs": [],
   "source": [
    "detail_values = details.find_all('span', class_ = \"kv-val\")"
   ]
  },
  {
   "cell_type": "code",
   "execution_count": 264,
   "metadata": {
    "slideshow": {
     "slide_type": "fragment"
    }
   },
   "outputs": [
    {
     "data": {
      "text/plain": [
       "[<span class=\"kv-val\"><a href=\"https://www.masterofmalt.com/country/scotch-whisky/\">Scotch Whisky</a></span>,\n",
       " <span class=\"kv-val\"><a href=\"https://www.masterofmalt.com/region/highland-whisky/\">Highland Whisky</a></span>,\n",
       " <span class=\"kv-val\" itemprop=\"brand\"><a href=\"https://www.masterofmalt.com/distilleries/edradour-whisky-distillery/\">Edradour</a></span>,\n",
       " <span class=\"kv-val\" itemprop=\"manufacturer\">Edradour</span>,\n",
       " <span class=\"kv-val\"><a href=\"https://www.masterofmalt.com/age/10-year-old/\">10 year old Whisky</a></span>,\n",
       " <span class=\"kv-val\"><a href=\"https://www.masterofmalt.com/style/single-malt-whisky/\">Single Malt Whisky</a></span>,\n",
       " <span class=\"kv-val\">40.0%</span>,\n",
       " <span class=\"kv-val\">70cl</span>]"
      ]
     },
     "execution_count": 264,
     "metadata": {},
     "output_type": "execute_result"
    }
   ],
   "source": [
    "detail_values"
   ]
  },
  {
   "cell_type": "code",
   "execution_count": 265,
   "metadata": {
    "cell_style": "split",
    "slideshow": {
     "slide_type": "slide"
    }
   },
   "outputs": [],
   "source": [
    "data_dict = {}\n",
    "for key,val in zip(detail_keys, detail_values):\n",
    "    data_dict[key.text] = val.text\n",
    "    "
   ]
  },
  {
   "cell_type": "code",
   "execution_count": 266,
   "metadata": {
    "cell_style": "split",
    "slideshow": {
     "slide_type": "fragment"
    }
   },
   "outputs": [
    {
     "data": {
      "text/plain": [
       "{'Country': 'Scotch Whisky',\n",
       " 'Region': 'Highland Whisky',\n",
       " 'Distillery / Brand': 'Edradour',\n",
       " 'Bottler': 'Edradour',\n",
       " 'Age': '10 year old Whisky',\n",
       " 'Style': 'Single Malt Whisky',\n",
       " 'Alcohol': '40.0%',\n",
       " 'Volume': '70cl'}"
      ]
     },
     "execution_count": 266,
     "metadata": {},
     "output_type": "execute_result"
    }
   ],
   "source": [
    "data_dict"
   ]
  },
  {
   "cell_type": "code",
   "execution_count": 267,
   "metadata": {},
   "outputs": [
    {
     "data": {
      "text/plain": [
       "<div id=\"ContentPlaceHolder1_ctl00_ctl02_TastingNoteBox_ctl00_breakDownTastingNote\">\n",
       "<p class=\"pageCopy\" id=\"ContentPlaceHolder1_ctl00_ctl02_TastingNoteBox_ctl00_noseTastingNote\"><b>Nose:</b> Medium, great complexity. Thoroughly fruity, sherry, sweetness, alluring vanilla.</p>\n",
       "<p class=\"pageCopy\" id=\"ContentPlaceHolder1_ctl00_ctl02_TastingNoteBox_ctl00_palateTastingNote\"><b>Palate:</b> Cloying, seductive murkiness. Rum, barley, toasted almonds. Some may find themselves lost in the mÃªlÃ©e, not quite enough method to the madness.</p>\n",
       "<p class=\"pageCopy\" id=\"ContentPlaceHolder1_ctl00_ctl02_TastingNoteBox_ctl00_finishTastingNote\"><b>Finish:</b> Any confusion is arrested: spiced fruitcake with crÃ¨me anglaise.</p>\n",
       "<p class=\"pageCopy\" id=\"ContentPlaceHolder1_ctl00_ctl02_TastingNoteBox_ctl00_overallTastingNote\"><b>Overall:</b> An unusual malt.</p>\n",
       "</div>"
      ]
     },
     "execution_count": 267,
     "metadata": {},
     "output_type": "execute_result"
    }
   ],
   "source": [
    "tasting_note_div = edrad_soup.find_all(\"div\", \n",
    "                                       id = \"ContentPlaceHolder1_ctl00_ctl02_TastingNoteBox_ctl00_breakDownTastingNote\")[0]\n",
    "\n",
    "tasting_note_div"
   ]
  },
  {
   "cell_type": "code",
   "execution_count": 268,
   "metadata": {
    "slideshow": {
     "slide_type": "slide"
    }
   },
   "outputs": [],
   "source": [
    "tasting_dict = { note.text.split(':')[0]:note.text.split(':')[1] for note in tasting_note_div.find_all('p') }\n",
    "data_dict.update(tasting_dict)"
   ]
  },
  {
   "cell_type": "code",
   "execution_count": 269,
   "metadata": {
    "slideshow": {
     "slide_type": "subslide"
    }
   },
   "outputs": [
    {
     "data": {
      "text/plain": [
       "{'Country': 'Scotch Whisky',\n",
       " 'Region': 'Highland Whisky',\n",
       " 'Distillery / Brand': 'Edradour',\n",
       " 'Bottler': 'Edradour',\n",
       " 'Age': '10 year old Whisky',\n",
       " 'Style': 'Single Malt Whisky',\n",
       " 'Alcohol': '40.0%',\n",
       " 'Volume': '70cl',\n",
       " 'Nose': ' Medium, great complexity. Thoroughly fruity, sherry, sweetness, alluring vanilla.',\n",
       " 'Palate': ' Cloying, seductive murkiness. Rum, barley, toasted almonds. Some may find themselves lost in the mÃªlÃ©e, not quite enough method to the madness.',\n",
       " 'Finish': ' Any confusion is arrested',\n",
       " 'Overall': ' An unusual malt.'}"
      ]
     },
     "execution_count": 269,
     "metadata": {},
     "output_type": "execute_result"
    }
   ],
   "source": [
    "data_dict"
   ]
  },
  {
   "cell_type": "markdown",
   "metadata": {
    "slideshow": {
     "slide_type": "slide"
    }
   },
   "source": [
    "We have started wrangling data from an actual website.\n",
    "\n",
    "Now we might want to do this for many whiskies on this site:\n",
    "\n",
    "- How might we start doing this?\n",
    "- Any ideas?"
   ]
  },
  {
   "cell_type": "markdown",
   "metadata": {
    "slideshow": {
     "slide_type": "subslide"
    }
   },
   "source": [
    "When each product site has same tagging structure:\n",
    "\n",
    "- Build function that extracts data like we did.\n",
    "- Loop through each product.\n",
    "- Apply function to each product to scrape data."
   ]
  }
 ],
 "metadata": {
  "celltoolbar": "Slideshow",
  "kernelspec": {
   "display_name": "Python 3",
   "language": "python",
   "name": "python3"
  },
  "language_info": {
   "codemirror_mode": {
    "name": "ipython",
    "version": 3
   },
   "file_extension": ".py",
   "mimetype": "text/x-python",
   "name": "python",
   "nbconvert_exporter": "python",
   "pygments_lexer": "ipython3",
   "version": "3.8.5"
  }
 },
 "nbformat": 4,
 "nbformat_minor": 5
}
