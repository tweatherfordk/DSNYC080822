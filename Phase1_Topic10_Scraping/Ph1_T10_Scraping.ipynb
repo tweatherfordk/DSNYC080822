{
 "cells": [
  {
   "cell_type": "markdown",
   "metadata": {
    "slideshow": {
     "slide_type": "slide"
    }
   },
   "source": [
    "<div style=\"color:white;\n",
    "           display:fill;\n",
    "           border-radius:5px;\n",
    "           background-color:#5642C5;\n",
    "           font-size:200%;\n",
    "           font-\\amily:Arial;letter-spacing:0.5px\">\n",
    "\n",
    "<p width = 20%, style=\"padding: 10px;\n",
    "              color:white;\">\n",
    "Web Scraping\n",
    "              \n",
    "</p>\n",
    "</div>\n",
    "\n",
    "Data Science Cohort Live NYC Feb 2022\n",
    "<p>Phase 1: Topic 10</p>\n",
    "<br>\n",
    "<br>\n",
    "\n",
    "<div align = \"right\">\n",
    "<img src=\"Images/flatiron-school-logo.png\" align = \"right\" width=\"200\"/>\n",
    "</div>\n",
    "    \n",
    "   "
   ]
  },
  {
   "cell_type": "markdown",
   "metadata": {
    "slideshow": {
     "slide_type": "slide"
    }
   },
   "source": [
    "Previously:\n",
    "    \n",
    "- Accessed data via API\n",
    "\n",
    "Sometimes no programmatic access to data!\n",
    "- No API exists\n",
    "- No SQL server to interact with.\n",
    "- No csv files to download."
   ]
  },
  {
   "cell_type": "markdown",
   "metadata": {
    "slideshow": {
     "slide_type": "slide"
    }
   },
   "source": [
    "Many ecommerce sites: no APIs or databases to interact with.\n",
    "<br>\n",
    "<br>\n",
    "\n",
    "<div>\n",
    "<center><img src=\"Images/prod_page.png\" width=\"600\"/></center>\n",
    "</div>\n",
    "<center> Master of Malt</center>\n",
    "   "
   ]
  },
  {
   "cell_type": "markdown",
   "metadata": {
    "slideshow": {
     "slide_type": "subslide"
    }
   },
   "source": [
    "<div>\n",
    "<center><img src=\"Images/ardbeg_page.png\" width=\"700\"/></center>\n",
    "</div>   "
   ]
  },
  {
   "cell_type": "markdown",
   "id": "e1e8351d",
   "metadata": {
    "slideshow": {
     "slide_type": "subslide"
    }
   },
   "source": [
    "There is data on the page\n",
    "<div>\n",
    "<center><img src=\"Images/ardbeg_tast_nt.png\" width=\"600\"/></center>\n",
    "</div>   "
   ]
  },
  {
   "cell_type": "markdown",
   "metadata": {
    "slideshow": {
     "slide_type": "slide"
    }
   },
   "source": [
    "Find the data is in the web site source code...\n",
    "<div>\n",
    "<center><img src=\"Images/source_whiskex.png\" width=\"1800\"/></center>\n",
    "</div>\n",
    "    <center> Data embedded within a soup of HTML tags </center>   "
   ]
  },
  {
   "cell_type": "markdown",
   "metadata": {
    "slideshow": {
     "slide_type": "slide"
    }
   },
   "source": [
    "Let's take a look at a very simple sample web site."
   ]
  },
  {
   "cell_type": "markdown",
   "metadata": {
    "slideshow": {
     "slide_type": "slide"
    }
   },
   "source": [
    "#### HyperText Markup Language (HTML)\n",
    "\n",
    "Tells a browser how to layout content.\n",
    "\n",
    "- Consists of elements called tags. \n",
    "- The most basic tag is the html tag: specfies everything inside of opening/closing tags is HTML. \n",
    "\n",
    "Take a look at an example website.\n"
   ]
  },
  {
   "cell_type": "markdown",
   "metadata": {
    "slideshow": {
     "slide_type": "slide"
    }
   },
   "source": [
    "| Tag | Function | \n",
    "| --- | --- |\n",
    "| html | Denotes extent of HTML document |\n",
    "| head | External style sheet definition, metadata, titles |\n",
    "| title | Web page title |\n",
    "| body | Specifies main web page content block |\n",
    "| h1-h6 | Section heading (ordered by decreasing size)|\n",
    "| p | Represents paragraph |\n",
    "| div | Defines division or section of document |\n",
    "| span | Meant for inline or small selection  |\n",
    "| img | Signifies image and defines source |\n",
    "| a | Linking to external sites or internal events  |\n",
    "| ul | Declare unordered (bulleted) list |\n",
    "| li | List item |"
   ]
  },
  {
   "cell_type": "markdown",
   "metadata": {
    "slideshow": {
     "slide_type": "slide"
    }
   },
   "source": [
    "#### CSS (Cascading Style Sheets)\n",
    "\n",
    "- Uses class and id modifiers on tag.\n",
    "- Styling:\n",
    "    - Color\n",
    "    - Font\n",
    "    - Spacing,\n",
    "    - etc.\n",
    "- Can use external sheet for styling\n",
    "- Separate content and styling."
   ]
  },
  {
   "cell_type": "markdown",
   "metadata": {
    "slideshow": {
     "slide_type": "slide"
    }
   },
   "source": [
    "#### Structure of tag levels\n",
    "- HTML document structured as tree structure:\n",
    "<br>\n",
    "<br>\n",
    "<div>\n",
    "    <center><img src=\"Images/html_tree.png\" width=\"500\"/></center>\n",
    "</div>"
   ]
  },
  {
   "cell_type": "markdown",
   "metadata": {
    "slideshow": {
     "slide_type": "slide"
    }
   },
   "source": [
    "#### Goal\n",
    "Extract information structured by tags.\n",
    "\n",
    "- Get HTML documents as text.\n",
    "- Parse tags and extract data."
   ]
  },
  {
   "cell_type": "markdown",
   "metadata": {
    "slideshow": {
     "slide_type": "slide"
    }
   },
   "source": [
    "#### Web scraping frameworks\n",
    "\n",
    "<div>\n",
    "    <center><img src=\"Images/scrapy.png\" width=\"180\"/></center>\n",
    "</div>\n",
    "<div>\n",
    "<center><img src=\"Images/selenium.png\" width=\"300\"/></center>\n",
    "</div>\n",
    "<div>\n",
    "<center><img src=\"Images/bs4.png\" width=\"300\"/></center>\n",
    "</div>"
   ]
  },
  {
   "cell_type": "markdown",
   "metadata": {
    "cell_style": "split",
    "slideshow": {
     "slide_type": "slide"
    }
   },
   "source": [
    "We will use:\n",
    "\n",
    "<div>\n",
    "<center><img src=\"Images/bs4.png\" width=\"400\"/></center>\n",
    "</div>"
   ]
  },
  {
   "cell_type": "markdown",
   "metadata": {
    "cell_style": "split",
    "slideshow": {
     "slide_type": "-"
    }
   },
   "source": [
    "<div>\n",
    "<center><img src=\"Images/requests.png\" width=\"300\"/></center>\n",
    "</div>"
   ]
  },
  {
   "cell_type": "markdown",
   "metadata": {
    "slideshow": {
     "slide_type": "fragment"
    }
   },
   "source": [
    "- **Requests**: grab the HTML content as text.\n",
    "- **BeautifulSoup**: parse the content and extract data."
   ]
  },
  {
   "cell_type": "code",
<<<<<<< HEAD
   "execution_count": 6,
=======
   "execution_count": 2,
   "id": "84456aa9",
>>>>>>> 391e1cfc4f1f39e72d0f17845d5775aa0d6debea
   "metadata": {
    "slideshow": {
     "slide_type": "slide"
    }
   },
   "outputs": [],
   "source": [
    "# import requests\n",
    "import requests"
   ]
  },
  {
   "cell_type": "markdown",
   "metadata": {
    "slideshow": {
     "slide_type": "slide"
    }
   },
   "source": [
    "Make requests on a simple webpage:"
   ]
  },
  {
   "cell_type": "code",
<<<<<<< HEAD
   "execution_count": 7,
=======
   "execution_count": 3,
   "id": "c3721af9",
>>>>>>> 391e1cfc4f1f39e72d0f17845d5775aa0d6debea
   "metadata": {
    "slideshow": {
     "slide_type": "fragment"
    }
   },
   "outputs": [],
   "source": [
    "sample_url = \"http://dataquestio.github.io/web-scraping-pages/simple.html\"\n",
    "r = requests.get(sample_url)"
   ]
  },
  {
   "cell_type": "markdown",
   "metadata": {
    "slideshow": {
     "slide_type": "slide"
    }
   },
   "source": [
    "Let's get the content:\n",
    "- like .text attribute\n",
    "- returns in byte representation."
   ]
  },
  {
   "cell_type": "code",
<<<<<<< HEAD
   "execution_count": 8,
=======
   "execution_count": 4,
   "id": "b6da87d5",
>>>>>>> 391e1cfc4f1f39e72d0f17845d5775aa0d6debea
   "metadata": {
    "slideshow": {
     "slide_type": "fragment"
    }
   },
   "outputs": [
    {
     "data": {
      "text/plain": [
       "b'<!DOCTYPE html>\\n<html>\\n    <head>\\n        <title>A simple example page</title>\\n    </head>\\n    <body>\\n        <p>Here is some simple content for this page.</p>\\n    </body>\\n</html>'"
      ]
     },
<<<<<<< HEAD
     "execution_count": 8,
=======
     "execution_count": 4,
>>>>>>> 391e1cfc4f1f39e72d0f17845d5775aa0d6debea
     "metadata": {},
     "output_type": "execute_result"
    }
   ],
   "source": [
    "req_content = r.content\n",
    "req_content "
   ]
  },
  {
   "cell_type": "markdown",
   "metadata": {
    "slideshow": {
     "slide_type": "slide"
    }
   },
   "source": [
    "- Pretty ugly.\n",
    "- Parse and get relevant data:\n",
    "    - Want to use HTML tree structure.\n",
    "    - Class and id structure.\n",
    "    \n",
    "BeautifulSoup helps us with this:"
   ]
  },
  {
   "cell_type": "code",
<<<<<<< HEAD
   "execution_count": 9,
=======
   "execution_count": 5,
   "id": "54c74c0b",
>>>>>>> 391e1cfc4f1f39e72d0f17845d5775aa0d6debea
   "metadata": {
    "slideshow": {
     "slide_type": "slide"
    }
   },
   "outputs": [],
   "source": [
    "from bs4 import BeautifulSoup"
   ]
  },
  {
   "cell_type": "markdown",
   "metadata": {
    "slideshow": {
     "slide_type": "fragment"
    }
   },
   "source": [
    "Create Soup object with web site content as input."
   ]
  },
  {
   "cell_type": "code",
<<<<<<< HEAD
   "execution_count": 10,
=======
   "execution_count": 6,
   "id": "90b1b4f4",
>>>>>>> 391e1cfc4f1f39e72d0f17845d5775aa0d6debea
   "metadata": {
    "scrolled": false,
    "slideshow": {
     "slide_type": "fragment"
    }
   },
   "outputs": [],
   "source": [
    "soup = BeautifulSoup(req_content, 'html.parser') "
   ]
  },
  {
   "cell_type": "code",
<<<<<<< HEAD
   "execution_count": 11,
   "metadata": {},
   "outputs": [
    {
     "data": {
      "text/plain": [
       "bs4.BeautifulSoup"
      ]
     },
     "execution_count": 11,
     "metadata": {},
     "output_type": "execute_result"
    }
   ],
   "source": [
    "type(soup)"
   ]
  },
  {
   "cell_type": "code",
   "execution_count": 12,
=======
   "execution_count": 7,
   "id": "6400ae9f",
>>>>>>> 391e1cfc4f1f39e72d0f17845d5775aa0d6debea
   "metadata": {
    "slideshow": {
     "slide_type": "subslide"
    }
   },
   "outputs": [
    {
     "name": "stdout",
     "output_type": "stream",
     "text": [
      "<!DOCTYPE html>\n",
      "<html>\n",
      " <head>\n",
      "  <title>\n",
      "   A simple example page\n",
      "  </title>\n",
      " </head>\n",
      " <body>\n",
      "  <p>\n",
      "   Here is some simple content for this page.\n",
      "  </p>\n",
      " </body>\n",
      "</html>\n"
     ]
    }
   ],
   "source": [
    "print(soup.prettify())"
   ]
  },
  {
   "cell_type": "markdown",
   "metadata": {
    "slideshow": {
     "slide_type": "subslide"
    }
   },
   "source": [
    "Soup is parsing structure and hierarchy of tags and content in HTML document.\n",
    "\n",
    "Can go tranverse through tree hierarchy:"
   ]
  },
  {
   "cell_type": "markdown",
<<<<<<< HEAD
=======
   "id": "71ccb476",
>>>>>>> 391e1cfc4f1f39e72d0f17845d5775aa0d6debea
   "metadata": {
    "slideshow": {
     "slide_type": "slide"
    }
   },
   "source": [
    "#### Descending through hierarchy"
   ]
  },
  {
   "cell_type": "code",
<<<<<<< HEAD
   "execution_count": 13,
=======
   "execution_count": 8,
   "id": "c1474ca2",
>>>>>>> 391e1cfc4f1f39e72d0f17845d5775aa0d6debea
   "metadata": {
    "slideshow": {
     "slide_type": "subslide"
    }
   },
   "outputs": [
    {
     "data": {
      "text/plain": [
       "<!DOCTYPE html>\n",
       "\n",
       "<html>\n",
       "<head>\n",
       "<title>A simple example page</title>\n",
       "</head>\n",
       "<body>\n",
       "<p>Here is some simple content for this page.</p>\n",
       "</body>\n",
       "</html>"
      ]
     },
<<<<<<< HEAD
     "execution_count": 13,
=======
     "execution_count": 8,
>>>>>>> 391e1cfc4f1f39e72d0f17845d5775aa0d6debea
     "metadata": {},
     "output_type": "execute_result"
    }
   ],
   "source": [
    "soup"
   ]
  },
  {
   "cell_type": "code",
<<<<<<< HEAD
   "execution_count": 14,
=======
   "execution_count": 9,
   "id": "86d767fb",
>>>>>>> 391e1cfc4f1f39e72d0f17845d5775aa0d6debea
   "metadata": {
    "cell_style": "split",
    "slideshow": {
     "slide_type": "subslide"
    }
   },
   "outputs": [
    {
     "data": {
      "text/plain": [
       "<html>\n",
       "<head>\n",
       "<title>A simple example page</title>\n",
       "</head>\n",
       "<body>\n",
       "<p>Here is some simple content for this page.</p>\n",
       "</body>\n",
       "</html>"
      ]
     },
<<<<<<< HEAD
     "execution_count": 14,
=======
     "execution_count": 9,
>>>>>>> 391e1cfc4f1f39e72d0f17845d5775aa0d6debea
     "metadata": {},
     "output_type": "execute_result"
    }
   ],
   "source": [
    "html_level = soup.html\n",
    "html_level"
   ]
  },
  {
   "cell_type": "markdown",
<<<<<<< HEAD
=======
   "id": "18cb6de8",
   "metadata": {
    "cell_style": "split",
    "slideshow": {
     "slide_type": "fragment"
    }
   },
   "source": [
    "Tag element contains:\n",
    "- node tag\n",
    "- node contents (children nodes, text, etc.)"
   ]
  },
  {
   "cell_type": "code",
   "execution_count": 10,
   "id": "bb3674bc",
   "metadata": {
    "cell_style": "split",
    "slideshow": {
     "slide_type": "fragment"
    }
   },
   "outputs": [
    {
     "data": {
      "text/plain": [
       "bs4.element.Tag"
      ]
     },
     "execution_count": 10,
     "metadata": {},
     "output_type": "execute_result"
    }
   ],
   "source": [
    "type(html_level)"
   ]
  },
  {
   "cell_type": "markdown",
   "id": "b1806354",
   "metadata": {
    "cell_style": "center",
    "slideshow": {
     "slide_type": "slide"
    }
   },
   "source": [
    "**.name** attribute \n",
    "\n",
    "Can get the name of the node that you are at:\n",
    "- .name attribute of Soup/Tag objects    "
   ]
  },
  {
   "cell_type": "code",
   "execution_count": 11,
   "id": "e94efe51",
   "metadata": {
    "cell_style": "center",
    "slideshow": {
     "slide_type": "fragment"
    }
   },
   "outputs": [
    {
     "data": {
      "text/plain": [
       "'html'"
      ]
     },
     "execution_count": 11,
     "metadata": {},
     "output_type": "execute_result"
    }
   ],
   "source": [
    "html_level.name"
   ]
  },
  {
   "cell_type": "markdown",
   "id": "3897b93f",
>>>>>>> 391e1cfc4f1f39e72d0f17845d5775aa0d6debea
   "metadata": {
    "slideshow": {
     "slide_type": "slide"
    }
   },
   "source": [
    "**.contents** attribute\n",
    "\n",
    "- gets list of tag's children"
   ]
  },
  {
   "cell_type": "code",
<<<<<<< HEAD
   "execution_count": 16,
=======
   "execution_count": 12,
   "id": "86d21df4",
>>>>>>> 391e1cfc4f1f39e72d0f17845d5775aa0d6debea
   "metadata": {
    "slideshow": {
     "slide_type": "fragment"
    }
   },
   "outputs": [
    {
     "data": {
      "text/plain": [
       "['\\n',\n",
       " <head>\n",
       " <title>A simple example page</title>\n",
       " </head>,\n",
       " '\\n',\n",
       " <body>\n",
       " <p>Here is some simple content for this page.</p>\n",
       " </body>,\n",
       " '\\n']"
      ]
     },
<<<<<<< HEAD
     "execution_count": 16,
=======
     "execution_count": 12,
>>>>>>> 391e1cfc4f1f39e72d0f17845d5775aa0d6debea
     "metadata": {},
     "output_type": "execute_result"
    }
   ],
   "source": [
    "html_level.contents"
   ]
  },
  {
   "cell_type": "markdown",
<<<<<<< HEAD
=======
   "id": "dc796d9b",
>>>>>>> 391e1cfc4f1f39e72d0f17845d5775aa0d6debea
   "metadata": {
    "slideshow": {
     "slide_type": "slide"
    }
   },
   "source": [
    "**.children** attribute\n",
    "\n",
    "Can also yield the children as generator:\n",
    "- as opposed to .contents which yields entire list of children.\n",
    "- useful when creating list comprehensions off the tag's children."
   ]
  },
  {
   "cell_type": "code",
<<<<<<< HEAD
   "execution_count": 22,
=======
   "execution_count": 13,
   "id": "9f09a4eb",
>>>>>>> 391e1cfc4f1f39e72d0f17845d5775aa0d6debea
   "metadata": {
    "cell_style": "center",
    "slideshow": {
     "slide_type": "fragment"
    }
   },
   "outputs": [
    {
<<<<<<< HEAD
     "name": "stdout",
     "output_type": "stream",
     "text": [
      "\n",
      "\n",
      "<head>\n",
      "<title>A simple example page</title>\n",
      "</head>\n",
      "\n",
      "\n",
      "<body>\n",
      "<p>Here is some simple content for this page.</p>\n",
      "</body>\n",
      "\n",
      "\n",
      "<list_iterator object at 0x7fe8f2497ac0>\n"
     ]
    }
   ],
   "source": [
    "for x in html_level.children:\n",
    "    print(x)\n",
    "    \n",
    "(print(html_level.children))"
=======
     "data": {
      "text/plain": [
       "<list_iterator at 0x1c0b94d8f40>"
      ]
     },
     "execution_count": 13,
     "metadata": {},
     "output_type": "execute_result"
    }
   ],
   "source": [
    "html_level.children"
   ]
  },
  {
   "cell_type": "markdown",
   "id": "ca91b967",
   "metadata": {
    "cell_style": "split",
    "slideshow": {
     "slide_type": "slide"
    }
   },
   "source": [
    "Get the name of the tags of html's direct children:\n",
    "- need to exclude line breaks."
   ]
  },
  {
   "cell_type": "code",
   "execution_count": 14,
   "id": "2ea802f2",
   "metadata": {
    "cell_style": "split",
    "slideshow": {
     "slide_type": "fragment"
    }
   },
   "outputs": [],
   "source": [
    "children_names = \\\n",
    "[child.name for child \n",
    " in html_level.children if child != '\\n']"
   ]
  },
  {
   "cell_type": "code",
   "execution_count": 15,
   "id": "4885aa47",
   "metadata": {
    "cell_style": "split",
    "slideshow": {
     "slide_type": "fragment"
    }
   },
   "outputs": [
    {
     "data": {
      "text/plain": [
       "['head', 'body']"
      ]
     },
     "execution_count": 15,
     "metadata": {},
     "output_type": "execute_result"
    }
   ],
   "source": [
    "children_names"
>>>>>>> 391e1cfc4f1f39e72d0f17845d5775aa0d6debea
   ]
  },
  {
   "cell_type": "markdown",
   "metadata": {
    "cell_style": "split",
    "slideshow": {
     "slide_type": "slide"
    }
   },
   "source": [
    "Let's access the body child and go down the branch:\n",
    "- Can address body child as an attribute of previous level."
   ]
  },
  {
   "cell_type": "code",
<<<<<<< HEAD
   "execution_count": 29,
=======
   "execution_count": 16,
   "id": "54d736d4",
>>>>>>> 391e1cfc4f1f39e72d0f17845d5775aa0d6debea
   "metadata": {
    "cell_style": "split",
    "slideshow": {
     "slide_type": "fragment"
    }
   },
   "outputs": [
    {
     "data": {
      "text/plain": [
       "<body>\n",
       "<p>Here is some simple content for this page.</p>\n",
       "</body>"
      ]
     },
<<<<<<< HEAD
     "execution_count": 29,
=======
     "execution_count": 16,
>>>>>>> 391e1cfc4f1f39e72d0f17845d5775aa0d6debea
     "metadata": {},
     "output_type": "execute_result"
    }
   ],
   "source": [
    "body_level = html_level.body\n",
    "body_level"
   ]
  },
  {
   "cell_type": "markdown",
<<<<<<< HEAD
=======
   "id": "4fcd097b",
>>>>>>> 391e1cfc4f1f39e72d0f17845d5775aa0d6debea
   "metadata": {
    "slideshow": {
     "slide_type": "subslide"
    }
   },
   "source": [
    "There's another level left down this branch:"
   ]
  },
  {
   "cell_type": "code",
<<<<<<< HEAD
   "execution_count": 30,
=======
   "execution_count": 17,
   "id": "050fbf21",
>>>>>>> 391e1cfc4f1f39e72d0f17845d5775aa0d6debea
   "metadata": {
    "cell_style": "split",
    "slideshow": {
     "slide_type": "-"
    }
   },
   "outputs": [
    {
     "data": {
      "text/plain": [
       "<body>\n",
       "<p>Here is some simple content for this page.</p>\n",
       "</body>"
      ]
     },
<<<<<<< HEAD
     "execution_count": 30,
=======
     "execution_count": 17,
>>>>>>> 391e1cfc4f1f39e72d0f17845d5775aa0d6debea
     "metadata": {},
     "output_type": "execute_result"
    }
   ],
   "source": [
    "body_level"
   ]
  },
  {
   "cell_type": "markdown",
   "id": "95f3a897",
   "metadata": {
    "cell_style": "split",
    "slideshow": {
     "slide_type": "fragment"
    }
   },
   "source": [
    "Accessing the paragraph <p> child:"
   ]
  },
  {
   "cell_type": "code",
<<<<<<< HEAD
   "execution_count": 31,
=======
   "execution_count": 18,
   "id": "cbfad251",
>>>>>>> 391e1cfc4f1f39e72d0f17845d5775aa0d6debea
   "metadata": {
    "cell_style": "split",
    "slideshow": {
     "slide_type": "fragment"
    }
   },
   "outputs": [
    {
     "data": {
      "text/plain": [
       "<p>Here is some simple content for this page.</p>"
      ]
     },
<<<<<<< HEAD
     "execution_count": 31,
=======
     "execution_count": 18,
>>>>>>> 391e1cfc4f1f39e72d0f17845d5775aa0d6debea
     "metadata": {},
     "output_type": "execute_result"
    }
   ],
   "source": [
    "p_level = body_level.p\n",
    "p_level"
   ]
  },
  {
   "cell_type": "markdown",
<<<<<<< HEAD
   "metadata": {},
   "source": [
    "Note: this only gets the first p tag.\n",
    "- If want more: need to use .find_all()"
   ]
  },
  {
   "cell_type": "markdown",
=======
   "id": "a15554f8",
>>>>>>> 391e1cfc4f1f39e72d0f17845d5775aa0d6debea
   "metadata": {
    "slideshow": {
     "slide_type": "slide"
    }
   },
   "source": [
    "**.text** attribute\n",
    "\n",
    "Get the text inside the tag:\n",
    "- .text attribute"
   ]
  },
  {
   "cell_type": "code",
<<<<<<< HEAD
   "execution_count": 41,
=======
   "execution_count": 19,
   "id": "5dd153d1",
>>>>>>> 391e1cfc4f1f39e72d0f17845d5775aa0d6debea
   "metadata": {
    "slideshow": {
     "slide_type": "fragment"
    }
   },
   "outputs": [
    {
     "data": {
      "text/plain": [
       "'Here is some simple content for this page.'"
      ]
     },
<<<<<<< HEAD
     "execution_count": 41,
=======
     "execution_count": 19,
>>>>>>> 391e1cfc4f1f39e72d0f17845d5775aa0d6debea
     "metadata": {},
     "output_type": "execute_result"
    }
   ],
   "source": [
    "p_level.text"
   ]
  },
  {
   "cell_type": "markdown",
   "metadata": {
    "slideshow": {
     "slide_type": "slide"
    }
   },
   "source": [
    "#### Going up levels:\n",
    "**.parent** attribute:\n",
    "- We can also go the other way:"
   ]
  },
  {
   "cell_type": "code",
<<<<<<< HEAD
   "execution_count": 42,
=======
   "execution_count": 20,
   "id": "12beeca8",
>>>>>>> 391e1cfc4f1f39e72d0f17845d5775aa0d6debea
   "metadata": {
    "slideshow": {
     "slide_type": "fragment"
    }
   },
   "outputs": [
    {
     "data": {
      "text/plain": [
       "<body>\n",
       "<p>Here is some simple content for this page.</p>\n",
       "</body>"
      ]
     },
<<<<<<< HEAD
     "execution_count": 42,
=======
     "execution_count": 20,
>>>>>>> 391e1cfc4f1f39e72d0f17845d5775aa0d6debea
     "metadata": {},
     "output_type": "execute_result"
    }
   ],
   "source": [
    "p_level.parent"
   ]
  },
  {
   "cell_type": "markdown",
   "metadata": {
    "slideshow": {
     "slide_type": "fragment"
    }
   },
   "source": [
    "Not too shabby."
   ]
  },
  {
   "cell_type": "markdown",
<<<<<<< HEAD
=======
   "id": "b5ed232a",
>>>>>>> 391e1cfc4f1f39e72d0f17845d5775aa0d6debea
   "metadata": {
    "slideshow": {
     "slide_type": "slide"
    }
   },
   "source": [
    "#### Going sideways\n",
    "- Traversing through siblings"
   ]
  },
  {
   "cell_type": "markdown",
   "id": "923931f5",
   "metadata": {},
   "source": [
    "**.previous_siblings** attribute\n",
    "- generator that creates previous siblings"
   ]
  },
  {
   "cell_type": "code",
<<<<<<< HEAD
   "execution_count": 43,
=======
   "execution_count": 21,
   "id": "1c6d75d5",
>>>>>>> 391e1cfc4f1f39e72d0f17845d5775aa0d6debea
   "metadata": {
    "cell_style": "split",
    "slideshow": {
     "slide_type": "subslide"
    }
   },
   "outputs": [
    {
     "data": {
      "text/plain": [
       "<html>\n",
       "<head>\n",
       "<title>A simple example page</title>\n",
       "</head>\n",
       "<body>\n",
       "<p>Here is some simple content for this page.</p>\n",
       "</body>\n",
       "</html>"
      ]
     },
<<<<<<< HEAD
     "execution_count": 43,
=======
     "execution_count": 21,
>>>>>>> 391e1cfc4f1f39e72d0f17845d5775aa0d6debea
     "metadata": {},
     "output_type": "execute_result"
    }
   ],
   "source": [
    "html_level"
   ]
  },
  {
   "cell_type": "code",
<<<<<<< HEAD
   "execution_count": 44,
=======
   "execution_count": 22,
   "id": "cc2051fa",
>>>>>>> 391e1cfc4f1f39e72d0f17845d5775aa0d6debea
   "metadata": {
    "cell_style": "split",
    "slideshow": {
     "slide_type": "fragment"
    }
   },
   "outputs": [
    {
     "data": {
      "text/plain": [
       "<body>\n",
       "<div>\n",
       "<p class=\"inner-text first-item\" id=\"first\">\n",
       "                First paragraph.\n",
       "            </p>\n",
       "<p class=\"inner-text\">\n",
       "                Second paragraph.\n",
       "            </p>\n",
       "</div>\n",
       "<p class=\"outer-text first-item\" id=\"second\">\n",
       "<b>\n",
       "                First outer paragraph.\n",
       "            </b>\n",
       "</p>\n",
       "<p class=\"outer-text\">\n",
       "<b>\n",
       "                Second outer paragraph.\n",
       "            </b>\n",
       "</p>\n",
       "</body>"
      ]
     },
<<<<<<< HEAD
     "execution_count": 44,
=======
     "execution_count": 22,
>>>>>>> 391e1cfc4f1f39e72d0f17845d5775aa0d6debea
     "metadata": {},
     "output_type": "execute_result"
    }
   ],
   "source": [
    "body_level"
   ]
  },
  {
   "cell_type": "code",
<<<<<<< HEAD
   "execution_count": 45,
=======
   "execution_count": 23,
   "id": "1f178358",
>>>>>>> 391e1cfc4f1f39e72d0f17845d5775aa0d6debea
   "metadata": {
    "cell_style": "split",
    "slideshow": {
     "slide_type": "fragment"
    }
   },
   "outputs": [
    {
     "data": {
      "text/plain": [
       "<generator object PageElement.previous_siblings at 0x000001C0BA802200>"
      ]
     },
<<<<<<< HEAD
     "execution_count": 45,
=======
     "execution_count": 23,
>>>>>>> 391e1cfc4f1f39e72d0f17845d5775aa0d6debea
     "metadata": {},
     "output_type": "execute_result"
    }
   ],
   "source": [
    "prev_sibs = body_level.previous_siblings\n",
    "prev_sibs"
   ]
  },
  {
   "cell_type": "markdown",
<<<<<<< HEAD
=======
   "id": "365f5186",
>>>>>>> 391e1cfc4f1f39e72d0f17845d5775aa0d6debea
   "metadata": {
    "cell_style": "split",
    "slideshow": {
     "slide_type": "slide"
    }
   },
   "source": [
    "Traversing the generator:\n",
    "- goes backwards through previous siblings with next() operator\n",
    "- terminates when exhausts previous siblings"
   ]
  },
  {
   "cell_type": "code",
<<<<<<< HEAD
   "execution_count": 47,
=======
   "execution_count": 24,
   "id": "29f8f01c",
>>>>>>> 391e1cfc4f1f39e72d0f17845d5775aa0d6debea
   "metadata": {
    "cell_style": "split"
   },
   "outputs": [
    {
     "data": {
      "text/plain": [
       "'\\n'"
      ]
     },
<<<<<<< HEAD
     "execution_count": 47,
=======
     "execution_count": 24,
>>>>>>> 391e1cfc4f1f39e72d0f17845d5775aa0d6debea
     "metadata": {},
     "output_type": "execute_result"
    }
   ],
   "source": [
    "next(prev_sibs)"
   ]
  },
  {
   "cell_type": "markdown",
<<<<<<< HEAD
=======
   "id": "49bafe06",
>>>>>>> 391e1cfc4f1f39e72d0f17845d5775aa0d6debea
   "metadata": {
    "slideshow": {
     "slide_type": "slide"
    }
   },
   "source": [
    "Can be used in a list comprehension as well:\n",
    "- get tag names of previous siblings excluding line breaks"
   ]
  },
  {
   "cell_type": "code",
<<<<<<< HEAD
   "execution_count": 48,
=======
   "execution_count": 25,
   "id": "434d0a7c",
>>>>>>> 391e1cfc4f1f39e72d0f17845d5775aa0d6debea
   "metadata": {
    "slideshow": {
     "slide_type": "fragment"
    }
   },
   "outputs": [
    {
     "data": {
      "text/plain": [
       "['head']"
      ]
     },
<<<<<<< HEAD
     "execution_count": 48,
=======
     "execution_count": 25,
>>>>>>> 391e1cfc4f1f39e72d0f17845d5775aa0d6debea
     "metadata": {},
     "output_type": "execute_result"
    }
   ],
   "source": [
    "prevsib_names = [prev_sib.name for prev_sib in body_level.previous_siblings if prev_sib != \"\\n\"]\n",
    "prevsib_names"
   ]
  },
  {
   "cell_type": "markdown",
<<<<<<< HEAD
=======
   "id": "504ec3ab",
>>>>>>> 391e1cfc4f1f39e72d0f17845d5775aa0d6debea
   "metadata": {
    "cell_style": "split",
    "slideshow": {
     "slide_type": "slide"
    }
   },
   "source": [
    "**.next_siblings** attribute: \n",
    "- does the same thing but for siblings following the current tag"
   ]
  },
  {
   "cell_type": "code",
<<<<<<< HEAD
   "execution_count": 49,
=======
   "execution_count": 26,
   "id": "a6317904",
>>>>>>> 391e1cfc4f1f39e72d0f17845d5775aa0d6debea
   "metadata": {
    "cell_style": "split",
    "slideshow": {
     "slide_type": "fragment"
    }
   },
   "outputs": [
    {
     "data": {
      "text/plain": [
       "['\\n',\n",
       " <body>\n",
       " <p>Here is some simple content for this page.</p>\n",
       " </body>,\n",
       " '\\n']"
      ]
     },
<<<<<<< HEAD
     "execution_count": 49,
=======
     "execution_count": 26,
>>>>>>> 391e1cfc4f1f39e72d0f17845d5775aa0d6debea
     "metadata": {},
     "output_type": "execute_result"
    }
   ],
   "source": [
    "head_level = html_level.head\n",
    "list(head_level.next_siblings)"
   ]
  },
  {
   "cell_type": "markdown",
<<<<<<< HEAD
=======
   "id": "fe32fcb9",
>>>>>>> 391e1cfc4f1f39e72d0f17845d5775aa0d6debea
   "metadata": {
    "slideshow": {
     "slide_type": "slide"
    }
   },
   "source": [
    "Previous web-site was very simple. Website usually has more complex tree structures:\n",
    "- A given tag can have many children of the same type. Want all children of a given type.\n",
    "- Dealing with nested structures: divs within divs \n",
    "- A set of children with a given class. \n",
    "- Specific tag with a unique id  "
   ]
  },
  {
   "cell_type": "markdown",
   "id": "64090be8",
   "metadata": {
    "slideshow": {
     "slide_type": "slide"
    }
   },
   "source": [
    "A more complex but still simple example might help:"
   ]
  },
  {
   "cell_type": "code",
<<<<<<< HEAD
   "execution_count": 52,
=======
   "execution_count": 27,
   "id": "6f674f33",
>>>>>>> 391e1cfc4f1f39e72d0f17845d5775aa0d6debea
   "metadata": {
    "slideshow": {
     "slide_type": "subslide"
    }
   },
   "outputs": [
    {
     "data": {
      "text/plain": [
       "<html>\n",
       "<head>\n",
       "<title>A simple example page</title>\n",
       "</head>\n",
       "<body>\n",
       "<div>\n",
       "<p class=\"inner-text first-item\" id=\"first\">\n",
       "                First paragraph.\n",
       "            </p>\n",
       "<p class=\"inner-text\">\n",
       "                Second paragraph.\n",
       "            </p>\n",
       "</div>\n",
       "<p class=\"outer-text first-item\" id=\"second\">\n",
       "<b>\n",
       "                First outer paragraph.\n",
       "            </b>\n",
       "</p>\n",
       "<p class=\"outer-text\">\n",
       "<b>\n",
       "                Second outer paragraph.\n",
       "            </b>\n",
       "</p>\n",
       "</body>\n",
       "</html>"
      ]
     },
<<<<<<< HEAD
     "execution_count": 52,
=======
     "execution_count": 27,
>>>>>>> 391e1cfc4f1f39e72d0f17845d5775aa0d6debea
     "metadata": {},
     "output_type": "execute_result"
    }
   ],
   "source": [
    "page = requests.get(\"http://dataquestio.github.io/web-scraping-pages/ids_and_classes.html\")\n",
    "soup = BeautifulSoup(page.content)\n",
    "soup"
   ]
  },
  {
   "cell_type": "markdown",
<<<<<<< HEAD
=======
   "id": "a4b1a5ef",
>>>>>>> 391e1cfc4f1f39e72d0f17845d5775aa0d6debea
   "metadata": {
    "slideshow": {
     "slide_type": "slide"
    }
   },
   "source": [
    "Going down to the body level:"
   ]
  },
  {
   "cell_type": "code",
<<<<<<< HEAD
   "execution_count": 53,
=======
   "execution_count": 28,
   "id": "bf347887",
>>>>>>> 391e1cfc4f1f39e72d0f17845d5775aa0d6debea
   "metadata": {
    "slideshow": {
     "slide_type": "fragment"
    }
   },
   "outputs": [
    {
     "data": {
      "text/plain": [
       "<body>\n",
       "<div>\n",
       "<p class=\"inner-text first-item\" id=\"first\">\n",
       "                First paragraph.\n",
       "            </p>\n",
       "<p class=\"inner-text\">\n",
       "                Second paragraph.\n",
       "            </p>\n",
       "</div>\n",
       "<p class=\"outer-text first-item\" id=\"second\">\n",
       "<b>\n",
       "                First outer paragraph.\n",
       "            </b>\n",
       "</p>\n",
       "<p class=\"outer-text\">\n",
       "<b>\n",
       "                Second outer paragraph.\n",
       "            </b>\n",
       "</p>\n",
       "</body>"
      ]
     },
<<<<<<< HEAD
     "execution_count": 53,
=======
     "execution_count": 28,
>>>>>>> 391e1cfc4f1f39e72d0f17845d5775aa0d6debea
     "metadata": {},
     "output_type": "execute_result"
    }
   ],
   "source": [
    "body_level = soup.html.body\n",
    "body_level"
   ]
  },
  {
   "cell_type": "markdown",
<<<<<<< HEAD
=======
   "id": "e67fd87f",
>>>>>>> 391e1cfc4f1f39e72d0f17845d5775aa0d6debea
   "metadata": {
    "slideshow": {
     "slide_type": "slide"
    }
   },
   "source": [
    "There are many p tags.\n",
    "- Want all p tags:"
   ]
  },
  {
   "cell_type": "code",
<<<<<<< HEAD
   "execution_count": 54,
=======
   "execution_count": 29,
   "id": "ffbd1084",
>>>>>>> 391e1cfc4f1f39e72d0f17845d5775aa0d6debea
   "metadata": {
    "slideshow": {
     "slide_type": "fragment"
    }
   },
   "outputs": [
    {
     "data": {
      "text/plain": [
       "<p class=\"inner-text first-item\" id=\"first\">\n",
       "                First paragraph.\n",
       "            </p>"
      ]
     },
<<<<<<< HEAD
     "execution_count": 54,
=======
     "execution_count": 29,
>>>>>>> 391e1cfc4f1f39e72d0f17845d5775aa0d6debea
     "metadata": {},
     "output_type": "execute_result"
    }
   ],
   "source": [
    "body_level.p"
   ]
  },
  {
<<<<<<< HEAD
   "cell_type": "code",
   "execution_count": 55,
=======
   "cell_type": "markdown",
   "id": "18f247bb",
>>>>>>> 391e1cfc4f1f39e72d0f17845d5775aa0d6debea
   "metadata": {
    "slideshow": {
     "slide_type": "fragment"
    }
   },
<<<<<<< HEAD
   "outputs": [
    {
     "data": {
      "text/plain": [
       "<body>\n",
       "<div>\n",
       "<p class=\"inner-text first-item\" id=\"first\">\n",
       "                First paragraph.\n",
       "            </p>\n",
       "<p class=\"inner-text\">\n",
       "                Second paragraph.\n",
       "            </p>\n",
       "</div>\n",
       "<p class=\"outer-text first-item\" id=\"second\">\n",
       "<b>\n",
       "                First outer paragraph.\n",
       "            </b>\n",
       "</p>\n",
       "<p class=\"outer-text\">\n",
       "<b>\n",
       "                Second outer paragraph.\n",
       "            </b>\n",
       "</p>\n",
       "</body>"
      ]
     },
     "execution_count": 55,
     "metadata": {},
     "output_type": "execute_result"
    }
   ],
=======
>>>>>>> 391e1cfc4f1f39e72d0f17845d5775aa0d6debea
   "source": [
    "Only got the first."
   ]
  },
  {
   "cell_type": "markdown",
<<<<<<< HEAD
=======
   "id": "275c4561",
>>>>>>> 391e1cfc4f1f39e72d0f17845d5775aa0d6debea
   "metadata": {
    "cell_style": "split",
    "slideshow": {
     "slide_type": "slide"
    }
   },
   "source": [
    "We need:\n",
    "    \n",
    ".find_all() \n",
    "- finds all instances of specified tags contained in current node.\n",
    "- returns a list"
   ]
  },
  {
   "cell_type": "code",
<<<<<<< HEAD
   "execution_count": 57,
=======
   "execution_count": 30,
   "id": "f516703a",
>>>>>>> 391e1cfc4f1f39e72d0f17845d5775aa0d6debea
   "metadata": {
    "cell_style": "split",
    "scrolled": true,
    "slideshow": {
     "slide_type": "subslide"
    }
   },
   "outputs": [
    {
     "data": {
      "text/plain": [
       "[<p class=\"inner-text first-item\" id=\"first\">\n",
       "                 First paragraph.\n",
       "             </p>,\n",
       " <p class=\"inner-text\">\n",
       "                 Second paragraph.\n",
       "             </p>,\n",
       " <p class=\"outer-text first-item\" id=\"second\">\n",
       " <b>\n",
       "                 First outer paragraph.\n",
       "             </b>\n",
       " </p>,\n",
       " <p class=\"outer-text\">\n",
       " <b>\n",
       "                 Second outer paragraph.\n",
       "             </b>\n",
       " </p>]"
      ]
     },
<<<<<<< HEAD
     "execution_count": 57,
=======
     "execution_count": 30,
>>>>>>> 391e1cfc4f1f39e72d0f17845d5775aa0d6debea
     "metadata": {},
     "output_type": "execute_result"
    }
   ],
   "source": [
    "body_level.find_all('p')"
   ]
  },
  {
   "cell_type": "markdown",
<<<<<<< HEAD
=======
   "id": "3a536d3c",
>>>>>>> 391e1cfc4f1f39e72d0f17845d5775aa0d6debea
   "metadata": {
    "cell_style": "split",
    "slideshow": {
     "slide_type": "slide"
    }
   },
   "source": [
    "But let's take a closer look at the body structure:\n",
    "- .prettify() can sometimes be useful"
   ]
  },
  {
   "cell_type": "code",
<<<<<<< HEAD
   "execution_count": 77,
=======
   "execution_count": 31,
   "id": "c12b3a11",
>>>>>>> 391e1cfc4f1f39e72d0f17845d5775aa0d6debea
   "metadata": {
    "cell_style": "split",
    "slideshow": {
     "slide_type": "fragment"
    }
   },
   "outputs": [
    {
     "name": "stdout",
     "output_type": "stream",
     "text": [
      "<body>\n",
      " <div>\n",
      "  <p class=\"inner-text first-item\" id=\"first\">\n",
      "   First paragraph.\n",
      "  </p>\n",
      "  <p class=\"inner-text\">\n",
      "   Second paragraph.\n",
      "  </p>\n",
      " </div>\n",
      " <p class=\"outer-text first-item\" id=\"second\">\n",
      "  <b>\n",
      "   First outer paragraph.\n",
      "  </b>\n",
      " </p>\n",
      " <p class=\"outer-text\">\n",
      "  <b>\n",
      "   Second outer paragraph.\n",
      "  </b>\n",
      " </p>\n",
      "</body>\n",
      "\n"
     ]
    }
   ],
   "source": [
    "print(body_level.prettify())"
   ]
  },
  {
<<<<<<< HEAD
   "cell_type": "code",
   "execution_count": 78,
   "metadata": {},
   "outputs": [],
=======
   "cell_type": "markdown",
   "id": "f577db21",
   "metadata": {
    "cell_style": "split",
    "slideshow": {
     "slide_type": "slide"
    }
   },
>>>>>>> 391e1cfc4f1f39e72d0f17845d5775aa0d6debea
   "source": [
    "**Nested structures**\n",
    "- One set of paragraphs p tags contained in a div\n",
    "- Other set as direct children of body.\n",
    "\n",
    "May want to access p tags that are direct children."
   ]
  },
  {
   "cell_type": "code",
   "execution_count": 79,
   "metadata": {},
   "outputs": [
    {
     "name": "stdout",
     "output_type": "stream",
     "text": [
      "<!DOCTYPE html>\n",
      "<html lang=\"en-US\">\n",
      " <head>\n",
      "  <title>\n",
      "   Just a moment...\n",
      "  </title>\n",
      "  <meta content=\"text/html; charset=utf-8\" http-equiv=\"Content-Type\"/>\n",
      "  <meta content=\"IE=Edge\" http-equiv=\"X-UA-Compatible\"/>\n",
      "  <meta content=\"noindex,nofollow\" name=\"robots\"/>\n",
      "  <meta content=\"width=device-width,initial-scale=1\" name=\"viewport\"/>\n",
      "  <link href=\"/cdn-cgi/styles/cf-errors.css\" rel=\"stylesheet\"/>\n",
      "  <script>\n",
      "   (function(){\n",
      "        window._cf_chl_opt={\n",
      "            cvId: '2',\n",
      "            cType: 'managed',\n",
      "            cNounce: '85171',\n",
      "            cRay: '73cc7832acad195d',\n",
      "            cHash: '8c62e218cc11768',\n",
      "            cUPMDTk: \"\\/whiskies\\/edradour-10-year-old-whisky\\/?srh=1&__cf_chl_tk=tJMZFQ57tF8caHkQwp5BdyvxkRUwU6vCqpbtAuxl6sY-1660844792-0-gaNycGzNBz0\",\n",
      "            cFPWv: 'g',\n",
      "            cTTimeMs: '1000',\n",
      "            cTplV: 3,\n",
      "            cRq: {\n",
      "                ru: 'aHR0cHM6Ly93d3cubWFzdGVyb2ZtYWx0LmNvbS93aGlza2llcy9lZHJhZG91ci0xMC15ZWFyLW9sZC13aGlza3kvP3NyaD0x',\n",
      "                ra: 'cHl0aG9uLXJlcXVlc3RzLzIuMjQuMA==',\n",
      "                rm: 'R0VU',\n",
      "                d: 'ZhdV/s+regx4byH3pMcvOpQS6jaGa39c7SkKyGi3MUIc6LUbW8iJfUs+FTNSAE0dBVk/Y28qZxhNRlY88ev+KZ3DFeDHMqHwlJMpI7rx46MeHh5TkoRh8Zu7OU5sVcr6B/xJD8TYXyJo9pTGbIFJ3tw/Fs6Om53FyAj4m4mK8hz2Z5gS9wgMRXfLH2Sb4vtB5LO8d4vb0ywmNtZyGZEJ//TYx3b9ugvX5LuXVL9CLHjfPQP+KumEkTXV2J9rafMi353s303n1jKx+RmcDmWmtBN+VymWwXjkswQBfwMgvUUhlvopJ4NK1Vvt5mT0jFo5R1940CflVXUvkCjMGGn4D55dvzfZnzk6CfIXidL+lNog68dauBfTgnppciwDe0M95h37nIj9PgrRO8myWvveeJtc46RO6IniA09eeQmSigqoIz5wb63p7xFcBzu/ryuZlAWJi/GBqTL3GbO7x/6JbCiS5tAvHM3KnxMvB5csJlFC8MQwJKg7OreZAquFTrpIcxheMjPV0FMKrEwXAUIZQzFJRoHbSI4QhBcfTF1pV697g8fvTYS93tKFQ3e+Lfyt+9/AXP6hbaNiq1geEGCB1qYqpQRS48vYr6k8MDg0eoWMpuStKsWsekPJwvdVv7Dq7p2P0xasKt6AwrvQGVXDQA==',\n",
      "                t: 'MTY2MDg0NDc5Mi43NTcwMDA=',\n",
      "                m: 'mGxV7dIN8cqBgPY2PG+H3TN6ba/F2J0RKAS1qcaabUQ=',\n",
      "                i1: 'it+ifCCqpjTOBb3YjkNgIA==',\n",
      "                i2: 'Epv7JGEuEl1W3uGTSnKeZA==',\n",
      "                zh: 'e7ZUTlOmuNwQTHmK5s8CFjDZ/L9xXZ20yWt8ys4FETk=',\n",
      "                uh: '6AZv5/FBI8bCgQ115dPTZ5RPLfsmzGOqXp7x0al4Jbc=',\n",
      "                hh: 'S7deGAOOT9VZxudqOsC2eawxr1stnqeCcbiR9gSS6OY=',\n",
      "            }\n",
      "        }\n",
      "        window._cf_chl_enter = function(){window._cf_chl_opt.p=1};\n",
      "    })();\n",
      "  </script>\n",
      " </head>\n",
      " <body class=\"no-js\">\n",
      "  <div class=\"main-wrapper\" role=\"main\">\n",
      "   <div class=\"main-content\">\n",
      "    <h1 class=\"zone-name-title h1\">\n",
      "     <img class=\"heading-favicon\" onerror=\"this.onerror=null;this.parentNode.removeChild(this)\" src=\"/favicon.ico\"/>\n",
      "     www.masterofmalt.com\n",
      "    </h1>\n",
      "    <h2 class=\"h2\" id=\"cf-challenge-running\">\n",
      "     Checking if the site connection is secure\n",
      "    </h2>\n",
      "    <noscript>\n",
      "     <div id=\"cf-challenge-error-title\">\n",
      "      <div class=\"h2\">\n",
      "       <span class=\"icon-wrapper\">\n",
      "        <div class=\"heading-icon warning-icon\">\n",
      "        </div>\n",
      "       </span>\n",
      "       <span id=\"cf-challenge-error-text\">\n",
      "        Enable JavaScript and cookies to continue\n",
      "       </span>\n",
      "      </div>\n",
      "     </div>\n",
      "    </noscript>\n",
      "    <div id=\"trk_jschal_js\" style=\"display:none;background-image:url('/cdn-cgi/images/trace/managed/nojs/transparent.gif?ray=73cc7832acad195d')\">\n",
      "    </div>\n",
      "    <div class=\"core-msg spacer\" id=\"cf-challenge-body-text\">\n",
      "     www.masterofmalt.com needs to review the security of your connection before\n",
      "            proceeding.\n",
      "    </div>\n",
      "    <form action=\"/whiskies/edradour-10-year-old-whisky/?srh=1&amp;__cf_chl_f_tk=tJMZFQ57tF8caHkQwp5BdyvxkRUwU6vCqpbtAuxl6sY-1660844792-0-gaNycGzNBz0\" enctype=\"application/x-www-form-urlencoded\" id=\"challenge-form\" method=\"POST\">\n",
      "     <input name=\"md\" type=\"hidden\" value=\"26W.P66E0DwSEtQfRAQhZm1h7j2GbRzM1_lUXx0zfdc-1660844792-0-ATuA6pQaKIzpz3qWjdQ3Q2pCCTn4y0GX0eQGIOikFVv4uiCDgVa5pquHxGyzWYDZf8urV2XsGJLVE9oYtFA-tpiRCcm45PTzb55ndUoliIt6IiJQqhfc8reuGbyYpG1IeJK1YOnBBfYM0znXF6TsjoPQxzVYdZSUtFVaft_FqIJLNGsDZKhRkfYvaF9epBtQhCz41r2TKsAJjbQXNQGXPgHo2vxbMB5jzXbh-vFeHuLgsK8lNC7Z3aArsVhern5VOtjZJImKA0MX44iV_JM1LGwpuUNH56nsI_Na1Mt6p89g-IUf-xJlV_ZPzFhsociUtcpmOAHJuBHkWGOlOsrAyaSqV9QlHo57_NqwEJ5JDmD7m2FRfQN1t4enwZT2U5LoAnpdhbrsyTRFU2giZHvl7duLUwLweQPpm0GDrNKrTQVA1KrUT5M8xaCntzS7PQhVicYbwRio9theuyGlkwvKXFItRrJRLl-1BgUwCesif8WKOtuXmhNj_YarQ4xiUNLX59Gawgb0X6eLZIONSwNfpdvnQzz3OYwhBQlxNnMNQ-Qunp_n2AVPLLdmnJ23xfaglGllIAhFmwFrondJGP2UE0Bg4KgF5k6230drn9u5N72aVo4YADVNlvLSCa66vosInJmxLm6B-a8iLV8Yieh2SdfCEPn9_rh3PQq70ArVPuZ6KOWgTXrGGZXHHys6BhDun9WkYAc1dx1yIRN-THALDhY7Ypi6mIPP5i0C8tw8g8i8rZPrOXVEw9I4iGX13_GrDT6nIa2_8WkYus0AvT9L9JDwb8qIAIrqcoFepip-SUiv\"/>\n",
      "     <input name=\"r\" type=\"hidden\" value=\"T.1nwwAYdaaFcukXDEGOOhJWTvFvpN10WPGgcSynGB0-1660844792-0-AdbS6xM8f4VQHBMXOtmS5iyByW3GhpgwKDGpp1OJctCqZEQBn+h1Ji+XwE8GHaX0yVwVU6SDug7uyF5yN5A3neJNxSfc6Z/w1qqjjPnPtoE0gu4RFkXS1y6svwzMOBTSRhwy3Zhyzc0yarNL3zlA0bQWIcKKb30YSB0zRwOI09b8s6QXFgZRcirXPURVZBL2CHfXJtzFu0WYsLHJCZV5zkPL18jz7nDbrwmV7MxSw5yXdaIikK5crLfybEKa52dNwc9LtF8Lq+n/zVxaEacixPNtivNmvyAn6jiHnhcnCKkRV2g154sXGSKHLpLXVA9dla/rvGgZrUBAuRhrpOPYqmiITp66VhT8dTvwHnsgFBUFH1yHIzYw5aDTnJGp+DoTskwuoDFtXl7QzhJm/alC33M5rckxEZCLaUkj5mW5WYiIIMvW3OjLX/6zTZ1e5PRa9yugeT7RUi5H8mn06qOzjLOqdI0b7eFAo8HLsb8jWMlDJByKnzIMGAIWySK70f7U/P5Q2cnSEsOBRh0P69InrkTMDOBv5485yONo05qHGYlBo/ZPnvEHQg1SrTQpGycRUE5vJnZqLjuZwJyokD/Nuvi8h43v3d35RwfJSOu2EHaAmWdskw4chFGftnic1OhWA0jhuhu7aCwflGGRQePcMOBqiEtJ/bj2n9pfLK+O3tI2skT8irMfBzUh+OyrKZgGZayYe2aNra6k3UeAmPZ3pu/sCksfr89AeM3xEn94yyl+NSrf05IAZGSXmkud+loci1ddmZHUj1aKuIhHnN0KebNpWM4qpPEHqMH0s0I7iQ48vt4paNlKdbXfAzEEYWu0CKMOVrD4ZEoFGrUEBMIdv3MHpUkE/TBN1vuhkOX8voGZqINWqmEPA+v0dBfyoffq+kr0/kI52NVPoI8wxLzzl4Ov8FSBPeVlIHMbcO706JIZms/n8MJbA29O1arX8dKqlXVVaAljA6moUVgQrst9HWuSon3Y7lx0e5IcYFstNIiOGSdK7+GhAygYF6Qn8iHsBqIMGMci6+wNQSidbN0WJrXF3qOWNHlJZx1qKcKS4XHN9US1pI1FXxMJfedOW3ak+eqbPJ4syPiolLKpCxVQHW2eM3XPKCgmpOUsM7JbFVMtX2HfcbkBvyMf+Uv0ry58eoZ1o1ZP3Fjp/SuLQjOQkM9SQoIvD6+KaGY61sv6pKHpwuonJhZ8Tpaknnmaw85iPiQUEE1hFGVX/9p1auXnHpDHmaA6/KXn74z7nfrUmlzzUYQPr7dg99DQw8hypHiWjFHSPv7YkUQqQcII6lf+zULu0SFNBI0CIVzextnraOvmMYON9VWq2LIiFT2yOT4PAAx2uYIf5xFcGd/gZ2Fxj/aS8O6Jrec8qqbbKFK8kGorfaRQqWiWqEaPEGU+cwq+dlRvuYZAT4yOalkf65fPwAGJxqJ/MZYnXoshhnl4mYDwAaITrFmjR4wBlRYYmlNSwWI5hBw1HW299LSh+BdlkHtlgdanAO+hRZBHSuhe8j+xu8YNS3epa1SeG2TpekqVo3/QMzGDDBmv9JdwTgbktjYIrmFgn6mveHG2+oiXX15sB1o6K21CXxQiYiSVcWay+uJ3W3t07QTcvGt38kPAPoJNnSKdPJMe4K/Vnafgi7Bba7RPUmF6Fwqbdyuo0Fr9fz5xRwW5fodqjeatQDLD/2sxM7BEYKGRyrhT9G2ivtrrd0jeZK1JT9Iv3DpGY8F2LBG2/wJ6SNcYh7g8eqrI5tLq2TbyBaJ8DWfvIneXJMyhxhqjyd4NxcgMYZNCSLL/Fw==\"/>\n",
      "    </form>\n",
      "   </div>\n",
      "  </div>\n",
      "  <script>\n",
      "   (function(){\n",
      "        var trkjs = document.createElement('img');\n",
      "        trkjs.setAttribute('src', '/cdn-cgi/images/trace/managed/js/transparent.gif?ray=73cc7832acad195d');\n",
      "        trkjs.setAttribute('style', 'display: none');\n",
      "        document.body.appendChild(trkjs);\n",
      "        var cpo = document.createElement('script');\n",
      "        cpo.src = '/cdn-cgi/challenge-platform/h/g/orchestrate/managed/v1?ray=73cc7832acad195d';\n",
      "        window._cf_chl_opt.cOgUHash = location.hash === '' && location.href.indexOf('#') !== -1 ? '#' : location.hash;\n",
      "        window._cf_chl_opt.cOgUQuery = location.search === '' && location.href.slice(0, -window._cf_chl_opt.cOgUHash.length).indexOf('?') !== -1 ? '?' : location.search;\n",
      "        if (window.history && window.history.replaceState) {\n",
      "            var ogU = location.pathname + window._cf_chl_opt.cOgUQuery + window._cf_chl_opt.cOgUHash;\n",
      "            history.replaceState(null, null, \"\\/whiskies\\/edradour-10-year-old-whisky\\/?srh=1&__cf_chl_rt_tk=tJMZFQ57tF8caHkQwp5BdyvxkRUwU6vCqpbtAuxl6sY-1660844792-0-gaNycGzNBz0\" + window._cf_chl_opt.cOgUHash);\n",
      "            cpo.onload = function() {\n",
      "                history.replaceState(null, null, ogU);\n",
      "            };\n",
      "        }\n",
      "        document.getElementsByTagName('head')[0].appendChild(cpo);\n",
      "    }());\n",
      "  </script>\n",
      "  <div class=\"footer\" role=\"contentinfo\">\n",
      "   <div class=\"footer-inner\">\n",
      "    <div class=\"clearfix diagnostic-wrapper\">\n",
      "     <div class=\"ray-id\">\n",
      "      Ray ID:\n",
      "      <code>\n",
      "       73cc7832acad195d\n",
      "      </code>\n",
      "     </div>\n",
      "    </div>\n",
      "    <div class=\"text-center\">\n",
      "     Performance &amp; security by\n",
      "     <a href=\"https://www.cloudflare.com?utm_source=challenge&amp;utm_campaign=m\" rel=\"noopener noreferrer\" target=\"_blank\">\n",
      "      Cloudflare\n",
      "     </a>\n",
      "    </div>\n",
      "   </div>\n",
      "  </div>\n",
      " </body>\n",
      "</html>\n",
      "\n"
     ]
    }
   ],
   "source": [
    "print(edrad_soup.prettify())"
   ]
  },
  {
   "cell_type": "markdown",
<<<<<<< HEAD
=======
   "id": "9fa2efce",
>>>>>>> 391e1cfc4f1f39e72d0f17845d5775aa0d6debea
   "metadata": {
    "cell_style": "split",
    "slideshow": {
     "slide_type": "fragment"
    }
   },
   "source": [
    ".find_all() has recursive argument (True as default)\n",
    "- recursive = False:\n",
    "- gets immediate children satisying requirement"
   ]
  },
  {
   "cell_type": "code",
<<<<<<< HEAD
   "execution_count": 80,
   "metadata": {},
   "outputs": [],
   "source": [
    "body_content = edrad_soup.html.body"
   ]
  },
  {
   "cell_type": "code",
   "execution_count": 81,
   "metadata": {},
=======
   "execution_count": 32,
   "id": "4970b832",
   "metadata": {
    "cell_style": "center",
    "slideshow": {
     "slide_type": "subslide"
    }
   },
>>>>>>> 391e1cfc4f1f39e72d0f17845d5775aa0d6debea
   "outputs": [
    {
     "data": {
      "text/plain": [
<<<<<<< HEAD
       "[<div class=\"main-wrapper\" role=\"main\">\n",
       " <div class=\"main-content\">\n",
       " <h1 class=\"zone-name-title h1\">\n",
       " <img class=\"heading-favicon\" onerror=\"this.onerror=null;this.parentNode.removeChild(this)\" src=\"/favicon.ico\"/>\n",
       "             www.masterofmalt.com\n",
       "         </h1>\n",
       " <h2 class=\"h2\" id=\"cf-challenge-running\">\n",
       "             Checking if the site connection is secure\n",
       "         </h2>\n",
       " <noscript>\n",
       " <div id=\"cf-challenge-error-title\">\n",
       " <div class=\"h2\">\n",
       " <span class=\"icon-wrapper\">\n",
       " <div class=\"heading-icon warning-icon\"></div>\n",
       " </span>\n",
       " <span id=\"cf-challenge-error-text\">\n",
       "                         Enable JavaScript and cookies to continue\n",
       "                     </span>\n",
       " </div>\n",
       " </div>\n",
       " </noscript>\n",
       " <div id=\"trk_jschal_js\" style=\"display:none;background-image:url('/cdn-cgi/images/trace/managed/nojs/transparent.gif?ray=73cc7832acad195d')\"></div>\n",
       " <div class=\"core-msg spacer\" id=\"cf-challenge-body-text\">\n",
       "             www.masterofmalt.com needs to review the security of your connection before\n",
       "             proceeding.\n",
       "         </div>\n",
       " <form action=\"/whiskies/edradour-10-year-old-whisky/?srh=1&amp;__cf_chl_f_tk=tJMZFQ57tF8caHkQwp5BdyvxkRUwU6vCqpbtAuxl6sY-1660844792-0-gaNycGzNBz0\" enctype=\"application/x-www-form-urlencoded\" id=\"challenge-form\" method=\"POST\">\n",
       " <input name=\"md\" type=\"hidden\" value=\"26W.P66E0DwSEtQfRAQhZm1h7j2GbRzM1_lUXx0zfdc-1660844792-0-ATuA6pQaKIzpz3qWjdQ3Q2pCCTn4y0GX0eQGIOikFVv4uiCDgVa5pquHxGyzWYDZf8urV2XsGJLVE9oYtFA-tpiRCcm45PTzb55ndUoliIt6IiJQqhfc8reuGbyYpG1IeJK1YOnBBfYM0znXF6TsjoPQxzVYdZSUtFVaft_FqIJLNGsDZKhRkfYvaF9epBtQhCz41r2TKsAJjbQXNQGXPgHo2vxbMB5jzXbh-vFeHuLgsK8lNC7Z3aArsVhern5VOtjZJImKA0MX44iV_JM1LGwpuUNH56nsI_Na1Mt6p89g-IUf-xJlV_ZPzFhsociUtcpmOAHJuBHkWGOlOsrAyaSqV9QlHo57_NqwEJ5JDmD7m2FRfQN1t4enwZT2U5LoAnpdhbrsyTRFU2giZHvl7duLUwLweQPpm0GDrNKrTQVA1KrUT5M8xaCntzS7PQhVicYbwRio9theuyGlkwvKXFItRrJRLl-1BgUwCesif8WKOtuXmhNj_YarQ4xiUNLX59Gawgb0X6eLZIONSwNfpdvnQzz3OYwhBQlxNnMNQ-Qunp_n2AVPLLdmnJ23xfaglGllIAhFmwFrondJGP2UE0Bg4KgF5k6230drn9u5N72aVo4YADVNlvLSCa66vosInJmxLm6B-a8iLV8Yieh2SdfCEPn9_rh3PQq70ArVPuZ6KOWgTXrGGZXHHys6BhDun9WkYAc1dx1yIRN-THALDhY7Ypi6mIPP5i0C8tw8g8i8rZPrOXVEw9I4iGX13_GrDT6nIa2_8WkYus0AvT9L9JDwb8qIAIrqcoFepip-SUiv\"/>\n",
       " <input name=\"r\" type=\"hidden\" value=\"T.1nwwAYdaaFcukXDEGOOhJWTvFvpN10WPGgcSynGB0-1660844792-0-AdbS6xM8f4VQHBMXOtmS5iyByW3GhpgwKDGpp1OJctCqZEQBn+h1Ji+XwE8GHaX0yVwVU6SDug7uyF5yN5A3neJNxSfc6Z/w1qqjjPnPtoE0gu4RFkXS1y6svwzMOBTSRhwy3Zhyzc0yarNL3zlA0bQWIcKKb30YSB0zRwOI09b8s6QXFgZRcirXPURVZBL2CHfXJtzFu0WYsLHJCZV5zkPL18jz7nDbrwmV7MxSw5yXdaIikK5crLfybEKa52dNwc9LtF8Lq+n/zVxaEacixPNtivNmvyAn6jiHnhcnCKkRV2g154sXGSKHLpLXVA9dla/rvGgZrUBAuRhrpOPYqmiITp66VhT8dTvwHnsgFBUFH1yHIzYw5aDTnJGp+DoTskwuoDFtXl7QzhJm/alC33M5rckxEZCLaUkj5mW5WYiIIMvW3OjLX/6zTZ1e5PRa9yugeT7RUi5H8mn06qOzjLOqdI0b7eFAo8HLsb8jWMlDJByKnzIMGAIWySK70f7U/P5Q2cnSEsOBRh0P69InrkTMDOBv5485yONo05qHGYlBo/ZPnvEHQg1SrTQpGycRUE5vJnZqLjuZwJyokD/Nuvi8h43v3d35RwfJSOu2EHaAmWdskw4chFGftnic1OhWA0jhuhu7aCwflGGRQePcMOBqiEtJ/bj2n9pfLK+O3tI2skT8irMfBzUh+OyrKZgGZayYe2aNra6k3UeAmPZ3pu/sCksfr89AeM3xEn94yyl+NSrf05IAZGSXmkud+loci1ddmZHUj1aKuIhHnN0KebNpWM4qpPEHqMH0s0I7iQ48vt4paNlKdbXfAzEEYWu0CKMOVrD4ZEoFGrUEBMIdv3MHpUkE/TBN1vuhkOX8voGZqINWqmEPA+v0dBfyoffq+kr0/kI52NVPoI8wxLzzl4Ov8FSBPeVlIHMbcO706JIZms/n8MJbA29O1arX8dKqlXVVaAljA6moUVgQrst9HWuSon3Y7lx0e5IcYFstNIiOGSdK7+GhAygYF6Qn8iHsBqIMGMci6+wNQSidbN0WJrXF3qOWNHlJZx1qKcKS4XHN9US1pI1FXxMJfedOW3ak+eqbPJ4syPiolLKpCxVQHW2eM3XPKCgmpOUsM7JbFVMtX2HfcbkBvyMf+Uv0ry58eoZ1o1ZP3Fjp/SuLQjOQkM9SQoIvD6+KaGY61sv6pKHpwuonJhZ8Tpaknnmaw85iPiQUEE1hFGVX/9p1auXnHpDHmaA6/KXn74z7nfrUmlzzUYQPr7dg99DQw8hypHiWjFHSPv7YkUQqQcII6lf+zULu0SFNBI0CIVzextnraOvmMYON9VWq2LIiFT2yOT4PAAx2uYIf5xFcGd/gZ2Fxj/aS8O6Jrec8qqbbKFK8kGorfaRQqWiWqEaPEGU+cwq+dlRvuYZAT4yOalkf65fPwAGJxqJ/MZYnXoshhnl4mYDwAaITrFmjR4wBlRYYmlNSwWI5hBw1HW299LSh+BdlkHtlgdanAO+hRZBHSuhe8j+xu8YNS3epa1SeG2TpekqVo3/QMzGDDBmv9JdwTgbktjYIrmFgn6mveHG2+oiXX15sB1o6K21CXxQiYiSVcWay+uJ3W3t07QTcvGt38kPAPoJNnSKdPJMe4K/Vnafgi7Bba7RPUmF6Fwqbdyuo0Fr9fz5xRwW5fodqjeatQDLD/2sxM7BEYKGRyrhT9G2ivtrrd0jeZK1JT9Iv3DpGY8F2LBG2/wJ6SNcYh7g8eqrI5tLq2TbyBaJ8DWfvIneXJMyhxhqjyd4NxcgMYZNCSLL/Fw==\"/>\n",
       " </form>\n",
       " </div>\n",
       " </div>,\n",
       " <div class=\"main-content\">\n",
       " <h1 class=\"zone-name-title h1\">\n",
       " <img class=\"heading-favicon\" onerror=\"this.onerror=null;this.parentNode.removeChild(this)\" src=\"/favicon.ico\"/>\n",
       "             www.masterofmalt.com\n",
       "         </h1>\n",
       " <h2 class=\"h2\" id=\"cf-challenge-running\">\n",
       "             Checking if the site connection is secure\n",
       "         </h2>\n",
       " <noscript>\n",
       " <div id=\"cf-challenge-error-title\">\n",
       " <div class=\"h2\">\n",
       " <span class=\"icon-wrapper\">\n",
       " <div class=\"heading-icon warning-icon\"></div>\n",
       " </span>\n",
       " <span id=\"cf-challenge-error-text\">\n",
       "                         Enable JavaScript and cookies to continue\n",
       "                     </span>\n",
       " </div>\n",
       " </div>\n",
       " </noscript>\n",
       " <div id=\"trk_jschal_js\" style=\"display:none;background-image:url('/cdn-cgi/images/trace/managed/nojs/transparent.gif?ray=73cc7832acad195d')\"></div>\n",
       " <div class=\"core-msg spacer\" id=\"cf-challenge-body-text\">\n",
       "             www.masterofmalt.com needs to review the security of your connection before\n",
       "             proceeding.\n",
       "         </div>\n",
       " <form action=\"/whiskies/edradour-10-year-old-whisky/?srh=1&amp;__cf_chl_f_tk=tJMZFQ57tF8caHkQwp5BdyvxkRUwU6vCqpbtAuxl6sY-1660844792-0-gaNycGzNBz0\" enctype=\"application/x-www-form-urlencoded\" id=\"challenge-form\" method=\"POST\">\n",
       " <input name=\"md\" type=\"hidden\" value=\"26W.P66E0DwSEtQfRAQhZm1h7j2GbRzM1_lUXx0zfdc-1660844792-0-ATuA6pQaKIzpz3qWjdQ3Q2pCCTn4y0GX0eQGIOikFVv4uiCDgVa5pquHxGyzWYDZf8urV2XsGJLVE9oYtFA-tpiRCcm45PTzb55ndUoliIt6IiJQqhfc8reuGbyYpG1IeJK1YOnBBfYM0znXF6TsjoPQxzVYdZSUtFVaft_FqIJLNGsDZKhRkfYvaF9epBtQhCz41r2TKsAJjbQXNQGXPgHo2vxbMB5jzXbh-vFeHuLgsK8lNC7Z3aArsVhern5VOtjZJImKA0MX44iV_JM1LGwpuUNH56nsI_Na1Mt6p89g-IUf-xJlV_ZPzFhsociUtcpmOAHJuBHkWGOlOsrAyaSqV9QlHo57_NqwEJ5JDmD7m2FRfQN1t4enwZT2U5LoAnpdhbrsyTRFU2giZHvl7duLUwLweQPpm0GDrNKrTQVA1KrUT5M8xaCntzS7PQhVicYbwRio9theuyGlkwvKXFItRrJRLl-1BgUwCesif8WKOtuXmhNj_YarQ4xiUNLX59Gawgb0X6eLZIONSwNfpdvnQzz3OYwhBQlxNnMNQ-Qunp_n2AVPLLdmnJ23xfaglGllIAhFmwFrondJGP2UE0Bg4KgF5k6230drn9u5N72aVo4YADVNlvLSCa66vosInJmxLm6B-a8iLV8Yieh2SdfCEPn9_rh3PQq70ArVPuZ6KOWgTXrGGZXHHys6BhDun9WkYAc1dx1yIRN-THALDhY7Ypi6mIPP5i0C8tw8g8i8rZPrOXVEw9I4iGX13_GrDT6nIa2_8WkYus0AvT9L9JDwb8qIAIrqcoFepip-SUiv\"/>\n",
       " <input name=\"r\" type=\"hidden\" value=\"T.1nwwAYdaaFcukXDEGOOhJWTvFvpN10WPGgcSynGB0-1660844792-0-AdbS6xM8f4VQHBMXOtmS5iyByW3GhpgwKDGpp1OJctCqZEQBn+h1Ji+XwE8GHaX0yVwVU6SDug7uyF5yN5A3neJNxSfc6Z/w1qqjjPnPtoE0gu4RFkXS1y6svwzMOBTSRhwy3Zhyzc0yarNL3zlA0bQWIcKKb30YSB0zRwOI09b8s6QXFgZRcirXPURVZBL2CHfXJtzFu0WYsLHJCZV5zkPL18jz7nDbrwmV7MxSw5yXdaIikK5crLfybEKa52dNwc9LtF8Lq+n/zVxaEacixPNtivNmvyAn6jiHnhcnCKkRV2g154sXGSKHLpLXVA9dla/rvGgZrUBAuRhrpOPYqmiITp66VhT8dTvwHnsgFBUFH1yHIzYw5aDTnJGp+DoTskwuoDFtXl7QzhJm/alC33M5rckxEZCLaUkj5mW5WYiIIMvW3OjLX/6zTZ1e5PRa9yugeT7RUi5H8mn06qOzjLOqdI0b7eFAo8HLsb8jWMlDJByKnzIMGAIWySK70f7U/P5Q2cnSEsOBRh0P69InrkTMDOBv5485yONo05qHGYlBo/ZPnvEHQg1SrTQpGycRUE5vJnZqLjuZwJyokD/Nuvi8h43v3d35RwfJSOu2EHaAmWdskw4chFGftnic1OhWA0jhuhu7aCwflGGRQePcMOBqiEtJ/bj2n9pfLK+O3tI2skT8irMfBzUh+OyrKZgGZayYe2aNra6k3UeAmPZ3pu/sCksfr89AeM3xEn94yyl+NSrf05IAZGSXmkud+loci1ddmZHUj1aKuIhHnN0KebNpWM4qpPEHqMH0s0I7iQ48vt4paNlKdbXfAzEEYWu0CKMOVrD4ZEoFGrUEBMIdv3MHpUkE/TBN1vuhkOX8voGZqINWqmEPA+v0dBfyoffq+kr0/kI52NVPoI8wxLzzl4Ov8FSBPeVlIHMbcO706JIZms/n8MJbA29O1arX8dKqlXVVaAljA6moUVgQrst9HWuSon3Y7lx0e5IcYFstNIiOGSdK7+GhAygYF6Qn8iHsBqIMGMci6+wNQSidbN0WJrXF3qOWNHlJZx1qKcKS4XHN9US1pI1FXxMJfedOW3ak+eqbPJ4syPiolLKpCxVQHW2eM3XPKCgmpOUsM7JbFVMtX2HfcbkBvyMf+Uv0ry58eoZ1o1ZP3Fjp/SuLQjOQkM9SQoIvD6+KaGY61sv6pKHpwuonJhZ8Tpaknnmaw85iPiQUEE1hFGVX/9p1auXnHpDHmaA6/KXn74z7nfrUmlzzUYQPr7dg99DQw8hypHiWjFHSPv7YkUQqQcII6lf+zULu0SFNBI0CIVzextnraOvmMYON9VWq2LIiFT2yOT4PAAx2uYIf5xFcGd/gZ2Fxj/aS8O6Jrec8qqbbKFK8kGorfaRQqWiWqEaPEGU+cwq+dlRvuYZAT4yOalkf65fPwAGJxqJ/MZYnXoshhnl4mYDwAaITrFmjR4wBlRYYmlNSwWI5hBw1HW299LSh+BdlkHtlgdanAO+hRZBHSuhe8j+xu8YNS3epa1SeG2TpekqVo3/QMzGDDBmv9JdwTgbktjYIrmFgn6mveHG2+oiXX15sB1o6K21CXxQiYiSVcWay+uJ3W3t07QTcvGt38kPAPoJNnSKdPJMe4K/Vnafgi7Bba7RPUmF6Fwqbdyuo0Fr9fz5xRwW5fodqjeatQDLD/2sxM7BEYKGRyrhT9G2ivtrrd0jeZK1JT9Iv3DpGY8F2LBG2/wJ6SNcYh7g8eqrI5tLq2TbyBaJ8DWfvIneXJMyhxhqjyd4NxcgMYZNCSLL/Fw==\"/>\n",
       " </form>\n",
       " </div>,\n",
       " <div id=\"cf-challenge-error-title\">\n",
       " <div class=\"h2\">\n",
       " <span class=\"icon-wrapper\">\n",
       " <div class=\"heading-icon warning-icon\"></div>\n",
       " </span>\n",
       " <span id=\"cf-challenge-error-text\">\n",
       "                         Enable JavaScript and cookies to continue\n",
       "                     </span>\n",
       " </div>\n",
       " </div>,\n",
       " <div class=\"h2\">\n",
       " <span class=\"icon-wrapper\">\n",
       " <div class=\"heading-icon warning-icon\"></div>\n",
       " </span>\n",
       " <span id=\"cf-challenge-error-text\">\n",
       "                         Enable JavaScript and cookies to continue\n",
       "                     </span>\n",
       " </div>,\n",
       " <div class=\"heading-icon warning-icon\"></div>,\n",
       " <div id=\"trk_jschal_js\" style=\"display:none;background-image:url('/cdn-cgi/images/trace/managed/nojs/transparent.gif?ray=73cc7832acad195d')\"></div>,\n",
       " <div class=\"core-msg spacer\" id=\"cf-challenge-body-text\">\n",
       "             www.masterofmalt.com needs to review the security of your connection before\n",
       "             proceeding.\n",
       "         </div>,\n",
       " <div class=\"footer\" role=\"contentinfo\">\n",
       " <div class=\"footer-inner\">\n",
       " <div class=\"clearfix diagnostic-wrapper\">\n",
       " <div class=\"ray-id\">Ray ID: <code>73cc7832acad195d</code></div>\n",
       " </div>\n",
       " <div class=\"text-center\">\n",
       "                 Performance &amp; security by\n",
       "                 <a href=\"https://www.cloudflare.com?utm_source=challenge&amp;utm_campaign=m\" rel=\"noopener noreferrer\" target=\"_blank\">Cloudflare</a>\n",
       " </div>\n",
       " </div>\n",
       " </div>,\n",
       " <div class=\"footer-inner\">\n",
       " <div class=\"clearfix diagnostic-wrapper\">\n",
       " <div class=\"ray-id\">Ray ID: <code>73cc7832acad195d</code></div>\n",
       " </div>\n",
       " <div class=\"text-center\">\n",
       "                 Performance &amp; security by\n",
       "                 <a href=\"https://www.cloudflare.com?utm_source=challenge&amp;utm_campaign=m\" rel=\"noopener noreferrer\" target=\"_blank\">Cloudflare</a>\n",
       " </div>\n",
       " </div>,\n",
       " <div class=\"clearfix diagnostic-wrapper\">\n",
       " <div class=\"ray-id\">Ray ID: <code>73cc7832acad195d</code></div>\n",
       " </div>,\n",
       " <div class=\"ray-id\">Ray ID: <code>73cc7832acad195d</code></div>,\n",
       " <div class=\"text-center\">\n",
       "                 Performance &amp; security by\n",
       "                 <a href=\"https://www.cloudflare.com?utm_source=challenge&amp;utm_campaign=m\" rel=\"noopener noreferrer\" target=\"_blank\">Cloudflare</a>\n",
       " </div>]"
      ]
     },
     "execution_count": 81,
=======
       "[<p class=\"outer-text first-item\" id=\"second\">\n",
       " <b>\n",
       "                 First outer paragraph.\n",
       "             </b>\n",
       " </p>,\n",
       " <p class=\"outer-text\">\n",
       " <b>\n",
       "                 Second outer paragraph.\n",
       "             </b>\n",
       " </p>]"
      ]
     },
     "execution_count": 32,
>>>>>>> 391e1cfc4f1f39e72d0f17845d5775aa0d6debea
     "metadata": {},
     "output_type": "execute_result"
    }
   ],
   "source": [
<<<<<<< HEAD
    "body_content.find_all('div')"
   ]
  },
  {
   "cell_type": "code",
   "execution_count": 82,
   "metadata": {
    "scrolled": true,
    "slideshow": {
     "slide_type": "subslide"
    }
   },
   "outputs": [
    {
     "ename": "IndexError",
     "evalue": "list index out of range",
     "output_type": "error",
     "traceback": [
      "\u001b[0;31m---------------------------------------------------------------------------\u001b[0m",
      "\u001b[0;31mIndexError\u001b[0m                                Traceback (most recent call last)",
      "\u001b[0;32m<ipython-input-82-ec0a64d3ba2e>\u001b[0m in \u001b[0;36m<module>\u001b[0;34m\u001b[0m\n\u001b[0;32m----> 1\u001b[0;31m \u001b[0mdetails\u001b[0m \u001b[0;34m=\u001b[0m \u001b[0medrad_soup\u001b[0m\u001b[0;34m.\u001b[0m\u001b[0mfind_all\u001b[0m\u001b[0;34m(\u001b[0m\u001b[0;34m'div'\u001b[0m\u001b[0;34m,\u001b[0m \u001b[0mid\u001b[0m\u001b[0;34m=\u001b[0m\u001b[0;34m\"whiskyDetailsWrapper\"\u001b[0m\u001b[0;34m)\u001b[0m\u001b[0;34m[\u001b[0m\u001b[0;36m0\u001b[0m\u001b[0;34m]\u001b[0m\u001b[0;34m\u001b[0m\u001b[0;34m\u001b[0m\u001b[0m\n\u001b[0m\u001b[1;32m      2\u001b[0m \u001b[0mdetails\u001b[0m\u001b[0;34m\u001b[0m\u001b[0;34m\u001b[0m\u001b[0m\n",
      "\u001b[0;31mIndexError\u001b[0m: list index out of range"
     ]
    }
   ],
   "source": [
    "details = edrad_soup.find_all('div', id=\"whiskyDetailsWrapper\")[0]\n",
    "details"
   ]
  },
  {
   "cell_type": "code",
   "execution_count": 75,
=======
    "body_level.find_all('p', recursive = False)"
   ]
  },
  {
   "cell_type": "markdown",
   "id": "e56a7f80",
>>>>>>> 391e1cfc4f1f39e72d0f17845d5775aa0d6debea
   "metadata": {
    "slideshow": {
     "slide_type": "-"
    }
   },
<<<<<<< HEAD
   "outputs": [
    {
     "ename": "AttributeError",
     "evalue": "ResultSet object has no attribute 'find_all'. You're probably treating a list of elements like a single element. Did you call find_all() when you meant to call find()?",
     "output_type": "error",
     "traceback": [
      "\u001b[0;31m---------------------------------------------------------------------------\u001b[0m",
      "\u001b[0;31mAttributeError\u001b[0m                            Traceback (most recent call last)",
      "\u001b[0;32m<ipython-input-75-af3dec24dc9d>\u001b[0m in \u001b[0;36m<module>\u001b[0;34m\u001b[0m\n\u001b[0;32m----> 1\u001b[0;31m \u001b[0mdetail_keys\u001b[0m \u001b[0;34m=\u001b[0m \u001b[0mdetails\u001b[0m\u001b[0;34m.\u001b[0m\u001b[0mfind_all\u001b[0m\u001b[0;34m(\u001b[0m\u001b[0;34m'span'\u001b[0m\u001b[0;34m,\u001b[0m \u001b[0mclass_\u001b[0m \u001b[0;34m=\u001b[0m \u001b[0;34m\"kv-key gold\"\u001b[0m\u001b[0;34m)\u001b[0m\u001b[0;34m\u001b[0m\u001b[0;34m\u001b[0m\u001b[0m\n\u001b[0m",
      "\u001b[0;32m~/opt/anaconda3/envs/learn-env/lib/python3.8/site-packages/bs4/element.py\u001b[0m in \u001b[0;36m__getattr__\u001b[0;34m(self, key)\u001b[0m\n\u001b[1;32m   2171\u001b[0m     \u001b[0;32mdef\u001b[0m \u001b[0m__getattr__\u001b[0m\u001b[0;34m(\u001b[0m\u001b[0mself\u001b[0m\u001b[0;34m,\u001b[0m \u001b[0mkey\u001b[0m\u001b[0;34m)\u001b[0m\u001b[0;34m:\u001b[0m\u001b[0;34m\u001b[0m\u001b[0;34m\u001b[0m\u001b[0m\n\u001b[1;32m   2172\u001b[0m         \u001b[0;34m\"\"\"Raise a helpful exception to explain a common code fix.\"\"\"\u001b[0m\u001b[0;34m\u001b[0m\u001b[0;34m\u001b[0m\u001b[0m\n\u001b[0;32m-> 2173\u001b[0;31m         raise AttributeError(\n\u001b[0m\u001b[1;32m   2174\u001b[0m             \u001b[0;34m\"ResultSet object has no attribute '%s'. You're probably treating a list of elements like a single element. Did you call find_all() when you meant to call find()?\"\u001b[0m \u001b[0;34m%\u001b[0m \u001b[0mkey\u001b[0m\u001b[0;34m\u001b[0m\u001b[0;34m\u001b[0m\u001b[0m\n\u001b[1;32m   2175\u001b[0m         )\n",
      "\u001b[0;31mAttributeError\u001b[0m: ResultSet object has no attribute 'find_all'. You're probably treating a list of elements like a single element. Did you call find_all() when you meant to call find()?"
     ]
    }
   ],
=======
>>>>>>> 391e1cfc4f1f39e72d0f17845d5775aa0d6debea
   "source": [
    "This is the paragraph tags on the outer level.\n",
    "- direct children of the body"
   ]
  },
  {
<<<<<<< HEAD
   "cell_type": "code",
   "execution_count": 76,
=======
   "cell_type": "markdown",
   "id": "4b5c0533",
>>>>>>> 391e1cfc4f1f39e72d0f17845d5775aa0d6debea
   "metadata": {
    "slideshow": {
     "slide_type": "slide"
    }
   },
<<<<<<< HEAD
   "outputs": [
    {
     "ename": "NameError",
     "evalue": "name 'detail_keys' is not defined",
     "output_type": "error",
     "traceback": [
      "\u001b[0;31m---------------------------------------------------------------------------\u001b[0m",
      "\u001b[0;31mNameError\u001b[0m                                 Traceback (most recent call last)",
      "\u001b[0;32m<ipython-input-76-58ca1c44d851>\u001b[0m in \u001b[0;36m<module>\u001b[0;34m\u001b[0m\n\u001b[0;32m----> 1\u001b[0;31m \u001b[0mdetail_keys\u001b[0m\u001b[0;34m\u001b[0m\u001b[0;34m\u001b[0m\u001b[0m\n\u001b[0m",
      "\u001b[0;31mNameError\u001b[0m: name 'detail_keys' is not defined"
     ]
    }
   ],
=======
>>>>>>> 391e1cfc4f1f39e72d0f17845d5775aa0d6debea
   "source": [
    "**Exercise**: get me the paragraph Tags nested in the div layer."
   ]
  },
  {
   "cell_type": "code",
<<<<<<< HEAD
   "execution_count": 263,
=======
   "execution_count": 33,
   "id": "27adbac8",
>>>>>>> 391e1cfc4f1f39e72d0f17845d5775aa0d6debea
   "metadata": {
    "slideshow": {
     "slide_type": "fragment"
    }
   },
   "outputs": [],
   "source": [
    "# do it!\n"
   ]
  },
  {
   "cell_type": "markdown",
   "id": "12ca243a",
   "metadata": {
    "slideshow": {
     "slide_type": "slide"
    }
   },
   "source": [
    "**Solution**:"
   ]
  },
  {
   "cell_type": "code",
<<<<<<< HEAD
   "execution_count": 264,
=======
   "execution_count": 34,
   "id": "605a9546",
>>>>>>> 391e1cfc4f1f39e72d0f17845d5775aa0d6debea
   "metadata": {
    "cell_style": "split",
    "slideshow": {
     "slide_type": "fragment"
    }
   },
   "outputs": [
    {
     "data": {
      "text/plain": [
       "[<p class=\"inner-text first-item\" id=\"first\">\n",
       "                 First paragraph.\n",
       "             </p>,\n",
       " <p class=\"inner-text\">\n",
       "                 Second paragraph.\n",
       "             </p>]"
      ]
     },
     "execution_count": 34,
     "metadata": {},
     "output_type": "execute_result"
    }
   ],
   "source": [
<<<<<<< HEAD
    "detail_values"
   ]
  },
  {
   "cell_type": "code",
   "execution_count": 265,
   "metadata": {
    "cell_style": "split",
    "slideshow": {
     "slide_type": "slide"
    }
   },
   "outputs": [],
   "source": [
    "data_dict = {}\n",
    "for key,val in zip(detail_keys, detail_values):\n",
    "    data_dict[key.text] = val.text\n",
    "    "
=======
    "body_level.div.find_all('p')"
>>>>>>> 391e1cfc4f1f39e72d0f17845d5775aa0d6debea
   ]
  },
  {
   "cell_type": "code",
<<<<<<< HEAD
   "execution_count": 266,
=======
   "execution_count": 35,
   "id": "e60b7fdf",
>>>>>>> 391e1cfc4f1f39e72d0f17845d5775aa0d6debea
   "metadata": {
    "cell_style": "split",
    "slideshow": {
     "slide_type": "fragment"
    }
   },
   "outputs": [
    {
     "data": {
      "text/plain": [
       "[<p class=\"inner-text first-item\" id=\"first\">\n",
       "                 First paragraph.\n",
       "             </p>,\n",
       " <p class=\"inner-text\">\n",
       "                 Second paragraph.\n",
       "             </p>]"
      ]
     },
     "execution_count": 35,
     "metadata": {},
     "output_type": "execute_result"
    }
   ],
   "source": [
    "# can be useful if div had class arguments\n",
    "# id arguments\n",
    "\n",
    "body_level.find('div').find_all('p')"
   ]
  },
  {
<<<<<<< HEAD
   "cell_type": "code",
   "execution_count": 267,
   "metadata": {},
=======
   "cell_type": "markdown",
   "id": "573eed12",
   "metadata": {
    "cell_style": "center",
    "slideshow": {
     "slide_type": "slide"
    }
   },
   "source": [
    "#### Class and id selectors\n",
    "\n",
    "- a grouping of tags (class)\n",
    "- naming a specific tag instance (id).\n",
    "\n",
    "Used in CSS styling.\n",
    "\n",
    "Can also use this for data selection / scraping."
   ]
  },
  {
   "cell_type": "markdown",
   "id": "762e224c",
   "metadata": {
    "cell_style": "center"
   },
   "source": [
    "**Class and id selectors with**:\n",
    "- .find()\n",
    "- .find_all()\n",
    "\n",
    "Take additional arguments for class/id"
   ]
  },
  {
   "cell_type": "code",
   "execution_count": 36,
   "id": "18fef704",
   "metadata": {
    "cell_style": "split",
    "scrolled": true
   },
   "outputs": [
    {
     "name": "stdout",
     "output_type": "stream",
     "text": [
      "<body>\n",
      " <div>\n",
      "  <p class=\"inner-text first-item\" id=\"first\">\n",
      "   First paragraph.\n",
      "  </p>\n",
      "  <p class=\"inner-text\">\n",
      "   Second paragraph.\n",
      "  </p>\n",
      " </div>\n",
      " <p class=\"outer-text first-item\" id=\"second\">\n",
      "  <b>\n",
      "   First outer paragraph.\n",
      "  </b>\n",
      " </p>\n",
      " <p class=\"outer-text\">\n",
      "  <b>\n",
      "   Second outer paragraph.\n",
      "  </b>\n",
      " </p>\n",
      "</body>\n",
      "\n"
     ]
    }
   ],
   "source": [
    "print(body_level.prettify())"
   ]
  },
  {
   "cell_type": "markdown",
   "id": "d4887ec0",
   "metadata": {
    "cell_style": "split"
   },
   "source": [
    "Get the group of paragraph tags in the inner-text class."
   ]
  },
  {
   "cell_type": "code",
   "execution_count": 37,
   "id": "5eadd12b",
   "metadata": {
    "cell_style": "split"
   },
   "outputs": [
    {
     "data": {
      "text/plain": [
       "[<p class=\"inner-text first-item\" id=\"first\">\n",
       "                 First paragraph.\n",
       "             </p>,\n",
       " <p class=\"inner-text\">\n",
       "                 Second paragraph.\n",
       "             </p>]"
      ]
     },
     "execution_count": 37,
     "metadata": {},
     "output_type": "execute_result"
    }
   ],
   "source": [
    "body_level.find_all('p', class_ = 'inner-text')"
   ]
  },
  {
   "cell_type": "markdown",
   "id": "97cb3374",
   "metadata": {},
   "source": [
    "**Class and id selectors with**:\n",
    "- .find()\n",
    "- .find_all()\n",
    "\n",
    "Take additional arguments for class/id"
   ]
  },
  {
   "cell_type": "code",
   "execution_count": 38,
   "id": "d0321298",
   "metadata": {
    "cell_style": "split",
    "slideshow": {
     "slide_type": "slide"
    }
   },
   "outputs": [
    {
     "data": {
      "text/plain": [
       "<body>\n",
       "<div>\n",
       "<p class=\"inner-text first-item\" id=\"first\">\n",
       "                First paragraph.\n",
       "            </p>\n",
       "<p class=\"inner-text\">\n",
       "                Second paragraph.\n",
       "            </p>\n",
       "</div>\n",
       "<p class=\"outer-text first-item\" id=\"second\">\n",
       "<b>\n",
       "                First outer paragraph.\n",
       "            </b>\n",
       "</p>\n",
       "<p class=\"outer-text\">\n",
       "<b>\n",
       "                Second outer paragraph.\n",
       "            </b>\n",
       "</p>\n",
       "</body>"
      ]
     },
     "execution_count": 38,
     "metadata": {},
     "output_type": "execute_result"
    }
   ],
   "source": [
    "body_level"
   ]
  },
  {
   "cell_type": "code",
   "execution_count": 39,
   "id": "cb1b23b9",
   "metadata": {
    "cell_style": "split",
    "slideshow": {
     "slide_type": "fragment"
    }
   },
   "outputs": [
    {
     "data": {
      "text/plain": [
       "[<p class=\"inner-text first-item\" id=\"first\">\n",
       "                 First paragraph.\n",
       "             </p>,\n",
       " <p class=\"inner-text\">\n",
       "                 Second paragraph.\n",
       "             </p>]"
      ]
     },
     "execution_count": 39,
     "metadata": {},
     "output_type": "execute_result"
    }
   ],
   "source": [
    "body_level.find_all('p', class_ = 'inner-text')"
   ]
  },
  {
   "cell_type": "markdown",
   "id": "2626d278",
   "metadata": {
    "cell_style": "split",
    "slideshow": {
     "slide_type": "fragment"
    }
   },
   "source": [
    "Extract by id:"
   ]
  },
  {
   "cell_type": "code",
   "execution_count": 40,
   "id": "ec3d92f8",
   "metadata": {
    "cell_style": "split",
    "slideshow": {
     "slide_type": "fragment"
    }
   },
   "outputs": [
    {
     "data": {
      "text/plain": [
       "<p class=\"outer-text first-item\" id=\"second\">\n",
       "<b>\n",
       "                First outer paragraph.\n",
       "            </b>\n",
       "</p>"
      ]
     },
     "execution_count": 40,
     "metadata": {},
     "output_type": "execute_result"
    }
   ],
   "source": [
    "body_level.find('p', id = 'second')"
   ]
  },
  {
   "cell_type": "markdown",
   "id": "19e591e6",
   "metadata": {
    "slideshow": {
     "slide_type": "slide"
    }
   },
   "source": [
    "#### Going back to our whisky page\n",
    "\n",
    "- Get bottling details (age, ABV, distillery, etc)"
   ]
  },
  {
   "cell_type": "code",
   "execution_count": 41,
   "id": "95c0d4e6",
   "metadata": {
    "slideshow": {
     "slide_type": "fragment"
    }
   },
   "outputs": [],
   "source": [
    "ardbeg_url = \"https://www.thewhiskyexchange.com/p/114/ardbeg-uigeadail\""
   ]
  },
  {
   "cell_type": "code",
   "execution_count": 42,
   "id": "1b178973",
   "metadata": {
    "slideshow": {
     "slide_type": "fragment"
    }
   },
   "outputs": [],
   "source": [
    "ardbeg_req = requests.get(ardbeg_url)\n",
    "ardbeg_soup = BeautifulSoup(ardbeg_req.content)"
   ]
  },
  {
   "cell_type": "markdown",
   "id": "4f22240b",
   "metadata": {
    "cell_style": "split",
    "slideshow": {
     "slide_type": "slide"
    }
   },
   "source": [
    "Let's get the whisky facts:\n",
    "- Bottler\n",
    "- Country\n",
    "- Chill filtered\n",
    "- etc."
   ]
  },
  {
   "cell_type": "code",
   "execution_count": 43,
   "id": "bbfd67d7",
   "metadata": {
    "cell_style": "split",
    "slideshow": {
     "slide_type": "fragment"
    }
   },
   "outputs": [
    {
     "data": {
      "text/plain": [
       "<ul class=\"product-facts\">\n",
       "<li class=\"product-facts__item\">\n",
       "<img alt=\"Bottler Icon\" class=\"product-facts__icon\" height=\"400\" loading=\"lazy\" src=\"/media/rtwe/assets/application/images/facts/fact--bottler.svg\" width=\"400\"/>\n",
       "<h3 class=\"product-facts__type\">Bottler</h3>\n",
       "<p class=\"product-facts__data\">Distillery Bottling</p>\n",
       "</li>\n",
       "<li class=\"product-facts__item\">\n",
       "<img alt=\"Country Icon\" class=\"product-facts__icon\" height=\"400\" loading=\"lazy\" src=\"/media/rtwe/assets/application/images/facts/fact--country.svg\" width=\"400\"/>\n",
       "<h3 class=\"product-facts__type\">Country</h3>\n",
       "<p class=\"product-facts__data\">Scotland</p>\n",
       "</li>\n",
       "<li class=\"product-facts__item\">\n",
       "<img alt=\"Region Icon\" class=\"product-facts__icon\" height=\"400\" loading=\"lazy\" src=\"/media/rtwe/assets/application/images/facts/fact--region.svg\" width=\"400\"/>\n",
       "<h3 class=\"product-facts__type\">Region</h3>\n",
       "<p class=\"product-facts__data\">Islay</p>\n",
       "</li>\n",
       "<li class=\"product-facts__item\">\n",
       "<img alt=\"Chill Filtered Icon\" class=\"product-facts__icon\" height=\"400\" loading=\"lazy\" src=\"/media/rtwe/assets/application/images/facts/fact--chillfiltered.svg\" width=\"400\"/>\n",
       "<h3 class=\"product-facts__type\">Chill Filtered</h3>\n",
       "<p class=\"product-facts__data\">No</p>\n",
       "</li>\n",
       "<li class=\"product-facts__item\">\n",
       "<img alt=\"Colouring Icon\" class=\"product-facts__icon\" height=\"400\" loading=\"lazy\" src=\"/media/rtwe/assets/application/images/facts/fact--colouring.svg\" width=\"400\"/>\n",
       "<h3 class=\"product-facts__type\">Colouring</h3>\n",
       "<p class=\"product-facts__data\">Yes</p>\n",
       "</li>\n",
       "<li class=\"product-facts__item\">\n",
       "<img alt=\"Certification Icon\" class=\"product-facts__icon\" height=\"400\" loading=\"lazy\" src=\"/media/rtwe/assets/application/images/facts/fact--certification.svg\" width=\"400\"/>\n",
       "<h3 class=\"product-facts__type\">Certification</h3>\n",
       "<p class=\"product-facts__data\">Vegan</p>\n",
       "</li>\n",
       "</ul>"
      ]
     },
     "execution_count": 43,
     "metadata": {},
     "output_type": "execute_result"
    }
   ],
   "source": [
    "# returns the match as a tag object\n",
    "prod_fact = ardbeg_soup.find('ul', \n",
    "                 class_ = \"product-facts\" )\n",
    "\n",
    "prod_fact"
   ]
  },
  {
   "cell_type": "markdown",
   "id": "20d803d6",
   "metadata": {
    "cell_style": "split",
    "slideshow": {
     "slide_type": "slide"
    }
   },
   "source": [
    "Clearly have a list with each element (li) containing:\n",
    "- attribute image\n",
    "- key in h3 tag of class \"product-facts__type\"\n",
    "- value in p tag of class \"product-facts__data\"\n"
   ]
  },
  {
   "cell_type": "markdown",
   "id": "4bd74a35",
   "metadata": {
    "cell_style": "split",
    "slideshow": {
     "slide_type": "fragment"
    }
   },
   "source": [
    "Let's get the first li item:\n",
    "- prod_fact.find('li')\n",
    "- prod_fact.li"
   ]
  },
  {
   "cell_type": "code",
   "execution_count": 44,
   "id": "91aae003",
   "metadata": {
    "cell_style": "split",
    "slideshow": {
     "slide_type": "fragment"
    }
   },
   "outputs": [
    {
     "data": {
      "text/plain": [
       "<li class=\"product-facts__item\">\n",
       "<img alt=\"Bottler Icon\" class=\"product-facts__icon\" height=\"400\" loading=\"lazy\" src=\"/media/rtwe/assets/application/images/facts/fact--bottler.svg\" width=\"400\"/>\n",
       "<h3 class=\"product-facts__type\">Bottler</h3>\n",
       "<p class=\"product-facts__data\">Distillery Bottling</p>\n",
       "</li>"
      ]
     },
     "execution_count": 44,
     "metadata": {},
     "output_type": "execute_result"
    }
   ],
   "source": [
    "first_li_elem = prod_fact.find('li')\n",
    "first_li_elem"
   ]
  },
  {
   "cell_type": "markdown",
   "id": "0b6960d6",
   "metadata": {
    "slideshow": {
     "slide_type": "slide"
    }
   },
   "source": [
    "Now we want the key-value pairs:"
   ]
  },
  {
   "cell_type": "code",
   "execution_count": 45,
   "id": "8bcfefa5",
   "metadata": {
    "cell_style": "center",
    "slideshow": {
     "slide_type": "fragment"
    }
   },
   "outputs": [
    {
     "data": {
      "text/plain": [
       "'Bottler'"
      ]
     },
     "execution_count": 45,
     "metadata": {},
     "output_type": "execute_result"
    }
   ],
   "source": [
    "# using .find() because we know there is only one of these tags\n",
    "detail_key = first_li_elem.find('h3', class_ = \"product-facts__type\").text\n",
    "detail_key"
   ]
  },
  {
   "cell_type": "code",
   "execution_count": 46,
   "id": "9f84835c",
   "metadata": {
    "cell_style": "center",
    "slideshow": {
     "slide_type": "fragment"
    }
   },
   "outputs": [
    {
     "data": {
      "text/plain": [
       "'Distillery Bottling'"
      ]
     },
     "execution_count": 46,
     "metadata": {},
     "output_type": "execute_result"
    }
   ],
   "source": [
    "# using .find() because we know there is only one of these tags\n",
    "detail_val = first_li_elem.find('p', class_ = \"product-facts__data\").text\n",
    "detail_val"
   ]
  },
  {
   "cell_type": "markdown",
   "id": "f176bc53",
   "metadata": {
    "slideshow": {
     "slide_type": "slide"
    }
   },
   "source": [
    "We can get the key,value pairs for all of these list elements in the product fact list:\n",
    "- iterate over .children\n",
    "- or use .find_all('li')"
   ]
  },
  {
   "cell_type": "code",
   "execution_count": 47,
   "id": "1b6a33d5",
   "metadata": {
    "cell_style": "split",
    "slideshow": {
     "slide_type": "fragment"
    }
   },
   "outputs": [
    {
     "data": {
      "text/plain": [
       "[<li class=\"product-facts__item\">\n",
       " <img alt=\"Bottler Icon\" class=\"product-facts__icon\" height=\"400\" loading=\"lazy\" src=\"/media/rtwe/assets/application/images/facts/fact--bottler.svg\" width=\"400\"/>\n",
       " <h3 class=\"product-facts__type\">Bottler</h3>\n",
       " <p class=\"product-facts__data\">Distillery Bottling</p>\n",
       " </li>,\n",
       " <li class=\"product-facts__item\">\n",
       " <img alt=\"Country Icon\" class=\"product-facts__icon\" height=\"400\" loading=\"lazy\" src=\"/media/rtwe/assets/application/images/facts/fact--country.svg\" width=\"400\"/>\n",
       " <h3 class=\"product-facts__type\">Country</h3>\n",
       " <p class=\"product-facts__data\">Scotland</p>\n",
       " </li>,\n",
       " <li class=\"product-facts__item\">\n",
       " <img alt=\"Region Icon\" class=\"product-facts__icon\" height=\"400\" loading=\"lazy\" src=\"/media/rtwe/assets/application/images/facts/fact--region.svg\" width=\"400\"/>\n",
       " <h3 class=\"product-facts__type\">Region</h3>\n",
       " <p class=\"product-facts__data\">Islay</p>\n",
       " </li>,\n",
       " <li class=\"product-facts__item\">\n",
       " <img alt=\"Chill Filtered Icon\" class=\"product-facts__icon\" height=\"400\" loading=\"lazy\" src=\"/media/rtwe/assets/application/images/facts/fact--chillfiltered.svg\" width=\"400\"/>\n",
       " <h3 class=\"product-facts__type\">Chill Filtered</h3>\n",
       " <p class=\"product-facts__data\">No</p>\n",
       " </li>,\n",
       " <li class=\"product-facts__item\">\n",
       " <img alt=\"Colouring Icon\" class=\"product-facts__icon\" height=\"400\" loading=\"lazy\" src=\"/media/rtwe/assets/application/images/facts/fact--colouring.svg\" width=\"400\"/>\n",
       " <h3 class=\"product-facts__type\">Colouring</h3>\n",
       " <p class=\"product-facts__data\">Yes</p>\n",
       " </li>,\n",
       " <li class=\"product-facts__item\">\n",
       " <img alt=\"Certification Icon\" class=\"product-facts__icon\" height=\"400\" loading=\"lazy\" src=\"/media/rtwe/assets/application/images/facts/fact--certification.svg\" width=\"400\"/>\n",
       " <h3 class=\"product-facts__type\">Certification</h3>\n",
       " <p class=\"product-facts__data\">Vegan</p>\n",
       " </li>]"
      ]
     },
     "execution_count": 47,
     "metadata": {},
     "output_type": "execute_result"
    }
   ],
   "source": [
    "factTag_list = prod_fact.find_all('li')\n",
    "factTag_list"
   ]
  },
  {
   "cell_type": "markdown",
   "id": "11855cbd",
   "metadata": {
    "cell_style": "split",
    "slideshow": {
     "slide_type": "fragment"
    }
   },
   "source": [
    "Each element is a Tag object."
   ]
  },
  {
   "cell_type": "code",
   "execution_count": 48,
   "id": "b5790cda",
   "metadata": {
    "cell_style": "split"
   },
   "outputs": [
    {
     "name": "stdout",
     "output_type": "stream",
     "text": [
      "<class 'bs4.element.Tag'>\n"
     ]
    }
   ],
   "source": [
    "print(type(factTag_list[0]))"
   ]
  },
  {
   "cell_type": "markdown",
   "id": "c0381571",
   "metadata": {
    "slideshow": {
     "slide_type": "slide"
    }
   },
   "source": [
    "Let's iterate over the list and extract keys and pairs:"
   ]
  },
  {
   "cell_type": "code",
   "execution_count": 49,
   "id": "3de58934",
   "metadata": {},
   "outputs": [],
   "source": [
    "data_dict = {}\n",
    "\n",
    "for elem in factTag_list:\n",
    "    \n",
    "    detail_key = elem.find('h3', class_ = \"product-facts__type\").text\n",
    "    detail_val = elem.find('p', class_ = \"product-facts__data\").text\n",
    "    \n",
    "    data_dict.update({detail_key: detail_val})"
   ]
  },
  {
   "cell_type": "markdown",
   "id": "f39dd671",
   "metadata": {
    "slideshow": {
     "slide_type": "slide"
    }
   },
   "source": [
    "Take a look at out data dictionary:"
   ]
  },
  {
   "cell_type": "code",
   "execution_count": 50,
   "id": "988cb989",
   "metadata": {
    "slideshow": {
     "slide_type": "fragment"
    }
   },
   "outputs": [
    {
     "data": {
      "text/plain": [
       "{'Bottler': 'Distillery Bottling',\n",
       " 'Country': 'Scotland',\n",
       " 'Region': 'Islay',\n",
       " 'Chill Filtered': 'No',\n",
       " 'Colouring': 'Yes',\n",
       " 'Certification': 'Vegan'}"
      ]
     },
     "execution_count": 50,
     "metadata": {},
     "output_type": "execute_result"
    }
   ],
   "source": [
    "data_dict"
   ]
  },
  {
   "cell_type": "markdown",
   "id": "de0a68d2",
   "metadata": {
    "slideshow": {
     "slide_type": "fragment"
    }
   },
   "source": [
    "Starting to look a lot like data that could be a row in a table or DataFrame."
   ]
  },
  {
   "cell_type": "markdown",
   "id": "1bd9ab3a",
   "metadata": {
    "slideshow": {
     "slide_type": "slide"
    }
   },
   "source": [
    "Let's try and extract some other information about this whisky as well:\n",
    "- Get the header for the Flavour Profile subsection\n",
    "- Get the contents"
   ]
  },
  {
   "cell_type": "markdown",
   "id": "f2d9f9de",
   "metadata": {
    "slideshow": {
     "slide_type": "subslide"
    }
   },
   "source": [
    "- notice that all are in the header h2 tag with id = FlavourProfile\n",
    "- let's access this h2"
   ]
  },
  {
   "cell_type": "code",
   "execution_count": 51,
   "id": "9e40f2c8",
   "metadata": {
    "cell_style": "split",
    "slideshow": {
     "slide_type": "fragment"
    }
   },
   "outputs": [
    {
     "data": {
      "text/plain": [
       "<h2 class=\"product-title product-title--bravo\" id=\"FlavourProfile\">Flavour Profile</h2>"
      ]
     },
     "execution_count": 51,
     "metadata": {},
     "output_type": "execute_result"
    }
   ],
   "source": [
    "flavorheader = ardbeg_soup.find(\n",
    "    'h2', id = \"FlavourProfile\")\n",
    "flavorheader"
   ]
  },
  {
   "cell_type": "code",
   "execution_count": 52,
   "id": "6d28e97c",
   "metadata": {
    "cell_style": "split",
    "slideshow": {
     "slide_type": "fragment"
    }
   },
   "outputs": [
    {
     "data": {
      "text/plain": [
       "'Flavour Profile'"
      ]
     },
     "execution_count": 52,
     "metadata": {},
     "output_type": "execute_result"
    }
   ],
   "source": [
    "header_text = flavorheader.text\n",
    "header_text"
   ]
  },
  {
   "cell_type": "markdown",
   "id": "533cd839",
   "metadata": {
    "slideshow": {
     "slide_type": "subslide"
    }
   },
   "source": [
    "- the corresponding content is in a div with class = \"flavour-profile\"\n",
    "- let's access this"
   ]
  },
  {
   "cell_type": "code",
   "execution_count": 56,
   "id": "6f0385f9",
   "metadata": {
    "cell_style": "split",
    "scrolled": true
   },
   "outputs": [
    {
     "name": "stdout",
     "output_type": "stream",
     "text": [
      "<div class=\"flavour-profile\">\n",
      " <div class=\"flavour-profile__group flavour-profile__group--style\">\n",
      "  <h3 class=\"flavour-profile__title\">\n",
      "   Style\n",
      "  </h3>\n",
      "  <ul class=\"flavour-profile__list flavour-profile__list--style\">\n",
      "   <li class=\"flavour-profile__item flavour-profile__item--style\">\n",
      "    <div class=\"flavour-profile__gauge js-flavour-profile__gauge\" data-part=\"4\" data-text=\"4\" data-total=\"5\">\n",
      "    </div>\n",
      "    <span class=\"flavour-profile__label\">\n",
      "     Body\n",
      "    </span>\n",
      "   </li>\n",
      "   <li class=\"flavour-profile__item flavour-profile__item--style\">\n",
      "    <div class=\"flavour-profile__gauge js-flavour-profile__gauge\" data-part=\"4\" data-text=\"4\" data-total=\"5\">\n",
      "    </div>\n",
      "    <span class=\"flavour-profile__label\">\n",
      "     Richness\n",
      "    </span>\n",
      "   </li>\n",
      "   <li class=\"flavour-profile__item flavour-profile__item--style\">\n",
      "    <div class=\"flavour-profile__gauge js-flavour-profile__gauge\" data-part=\"5\" data-text=\"5\" data-total=\"5\">\n",
      "    </div>\n",
      "    <span class=\"flavour-profile__label\">\n",
      "     Smoke\n",
      "    </span>\n",
      "   </li>\n",
      "   <li class=\"flavour-profile__item flavour-profile__item--style\">\n",
      "    <div class=\"flavour-profile__gauge js-flavour-profile__gauge\" data-part=\"2\" data-text=\"2\" data-total=\"5\">\n",
      "    </div>\n",
      "    <span class=\"flavour-profile__label\">\n",
      "     Sweetness\n",
      "    </span>\n",
      "   </li>\n",
      "  </ul>\n",
      " </div>\n",
      " <div class=\"flavour-profile__group flavour-profile__group--character\">\n",
      "  <h3 class=\"flavour-profile__title\">\n",
      "   Character\n",
      "  </h3>\n",
      "  <ul class=\"flavour-profile__list flavour-profile__list--character\">\n",
      "   <li class=\"flavour-profile__item flavour-profile__item--character\">\n",
      "    <img alt=\"Honey \" class=\"flavour-profile__image\" height=\"180\" loading=\"lazy\" src=\"/media/rtwe/uploads/flavour/honey.png\" width=\"180\"/>\n",
      "    <span class=\"flavour-profile__label\">\n",
      "     Honey\n",
      "    </span>\n",
      "   </li>\n",
      "   <li class=\"flavour-profile__item flavour-profile__item--character\">\n",
      "    <img alt=\"Malt\" class=\"flavour-profile__image\" height=\"180\" loading=\"lazy\" src=\"/media/rtwe/uploads/flavour/malt.png\" width=\"180\"/>\n",
      "    <span class=\"flavour-profile__label\">\n",
      "     Malt\n",
      "    </span>\n",
      "   </li>\n",
      "   <li class=\"flavour-profile__item flavour-profile__item--character\">\n",
      "    <img alt=\"Fruit Cake\" class=\"flavour-profile__image\" height=\"180\" loading=\"lazy\" src=\"/media/rtwe/uploads/flavour/fruitcake.png\" width=\"180\"/>\n",
      "    <span class=\"flavour-profile__label\">\n",
      "     Fruit Cake\n",
      "    </span>\n",
      "   </li>\n",
      "   <li class=\"flavour-profile__item flavour-profile__item--character\">\n",
      "    <img alt=\"Meat\" class=\"flavour-profile__image\" height=\"180\" loading=\"lazy\" src=\"/media/rtwe/uploads/flavour/meat.png\" width=\"180\"/>\n",
      "    <span class=\"flavour-profile__label\">\n",
      "     Meat\n",
      "    </span>\n",
      "   </li>\n",
      "  </ul>\n",
      " </div>\n",
      "</div>\n",
      "\n"
     ]
    }
   ],
   "source": [
    "flavor_content = ardbeg_soup.find(\n",
    "    'div', class_ = \"flavour-profile\")\n",
    "\n",
    "print(flavor_content.prettify())"
   ]
  },
  {
   "cell_type": "markdown",
   "id": "fb0b978f",
   "metadata": {
    "cell_style": "split"
   },
   "source": [
    "The whisky has four flavor scores that we are interested in extracting:\n",
    "- Body\n",
    "- Richness\n",
    "- Smoke\n",
    "- Sweetness\n",
    "\n",
    "These are contained in the first of the children div nodes."
   ]
  },
  {
   "cell_type": "markdown",
   "id": "8bb2b3d3",
   "metadata": {
    "slideshow": {
     "slide_type": "slide"
    }
   },
   "source": [
    "A list with the strength of various taste characteristics:"
   ]
  },
  {
   "cell_type": "code",
   "execution_count": 60,
   "id": "629c24af",
   "metadata": {
    "cell_style": "center",
    "slideshow": {
     "slide_type": "-"
    }
   },
   "outputs": [
    {
     "data": {
      "text/plain": [
       "<div class=\"flavour-profile__group flavour-profile__group--style\">\n",
       "<h3 class=\"flavour-profile__title\">Style</h3>\n",
       "<ul class=\"flavour-profile__list flavour-profile__list--style\">\n",
       "<li class=\"flavour-profile__item flavour-profile__item--style\">\n",
       "<div class=\"flavour-profile__gauge js-flavour-profile__gauge\" data-part=\"4\" data-text=\"4\" data-total=\"5\"></div>\n",
       "<span class=\"flavour-profile__label\">Body</span>\n",
       "</li>\n",
       "<li class=\"flavour-profile__item flavour-profile__item--style\">\n",
       "<div class=\"flavour-profile__gauge js-flavour-profile__gauge\" data-part=\"4\" data-text=\"4\" data-total=\"5\"></div>\n",
       "<span class=\"flavour-profile__label\">Richness</span>\n",
       "</li>\n",
       "<li class=\"flavour-profile__item flavour-profile__item--style\">\n",
       "<div class=\"flavour-profile__gauge js-flavour-profile__gauge\" data-part=\"5\" data-text=\"5\" data-total=\"5\"></div>\n",
       "<span class=\"flavour-profile__label\">Smoke</span>\n",
       "</li>\n",
       "<li class=\"flavour-profile__item flavour-profile__item--style\">\n",
       "<div class=\"flavour-profile__gauge js-flavour-profile__gauge\" data-part=\"2\" data-text=\"2\" data-total=\"5\"></div>\n",
       "<span class=\"flavour-profile__label\">Sweetness</span>\n",
       "</li>\n",
       "</ul>\n",
       "</div>"
      ]
     },
     "execution_count": 60,
     "metadata": {},
     "output_type": "execute_result"
    }
   ],
   "source": [
    "flavor_style = flavor_content.div\n",
    "flavor_style"
   ]
  },
  {
   "cell_type": "markdown",
   "id": "55cc1827",
   "metadata": {
    "slideshow": {
     "slide_type": "slide"
    }
   },
   "source": [
    "Ther is another sibling div that contains other information:\n",
    "- A list with similar taste descriptors"
   ]
  },
  {
   "cell_type": "code",
   "execution_count": 65,
   "id": "16798922",
   "metadata": {
    "slideshow": {
     "slide_type": "-"
    }
   },
   "outputs": [
    {
     "data": {
      "text/plain": [
       "<div class=\"flavour-profile__group flavour-profile__group--character\">\n",
       "<h3 class=\"flavour-profile__title\">Character</h3>\n",
       "<ul class=\"flavour-profile__list flavour-profile__list--character\">\n",
       "<li class=\"flavour-profile__item flavour-profile__item--character\">\n",
       "<img alt=\"Honey \" class=\"flavour-profile__image\" height=\"180\" loading=\"lazy\" src=\"/media/rtwe/uploads/flavour/honey.png\" width=\"180\"/>\n",
       "<span class=\"flavour-profile__label\">Honey </span>\n",
       "</li>\n",
       "<li class=\"flavour-profile__item flavour-profile__item--character\">\n",
       "<img alt=\"Malt\" class=\"flavour-profile__image\" height=\"180\" loading=\"lazy\" src=\"/media/rtwe/uploads/flavour/malt.png\" width=\"180\"/>\n",
       "<span class=\"flavour-profile__label\">Malt</span>\n",
       "</li>\n",
       "<li class=\"flavour-profile__item flavour-profile__item--character\">\n",
       "<img alt=\"Fruit Cake\" class=\"flavour-profile__image\" height=\"180\" loading=\"lazy\" src=\"/media/rtwe/uploads/flavour/fruitcake.png\" width=\"180\"/>\n",
       "<span class=\"flavour-profile__label\">Fruit Cake</span>\n",
       "</li>\n",
       "<li class=\"flavour-profile__item flavour-profile__item--character\">\n",
       "<img alt=\"Meat\" class=\"flavour-profile__image\" height=\"180\" loading=\"lazy\" src=\"/media/rtwe/uploads/flavour/meat.png\" width=\"180\"/>\n",
       "<span class=\"flavour-profile__label\">Meat</span>\n",
       "</li>\n",
       "</ul>\n",
       "</div>"
      ]
     },
     "execution_count": 65,
     "metadata": {},
     "output_type": "execute_result"
    }
   ],
   "source": [
    "# first sibiling is a \\n character\n",
    "flavor_style.next_sibling.next_sibling"
   ]
  },
  {
   "cell_type": "code",
   "execution_count": 66,
   "id": "1016a173",
   "metadata": {
    "slideshow": {
     "slide_type": "slide"
    }
   },
   "outputs": [
    {
     "name": "stdout",
     "output_type": "stream",
     "text": [
      "<div class=\"flavour-profile__group flavour-profile__group--style\">\n",
      " <h3 class=\"flavour-profile__title\">\n",
      "  Style\n",
      " </h3>\n",
      " <ul class=\"flavour-profile__list flavour-profile__list--style\">\n",
      "  <li class=\"flavour-profile__item flavour-profile__item--style\">\n",
      "   <div class=\"flavour-profile__gauge js-flavour-profile__gauge\" data-part=\"4\" data-text=\"4\" data-total=\"5\">\n",
      "   </div>\n",
      "   <span class=\"flavour-profile__label\">\n",
      "    Body\n",
      "   </span>\n",
      "  </li>\n",
      "  <li class=\"flavour-profile__item flavour-profile__item--style\">\n",
      "   <div class=\"flavour-profile__gauge js-flavour-profile__gauge\" data-part=\"4\" data-text=\"4\" data-total=\"5\">\n",
      "   </div>\n",
      "   <span class=\"flavour-profile__label\">\n",
      "    Richness\n",
      "   </span>\n",
      "  </li>\n",
      "  <li class=\"flavour-profile__item flavour-profile__item--style\">\n",
      "   <div class=\"flavour-profile__gauge js-flavour-profile__gauge\" data-part=\"5\" data-text=\"5\" data-total=\"5\">\n",
      "   </div>\n",
      "   <span class=\"flavour-profile__label\">\n",
      "    Smoke\n",
      "   </span>\n",
      "  </li>\n",
      "  <li class=\"flavour-profile__item flavour-profile__item--style\">\n",
      "   <div class=\"flavour-profile__gauge js-flavour-profile__gauge\" data-part=\"2\" data-text=\"2\" data-total=\"5\">\n",
      "   </div>\n",
      "   <span class=\"flavour-profile__label\">\n",
      "    Sweetness\n",
      "   </span>\n",
      "  </li>\n",
      " </ul>\n",
      "</div>\n",
      "\n"
     ]
    }
   ],
   "source": [
    "print(flavor_style.prettify())"
   ]
  },
  {
   "cell_type": "markdown",
   "id": "be9e60a1",
   "metadata": {
    "cell_style": "center",
    "slideshow": {
     "slide_type": "slide"
    }
   },
   "source": [
    "Get the keys for the flavor profile:\n",
    "- Contained as text in span of class=\"flavour-profile__label\""
   ]
  },
  {
   "cell_type": "code",
   "execution_count": 67,
   "id": "b88fce2f",
   "metadata": {
    "cell_style": "split",
    "slideshow": {
     "slide_type": "fragment"
    }
   },
   "outputs": [],
   "source": [
    "flav_key_spans  = \\\n",
    "flavor_style.find_all(\n",
    "    'span', class_ = 'flavour-profile__label')"
   ]
  },
  {
   "cell_type": "code",
   "execution_count": 69,
   "id": "7335c43c",
   "metadata": {
    "cell_style": "split",
    "slideshow": {
     "slide_type": "fragment"
    }
   },
   "outputs": [
    {
     "data": {
      "text/plain": [
       "['Body', 'Richness', 'Smoke', 'Sweetness']"
      ]
     },
     "execution_count": 69,
     "metadata": {},
     "output_type": "execute_result"
    }
   ],
   "source": [
    "flav_profile_keys = \\\n",
    "[ span.text for span in flav_key_spans ]\n",
    "flav_profile_keys"
   ]
  },
  {
   "cell_type": "markdown",
   "id": "22608582",
   "metadata": {
    "cell_style": "split",
    "slideshow": {
     "slide_type": "slide"
    }
   },
   "source": [
    "For getting the values:\n",
    "- Value is inside the tag as the data-text attribute\n",
    "\n",
    "**How can we extract it**?"
   ]
  },
  {
   "cell_type": "code",
   "execution_count": 76,
   "id": "570db9a0",
   "metadata": {
    "cell_style": "split",
    "slideshow": {
     "slide_type": "-"
    }
   },
   "outputs": [
    {
     "data": {
      "text/plain": [
       "[<div class=\"flavour-profile__gauge js-flavour-profile__gauge\" data-part=\"4\" data-text=\"4\" data-total=\"5\"></div>,\n",
       " <div class=\"flavour-profile__gauge js-flavour-profile__gauge\" data-part=\"4\" data-text=\"4\" data-total=\"5\"></div>,\n",
       " <div class=\"flavour-profile__gauge js-flavour-profile__gauge\" data-part=\"5\" data-text=\"5\" data-total=\"5\"></div>,\n",
       " <div class=\"flavour-profile__gauge js-flavour-profile__gauge\" data-part=\"2\" data-text=\"2\" data-total=\"5\"></div>]"
      ]
     },
     "execution_count": 76,
     "metadata": {},
     "output_type": "execute_result"
    }
   ],
   "source": [
    "flav_profile_gauges = \\\n",
    "flavor_style.find_all(\n",
    "    'div', class_ = 'flavour-profile__gauge')\n",
    "\n",
    "flav_profile_gauges"
   ]
  },
  {
   "cell_type": "markdown",
   "id": "b56534cb",
   "metadata": {
    "cell_style": "split",
    "slideshow": {
     "slide_type": "slide"
    }
   },
   "source": [
    "Tags are addressable as dictionaries:\n",
    "- tag attribute name is key"
   ]
  },
  {
   "cell_type": "code",
   "execution_count": 78,
   "id": "239a60a1",
   "metadata": {
    "cell_style": "split",
    "slideshow": {
     "slide_type": "-"
    }
   },
   "outputs": [
    {
     "data": {
      "text/plain": [
       "<div class=\"flavour-profile__gauge js-flavour-profile__gauge\" data-part=\"4\" data-text=\"4\" data-total=\"5\"></div>"
      ]
     },
     "execution_count": 78,
     "metadata": {},
     "output_type": "execute_result"
    }
   ],
   "source": [
    "flav_profile_gauges[0]"
   ]
  },
  {
   "cell_type": "code",
   "execution_count": 80,
   "id": "3f1b9bfd",
   "metadata": {
    "cell_style": "center",
    "slideshow": {
     "slide_type": "-"
    }
   },
   "outputs": [
    {
     "data": {
      "text/plain": [
       "'4'"
      ]
     },
     "execution_count": 80,
     "metadata": {},
     "output_type": "execute_result"
    }
   ],
   "source": [
    "flav_profile_gauges[0]['data-text']"
   ]
  },
  {
   "cell_type": "markdown",
   "id": "242ebcef",
   "metadata": {
    "slideshow": {
     "slide_type": "slide"
    }
   },
   "source": [
    "Extracting the values for the flavor profile is straightforward:"
   ]
  },
  {
   "cell_type": "code",
   "execution_count": 84,
   "id": "9e61393c",
   "metadata": {
    "cell_style": "center",
    "slideshow": {
     "slide_type": "-"
    }
   },
   "outputs": [
    {
     "data": {
      "text/plain": [
       "['4', '4', '5', '2']"
      ]
     },
     "execution_count": 84,
     "metadata": {},
     "output_type": "execute_result"
    }
   ],
   "source": [
    "value_list = [gauge['data-text'] for gauge in flav_profile_gauges]\n",
    "value_list"
   ]
  },
  {
   "cell_type": "code",
   "execution_count": null,
   "id": "1ba57e48",
   "metadata": {
    "cell_style": "split"
   },
   "outputs": [],
   "source": [
    "# Zipping this together and making a dictionary\n",
    "flav_dict = \\\n",
    "dict(zip(flav_profile_keys, value_list))\n",
    "\n",
    "flav_dict"
   ]
  },
  {
   "cell_type": "markdown",
   "id": "8235281b",
   "metadata": {
    "cell_style": "split"
   },
   "source": [
    "And we can update our data dictionary:"
   ]
  },
  {
   "cell_type": "code",
   "execution_count": 91,
   "id": "519f071e",
   "metadata": {
    "cell_style": "split"
   },
   "outputs": [
    {
     "data": {
      "text/plain": [
       "{'Bottler': 'Distillery Bottling',\n",
       " 'Country': 'Scotland',\n",
       " 'Region': 'Islay',\n",
       " 'Chill Filtered': 'No',\n",
       " 'Colouring': 'Yes',\n",
       " 'Certification': 'Vegan',\n",
       " 'Body': '4',\n",
       " 'Richness': '4',\n",
       " 'Smoke': '5',\n",
       " 'Sweetness': '2'}"
      ]
     },
     "execution_count": 91,
     "metadata": {},
     "output_type": "execute_result"
    }
   ],
   "source": [
    "# and we can update our data dictionary\n",
    "data_dict.update(flav_dict)\n",
    "\n",
    "data_dict"
   ]
  },
  {
   "cell_type": "markdown",
   "id": "2f60473d",
   "metadata": {
    "cell_style": "split",
    "slideshow": {
     "slide_type": "slide"
    }
   },
   "source": [
    "There are many places where we can get the name of the Whisky:\n",
    "- A meta tag below the html level\n",
    "- with attributes name = 'twitter:title' and content = \"Ardbeg Uigeadail\""
   ]
  },
  {
   "cell_type": "markdown",
   "id": "aa82a335",
   "metadata": {
    "cell_style": "split",
    "slideshow": {
     "slide_type": "fragment"
    }
   },
   "source": [
    ".find() and .find_all()\n",
    "- has way to select a tag by attributes\n",
    "- attrs takes in a dictionary of attributes"
   ]
  },
  {
   "cell_type": "code",
   "execution_count": 100,
   "id": "3df15896",
   "metadata": {
    "slideshow": {
     "slide_type": "fragment"
    }
   },
   "outputs": [
    {
     "data": {
      "text/plain": [
       "<meta content=\"Ardbeg Uigeadail\" name=\"twitter:title\"/>"
      ]
     },
     "execution_count": 100,
     "metadata": {},
     "output_type": "execute_result"
    }
   ],
   "source": [
    "name_meta_tag = ardbeg_soup.html.find('meta', attrs = {'name': 'twitter:title'})\n",
    "name_meta_tag"
   ]
  },
  {
   "cell_type": "markdown",
   "id": "82a3fd74",
   "metadata": {},
   "source": [
    "Extract the content attribute from tag:\n",
    "- update data dictionary"
   ]
  },
  {
   "cell_type": "code",
   "execution_count": 101,
   "id": "89d4af8d",
   "metadata": {
    "cell_style": "split"
   },
   "outputs": [
    {
     "data": {
      "text/plain": [
       "'Ardbeg Uigeadail'"
      ]
     },
     "execution_count": 101,
     "metadata": {},
     "output_type": "execute_result"
    }
   ],
   "source": [
    "name_meta_tag['content']"
   ]
  },
  {
   "cell_type": "code",
   "execution_count": 103,
   "id": "ea4867ba",
   "metadata": {
    "cell_style": "split"
   },
   "outputs": [
    {
     "data": {
      "text/plain": [
       "{'Bottler': 'Distillery Bottling',\n",
       " 'Country': 'Scotland',\n",
       " 'Region': 'Islay',\n",
       " 'Chill Filtered': 'No',\n",
       " 'Colouring': 'Yes',\n",
       " 'Certification': 'Vegan',\n",
       " 'Body': '4',\n",
       " 'Richness': '4',\n",
       " 'Smoke': '5',\n",
       " 'Sweetness': '2',\n",
       " 'name': 'Ardbeg Uigeadail'}"
      ]
     },
     "execution_count": 103,
     "metadata": {},
     "output_type": "execute_result"
    }
   ],
   "source": [
    "data_dict.update(\n",
    "    {'name': name_meta_tag['content'] })\n",
    "\n",
    "data_dict"
   ]
  },
  {
   "cell_type": "markdown",
   "id": "50c2ba55",
   "metadata": {
    "cell_style": "split",
    "slideshow": {
     "slide_type": "slide"
    }
   },
   "source": [
    "A lot of:\n",
    "- html tree traversing\n",
    "- exploring scheme\n",
    "- searches to extract data"
   ]
  },
  {
   "cell_type": "markdown",
   "id": "57e73348",
   "metadata": {
    "cell_style": "split",
    "slideshow": {
     "slide_type": "subslide"
    }
   },
   "source": [
    "When each product site has same tagging structure:\n",
    "\n",
    "- Build function that extracts data like we did.\n",
    "- Can be used while looping through multiple products."
   ]
  },
  {
   "cell_type": "markdown",
   "id": "80af46da",
   "metadata": {
    "slideshow": {
     "slide_type": "slide"
    }
   },
   "source": [
    "#### Build Function"
   ]
  },
  {
   "cell_type": "code",
   "execution_count": 108,
   "id": "d0889fdf",
   "metadata": {
    "slideshow": {
     "slide_type": "subslide"
    }
   },
   "outputs": [],
   "source": [
    "def extract_data_dict(product_page):\n",
    "    \n",
    "    data_dict = {}\n",
    "    product_req = requests.get(product_page)\n",
    "    product_soup = BeautifulSoup(product_req.content)\n",
    "    \n",
    "    # get name\n",
    "    name_meta_tag = product_soup.html.find('meta', attrs = {'name': 'twitter:title'})\n",
    "    data_dict.update({'name': name_meta_tag['content'] })\n",
    "    \n",
    "    # get product facts and extract information\n",
    "\n",
    "    prod_fact = product_soup.find('ul', class_ = \"product-facts\" )\n",
    "    \n",
    "    # loops through to update data_dict with bottling information\n",
    "    for elem in prod_fact.find_all('li'):\n",
    "    \n",
    "        detail_key = elem.find('h3', class_ = \"product-facts__type\").text\n",
    "        detail_val = elem.find('p', class_ = \"product-facts__data\").text\n",
    "        data_dict.update({detail_key: detail_val})\n",
    "    \n",
    "    # get flavor ratings\n",
    "    flavor_style = product_soup.find('div', class_ = \"flavour-profile\").div\n",
    "    flav_profile_keys = [ span.text for span in flavor_style.find_all('span', class_ = 'flavour-profile__label') ]\n",
    "    value_list = [gauge['data-text'] for gauge in flavor_style.find_all('div', class_ = 'flavour-profile__gauge')]\n",
    "    data_dict.update(dict(zip(flav_profile_keys, value_list)))\n",
    "\n",
    "    return data_dict"
   ]
  },
  {
   "cell_type": "markdown",
   "id": "d6117108",
   "metadata": {
    "slideshow": {
     "slide_type": "slide"
    }
   },
   "source": [
    "Use function on a product page url:"
   ]
  },
  {
   "cell_type": "code",
   "execution_count": 110,
   "id": "28142fd9",
   "metadata": {
    "slideshow": {
     "slide_type": "fragment"
    }
   },
   "outputs": [
    {
     "data": {
      "text/plain": [
       "{'name': 'Ardbeg Uigeadail',\n",
       " 'Bottler': 'Distillery Bottling',\n",
       " 'Country': 'Scotland',\n",
       " 'Region': 'Islay',\n",
       " 'Chill Filtered': 'No',\n",
       " 'Colouring': 'Yes',\n",
       " 'Certification': 'Vegan',\n",
       " 'Body': '4',\n",
       " 'Richness': '4',\n",
       " 'Smoke': '5',\n",
       " 'Sweetness': '2'}"
      ]
     },
     "execution_count": 110,
     "metadata": {},
     "output_type": "execute_result"
    }
   ],
   "source": [
    "extract_data_dict('https://www.thewhiskyexchange.com/p/114/ardbeg-uigeadail')"
   ]
  },
  {
   "cell_type": "markdown",
   "id": "87601bda",
   "metadata": {
    "slideshow": {
     "slide_type": "slide"
    }
   },
   "source": [
    "#### Crawling a page of products"
   ]
  },
  {
   "cell_type": "markdown",
   "id": "3d5fb2fc",
   "metadata": {
    "cell_style": "center",
    "slideshow": {
     "slide_type": "fragment"
    }
   },
   "source": [
    "Let's end this by applying our function to a page with a list of products:\n",
    "- need to extract product list\n",
    "- get link urls\n",
    "- apply our function to the link urls."
   ]
  },
  {
   "cell_type": "code",
   "execution_count": null,
   "id": "c5b0ccd7",
   "metadata": {
    "cell_style": "center",
    "slideshow": {
     "slide_type": "fragment"
    }
   },
   "outputs": [],
   "source": [
    "Soupify the products page."
   ]
  },
  {
   "cell_type": "code",
   "execution_count": 137,
   "id": "5ded80ad",
   "metadata": {
    "cell_style": "center"
   },
   "outputs": [],
   "source": [
    "scotchproducts_page = \"https://www.thewhiskyexchange.com/c/40/single-malt-scotch-whisky\"\n",
    "prodpage_req = requests.get(scotchproducts_page)\n",
    "scotchproducts_soup = BeautifulSoup(prodpage_req.content)"
   ]
  },
  {
   "cell_type": "markdown",
   "id": "8b2d1c39",
   "metadata": {
    "cell_style": "center",
    "slideshow": {
     "slide_type": "slide"
    }
   },
   "source": [
    "Parse the source code and get a list of the product urls:"
   ]
  },
  {
   "cell_type": "code",
   "execution_count": 144,
   "id": "502ba269",
   "metadata": {
    "scrolled": true,
    "slideshow": {
     "slide_type": "fragment"
    }
   },
   "outputs": [
    {
     "data": {
      "text/plain": [
       "['https://www.thewhiskyexchange.com//p/47802/deanston-18-year-old',\n",
       " 'https://www.thewhiskyexchange.com//p/3121/lagavulin-16-year-old',\n",
       " 'https://www.thewhiskyexchange.com//p/60567/balvenie-21-year-old-second-red-rose-stories',\n",
       " 'https://www.thewhiskyexchange.com//p/3512/macallan-12-year-old-sherry-oak',\n",
       " 'https://www.thewhiskyexchange.com//p/52345/mortlach-15-year-old-game-of-thrones-six-kingdoms',\n",
       " 'https://www.thewhiskyexchange.com//p/63743/laphroaig-10-year-old-cask-strength-batch-014-bot2021',\n",
       " 'https://www.thewhiskyexchange.com//p/232/arran-10-year-old',\n",
       " 'https://www.thewhiskyexchange.com//p/34537/macallan-12-year-old-double-cask',\n",
       " 'https://www.thewhiskyexchange.com//p/284/balvenie-12-year-old-doublewood',\n",
       " 'https://www.thewhiskyexchange.com//p/9731/glendronach-15-year-old-revival-sherry-cask']"
      ]
     },
     "execution_count": 144,
     "metadata": {},
     "output_type": "execute_result"
    }
   ],
   "source": [
    "li_items = scotchproducts_soup.find_all('li', class_=\"product-grid__item\")\n",
    "prod_urls = [ 'https://www.thewhiskyexchange.com/' + elem.a['href'] for elem in li_items][0:10]\n",
    "prod_urls"
   ]
  },
  {
   "cell_type": "markdown",
   "id": "2d4aaae7",
   "metadata": {
    "cell_style": "split",
    "slideshow": {
     "slide_type": "slide"
    }
   },
   "source": [
    "Now apply our function:\n",
    "- Thread it through the list\n",
    "- map() is useful here.\n",
    "\n",
    "A list of dicts."
   ]
  },
  {
   "cell_type": "code",
   "execution_count": 147,
   "id": "867d3371",
   "metadata": {
    "cell_style": "split"
   },
>>>>>>> 391e1cfc4f1f39e72d0f17845d5775aa0d6debea
   "outputs": [
    {
     "data": {
      "text/plain": [
       "[{'name': 'Deanston 18 Year Old',\n",
       "  'Bottler': 'Distillery Bottling',\n",
       "  'Age': '18 Year Old',\n",
       "  'Country': 'Scotland',\n",
       "  'Region': 'Highland',\n",
       "  'Cask Type': 'First-Fill Bourbon',\n",
       "  'Chill Filtered': 'No',\n",
       "  'Body': '3',\n",
       "  'Richness': '4',\n",
       "  'Smoke': '0',\n",
       "  'Sweetness': '3'},\n",
       " {'name': 'Lagavulin 16 Year Old',\n",
       "  'Bottler': 'Distillery Bottling',\n",
       "  'Age': '16 Year Old',\n",
       "  'Country': 'Scotland',\n",
       "  'Region': 'Islay',\n",
       "  'Colouring': 'Yes',\n",
       "  'Body': '4',\n",
       "  'Richness': '3',\n",
       "  'Smoke': '4',\n",
       "  'Sweetness': '3'},\n",
       " {'name': 'Balvenie 21 Year Old - Second Red Rose - Stories',\n",
       "  'Bottler': 'Distillery Bottling',\n",
       "  'Age': '21 Year Old',\n",
       "  'Country': 'Scotland',\n",
       "  'Region': 'Speyside',\n",
       "  'Cask Type': 'Australian Shiraz Wine Finish',\n",
       "  'Body': '3',\n",
       "  'Richness': '3',\n",
       "  'Smoke': '0',\n",
       "  'Sweetness': '3'},\n",
       " {'name': 'Macallan 12 Year Old - Sherry Oak',\n",
       "  'Bottler': 'Distillery Bottling',\n",
       "  'Age': '12 Year Old',\n",
       "  'Country': 'Scotland',\n",
       "  'Region': 'Speyside',\n",
       "  'Cask Type': 'Sherry',\n",
       "  'Colouring': 'No',\n",
       "  'Body': '3',\n",
       "  'Richness': '3',\n",
       "  'Smoke': '1',\n",
       "  'Sweetness': '2'},\n",
       " {'name': 'Mortlach 15 Year Old - Game of Thrones Six Kingdoms',\n",
       "  'Bottler': 'Distillery Bottling',\n",
       "  'Age': '15 Year Old',\n",
       "  'Country': 'Scotland',\n",
       "  'Region': 'Speyside',\n",
       "  'Cask Type': 'Bourbon Barrel Finish',\n",
       "  'Body': '4',\n",
       "  'Richness': '3',\n",
       "  'Smoke': '0',\n",
       "  'Sweetness': '3'},\n",
       " {'name': 'Laphroaig 10 Year Old - Cask Strength - Batch 014 - Bot.2021',\n",
       "  'Bottler': 'Distillery Bottling',\n",
       "  'Age': '10 Year Old',\n",
       "  'Bottling Date': 'June 2021',\n",
       "  'Country': 'Scotland',\n",
       "  'Region': 'Islay',\n",
       "  'Body': '4',\n",
       "  'Richness': '2',\n",
       "  'Smoke': '4',\n",
       "  'Sweetness': '3'},\n",
       " {'name': 'Arran 10 Year Old',\n",
       "  'Bottler': 'Distillery Bottling',\n",
       "  'Age': '10 Year Old',\n",
       "  'Country': 'Scotland',\n",
       "  'Region': 'Island',\n",
       "  'Chill Filtered': 'No',\n",
       "  'Colouring': 'No',\n",
       "  'Body': '2',\n",
       "  'Richness': '2',\n",
       "  'Smoke': '0',\n",
       "  'Sweetness': '2'},\n",
       " {'name': 'Macallan 12 Year Old Double Cask',\n",
       "  'Bottler': 'Distillery Bottling',\n",
       "  'Age': '12 Year Old',\n",
       "  'Country': 'Scotland',\n",
       "  'Region': 'Speyside',\n",
       "  'Cask Type': 'Oloroso Sherry',\n",
       "  'Colouring': 'No',\n",
       "  'Body': '3',\n",
       "  'Richness': '3',\n",
       "  'Smoke': '0',\n",
       "  'Sweetness': '2'},\n",
       " {'name': 'Balvenie 12 Year Old DoubleWood',\n",
       "  'Bottler': 'Distillery Bottling',\n",
       "  'Age': '12 Year Old',\n",
       "  'Country': 'Scotland',\n",
       "  'Region': 'Speyside',\n",
       "  'Cask Type': 'Sherry Finish',\n",
       "  'Colouring': 'Yes',\n",
       "  'Body': '3',\n",
       "  'Richness': '4',\n",
       "  'Smoke': '0',\n",
       "  'Sweetness': '4'},\n",
       " {'name': 'Glendronach 15 Year Old Revival - Sherry Cask',\n",
       "  'Bottler': 'Distillery Bottling',\n",
       "  'Age': '15 Year Old',\n",
       "  'Country': 'Scotland',\n",
       "  'Region': 'Highland',\n",
       "  'Cask Type': 'Sherry',\n",
       "  'Colouring': 'No',\n",
       "  'Body': '4',\n",
       "  'Richness': '4',\n",
       "  'Smoke': '0',\n",
       "  'Sweetness': '2'}]"
      ]
     },
     "execution_count": 147,
     "metadata": {},
     "output_type": "execute_result"
    }
   ],
   "source": [
    "extracted_data = \\\n",
    "list(map(extract_data_dict, prod_urls))\n",
    "\n",
    "extracted_data"
   ]
  },
  {
   "cell_type": "markdown",
   "id": "67d0f451",
   "metadata": {},
   "source": [
    "This is a tabular format:\n",
    "- put this in a dataframe.\n",
    "- can save to csv, etc."
   ]
  },
  {
   "cell_type": "code",
   "execution_count": 156,
   "id": "f982da09",
   "metadata": {
    "cell_style": "center",
    "scrolled": true
   },
   "outputs": [
    {
     "data": {
      "text/html": [
       "<div>\n",
       "<style scoped>\n",
       "    .dataframe tbody tr th:only-of-type {\n",
       "        vertical-align: middle;\n",
       "    }\n",
       "\n",
       "    .dataframe tbody tr th {\n",
       "        vertical-align: top;\n",
       "    }\n",
       "\n",
       "    .dataframe thead th {\n",
       "        text-align: right;\n",
       "    }\n",
       "</style>\n",
       "<table border=\"1\" class=\"dataframe\">\n",
       "  <thead>\n",
       "    <tr style=\"text-align: right;\">\n",
       "      <th></th>\n",
       "      <th>name</th>\n",
       "      <th>Bottler</th>\n",
       "      <th>Age</th>\n",
       "      <th>Country</th>\n",
       "      <th>Region</th>\n",
       "      <th>Cask Type</th>\n",
       "      <th>Chill Filtered</th>\n",
       "      <th>Body</th>\n",
       "      <th>Richness</th>\n",
       "      <th>Smoke</th>\n",
       "      <th>Sweetness</th>\n",
       "      <th>Colouring</th>\n",
       "      <th>Bottling Date</th>\n",
       "    </tr>\n",
       "  </thead>\n",
       "  <tbody>\n",
       "    <tr>\n",
       "      <th>0</th>\n",
       "      <td>Deanston 18 Year Old</td>\n",
       "      <td>Distillery Bottling</td>\n",
       "      <td>18 Year Old</td>\n",
       "      <td>Scotland</td>\n",
       "      <td>Highland</td>\n",
       "      <td>First-Fill Bourbon</td>\n",
       "      <td>No</td>\n",
       "      <td>3</td>\n",
       "      <td>4</td>\n",
       "      <td>0</td>\n",
       "      <td>3</td>\n",
       "      <td>NaN</td>\n",
       "      <td>NaN</td>\n",
       "    </tr>\n",
       "    <tr>\n",
       "      <th>1</th>\n",
       "      <td>Lagavulin 16 Year Old</td>\n",
       "      <td>Distillery Bottling</td>\n",
       "      <td>16 Year Old</td>\n",
       "      <td>Scotland</td>\n",
       "      <td>Islay</td>\n",
       "      <td>NaN</td>\n",
       "      <td>NaN</td>\n",
       "      <td>4</td>\n",
       "      <td>3</td>\n",
       "      <td>4</td>\n",
       "      <td>3</td>\n",
       "      <td>Yes</td>\n",
       "      <td>NaN</td>\n",
       "    </tr>\n",
       "    <tr>\n",
       "      <th>2</th>\n",
       "      <td>Balvenie 21 Year Old - Second Red Rose - Stories</td>\n",
       "      <td>Distillery Bottling</td>\n",
       "      <td>21 Year Old</td>\n",
       "      <td>Scotland</td>\n",
       "      <td>Speyside</td>\n",
       "      <td>Australian Shiraz Wine Finish</td>\n",
       "      <td>NaN</td>\n",
       "      <td>3</td>\n",
       "      <td>3</td>\n",
       "      <td>0</td>\n",
       "      <td>3</td>\n",
       "      <td>NaN</td>\n",
       "      <td>NaN</td>\n",
       "    </tr>\n",
       "    <tr>\n",
       "      <th>3</th>\n",
       "      <td>Macallan 12 Year Old - Sherry Oak</td>\n",
       "      <td>Distillery Bottling</td>\n",
       "      <td>12 Year Old</td>\n",
       "      <td>Scotland</td>\n",
       "      <td>Speyside</td>\n",
       "      <td>Sherry</td>\n",
       "      <td>NaN</td>\n",
       "      <td>3</td>\n",
       "      <td>3</td>\n",
       "      <td>1</td>\n",
       "      <td>2</td>\n",
       "      <td>No</td>\n",
       "      <td>NaN</td>\n",
       "    </tr>\n",
       "    <tr>\n",
       "      <th>4</th>\n",
       "      <td>Mortlach 15 Year Old - Game of Thrones Six Kin...</td>\n",
       "      <td>Distillery Bottling</td>\n",
       "      <td>15 Year Old</td>\n",
       "      <td>Scotland</td>\n",
       "      <td>Speyside</td>\n",
       "      <td>Bourbon Barrel Finish</td>\n",
       "      <td>NaN</td>\n",
       "      <td>4</td>\n",
       "      <td>3</td>\n",
       "      <td>0</td>\n",
       "      <td>3</td>\n",
       "      <td>NaN</td>\n",
       "      <td>NaN</td>\n",
       "    </tr>\n",
       "    <tr>\n",
       "      <th>5</th>\n",
       "      <td>Laphroaig 10 Year Old - Cask Strength - Batch ...</td>\n",
       "      <td>Distillery Bottling</td>\n",
       "      <td>10 Year Old</td>\n",
       "      <td>Scotland</td>\n",
       "      <td>Islay</td>\n",
       "      <td>NaN</td>\n",
       "      <td>NaN</td>\n",
       "      <td>4</td>\n",
       "      <td>2</td>\n",
       "      <td>4</td>\n",
       "      <td>3</td>\n",
       "      <td>NaN</td>\n",
       "      <td>June 2021</td>\n",
       "    </tr>\n",
       "    <tr>\n",
       "      <th>6</th>\n",
       "      <td>Arran 10 Year Old</td>\n",
       "      <td>Distillery Bottling</td>\n",
       "      <td>10 Year Old</td>\n",
       "      <td>Scotland</td>\n",
       "      <td>Island</td>\n",
       "      <td>NaN</td>\n",
       "      <td>No</td>\n",
       "      <td>2</td>\n",
       "      <td>2</td>\n",
       "      <td>0</td>\n",
       "      <td>2</td>\n",
       "      <td>No</td>\n",
       "      <td>NaN</td>\n",
       "    </tr>\n",
       "    <tr>\n",
       "      <th>7</th>\n",
       "      <td>Macallan 12 Year Old Double Cask</td>\n",
       "      <td>Distillery Bottling</td>\n",
       "      <td>12 Year Old</td>\n",
       "      <td>Scotland</td>\n",
       "      <td>Speyside</td>\n",
       "      <td>Oloroso Sherry</td>\n",
       "      <td>NaN</td>\n",
       "      <td>3</td>\n",
       "      <td>3</td>\n",
       "      <td>0</td>\n",
       "      <td>2</td>\n",
       "      <td>No</td>\n",
       "      <td>NaN</td>\n",
       "    </tr>\n",
       "    <tr>\n",
       "      <th>8</th>\n",
       "      <td>Balvenie 12 Year Old DoubleWood</td>\n",
       "      <td>Distillery Bottling</td>\n",
       "      <td>12 Year Old</td>\n",
       "      <td>Scotland</td>\n",
       "      <td>Speyside</td>\n",
       "      <td>Sherry Finish</td>\n",
       "      <td>NaN</td>\n",
       "      <td>3</td>\n",
       "      <td>4</td>\n",
       "      <td>0</td>\n",
       "      <td>4</td>\n",
       "      <td>Yes</td>\n",
       "      <td>NaN</td>\n",
       "    </tr>\n",
       "    <tr>\n",
       "      <th>9</th>\n",
       "      <td>Glendronach 15 Year Old Revival - Sherry Cask</td>\n",
       "      <td>Distillery Bottling</td>\n",
       "      <td>15 Year Old</td>\n",
       "      <td>Scotland</td>\n",
       "      <td>Highland</td>\n",
       "      <td>Sherry</td>\n",
       "      <td>NaN</td>\n",
       "      <td>4</td>\n",
       "      <td>4</td>\n",
       "      <td>0</td>\n",
       "      <td>2</td>\n",
       "      <td>No</td>\n",
       "      <td>NaN</td>\n",
       "    </tr>\n",
       "  </tbody>\n",
       "</table>\n",
       "</div>"
      ],
      "text/plain": [
       "                                                name              Bottler  \\\n",
       "0                               Deanston 18 Year Old  Distillery Bottling   \n",
       "1                              Lagavulin 16 Year Old  Distillery Bottling   \n",
       "2   Balvenie 21 Year Old - Second Red Rose - Stories  Distillery Bottling   \n",
       "3                  Macallan 12 Year Old - Sherry Oak  Distillery Bottling   \n",
       "4  Mortlach 15 Year Old - Game of Thrones Six Kin...  Distillery Bottling   \n",
       "5  Laphroaig 10 Year Old - Cask Strength - Batch ...  Distillery Bottling   \n",
       "6                                  Arran 10 Year Old  Distillery Bottling   \n",
       "7                   Macallan 12 Year Old Double Cask  Distillery Bottling   \n",
       "8                    Balvenie 12 Year Old DoubleWood  Distillery Bottling   \n",
       "9      Glendronach 15 Year Old Revival - Sherry Cask  Distillery Bottling   \n",
       "\n",
       "           Age   Country    Region                      Cask Type  \\\n",
       "0  18 Year Old  Scotland  Highland             First-Fill Bourbon   \n",
       "1  16 Year Old  Scotland     Islay                            NaN   \n",
       "2  21 Year Old  Scotland  Speyside  Australian Shiraz Wine Finish   \n",
       "3  12 Year Old  Scotland  Speyside                         Sherry   \n",
       "4  15 Year Old  Scotland  Speyside          Bourbon Barrel Finish   \n",
       "5  10 Year Old  Scotland     Islay                            NaN   \n",
       "6  10 Year Old  Scotland    Island                            NaN   \n",
       "7  12 Year Old  Scotland  Speyside                 Oloroso Sherry   \n",
       "8  12 Year Old  Scotland  Speyside                  Sherry Finish   \n",
       "9  15 Year Old  Scotland  Highland                         Sherry   \n",
       "\n",
       "  Chill Filtered Body Richness Smoke Sweetness Colouring Bottling Date  \n",
       "0             No    3        4     0         3       NaN           NaN  \n",
       "1            NaN    4        3     4         3       Yes           NaN  \n",
       "2            NaN    3        3     0         3       NaN           NaN  \n",
       "3            NaN    3        3     1         2        No           NaN  \n",
       "4            NaN    4        3     0         3       NaN           NaN  \n",
       "5            NaN    4        2     4         3       NaN     June 2021  \n",
       "6             No    2        2     0         2        No           NaN  \n",
       "7            NaN    3        3     0         2        No           NaN  \n",
       "8            NaN    3        4     0         4       Yes           NaN  \n",
       "9            NaN    4        4     0         2        No           NaN  "
      ]
     },
     "execution_count": 156,
     "metadata": {},
     "output_type": "execute_result"
    }
   ],
   "source": [
    "import pandas as pd\n",
    "whisky_df = pd.DataFrame(extracted_data)\n",
    "whisky_df"
   ]
  },
  {
   "cell_type": "markdown",
   "id": "6d5e5b5c",
   "metadata": {
    "cell_style": "split",
    "slideshow": {
     "slide_type": "slide"
    }
   },
   "source": [
    "If you want to scrape the entire set of product pages:\n",
    "- need to loop through product list pages.\n",
    "- extract all urls.\n",
    "- apply function to url list."
   ]
  },
  {
   "cell_type": "markdown",
   "id": "c0ac7f3e",
   "metadata": {
    "cell_style": "split",
    "slideshow": {
     "slide_type": "fragment"
    }
   },
   "source": [
    "**Not always easy**\n",
    "- Some product pages have some tag elements missing\n",
    "- slightly different page structure.\n",
    "- Error handling required."
   ]
  },
  {
   "cell_type": "markdown",
   "id": "212c158b",
   "metadata": {
    "slideshow": {
     "slide_type": "slide"
    }
   },
   "source": [
    "#### A final important etiquette note"
   ]
  },
  {
   "cell_type": "markdown",
   "id": "1a5b0cbd",
   "metadata": {
    "cell_style": "split",
    "slideshow": {
     "slide_type": "fragment"
    }
   },
   "source": [
    "**Throttle requests**\n",
    "- limit the time between each request/product page scrape\n",
    "- server limits scrape rate: \n",
    "    - cut access to you if you scrape too much, too fast"
   ]
  },
  {
   "cell_type": "markdown",
   "id": "626b9e98",
   "metadata": {
    "cell_style": "split",
    "slideshow": {
     "slide_type": "fragment"
    }
   },
   "source": [
    "- time.sleep(t)\n",
    "- t is in seconds\n",
    "\n",
    "Try every second."
   ]
  },
  {
   "cell_type": "code",
<<<<<<< HEAD
   "execution_count": 268,
=======
   "execution_count": 161,
   "id": "3770ea27",
>>>>>>> 391e1cfc4f1f39e72d0f17845d5775aa0d6debea
   "metadata": {
    "slideshow": {
     "slide_type": "slide"
    }
   },
   "outputs": [],
   "source": [
    "import time\n",
    "\n",
    "def extract_data_dict(product_page):\n",
    "    \n",
    "    # essential to not getting blocked by server\n",
    "    time.sleep(1) #this waits 500 ms before executing code\n",
    "    \n",
    "    data_dict = {}\n",
    "    product_req = requests.get(product_page)\n",
    "    product_soup = BeautifulSoup(product_req.content)\n",
    "    \n",
    "    # get name\n",
    "    name_meta_tag = product_soup.html.find('meta', attrs = {'name': 'twitter:title'})\n",
    "    data_dict.update({'name': name_meta_tag['content'] })\n",
    "    \n",
    "    # get product facts and extract information\n",
    "\n",
    "    prod_fact = product_soup.find('ul', class_ = \"product-facts\" )\n",
    "    \n",
    "    # loops through to update data_dict with bottling information\n",
    "    for elem in prod_fact.find_all('li'):\n",
    "    \n",
    "        detail_key = elem.find('h3', class_ = \"product-facts__type\").text\n",
    "        detail_val = elem.find('p', class_ = \"product-facts__data\").text\n",
    "        data_dict.update({detail_key: detail_val})\n",
    "    \n",
    "    # get flavor ratings\n",
    "    flavor_style = product_soup.find('div', class_ = \"flavour-profile\").div\n",
    "    flav_profile_keys = [ span.text for span in flavor_style.find_all('span', class_ = 'flavour-profile__label') ]\n",
    "    value_list = [gauge['data-text'] for gauge in flavor_style.find_all('div', class_ = 'flavour-profile__gauge')]\n",
    "    data_dict.update(dict(zip(flav_profile_keys, value_list)))\n",
    "\n",
    "    return data_dict"
   ]
  },
  {
   "cell_type": "markdown",
   "id": "66d03119",
   "metadata": {
    "slideshow": {
     "slide_type": "slide"
    }
   },
   "source": [
    "Running the data extractor will take more time:"
   ]
  },
  {
   "cell_type": "code",
<<<<<<< HEAD
   "execution_count": 269,
=======
   "execution_count": 162,
   "id": "464705dc",
>>>>>>> 391e1cfc4f1f39e72d0f17845d5775aa0d6debea
   "metadata": {
    "slideshow": {
     "slide_type": "fragment"
    }
   },
   "outputs": [
    {
     "data": {
      "text/plain": [
       "[{'name': 'Deanston 18 Year Old',\n",
       "  'Bottler': 'Distillery Bottling',\n",
       "  'Age': '18 Year Old',\n",
       "  'Country': 'Scotland',\n",
       "  'Region': 'Highland',\n",
       "  'Cask Type': 'First-Fill Bourbon',\n",
       "  'Chill Filtered': 'No',\n",
       "  'Body': '3',\n",
       "  'Richness': '4',\n",
       "  'Smoke': '0',\n",
       "  'Sweetness': '3'},\n",
       " {'name': 'Lagavulin 16 Year Old',\n",
       "  'Bottler': 'Distillery Bottling',\n",
       "  'Age': '16 Year Old',\n",
       "  'Country': 'Scotland',\n",
       "  'Region': 'Islay',\n",
       "  'Colouring': 'Yes',\n",
       "  'Body': '4',\n",
       "  'Richness': '3',\n",
       "  'Smoke': '4',\n",
       "  'Sweetness': '3'},\n",
       " {'name': 'Balvenie 21 Year Old - Second Red Rose - Stories',\n",
       "  'Bottler': 'Distillery Bottling',\n",
       "  'Age': '21 Year Old',\n",
       "  'Country': 'Scotland',\n",
       "  'Region': 'Speyside',\n",
       "  'Cask Type': 'Australian Shiraz Wine Finish',\n",
       "  'Body': '3',\n",
       "  'Richness': '3',\n",
       "  'Smoke': '0',\n",
       "  'Sweetness': '3'},\n",
       " {'name': 'Macallan 12 Year Old - Sherry Oak',\n",
       "  'Bottler': 'Distillery Bottling',\n",
       "  'Age': '12 Year Old',\n",
       "  'Country': 'Scotland',\n",
       "  'Region': 'Speyside',\n",
       "  'Cask Type': 'Sherry',\n",
       "  'Colouring': 'No',\n",
       "  'Body': '3',\n",
       "  'Richness': '3',\n",
       "  'Smoke': '1',\n",
       "  'Sweetness': '2'},\n",
       " {'name': 'Mortlach 15 Year Old - Game of Thrones Six Kingdoms',\n",
       "  'Bottler': 'Distillery Bottling',\n",
       "  'Age': '15 Year Old',\n",
       "  'Country': 'Scotland',\n",
       "  'Region': 'Speyside',\n",
       "  'Cask Type': 'Bourbon Barrel Finish',\n",
       "  'Body': '4',\n",
       "  'Richness': '3',\n",
       "  'Smoke': '0',\n",
       "  'Sweetness': '3'},\n",
       " {'name': 'Laphroaig 10 Year Old - Cask Strength - Batch 014 - Bot.2021',\n",
       "  'Bottler': 'Distillery Bottling',\n",
       "  'Age': '10 Year Old',\n",
       "  'Bottling Date': 'June 2021',\n",
       "  'Country': 'Scotland',\n",
       "  'Region': 'Islay',\n",
       "  'Body': '4',\n",
       "  'Richness': '2',\n",
       "  'Smoke': '4',\n",
       "  'Sweetness': '3'},\n",
       " {'name': 'Arran 10 Year Old',\n",
       "  'Bottler': 'Distillery Bottling',\n",
       "  'Age': '10 Year Old',\n",
       "  'Country': 'Scotland',\n",
       "  'Region': 'Island',\n",
       "  'Chill Filtered': 'No',\n",
       "  'Colouring': 'No',\n",
       "  'Body': '2',\n",
       "  'Richness': '2',\n",
       "  'Smoke': '0',\n",
       "  'Sweetness': '2'},\n",
       " {'name': 'Macallan 12 Year Old Double Cask',\n",
       "  'Bottler': 'Distillery Bottling',\n",
       "  'Age': '12 Year Old',\n",
       "  'Country': 'Scotland',\n",
       "  'Region': 'Speyside',\n",
       "  'Cask Type': 'Oloroso Sherry',\n",
       "  'Colouring': 'No',\n",
       "  'Body': '3',\n",
       "  'Richness': '3',\n",
       "  'Smoke': '0',\n",
       "  'Sweetness': '2'},\n",
       " {'name': 'Balvenie 12 Year Old DoubleWood',\n",
       "  'Bottler': 'Distillery Bottling',\n",
       "  'Age': '12 Year Old',\n",
       "  'Country': 'Scotland',\n",
       "  'Region': 'Speyside',\n",
       "  'Cask Type': 'Sherry Finish',\n",
       "  'Colouring': 'Yes',\n",
       "  'Body': '3',\n",
       "  'Richness': '4',\n",
       "  'Smoke': '0',\n",
       "  'Sweetness': '4'},\n",
       " {'name': 'Glendronach 15 Year Old Revival - Sherry Cask',\n",
       "  'Bottler': 'Distillery Bottling',\n",
       "  'Age': '15 Year Old',\n",
       "  'Country': 'Scotland',\n",
       "  'Region': 'Highland',\n",
       "  'Cask Type': 'Sherry',\n",
       "  'Colouring': 'No',\n",
       "  'Body': '4',\n",
       "  'Richness': '4',\n",
       "  'Smoke': '0',\n",
       "  'Sweetness': '2'}]"
      ]
     },
     "execution_count": 162,
     "metadata": {},
     "output_type": "execute_result"
    }
   ],
   "source": [
    "extracted_data = \\\n",
    "list(map(extract_data_dict, prod_urls))\n",
    "\n",
    "extracted_data"
   ]
  },
  {
   "cell_type": "markdown",
<<<<<<< HEAD
=======
   "id": "e3ee3459",
>>>>>>> 391e1cfc4f1f39e72d0f17845d5775aa0d6debea
   "metadata": {
    "slideshow": {
     "slide_type": "slide"
    }
   },
   "source": [
    "Given:\n",
    "\n",
    "- errors might pop up\n",
    "- connection may be severed\n",
    "- with wait time: takes a long time\n",
    "\n",
    "Good idea to append requested data to a .json or .csv file as you scrape.\n"
   ]
  },
  {
   "cell_type": "markdown",
<<<<<<< HEAD
=======
   "id": "80b70987",
>>>>>>> 391e1cfc4f1f39e72d0f17845d5775aa0d6debea
   "metadata": {
    "cell_style": "center",
    "slideshow": {
     "slide_type": "subslide"
    }
   },
   "source": [
    "#### Challenge #1\n",
    "- write a function that takes in a list of urls and a path name for a .json file\n",
    "- creates empty .json file if it does not exist\n",
    "- applies extract_data_dict to a product url\n",
    "- gets data for one product and appends to json\n",
    "- loops through all urls."
   ]
  },
  {
   "cell_type": "markdown",
   "id": "e5175002",
   "metadata": {
    "slideshow": {
     "slide_type": "subslide"
    }
   },
   "source": [
    "#### Challenge #2\n",
    "\n",
    "- modify extract_data_dict:\n",
    "    - include the character descriptors as a list and update dictionary with {'character': [...]} \n",
    "    - e.g, {'character': ['mint', 'pear', 'cherry', 'chocolate', 'coffee']} \n",
    "- Apply the function of challenge #1 to prod_urls and modification to extracted_data_dict\n",
    "- Send Praveen your resultant .json file"
   ]
  }
 ],
 "metadata": {
  "celltoolbar": "Slideshow",
  "kernelspec": {
   "display_name": "Python 3",
   "language": "python",
   "name": "python3"
  },
  "language_info": {
   "codemirror_mode": {
    "name": "ipython",
    "version": 3
   },
   "file_extension": ".py",
   "mimetype": "text/x-python",
   "name": "python",
   "nbconvert_exporter": "python",
   "pygments_lexer": "ipython3",
   "version": "3.8.5"
  }
 },
 "nbformat": 4,
 "nbformat_minor": 5
}
